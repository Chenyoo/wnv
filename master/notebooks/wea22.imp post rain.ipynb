{
 "cells": [
  {
   "cell_type": "code",
   "execution_count": 1,
   "metadata": {},
   "outputs": [
    {
     "name": "stderr",
     "output_type": "stream",
     "text": [
      "\n",
      "Attaching package: 'dplyr'\n",
      "\n",
      "The following objects are masked from 'package:stats':\n",
      "\n",
      "    filter, lag\n",
      "\n",
      "The following objects are masked from 'package:base':\n",
      "\n",
      "    intersect, setdiff, setequal, union\n",
      "\n",
      "\n",
      "Attaching package: 'data.table'\n",
      "\n",
      "The following objects are masked from 'package:dplyr':\n",
      "\n",
      "    between, first, last\n",
      "\n",
      "Warning message:\n",
      "\"package 'Hmisc' was built under R version 3.5.2\"Loading required package: lattice\n",
      "Loading required package: survival\n",
      "Loading required package: Formula\n",
      "\n",
      "Attaching package: 'Hmisc'\n",
      "\n",
      "The following objects are masked from 'package:dplyr':\n",
      "\n",
      "    src, summarize\n",
      "\n",
      "The following objects are masked from 'package:base':\n",
      "\n",
      "    format.pval, units\n",
      "\n",
      "Loading required package: geepack\n",
      "Loading required package: geeM\n",
      "Loading required package: Matrix\n"
     ]
    }
   ],
   "source": [
    "library(dplyr)\n",
    "library(ggplot2)\n",
    "library(data.table)\n",
    "library(Hmisc)\n",
    "library(MESS)"
   ]
  },
  {
   "cell_type": "code",
   "execution_count": 3,
   "metadata": {},
   "outputs": [],
   "source": [
    "wea22.imp <- read.csv(file=\"C:/Users/Chen/Project/data/wea22.imp.csv\")"
   ]
  },
  {
   "cell_type": "code",
   "execution_count": 4,
   "metadata": {},
   "outputs": [
    {
     "data": {
      "text/html": [
       "<table>\n",
       "<thead><tr><th scope=col>ID</th><th scope=col>Station2</th><th scope=col>Date2</th><th scope=col>Tmax2</th><th scope=col>Tmin2</th><th scope=col>Tavg2</th><th scope=col>DewPoint2</th><th scope=col>WetBulb2</th><th scope=col>Heat2</th><th scope=col>Cool2</th><th scope=col>...</th><th scope=col>RA</th><th scope=col>SN</th><th scope=col>SQ</th><th scope=col>TS</th><th scope=col>TSRA</th><th scope=col>VCFG</th><th scope=col>VCTS</th><th scope=col>Tmax2.imp</th><th scope=col>Tavg2.imp</th><th scope=col>PrecipTotal2.imp</th></tr></thead>\n",
       "<tbody>\n",
       "\t<tr><td>1         </td><td>2         </td><td>2007-05-01</td><td>84        </td><td>52        </td><td>33        </td><td>51        </td><td>26        </td><td> 1        </td><td> 4        </td><td>...       </td><td>0         </td><td>0         </td><td>0         </td><td>0         </td><td>0         </td><td>0         </td><td>0         </td><td>84        </td><td>33.00000  </td><td>0         </td></tr>\n",
       "\t<tr><td>2         </td><td>2         </td><td>2007-05-02</td><td>60        </td><td>43        </td><td>17        </td><td>42        </td><td>16        </td><td> 6        </td><td> 1        </td><td>...       </td><td>0         </td><td>0         </td><td>0         </td><td>0         </td><td>0         </td><td>0         </td><td>0         </td><td>60        </td><td>17.00000  </td><td>0         </td></tr>\n",
       "\t<tr><td>3         </td><td>2         </td><td>2007-05-03</td><td>67        </td><td>48        </td><td>23        </td><td>40        </td><td>19        </td><td>28        </td><td> 1        </td><td>...       </td><td>0         </td><td>0         </td><td>0         </td><td>0         </td><td>0         </td><td>0         </td><td>0         </td><td>67        </td><td>23.00000  </td><td>0         </td></tr>\n",
       "\t<tr><td>4         </td><td>2         </td><td>2007-05-04</td><td>78        </td><td>51        </td><td>NA        </td><td>42        </td><td>19        </td><td>NA        </td><td>NA        </td><td>...       </td><td>0         </td><td>0         </td><td>0         </td><td>0         </td><td>0         </td><td>0         </td><td>0         </td><td>78        </td><td>35.20733  </td><td>0         </td></tr>\n",
       "\t<tr><td>5         </td><td>2         </td><td>2007-05-05</td><td>66        </td><td>54        </td><td>25        </td><td>39        </td><td>19        </td><td>26        </td><td> 1        </td><td>...       </td><td>0         </td><td>0         </td><td>0         </td><td>0         </td><td>0         </td><td>0         </td><td>0         </td><td>66        </td><td>25.00000  </td><td>0         </td></tr>\n",
       "\t<tr><td>6         </td><td>2         </td><td>2007-05-06</td><td>68        </td><td>52        </td><td>25        </td><td>30        </td><td>15        </td><td>26        </td><td> 1        </td><td>...       </td><td>0         </td><td>0         </td><td>0         </td><td>0         </td><td>0         </td><td>0         </td><td>0         </td><td>68        </td><td>25.00000  </td><td>0         </td></tr>\n",
       "</tbody>\n",
       "</table>\n"
      ],
      "text/latex": [
       "\\begin{tabular}{r|llllllllllllllllllllllllllllllllll}\n",
       " ID & Station2 & Date2 & Tmax2 & Tmin2 & Tavg2 & DewPoint2 & WetBulb2 & Heat2 & Cool2 & ... & RA & SN & SQ & TS & TSRA & VCFG & VCTS & Tmax2.imp & Tavg2.imp & PrecipTotal2.imp\\\\\n",
       "\\hline\n",
       "\t 1          & 2          & 2007-05-01 & 84         & 52         & 33         & 51         & 26         &  1         &  4         & ...        & 0          & 0          & 0          & 0          & 0          & 0          & 0          & 84         & 33.00000   & 0         \\\\\n",
       "\t 2          & 2          & 2007-05-02 & 60         & 43         & 17         & 42         & 16         &  6         &  1         & ...        & 0          & 0          & 0          & 0          & 0          & 0          & 0          & 60         & 17.00000   & 0         \\\\\n",
       "\t 3          & 2          & 2007-05-03 & 67         & 48         & 23         & 40         & 19         & 28         &  1         & ...        & 0          & 0          & 0          & 0          & 0          & 0          & 0          & 67         & 23.00000   & 0         \\\\\n",
       "\t 4          & 2          & 2007-05-04 & 78         & 51         & NA         & 42         & 19         & NA         & NA         & ...        & 0          & 0          & 0          & 0          & 0          & 0          & 0          & 78         & 35.20733   & 0         \\\\\n",
       "\t 5          & 2          & 2007-05-05 & 66         & 54         & 25         & 39         & 19         & 26         &  1         & ...        & 0          & 0          & 0          & 0          & 0          & 0          & 0          & 66         & 25.00000   & 0         \\\\\n",
       "\t 6          & 2          & 2007-05-06 & 68         & 52         & 25         & 30         & 15         & 26         &  1         & ...        & 0          & 0          & 0          & 0          & 0          & 0          & 0          & 68         & 25.00000   & 0         \\\\\n",
       "\\end{tabular}\n"
      ],
      "text/markdown": [
       "\n",
       "ID | Station2 | Date2 | Tmax2 | Tmin2 | Tavg2 | DewPoint2 | WetBulb2 | Heat2 | Cool2 | ... | RA | SN | SQ | TS | TSRA | VCFG | VCTS | Tmax2.imp | Tavg2.imp | PrecipTotal2.imp | \n",
       "|---|---|---|---|---|---|\n",
       "| 1          | 2          | 2007-05-01 | 84         | 52         | 33         | 51         | 26         |  1         |  4         | ...        | 0          | 0          | 0          | 0          | 0          | 0          | 0          | 84         | 33.00000   | 0          | \n",
       "| 2          | 2          | 2007-05-02 | 60         | 43         | 17         | 42         | 16         |  6         |  1         | ...        | 0          | 0          | 0          | 0          | 0          | 0          | 0          | 60         | 17.00000   | 0          | \n",
       "| 3          | 2          | 2007-05-03 | 67         | 48         | 23         | 40         | 19         | 28         |  1         | ...        | 0          | 0          | 0          | 0          | 0          | 0          | 0          | 67         | 23.00000   | 0          | \n",
       "| 4          | 2          | 2007-05-04 | 78         | 51         | NA         | 42         | 19         | NA         | NA         | ...        | 0          | 0          | 0          | 0          | 0          | 0          | 0          | 78         | 35.20733   | 0          | \n",
       "| 5          | 2          | 2007-05-05 | 66         | 54         | 25         | 39         | 19         | 26         |  1         | ...        | 0          | 0          | 0          | 0          | 0          | 0          | 0          | 66         | 25.00000   | 0          | \n",
       "| 6          | 2          | 2007-05-06 | 68         | 52         | 25         | 30         | 15         | 26         |  1         | ...        | 0          | 0          | 0          | 0          | 0          | 0          | 0          | 68         | 25.00000   | 0          | \n",
       "\n",
       "\n"
      ],
      "text/plain": [
       "  ID Station2 Date2      Tmax2 Tmin2 Tavg2 DewPoint2 WetBulb2 Heat2 Cool2 ...\n",
       "1 1  2        2007-05-01 84    52    33    51        26        1     4    ...\n",
       "2 2  2        2007-05-02 60    43    17    42        16        6     1    ...\n",
       "3 3  2        2007-05-03 67    48    23    40        19       28     1    ...\n",
       "4 4  2        2007-05-04 78    51    NA    42        19       NA    NA    ...\n",
       "5 5  2        2007-05-05 66    54    25    39        19       26     1    ...\n",
       "6 6  2        2007-05-06 68    52    25    30        15       26     1    ...\n",
       "  RA SN SQ TS TSRA VCFG VCTS Tmax2.imp Tavg2.imp PrecipTotal2.imp\n",
       "1 0  0  0  0  0    0    0    84        33.00000  0               \n",
       "2 0  0  0  0  0    0    0    60        17.00000  0               \n",
       "3 0  0  0  0  0    0    0    67        23.00000  0               \n",
       "4 0  0  0  0  0    0    0    78        35.20733  0               \n",
       "5 0  0  0  0  0    0    0    66        25.00000  0               \n",
       "6 0  0  0  0  0    0    0    68        25.00000  0               "
      ]
     },
     "metadata": {},
     "output_type": "display_data"
    }
   ],
   "source": [
    "head(wea22.imp)"
   ]
  },
  {
   "cell_type": "code",
   "execution_count": 5,
   "metadata": {},
   "outputs": [
    {
     "data": {
      "text/html": [
       "<ol class=list-inline>\n",
       "\t<li>1472</li>\n",
       "\t<li>34</li>\n",
       "</ol>\n"
      ],
      "text/latex": [
       "\\begin{enumerate*}\n",
       "\\item 1472\n",
       "\\item 34\n",
       "\\end{enumerate*}\n"
      ],
      "text/markdown": [
       "1. 1472\n",
       "2. 34\n",
       "\n",
       "\n"
      ],
      "text/plain": [
       "[1] 1472   34"
      ]
     },
     "metadata": {},
     "output_type": "display_data"
    }
   ],
   "source": [
    "dim(wea22.imp)"
   ]
  },
  {
   "cell_type": "code",
   "execution_count": 10,
   "metadata": {},
   "outputs": [
    {
     "data": {
      "text/html": [
       "<ol class=list-inline>\n",
       "\t<li>'ID'</li>\n",
       "\t<li>'Station2'</li>\n",
       "\t<li>'Date2'</li>\n",
       "\t<li>'Tmax2'</li>\n",
       "\t<li>'Tmin2'</li>\n",
       "\t<li>'Tavg2'</li>\n",
       "\t<li>'DewPoint2'</li>\n",
       "\t<li>'WetBulb2'</li>\n",
       "\t<li>'Heat2'</li>\n",
       "\t<li>'Cool2'</li>\n",
       "\t<li>'PrecipTotal2'</li>\n",
       "\t<li>'StnPressure2'</li>\n",
       "\t<li>'SeaLevel2'</li>\n",
       "\t<li>'ResultSpeed2'</li>\n",
       "\t<li>'ResultDir2'</li>\n",
       "\t<li>'AvgSpeed2'</li>\n",
       "\t<li>'BCFG'</li>\n",
       "\t<li>'BR'</li>\n",
       "\t<li>'DZ'</li>\n",
       "\t<li>'FG'</li>\n",
       "\t<li>'FG.'</li>\n",
       "\t<li>'FU'</li>\n",
       "\t<li>'GR'</li>\n",
       "\t<li>'HZ'</li>\n",
       "\t<li>'RA'</li>\n",
       "\t<li>'SN'</li>\n",
       "\t<li>'SQ'</li>\n",
       "\t<li>'TS'</li>\n",
       "\t<li>'TSRA'</li>\n",
       "\t<li>'VCFG'</li>\n",
       "\t<li>'VCTS'</li>\n",
       "\t<li>'Tmax2.imp'</li>\n",
       "\t<li>'Tavg2.imp'</li>\n",
       "\t<li>'PrecipTotal2.imp'</li>\n",
       "</ol>\n"
      ],
      "text/latex": [
       "\\begin{enumerate*}\n",
       "\\item 'ID'\n",
       "\\item 'Station2'\n",
       "\\item 'Date2'\n",
       "\\item 'Tmax2'\n",
       "\\item 'Tmin2'\n",
       "\\item 'Tavg2'\n",
       "\\item 'DewPoint2'\n",
       "\\item 'WetBulb2'\n",
       "\\item 'Heat2'\n",
       "\\item 'Cool2'\n",
       "\\item 'PrecipTotal2'\n",
       "\\item 'StnPressure2'\n",
       "\\item 'SeaLevel2'\n",
       "\\item 'ResultSpeed2'\n",
       "\\item 'ResultDir2'\n",
       "\\item 'AvgSpeed2'\n",
       "\\item 'BCFG'\n",
       "\\item 'BR'\n",
       "\\item 'DZ'\n",
       "\\item 'FG'\n",
       "\\item 'FG.'\n",
       "\\item 'FU'\n",
       "\\item 'GR'\n",
       "\\item 'HZ'\n",
       "\\item 'RA'\n",
       "\\item 'SN'\n",
       "\\item 'SQ'\n",
       "\\item 'TS'\n",
       "\\item 'TSRA'\n",
       "\\item 'VCFG'\n",
       "\\item 'VCTS'\n",
       "\\item 'Tmax2.imp'\n",
       "\\item 'Tavg2.imp'\n",
       "\\item 'PrecipTotal2.imp'\n",
       "\\end{enumerate*}\n"
      ],
      "text/markdown": [
       "1. 'ID'\n",
       "2. 'Station2'\n",
       "3. 'Date2'\n",
       "4. 'Tmax2'\n",
       "5. 'Tmin2'\n",
       "6. 'Tavg2'\n",
       "7. 'DewPoint2'\n",
       "8. 'WetBulb2'\n",
       "9. 'Heat2'\n",
       "10. 'Cool2'\n",
       "11. 'PrecipTotal2'\n",
       "12. 'StnPressure2'\n",
       "13. 'SeaLevel2'\n",
       "14. 'ResultSpeed2'\n",
       "15. 'ResultDir2'\n",
       "16. 'AvgSpeed2'\n",
       "17. 'BCFG'\n",
       "18. 'BR'\n",
       "19. 'DZ'\n",
       "20. 'FG'\n",
       "21. 'FG.'\n",
       "22. 'FU'\n",
       "23. 'GR'\n",
       "24. 'HZ'\n",
       "25. 'RA'\n",
       "26. 'SN'\n",
       "27. 'SQ'\n",
       "28. 'TS'\n",
       "29. 'TSRA'\n",
       "30. 'VCFG'\n",
       "31. 'VCTS'\n",
       "32. 'Tmax2.imp'\n",
       "33. 'Tavg2.imp'\n",
       "34. 'PrecipTotal2.imp'\n",
       "\n",
       "\n"
      ],
      "text/plain": [
       " [1] \"ID\"               \"Station2\"         \"Date2\"            \"Tmax2\"           \n",
       " [5] \"Tmin2\"            \"Tavg2\"            \"DewPoint2\"        \"WetBulb2\"        \n",
       " [9] \"Heat2\"            \"Cool2\"            \"PrecipTotal2\"     \"StnPressure2\"    \n",
       "[13] \"SeaLevel2\"        \"ResultSpeed2\"     \"ResultDir2\"       \"AvgSpeed2\"       \n",
       "[17] \"BCFG\"             \"BR\"               \"DZ\"               \"FG\"              \n",
       "[21] \"FG.\"              \"FU\"               \"GR\"               \"HZ\"              \n",
       "[25] \"RA\"               \"SN\"               \"SQ\"               \"TS\"              \n",
       "[29] \"TSRA\"             \"VCFG\"             \"VCTS\"             \"Tmax2.imp\"       \n",
       "[33] \"Tavg2.imp\"        \"PrecipTotal2.imp\""
      ]
     },
     "metadata": {},
     "output_type": "display_data"
    }
   ],
   "source": [
    "colnames(wea22.imp)"
   ]
  },
  {
   "cell_type": "code",
   "execution_count": 13,
   "metadata": {},
   "outputs": [],
   "source": [
    "colnames(wea22.imp) <- c('ID', 'Station2', 'Date2', 'Tmax2', 'Tmin2', 'Tavg2', 'DewPoint2','WetBulb2' ,'Heat2' ,'Cool2', 'PrecipTotal2', 'StnPressure2', 'SeaLevel2', 'ResultSpeed2', 'ResultDir2', 'AvgSpeed2', 'BCFG2', 'BR2', 'DZ2', 'FG2', 'FG.2', 'FU2', 'GR2', 'HZ2', 'RA2', 'SN2' ,'SQ2', 'TS2', 'TSRA2', 'VCFG2', 'VCTS2', 'Tmax2.imp', 'Tavg2.imp', 'PrecipTotal2.imp')\n"
   ]
  },
  {
   "cell_type": "code",
   "execution_count": 14,
   "metadata": {},
   "outputs": [
    {
     "data": {
      "text/html": [
       "<table>\n",
       "<thead><tr><th scope=col>ID</th><th scope=col>Station2</th><th scope=col>Date2</th><th scope=col>Tmax2</th><th scope=col>Tmin2</th><th scope=col>Tavg2</th><th scope=col>DewPoint2</th><th scope=col>WetBulb2</th><th scope=col>Heat2</th><th scope=col>Cool2</th><th scope=col>...</th><th scope=col>RA2</th><th scope=col>SN2</th><th scope=col>SQ2</th><th scope=col>TS2</th><th scope=col>TSRA2</th><th scope=col>VCFG2</th><th scope=col>VCTS2</th><th scope=col>Tmax2.imp</th><th scope=col>Tavg2.imp</th><th scope=col>PrecipTotal2.imp</th></tr></thead>\n",
       "<tbody>\n",
       "\t<tr><td>1         </td><td>2         </td><td>2007-05-01</td><td>84        </td><td>52        </td><td>33        </td><td>51        </td><td>26        </td><td> 1        </td><td> 4        </td><td>...       </td><td>0         </td><td>0         </td><td>0         </td><td>0         </td><td>0         </td><td>0         </td><td>0         </td><td>84        </td><td>33.00000  </td><td>0         </td></tr>\n",
       "\t<tr><td>2         </td><td>2         </td><td>2007-05-02</td><td>60        </td><td>43        </td><td>17        </td><td>42        </td><td>16        </td><td> 6        </td><td> 1        </td><td>...       </td><td>0         </td><td>0         </td><td>0         </td><td>0         </td><td>0         </td><td>0         </td><td>0         </td><td>60        </td><td>17.00000  </td><td>0         </td></tr>\n",
       "\t<tr><td>3         </td><td>2         </td><td>2007-05-03</td><td>67        </td><td>48        </td><td>23        </td><td>40        </td><td>19        </td><td>28        </td><td> 1        </td><td>...       </td><td>0         </td><td>0         </td><td>0         </td><td>0         </td><td>0         </td><td>0         </td><td>0         </td><td>67        </td><td>23.00000  </td><td>0         </td></tr>\n",
       "\t<tr><td>4         </td><td>2         </td><td>2007-05-04</td><td>78        </td><td>51        </td><td>NA        </td><td>42        </td><td>19        </td><td>NA        </td><td>NA        </td><td>...       </td><td>0         </td><td>0         </td><td>0         </td><td>0         </td><td>0         </td><td>0         </td><td>0         </td><td>78        </td><td>35.20733  </td><td>0         </td></tr>\n",
       "\t<tr><td>5         </td><td>2         </td><td>2007-05-05</td><td>66        </td><td>54        </td><td>25        </td><td>39        </td><td>19        </td><td>26        </td><td> 1        </td><td>...       </td><td>0         </td><td>0         </td><td>0         </td><td>0         </td><td>0         </td><td>0         </td><td>0         </td><td>66        </td><td>25.00000  </td><td>0         </td></tr>\n",
       "\t<tr><td>6         </td><td>2         </td><td>2007-05-06</td><td>68        </td><td>52        </td><td>25        </td><td>30        </td><td>15        </td><td>26        </td><td> 1        </td><td>...       </td><td>0         </td><td>0         </td><td>0         </td><td>0         </td><td>0         </td><td>0         </td><td>0         </td><td>68        </td><td>25.00000  </td><td>0         </td></tr>\n",
       "</tbody>\n",
       "</table>\n"
      ],
      "text/latex": [
       "\\begin{tabular}{r|llllllllllllllllllllllllllllllllll}\n",
       " ID & Station2 & Date2 & Tmax2 & Tmin2 & Tavg2 & DewPoint2 & WetBulb2 & Heat2 & Cool2 & ... & RA2 & SN2 & SQ2 & TS2 & TSRA2 & VCFG2 & VCTS2 & Tmax2.imp & Tavg2.imp & PrecipTotal2.imp\\\\\n",
       "\\hline\n",
       "\t 1          & 2          & 2007-05-01 & 84         & 52         & 33         & 51         & 26         &  1         &  4         & ...        & 0          & 0          & 0          & 0          & 0          & 0          & 0          & 84         & 33.00000   & 0         \\\\\n",
       "\t 2          & 2          & 2007-05-02 & 60         & 43         & 17         & 42         & 16         &  6         &  1         & ...        & 0          & 0          & 0          & 0          & 0          & 0          & 0          & 60         & 17.00000   & 0         \\\\\n",
       "\t 3          & 2          & 2007-05-03 & 67         & 48         & 23         & 40         & 19         & 28         &  1         & ...        & 0          & 0          & 0          & 0          & 0          & 0          & 0          & 67         & 23.00000   & 0         \\\\\n",
       "\t 4          & 2          & 2007-05-04 & 78         & 51         & NA         & 42         & 19         & NA         & NA         & ...        & 0          & 0          & 0          & 0          & 0          & 0          & 0          & 78         & 35.20733   & 0         \\\\\n",
       "\t 5          & 2          & 2007-05-05 & 66         & 54         & 25         & 39         & 19         & 26         &  1         & ...        & 0          & 0          & 0          & 0          & 0          & 0          & 0          & 66         & 25.00000   & 0         \\\\\n",
       "\t 6          & 2          & 2007-05-06 & 68         & 52         & 25         & 30         & 15         & 26         &  1         & ...        & 0          & 0          & 0          & 0          & 0          & 0          & 0          & 68         & 25.00000   & 0         \\\\\n",
       "\\end{tabular}\n"
      ],
      "text/markdown": [
       "\n",
       "ID | Station2 | Date2 | Tmax2 | Tmin2 | Tavg2 | DewPoint2 | WetBulb2 | Heat2 | Cool2 | ... | RA2 | SN2 | SQ2 | TS2 | TSRA2 | VCFG2 | VCTS2 | Tmax2.imp | Tavg2.imp | PrecipTotal2.imp | \n",
       "|---|---|---|---|---|---|\n",
       "| 1          | 2          | 2007-05-01 | 84         | 52         | 33         | 51         | 26         |  1         |  4         | ...        | 0          | 0          | 0          | 0          | 0          | 0          | 0          | 84         | 33.00000   | 0          | \n",
       "| 2          | 2          | 2007-05-02 | 60         | 43         | 17         | 42         | 16         |  6         |  1         | ...        | 0          | 0          | 0          | 0          | 0          | 0          | 0          | 60         | 17.00000   | 0          | \n",
       "| 3          | 2          | 2007-05-03 | 67         | 48         | 23         | 40         | 19         | 28         |  1         | ...        | 0          | 0          | 0          | 0          | 0          | 0          | 0          | 67         | 23.00000   | 0          | \n",
       "| 4          | 2          | 2007-05-04 | 78         | 51         | NA         | 42         | 19         | NA         | NA         | ...        | 0          | 0          | 0          | 0          | 0          | 0          | 0          | 78         | 35.20733   | 0          | \n",
       "| 5          | 2          | 2007-05-05 | 66         | 54         | 25         | 39         | 19         | 26         |  1         | ...        | 0          | 0          | 0          | 0          | 0          | 0          | 0          | 66         | 25.00000   | 0          | \n",
       "| 6          | 2          | 2007-05-06 | 68         | 52         | 25         | 30         | 15         | 26         |  1         | ...        | 0          | 0          | 0          | 0          | 0          | 0          | 0          | 68         | 25.00000   | 0          | \n",
       "\n",
       "\n"
      ],
      "text/plain": [
       "  ID Station2 Date2      Tmax2 Tmin2 Tavg2 DewPoint2 WetBulb2 Heat2 Cool2 ...\n",
       "1 1  2        2007-05-01 84    52    33    51        26        1     4    ...\n",
       "2 2  2        2007-05-02 60    43    17    42        16        6     1    ...\n",
       "3 3  2        2007-05-03 67    48    23    40        19       28     1    ...\n",
       "4 4  2        2007-05-04 78    51    NA    42        19       NA    NA    ...\n",
       "5 5  2        2007-05-05 66    54    25    39        19       26     1    ...\n",
       "6 6  2        2007-05-06 68    52    25    30        15       26     1    ...\n",
       "  RA2 SN2 SQ2 TS2 TSRA2 VCFG2 VCTS2 Tmax2.imp Tavg2.imp PrecipTotal2.imp\n",
       "1 0   0   0   0   0     0     0     84        33.00000  0               \n",
       "2 0   0   0   0   0     0     0     60        17.00000  0               \n",
       "3 0   0   0   0   0     0     0     67        23.00000  0               \n",
       "4 0   0   0   0   0     0     0     78        35.20733  0               \n",
       "5 0   0   0   0   0     0     0     66        25.00000  0               \n",
       "6 0   0   0   0   0     0     0     68        25.00000  0               "
      ]
     },
     "metadata": {},
     "output_type": "display_data"
    }
   ],
   "source": [
    "head(wea22.imp)"
   ]
  },
  {
   "cell_type": "code",
   "execution_count": 6,
   "metadata": {},
   "outputs": [],
   "source": [
    "wea22.imp$Date2<- as.Date(wea22.imp$Date2, format = \"%Y-%m-%d\")"
   ]
  },
  {
   "cell_type": "code",
   "execution_count": 15,
   "metadata": {},
   "outputs": [],
   "source": [
    "write.csv(wea22.imp, file=\"C:/Users/Chen/Project/data/wea22.imp.csv\", row.names =F)"
   ]
  },
  {
   "cell_type": "code",
   "execution_count": 16,
   "metadata": {},
   "outputs": [
    {
     "name": "stdout",
     "output_type": "stream",
     "text": [
      "'data.frame':\t1472 obs. of  34 variables:\n",
      " $ ID              : int  1 2 3 4 5 6 7 8 9 10 ...\n",
      " $ Station2        : int  2 2 2 2 2 2 2 2 2 2 ...\n",
      " $ Date2           : Date, format: \"2007-05-01\" \"2007-05-02\" ...\n",
      " $ Tmax2           : int  84 60 67 78 66 68 84 80 76 83 ...\n",
      " $ Tmin2           : int  52 43 48 51 54 52 50 60 63 59 ...\n",
      " $ Tavg2           : int  33 17 23 NA 25 25 32 35 35 36 ...\n",
      " $ DewPoint2       : int  51 42 40 42 39 30 39 57 60 52 ...\n",
      " $ WetBulb2        : int  26 16 19 19 19 15 22 32 32 30 ...\n",
      " $ Heat2           : int  1 6 28 NA 26 26 1 1 1 1 ...\n",
      " $ Cool2           : int  4 1 1 NA 1 1 3 6 6 7 ...\n",
      " $ PrecipTotal2    : num  0 0 0 0 0 0 0 0 0.02 0 ...\n",
      " $ StnPressure2    : num  29.2 29.4 29.5 29.4 29.5 ...\n",
      " $ SeaLevel2       : num  29.8 30.1 30.1 30 30.1 ...\n",
      " $ ResultSpeed2    : num  2.7 13.3 12.9 10.1 11.2 13.8 8.5 2.5 3.9 2 ...\n",
      " $ ResultDir2      : int  25 2 6 7 7 10 17 8 7 9 ...\n",
      " $ AvgSpeed2       : num  9.6 13.4 13.2 10.4 11.5 14.5 9.9 5.4 5.9 3.9 ...\n",
      " $ BCFG2           : int  0 0 0 0 0 0 0 0 0 0 ...\n",
      " $ BR2             : int  0 1 0 0 0 0 0 0 1 1 ...\n",
      " $ DZ2             : int  0 0 0 0 0 0 0 0 0 0 ...\n",
      " $ FG2             : int  0 0 0 0 0 0 0 0 0 0 ...\n",
      " $ FG.2            : int  0 0 0 0 0 0 0 0 0 0 ...\n",
      " $ FU2             : int  0 0 0 0 0 0 0 0 0 0 ...\n",
      " $ GR2             : int  0 0 0 0 0 0 0 0 0 0 ...\n",
      " $ HZ2             : int  0 1 1 0 0 0 0 1 1 1 ...\n",
      " $ RA2             : int  0 0 0 0 0 0 0 0 0 0 ...\n",
      " $ SN2             : int  0 0 0 0 0 0 0 0 0 0 ...\n",
      " $ SQ2             : int  0 0 0 0 0 0 0 0 0 0 ...\n",
      " $ TS2             : int  0 0 0 0 0 0 0 0 0 0 ...\n",
      " $ TSRA2           : int  0 0 0 0 0 0 0 0 0 0 ...\n",
      " $ VCFG2           : int  0 0 0 0 0 0 0 0 0 0 ...\n",
      " $ VCTS2           : int  0 0 0 0 0 0 0 0 0 0 ...\n",
      " $ Tmax2.imp       : int  84 60 67 78 66 68 84 80 76 83 ...\n",
      " $ Tavg2.imp       : num  33 17 23 35.2 25 ...\n",
      " $ PrecipTotal2.imp: num  0 0 0 0 0 0 0 0 0.02 0 ...\n"
     ]
    }
   ],
   "source": [
    "str(wea22.imp)"
   ]
  },
  {
   "cell_type": "markdown",
   "metadata": {},
   "source": [
    "### Total number of raining days in the last 45 days\n",
    "I see that there is only one station in this dataset, and there are 1472 rows.\n",
    "The firs think you want is the sum of the raining (RA) days in the last 45 days. Take into account that there will be 45 missing values entered for the first 45 days.\n",
    "We will use the xts (time series object) to create a TS for the actual date and the rain:"
   ]
  },
  {
   "cell_type": "code",
   "execution_count": 17,
   "metadata": {},
   "outputs": [],
   "source": [
    "library(xts)\n",
    "q <- wea22.imp[,c(\"Date2\",\"RA2\")]\n",
    "qxts <- xts(q[,\"RA2\"], order.by=q[,\"Date2\"])\n",
    "names(qxts) <- \"RA2\""
   ]
  },
  {
   "cell_type": "code",
   "execution_count": 22,
   "metadata": {},
   "outputs": [
    {
     "data": {
      "text/plain": [
       "           RA2 RA45.2\n",
       "2007-05-01   0     NA\n",
       "2007-05-02   0     NA\n",
       "2007-05-03   0     NA\n",
       "2007-05-04   0     NA\n",
       "2007-05-05   0     NA\n",
       "2007-05-06   0     NA"
      ]
     },
     "metadata": {},
     "output_type": "display_data"
    }
   ],
   "source": [
    "head(qxts)"
   ]
  },
  {
   "cell_type": "code",
   "execution_count": 23,
   "metadata": {},
   "outputs": [
    {
     "data": {
      "text/plain": [
       "           RA2 RA45.2\n",
       "2007-05-01   0     NA\n",
       "2007-05-02   0     NA\n",
       "2007-05-03   0     NA\n",
       "2007-05-04   0     NA\n",
       "2007-05-05   0     NA\n",
       "2007-05-06   0     NA\n",
       "2007-05-07   0     NA\n",
       "2007-05-08   0     NA\n",
       "2007-05-09   0     NA\n",
       "2007-05-10   0     NA\n",
       "2007-05-11   0     NA\n",
       "2007-05-12   0     NA\n",
       "2007-05-13   0     NA\n",
       "2007-05-14   0     NA\n",
       "2007-05-15   1     NA\n",
       "2007-05-16   1     NA\n",
       "2007-05-17   0     NA\n",
       "2007-05-18   0     NA\n",
       "2007-05-19   0     NA\n",
       "2007-05-20   1     NA\n",
       "2007-05-21   0     NA\n",
       "2007-05-22   0     NA\n",
       "2007-05-23   0     NA\n",
       "2007-05-24   1     NA\n",
       "2007-05-25   1     NA\n",
       "2007-05-26   1     NA\n",
       "2007-05-27   1     NA\n",
       "2007-05-28   0     NA\n",
       "2007-05-29   0     NA\n",
       "2007-05-30   0     NA\n",
       "2007-05-31   1     NA\n",
       "2007-06-01   0     NA\n",
       "2007-06-02   1     NA\n",
       "2007-06-03   1     NA\n",
       "2007-06-04   1     NA\n",
       "2007-06-05   1     NA\n",
       "2007-06-06   1     NA\n",
       "2007-06-07   0     NA\n",
       "2007-06-08   0     NA\n",
       "2007-06-09   0     NA\n",
       "2007-06-10   0     NA\n",
       "2007-06-11   0     NA\n",
       "2007-06-12   0     NA\n",
       "2007-06-13   0     NA\n",
       "2007-06-14   0     13\n",
       "2007-06-15   0     13\n",
       "2007-06-16   0     13\n",
       "2007-06-17   0     13\n",
       "2007-06-18   1     14\n",
       "2007-06-19   1     15"
      ]
     },
     "metadata": {},
     "output_type": "display_data"
    }
   ],
   "source": [
    "library(quantmod)\n",
    "\n",
    "qxts$RA45.2 = runSum(qxts$RA2,n=45)\n",
    "head(qxts,50)\n"
   ]
  },
  {
   "cell_type": "code",
   "execution_count": 26,
   "metadata": {},
   "outputs": [
    {
     "data": {
      "image/png": "[encoded data removed]",
      "text/plain": [
       "Plot with title \"Histogram of qxts$RA45.2\""
      ]
     },
     "metadata": {},
     "output_type": "display_data"
    }
   ],
   "source": [
    "hist(qxts$RA45.2)"
   ]
  },
  {
   "cell_type": "code",
   "execution_count": 27,
   "metadata": {},
   "outputs": [
    {
     "data": {},
     "metadata": {},
     "output_type": "display_data"
    },
    {
     "data": {
      "image/png": "[encoded data removed]",
      "text/plain": [
       "plot without title"
      ]
     },
     "metadata": {},
     "output_type": "display_data"
    }
   ],
   "source": [
    "plot(qxts$RA45.2)"
   ]
  },
  {
   "cell_type": "markdown",
   "metadata": {},
   "source": [
    "Now we have to reverse the TS to a dataframe and join with the original dataset"
   ]
  },
  {
   "cell_type": "code",
   "execution_count": 32,
   "metadata": {},
   "outputs": [
    {
     "data": {
      "text/html": [
       "<table>\n",
       "<thead><tr><th></th><th scope=col>RA45.2</th><th scope=col>Date2</th></tr></thead>\n",
       "<tbody>\n",
       "\t<tr><th scope=row>2007-05-01</th><td>NA        </td><td>2007-05-01</td></tr>\n",
       "\t<tr><th scope=row>2007-05-02</th><td>NA        </td><td>2007-05-02</td></tr>\n",
       "\t<tr><th scope=row>2007-05-03</th><td>NA        </td><td>2007-05-03</td></tr>\n",
       "\t<tr><th scope=row>2007-05-04</th><td>NA        </td><td>2007-05-04</td></tr>\n",
       "\t<tr><th scope=row>2007-05-05</th><td>NA        </td><td>2007-05-05</td></tr>\n",
       "\t<tr><th scope=row>2007-05-06</th><td>NA        </td><td>2007-05-06</td></tr>\n",
       "</tbody>\n",
       "</table>\n"
      ],
      "text/latex": [
       "\\begin{tabular}{r|ll}\n",
       "  & RA45.2 & Date2\\\\\n",
       "\\hline\n",
       "\t2007-05-01 & NA         & 2007-05-01\\\\\n",
       "\t2007-05-02 & NA         & 2007-05-02\\\\\n",
       "\t2007-05-03 & NA         & 2007-05-03\\\\\n",
       "\t2007-05-04 & NA         & 2007-05-04\\\\\n",
       "\t2007-05-05 & NA         & 2007-05-05\\\\\n",
       "\t2007-05-06 & NA         & 2007-05-06\\\\\n",
       "\\end{tabular}\n"
      ],
      "text/markdown": [
       "\n",
       "| <!--/--> | RA45.2 | Date2 | \n",
       "|---|---|---|---|---|---|\n",
       "| 2007-05-01 | NA         | 2007-05-01 | \n",
       "| 2007-05-02 | NA         | 2007-05-02 | \n",
       "| 2007-05-03 | NA         | 2007-05-03 | \n",
       "| 2007-05-04 | NA         | 2007-05-04 | \n",
       "| 2007-05-05 | NA         | 2007-05-05 | \n",
       "| 2007-05-06 | NA         | 2007-05-06 | \n",
       "\n",
       "\n"
      ],
      "text/plain": [
       "           RA45.2 Date2     \n",
       "2007-05-01 NA     2007-05-01\n",
       "2007-05-02 NA     2007-05-02\n",
       "2007-05-03 NA     2007-05-03\n",
       "2007-05-04 NA     2007-05-04\n",
       "2007-05-05 NA     2007-05-05\n",
       "2007-05-06 NA     2007-05-06"
      ]
     },
     "metadata": {},
     "output_type": "display_data"
    },
    {
     "name": "stdout",
     "output_type": "stream",
     "text": [
      "'data.frame':\t1472 obs. of  2 variables:\n",
      " $ RA45.2: num  NA NA NA NA NA NA NA NA NA NA ...\n",
      " $ Date2 : Date, format: \"2007-05-01\" \"2007-05-02\" ...\n"
     ]
    }
   ],
   "source": [
    "rain45.2 <- data.frame(qxts$RA45.2)\n",
    "rain45.2$Date2 <- as.Date(rownames(rain45.2))\n",
    "head(rain45.2)\n",
    "str(rain45.2)"
   ]
  },
  {
   "cell_type": "code",
   "execution_count": 34,
   "metadata": {},
   "outputs": [
    {
     "data": {
      "text/html": [
       "<table>\n",
       "<thead><tr><th scope=col>ID</th><th scope=col>Station2</th><th scope=col>Date2</th><th scope=col>Tmax2</th><th scope=col>Tmin2</th><th scope=col>Tavg2</th><th scope=col>DewPoint2</th><th scope=col>WetBulb2</th><th scope=col>Heat2</th><th scope=col>Cool2</th><th scope=col>...</th><th scope=col>SQ2</th><th scope=col>TS2</th><th scope=col>TSRA2</th><th scope=col>VCFG2</th><th scope=col>VCTS2</th><th scope=col>Tmax2.imp</th><th scope=col>Tavg2.imp</th><th scope=col>PrecipTotal2.imp</th><th scope=col>RA45.2.x</th><th scope=col>RA45.2.y</th></tr></thead>\n",
       "<tbody>\n",
       "\t<tr><td> 1        </td><td>2         </td><td>2007-05-01</td><td>84        </td><td>52        </td><td>33        </td><td>51        </td><td>26        </td><td> 1        </td><td> 4        </td><td>...       </td><td>0         </td><td>0         </td><td>0         </td><td>0         </td><td>0         </td><td>84        </td><td>33.00000  </td><td>0.00      </td><td>NA        </td><td>NA        </td></tr>\n",
       "\t<tr><td> 2        </td><td>2         </td><td>2007-05-02</td><td>60        </td><td>43        </td><td>17        </td><td>42        </td><td>16        </td><td> 6        </td><td> 1        </td><td>...       </td><td>0         </td><td>0         </td><td>0         </td><td>0         </td><td>0         </td><td>60        </td><td>17.00000  </td><td>0.00      </td><td>NA        </td><td>NA        </td></tr>\n",
       "\t<tr><td> 3        </td><td>2         </td><td>2007-05-03</td><td>67        </td><td>48        </td><td>23        </td><td>40        </td><td>19        </td><td>28        </td><td> 1        </td><td>...       </td><td>0         </td><td>0         </td><td>0         </td><td>0         </td><td>0         </td><td>67        </td><td>23.00000  </td><td>0.00      </td><td>NA        </td><td>NA        </td></tr>\n",
       "\t<tr><td> 4        </td><td>2         </td><td>2007-05-04</td><td>78        </td><td>51        </td><td>NA        </td><td>42        </td><td>19        </td><td>NA        </td><td>NA        </td><td>...       </td><td>0         </td><td>0         </td><td>0         </td><td>0         </td><td>0         </td><td>78        </td><td>35.20733  </td><td>0.00      </td><td>NA        </td><td>NA        </td></tr>\n",
       "\t<tr><td> 5        </td><td>2         </td><td>2007-05-05</td><td>66        </td><td>54        </td><td>25        </td><td>39        </td><td>19        </td><td>26        </td><td> 1        </td><td>...       </td><td>0         </td><td>0         </td><td>0         </td><td>0         </td><td>0         </td><td>66        </td><td>25.00000  </td><td>0.00      </td><td>NA        </td><td>NA        </td></tr>\n",
       "\t<tr><td> 6        </td><td>2         </td><td>2007-05-06</td><td>68        </td><td>52        </td><td>25        </td><td>30        </td><td>15        </td><td>26        </td><td> 1        </td><td>...       </td><td>0         </td><td>0         </td><td>0         </td><td>0         </td><td>0         </td><td>68        </td><td>25.00000  </td><td>0.00      </td><td>NA        </td><td>NA        </td></tr>\n",
       "\t<tr><td> 7        </td><td>2         </td><td>2007-05-07</td><td>84        </td><td>50        </td><td>32        </td><td>39        </td><td>22        </td><td> 1        </td><td> 3        </td><td>...       </td><td>0         </td><td>0         </td><td>0         </td><td>0         </td><td>0         </td><td>84        </td><td>32.00000  </td><td>0.00      </td><td>NA        </td><td>NA        </td></tr>\n",
       "\t<tr><td> 8        </td><td>2         </td><td>2007-05-08</td><td>80        </td><td>60        </td><td>35        </td><td>57        </td><td>32        </td><td> 1        </td><td> 6        </td><td>...       </td><td>0         </td><td>0         </td><td>0         </td><td>0         </td><td>0         </td><td>80        </td><td>35.00000  </td><td>0.00      </td><td>NA        </td><td>NA        </td></tr>\n",
       "\t<tr><td> 9        </td><td>2         </td><td>2007-05-09</td><td>76        </td><td>63        </td><td>35        </td><td>60        </td><td>32        </td><td> 1        </td><td> 6        </td><td>...       </td><td>0         </td><td>0         </td><td>0         </td><td>0         </td><td>0         </td><td>76        </td><td>35.00000  </td><td>0.02      </td><td>NA        </td><td>NA        </td></tr>\n",
       "\t<tr><td>10        </td><td>2         </td><td>2007-05-10</td><td>83        </td><td>59        </td><td>36        </td><td>52        </td><td>30        </td><td> 1        </td><td> 7        </td><td>...       </td><td>0         </td><td>0         </td><td>0         </td><td>0         </td><td>0         </td><td>83        </td><td>36.00000  </td><td>0.00      </td><td>NA        </td><td>NA        </td></tr>\n",
       "\t<tr><td>11        </td><td>2         </td><td>2007-05-11</td><td>73        </td><td>49        </td><td>26        </td><td>44        </td><td>20        </td><td>25        </td><td> 1        </td><td>...       </td><td>0         </td><td>0         </td><td>0         </td><td>0         </td><td>0         </td><td>73        </td><td>26.00000  </td><td>0.00      </td><td>NA        </td><td>NA        </td></tr>\n",
       "\t<tr><td>12        </td><td>2         </td><td>2007-05-12</td><td>65        </td><td>47        </td><td>21        </td><td>37        </td><td>15        </td><td>30        </td><td> 1        </td><td>...       </td><td>0         </td><td>0         </td><td>0         </td><td>0         </td><td>0         </td><td>65        </td><td>21.00000  </td><td>0.00      </td><td>NA        </td><td>NA        </td></tr>\n",
       "\t<tr><td>13        </td><td>2         </td><td>2007-05-13</td><td>69        </td><td>44        </td><td>22        </td><td>32        </td><td>15        </td><td>29        </td><td> 1        </td><td>...       </td><td>0         </td><td>0         </td><td>0         </td><td>0         </td><td>0         </td><td>69        </td><td>22.00000  </td><td>0.00      </td><td>NA        </td><td>NA        </td></tr>\n",
       "\t<tr><td>14        </td><td>2         </td><td>2007-05-14</td><td>90        </td><td>54        </td><td>37        </td><td>45        </td><td>27        </td><td> 1        </td><td> 8        </td><td>...       </td><td>0         </td><td>0         </td><td>0         </td><td>0         </td><td>0         </td><td>90        </td><td>37.00000  </td><td>0.00      </td><td>NA        </td><td>NA        </td></tr>\n",
       "\t<tr><td>15        </td><td>2         </td><td>2007-05-15</td><td>82        </td><td>56        </td><td>34        </td><td>56        </td><td>30        </td><td> 1        </td><td> 5        </td><td>...       </td><td>0         </td><td>0         </td><td>1         </td><td>0         </td><td>0         </td><td>82        </td><td>34.00000  </td><td>0.60      </td><td>NA        </td><td>NA        </td></tr>\n",
       "\t<tr><td>16        </td><td>2         </td><td>2007-05-16</td><td>64        </td><td>45        </td><td>20        </td><td>42        </td><td>16        </td><td> 3        </td><td> 1        </td><td>...       </td><td>0         </td><td>0         </td><td>0         </td><td>0         </td><td>0         </td><td>64        </td><td>20.00000  </td><td>0.07      </td><td>NA        </td><td>NA        </td></tr>\n",
       "\t<tr><td>17        </td><td>2         </td><td>2007-05-17</td><td>61        </td><td>44        </td><td>18        </td><td>32        </td><td>12        </td><td> 5        </td><td> 1        </td><td>...       </td><td>0         </td><td>0         </td><td>0         </td><td>0         </td><td>0         </td><td>61        </td><td>18.00000  </td><td>0.00      </td><td>NA        </td><td>NA        </td></tr>\n",
       "\t<tr><td>18        </td><td>2         </td><td>2007-05-18</td><td>70        </td><td>43        </td><td>22        </td><td>31        </td><td>16        </td><td>29        </td><td> 1        </td><td>...       </td><td>0         </td><td>0         </td><td>0         </td><td>0         </td><td>0         </td><td>70        </td><td>22.00000  </td><td>0.00      </td><td>NA        </td><td>NA        </td></tr>\n",
       "\t<tr><td>19        </td><td>2         </td><td>2007-05-19</td><td>80        </td><td>56        </td><td>33        </td><td>37        </td><td>22        </td><td> 1        </td><td> 4        </td><td>...       </td><td>0         </td><td>0         </td><td>0         </td><td>0         </td><td>0         </td><td>80        </td><td>33.00000  </td><td>0.00      </td><td>NA        </td><td>NA        </td></tr>\n",
       "\t<tr><td>20        </td><td>2         </td><td>2007-05-20</td><td>69        </td><td>44        </td><td>22        </td><td>41        </td><td>14        </td><td>29        </td><td> 1        </td><td>...       </td><td>0         </td><td>0         </td><td>1         </td><td>0         </td><td>0         </td><td>69        </td><td>22.00000  </td><td>0.11      </td><td>NA        </td><td>NA        </td></tr>\n",
       "\t<tr><td>21        </td><td>2         </td><td>2007-05-21</td><td>79        </td><td>46        </td><td>28        </td><td>50        </td><td>26        </td><td>13        </td><td> 1        </td><td>...       </td><td>0         </td><td>0         </td><td>0         </td><td>0         </td><td>0         </td><td>79        </td><td>28.00000  </td><td>0.00      </td><td>NA        </td><td>NA        </td></tr>\n",
       "\t<tr><td>22        </td><td>2         </td><td>2007-05-22</td><td>87        </td><td>60        </td><td>39        </td><td>44        </td><td>27        </td><td> 1        </td><td>10        </td><td>...       </td><td>0         </td><td>0         </td><td>0         </td><td>0         </td><td>0         </td><td>87        </td><td>39.00000  </td><td>0.00      </td><td>NA        </td><td>NA        </td></tr>\n",
       "\t<tr><td>23        </td><td>2         </td><td>2007-05-23</td><td>89        </td><td>66        </td><td>43        </td><td>48        </td><td>30        </td><td> 1        </td><td>14        </td><td>...       </td><td>0         </td><td>0         </td><td>0         </td><td>0         </td><td>0         </td><td>89        </td><td>43.00000  </td><td>0.00      </td><td>NA        </td><td>NA        </td></tr>\n",
       "\t<tr><td>24        </td><td>2         </td><td>2007-05-24</td><td>88        </td><td>66        </td><td>42        </td><td>53        </td><td>32        </td><td> 1        </td><td>13        </td><td>...       </td><td>0         </td><td>0         </td><td>0         </td><td>0         </td><td>0         </td><td>88        </td><td>42.00000  </td><td>0.00      </td><td>NA        </td><td>NA        </td></tr>\n",
       "\t<tr><td>25        </td><td>2         </td><td>2007-05-25</td><td>66        </td><td>57        </td><td>27        </td><td>46        </td><td>22        </td><td>24        </td><td> 1        </td><td>...       </td><td>0         </td><td>0         </td><td>0         </td><td>0         </td><td>0         </td><td>66        </td><td>27.00000  </td><td>0.09      </td><td>NA        </td><td>NA        </td></tr>\n",
       "\t<tr><td>26        </td><td>2         </td><td>2007-05-26</td><td>70        </td><td>50        </td><td>25        </td><td>55        </td><td>26        </td><td>26        </td><td> 1        </td><td>...       </td><td>0         </td><td>0         </td><td>1         </td><td>0         </td><td>0         </td><td>70        </td><td>25.00000  </td><td>0.28      </td><td>NA        </td><td>NA        </td></tr>\n",
       "\t<tr><td>27        </td><td>2         </td><td>2007-05-27</td><td>75        </td><td>59        </td><td>32        </td><td>49        </td><td>26        </td><td> 1        </td><td> 3        </td><td>...       </td><td>0         </td><td>0         </td><td>0         </td><td>0         </td><td>0         </td><td>75        </td><td>32.00000  </td><td>0.08      </td><td>NA        </td><td>NA        </td></tr>\n",
       "\t<tr><td>28        </td><td>2         </td><td>2007-05-28</td><td>76        </td><td>54        </td><td>30        </td><td>49        </td><td>26        </td><td> 1        </td><td> 1        </td><td>...       </td><td>0         </td><td>0         </td><td>0         </td><td>0         </td><td>0         </td><td>76        </td><td>30.00000  </td><td>0.00      </td><td>NA        </td><td>NA        </td></tr>\n",
       "\t<tr><td>29        </td><td>2         </td><td>2007-05-29</td><td>88        </td><td>65        </td><td>42        </td><td>59        </td><td>35        </td><td> 1        </td><td>13        </td><td>...       </td><td>0         </td><td>0         </td><td>0         </td><td>0         </td><td>0         </td><td>88        </td><td>42.00000  </td><td>0.00      </td><td>NA        </td><td>NA        </td></tr>\n",
       "\t<tr><td>30        </td><td>2         </td><td>2007-05-30</td><td>89        </td><td>70        </td><td>45        </td><td>57        </td><td>35        </td><td> 1        </td><td>16        </td><td>...       </td><td>0         </td><td>0         </td><td>0         </td><td>0         </td><td>0         </td><td>89        </td><td>45.00000  </td><td>0.00      </td><td>NA        </td><td>NA        </td></tr>\n",
       "\t<tr><td>31        </td><td>2         </td><td>2007-05-31</td><td>80        </td><td>68        </td><td>39        </td><td>61        </td><td>35        </td><td> 1        </td><td>10        </td><td>...       </td><td>0         </td><td>0         </td><td>0         </td><td>0         </td><td>0         </td><td>80        </td><td>39.00000  </td><td>0.53      </td><td>NA        </td><td>NA        </td></tr>\n",
       "\t<tr><td>32        </td><td>2         </td><td>2007-06-01</td><td>86        </td><td>67        </td><td>42        </td><td>63        </td><td>36        </td><td> 1        </td><td>13        </td><td>...       </td><td>0         </td><td>0         </td><td>1         </td><td>0         </td><td>0         </td><td>86        </td><td>42.00000  </td><td>0.21      </td><td>NA        </td><td>NA        </td></tr>\n",
       "\t<tr><td>33        </td><td>2         </td><td>2007-06-02</td><td>81        </td><td>68        </td><td>40        </td><td>62        </td><td>36        </td><td> 1        </td><td>11        </td><td>...       </td><td>0         </td><td>0         </td><td>0         </td><td>0         </td><td>0         </td><td>81        </td><td>40.00000  </td><td>0.00      </td><td>NA        </td><td>NA        </td></tr>\n",
       "\t<tr><td>34        </td><td>2         </td><td>2007-06-03</td><td>77        </td><td>64        </td><td>36        </td><td>60        </td><td>33        </td><td> 1        </td><td> 7        </td><td>...       </td><td>0         </td><td>0         </td><td>0         </td><td>0         </td><td>1         </td><td>77        </td><td>36.00000  </td><td>0.32      </td><td>NA        </td><td>NA        </td></tr>\n",
       "\t<tr><td>35        </td><td>2         </td><td>2007-06-04</td><td>72        </td><td>56        </td><td>29        </td><td>57        </td><td>29        </td><td> 2        </td><td> 1        </td><td>...       </td><td>0         </td><td>0         </td><td>0         </td><td>0         </td><td>0         </td><td>72        </td><td>29.00000  </td><td>0.31      </td><td>NA        </td><td>NA        </td></tr>\n",
       "\t<tr><td>36        </td><td>2         </td><td>2007-06-05</td><td>63        </td><td>51        </td><td>22        </td><td>47        </td><td>21        </td><td>29        </td><td> 1        </td><td>...       </td><td>0         </td><td>0         </td><td>0         </td><td>0         </td><td>0         </td><td>63        </td><td>22.00000  </td><td>0.27      </td><td>NA        </td><td>NA        </td></tr>\n",
       "\t<tr><td>37        </td><td>2         </td><td>2007-06-06</td><td>73        </td><td>48        </td><td>26        </td><td>47        </td><td>24        </td><td>25        </td><td> 1        </td><td>...       </td><td>0         </td><td>0         </td><td>0         </td><td>0         </td><td>0         </td><td>73        </td><td>26.00000  </td><td>0.00      </td><td>NA        </td><td>NA        </td></tr>\n",
       "\t<tr><td>38        </td><td>2         </td><td>2007-06-07</td><td>92        </td><td>71        </td><td>47        </td><td>61        </td><td>37        </td><td> 1        </td><td>18        </td><td>...       </td><td>0         </td><td>0         </td><td>0         </td><td>0         </td><td>0         </td><td>92        </td><td>47.00000  </td><td>0.00      </td><td>NA        </td><td>NA        </td></tr>\n",
       "\t<tr><td>39        </td><td>2         </td><td>2007-06-08</td><td>81        </td><td>63        </td><td>37        </td><td>54        </td><td>31        </td><td> 1        </td><td> 8        </td><td>...       </td><td>0         </td><td>0         </td><td>0         </td><td>0         </td><td>0         </td><td>81        </td><td>37.00000  </td><td>0.00      </td><td>NA        </td><td>NA        </td></tr>\n",
       "\t<tr><td>40        </td><td>2         </td><td>2007-06-09</td><td>79        </td><td>57        </td><td>33        </td><td>49        </td><td>27        </td><td> 1        </td><td> 4        </td><td>...       </td><td>0         </td><td>0         </td><td>0         </td><td>0         </td><td>0         </td><td>79        </td><td>33.00000  </td><td>0.00      </td><td>NA        </td><td>NA        </td></tr>\n",
       "\t<tr><td>41        </td><td>2         </td><td>2007-06-10</td><td>81        </td><td>61        </td><td>36        </td><td>50        </td><td>29        </td><td> 1        </td><td> 7        </td><td>...       </td><td>0         </td><td>0         </td><td>0         </td><td>0         </td><td>0         </td><td>81        </td><td>36.00000  </td><td>0.00      </td><td>NA        </td><td>NA        </td></tr>\n",
       "\t<tr><td>42        </td><td>2         </td><td>2007-06-11</td><td>85        </td><td>65        </td><td>40        </td><td>51        </td><td>30        </td><td> 1        </td><td>11        </td><td>...       </td><td>0         </td><td>0         </td><td>0         </td><td>0         </td><td>0         </td><td>85        </td><td>40.00000  </td><td>0.00      </td><td>NA        </td><td>NA        </td></tr>\n",
       "\t<tr><td>43        </td><td>2         </td><td>2007-06-12</td><td>82        </td><td>66        </td><td>39        </td><td>51        </td><td>30        </td><td> 1        </td><td>10        </td><td>...       </td><td>0         </td><td>0         </td><td>0         </td><td>0         </td><td>0         </td><td>82        </td><td>39.00000  </td><td>0.00      </td><td>NA        </td><td>NA        </td></tr>\n",
       "\t<tr><td>44        </td><td>2         </td><td>2007-06-13</td><td>86        </td><td>68        </td><td>42        </td><td>53        </td><td>31        </td><td> 1        </td><td>13        </td><td>...       </td><td>0         </td><td>0         </td><td>0         </td><td>0         </td><td>0         </td><td>86        </td><td>42.00000  </td><td>0.00      </td><td>NA        </td><td>NA        </td></tr>\n",
       "\t<tr><td>45        </td><td>2         </td><td>2007-06-14</td><td>89        </td><td>68        </td><td>44        </td><td>54        </td><td>32        </td><td> 1        </td><td>15        </td><td>...       </td><td>0         </td><td>0         </td><td>0         </td><td>0         </td><td>0         </td><td>89        </td><td>44.00000  </td><td>0.00      </td><td>13        </td><td>13        </td></tr>\n",
       "\t<tr><td>46        </td><td>2         </td><td>2007-06-15</td><td>89        </td><td>67        </td><td>43        </td><td>56        </td><td>34        </td><td> 1        </td><td>14        </td><td>...       </td><td>0         </td><td>0         </td><td>0         </td><td>0         </td><td>0         </td><td>89        </td><td>43.00000  </td><td>0.00      </td><td>13        </td><td>13        </td></tr>\n",
       "\t<tr><td>47        </td><td>2         </td><td>2007-06-16</td><td>92        </td><td>68        </td><td>45        </td><td>61        </td><td>37        </td><td> 1        </td><td>16        </td><td>...       </td><td>0         </td><td>0         </td><td>0         </td><td>0         </td><td>0         </td><td>92        </td><td>45.00000  </td><td>0.00      </td><td>13        </td><td>13        </td></tr>\n",
       "\t<tr><td>48        </td><td>2         </td><td>2007-06-17</td><td>91        </td><td>71        </td><td>46        </td><td>65        </td><td>39        </td><td> 1        </td><td>17        </td><td>...       </td><td>0         </td><td>0         </td><td>0         </td><td>0         </td><td>0         </td><td>91        </td><td>46.00000  </td><td>0.16      </td><td>13        </td><td>13        </td></tr>\n",
       "\t<tr><td>49        </td><td>2         </td><td>2007-06-18</td><td>89        </td><td>73        </td><td>46        </td><td>65        </td><td>39        </td><td> 1        </td><td>17        </td><td>...       </td><td>0         </td><td>0         </td><td>1         </td><td>0         </td><td>0         </td><td>89        </td><td>46.00000  </td><td>0.02      </td><td>14        </td><td>14        </td></tr>\n",
       "\t<tr><td>50        </td><td>2         </td><td>2007-06-19</td><td>81        </td><td>65        </td><td>38        </td><td>55        </td><td>32        </td><td> 1        </td><td> 9        </td><td>...       </td><td>0         </td><td>0         </td><td>0         </td><td>0         </td><td>0         </td><td>81        </td><td>38.00000  </td><td>0.93      </td><td>15        </td><td>15        </td></tr>\n",
       "</tbody>\n",
       "</table>\n"
      ],
      "text/latex": [
       "\\begin{tabular}{r|llllllllllllllllllllllllllllllllllll}\n",
       " ID & Station2 & Date2 & Tmax2 & Tmin2 & Tavg2 & DewPoint2 & WetBulb2 & Heat2 & Cool2 & ... & SQ2 & TS2 & TSRA2 & VCFG2 & VCTS2 & Tmax2.imp & Tavg2.imp & PrecipTotal2.imp & RA45.2.x & RA45.2.y\\\\\n",
       "\\hline\n",
       "\t  1         & 2          & 2007-05-01 & 84         & 52         & 33         & 51         & 26         &  1         &  4         & ...        & 0          & 0          & 0          & 0          & 0          & 84         & 33.00000   & 0.00       & NA         & NA        \\\\\n",
       "\t  2         & 2          & 2007-05-02 & 60         & 43         & 17         & 42         & 16         &  6         &  1         & ...        & 0          & 0          & 0          & 0          & 0          & 60         & 17.00000   & 0.00       & NA         & NA        \\\\\n",
       "\t  3         & 2          & 2007-05-03 & 67         & 48         & 23         & 40         & 19         & 28         &  1         & ...        & 0          & 0          & 0          & 0          & 0          & 67         & 23.00000   & 0.00       & NA         & NA        \\\\\n",
       "\t  4         & 2          & 2007-05-04 & 78         & 51         & NA         & 42         & 19         & NA         & NA         & ...        & 0          & 0          & 0          & 0          & 0          & 78         & 35.20733   & 0.00       & NA         & NA        \\\\\n",
       "\t  5         & 2          & 2007-05-05 & 66         & 54         & 25         & 39         & 19         & 26         &  1         & ...        & 0          & 0          & 0          & 0          & 0          & 66         & 25.00000   & 0.00       & NA         & NA        \\\\\n",
       "\t  6         & 2          & 2007-05-06 & 68         & 52         & 25         & 30         & 15         & 26         &  1         & ...        & 0          & 0          & 0          & 0          & 0          & 68         & 25.00000   & 0.00       & NA         & NA        \\\\\n",
       "\t  7         & 2          & 2007-05-07 & 84         & 50         & 32         & 39         & 22         &  1         &  3         & ...        & 0          & 0          & 0          & 0          & 0          & 84         & 32.00000   & 0.00       & NA         & NA        \\\\\n",
       "\t  8         & 2          & 2007-05-08 & 80         & 60         & 35         & 57         & 32         &  1         &  6         & ...        & 0          & 0          & 0          & 0          & 0          & 80         & 35.00000   & 0.00       & NA         & NA        \\\\\n",
       "\t  9         & 2          & 2007-05-09 & 76         & 63         & 35         & 60         & 32         &  1         &  6         & ...        & 0          & 0          & 0          & 0          & 0          & 76         & 35.00000   & 0.02       & NA         & NA        \\\\\n",
       "\t 10         & 2          & 2007-05-10 & 83         & 59         & 36         & 52         & 30         &  1         &  7         & ...        & 0          & 0          & 0          & 0          & 0          & 83         & 36.00000   & 0.00       & NA         & NA        \\\\\n",
       "\t 11         & 2          & 2007-05-11 & 73         & 49         & 26         & 44         & 20         & 25         &  1         & ...        & 0          & 0          & 0          & 0          & 0          & 73         & 26.00000   & 0.00       & NA         & NA        \\\\\n",
       "\t 12         & 2          & 2007-05-12 & 65         & 47         & 21         & 37         & 15         & 30         &  1         & ...        & 0          & 0          & 0          & 0          & 0          & 65         & 21.00000   & 0.00       & NA         & NA        \\\\\n",
       "\t 13         & 2          & 2007-05-13 & 69         & 44         & 22         & 32         & 15         & 29         &  1         & ...        & 0          & 0          & 0          & 0          & 0          & 69         & 22.00000   & 0.00       & NA         & NA        \\\\\n",
       "\t 14         & 2          & 2007-05-14 & 90         & 54         & 37         & 45         & 27         &  1         &  8         & ...        & 0          & 0          & 0          & 0          & 0          & 90         & 37.00000   & 0.00       & NA         & NA        \\\\\n",
       "\t 15         & 2          & 2007-05-15 & 82         & 56         & 34         & 56         & 30         &  1         &  5         & ...        & 0          & 0          & 1          & 0          & 0          & 82         & 34.00000   & 0.60       & NA         & NA        \\\\\n",
       "\t 16         & 2          & 2007-05-16 & 64         & 45         & 20         & 42         & 16         &  3         &  1         & ...        & 0          & 0          & 0          & 0          & 0          & 64         & 20.00000   & 0.07       & NA         & NA        \\\\\n",
       "\t 17         & 2          & 2007-05-17 & 61         & 44         & 18         & 32         & 12         &  5         &  1         & ...        & 0          & 0          & 0          & 0          & 0          & 61         & 18.00000   & 0.00       & NA         & NA        \\\\\n",
       "\t 18         & 2          & 2007-05-18 & 70         & 43         & 22         & 31         & 16         & 29         &  1         & ...        & 0          & 0          & 0          & 0          & 0          & 70         & 22.00000   & 0.00       & NA         & NA        \\\\\n",
       "\t 19         & 2          & 2007-05-19 & 80         & 56         & 33         & 37         & 22         &  1         &  4         & ...        & 0          & 0          & 0          & 0          & 0          & 80         & 33.00000   & 0.00       & NA         & NA        \\\\\n",
       "\t 20         & 2          & 2007-05-20 & 69         & 44         & 22         & 41         & 14         & 29         &  1         & ...        & 0          & 0          & 1          & 0          & 0          & 69         & 22.00000   & 0.11       & NA         & NA        \\\\\n",
       "\t 21         & 2          & 2007-05-21 & 79         & 46         & 28         & 50         & 26         & 13         &  1         & ...        & 0          & 0          & 0          & 0          & 0          & 79         & 28.00000   & 0.00       & NA         & NA        \\\\\n",
       "\t 22         & 2          & 2007-05-22 & 87         & 60         & 39         & 44         & 27         &  1         & 10         & ...        & 0          & 0          & 0          & 0          & 0          & 87         & 39.00000   & 0.00       & NA         & NA        \\\\\n",
       "\t 23         & 2          & 2007-05-23 & 89         & 66         & 43         & 48         & 30         &  1         & 14         & ...        & 0          & 0          & 0          & 0          & 0          & 89         & 43.00000   & 0.00       & NA         & NA        \\\\\n",
       "\t 24         & 2          & 2007-05-24 & 88         & 66         & 42         & 53         & 32         &  1         & 13         & ...        & 0          & 0          & 0          & 0          & 0          & 88         & 42.00000   & 0.00       & NA         & NA        \\\\\n",
       "\t 25         & 2          & 2007-05-25 & 66         & 57         & 27         & 46         & 22         & 24         &  1         & ...        & 0          & 0          & 0          & 0          & 0          & 66         & 27.00000   & 0.09       & NA         & NA        \\\\\n",
       "\t 26         & 2          & 2007-05-26 & 70         & 50         & 25         & 55         & 26         & 26         &  1         & ...        & 0          & 0          & 1          & 0          & 0          & 70         & 25.00000   & 0.28       & NA         & NA        \\\\\n",
       "\t 27         & 2          & 2007-05-27 & 75         & 59         & 32         & 49         & 26         &  1         &  3         & ...        & 0          & 0          & 0          & 0          & 0          & 75         & 32.00000   & 0.08       & NA         & NA        \\\\\n",
       "\t 28         & 2          & 2007-05-28 & 76         & 54         & 30         & 49         & 26         &  1         &  1         & ...        & 0          & 0          & 0          & 0          & 0          & 76         & 30.00000   & 0.00       & NA         & NA        \\\\\n",
       "\t 29         & 2          & 2007-05-29 & 88         & 65         & 42         & 59         & 35         &  1         & 13         & ...        & 0          & 0          & 0          & 0          & 0          & 88         & 42.00000   & 0.00       & NA         & NA        \\\\\n",
       "\t 30         & 2          & 2007-05-30 & 89         & 70         & 45         & 57         & 35         &  1         & 16         & ...        & 0          & 0          & 0          & 0          & 0          & 89         & 45.00000   & 0.00       & NA         & NA        \\\\\n",
       "\t 31         & 2          & 2007-05-31 & 80         & 68         & 39         & 61         & 35         &  1         & 10         & ...        & 0          & 0          & 0          & 0          & 0          & 80         & 39.00000   & 0.53       & NA         & NA        \\\\\n",
       "\t 32         & 2          & 2007-06-01 & 86         & 67         & 42         & 63         & 36         &  1         & 13         & ...        & 0          & 0          & 1          & 0          & 0          & 86         & 42.00000   & 0.21       & NA         & NA        \\\\\n",
       "\t 33         & 2          & 2007-06-02 & 81         & 68         & 40         & 62         & 36         &  1         & 11         & ...        & 0          & 0          & 0          & 0          & 0          & 81         & 40.00000   & 0.00       & NA         & NA        \\\\\n",
       "\t 34         & 2          & 2007-06-03 & 77         & 64         & 36         & 60         & 33         &  1         &  7         & ...        & 0          & 0          & 0          & 0          & 1          & 77         & 36.00000   & 0.32       & NA         & NA        \\\\\n",
       "\t 35         & 2          & 2007-06-04 & 72         & 56         & 29         & 57         & 29         &  2         &  1         & ...        & 0          & 0          & 0          & 0          & 0          & 72         & 29.00000   & 0.31       & NA         & NA        \\\\\n",
       "\t 36         & 2          & 2007-06-05 & 63         & 51         & 22         & 47         & 21         & 29         &  1         & ...        & 0          & 0          & 0          & 0          & 0          & 63         & 22.00000   & 0.27       & NA         & NA        \\\\\n",
       "\t 37         & 2          & 2007-06-06 & 73         & 48         & 26         & 47         & 24         & 25         &  1         & ...        & 0          & 0          & 0          & 0          & 0          & 73         & 26.00000   & 0.00       & NA         & NA        \\\\\n",
       "\t 38         & 2          & 2007-06-07 & 92         & 71         & 47         & 61         & 37         &  1         & 18         & ...        & 0          & 0          & 0          & 0          & 0          & 92         & 47.00000   & 0.00       & NA         & NA        \\\\\n",
       "\t 39         & 2          & 2007-06-08 & 81         & 63         & 37         & 54         & 31         &  1         &  8         & ...        & 0          & 0          & 0          & 0          & 0          & 81         & 37.00000   & 0.00       & NA         & NA        \\\\\n",
       "\t 40         & 2          & 2007-06-09 & 79         & 57         & 33         & 49         & 27         &  1         &  4         & ...        & 0          & 0          & 0          & 0          & 0          & 79         & 33.00000   & 0.00       & NA         & NA        \\\\\n",
       "\t 41         & 2          & 2007-06-10 & 81         & 61         & 36         & 50         & 29         &  1         &  7         & ...        & 0          & 0          & 0          & 0          & 0          & 81         & 36.00000   & 0.00       & NA         & NA        \\\\\n",
       "\t 42         & 2          & 2007-06-11 & 85         & 65         & 40         & 51         & 30         &  1         & 11         & ...        & 0          & 0          & 0          & 0          & 0          & 85         & 40.00000   & 0.00       & NA         & NA        \\\\\n",
       "\t 43         & 2          & 2007-06-12 & 82         & 66         & 39         & 51         & 30         &  1         & 10         & ...        & 0          & 0          & 0          & 0          & 0          & 82         & 39.00000   & 0.00       & NA         & NA        \\\\\n",
       "\t 44         & 2          & 2007-06-13 & 86         & 68         & 42         & 53         & 31         &  1         & 13         & ...        & 0          & 0          & 0          & 0          & 0          & 86         & 42.00000   & 0.00       & NA         & NA        \\\\\n",
       "\t 45         & 2          & 2007-06-14 & 89         & 68         & 44         & 54         & 32         &  1         & 15         & ...        & 0          & 0          & 0          & 0          & 0          & 89         & 44.00000   & 0.00       & 13         & 13        \\\\\n",
       "\t 46         & 2          & 2007-06-15 & 89         & 67         & 43         & 56         & 34         &  1         & 14         & ...        & 0          & 0          & 0          & 0          & 0          & 89         & 43.00000   & 0.00       & 13         & 13        \\\\\n",
       "\t 47         & 2          & 2007-06-16 & 92         & 68         & 45         & 61         & 37         &  1         & 16         & ...        & 0          & 0          & 0          & 0          & 0          & 92         & 45.00000   & 0.00       & 13         & 13        \\\\\n",
       "\t 48         & 2          & 2007-06-17 & 91         & 71         & 46         & 65         & 39         &  1         & 17         & ...        & 0          & 0          & 0          & 0          & 0          & 91         & 46.00000   & 0.16       & 13         & 13        \\\\\n",
       "\t 49         & 2          & 2007-06-18 & 89         & 73         & 46         & 65         & 39         &  1         & 17         & ...        & 0          & 0          & 1          & 0          & 0          & 89         & 46.00000   & 0.02       & 14         & 14        \\\\\n",
       "\t 50         & 2          & 2007-06-19 & 81         & 65         & 38         & 55         & 32         &  1         &  9         & ...        & 0          & 0          & 0          & 0          & 0          & 81         & 38.00000   & 0.93       & 15         & 15        \\\\\n",
       "\\end{tabular}\n"
      ],
      "text/markdown": [
       "\n",
       "ID | Station2 | Date2 | Tmax2 | Tmin2 | Tavg2 | DewPoint2 | WetBulb2 | Heat2 | Cool2 | ... | SQ2 | TS2 | TSRA2 | VCFG2 | VCTS2 | Tmax2.imp | Tavg2.imp | PrecipTotal2.imp | RA45.2.x | RA45.2.y | \n",
       "|---|---|---|---|---|---|---|---|---|---|---|---|---|---|---|---|---|---|---|---|---|---|---|---|---|---|---|---|---|---|---|---|---|---|---|---|---|---|---|---|---|---|---|---|---|---|---|---|---|---|\n",
       "|  1         | 2          | 2007-05-01 | 84         | 52         | 33         | 51         | 26         |  1         |  4         | ...        | 0          | 0          | 0          | 0          | 0          | 84         | 33.00000   | 0.00       | NA         | NA         | \n",
       "|  2         | 2          | 2007-05-02 | 60         | 43         | 17         | 42         | 16         |  6         |  1         | ...        | 0          | 0          | 0          | 0          | 0          | 60         | 17.00000   | 0.00       | NA         | NA         | \n",
       "|  3         | 2          | 2007-05-03 | 67         | 48         | 23         | 40         | 19         | 28         |  1         | ...        | 0          | 0          | 0          | 0          | 0          | 67         | 23.00000   | 0.00       | NA         | NA         | \n",
       "|  4         | 2          | 2007-05-04 | 78         | 51         | NA         | 42         | 19         | NA         | NA         | ...        | 0          | 0          | 0          | 0          | 0          | 78         | 35.20733   | 0.00       | NA         | NA         | \n",
       "|  5         | 2          | 2007-05-05 | 66         | 54         | 25         | 39         | 19         | 26         |  1         | ...        | 0          | 0          | 0          | 0          | 0          | 66         | 25.00000   | 0.00       | NA         | NA         | \n",
       "|  6         | 2          | 2007-05-06 | 68         | 52         | 25         | 30         | 15         | 26         |  1         | ...        | 0          | 0          | 0          | 0          | 0          | 68         | 25.00000   | 0.00       | NA         | NA         | \n",
       "|  7         | 2          | 2007-05-07 | 84         | 50         | 32         | 39         | 22         |  1         |  3         | ...        | 0          | 0          | 0          | 0          | 0          | 84         | 32.00000   | 0.00       | NA         | NA         | \n",
       "|  8         | 2          | 2007-05-08 | 80         | 60         | 35         | 57         | 32         |  1         |  6         | ...        | 0          | 0          | 0          | 0          | 0          | 80         | 35.00000   | 0.00       | NA         | NA         | \n",
       "|  9         | 2          | 2007-05-09 | 76         | 63         | 35         | 60         | 32         |  1         |  6         | ...        | 0          | 0          | 0          | 0          | 0          | 76         | 35.00000   | 0.02       | NA         | NA         | \n",
       "| 10         | 2          | 2007-05-10 | 83         | 59         | 36         | 52         | 30         |  1         |  7         | ...        | 0          | 0          | 0          | 0          | 0          | 83         | 36.00000   | 0.00       | NA         | NA         | \n",
       "| 11         | 2          | 2007-05-11 | 73         | 49         | 26         | 44         | 20         | 25         |  1         | ...        | 0          | 0          | 0          | 0          | 0          | 73         | 26.00000   | 0.00       | NA         | NA         | \n",
       "| 12         | 2          | 2007-05-12 | 65         | 47         | 21         | 37         | 15         | 30         |  1         | ...        | 0          | 0          | 0          | 0          | 0          | 65         | 21.00000   | 0.00       | NA         | NA         | \n",
       "| 13         | 2          | 2007-05-13 | 69         | 44         | 22         | 32         | 15         | 29         |  1         | ...        | 0          | 0          | 0          | 0          | 0          | 69         | 22.00000   | 0.00       | NA         | NA         | \n",
       "| 14         | 2          | 2007-05-14 | 90         | 54         | 37         | 45         | 27         |  1         |  8         | ...        | 0          | 0          | 0          | 0          | 0          | 90         | 37.00000   | 0.00       | NA         | NA         | \n",
       "| 15         | 2          | 2007-05-15 | 82         | 56         | 34         | 56         | 30         |  1         |  5         | ...        | 0          | 0          | 1          | 0          | 0          | 82         | 34.00000   | 0.60       | NA         | NA         | \n",
       "| 16         | 2          | 2007-05-16 | 64         | 45         | 20         | 42         | 16         |  3         |  1         | ...        | 0          | 0          | 0          | 0          | 0          | 64         | 20.00000   | 0.07       | NA         | NA         | \n",
       "| 17         | 2          | 2007-05-17 | 61         | 44         | 18         | 32         | 12         |  5         |  1         | ...        | 0          | 0          | 0          | 0          | 0          | 61         | 18.00000   | 0.00       | NA         | NA         | \n",
       "| 18         | 2          | 2007-05-18 | 70         | 43         | 22         | 31         | 16         | 29         |  1         | ...        | 0          | 0          | 0          | 0          | 0          | 70         | 22.00000   | 0.00       | NA         | NA         | \n",
       "| 19         | 2          | 2007-05-19 | 80         | 56         | 33         | 37         | 22         |  1         |  4         | ...        | 0          | 0          | 0          | 0          | 0          | 80         | 33.00000   | 0.00       | NA         | NA         | \n",
       "| 20         | 2          | 2007-05-20 | 69         | 44         | 22         | 41         | 14         | 29         |  1         | ...        | 0          | 0          | 1          | 0          | 0          | 69         | 22.00000   | 0.11       | NA         | NA         | \n",
       "| 21         | 2          | 2007-05-21 | 79         | 46         | 28         | 50         | 26         | 13         |  1         | ...        | 0          | 0          | 0          | 0          | 0          | 79         | 28.00000   | 0.00       | NA         | NA         | \n",
       "| 22         | 2          | 2007-05-22 | 87         | 60         | 39         | 44         | 27         |  1         | 10         | ...        | 0          | 0          | 0          | 0          | 0          | 87         | 39.00000   | 0.00       | NA         | NA         | \n",
       "| 23         | 2          | 2007-05-23 | 89         | 66         | 43         | 48         | 30         |  1         | 14         | ...        | 0          | 0          | 0          | 0          | 0          | 89         | 43.00000   | 0.00       | NA         | NA         | \n",
       "| 24         | 2          | 2007-05-24 | 88         | 66         | 42         | 53         | 32         |  1         | 13         | ...        | 0          | 0          | 0          | 0          | 0          | 88         | 42.00000   | 0.00       | NA         | NA         | \n",
       "| 25         | 2          | 2007-05-25 | 66         | 57         | 27         | 46         | 22         | 24         |  1         | ...        | 0          | 0          | 0          | 0          | 0          | 66         | 27.00000   | 0.09       | NA         | NA         | \n",
       "| 26         | 2          | 2007-05-26 | 70         | 50         | 25         | 55         | 26         | 26         |  1         | ...        | 0          | 0          | 1          | 0          | 0          | 70         | 25.00000   | 0.28       | NA         | NA         | \n",
       "| 27         | 2          | 2007-05-27 | 75         | 59         | 32         | 49         | 26         |  1         |  3         | ...        | 0          | 0          | 0          | 0          | 0          | 75         | 32.00000   | 0.08       | NA         | NA         | \n",
       "| 28         | 2          | 2007-05-28 | 76         | 54         | 30         | 49         | 26         |  1         |  1         | ...        | 0          | 0          | 0          | 0          | 0          | 76         | 30.00000   | 0.00       | NA         | NA         | \n",
       "| 29         | 2          | 2007-05-29 | 88         | 65         | 42         | 59         | 35         |  1         | 13         | ...        | 0          | 0          | 0          | 0          | 0          | 88         | 42.00000   | 0.00       | NA         | NA         | \n",
       "| 30         | 2          | 2007-05-30 | 89         | 70         | 45         | 57         | 35         |  1         | 16         | ...        | 0          | 0          | 0          | 0          | 0          | 89         | 45.00000   | 0.00       | NA         | NA         | \n",
       "| 31         | 2          | 2007-05-31 | 80         | 68         | 39         | 61         | 35         |  1         | 10         | ...        | 0          | 0          | 0          | 0          | 0          | 80         | 39.00000   | 0.53       | NA         | NA         | \n",
       "| 32         | 2          | 2007-06-01 | 86         | 67         | 42         | 63         | 36         |  1         | 13         | ...        | 0          | 0          | 1          | 0          | 0          | 86         | 42.00000   | 0.21       | NA         | NA         | \n",
       "| 33         | 2          | 2007-06-02 | 81         | 68         | 40         | 62         | 36         |  1         | 11         | ...        | 0          | 0          | 0          | 0          | 0          | 81         | 40.00000   | 0.00       | NA         | NA         | \n",
       "| 34         | 2          | 2007-06-03 | 77         | 64         | 36         | 60         | 33         |  1         |  7         | ...        | 0          | 0          | 0          | 0          | 1          | 77         | 36.00000   | 0.32       | NA         | NA         | \n",
       "| 35         | 2          | 2007-06-04 | 72         | 56         | 29         | 57         | 29         |  2         |  1         | ...        | 0          | 0          | 0          | 0          | 0          | 72         | 29.00000   | 0.31       | NA         | NA         | \n",
       "| 36         | 2          | 2007-06-05 | 63         | 51         | 22         | 47         | 21         | 29         |  1         | ...        | 0          | 0          | 0          | 0          | 0          | 63         | 22.00000   | 0.27       | NA         | NA         | \n",
       "| 37         | 2          | 2007-06-06 | 73         | 48         | 26         | 47         | 24         | 25         |  1         | ...        | 0          | 0          | 0          | 0          | 0          | 73         | 26.00000   | 0.00       | NA         | NA         | \n",
       "| 38         | 2          | 2007-06-07 | 92         | 71         | 47         | 61         | 37         |  1         | 18         | ...        | 0          | 0          | 0          | 0          | 0          | 92         | 47.00000   | 0.00       | NA         | NA         | \n",
       "| 39         | 2          | 2007-06-08 | 81         | 63         | 37         | 54         | 31         |  1         |  8         | ...        | 0          | 0          | 0          | 0          | 0          | 81         | 37.00000   | 0.00       | NA         | NA         | \n",
       "| 40         | 2          | 2007-06-09 | 79         | 57         | 33         | 49         | 27         |  1         |  4         | ...        | 0          | 0          | 0          | 0          | 0          | 79         | 33.00000   | 0.00       | NA         | NA         | \n",
       "| 41         | 2          | 2007-06-10 | 81         | 61         | 36         | 50         | 29         |  1         |  7         | ...        | 0          | 0          | 0          | 0          | 0          | 81         | 36.00000   | 0.00       | NA         | NA         | \n",
       "| 42         | 2          | 2007-06-11 | 85         | 65         | 40         | 51         | 30         |  1         | 11         | ...        | 0          | 0          | 0          | 0          | 0          | 85         | 40.00000   | 0.00       | NA         | NA         | \n",
       "| 43         | 2          | 2007-06-12 | 82         | 66         | 39         | 51         | 30         |  1         | 10         | ...        | 0          | 0          | 0          | 0          | 0          | 82         | 39.00000   | 0.00       | NA         | NA         | \n",
       "| 44         | 2          | 2007-06-13 | 86         | 68         | 42         | 53         | 31         |  1         | 13         | ...        | 0          | 0          | 0          | 0          | 0          | 86         | 42.00000   | 0.00       | NA         | NA         | \n",
       "| 45         | 2          | 2007-06-14 | 89         | 68         | 44         | 54         | 32         |  1         | 15         | ...        | 0          | 0          | 0          | 0          | 0          | 89         | 44.00000   | 0.00       | 13         | 13         | \n",
       "| 46         | 2          | 2007-06-15 | 89         | 67         | 43         | 56         | 34         |  1         | 14         | ...        | 0          | 0          | 0          | 0          | 0          | 89         | 43.00000   | 0.00       | 13         | 13         | \n",
       "| 47         | 2          | 2007-06-16 | 92         | 68         | 45         | 61         | 37         |  1         | 16         | ...        | 0          | 0          | 0          | 0          | 0          | 92         | 45.00000   | 0.00       | 13         | 13         | \n",
       "| 48         | 2          | 2007-06-17 | 91         | 71         | 46         | 65         | 39         |  1         | 17         | ...        | 0          | 0          | 0          | 0          | 0          | 91         | 46.00000   | 0.16       | 13         | 13         | \n",
       "| 49         | 2          | 2007-06-18 | 89         | 73         | 46         | 65         | 39         |  1         | 17         | ...        | 0          | 0          | 1          | 0          | 0          | 89         | 46.00000   | 0.02       | 14         | 14         | \n",
       "| 50         | 2          | 2007-06-19 | 81         | 65         | 38         | 55         | 32         |  1         |  9         | ...        | 0          | 0          | 0          | 0          | 0          | 81         | 38.00000   | 0.93       | 15         | 15         | \n",
       "\n",
       "\n"
      ],
      "text/plain": [
       "   ID Station2 Date2      Tmax2 Tmin2 Tavg2 DewPoint2 WetBulb2 Heat2 Cool2 ...\n",
       "1   1 2        2007-05-01 84    52    33    51        26        1     4    ...\n",
       "2   2 2        2007-05-02 60    43    17    42        16        6     1    ...\n",
       "3   3 2        2007-05-03 67    48    23    40        19       28     1    ...\n",
       "4   4 2        2007-05-04 78    51    NA    42        19       NA    NA    ...\n",
       "5   5 2        2007-05-05 66    54    25    39        19       26     1    ...\n",
       "6   6 2        2007-05-06 68    52    25    30        15       26     1    ...\n",
       "7   7 2        2007-05-07 84    50    32    39        22        1     3    ...\n",
       "8   8 2        2007-05-08 80    60    35    57        32        1     6    ...\n",
       "9   9 2        2007-05-09 76    63    35    60        32        1     6    ...\n",
       "10 10 2        2007-05-10 83    59    36    52        30        1     7    ...\n",
       "11 11 2        2007-05-11 73    49    26    44        20       25     1    ...\n",
       "12 12 2        2007-05-12 65    47    21    37        15       30     1    ...\n",
       "13 13 2        2007-05-13 69    44    22    32        15       29     1    ...\n",
       "14 14 2        2007-05-14 90    54    37    45        27        1     8    ...\n",
       "15 15 2        2007-05-15 82    56    34    56        30        1     5    ...\n",
       "16 16 2        2007-05-16 64    45    20    42        16        3     1    ...\n",
       "17 17 2        2007-05-17 61    44    18    32        12        5     1    ...\n",
       "18 18 2        2007-05-18 70    43    22    31        16       29     1    ...\n",
       "19 19 2        2007-05-19 80    56    33    37        22        1     4    ...\n",
       "20 20 2        2007-05-20 69    44    22    41        14       29     1    ...\n",
       "21 21 2        2007-05-21 79    46    28    50        26       13     1    ...\n",
       "22 22 2        2007-05-22 87    60    39    44        27        1    10    ...\n",
       "23 23 2        2007-05-23 89    66    43    48        30        1    14    ...\n",
       "24 24 2        2007-05-24 88    66    42    53        32        1    13    ...\n",
       "25 25 2        2007-05-25 66    57    27    46        22       24     1    ...\n",
       "26 26 2        2007-05-26 70    50    25    55        26       26     1    ...\n",
       "27 27 2        2007-05-27 75    59    32    49        26        1     3    ...\n",
       "28 28 2        2007-05-28 76    54    30    49        26        1     1    ...\n",
       "29 29 2        2007-05-29 88    65    42    59        35        1    13    ...\n",
       "30 30 2        2007-05-30 89    70    45    57        35        1    16    ...\n",
       "31 31 2        2007-05-31 80    68    39    61        35        1    10    ...\n",
       "32 32 2        2007-06-01 86    67    42    63        36        1    13    ...\n",
       "33 33 2        2007-06-02 81    68    40    62        36        1    11    ...\n",
       "34 34 2        2007-06-03 77    64    36    60        33        1     7    ...\n",
       "35 35 2        2007-06-04 72    56    29    57        29        2     1    ...\n",
       "36 36 2        2007-06-05 63    51    22    47        21       29     1    ...\n",
       "37 37 2        2007-06-06 73    48    26    47        24       25     1    ...\n",
       "38 38 2        2007-06-07 92    71    47    61        37        1    18    ...\n",
       "39 39 2        2007-06-08 81    63    37    54        31        1     8    ...\n",
       "40 40 2        2007-06-09 79    57    33    49        27        1     4    ...\n",
       "41 41 2        2007-06-10 81    61    36    50        29        1     7    ...\n",
       "42 42 2        2007-06-11 85    65    40    51        30        1    11    ...\n",
       "43 43 2        2007-06-12 82    66    39    51        30        1    10    ...\n",
       "44 44 2        2007-06-13 86    68    42    53        31        1    13    ...\n",
       "45 45 2        2007-06-14 89    68    44    54        32        1    15    ...\n",
       "46 46 2        2007-06-15 89    67    43    56        34        1    14    ...\n",
       "47 47 2        2007-06-16 92    68    45    61        37        1    16    ...\n",
       "48 48 2        2007-06-17 91    71    46    65        39        1    17    ...\n",
       "49 49 2        2007-06-18 89    73    46    65        39        1    17    ...\n",
       "50 50 2        2007-06-19 81    65    38    55        32        1     9    ...\n",
       "   SQ2 TS2 TSRA2 VCFG2 VCTS2 Tmax2.imp Tavg2.imp PrecipTotal2.imp RA45.2.x\n",
       "1  0   0   0     0     0     84        33.00000  0.00             NA      \n",
       "2  0   0   0     0     0     60        17.00000  0.00             NA      \n",
       "3  0   0   0     0     0     67        23.00000  0.00             NA      \n",
       "4  0   0   0     0     0     78        35.20733  0.00             NA      \n",
       "5  0   0   0     0     0     66        25.00000  0.00             NA      \n",
       "6  0   0   0     0     0     68        25.00000  0.00             NA      \n",
       "7  0   0   0     0     0     84        32.00000  0.00             NA      \n",
       "8  0   0   0     0     0     80        35.00000  0.00             NA      \n",
       "9  0   0   0     0     0     76        35.00000  0.02             NA      \n",
       "10 0   0   0     0     0     83        36.00000  0.00             NA      \n",
       "11 0   0   0     0     0     73        26.00000  0.00             NA      \n",
       "12 0   0   0     0     0     65        21.00000  0.00             NA      \n",
       "13 0   0   0     0     0     69        22.00000  0.00             NA      \n",
       "14 0   0   0     0     0     90        37.00000  0.00             NA      \n",
       "15 0   0   1     0     0     82        34.00000  0.60             NA      \n",
       "16 0   0   0     0     0     64        20.00000  0.07             NA      \n",
       "17 0   0   0     0     0     61        18.00000  0.00             NA      \n",
       "18 0   0   0     0     0     70        22.00000  0.00             NA      \n",
       "19 0   0   0     0     0     80        33.00000  0.00             NA      \n",
       "20 0   0   1     0     0     69        22.00000  0.11             NA      \n",
       "21 0   0   0     0     0     79        28.00000  0.00             NA      \n",
       "22 0   0   0     0     0     87        39.00000  0.00             NA      \n",
       "23 0   0   0     0     0     89        43.00000  0.00             NA      \n",
       "24 0   0   0     0     0     88        42.00000  0.00             NA      \n",
       "25 0   0   0     0     0     66        27.00000  0.09             NA      \n",
       "26 0   0   1     0     0     70        25.00000  0.28             NA      \n",
       "27 0   0   0     0     0     75        32.00000  0.08             NA      \n",
       "28 0   0   0     0     0     76        30.00000  0.00             NA      \n",
       "29 0   0   0     0     0     88        42.00000  0.00             NA      \n",
       "30 0   0   0     0     0     89        45.00000  0.00             NA      \n",
       "31 0   0   0     0     0     80        39.00000  0.53             NA      \n",
       "32 0   0   1     0     0     86        42.00000  0.21             NA      \n",
       "33 0   0   0     0     0     81        40.00000  0.00             NA      \n",
       "34 0   0   0     0     1     77        36.00000  0.32             NA      \n",
       "35 0   0   0     0     0     72        29.00000  0.31             NA      \n",
       "36 0   0   0     0     0     63        22.00000  0.27             NA      \n",
       "37 0   0   0     0     0     73        26.00000  0.00             NA      \n",
       "38 0   0   0     0     0     92        47.00000  0.00             NA      \n",
       "39 0   0   0     0     0     81        37.00000  0.00             NA      \n",
       "40 0   0   0     0     0     79        33.00000  0.00             NA      \n",
       "41 0   0   0     0     0     81        36.00000  0.00             NA      \n",
       "42 0   0   0     0     0     85        40.00000  0.00             NA      \n",
       "43 0   0   0     0     0     82        39.00000  0.00             NA      \n",
       "44 0   0   0     0     0     86        42.00000  0.00             NA      \n",
       "45 0   0   0     0     0     89        44.00000  0.00             13      \n",
       "46 0   0   0     0     0     89        43.00000  0.00             13      \n",
       "47 0   0   0     0     0     92        45.00000  0.00             13      \n",
       "48 0   0   0     0     0     91        46.00000  0.16             13      \n",
       "49 0   0   1     0     0     89        46.00000  0.02             14      \n",
       "50 0   0   0     0     0     81        38.00000  0.93             15      \n",
       "   RA45.2.y\n",
       "1  NA      \n",
       "2  NA      \n",
       "3  NA      \n",
       "4  NA      \n",
       "5  NA      \n",
       "6  NA      \n",
       "7  NA      \n",
       "8  NA      \n",
       "9  NA      \n",
       "10 NA      \n",
       "11 NA      \n",
       "12 NA      \n",
       "13 NA      \n",
       "14 NA      \n",
       "15 NA      \n",
       "16 NA      \n",
       "17 NA      \n",
       "18 NA      \n",
       "19 NA      \n",
       "20 NA      \n",
       "21 NA      \n",
       "22 NA      \n",
       "23 NA      \n",
       "24 NA      \n",
       "25 NA      \n",
       "26 NA      \n",
       "27 NA      \n",
       "28 NA      \n",
       "29 NA      \n",
       "30 NA      \n",
       "31 NA      \n",
       "32 NA      \n",
       "33 NA      \n",
       "34 NA      \n",
       "35 NA      \n",
       "36 NA      \n",
       "37 NA      \n",
       "38 NA      \n",
       "39 NA      \n",
       "40 NA      \n",
       "41 NA      \n",
       "42 NA      \n",
       "43 NA      \n",
       "44 NA      \n",
       "45 13      \n",
       "46 13      \n",
       "47 13      \n",
       "48 13      \n",
       "49 14      \n",
       "50 15      "
      ]
     },
     "metadata": {},
     "output_type": "display_data"
    }
   ],
   "source": [
    "wea22.imp <- left_join(wea22.imp, rain45.2, by=\"Date2\")\n",
    "head(wea22.imp,50)"
   ]
  },
  {
   "cell_type": "code",
   "execution_count": 35,
   "metadata": {},
   "outputs": [],
   "source": [
    "wea22.imp$RA45.2.x<-NULL"
   ]
  },
  {
   "cell_type": "code",
   "execution_count": 37,
   "metadata": {},
   "outputs": [
    {
     "data": {
      "text/html": [
       "<table>\n",
       "<thead><tr><th scope=col>ID</th><th scope=col>Station2</th><th scope=col>Date2</th><th scope=col>Tmax2</th><th scope=col>Tmin2</th><th scope=col>Tavg2</th><th scope=col>DewPoint2</th><th scope=col>WetBulb2</th><th scope=col>Heat2</th><th scope=col>Cool2</th><th scope=col>...</th><th scope=col>SN2</th><th scope=col>SQ2</th><th scope=col>TS2</th><th scope=col>TSRA2</th><th scope=col>VCFG2</th><th scope=col>VCTS2</th><th scope=col>Tmax2.imp</th><th scope=col>Tavg2.imp</th><th scope=col>PrecipTotal2.imp</th><th scope=col>RA45.2.y</th></tr></thead>\n",
       "<tbody>\n",
       "\t<tr><td>1         </td><td>2         </td><td>2007-05-01</td><td>84        </td><td>52        </td><td>33        </td><td>51        </td><td>26        </td><td> 1        </td><td> 4        </td><td>...       </td><td>0         </td><td>0         </td><td>0         </td><td>0         </td><td>0         </td><td>0         </td><td>84        </td><td>33.00000  </td><td>0         </td><td>NA        </td></tr>\n",
       "\t<tr><td>2         </td><td>2         </td><td>2007-05-02</td><td>60        </td><td>43        </td><td>17        </td><td>42        </td><td>16        </td><td> 6        </td><td> 1        </td><td>...       </td><td>0         </td><td>0         </td><td>0         </td><td>0         </td><td>0         </td><td>0         </td><td>60        </td><td>17.00000  </td><td>0         </td><td>NA        </td></tr>\n",
       "\t<tr><td>3         </td><td>2         </td><td>2007-05-03</td><td>67        </td><td>48        </td><td>23        </td><td>40        </td><td>19        </td><td>28        </td><td> 1        </td><td>...       </td><td>0         </td><td>0         </td><td>0         </td><td>0         </td><td>0         </td><td>0         </td><td>67        </td><td>23.00000  </td><td>0         </td><td>NA        </td></tr>\n",
       "\t<tr><td>4         </td><td>2         </td><td>2007-05-04</td><td>78        </td><td>51        </td><td>NA        </td><td>42        </td><td>19        </td><td>NA        </td><td>NA        </td><td>...       </td><td>0         </td><td>0         </td><td>0         </td><td>0         </td><td>0         </td><td>0         </td><td>78        </td><td>35.20733  </td><td>0         </td><td>NA        </td></tr>\n",
       "\t<tr><td>5         </td><td>2         </td><td>2007-05-05</td><td>66        </td><td>54        </td><td>25        </td><td>39        </td><td>19        </td><td>26        </td><td> 1        </td><td>...       </td><td>0         </td><td>0         </td><td>0         </td><td>0         </td><td>0         </td><td>0         </td><td>66        </td><td>25.00000  </td><td>0         </td><td>NA        </td></tr>\n",
       "</tbody>\n",
       "</table>\n"
      ],
      "text/latex": [
       "\\begin{tabular}{r|lllllllllllllllllllllllllllllllllll}\n",
       " ID & Station2 & Date2 & Tmax2 & Tmin2 & Tavg2 & DewPoint2 & WetBulb2 & Heat2 & Cool2 & ... & SN2 & SQ2 & TS2 & TSRA2 & VCFG2 & VCTS2 & Tmax2.imp & Tavg2.imp & PrecipTotal2.imp & RA45.2.y\\\\\n",
       "\\hline\n",
       "\t 1          & 2          & 2007-05-01 & 84         & 52         & 33         & 51         & 26         &  1         &  4         & ...        & 0          & 0          & 0          & 0          & 0          & 0          & 84         & 33.00000   & 0          & NA        \\\\\n",
       "\t 2          & 2          & 2007-05-02 & 60         & 43         & 17         & 42         & 16         &  6         &  1         & ...        & 0          & 0          & 0          & 0          & 0          & 0          & 60         & 17.00000   & 0          & NA        \\\\\n",
       "\t 3          & 2          & 2007-05-03 & 67         & 48         & 23         & 40         & 19         & 28         &  1         & ...        & 0          & 0          & 0          & 0          & 0          & 0          & 67         & 23.00000   & 0          & NA        \\\\\n",
       "\t 4          & 2          & 2007-05-04 & 78         & 51         & NA         & 42         & 19         & NA         & NA         & ...        & 0          & 0          & 0          & 0          & 0          & 0          & 78         & 35.20733   & 0          & NA        \\\\\n",
       "\t 5          & 2          & 2007-05-05 & 66         & 54         & 25         & 39         & 19         & 26         &  1         & ...        & 0          & 0          & 0          & 0          & 0          & 0          & 66         & 25.00000   & 0          & NA        \\\\\n",
       "\\end{tabular}\n"
      ],
      "text/markdown": [
       "\n",
       "ID | Station2 | Date2 | Tmax2 | Tmin2 | Tavg2 | DewPoint2 | WetBulb2 | Heat2 | Cool2 | ... | SN2 | SQ2 | TS2 | TSRA2 | VCFG2 | VCTS2 | Tmax2.imp | Tavg2.imp | PrecipTotal2.imp | RA45.2.y | \n",
       "|---|---|---|---|---|\n",
       "| 1          | 2          | 2007-05-01 | 84         | 52         | 33         | 51         | 26         |  1         |  4         | ...        | 0          | 0          | 0          | 0          | 0          | 0          | 84         | 33.00000   | 0          | NA         | \n",
       "| 2          | 2          | 2007-05-02 | 60         | 43         | 17         | 42         | 16         |  6         |  1         | ...        | 0          | 0          | 0          | 0          | 0          | 0          | 60         | 17.00000   | 0          | NA         | \n",
       "| 3          | 2          | 2007-05-03 | 67         | 48         | 23         | 40         | 19         | 28         |  1         | ...        | 0          | 0          | 0          | 0          | 0          | 0          | 67         | 23.00000   | 0          | NA         | \n",
       "| 4          | 2          | 2007-05-04 | 78         | 51         | NA         | 42         | 19         | NA         | NA         | ...        | 0          | 0          | 0          | 0          | 0          | 0          | 78         | 35.20733   | 0          | NA         | \n",
       "| 5          | 2          | 2007-05-05 | 66         | 54         | 25         | 39         | 19         | 26         |  1         | ...        | 0          | 0          | 0          | 0          | 0          | 0          | 66         | 25.00000   | 0          | NA         | \n",
       "\n",
       "\n"
      ],
      "text/plain": [
       "  ID Station2 Date2      Tmax2 Tmin2 Tavg2 DewPoint2 WetBulb2 Heat2 Cool2 ...\n",
       "1 1  2        2007-05-01 84    52    33    51        26        1     4    ...\n",
       "2 2  2        2007-05-02 60    43    17    42        16        6     1    ...\n",
       "3 3  2        2007-05-03 67    48    23    40        19       28     1    ...\n",
       "4 4  2        2007-05-04 78    51    NA    42        19       NA    NA    ...\n",
       "5 5  2        2007-05-05 66    54    25    39        19       26     1    ...\n",
       "  SN2 SQ2 TS2 TSRA2 VCFG2 VCTS2 Tmax2.imp Tavg2.imp PrecipTotal2.imp RA45.2.y\n",
       "1 0   0   0   0     0     0     84        33.00000  0                NA      \n",
       "2 0   0   0   0     0     0     60        17.00000  0                NA      \n",
       "3 0   0   0   0     0     0     67        23.00000  0                NA      \n",
       "4 0   0   0   0     0     0     78        35.20733  0                NA      \n",
       "5 0   0   0   0     0     0     66        25.00000  0                NA      "
      ]
     },
     "metadata": {},
     "output_type": "display_data"
    }
   ],
   "source": [
    "head(wea22.imp,5)"
   ]
  },
  {
   "cell_type": "code",
   "execution_count": 38,
   "metadata": {},
   "outputs": [
    {
     "data": {
      "text/html": [
       "35"
      ],
      "text/latex": [
       "35"
      ],
      "text/markdown": [
       "35"
      ],
      "text/plain": [
       "[1] 35"
      ]
     },
     "metadata": {},
     "output_type": "display_data"
    }
   ],
   "source": [
    "grep('RA45.2.y', colnames(wea22.imp))"
   ]
  },
  {
   "cell_type": "code",
   "execution_count": 41,
   "metadata": {},
   "outputs": [],
   "source": [
    "colnames(wea22.imp)[35] <- 'RA45.2'"
   ]
  },
  {
   "cell_type": "code",
   "execution_count": 42,
   "metadata": {},
   "outputs": [
    {
     "data": {
      "text/html": [
       "<table>\n",
       "<thead><tr><th scope=col>ID</th><th scope=col>Station2</th><th scope=col>Date2</th><th scope=col>Tmax2</th><th scope=col>Tmin2</th><th scope=col>Tavg2</th><th scope=col>DewPoint2</th><th scope=col>WetBulb2</th><th scope=col>Heat2</th><th scope=col>Cool2</th><th scope=col>...</th><th scope=col>SN2</th><th scope=col>SQ2</th><th scope=col>TS2</th><th scope=col>TSRA2</th><th scope=col>VCFG2</th><th scope=col>VCTS2</th><th scope=col>Tmax2.imp</th><th scope=col>Tavg2.imp</th><th scope=col>PrecipTotal2.imp</th><th scope=col>RA45.2</th></tr></thead>\n",
       "<tbody>\n",
       "\t<tr><td>1         </td><td>2         </td><td>2007-05-01</td><td>84        </td><td>52        </td><td>33        </td><td>51        </td><td>26        </td><td> 1        </td><td> 4        </td><td>...       </td><td>0         </td><td>0         </td><td>0         </td><td>0         </td><td>0         </td><td>0         </td><td>84        </td><td>33.00000  </td><td>0         </td><td>NA        </td></tr>\n",
       "\t<tr><td>2         </td><td>2         </td><td>2007-05-02</td><td>60        </td><td>43        </td><td>17        </td><td>42        </td><td>16        </td><td> 6        </td><td> 1        </td><td>...       </td><td>0         </td><td>0         </td><td>0         </td><td>0         </td><td>0         </td><td>0         </td><td>60        </td><td>17.00000  </td><td>0         </td><td>NA        </td></tr>\n",
       "\t<tr><td>3         </td><td>2         </td><td>2007-05-03</td><td>67        </td><td>48        </td><td>23        </td><td>40        </td><td>19        </td><td>28        </td><td> 1        </td><td>...       </td><td>0         </td><td>0         </td><td>0         </td><td>0         </td><td>0         </td><td>0         </td><td>67        </td><td>23.00000  </td><td>0         </td><td>NA        </td></tr>\n",
       "\t<tr><td>4         </td><td>2         </td><td>2007-05-04</td><td>78        </td><td>51        </td><td>NA        </td><td>42        </td><td>19        </td><td>NA        </td><td>NA        </td><td>...       </td><td>0         </td><td>0         </td><td>0         </td><td>0         </td><td>0         </td><td>0         </td><td>78        </td><td>35.20733  </td><td>0         </td><td>NA        </td></tr>\n",
       "\t<tr><td>5         </td><td>2         </td><td>2007-05-05</td><td>66        </td><td>54        </td><td>25        </td><td>39        </td><td>19        </td><td>26        </td><td> 1        </td><td>...       </td><td>0         </td><td>0         </td><td>0         </td><td>0         </td><td>0         </td><td>0         </td><td>66        </td><td>25.00000  </td><td>0         </td><td>NA        </td></tr>\n",
       "</tbody>\n",
       "</table>\n"
      ],
      "text/latex": [
       "\\begin{tabular}{r|lllllllllllllllllllllllllllllllllll}\n",
       " ID & Station2 & Date2 & Tmax2 & Tmin2 & Tavg2 & DewPoint2 & WetBulb2 & Heat2 & Cool2 & ... & SN2 & SQ2 & TS2 & TSRA2 & VCFG2 & VCTS2 & Tmax2.imp & Tavg2.imp & PrecipTotal2.imp & RA45.2\\\\\n",
       "\\hline\n",
       "\t 1          & 2          & 2007-05-01 & 84         & 52         & 33         & 51         & 26         &  1         &  4         & ...        & 0          & 0          & 0          & 0          & 0          & 0          & 84         & 33.00000   & 0          & NA        \\\\\n",
       "\t 2          & 2          & 2007-05-02 & 60         & 43         & 17         & 42         & 16         &  6         &  1         & ...        & 0          & 0          & 0          & 0          & 0          & 0          & 60         & 17.00000   & 0          & NA        \\\\\n",
       "\t 3          & 2          & 2007-05-03 & 67         & 48         & 23         & 40         & 19         & 28         &  1         & ...        & 0          & 0          & 0          & 0          & 0          & 0          & 67         & 23.00000   & 0          & NA        \\\\\n",
       "\t 4          & 2          & 2007-05-04 & 78         & 51         & NA         & 42         & 19         & NA         & NA         & ...        & 0          & 0          & 0          & 0          & 0          & 0          & 78         & 35.20733   & 0          & NA        \\\\\n",
       "\t 5          & 2          & 2007-05-05 & 66         & 54         & 25         & 39         & 19         & 26         &  1         & ...        & 0          & 0          & 0          & 0          & 0          & 0          & 66         & 25.00000   & 0          & NA        \\\\\n",
       "\\end{tabular}\n"
      ],
      "text/markdown": [
       "\n",
       "ID | Station2 | Date2 | Tmax2 | Tmin2 | Tavg2 | DewPoint2 | WetBulb2 | Heat2 | Cool2 | ... | SN2 | SQ2 | TS2 | TSRA2 | VCFG2 | VCTS2 | Tmax2.imp | Tavg2.imp | PrecipTotal2.imp | RA45.2 | \n",
       "|---|---|---|---|---|\n",
       "| 1          | 2          | 2007-05-01 | 84         | 52         | 33         | 51         | 26         |  1         |  4         | ...        | 0          | 0          | 0          | 0          | 0          | 0          | 84         | 33.00000   | 0          | NA         | \n",
       "| 2          | 2          | 2007-05-02 | 60         | 43         | 17         | 42         | 16         |  6         |  1         | ...        | 0          | 0          | 0          | 0          | 0          | 0          | 60         | 17.00000   | 0          | NA         | \n",
       "| 3          | 2          | 2007-05-03 | 67         | 48         | 23         | 40         | 19         | 28         |  1         | ...        | 0          | 0          | 0          | 0          | 0          | 0          | 67         | 23.00000   | 0          | NA         | \n",
       "| 4          | 2          | 2007-05-04 | 78         | 51         | NA         | 42         | 19         | NA         | NA         | ...        | 0          | 0          | 0          | 0          | 0          | 0          | 78         | 35.20733   | 0          | NA         | \n",
       "| 5          | 2          | 2007-05-05 | 66         | 54         | 25         | 39         | 19         | 26         |  1         | ...        | 0          | 0          | 0          | 0          | 0          | 0          | 66         | 25.00000   | 0          | NA         | \n",
       "\n",
       "\n"
      ],
      "text/plain": [
       "  ID Station2 Date2      Tmax2 Tmin2 Tavg2 DewPoint2 WetBulb2 Heat2 Cool2 ...\n",
       "1 1  2        2007-05-01 84    52    33    51        26        1     4    ...\n",
       "2 2  2        2007-05-02 60    43    17    42        16        6     1    ...\n",
       "3 3  2        2007-05-03 67    48    23    40        19       28     1    ...\n",
       "4 4  2        2007-05-04 78    51    NA    42        19       NA    NA    ...\n",
       "5 5  2        2007-05-05 66    54    25    39        19       26     1    ...\n",
       "  SN2 SQ2 TS2 TSRA2 VCFG2 VCTS2 Tmax2.imp Tavg2.imp PrecipTotal2.imp RA45.2\n",
       "1 0   0   0   0     0     0     84        33.00000  0                NA    \n",
       "2 0   0   0   0     0     0     60        17.00000  0                NA    \n",
       "3 0   0   0   0     0     0     67        23.00000  0                NA    \n",
       "4 0   0   0   0     0     0     78        35.20733  0                NA    \n",
       "5 0   0   0   0     0     0     66        25.00000  0                NA    "
      ]
     },
     "metadata": {},
     "output_type": "display_data"
    }
   ],
   "source": [
    "head(wea22.imp,5)"
   ]
  },
  {
   "cell_type": "code",
   "execution_count": 45,
   "metadata": {},
   "outputs": [
    {
     "data": {
      "text/html": [
       "<ol class=list-inline>\n",
       "\t<li>1472</li>\n",
       "\t<li>35</li>\n",
       "</ol>\n"
      ],
      "text/latex": [
       "\\begin{enumerate*}\n",
       "\\item 1472\n",
       "\\item 35\n",
       "\\end{enumerate*}\n"
      ],
      "text/markdown": [
       "1. 1472\n",
       "2. 35\n",
       "\n",
       "\n"
      ],
      "text/plain": [
       "[1] 1472   35"
      ]
     },
     "metadata": {},
     "output_type": "display_data"
    }
   ],
   "source": [
    "dim(wea22.imp)"
   ]
  },
  {
   "cell_type": "code",
   "execution_count": 47,
   "metadata": {},
   "outputs": [
    {
     "data": {
      "text/html": [
       "<ol class=list-inline>\n",
       "\t<li>1472</li>\n",
       "\t<li>35</li>\n",
       "</ol>\n"
      ],
      "text/latex": [
       "\\begin{enumerate*}\n",
       "\\item 1472\n",
       "\\item 35\n",
       "\\end{enumerate*}\n"
      ],
      "text/markdown": [
       "1. 1472\n",
       "2. 35\n",
       "\n",
       "\n"
      ],
      "text/plain": [
       "[1] 1472   35"
      ]
     },
     "metadata": {},
     "output_type": "display_data"
    }
   ],
   "source": [
    "wea22.imp1<-wea22.imp\n",
    "dim(wea22.imp1)"
   ]
  },
  {
   "cell_type": "code",
   "execution_count": 48,
   "metadata": {},
   "outputs": [],
   "source": [
    "write.csv(wea22.imp1, file=\"C:/Users/Chen/Project/data/wea22.imp1.csv\", row.names =F)"
   ]
  },
  {
   "cell_type": "markdown",
   "metadata": {},
   "source": [
    "### Create a variable indicating it in the last 45 days there was a total daily rain was higher than 50 "
   ]
  },
  {
   "cell_type": "code",
   "execution_count": 43,
   "metadata": {},
   "outputs": [],
   "source": [
    "q <- wea22.imp[,c(\"Date2\",\"PrecipTotal2.imp\")]\n",
    "qxts <- xts(q[,\"PrecipTotal2.imp\"], order.by=q[,\"Date2\"])\n",
    "names(qxts) <- \"PrecipTotal2.imp\""
   ]
  },
  {
   "cell_type": "code",
   "execution_count": 44,
   "metadata": {},
   "outputs": [
    {
     "data": {
      "text/plain": [
       "           PrecipTotal2.imp\n",
       "2007-05-01                0\n",
       "2007-05-02                0\n",
       "2007-05-03                0\n",
       "2007-05-04                0\n",
       "2007-05-05                0\n",
       "2007-05-06                0"
      ]
     },
     "metadata": {},
     "output_type": "display_data"
    }
   ],
   "source": [
    "head(qxts)"
   ]
  },
  {
   "cell_type": "code",
   "execution_count": 49,
   "metadata": {},
   "outputs": [
    {
     "data": {
      "text/plain": [
       "           PrecipTotal2.imp PT45 PT45_gt05\n",
       "2007-05-01             0.00   NA        NA\n",
       "2007-05-02             0.00   NA        NA\n",
       "2007-05-03             0.00   NA        NA\n",
       "2007-05-04             0.00   NA        NA\n",
       "2007-05-05             0.00   NA        NA\n",
       "2007-05-06             0.00   NA        NA\n",
       "2007-05-07             0.00   NA        NA\n",
       "2007-05-08             0.00   NA        NA\n",
       "2007-05-09             0.02   NA        NA\n",
       "2007-05-10             0.00   NA        NA\n",
       "2007-05-11             0.00   NA        NA\n",
       "2007-05-12             0.00   NA        NA\n",
       "2007-05-13             0.00   NA        NA\n",
       "2007-05-14             0.00   NA        NA\n",
       "2007-05-15             0.60   NA        NA\n",
       "2007-05-16             0.07   NA        NA\n",
       "2007-05-17             0.00   NA        NA\n",
       "2007-05-18             0.00   NA        NA\n",
       "2007-05-19             0.00   NA        NA\n",
       "2007-05-20             0.11   NA        NA\n",
       "2007-05-21             0.00   NA        NA\n",
       "2007-05-22             0.00   NA        NA\n",
       "2007-05-23             0.00   NA        NA\n",
       "2007-05-24             0.00   NA        NA\n",
       "2007-05-25             0.09   NA        NA\n",
       "2007-05-26             0.28   NA        NA\n",
       "2007-05-27             0.08   NA        NA\n",
       "2007-05-28             0.00   NA        NA\n",
       "2007-05-29             0.00   NA        NA\n",
       "2007-05-30             0.00   NA        NA\n",
       "2007-05-31             0.53   NA        NA\n",
       "2007-06-01             0.21   NA        NA\n",
       "2007-06-02             0.00   NA        NA\n",
       "2007-06-03             0.32   NA        NA\n",
       "2007-06-04             0.31   NA        NA\n",
       "2007-06-05             0.27   NA        NA\n",
       "2007-06-06             0.00   NA        NA\n",
       "2007-06-07             0.00   NA        NA\n",
       "2007-06-08             0.00   NA        NA\n",
       "2007-06-09             0.00   NA        NA\n",
       "2007-06-10             0.00   NA        NA\n",
       "2007-06-11             0.00   NA        NA\n",
       "2007-06-12             0.00   NA        NA\n",
       "2007-06-13             0.00   NA        NA\n",
       "2007-06-14             0.00 0.60         1\n",
       "2007-06-15             0.00 0.60         1\n",
       "2007-06-16             0.00 0.60         1\n",
       "2007-06-17             0.16 0.60         1\n",
       "2007-06-18             0.02 0.60         1\n",
       "2007-06-19             0.93 0.93         1"
      ]
     },
     "metadata": {},
     "output_type": "display_data"
    }
   ],
   "source": [
    "qxts$PT45 = runMax(qxts$PrecipTotal2.imp,n=45)\n",
    "qxts$PT45_gt05 <- ifelse(qxts$PT45>0.5,1,0)\n",
    "head(qxts,50)\n"
   ]
  },
  {
   "cell_type": "markdown",
   "metadata": {},
   "source": [
    "Now we convert it to a dataframe and join it to the original dataset"
   ]
  },
  {
   "cell_type": "code",
   "execution_count": 52,
   "metadata": {},
   "outputs": [
    {
     "data": {
      "text/html": [
       "<table>\n",
       "<thead><tr><th></th><th scope=col>PT45_gt05</th><th scope=col>Date2</th></tr></thead>\n",
       "<tbody>\n",
       "\t<tr><th scope=row>2007-05-01</th><td>NA        </td><td>2007-05-01</td></tr>\n",
       "\t<tr><th scope=row>2007-05-02</th><td>NA        </td><td>2007-05-02</td></tr>\n",
       "\t<tr><th scope=row>2007-05-03</th><td>NA        </td><td>2007-05-03</td></tr>\n",
       "\t<tr><th scope=row>2007-05-04</th><td>NA        </td><td>2007-05-04</td></tr>\n",
       "\t<tr><th scope=row>2007-05-05</th><td>NA        </td><td>2007-05-05</td></tr>\n",
       "\t<tr><th scope=row>2007-05-06</th><td>NA        </td><td>2007-05-06</td></tr>\n",
       "</tbody>\n",
       "</table>\n"
      ],
      "text/latex": [
       "\\begin{tabular}{r|ll}\n",
       "  & PT45\\_gt05 & Date2\\\\\n",
       "\\hline\n",
       "\t2007-05-01 & NA         & 2007-05-01\\\\\n",
       "\t2007-05-02 & NA         & 2007-05-02\\\\\n",
       "\t2007-05-03 & NA         & 2007-05-03\\\\\n",
       "\t2007-05-04 & NA         & 2007-05-04\\\\\n",
       "\t2007-05-05 & NA         & 2007-05-05\\\\\n",
       "\t2007-05-06 & NA         & 2007-05-06\\\\\n",
       "\\end{tabular}\n"
      ],
      "text/markdown": [
       "\n",
       "| <!--/--> | PT45_gt05 | Date2 | \n",
       "|---|---|---|---|---|---|\n",
       "| 2007-05-01 | NA         | 2007-05-01 | \n",
       "| 2007-05-02 | NA         | 2007-05-02 | \n",
       "| 2007-05-03 | NA         | 2007-05-03 | \n",
       "| 2007-05-04 | NA         | 2007-05-04 | \n",
       "| 2007-05-05 | NA         | 2007-05-05 | \n",
       "| 2007-05-06 | NA         | 2007-05-06 | \n",
       "\n",
       "\n"
      ],
      "text/plain": [
       "           PT45_gt05 Date2     \n",
       "2007-05-01 NA        2007-05-01\n",
       "2007-05-02 NA        2007-05-02\n",
       "2007-05-03 NA        2007-05-03\n",
       "2007-05-04 NA        2007-05-04\n",
       "2007-05-05 NA        2007-05-05\n",
       "2007-05-06 NA        2007-05-06"
      ]
     },
     "metadata": {},
     "output_type": "display_data"
    },
    {
     "name": "stdout",
     "output_type": "stream",
     "text": [
      "'data.frame':\t1472 obs. of  2 variables:\n",
      " $ PT45_gt05: num  NA NA NA NA NA NA NA NA NA NA ...\n",
      " $ Date2    : Date, format: \"2007-05-01\" \"2007-05-02\" ...\n"
     ]
    }
   ],
   "source": [
    "rain45.2 <- data.frame(qxts$PT45_gt05)\n",
    "rain45.2$Date2 <- as.Date(rownames(rain45.2))\n",
    "head(rain45.2)\n",
    "str(rain45.2)"
   ]
  },
  {
   "cell_type": "code",
   "execution_count": 54,
   "metadata": {
    "scrolled": false
   },
   "outputs": [
    {
     "data": {
      "text/html": [
       "<table>\n",
       "<thead><tr><th scope=col>ID</th><th scope=col>Station2</th><th scope=col>Date2</th><th scope=col>Tmax2</th><th scope=col>Tmin2</th><th scope=col>Tavg2</th><th scope=col>DewPoint2</th><th scope=col>WetBulb2</th><th scope=col>Heat2</th><th scope=col>Cool2</th><th scope=col>...</th><th scope=col>SQ2</th><th scope=col>TS2</th><th scope=col>TSRA2</th><th scope=col>VCFG2</th><th scope=col>VCTS2</th><th scope=col>Tmax2.imp</th><th scope=col>Tavg2.imp</th><th scope=col>PrecipTotal2.imp</th><th scope=col>RA45.2</th><th scope=col>PT45_gt05</th></tr></thead>\n",
       "<tbody>\n",
       "\t<tr><td> 1        </td><td>2         </td><td>2007-05-01</td><td>84        </td><td>52        </td><td>33        </td><td>51        </td><td>26        </td><td> 1        </td><td> 4        </td><td>...       </td><td>0         </td><td>0         </td><td>0         </td><td>0         </td><td>0         </td><td>84        </td><td>33.00000  </td><td>0.00      </td><td>NA        </td><td>NA        </td></tr>\n",
       "\t<tr><td> 2        </td><td>2         </td><td>2007-05-02</td><td>60        </td><td>43        </td><td>17        </td><td>42        </td><td>16        </td><td> 6        </td><td> 1        </td><td>...       </td><td>0         </td><td>0         </td><td>0         </td><td>0         </td><td>0         </td><td>60        </td><td>17.00000  </td><td>0.00      </td><td>NA        </td><td>NA        </td></tr>\n",
       "\t<tr><td> 3        </td><td>2         </td><td>2007-05-03</td><td>67        </td><td>48        </td><td>23        </td><td>40        </td><td>19        </td><td>28        </td><td> 1        </td><td>...       </td><td>0         </td><td>0         </td><td>0         </td><td>0         </td><td>0         </td><td>67        </td><td>23.00000  </td><td>0.00      </td><td>NA        </td><td>NA        </td></tr>\n",
       "\t<tr><td> 4        </td><td>2         </td><td>2007-05-04</td><td>78        </td><td>51        </td><td>NA        </td><td>42        </td><td>19        </td><td>NA        </td><td>NA        </td><td>...       </td><td>0         </td><td>0         </td><td>0         </td><td>0         </td><td>0         </td><td>78        </td><td>35.20733  </td><td>0.00      </td><td>NA        </td><td>NA        </td></tr>\n",
       "\t<tr><td> 5        </td><td>2         </td><td>2007-05-05</td><td>66        </td><td>54        </td><td>25        </td><td>39        </td><td>19        </td><td>26        </td><td> 1        </td><td>...       </td><td>0         </td><td>0         </td><td>0         </td><td>0         </td><td>0         </td><td>66        </td><td>25.00000  </td><td>0.00      </td><td>NA        </td><td>NA        </td></tr>\n",
       "\t<tr><td> 6        </td><td>2         </td><td>2007-05-06</td><td>68        </td><td>52        </td><td>25        </td><td>30        </td><td>15        </td><td>26        </td><td> 1        </td><td>...       </td><td>0         </td><td>0         </td><td>0         </td><td>0         </td><td>0         </td><td>68        </td><td>25.00000  </td><td>0.00      </td><td>NA        </td><td>NA        </td></tr>\n",
       "\t<tr><td> 7        </td><td>2         </td><td>2007-05-07</td><td>84        </td><td>50        </td><td>32        </td><td>39        </td><td>22        </td><td> 1        </td><td> 3        </td><td>...       </td><td>0         </td><td>0         </td><td>0         </td><td>0         </td><td>0         </td><td>84        </td><td>32.00000  </td><td>0.00      </td><td>NA        </td><td>NA        </td></tr>\n",
       "\t<tr><td> 8        </td><td>2         </td><td>2007-05-08</td><td>80        </td><td>60        </td><td>35        </td><td>57        </td><td>32        </td><td> 1        </td><td> 6        </td><td>...       </td><td>0         </td><td>0         </td><td>0         </td><td>0         </td><td>0         </td><td>80        </td><td>35.00000  </td><td>0.00      </td><td>NA        </td><td>NA        </td></tr>\n",
       "\t<tr><td> 9        </td><td>2         </td><td>2007-05-09</td><td>76        </td><td>63        </td><td>35        </td><td>60        </td><td>32        </td><td> 1        </td><td> 6        </td><td>...       </td><td>0         </td><td>0         </td><td>0         </td><td>0         </td><td>0         </td><td>76        </td><td>35.00000  </td><td>0.02      </td><td>NA        </td><td>NA        </td></tr>\n",
       "\t<tr><td>10        </td><td>2         </td><td>2007-05-10</td><td>83        </td><td>59        </td><td>36        </td><td>52        </td><td>30        </td><td> 1        </td><td> 7        </td><td>...       </td><td>0         </td><td>0         </td><td>0         </td><td>0         </td><td>0         </td><td>83        </td><td>36.00000  </td><td>0.00      </td><td>NA        </td><td>NA        </td></tr>\n",
       "\t<tr><td>11        </td><td>2         </td><td>2007-05-11</td><td>73        </td><td>49        </td><td>26        </td><td>44        </td><td>20        </td><td>25        </td><td> 1        </td><td>...       </td><td>0         </td><td>0         </td><td>0         </td><td>0         </td><td>0         </td><td>73        </td><td>26.00000  </td><td>0.00      </td><td>NA        </td><td>NA        </td></tr>\n",
       "\t<tr><td>12        </td><td>2         </td><td>2007-05-12</td><td>65        </td><td>47        </td><td>21        </td><td>37        </td><td>15        </td><td>30        </td><td> 1        </td><td>...       </td><td>0         </td><td>0         </td><td>0         </td><td>0         </td><td>0         </td><td>65        </td><td>21.00000  </td><td>0.00      </td><td>NA        </td><td>NA        </td></tr>\n",
       "\t<tr><td>13        </td><td>2         </td><td>2007-05-13</td><td>69        </td><td>44        </td><td>22        </td><td>32        </td><td>15        </td><td>29        </td><td> 1        </td><td>...       </td><td>0         </td><td>0         </td><td>0         </td><td>0         </td><td>0         </td><td>69        </td><td>22.00000  </td><td>0.00      </td><td>NA        </td><td>NA        </td></tr>\n",
       "\t<tr><td>14        </td><td>2         </td><td>2007-05-14</td><td>90        </td><td>54        </td><td>37        </td><td>45        </td><td>27        </td><td> 1        </td><td> 8        </td><td>...       </td><td>0         </td><td>0         </td><td>0         </td><td>0         </td><td>0         </td><td>90        </td><td>37.00000  </td><td>0.00      </td><td>NA        </td><td>NA        </td></tr>\n",
       "\t<tr><td>15        </td><td>2         </td><td>2007-05-15</td><td>82        </td><td>56        </td><td>34        </td><td>56        </td><td>30        </td><td> 1        </td><td> 5        </td><td>...       </td><td>0         </td><td>0         </td><td>1         </td><td>0         </td><td>0         </td><td>82        </td><td>34.00000  </td><td>0.60      </td><td>NA        </td><td>NA        </td></tr>\n",
       "\t<tr><td>16        </td><td>2         </td><td>2007-05-16</td><td>64        </td><td>45        </td><td>20        </td><td>42        </td><td>16        </td><td> 3        </td><td> 1        </td><td>...       </td><td>0         </td><td>0         </td><td>0         </td><td>0         </td><td>0         </td><td>64        </td><td>20.00000  </td><td>0.07      </td><td>NA        </td><td>NA        </td></tr>\n",
       "\t<tr><td>17        </td><td>2         </td><td>2007-05-17</td><td>61        </td><td>44        </td><td>18        </td><td>32        </td><td>12        </td><td> 5        </td><td> 1        </td><td>...       </td><td>0         </td><td>0         </td><td>0         </td><td>0         </td><td>0         </td><td>61        </td><td>18.00000  </td><td>0.00      </td><td>NA        </td><td>NA        </td></tr>\n",
       "\t<tr><td>18        </td><td>2         </td><td>2007-05-18</td><td>70        </td><td>43        </td><td>22        </td><td>31        </td><td>16        </td><td>29        </td><td> 1        </td><td>...       </td><td>0         </td><td>0         </td><td>0         </td><td>0         </td><td>0         </td><td>70        </td><td>22.00000  </td><td>0.00      </td><td>NA        </td><td>NA        </td></tr>\n",
       "\t<tr><td>19        </td><td>2         </td><td>2007-05-19</td><td>80        </td><td>56        </td><td>33        </td><td>37        </td><td>22        </td><td> 1        </td><td> 4        </td><td>...       </td><td>0         </td><td>0         </td><td>0         </td><td>0         </td><td>0         </td><td>80        </td><td>33.00000  </td><td>0.00      </td><td>NA        </td><td>NA        </td></tr>\n",
       "\t<tr><td>20        </td><td>2         </td><td>2007-05-20</td><td>69        </td><td>44        </td><td>22        </td><td>41        </td><td>14        </td><td>29        </td><td> 1        </td><td>...       </td><td>0         </td><td>0         </td><td>1         </td><td>0         </td><td>0         </td><td>69        </td><td>22.00000  </td><td>0.11      </td><td>NA        </td><td>NA        </td></tr>\n",
       "\t<tr><td>21        </td><td>2         </td><td>2007-05-21</td><td>79        </td><td>46        </td><td>28        </td><td>50        </td><td>26        </td><td>13        </td><td> 1        </td><td>...       </td><td>0         </td><td>0         </td><td>0         </td><td>0         </td><td>0         </td><td>79        </td><td>28.00000  </td><td>0.00      </td><td>NA        </td><td>NA        </td></tr>\n",
       "\t<tr><td>22        </td><td>2         </td><td>2007-05-22</td><td>87        </td><td>60        </td><td>39        </td><td>44        </td><td>27        </td><td> 1        </td><td>10        </td><td>...       </td><td>0         </td><td>0         </td><td>0         </td><td>0         </td><td>0         </td><td>87        </td><td>39.00000  </td><td>0.00      </td><td>NA        </td><td>NA        </td></tr>\n",
       "\t<tr><td>23        </td><td>2         </td><td>2007-05-23</td><td>89        </td><td>66        </td><td>43        </td><td>48        </td><td>30        </td><td> 1        </td><td>14        </td><td>...       </td><td>0         </td><td>0         </td><td>0         </td><td>0         </td><td>0         </td><td>89        </td><td>43.00000  </td><td>0.00      </td><td>NA        </td><td>NA        </td></tr>\n",
       "\t<tr><td>24        </td><td>2         </td><td>2007-05-24</td><td>88        </td><td>66        </td><td>42        </td><td>53        </td><td>32        </td><td> 1        </td><td>13        </td><td>...       </td><td>0         </td><td>0         </td><td>0         </td><td>0         </td><td>0         </td><td>88        </td><td>42.00000  </td><td>0.00      </td><td>NA        </td><td>NA        </td></tr>\n",
       "\t<tr><td>25        </td><td>2         </td><td>2007-05-25</td><td>66        </td><td>57        </td><td>27        </td><td>46        </td><td>22        </td><td>24        </td><td> 1        </td><td>...       </td><td>0         </td><td>0         </td><td>0         </td><td>0         </td><td>0         </td><td>66        </td><td>27.00000  </td><td>0.09      </td><td>NA        </td><td>NA        </td></tr>\n",
       "\t<tr><td>26        </td><td>2         </td><td>2007-05-26</td><td>70        </td><td>50        </td><td>25        </td><td>55        </td><td>26        </td><td>26        </td><td> 1        </td><td>...       </td><td>0         </td><td>0         </td><td>1         </td><td>0         </td><td>0         </td><td>70        </td><td>25.00000  </td><td>0.28      </td><td>NA        </td><td>NA        </td></tr>\n",
       "\t<tr><td>27        </td><td>2         </td><td>2007-05-27</td><td>75        </td><td>59        </td><td>32        </td><td>49        </td><td>26        </td><td> 1        </td><td> 3        </td><td>...       </td><td>0         </td><td>0         </td><td>0         </td><td>0         </td><td>0         </td><td>75        </td><td>32.00000  </td><td>0.08      </td><td>NA        </td><td>NA        </td></tr>\n",
       "\t<tr><td>28        </td><td>2         </td><td>2007-05-28</td><td>76        </td><td>54        </td><td>30        </td><td>49        </td><td>26        </td><td> 1        </td><td> 1        </td><td>...       </td><td>0         </td><td>0         </td><td>0         </td><td>0         </td><td>0         </td><td>76        </td><td>30.00000  </td><td>0.00      </td><td>NA        </td><td>NA        </td></tr>\n",
       "\t<tr><td>29        </td><td>2         </td><td>2007-05-29</td><td>88        </td><td>65        </td><td>42        </td><td>59        </td><td>35        </td><td> 1        </td><td>13        </td><td>...       </td><td>0         </td><td>0         </td><td>0         </td><td>0         </td><td>0         </td><td>88        </td><td>42.00000  </td><td>0.00      </td><td>NA        </td><td>NA        </td></tr>\n",
       "\t<tr><td>30        </td><td>2         </td><td>2007-05-30</td><td>89        </td><td>70        </td><td>45        </td><td>57        </td><td>35        </td><td> 1        </td><td>16        </td><td>...       </td><td>0         </td><td>0         </td><td>0         </td><td>0         </td><td>0         </td><td>89        </td><td>45.00000  </td><td>0.00      </td><td>NA        </td><td>NA        </td></tr>\n",
       "\t<tr><td>31        </td><td>2         </td><td>2007-05-31</td><td>80        </td><td>68        </td><td>39        </td><td>61        </td><td>35        </td><td> 1        </td><td>10        </td><td>...       </td><td>0         </td><td>0         </td><td>0         </td><td>0         </td><td>0         </td><td>80        </td><td>39.00000  </td><td>0.53      </td><td>NA        </td><td>NA        </td></tr>\n",
       "\t<tr><td>32        </td><td>2         </td><td>2007-06-01</td><td>86        </td><td>67        </td><td>42        </td><td>63        </td><td>36        </td><td> 1        </td><td>13        </td><td>...       </td><td>0         </td><td>0         </td><td>1         </td><td>0         </td><td>0         </td><td>86        </td><td>42.00000  </td><td>0.21      </td><td>NA        </td><td>NA        </td></tr>\n",
       "\t<tr><td>33        </td><td>2         </td><td>2007-06-02</td><td>81        </td><td>68        </td><td>40        </td><td>62        </td><td>36        </td><td> 1        </td><td>11        </td><td>...       </td><td>0         </td><td>0         </td><td>0         </td><td>0         </td><td>0         </td><td>81        </td><td>40.00000  </td><td>0.00      </td><td>NA        </td><td>NA        </td></tr>\n",
       "\t<tr><td>34        </td><td>2         </td><td>2007-06-03</td><td>77        </td><td>64        </td><td>36        </td><td>60        </td><td>33        </td><td> 1        </td><td> 7        </td><td>...       </td><td>0         </td><td>0         </td><td>0         </td><td>0         </td><td>1         </td><td>77        </td><td>36.00000  </td><td>0.32      </td><td>NA        </td><td>NA        </td></tr>\n",
       "\t<tr><td>35        </td><td>2         </td><td>2007-06-04</td><td>72        </td><td>56        </td><td>29        </td><td>57        </td><td>29        </td><td> 2        </td><td> 1        </td><td>...       </td><td>0         </td><td>0         </td><td>0         </td><td>0         </td><td>0         </td><td>72        </td><td>29.00000  </td><td>0.31      </td><td>NA        </td><td>NA        </td></tr>\n",
       "\t<tr><td>36        </td><td>2         </td><td>2007-06-05</td><td>63        </td><td>51        </td><td>22        </td><td>47        </td><td>21        </td><td>29        </td><td> 1        </td><td>...       </td><td>0         </td><td>0         </td><td>0         </td><td>0         </td><td>0         </td><td>63        </td><td>22.00000  </td><td>0.27      </td><td>NA        </td><td>NA        </td></tr>\n",
       "\t<tr><td>37        </td><td>2         </td><td>2007-06-06</td><td>73        </td><td>48        </td><td>26        </td><td>47        </td><td>24        </td><td>25        </td><td> 1        </td><td>...       </td><td>0         </td><td>0         </td><td>0         </td><td>0         </td><td>0         </td><td>73        </td><td>26.00000  </td><td>0.00      </td><td>NA        </td><td>NA        </td></tr>\n",
       "\t<tr><td>38        </td><td>2         </td><td>2007-06-07</td><td>92        </td><td>71        </td><td>47        </td><td>61        </td><td>37        </td><td> 1        </td><td>18        </td><td>...       </td><td>0         </td><td>0         </td><td>0         </td><td>0         </td><td>0         </td><td>92        </td><td>47.00000  </td><td>0.00      </td><td>NA        </td><td>NA        </td></tr>\n",
       "\t<tr><td>39        </td><td>2         </td><td>2007-06-08</td><td>81        </td><td>63        </td><td>37        </td><td>54        </td><td>31        </td><td> 1        </td><td> 8        </td><td>...       </td><td>0         </td><td>0         </td><td>0         </td><td>0         </td><td>0         </td><td>81        </td><td>37.00000  </td><td>0.00      </td><td>NA        </td><td>NA        </td></tr>\n",
       "\t<tr><td>40        </td><td>2         </td><td>2007-06-09</td><td>79        </td><td>57        </td><td>33        </td><td>49        </td><td>27        </td><td> 1        </td><td> 4        </td><td>...       </td><td>0         </td><td>0         </td><td>0         </td><td>0         </td><td>0         </td><td>79        </td><td>33.00000  </td><td>0.00      </td><td>NA        </td><td>NA        </td></tr>\n",
       "\t<tr><td>41        </td><td>2         </td><td>2007-06-10</td><td>81        </td><td>61        </td><td>36        </td><td>50        </td><td>29        </td><td> 1        </td><td> 7        </td><td>...       </td><td>0         </td><td>0         </td><td>0         </td><td>0         </td><td>0         </td><td>81        </td><td>36.00000  </td><td>0.00      </td><td>NA        </td><td>NA        </td></tr>\n",
       "\t<tr><td>42        </td><td>2         </td><td>2007-06-11</td><td>85        </td><td>65        </td><td>40        </td><td>51        </td><td>30        </td><td> 1        </td><td>11        </td><td>...       </td><td>0         </td><td>0         </td><td>0         </td><td>0         </td><td>0         </td><td>85        </td><td>40.00000  </td><td>0.00      </td><td>NA        </td><td>NA        </td></tr>\n",
       "\t<tr><td>43        </td><td>2         </td><td>2007-06-12</td><td>82        </td><td>66        </td><td>39        </td><td>51        </td><td>30        </td><td> 1        </td><td>10        </td><td>...       </td><td>0         </td><td>0         </td><td>0         </td><td>0         </td><td>0         </td><td>82        </td><td>39.00000  </td><td>0.00      </td><td>NA        </td><td>NA        </td></tr>\n",
       "\t<tr><td>44        </td><td>2         </td><td>2007-06-13</td><td>86        </td><td>68        </td><td>42        </td><td>53        </td><td>31        </td><td> 1        </td><td>13        </td><td>...       </td><td>0         </td><td>0         </td><td>0         </td><td>0         </td><td>0         </td><td>86        </td><td>42.00000  </td><td>0.00      </td><td>NA        </td><td>NA        </td></tr>\n",
       "\t<tr><td>45        </td><td>2         </td><td>2007-06-14</td><td>89        </td><td>68        </td><td>44        </td><td>54        </td><td>32        </td><td> 1        </td><td>15        </td><td>...       </td><td>0         </td><td>0         </td><td>0         </td><td>0         </td><td>0         </td><td>89        </td><td>44.00000  </td><td>0.00      </td><td>13        </td><td> 1        </td></tr>\n",
       "\t<tr><td>46        </td><td>2         </td><td>2007-06-15</td><td>89        </td><td>67        </td><td>43        </td><td>56        </td><td>34        </td><td> 1        </td><td>14        </td><td>...       </td><td>0         </td><td>0         </td><td>0         </td><td>0         </td><td>0         </td><td>89        </td><td>43.00000  </td><td>0.00      </td><td>13        </td><td> 1        </td></tr>\n",
       "\t<tr><td>47        </td><td>2         </td><td>2007-06-16</td><td>92        </td><td>68        </td><td>45        </td><td>61        </td><td>37        </td><td> 1        </td><td>16        </td><td>...       </td><td>0         </td><td>0         </td><td>0         </td><td>0         </td><td>0         </td><td>92        </td><td>45.00000  </td><td>0.00      </td><td>13        </td><td> 1        </td></tr>\n",
       "\t<tr><td>48        </td><td>2         </td><td>2007-06-17</td><td>91        </td><td>71        </td><td>46        </td><td>65        </td><td>39        </td><td> 1        </td><td>17        </td><td>...       </td><td>0         </td><td>0         </td><td>0         </td><td>0         </td><td>0         </td><td>91        </td><td>46.00000  </td><td>0.16      </td><td>13        </td><td> 1        </td></tr>\n",
       "\t<tr><td>49        </td><td>2         </td><td>2007-06-18</td><td>89        </td><td>73        </td><td>46        </td><td>65        </td><td>39        </td><td> 1        </td><td>17        </td><td>...       </td><td>0         </td><td>0         </td><td>1         </td><td>0         </td><td>0         </td><td>89        </td><td>46.00000  </td><td>0.02      </td><td>14        </td><td> 1        </td></tr>\n",
       "\t<tr><td>50        </td><td>2         </td><td>2007-06-19</td><td>81        </td><td>65        </td><td>38        </td><td>55        </td><td>32        </td><td> 1        </td><td> 9        </td><td>...       </td><td>0         </td><td>0         </td><td>0         </td><td>0         </td><td>0         </td><td>81        </td><td>38.00000  </td><td>0.93      </td><td>15        </td><td> 1        </td></tr>\n",
       "</tbody>\n",
       "</table>\n"
      ],
      "text/latex": [
       "\\begin{tabular}{r|llllllllllllllllllllllllllllllllllll}\n",
       " ID & Station2 & Date2 & Tmax2 & Tmin2 & Tavg2 & DewPoint2 & WetBulb2 & Heat2 & Cool2 & ... & SQ2 & TS2 & TSRA2 & VCFG2 & VCTS2 & Tmax2.imp & Tavg2.imp & PrecipTotal2.imp & RA45.2 & PT45\\_gt05\\\\\n",
       "\\hline\n",
       "\t  1         & 2          & 2007-05-01 & 84         & 52         & 33         & 51         & 26         &  1         &  4         & ...        & 0          & 0          & 0          & 0          & 0          & 84         & 33.00000   & 0.00       & NA         & NA        \\\\\n",
       "\t  2         & 2          & 2007-05-02 & 60         & 43         & 17         & 42         & 16         &  6         &  1         & ...        & 0          & 0          & 0          & 0          & 0          & 60         & 17.00000   & 0.00       & NA         & NA        \\\\\n",
       "\t  3         & 2          & 2007-05-03 & 67         & 48         & 23         & 40         & 19         & 28         &  1         & ...        & 0          & 0          & 0          & 0          & 0          & 67         & 23.00000   & 0.00       & NA         & NA        \\\\\n",
       "\t  4         & 2          & 2007-05-04 & 78         & 51         & NA         & 42         & 19         & NA         & NA         & ...        & 0          & 0          & 0          & 0          & 0          & 78         & 35.20733   & 0.00       & NA         & NA        \\\\\n",
       "\t  5         & 2          & 2007-05-05 & 66         & 54         & 25         & 39         & 19         & 26         &  1         & ...        & 0          & 0          & 0          & 0          & 0          & 66         & 25.00000   & 0.00       & NA         & NA        \\\\\n",
       "\t  6         & 2          & 2007-05-06 & 68         & 52         & 25         & 30         & 15         & 26         &  1         & ...        & 0          & 0          & 0          & 0          & 0          & 68         & 25.00000   & 0.00       & NA         & NA        \\\\\n",
       "\t  7         & 2          & 2007-05-07 & 84         & 50         & 32         & 39         & 22         &  1         &  3         & ...        & 0          & 0          & 0          & 0          & 0          & 84         & 32.00000   & 0.00       & NA         & NA        \\\\\n",
       "\t  8         & 2          & 2007-05-08 & 80         & 60         & 35         & 57         & 32         &  1         &  6         & ...        & 0          & 0          & 0          & 0          & 0          & 80         & 35.00000   & 0.00       & NA         & NA        \\\\\n",
       "\t  9         & 2          & 2007-05-09 & 76         & 63         & 35         & 60         & 32         &  1         &  6         & ...        & 0          & 0          & 0          & 0          & 0          & 76         & 35.00000   & 0.02       & NA         & NA        \\\\\n",
       "\t 10         & 2          & 2007-05-10 & 83         & 59         & 36         & 52         & 30         &  1         &  7         & ...        & 0          & 0          & 0          & 0          & 0          & 83         & 36.00000   & 0.00       & NA         & NA        \\\\\n",
       "\t 11         & 2          & 2007-05-11 & 73         & 49         & 26         & 44         & 20         & 25         &  1         & ...        & 0          & 0          & 0          & 0          & 0          & 73         & 26.00000   & 0.00       & NA         & NA        \\\\\n",
       "\t 12         & 2          & 2007-05-12 & 65         & 47         & 21         & 37         & 15         & 30         &  1         & ...        & 0          & 0          & 0          & 0          & 0          & 65         & 21.00000   & 0.00       & NA         & NA        \\\\\n",
       "\t 13         & 2          & 2007-05-13 & 69         & 44         & 22         & 32         & 15         & 29         &  1         & ...        & 0          & 0          & 0          & 0          & 0          & 69         & 22.00000   & 0.00       & NA         & NA        \\\\\n",
       "\t 14         & 2          & 2007-05-14 & 90         & 54         & 37         & 45         & 27         &  1         &  8         & ...        & 0          & 0          & 0          & 0          & 0          & 90         & 37.00000   & 0.00       & NA         & NA        \\\\\n",
       "\t 15         & 2          & 2007-05-15 & 82         & 56         & 34         & 56         & 30         &  1         &  5         & ...        & 0          & 0          & 1          & 0          & 0          & 82         & 34.00000   & 0.60       & NA         & NA        \\\\\n",
       "\t 16         & 2          & 2007-05-16 & 64         & 45         & 20         & 42         & 16         &  3         &  1         & ...        & 0          & 0          & 0          & 0          & 0          & 64         & 20.00000   & 0.07       & NA         & NA        \\\\\n",
       "\t 17         & 2          & 2007-05-17 & 61         & 44         & 18         & 32         & 12         &  5         &  1         & ...        & 0          & 0          & 0          & 0          & 0          & 61         & 18.00000   & 0.00       & NA         & NA        \\\\\n",
       "\t 18         & 2          & 2007-05-18 & 70         & 43         & 22         & 31         & 16         & 29         &  1         & ...        & 0          & 0          & 0          & 0          & 0          & 70         & 22.00000   & 0.00       & NA         & NA        \\\\\n",
       "\t 19         & 2          & 2007-05-19 & 80         & 56         & 33         & 37         & 22         &  1         &  4         & ...        & 0          & 0          & 0          & 0          & 0          & 80         & 33.00000   & 0.00       & NA         & NA        \\\\\n",
       "\t 20         & 2          & 2007-05-20 & 69         & 44         & 22         & 41         & 14         & 29         &  1         & ...        & 0          & 0          & 1          & 0          & 0          & 69         & 22.00000   & 0.11       & NA         & NA        \\\\\n",
       "\t 21         & 2          & 2007-05-21 & 79         & 46         & 28         & 50         & 26         & 13         &  1         & ...        & 0          & 0          & 0          & 0          & 0          & 79         & 28.00000   & 0.00       & NA         & NA        \\\\\n",
       "\t 22         & 2          & 2007-05-22 & 87         & 60         & 39         & 44         & 27         &  1         & 10         & ...        & 0          & 0          & 0          & 0          & 0          & 87         & 39.00000   & 0.00       & NA         & NA        \\\\\n",
       "\t 23         & 2          & 2007-05-23 & 89         & 66         & 43         & 48         & 30         &  1         & 14         & ...        & 0          & 0          & 0          & 0          & 0          & 89         & 43.00000   & 0.00       & NA         & NA        \\\\\n",
       "\t 24         & 2          & 2007-05-24 & 88         & 66         & 42         & 53         & 32         &  1         & 13         & ...        & 0          & 0          & 0          & 0          & 0          & 88         & 42.00000   & 0.00       & NA         & NA        \\\\\n",
       "\t 25         & 2          & 2007-05-25 & 66         & 57         & 27         & 46         & 22         & 24         &  1         & ...        & 0          & 0          & 0          & 0          & 0          & 66         & 27.00000   & 0.09       & NA         & NA        \\\\\n",
       "\t 26         & 2          & 2007-05-26 & 70         & 50         & 25         & 55         & 26         & 26         &  1         & ...        & 0          & 0          & 1          & 0          & 0          & 70         & 25.00000   & 0.28       & NA         & NA        \\\\\n",
       "\t 27         & 2          & 2007-05-27 & 75         & 59         & 32         & 49         & 26         &  1         &  3         & ...        & 0          & 0          & 0          & 0          & 0          & 75         & 32.00000   & 0.08       & NA         & NA        \\\\\n",
       "\t 28         & 2          & 2007-05-28 & 76         & 54         & 30         & 49         & 26         &  1         &  1         & ...        & 0          & 0          & 0          & 0          & 0          & 76         & 30.00000   & 0.00       & NA         & NA        \\\\\n",
       "\t 29         & 2          & 2007-05-29 & 88         & 65         & 42         & 59         & 35         &  1         & 13         & ...        & 0          & 0          & 0          & 0          & 0          & 88         & 42.00000   & 0.00       & NA         & NA        \\\\\n",
       "\t 30         & 2          & 2007-05-30 & 89         & 70         & 45         & 57         & 35         &  1         & 16         & ...        & 0          & 0          & 0          & 0          & 0          & 89         & 45.00000   & 0.00       & NA         & NA        \\\\\n",
       "\t 31         & 2          & 2007-05-31 & 80         & 68         & 39         & 61         & 35         &  1         & 10         & ...        & 0          & 0          & 0          & 0          & 0          & 80         & 39.00000   & 0.53       & NA         & NA        \\\\\n",
       "\t 32         & 2          & 2007-06-01 & 86         & 67         & 42         & 63         & 36         &  1         & 13         & ...        & 0          & 0          & 1          & 0          & 0          & 86         & 42.00000   & 0.21       & NA         & NA        \\\\\n",
       "\t 33         & 2          & 2007-06-02 & 81         & 68         & 40         & 62         & 36         &  1         & 11         & ...        & 0          & 0          & 0          & 0          & 0          & 81         & 40.00000   & 0.00       & NA         & NA        \\\\\n",
       "\t 34         & 2          & 2007-06-03 & 77         & 64         & 36         & 60         & 33         &  1         &  7         & ...        & 0          & 0          & 0          & 0          & 1          & 77         & 36.00000   & 0.32       & NA         & NA        \\\\\n",
       "\t 35         & 2          & 2007-06-04 & 72         & 56         & 29         & 57         & 29         &  2         &  1         & ...        & 0          & 0          & 0          & 0          & 0          & 72         & 29.00000   & 0.31       & NA         & NA        \\\\\n",
       "\t 36         & 2          & 2007-06-05 & 63         & 51         & 22         & 47         & 21         & 29         &  1         & ...        & 0          & 0          & 0          & 0          & 0          & 63         & 22.00000   & 0.27       & NA         & NA        \\\\\n",
       "\t 37         & 2          & 2007-06-06 & 73         & 48         & 26         & 47         & 24         & 25         &  1         & ...        & 0          & 0          & 0          & 0          & 0          & 73         & 26.00000   & 0.00       & NA         & NA        \\\\\n",
       "\t 38         & 2          & 2007-06-07 & 92         & 71         & 47         & 61         & 37         &  1         & 18         & ...        & 0          & 0          & 0          & 0          & 0          & 92         & 47.00000   & 0.00       & NA         & NA        \\\\\n",
       "\t 39         & 2          & 2007-06-08 & 81         & 63         & 37         & 54         & 31         &  1         &  8         & ...        & 0          & 0          & 0          & 0          & 0          & 81         & 37.00000   & 0.00       & NA         & NA        \\\\\n",
       "\t 40         & 2          & 2007-06-09 & 79         & 57         & 33         & 49         & 27         &  1         &  4         & ...        & 0          & 0          & 0          & 0          & 0          & 79         & 33.00000   & 0.00       & NA         & NA        \\\\\n",
       "\t 41         & 2          & 2007-06-10 & 81         & 61         & 36         & 50         & 29         &  1         &  7         & ...        & 0          & 0          & 0          & 0          & 0          & 81         & 36.00000   & 0.00       & NA         & NA        \\\\\n",
       "\t 42         & 2          & 2007-06-11 & 85         & 65         & 40         & 51         & 30         &  1         & 11         & ...        & 0          & 0          & 0          & 0          & 0          & 85         & 40.00000   & 0.00       & NA         & NA        \\\\\n",
       "\t 43         & 2          & 2007-06-12 & 82         & 66         & 39         & 51         & 30         &  1         & 10         & ...        & 0          & 0          & 0          & 0          & 0          & 82         & 39.00000   & 0.00       & NA         & NA        \\\\\n",
       "\t 44         & 2          & 2007-06-13 & 86         & 68         & 42         & 53         & 31         &  1         & 13         & ...        & 0          & 0          & 0          & 0          & 0          & 86         & 42.00000   & 0.00       & NA         & NA        \\\\\n",
       "\t 45         & 2          & 2007-06-14 & 89         & 68         & 44         & 54         & 32         &  1         & 15         & ...        & 0          & 0          & 0          & 0          & 0          & 89         & 44.00000   & 0.00       & 13         &  1        \\\\\n",
       "\t 46         & 2          & 2007-06-15 & 89         & 67         & 43         & 56         & 34         &  1         & 14         & ...        & 0          & 0          & 0          & 0          & 0          & 89         & 43.00000   & 0.00       & 13         &  1        \\\\\n",
       "\t 47         & 2          & 2007-06-16 & 92         & 68         & 45         & 61         & 37         &  1         & 16         & ...        & 0          & 0          & 0          & 0          & 0          & 92         & 45.00000   & 0.00       & 13         &  1        \\\\\n",
       "\t 48         & 2          & 2007-06-17 & 91         & 71         & 46         & 65         & 39         &  1         & 17         & ...        & 0          & 0          & 0          & 0          & 0          & 91         & 46.00000   & 0.16       & 13         &  1        \\\\\n",
       "\t 49         & 2          & 2007-06-18 & 89         & 73         & 46         & 65         & 39         &  1         & 17         & ...        & 0          & 0          & 1          & 0          & 0          & 89         & 46.00000   & 0.02       & 14         &  1        \\\\\n",
       "\t 50         & 2          & 2007-06-19 & 81         & 65         & 38         & 55         & 32         &  1         &  9         & ...        & 0          & 0          & 0          & 0          & 0          & 81         & 38.00000   & 0.93       & 15         &  1        \\\\\n",
       "\\end{tabular}\n"
      ],
      "text/markdown": [
       "\n",
       "ID | Station2 | Date2 | Tmax2 | Tmin2 | Tavg2 | DewPoint2 | WetBulb2 | Heat2 | Cool2 | ... | SQ2 | TS2 | TSRA2 | VCFG2 | VCTS2 | Tmax2.imp | Tavg2.imp | PrecipTotal2.imp | RA45.2 | PT45_gt05 | \n",
       "|---|---|---|---|---|---|---|---|---|---|---|---|---|---|---|---|---|---|---|---|---|---|---|---|---|---|---|---|---|---|---|---|---|---|---|---|---|---|---|---|---|---|---|---|---|---|---|---|---|---|\n",
       "|  1         | 2          | 2007-05-01 | 84         | 52         | 33         | 51         | 26         |  1         |  4         | ...        | 0          | 0          | 0          | 0          | 0          | 84         | 33.00000   | 0.00       | NA         | NA         | \n",
       "|  2         | 2          | 2007-05-02 | 60         | 43         | 17         | 42         | 16         |  6         |  1         | ...        | 0          | 0          | 0          | 0          | 0          | 60         | 17.00000   | 0.00       | NA         | NA         | \n",
       "|  3         | 2          | 2007-05-03 | 67         | 48         | 23         | 40         | 19         | 28         |  1         | ...        | 0          | 0          | 0          | 0          | 0          | 67         | 23.00000   | 0.00       | NA         | NA         | \n",
       "|  4         | 2          | 2007-05-04 | 78         | 51         | NA         | 42         | 19         | NA         | NA         | ...        | 0          | 0          | 0          | 0          | 0          | 78         | 35.20733   | 0.00       | NA         | NA         | \n",
       "|  5         | 2          | 2007-05-05 | 66         | 54         | 25         | 39         | 19         | 26         |  1         | ...        | 0          | 0          | 0          | 0          | 0          | 66         | 25.00000   | 0.00       | NA         | NA         | \n",
       "|  6         | 2          | 2007-05-06 | 68         | 52         | 25         | 30         | 15         | 26         |  1         | ...        | 0          | 0          | 0          | 0          | 0          | 68         | 25.00000   | 0.00       | NA         | NA         | \n",
       "|  7         | 2          | 2007-05-07 | 84         | 50         | 32         | 39         | 22         |  1         |  3         | ...        | 0          | 0          | 0          | 0          | 0          | 84         | 32.00000   | 0.00       | NA         | NA         | \n",
       "|  8         | 2          | 2007-05-08 | 80         | 60         | 35         | 57         | 32         |  1         |  6         | ...        | 0          | 0          | 0          | 0          | 0          | 80         | 35.00000   | 0.00       | NA         | NA         | \n",
       "|  9         | 2          | 2007-05-09 | 76         | 63         | 35         | 60         | 32         |  1         |  6         | ...        | 0          | 0          | 0          | 0          | 0          | 76         | 35.00000   | 0.02       | NA         | NA         | \n",
       "| 10         | 2          | 2007-05-10 | 83         | 59         | 36         | 52         | 30         |  1         |  7         | ...        | 0          | 0          | 0          | 0          | 0          | 83         | 36.00000   | 0.00       | NA         | NA         | \n",
       "| 11         | 2          | 2007-05-11 | 73         | 49         | 26         | 44         | 20         | 25         |  1         | ...        | 0          | 0          | 0          | 0          | 0          | 73         | 26.00000   | 0.00       | NA         | NA         | \n",
       "| 12         | 2          | 2007-05-12 | 65         | 47         | 21         | 37         | 15         | 30         |  1         | ...        | 0          | 0          | 0          | 0          | 0          | 65         | 21.00000   | 0.00       | NA         | NA         | \n",
       "| 13         | 2          | 2007-05-13 | 69         | 44         | 22         | 32         | 15         | 29         |  1         | ...        | 0          | 0          | 0          | 0          | 0          | 69         | 22.00000   | 0.00       | NA         | NA         | \n",
       "| 14         | 2          | 2007-05-14 | 90         | 54         | 37         | 45         | 27         |  1         |  8         | ...        | 0          | 0          | 0          | 0          | 0          | 90         | 37.00000   | 0.00       | NA         | NA         | \n",
       "| 15         | 2          | 2007-05-15 | 82         | 56         | 34         | 56         | 30         |  1         |  5         | ...        | 0          | 0          | 1          | 0          | 0          | 82         | 34.00000   | 0.60       | NA         | NA         | \n",
       "| 16         | 2          | 2007-05-16 | 64         | 45         | 20         | 42         | 16         |  3         |  1         | ...        | 0          | 0          | 0          | 0          | 0          | 64         | 20.00000   | 0.07       | NA         | NA         | \n",
       "| 17         | 2          | 2007-05-17 | 61         | 44         | 18         | 32         | 12         |  5         |  1         | ...        | 0          | 0          | 0          | 0          | 0          | 61         | 18.00000   | 0.00       | NA         | NA         | \n",
       "| 18         | 2          | 2007-05-18 | 70         | 43         | 22         | 31         | 16         | 29         |  1         | ...        | 0          | 0          | 0          | 0          | 0          | 70         | 22.00000   | 0.00       | NA         | NA         | \n",
       "| 19         | 2          | 2007-05-19 | 80         | 56         | 33         | 37         | 22         |  1         |  4         | ...        | 0          | 0          | 0          | 0          | 0          | 80         | 33.00000   | 0.00       | NA         | NA         | \n",
       "| 20         | 2          | 2007-05-20 | 69         | 44         | 22         | 41         | 14         | 29         |  1         | ...        | 0          | 0          | 1          | 0          | 0          | 69         | 22.00000   | 0.11       | NA         | NA         | \n",
       "| 21         | 2          | 2007-05-21 | 79         | 46         | 28         | 50         | 26         | 13         |  1         | ...        | 0          | 0          | 0          | 0          | 0          | 79         | 28.00000   | 0.00       | NA         | NA         | \n",
       "| 22         | 2          | 2007-05-22 | 87         | 60         | 39         | 44         | 27         |  1         | 10         | ...        | 0          | 0          | 0          | 0          | 0          | 87         | 39.00000   | 0.00       | NA         | NA         | \n",
       "| 23         | 2          | 2007-05-23 | 89         | 66         | 43         | 48         | 30         |  1         | 14         | ...        | 0          | 0          | 0          | 0          | 0          | 89         | 43.00000   | 0.00       | NA         | NA         | \n",
       "| 24         | 2          | 2007-05-24 | 88         | 66         | 42         | 53         | 32         |  1         | 13         | ...        | 0          | 0          | 0          | 0          | 0          | 88         | 42.00000   | 0.00       | NA         | NA         | \n",
       "| 25         | 2          | 2007-05-25 | 66         | 57         | 27         | 46         | 22         | 24         |  1         | ...        | 0          | 0          | 0          | 0          | 0          | 66         | 27.00000   | 0.09       | NA         | NA         | \n",
       "| 26         | 2          | 2007-05-26 | 70         | 50         | 25         | 55         | 26         | 26         |  1         | ...        | 0          | 0          | 1          | 0          | 0          | 70         | 25.00000   | 0.28       | NA         | NA         | \n",
       "| 27         | 2          | 2007-05-27 | 75         | 59         | 32         | 49         | 26         |  1         |  3         | ...        | 0          | 0          | 0          | 0          | 0          | 75         | 32.00000   | 0.08       | NA         | NA         | \n",
       "| 28         | 2          | 2007-05-28 | 76         | 54         | 30         | 49         | 26         |  1         |  1         | ...        | 0          | 0          | 0          | 0          | 0          | 76         | 30.00000   | 0.00       | NA         | NA         | \n",
       "| 29         | 2          | 2007-05-29 | 88         | 65         | 42         | 59         | 35         |  1         | 13         | ...        | 0          | 0          | 0          | 0          | 0          | 88         | 42.00000   | 0.00       | NA         | NA         | \n",
       "| 30         | 2          | 2007-05-30 | 89         | 70         | 45         | 57         | 35         |  1         | 16         | ...        | 0          | 0          | 0          | 0          | 0          | 89         | 45.00000   | 0.00       | NA         | NA         | \n",
       "| 31         | 2          | 2007-05-31 | 80         | 68         | 39         | 61         | 35         |  1         | 10         | ...        | 0          | 0          | 0          | 0          | 0          | 80         | 39.00000   | 0.53       | NA         | NA         | \n",
       "| 32         | 2          | 2007-06-01 | 86         | 67         | 42         | 63         | 36         |  1         | 13         | ...        | 0          | 0          | 1          | 0          | 0          | 86         | 42.00000   | 0.21       | NA         | NA         | \n",
       "| 33         | 2          | 2007-06-02 | 81         | 68         | 40         | 62         | 36         |  1         | 11         | ...        | 0          | 0          | 0          | 0          | 0          | 81         | 40.00000   | 0.00       | NA         | NA         | \n",
       "| 34         | 2          | 2007-06-03 | 77         | 64         | 36         | 60         | 33         |  1         |  7         | ...        | 0          | 0          | 0          | 0          | 1          | 77         | 36.00000   | 0.32       | NA         | NA         | \n",
       "| 35         | 2          | 2007-06-04 | 72         | 56         | 29         | 57         | 29         |  2         |  1         | ...        | 0          | 0          | 0          | 0          | 0          | 72         | 29.00000   | 0.31       | NA         | NA         | \n",
       "| 36         | 2          | 2007-06-05 | 63         | 51         | 22         | 47         | 21         | 29         |  1         | ...        | 0          | 0          | 0          | 0          | 0          | 63         | 22.00000   | 0.27       | NA         | NA         | \n",
       "| 37         | 2          | 2007-06-06 | 73         | 48         | 26         | 47         | 24         | 25         |  1         | ...        | 0          | 0          | 0          | 0          | 0          | 73         | 26.00000   | 0.00       | NA         | NA         | \n",
       "| 38         | 2          | 2007-06-07 | 92         | 71         | 47         | 61         | 37         |  1         | 18         | ...        | 0          | 0          | 0          | 0          | 0          | 92         | 47.00000   | 0.00       | NA         | NA         | \n",
       "| 39         | 2          | 2007-06-08 | 81         | 63         | 37         | 54         | 31         |  1         |  8         | ...        | 0          | 0          | 0          | 0          | 0          | 81         | 37.00000   | 0.00       | NA         | NA         | \n",
       "| 40         | 2          | 2007-06-09 | 79         | 57         | 33         | 49         | 27         |  1         |  4         | ...        | 0          | 0          | 0          | 0          | 0          | 79         | 33.00000   | 0.00       | NA         | NA         | \n",
       "| 41         | 2          | 2007-06-10 | 81         | 61         | 36         | 50         | 29         |  1         |  7         | ...        | 0          | 0          | 0          | 0          | 0          | 81         | 36.00000   | 0.00       | NA         | NA         | \n",
       "| 42         | 2          | 2007-06-11 | 85         | 65         | 40         | 51         | 30         |  1         | 11         | ...        | 0          | 0          | 0          | 0          | 0          | 85         | 40.00000   | 0.00       | NA         | NA         | \n",
       "| 43         | 2          | 2007-06-12 | 82         | 66         | 39         | 51         | 30         |  1         | 10         | ...        | 0          | 0          | 0          | 0          | 0          | 82         | 39.00000   | 0.00       | NA         | NA         | \n",
       "| 44         | 2          | 2007-06-13 | 86         | 68         | 42         | 53         | 31         |  1         | 13         | ...        | 0          | 0          | 0          | 0          | 0          | 86         | 42.00000   | 0.00       | NA         | NA         | \n",
       "| 45         | 2          | 2007-06-14 | 89         | 68         | 44         | 54         | 32         |  1         | 15         | ...        | 0          | 0          | 0          | 0          | 0          | 89         | 44.00000   | 0.00       | 13         |  1         | \n",
       "| 46         | 2          | 2007-06-15 | 89         | 67         | 43         | 56         | 34         |  1         | 14         | ...        | 0          | 0          | 0          | 0          | 0          | 89         | 43.00000   | 0.00       | 13         |  1         | \n",
       "| 47         | 2          | 2007-06-16 | 92         | 68         | 45         | 61         | 37         |  1         | 16         | ...        | 0          | 0          | 0          | 0          | 0          | 92         | 45.00000   | 0.00       | 13         |  1         | \n",
       "| 48         | 2          | 2007-06-17 | 91         | 71         | 46         | 65         | 39         |  1         | 17         | ...        | 0          | 0          | 0          | 0          | 0          | 91         | 46.00000   | 0.16       | 13         |  1         | \n",
       "| 49         | 2          | 2007-06-18 | 89         | 73         | 46         | 65         | 39         |  1         | 17         | ...        | 0          | 0          | 1          | 0          | 0          | 89         | 46.00000   | 0.02       | 14         |  1         | \n",
       "| 50         | 2          | 2007-06-19 | 81         | 65         | 38         | 55         | 32         |  1         |  9         | ...        | 0          | 0          | 0          | 0          | 0          | 81         | 38.00000   | 0.93       | 15         |  1         | \n",
       "\n",
       "\n"
      ],
      "text/plain": [
       "   ID Station2 Date2      Tmax2 Tmin2 Tavg2 DewPoint2 WetBulb2 Heat2 Cool2 ...\n",
       "1   1 2        2007-05-01 84    52    33    51        26        1     4    ...\n",
       "2   2 2        2007-05-02 60    43    17    42        16        6     1    ...\n",
       "3   3 2        2007-05-03 67    48    23    40        19       28     1    ...\n",
       "4   4 2        2007-05-04 78    51    NA    42        19       NA    NA    ...\n",
       "5   5 2        2007-05-05 66    54    25    39        19       26     1    ...\n",
       "6   6 2        2007-05-06 68    52    25    30        15       26     1    ...\n",
       "7   7 2        2007-05-07 84    50    32    39        22        1     3    ...\n",
       "8   8 2        2007-05-08 80    60    35    57        32        1     6    ...\n",
       "9   9 2        2007-05-09 76    63    35    60        32        1     6    ...\n",
       "10 10 2        2007-05-10 83    59    36    52        30        1     7    ...\n",
       "11 11 2        2007-05-11 73    49    26    44        20       25     1    ...\n",
       "12 12 2        2007-05-12 65    47    21    37        15       30     1    ...\n",
       "13 13 2        2007-05-13 69    44    22    32        15       29     1    ...\n",
       "14 14 2        2007-05-14 90    54    37    45        27        1     8    ...\n",
       "15 15 2        2007-05-15 82    56    34    56        30        1     5    ...\n",
       "16 16 2        2007-05-16 64    45    20    42        16        3     1    ...\n",
       "17 17 2        2007-05-17 61    44    18    32        12        5     1    ...\n",
       "18 18 2        2007-05-18 70    43    22    31        16       29     1    ...\n",
       "19 19 2        2007-05-19 80    56    33    37        22        1     4    ...\n",
       "20 20 2        2007-05-20 69    44    22    41        14       29     1    ...\n",
       "21 21 2        2007-05-21 79    46    28    50        26       13     1    ...\n",
       "22 22 2        2007-05-22 87    60    39    44        27        1    10    ...\n",
       "23 23 2        2007-05-23 89    66    43    48        30        1    14    ...\n",
       "24 24 2        2007-05-24 88    66    42    53        32        1    13    ...\n",
       "25 25 2        2007-05-25 66    57    27    46        22       24     1    ...\n",
       "26 26 2        2007-05-26 70    50    25    55        26       26     1    ...\n",
       "27 27 2        2007-05-27 75    59    32    49        26        1     3    ...\n",
       "28 28 2        2007-05-28 76    54    30    49        26        1     1    ...\n",
       "29 29 2        2007-05-29 88    65    42    59        35        1    13    ...\n",
       "30 30 2        2007-05-30 89    70    45    57        35        1    16    ...\n",
       "31 31 2        2007-05-31 80    68    39    61        35        1    10    ...\n",
       "32 32 2        2007-06-01 86    67    42    63        36        1    13    ...\n",
       "33 33 2        2007-06-02 81    68    40    62        36        1    11    ...\n",
       "34 34 2        2007-06-03 77    64    36    60        33        1     7    ...\n",
       "35 35 2        2007-06-04 72    56    29    57        29        2     1    ...\n",
       "36 36 2        2007-06-05 63    51    22    47        21       29     1    ...\n",
       "37 37 2        2007-06-06 73    48    26    47        24       25     1    ...\n",
       "38 38 2        2007-06-07 92    71    47    61        37        1    18    ...\n",
       "39 39 2        2007-06-08 81    63    37    54        31        1     8    ...\n",
       "40 40 2        2007-06-09 79    57    33    49        27        1     4    ...\n",
       "41 41 2        2007-06-10 81    61    36    50        29        1     7    ...\n",
       "42 42 2        2007-06-11 85    65    40    51        30        1    11    ...\n",
       "43 43 2        2007-06-12 82    66    39    51        30        1    10    ...\n",
       "44 44 2        2007-06-13 86    68    42    53        31        1    13    ...\n",
       "45 45 2        2007-06-14 89    68    44    54        32        1    15    ...\n",
       "46 46 2        2007-06-15 89    67    43    56        34        1    14    ...\n",
       "47 47 2        2007-06-16 92    68    45    61        37        1    16    ...\n",
       "48 48 2        2007-06-17 91    71    46    65        39        1    17    ...\n",
       "49 49 2        2007-06-18 89    73    46    65        39        1    17    ...\n",
       "50 50 2        2007-06-19 81    65    38    55        32        1     9    ...\n",
       "   SQ2 TS2 TSRA2 VCFG2 VCTS2 Tmax2.imp Tavg2.imp PrecipTotal2.imp RA45.2\n",
       "1  0   0   0     0     0     84        33.00000  0.00             NA    \n",
       "2  0   0   0     0     0     60        17.00000  0.00             NA    \n",
       "3  0   0   0     0     0     67        23.00000  0.00             NA    \n",
       "4  0   0   0     0     0     78        35.20733  0.00             NA    \n",
       "5  0   0   0     0     0     66        25.00000  0.00             NA    \n",
       "6  0   0   0     0     0     68        25.00000  0.00             NA    \n",
       "7  0   0   0     0     0     84        32.00000  0.00             NA    \n",
       "8  0   0   0     0     0     80        35.00000  0.00             NA    \n",
       "9  0   0   0     0     0     76        35.00000  0.02             NA    \n",
       "10 0   0   0     0     0     83        36.00000  0.00             NA    \n",
       "11 0   0   0     0     0     73        26.00000  0.00             NA    \n",
       "12 0   0   0     0     0     65        21.00000  0.00             NA    \n",
       "13 0   0   0     0     0     69        22.00000  0.00             NA    \n",
       "14 0   0   0     0     0     90        37.00000  0.00             NA    \n",
       "15 0   0   1     0     0     82        34.00000  0.60             NA    \n",
       "16 0   0   0     0     0     64        20.00000  0.07             NA    \n",
       "17 0   0   0     0     0     61        18.00000  0.00             NA    \n",
       "18 0   0   0     0     0     70        22.00000  0.00             NA    \n",
       "19 0   0   0     0     0     80        33.00000  0.00             NA    \n",
       "20 0   0   1     0     0     69        22.00000  0.11             NA    \n",
       "21 0   0   0     0     0     79        28.00000  0.00             NA    \n",
       "22 0   0   0     0     0     87        39.00000  0.00             NA    \n",
       "23 0   0   0     0     0     89        43.00000  0.00             NA    \n",
       "24 0   0   0     0     0     88        42.00000  0.00             NA    \n",
       "25 0   0   0     0     0     66        27.00000  0.09             NA    \n",
       "26 0   0   1     0     0     70        25.00000  0.28             NA    \n",
       "27 0   0   0     0     0     75        32.00000  0.08             NA    \n",
       "28 0   0   0     0     0     76        30.00000  0.00             NA    \n",
       "29 0   0   0     0     0     88        42.00000  0.00             NA    \n",
       "30 0   0   0     0     0     89        45.00000  0.00             NA    \n",
       "31 0   0   0     0     0     80        39.00000  0.53             NA    \n",
       "32 0   0   1     0     0     86        42.00000  0.21             NA    \n",
       "33 0   0   0     0     0     81        40.00000  0.00             NA    \n",
       "34 0   0   0     0     1     77        36.00000  0.32             NA    \n",
       "35 0   0   0     0     0     72        29.00000  0.31             NA    \n",
       "36 0   0   0     0     0     63        22.00000  0.27             NA    \n",
       "37 0   0   0     0     0     73        26.00000  0.00             NA    \n",
       "38 0   0   0     0     0     92        47.00000  0.00             NA    \n",
       "39 0   0   0     0     0     81        37.00000  0.00             NA    \n",
       "40 0   0   0     0     0     79        33.00000  0.00             NA    \n",
       "41 0   0   0     0     0     81        36.00000  0.00             NA    \n",
       "42 0   0   0     0     0     85        40.00000  0.00             NA    \n",
       "43 0   0   0     0     0     82        39.00000  0.00             NA    \n",
       "44 0   0   0     0     0     86        42.00000  0.00             NA    \n",
       "45 0   0   0     0     0     89        44.00000  0.00             13    \n",
       "46 0   0   0     0     0     89        43.00000  0.00             13    \n",
       "47 0   0   0     0     0     92        45.00000  0.00             13    \n",
       "48 0   0   0     0     0     91        46.00000  0.16             13    \n",
       "49 0   0   1     0     0     89        46.00000  0.02             14    \n",
       "50 0   0   0     0     0     81        38.00000  0.93             15    \n",
       "   PT45_gt05\n",
       "1  NA       \n",
       "2  NA       \n",
       "3  NA       \n",
       "4  NA       \n",
       "5  NA       \n",
       "6  NA       \n",
       "7  NA       \n",
       "8  NA       \n",
       "9  NA       \n",
       "10 NA       \n",
       "11 NA       \n",
       "12 NA       \n",
       "13 NA       \n",
       "14 NA       \n",
       "15 NA       \n",
       "16 NA       \n",
       "17 NA       \n",
       "18 NA       \n",
       "19 NA       \n",
       "20 NA       \n",
       "21 NA       \n",
       "22 NA       \n",
       "23 NA       \n",
       "24 NA       \n",
       "25 NA       \n",
       "26 NA       \n",
       "27 NA       \n",
       "28 NA       \n",
       "29 NA       \n",
       "30 NA       \n",
       "31 NA       \n",
       "32 NA       \n",
       "33 NA       \n",
       "34 NA       \n",
       "35 NA       \n",
       "36 NA       \n",
       "37 NA       \n",
       "38 NA       \n",
       "39 NA       \n",
       "40 NA       \n",
       "41 NA       \n",
       "42 NA       \n",
       "43 NA       \n",
       "44 NA       \n",
       "45  1       \n",
       "46  1       \n",
       "47  1       \n",
       "48  1       \n",
       "49  1       \n",
       "50  1       "
      ]
     },
     "metadata": {},
     "output_type": "display_data"
    }
   ],
   "source": [
    "wea22.imp1 <- left_join(wea22.imp1, rain45.2,by=\"Date2\")\n",
    "head(wea22.imp1,50)"
   ]
  },
  {
   "cell_type": "code",
   "execution_count": 55,
   "metadata": {},
   "outputs": [],
   "source": [
    "write.csv(wea22.imp1, file=\"C:/Users/Chen/Project/data/wea22.imp1.csv\", row.names =F)"
   ]
  },
  {
   "cell_type": "markdown",
   "metadata": {},
   "source": [
    "# Hope this will help you :-)"
   ]
  },
  {
   "cell_type": "code",
   "execution_count": null,
   "metadata": {},
   "outputs": [],
   "source": []
  }
 ],
 "metadata": {
  "kernelspec": {
   "display_name": "R",
   "language": "R",
   "name": "ir"
  },
  "language_info": {
   "codemirror_mode": "r",
   "file_extension": ".r",
   "mimetype": "text/x-r-source",
   "name": "R",
   "pygments_lexer": "r",
   "version": "3.5.1"
  }
 },
 "nbformat": 4,
 "nbformat_minor": 2
}
