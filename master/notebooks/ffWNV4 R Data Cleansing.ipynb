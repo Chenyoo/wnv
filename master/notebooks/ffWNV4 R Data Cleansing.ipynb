{
 "cells": [
  {
   "cell_type": "markdown",
   "metadata": {},
   "source": [
    "# Data Cleansing with R"
   ]
  },
  {
   "cell_type": "code",
   "execution_count": 1,
   "metadata": {},
   "outputs": [
    {
     "name": "stderr",
     "output_type": "stream",
     "text": [
      "\n",
      "Attaching package: 'dplyr'\n",
      "\n",
      "The following objects are masked from 'package:stats':\n",
      "\n",
      "    filter, lag\n",
      "\n",
      "The following objects are masked from 'package:base':\n",
      "\n",
      "    intersect, setdiff, setequal, union\n",
      "\n",
      "Loading required package: ggExtra\n",
      "Warning message:\n",
      "\"package 'ggExtra' was built under R version 3.5.2\"Loading required package: naniar\n",
      "Warning message:\n",
      "\"package 'naniar' was built under R version 3.5.2\"Loading required package: mvoutlier\n",
      "Warning message:\n",
      "\"package 'mvoutlier' was built under R version 3.5.2\"Loading required package: sgeostat\n",
      "Warning message:\n",
      "\"package 'sgeostat' was built under R version 3.5.2\"sROC 0.1-2 loaded\n",
      "Loading required package: MissMech\n",
      "Warning message:\n",
      "\"package 'MissMech' was built under R version 3.5.2\"Loading required package: mice\n",
      "Warning message:\n",
      "\"package 'mice' was built under R version 3.5.2\"Loading required package: lattice\n",
      "\n",
      "Attaching package: 'mice'\n",
      "\n",
      "The following objects are masked from 'package:base':\n",
      "\n",
      "    cbind, rbind\n",
      "\n",
      "Loading required package: MatchIt\n",
      "Warning message:\n",
      "\"package 'MatchIt' was built under R version 3.5.2\""
     ]
    }
   ],
   "source": [
    "library(dplyr)\n",
    "library(ggplot2)\n",
    "if(!require(ggExtra)) {install.packages(\"ggExtra\");require(ggExtra)}\n",
    "if(!require(naniar)) {install.packages(\"naniar\");require(naniar)}\n",
    "if(!require(mvoutlier)) {install.packages(\"mvoutlier\");require(mvoutlier)}\n",
    "if(!require(MissMech)) {install.packages(\"MissMech\");require(MissMech)}\n",
    "if(!require(mice)) {install.packages(\"mice\");require(mice)}\n",
    "if(!require(MatchIt)) {install.packages(\"MatchIt\");require(MatchIt)}"
   ]
  },
  {
   "cell_type": "code",
   "execution_count": 2,
   "metadata": {},
   "outputs": [],
   "source": [
    "outlierMatrix <- function(data,threshold=1.5) {\n",
    "    vn <- names(data)\n",
    "    outdata <- data.frame(row1=1:nrow(data))\n",
    "    for(v in vn) {\n",
    "        if(is.numeric(data[[v]])) {\n",
    "            outlow <- quantile(data[[v]],probs = 0.25,na.rm = T) \n",
    "            outhigh <- quantile(data[[v]],probs = 0.75, na.rm = T)\n",
    "            irq_level <- (outhigh - outlow) * threshold\n",
    "            outlow <- outlow - irq_level\n",
    "            outhigh <- outhigh +  irq_level\n",
    "            mv <- ifelse(data[[v]] < outlow | data[[v]] > outhigh, 1, 0)\n",
    "            outdata[v] <- mv\n",
    "        } else {\n",
    "            mv <- rep(0,nrow(data))\n",
    "        }\n",
    "    }\n",
    "    outdata$row1 <- NULL\n",
    "    return(outdata)\n",
    "}\n",
    "\n",
    "\n",
    "missingMatrix <- function(data) {\n",
    "    vn <- names(data)\n",
    "    missdata <- data.frame(row1=1:nrow(data))\n",
    "    for(v in vn) {\n",
    "        mv <- ifelse(is.na(data[[v]]),1,0)\n",
    "        missdata[v] <- mv\n",
    "    }\n",
    "    missdata$row1 <- NULL\n",
    "    return(missdata)\n",
    "}\n",
    "\n",
    "minmax <- function(x) {\n",
    "    return(((x-min(x,na.rm=T))/(max(x,na.rm=T)-min(x,na.rm=T))))\n",
    "}\n",
    "\n",
    "getMissingness <- function (data, getRows = FALSE) {\n",
    "    require(dplyr)\n",
    "    l <- nrow(data)\n",
    "    vn <- names(data)\n",
    "    nadf <- data\n",
    "    cnt <- NULL\n",
    "    miss <- function(x) return(sum(is.na(x)))\n",
    "    for (n in vn) {\n",
    "        nadf[[n]] <- ifelse(is.na(nadf[[n]]) == T, 1, 0)\n",
    "        cnt <- rbind(cnt, data.frame(n, sum(nadf[[n]])))\n",
    "    }\n",
    "    names(cnt) <- c(\"var\", \"na.count\")\n",
    "    cnt$rate <- round((cnt$na.count/nrow(nadf)) * 100, 1)\n",
    "    nadf$na.cnt <- 0\n",
    "    nadf$na.cnt <- rowSums(nadf)\n",
    "    cnt <- cnt %>% dplyr::arrange(desc(na.count)) %>% dplyr::filter(na.count > \n",
    "        0)\n",
    "    totmiss <- nadf %>% dplyr::filter(na.cnt == 0) %>% dplyr::tally()\n",
    "    idx <- NULL\n",
    "    msg <- (paste(\"This dataset has \", as.character(totmiss), \n",
    "        \" (\", as.character(round(totmiss/nrow(data) * 100, 1)), \n",
    "        \"%)\", \" complete rows. Original data has \", nrow(data), \n",
    "        \" rows.\", sep = \"\"))\n",
    "    if (getRows == TRUE & totmiss != 0) {\n",
    "        nadf$rn <- seq_len(nrow(data))\n",
    "        idx <- nadf %>% dplyr::filter(na.cnt == 0) %>% dplyr::select(rn)\n",
    "    }\n",
    "    print(list(head(cnt, n = 10), msg))\n",
    "    return(list(missingness = cnt, message = msg, rows = idx$rn))\n",
    "}"
   ]
  },
  {
   "cell_type": "code",
   "execution_count": 5,
   "metadata": {},
   "outputs": [
    {
     "data": {
      "text/html": [
       "<table>\n",
       "<thead><tr><th scope=col>ID</th><th scope=col>Date</th><th scope=col>Month_Yr</th><th scope=col>Address</th><th scope=col>Block</th><th scope=col>Latitude</th><th scope=col>Longitude</th><th scope=col>Street</th><th scope=col>CULEX_ERRATICUS</th><th scope=col>CULEX_PIPIENS</th><th scope=col>...</th><th scope=col>RA45</th><th scope=col>PT45_gt50</th><th scope=col>RA45_2</th><th scope=col>WnvPresentB</th><th scope=col>PrecipTotal2i.x</th><th scope=col>RA45i</th><th scope=col>PT45_gt50i</th><th scope=col>RA45_2i</th><th scope=col>PT45_gt50_2</th><th scope=col>PT45_gt50_2i</th></tr></thead>\n",
       "<tbody>\n",
       "\t<tr><td>1                                               </td><td>2007-05-29                                      </td><td>2007-05                                         </td><td>1100 Roosevelt Road, Chicago, IL 60608, USA     </td><td>11                                              </td><td>41.86711                                        </td><td>-87.65422                                       </td><td> W ROOSEVELT                                    </td><td>0                                               </td><td>0                                               </td><td>...                                             </td><td>NA                                              </td><td>NA                                              </td><td>NA                                              </td><td>0                                               </td><td>2                                               </td><td>13                                              </td><td>0                                               </td><td>11                                              </td><td>NA                                              </td><td>0                                               </td></tr>\n",
       "\t<tr><td>2                                               </td><td>2007-05-29                                      </td><td>2007-05                                         </td><td>1100 South Peoria Street, Chicago, IL 60608, USA</td><td>11                                              </td><td>41.86229                                        </td><td>-87.64886                                       </td><td> S PEORIA ST                                    </td><td>0                                               </td><td>0                                               </td><td>...                                             </td><td>NA                                              </td><td>NA                                              </td><td>NA                                              </td><td>0                                               </td><td>2                                               </td><td>19                                              </td><td>1                                               </td><td>13                                              </td><td>NA                                              </td><td>0                                               </td></tr>\n",
       "\t<tr><td>3                                               </td><td>2007-05-29                                      </td><td>2007-05                                         </td><td>1100 West Chicago Avenue, Chicago, IL 60642, USA</td><td>11                                              </td><td>41.89628                                        </td><td>-87.65523                                       </td><td> W CHICAGO                                      </td><td>0                                               </td><td>0                                               </td><td>...                                             </td><td>NA                                              </td><td>NA                                              </td><td>NA                                              </td><td>0                                               </td><td>2                                               </td><td>11                                              </td><td>0                                               </td><td>10                                              </td><td>NA                                              </td><td>0                                               </td></tr>\n",
       "\t<tr><td>4                                               </td><td>2007-05-29                                      </td><td>2007-05                                         </td><td>1500 North Long Avenue, Chicago, IL 60651, USA  </td><td>15                                              </td><td>41.90765                                        </td><td>-87.76089                                       </td><td> N LONG AVE                                     </td><td>0                                               </td><td>0                                               </td><td>...                                             </td><td>NA                                              </td><td>NA                                              </td><td>NA                                              </td><td>0                                               </td><td>2                                               </td><td>12                                              </td><td>0                                               </td><td>12                                              </td><td>NA                                              </td><td>0                                               </td></tr>\n",
       "\t<tr><td>5                                               </td><td>2007-05-29                                      </td><td>2007-05                                         </td><td>1500 West Webster Avenue, Chicago, IL 60614, USA</td><td>15                                              </td><td>41.92160                                        </td><td>-87.66645                                       </td><td> W WEBSTER AVE                                  </td><td>0                                               </td><td>0                                               </td><td>...                                             </td><td>NA                                              </td><td>NA                                              </td><td>NA                                              </td><td>0                                               </td><td>2                                               </td><td>17                                              </td><td>0                                               </td><td>17                                              </td><td>NA                                              </td><td>0                                               </td></tr>\n",
       "\t<tr><td>6                                               </td><td>2007-05-29                                      </td><td>2007-05                                         </td><td>1700 West 95th Street, Chicago, IL 60643, USA   </td><td>17                                              </td><td>41.72085                                        </td><td>-87.66601                                       </td><td> W 95TH ST                                      </td><td>0                                               </td><td>0                                               </td><td>...                                             </td><td>NA                                              </td><td>NA                                              </td><td>NA                                              </td><td>0                                               </td><td>2                                               </td><td>12                                              </td><td>0                                               </td><td> 9                                              </td><td>NA                                              </td><td>1                                               </td></tr>\n",
       "</tbody>\n",
       "</table>\n"
      ],
      "text/latex": [
       "\\begin{tabular}{r|llllllllllllllllllllllllllllllllllllllllllllllllllllllllllllllllllllllll}\n",
       " ID & Date & Month\\_Yr & Address & Block & Latitude & Longitude & Street & CULEX\\_ERRATICUS & CULEX\\_PIPIENS & ... & RA45 & PT45\\_gt50 & RA45\\_2 & WnvPresentB & PrecipTotal2i.x & RA45i & PT45\\_gt50i & RA45\\_2i & PT45\\_gt50\\_2 & PT45\\_gt50\\_2i\\\\\n",
       "\\hline\n",
       "\t 1                                                & 2007-05-29                                       & 2007-05                                          & 1100 Roosevelt Road, Chicago, IL 60608, USA      & 11                                               & 41.86711                                         & -87.65422                                        &  W ROOSEVELT                                     & 0                                                & 0                                                & ...                                              & NA                                               & NA                                               & NA                                               & 0                                                & 2                                                & 13                                               & 0                                                & 11                                               & NA                                               & 0                                               \\\\\n",
       "\t 2                                                & 2007-05-29                                       & 2007-05                                          & 1100 South Peoria Street, Chicago, IL 60608, USA & 11                                               & 41.86229                                         & -87.64886                                        &  S PEORIA ST                                     & 0                                                & 0                                                & ...                                              & NA                                               & NA                                               & NA                                               & 0                                                & 2                                                & 19                                               & 1                                                & 13                                               & NA                                               & 0                                               \\\\\n",
       "\t 3                                                & 2007-05-29                                       & 2007-05                                          & 1100 West Chicago Avenue, Chicago, IL 60642, USA & 11                                               & 41.89628                                         & -87.65523                                        &  W CHICAGO                                       & 0                                                & 0                                                & ...                                              & NA                                               & NA                                               & NA                                               & 0                                                & 2                                                & 11                                               & 0                                                & 10                                               & NA                                               & 0                                               \\\\\n",
       "\t 4                                                & 2007-05-29                                       & 2007-05                                          & 1500 North Long Avenue, Chicago, IL 60651, USA   & 15                                               & 41.90765                                         & -87.76089                                        &  N LONG AVE                                      & 0                                                & 0                                                & ...                                              & NA                                               & NA                                               & NA                                               & 0                                                & 2                                                & 12                                               & 0                                                & 12                                               & NA                                               & 0                                               \\\\\n",
       "\t 5                                                & 2007-05-29                                       & 2007-05                                          & 1500 West Webster Avenue, Chicago, IL 60614, USA & 15                                               & 41.92160                                         & -87.66645                                        &  W WEBSTER AVE                                   & 0                                                & 0                                                & ...                                              & NA                                               & NA                                               & NA                                               & 0                                                & 2                                                & 17                                               & 0                                                & 17                                               & NA                                               & 0                                               \\\\\n",
       "\t 6                                                & 2007-05-29                                       & 2007-05                                          & 1700 West 95th Street, Chicago, IL 60643, USA    & 17                                               & 41.72085                                         & -87.66601                                        &  W 95TH ST                                       & 0                                                & 0                                                & ...                                              & NA                                               & NA                                               & NA                                               & 0                                                & 2                                                & 12                                               & 0                                                &  9                                               & NA                                               & 1                                               \\\\\n",
       "\\end{tabular}\n"
      ],
      "text/markdown": [
       "\n",
       "ID | Date | Month_Yr | Address | Block | Latitude | Longitude | Street | CULEX_ERRATICUS | CULEX_PIPIENS | ... | RA45 | PT45_gt50 | RA45_2 | WnvPresentB | PrecipTotal2i.x | RA45i | PT45_gt50i | RA45_2i | PT45_gt50_2 | PT45_gt50_2i | \n",
       "|---|---|---|---|---|---|\n",
       "| 1                                                | 2007-05-29                                       | 2007-05                                          | 1100 Roosevelt Road, Chicago, IL 60608, USA      | 11                                               | 41.86711                                         | -87.65422                                        |  W ROOSEVELT                                     | 0                                                | 0                                                | ...                                              | NA                                               | NA                                               | NA                                               | 0                                                | 2                                                | 13                                               | 0                                                | 11                                               | NA                                               | 0                                                | \n",
       "| 2                                                | 2007-05-29                                       | 2007-05                                          | 1100 South Peoria Street, Chicago, IL 60608, USA | 11                                               | 41.86229                                         | -87.64886                                        |  S PEORIA ST                                     | 0                                                | 0                                                | ...                                              | NA                                               | NA                                               | NA                                               | 0                                                | 2                                                | 19                                               | 1                                                | 13                                               | NA                                               | 0                                                | \n",
       "| 3                                                | 2007-05-29                                       | 2007-05                                          | 1100 West Chicago Avenue, Chicago, IL 60642, USA | 11                                               | 41.89628                                         | -87.65523                                        |  W CHICAGO                                       | 0                                                | 0                                                | ...                                              | NA                                               | NA                                               | NA                                               | 0                                                | 2                                                | 11                                               | 0                                                | 10                                               | NA                                               | 0                                                | \n",
       "| 4                                                | 2007-05-29                                       | 2007-05                                          | 1500 North Long Avenue, Chicago, IL 60651, USA   | 15                                               | 41.90765                                         | -87.76089                                        |  N LONG AVE                                      | 0                                                | 0                                                | ...                                              | NA                                               | NA                                               | NA                                               | 0                                                | 2                                                | 12                                               | 0                                                | 12                                               | NA                                               | 0                                                | \n",
       "| 5                                                | 2007-05-29                                       | 2007-05                                          | 1500 West Webster Avenue, Chicago, IL 60614, USA | 15                                               | 41.92160                                         | -87.66645                                        |  W WEBSTER AVE                                   | 0                                                | 0                                                | ...                                              | NA                                               | NA                                               | NA                                               | 0                                                | 2                                                | 17                                               | 0                                                | 17                                               | NA                                               | 0                                                | \n",
       "| 6                                                | 2007-05-29                                       | 2007-05                                          | 1700 West 95th Street, Chicago, IL 60643, USA    | 17                                               | 41.72085                                         | -87.66601                                        |  W 95TH ST                                       | 0                                                | 0                                                | ...                                              | NA                                               | NA                                               | NA                                               | 0                                                | 2                                                | 12                                               | 0                                                |  9                                               | NA                                               | 1                                                | \n",
       "\n",
       "\n"
      ],
      "text/plain": [
       "  ID Date       Month_Yr Address                                          Block\n",
       "1 1  2007-05-29 2007-05  1100 Roosevelt Road, Chicago, IL 60608, USA      11   \n",
       "2 2  2007-05-29 2007-05  1100 South Peoria Street, Chicago, IL 60608, USA 11   \n",
       "3 3  2007-05-29 2007-05  1100 West Chicago Avenue, Chicago, IL 60642, USA 11   \n",
       "4 4  2007-05-29 2007-05  1500 North Long Avenue, Chicago, IL 60651, USA   15   \n",
       "5 5  2007-05-29 2007-05  1500 West Webster Avenue, Chicago, IL 60614, USA 15   \n",
       "6 6  2007-05-29 2007-05  1700 West 95th Street, Chicago, IL 60643, USA    17   \n",
       "  Latitude Longitude Street         CULEX_ERRATICUS CULEX_PIPIENS ... RA45\n",
       "1 41.86711 -87.65422  W ROOSEVELT   0               0             ... NA  \n",
       "2 41.86229 -87.64886  S PEORIA ST   0               0             ... NA  \n",
       "3 41.89628 -87.65523  W CHICAGO     0               0             ... NA  \n",
       "4 41.90765 -87.76089  N LONG AVE    0               0             ... NA  \n",
       "5 41.92160 -87.66645  W WEBSTER AVE 0               0             ... NA  \n",
       "6 41.72085 -87.66601  W 95TH ST     0               0             ... NA  \n",
       "  PT45_gt50 RA45_2 WnvPresentB PrecipTotal2i.x RA45i PT45_gt50i RA45_2i\n",
       "1 NA        NA     0           2               13    0          11     \n",
       "2 NA        NA     0           2               19    1          13     \n",
       "3 NA        NA     0           2               11    0          10     \n",
       "4 NA        NA     0           2               12    0          12     \n",
       "5 NA        NA     0           2               17    0          17     \n",
       "6 NA        NA     0           2               12    0           9     \n",
       "  PT45_gt50_2 PT45_gt50_2i\n",
       "1 NA          0           \n",
       "2 NA          0           \n",
       "3 NA          0           \n",
       "4 NA          0           \n",
       "5 NA          0           \n",
       "6 NA          1           "
      ]
     },
     "metadata": {},
     "output_type": "display_data"
    }
   ],
   "source": [
    "### load data\n",
    "\n",
    "ffWNV4 <- read.csv(file=\"C:/Users/Chen/Project/data/ffWNV4.csv\")\n",
    "head(ffWNV4)"
   ]
  },
  {
   "cell_type": "markdown",
   "metadata": {},
   "source": [
    "# Outliers\n",
    "\n",
    "## Univariate Outliers"
   ]
  },
  {
   "cell_type": "markdown",
   "metadata": {},
   "source": [
    "as.data.frame(colnames(ffWNV4))"
   ]
  },
  {
   "cell_type": "code",
   "execution_count": 6,
   "metadata": {},
   "outputs": [
    {
     "name": "stdout",
     "output_type": "stream",
     "text": [
      "'data.frame':\t4616 obs. of  72 variables:\n",
      " $ ID                    : int  1 2 3 4 5 6 7 8 9 10 ...\n",
      " $ Date                  : Factor w/ 95 levels \"2007-05-29\",\"2007-06-05\",..: 1 1 1 1 1 1 1 1 1 1 ...\n",
      " $ Month_Yr              : Factor w/ 20 levels \"2007-05\",\"2007-06\",..: 1 1 1 1 1 1 1 1 1 1 ...\n",
      " $ Address               : Factor w/ 138 levels \"1000 East 67th Street, Chicago, IL 60637, USA\",..: 6 8 10 14 16 19 26 28 29 32 ...\n",
      " $ Block                 : int  11 11 11 15 15 17 21 22 22 22 ...\n",
      " $ Latitude              : num  41.9 41.9 41.9 41.9 41.9 ...\n",
      " $ Longitude             : num  -87.7 -87.6 -87.7 -87.8 -87.7 ...\n",
      " $ Street                : Factor w/ 128 levels \"  W ARMITAGE AVENUE\",..: 124 75 108 27 128 103 42 18 88 102 ...\n",
      " $ CULEX_ERRATICUS       : int  0 0 0 0 0 0 0 0 0 0 ...\n",
      " $ CULEX_PIPIENS         : int  0 0 0 0 0 0 0 0 0 1 ...\n",
      " $ CULEX_PIPIENS_RESTUANS: int  1 0 0 0 0 0 1 2 1 0 ...\n",
      " $ CULEX_RESTUANS        : int  2 1 1 1 2 3 0 3 1 5 ...\n",
      " $ CULEX_SALINARIUS      : int  0 0 0 0 0 0 0 0 0 0 ...\n",
      " $ CULEX_TARSALIS        : int  0 0 0 0 0 0 0 0 0 0 ...\n",
      " $ CULEX_TERRITANS       : int  0 0 0 0 0 0 0 0 0 0 ...\n",
      " $ WnvPresent            : int  0 0 0 0 0 0 0 0 0 0 ...\n",
      " $ Month                 : int  5 5 5 5 5 5 5 5 5 5 ...\n",
      " $ Tmax                  : int  88 88 88 88 88 88 88 88 88 88 ...\n",
      " $ Tmin                  : int  60 60 60 60 60 60 60 60 60 60 ...\n",
      " $ Tavg                  : int  39 39 39 39 39 39 39 39 39 39 ...\n",
      " $ Depart                : int  28 28 28 28 28 28 28 28 28 28 ...\n",
      " $ DewPoint              : int  58 58 58 58 58 58 58 58 58 58 ...\n",
      " $ Heat                  : int  1 1 1 1 1 1 1 1 1 1 ...\n",
      " $ Cool                  : int  10 10 10 10 10 10 10 10 10 10 ...\n",
      " $ Sunrise               : int  421 421 421 421 421 421 421 421 421 421 ...\n",
      " $ Sunset                : int  1917 1917 1917 1917 1917 1917 1917 1917 1917 1917 ...\n",
      " $ PrecipTotal           : int  2 2 2 2 2 2 2 2 2 2 ...\n",
      " $ ResultSpeed           : num  5.8 5.8 5.8 5.8 5.8 5.8 5.8 5.8 5.8 5.8 ...\n",
      " $ ResultDir             : int  18 18 18 18 18 18 18 18 18 18 ...\n",
      " $ AvgSpeed              : int  143 143 143 143 143 143 143 143 143 143 ...\n",
      " $ BR                    : int  1 1 1 1 1 1 1 1 1 1 ...\n",
      " $ DZ                    : int  0 0 0 0 0 0 0 0 0 0 ...\n",
      " $ FG                    : int  0 0 0 0 0 0 0 0 0 0 ...\n",
      " $ HZ                    : int  1 1 1 1 1 1 1 1 1 1 ...\n",
      " $ RA                    : int  0 0 0 0 0 0 0 0 0 0 ...\n",
      " $ TS                    : int  0 0 0 0 0 0 0 0 0 0 ...\n",
      " $ TSRA                  : int  0 0 0 0 0 0 0 0 0 0 ...\n",
      " $ VCTS                  : int  0 0 0 0 0 0 0 0 0 0 ...\n",
      " $ Tmax2                 : int  88 88 88 88 88 88 88 88 88 88 ...\n",
      " $ Tmin2                 : int  65 65 65 65 65 65 65 65 65 65 ...\n",
      " $ Tavg2                 : int  42 42 42 42 42 42 42 42 42 42 ...\n",
      " $ WetBulb2              : int  35 35 35 35 35 35 35 35 35 35 ...\n",
      " $ Heat2                 : int  1 1 1 1 1 1 1 1 1 1 ...\n",
      " $ PrecipTotal2          : int  2 2 2 2 2 2 2 2 2 2 ...\n",
      " $ StnPressure2          : int  75 75 75 75 75 75 75 75 75 75 ...\n",
      " $ ResultDir2            : int  16 16 16 16 16 16 16 16 16 16 ...\n",
      " $ AvgSpeed2             : int  152 152 152 152 152 152 152 152 152 152 ...\n",
      " $ BR2                   : int  1 1 1 1 1 1 1 1 1 1 ...\n",
      " $ DZ2                   : int  0 0 0 0 0 0 0 0 0 0 ...\n",
      " $ FG2                   : int  0 0 0 0 0 0 0 0 0 0 ...\n",
      " $ HZ2                   : int  1 1 1 1 1 1 1 1 1 1 ...\n",
      " $ RA2                   : int  0 0 0 0 0 0 0 0 0 0 ...\n",
      " $ TS2                   : int  0 0 0 0 0 0 0 0 0 0 ...\n",
      " $ TSRA2                 : int  0 0 0 0 0 0 0 0 0 0 ...\n",
      " $ VCTS2                 : int  0 0 0 0 0 0 0 0 0 0 ...\n",
      " $ ParasiticIn.          : num  0.26 0.26 0.26 0.26 0.26 0.26 0.26 0.26 0.26 0.26 ...\n",
      " $ Influenza.            : num  0.8 0.8 0.8 0.8 0.8 0.8 0.8 0.8 0.8 0.8 ...\n",
      " $ Spray                 : int  0 0 0 0 0 0 0 0 0 0 ...\n",
      " $ Year                  : int  2007 2007 2007 2007 2007 2007 2007 2007 2007 2007 ...\n",
      " $ Season_code           : int  1 1 1 1 1 1 1 1 1 1 ...\n",
      " $ TrapM                 : int  48 91 49 153 45 94 50 54 86 96 ...\n",
      " $ Snow_Fall             : int  0 0 0 0 0 0 0 0 0 0 ...\n",
      " $ RA45                  : int  NA NA NA NA NA NA NA NA NA NA ...\n",
      " $ PT45_gt50             : int  NA NA NA NA NA NA NA NA NA NA ...\n",
      " $ RA45_2                : int  NA NA NA NA NA NA NA NA NA NA ...\n",
      " $ WnvPresentB           : int  0 0 0 0 0 0 0 0 0 0 ...\n",
      " $ PrecipTotal2i.x       : int  2 2 2 2 2 2 2 2 2 2 ...\n",
      " $ RA45i                 : int  13 19 11 12 17 12 11 7 11 12 ...\n",
      " $ PT45_gt50i            : int  0 1 0 0 0 0 1 1 1 1 ...\n",
      " $ RA45_2i               : int  11 13 10 12 17 9 9 7 9 13 ...\n",
      " $ PT45_gt50_2           : int  NA NA NA NA NA NA NA NA NA NA ...\n",
      " $ PT45_gt50_2i          : int  0 0 0 0 0 1 0 0 0 0 ...\n"
     ]
    }
   ],
   "source": [
    "str(ffWNV4)"
   ]
  },
  {
   "cell_type": "code",
   "execution_count": 5,
   "metadata": {},
   "outputs": [
    {
     "data": {
      "text/html": [
       "<table>\n",
       "<thead><tr><th scope=col>ID</th><th scope=col>Block</th><th scope=col>Latitude</th><th scope=col>Longitude</th><th scope=col>CULEX_ERRATICUS</th><th scope=col>CULEX_PIPIENS</th><th scope=col>CULEX_PIPIENS_RESTUANS</th><th scope=col>CULEX_RESTUANS</th><th scope=col>CULEX_SALINARIUS</th><th scope=col>CULEX_TARSALIS</th><th scope=col>...</th><th scope=col>RA45</th><th scope=col>PT45_gt50</th><th scope=col>RA45_2</th><th scope=col>WnvPresentB</th><th scope=col>PrecipTotal2i.x</th><th scope=col>RA45i</th><th scope=col>PT45_gt50i</th><th scope=col>RA45_2i</th><th scope=col>PT45_gt50_2</th><th scope=col>PT45_gt50_2i</th></tr></thead>\n",
       "<tbody>\n",
       "\t<tr><td>0  </td><td>0  </td><td>0  </td><td>0  </td><td>0  </td><td>0  </td><td>0  </td><td>0  </td><td>0  </td><td>0  </td><td>...</td><td>NA </td><td>NA </td><td>NA </td><td>0  </td><td>0  </td><td>0  </td><td>1  </td><td>0  </td><td>NA </td><td>0  </td></tr>\n",
       "\t<tr><td>0  </td><td>0  </td><td>0  </td><td>0  </td><td>0  </td><td>0  </td><td>0  </td><td>0  </td><td>0  </td><td>0  </td><td>...</td><td>NA </td><td>NA </td><td>NA </td><td>0  </td><td>0  </td><td>0  </td><td>0  </td><td>0  </td><td>NA </td><td>0  </td></tr>\n",
       "\t<tr><td>0  </td><td>0  </td><td>0  </td><td>0  </td><td>0  </td><td>0  </td><td>0  </td><td>0  </td><td>0  </td><td>0  </td><td>...</td><td>NA </td><td>NA </td><td>NA </td><td>0  </td><td>0  </td><td>0  </td><td>1  </td><td>0  </td><td>NA </td><td>0  </td></tr>\n",
       "\t<tr><td>0  </td><td>0  </td><td>0  </td><td>0  </td><td>0  </td><td>0  </td><td>0  </td><td>0  </td><td>0  </td><td>0  </td><td>...</td><td>NA </td><td>NA </td><td>NA </td><td>0  </td><td>0  </td><td>0  </td><td>1  </td><td>0  </td><td>NA </td><td>0  </td></tr>\n",
       "\t<tr><td>0  </td><td>0  </td><td>0  </td><td>0  </td><td>0  </td><td>0  </td><td>0  </td><td>0  </td><td>0  </td><td>0  </td><td>...</td><td>NA </td><td>NA </td><td>NA </td><td>0  </td><td>0  </td><td>0  </td><td>1  </td><td>0  </td><td>NA </td><td>0  </td></tr>\n",
       "\t<tr><td>0  </td><td>0  </td><td>0  </td><td>0  </td><td>0  </td><td>0  </td><td>0  </td><td>0  </td><td>0  </td><td>0  </td><td>...</td><td>NA </td><td>NA </td><td>NA </td><td>0  </td><td>0  </td><td>0  </td><td>1  </td><td>0  </td><td>NA </td><td>1  </td></tr>\n",
       "</tbody>\n",
       "</table>\n"
      ],
      "text/latex": [
       "\\begin{tabular}{r|llllllllllllllllllllllllllllllllllllllllllllllllllllllllllllllllllll}\n",
       " ID & Block & Latitude & Longitude & CULEX\\_ERRATICUS & CULEX\\_PIPIENS & CULEX\\_PIPIENS\\_RESTUANS & CULEX\\_RESTUANS & CULEX\\_SALINARIUS & CULEX\\_TARSALIS & ... & RA45 & PT45\\_gt50 & RA45\\_2 & WnvPresentB & PrecipTotal2i.x & RA45i & PT45\\_gt50i & RA45\\_2i & PT45\\_gt50\\_2 & PT45\\_gt50\\_2i\\\\\n",
       "\\hline\n",
       "\t 0   & 0   & 0   & 0   & 0   & 0   & 0   & 0   & 0   & 0   & ... & NA  & NA  & NA  & 0   & 0   & 0   & 1   & 0   & NA  & 0  \\\\\n",
       "\t 0   & 0   & 0   & 0   & 0   & 0   & 0   & 0   & 0   & 0   & ... & NA  & NA  & NA  & 0   & 0   & 0   & 0   & 0   & NA  & 0  \\\\\n",
       "\t 0   & 0   & 0   & 0   & 0   & 0   & 0   & 0   & 0   & 0   & ... & NA  & NA  & NA  & 0   & 0   & 0   & 1   & 0   & NA  & 0  \\\\\n",
       "\t 0   & 0   & 0   & 0   & 0   & 0   & 0   & 0   & 0   & 0   & ... & NA  & NA  & NA  & 0   & 0   & 0   & 1   & 0   & NA  & 0  \\\\\n",
       "\t 0   & 0   & 0   & 0   & 0   & 0   & 0   & 0   & 0   & 0   & ... & NA  & NA  & NA  & 0   & 0   & 0   & 1   & 0   & NA  & 0  \\\\\n",
       "\t 0   & 0   & 0   & 0   & 0   & 0   & 0   & 0   & 0   & 0   & ... & NA  & NA  & NA  & 0   & 0   & 0   & 1   & 0   & NA  & 1  \\\\\n",
       "\\end{tabular}\n"
      ],
      "text/markdown": [
       "\n",
       "ID | Block | Latitude | Longitude | CULEX_ERRATICUS | CULEX_PIPIENS | CULEX_PIPIENS_RESTUANS | CULEX_RESTUANS | CULEX_SALINARIUS | CULEX_TARSALIS | ... | RA45 | PT45_gt50 | RA45_2 | WnvPresentB | PrecipTotal2i.x | RA45i | PT45_gt50i | RA45_2i | PT45_gt50_2 | PT45_gt50_2i | \n",
       "|---|---|---|---|---|---|\n",
       "| 0   | 0   | 0   | 0   | 0   | 0   | 0   | 0   | 0   | 0   | ... | NA  | NA  | NA  | 0   | 0   | 0   | 1   | 0   | NA  | 0   | \n",
       "| 0   | 0   | 0   | 0   | 0   | 0   | 0   | 0   | 0   | 0   | ... | NA  | NA  | NA  | 0   | 0   | 0   | 0   | 0   | NA  | 0   | \n",
       "| 0   | 0   | 0   | 0   | 0   | 0   | 0   | 0   | 0   | 0   | ... | NA  | NA  | NA  | 0   | 0   | 0   | 1   | 0   | NA  | 0   | \n",
       "| 0   | 0   | 0   | 0   | 0   | 0   | 0   | 0   | 0   | 0   | ... | NA  | NA  | NA  | 0   | 0   | 0   | 1   | 0   | NA  | 0   | \n",
       "| 0   | 0   | 0   | 0   | 0   | 0   | 0   | 0   | 0   | 0   | ... | NA  | NA  | NA  | 0   | 0   | 0   | 1   | 0   | NA  | 0   | \n",
       "| 0   | 0   | 0   | 0   | 0   | 0   | 0   | 0   | 0   | 0   | ... | NA  | NA  | NA  | 0   | 0   | 0   | 1   | 0   | NA  | 1   | \n",
       "\n",
       "\n"
      ],
      "text/plain": [
       "  ID Block Latitude Longitude CULEX_ERRATICUS CULEX_PIPIENS\n",
       "1 0  0     0        0         0               0            \n",
       "2 0  0     0        0         0               0            \n",
       "3 0  0     0        0         0               0            \n",
       "4 0  0     0        0         0               0            \n",
       "5 0  0     0        0         0               0            \n",
       "6 0  0     0        0         0               0            \n",
       "  CULEX_PIPIENS_RESTUANS CULEX_RESTUANS CULEX_SALINARIUS CULEX_TARSALIS ...\n",
       "1 0                      0              0                0              ...\n",
       "2 0                      0              0                0              ...\n",
       "3 0                      0              0                0              ...\n",
       "4 0                      0              0                0              ...\n",
       "5 0                      0              0                0              ...\n",
       "6 0                      0              0                0              ...\n",
       "  RA45 PT45_gt50 RA45_2 WnvPresentB PrecipTotal2i.x RA45i PT45_gt50i RA45_2i\n",
       "1 NA   NA        NA     0           0               0     1          0      \n",
       "2 NA   NA        NA     0           0               0     0          0      \n",
       "3 NA   NA        NA     0           0               0     1          0      \n",
       "4 NA   NA        NA     0           0               0     1          0      \n",
       "5 NA   NA        NA     0           0               0     1          0      \n",
       "6 NA   NA        NA     0           0               0     1          0      \n",
       "  PT45_gt50_2 PT45_gt50_2i\n",
       "1 NA          0           \n",
       "2 NA          0           \n",
       "3 NA          0           \n",
       "4 NA          0           \n",
       "5 NA          0           \n",
       "6 NA          1           "
      ]
     },
     "metadata": {},
     "output_type": "display_data"
    }
   ],
   "source": [
    "## Using IRQ for catching univariate outliers (1.5 x IRQ)\n",
    "head(outlierMatrix(ffWNV4,threshold=1.5))"
   ]
  },
  {
   "cell_type": "code",
   "execution_count": 7,
   "metadata": {},
   "outputs": [
    {
     "data": {
      "text/html": [
       "<table>\n",
       "<thead><tr><th scope=col>ID</th><th scope=col>Block</th><th scope=col>Latitude</th><th scope=col>Longitude</th><th scope=col>CULEX_ERRATICUS</th><th scope=col>CULEX_PIPIENS</th><th scope=col>CULEX_PIPIENS_RESTUANS</th><th scope=col>CULEX_RESTUANS</th><th scope=col>CULEX_SALINARIUS</th><th scope=col>CULEX_TARSALIS</th><th scope=col>...</th><th scope=col>RA45</th><th scope=col>PT45_gt50</th><th scope=col>RA45_2</th><th scope=col>WnvPresentB</th><th scope=col>PrecipTotal2i.x</th><th scope=col>RA45i</th><th scope=col>PT45_gt50i</th><th scope=col>RA45_2i</th><th scope=col>PT45_gt50_2</th><th scope=col>PT45_gt50_2i</th></tr></thead>\n",
       "<tbody>\n",
       "\t<tr><td>0  </td><td>0  </td><td>0  </td><td>0  </td><td>0  </td><td>0  </td><td>0  </td><td>0  </td><td>0  </td><td>0  </td><td>...</td><td>NA </td><td>NA </td><td>NA </td><td>0  </td><td>0  </td><td>0  </td><td>1  </td><td>0  </td><td>NA </td><td>0  </td></tr>\n",
       "\t<tr><td>0  </td><td>0  </td><td>0  </td><td>0  </td><td>0  </td><td>0  </td><td>0  </td><td>0  </td><td>0  </td><td>0  </td><td>...</td><td>NA </td><td>NA </td><td>NA </td><td>0  </td><td>0  </td><td>0  </td><td>0  </td><td>0  </td><td>NA </td><td>0  </td></tr>\n",
       "\t<tr><td>0  </td><td>0  </td><td>0  </td><td>0  </td><td>0  </td><td>0  </td><td>0  </td><td>0  </td><td>0  </td><td>0  </td><td>...</td><td>NA </td><td>NA </td><td>NA </td><td>0  </td><td>0  </td><td>0  </td><td>1  </td><td>0  </td><td>NA </td><td>0  </td></tr>\n",
       "\t<tr><td>0  </td><td>0  </td><td>0  </td><td>0  </td><td>0  </td><td>0  </td><td>0  </td><td>0  </td><td>0  </td><td>0  </td><td>...</td><td>NA </td><td>NA </td><td>NA </td><td>0  </td><td>0  </td><td>0  </td><td>1  </td><td>0  </td><td>NA </td><td>0  </td></tr>\n",
       "\t<tr><td>0  </td><td>0  </td><td>0  </td><td>0  </td><td>0  </td><td>0  </td><td>0  </td><td>0  </td><td>0  </td><td>0  </td><td>...</td><td>NA </td><td>NA </td><td>NA </td><td>0  </td><td>0  </td><td>0  </td><td>1  </td><td>0  </td><td>NA </td><td>0  </td></tr>\n",
       "\t<tr><td>0  </td><td>0  </td><td>0  </td><td>0  </td><td>0  </td><td>0  </td><td>0  </td><td>0  </td><td>0  </td><td>0  </td><td>...</td><td>NA </td><td>NA </td><td>NA </td><td>0  </td><td>0  </td><td>0  </td><td>1  </td><td>0  </td><td>NA </td><td>1  </td></tr>\n",
       "</tbody>\n",
       "</table>\n"
      ],
      "text/latex": [
       "\\begin{tabular}{r|llllllllllllllllllllllllllllllllllllllllllllllllllllllllllllllllllll}\n",
       " ID & Block & Latitude & Longitude & CULEX\\_ERRATICUS & CULEX\\_PIPIENS & CULEX\\_PIPIENS\\_RESTUANS & CULEX\\_RESTUANS & CULEX\\_SALINARIUS & CULEX\\_TARSALIS & ... & RA45 & PT45\\_gt50 & RA45\\_2 & WnvPresentB & PrecipTotal2i.x & RA45i & PT45\\_gt50i & RA45\\_2i & PT45\\_gt50\\_2 & PT45\\_gt50\\_2i\\\\\n",
       "\\hline\n",
       "\t 0   & 0   & 0   & 0   & 0   & 0   & 0   & 0   & 0   & 0   & ... & NA  & NA  & NA  & 0   & 0   & 0   & 1   & 0   & NA  & 0  \\\\\n",
       "\t 0   & 0   & 0   & 0   & 0   & 0   & 0   & 0   & 0   & 0   & ... & NA  & NA  & NA  & 0   & 0   & 0   & 0   & 0   & NA  & 0  \\\\\n",
       "\t 0   & 0   & 0   & 0   & 0   & 0   & 0   & 0   & 0   & 0   & ... & NA  & NA  & NA  & 0   & 0   & 0   & 1   & 0   & NA  & 0  \\\\\n",
       "\t 0   & 0   & 0   & 0   & 0   & 0   & 0   & 0   & 0   & 0   & ... & NA  & NA  & NA  & 0   & 0   & 0   & 1   & 0   & NA  & 0  \\\\\n",
       "\t 0   & 0   & 0   & 0   & 0   & 0   & 0   & 0   & 0   & 0   & ... & NA  & NA  & NA  & 0   & 0   & 0   & 1   & 0   & NA  & 0  \\\\\n",
       "\t 0   & 0   & 0   & 0   & 0   & 0   & 0   & 0   & 0   & 0   & ... & NA  & NA  & NA  & 0   & 0   & 0   & 1   & 0   & NA  & 1  \\\\\n",
       "\\end{tabular}\n"
      ],
      "text/markdown": [
       "\n",
       "ID | Block | Latitude | Longitude | CULEX_ERRATICUS | CULEX_PIPIENS | CULEX_PIPIENS_RESTUANS | CULEX_RESTUANS | CULEX_SALINARIUS | CULEX_TARSALIS | ... | RA45 | PT45_gt50 | RA45_2 | WnvPresentB | PrecipTotal2i.x | RA45i | PT45_gt50i | RA45_2i | PT45_gt50_2 | PT45_gt50_2i | \n",
       "|---|---|---|---|---|---|\n",
       "| 0   | 0   | 0   | 0   | 0   | 0   | 0   | 0   | 0   | 0   | ... | NA  | NA  | NA  | 0   | 0   | 0   | 1   | 0   | NA  | 0   | \n",
       "| 0   | 0   | 0   | 0   | 0   | 0   | 0   | 0   | 0   | 0   | ... | NA  | NA  | NA  | 0   | 0   | 0   | 0   | 0   | NA  | 0   | \n",
       "| 0   | 0   | 0   | 0   | 0   | 0   | 0   | 0   | 0   | 0   | ... | NA  | NA  | NA  | 0   | 0   | 0   | 1   | 0   | NA  | 0   | \n",
       "| 0   | 0   | 0   | 0   | 0   | 0   | 0   | 0   | 0   | 0   | ... | NA  | NA  | NA  | 0   | 0   | 0   | 1   | 0   | NA  | 0   | \n",
       "| 0   | 0   | 0   | 0   | 0   | 0   | 0   | 0   | 0   | 0   | ... | NA  | NA  | NA  | 0   | 0   | 0   | 1   | 0   | NA  | 0   | \n",
       "| 0   | 0   | 0   | 0   | 0   | 0   | 0   | 0   | 0   | 0   | ... | NA  | NA  | NA  | 0   | 0   | 0   | 1   | 0   | NA  | 1   | \n",
       "\n",
       "\n"
      ],
      "text/plain": [
       "  ID Block Latitude Longitude CULEX_ERRATICUS CULEX_PIPIENS\n",
       "1 0  0     0        0         0               0            \n",
       "2 0  0     0        0         0               0            \n",
       "3 0  0     0        0         0               0            \n",
       "4 0  0     0        0         0               0            \n",
       "5 0  0     0        0         0               0            \n",
       "6 0  0     0        0         0               0            \n",
       "  CULEX_PIPIENS_RESTUANS CULEX_RESTUANS CULEX_SALINARIUS CULEX_TARSALIS ...\n",
       "1 0                      0              0                0              ...\n",
       "2 0                      0              0                0              ...\n",
       "3 0                      0              0                0              ...\n",
       "4 0                      0              0                0              ...\n",
       "5 0                      0              0                0              ...\n",
       "6 0                      0              0                0              ...\n",
       "  RA45 PT45_gt50 RA45_2 WnvPresentB PrecipTotal2i.x RA45i PT45_gt50i RA45_2i\n",
       "1 NA   NA        NA     0           0               0     1          0      \n",
       "2 NA   NA        NA     0           0               0     0          0      \n",
       "3 NA   NA        NA     0           0               0     1          0      \n",
       "4 NA   NA        NA     0           0               0     1          0      \n",
       "5 NA   NA        NA     0           0               0     1          0      \n",
       "6 NA   NA        NA     0           0               0     1          0      \n",
       "  PT45_gt50_2 PT45_gt50_2i\n",
       "1 NA          0           \n",
       "2 NA          0           \n",
       "3 NA          0           \n",
       "4 NA          0           \n",
       "5 NA          0           \n",
       "6 NA          1           "
      ]
     },
     "metadata": {},
     "output_type": "display_data"
    }
   ],
   "source": [
    "## Using IRQ for catching univariate outliers (1.5 x IRQ)\n",
    "head(outlierMatrix(ffWNV4,threshold=2.0))"
   ]
  },
  {
   "cell_type": "code",
   "execution_count": 8,
   "metadata": {},
   "outputs": [
    {
     "data": {
      "text/html": [
       "<ol class=list-inline>\n",
       "\t<li>'ID'</li>\n",
       "\t<li>'Date'</li>\n",
       "\t<li>'Month_Yr'</li>\n",
       "\t<li>'Address'</li>\n",
       "\t<li>'Block'</li>\n",
       "\t<li>'Latitude'</li>\n",
       "\t<li>'Longitude'</li>\n",
       "\t<li>'Street'</li>\n",
       "\t<li>'CULEX_ERRATICUS'</li>\n",
       "\t<li>'CULEX_PIPIENS'</li>\n",
       "\t<li>'CULEX_PIPIENS_RESTUANS'</li>\n",
       "\t<li>'CULEX_RESTUANS'</li>\n",
       "\t<li>'CULEX_SALINARIUS'</li>\n",
       "\t<li>'CULEX_TARSALIS'</li>\n",
       "\t<li>'CULEX_TERRITANS'</li>\n",
       "\t<li>'WnvPresent'</li>\n",
       "\t<li>'Month'</li>\n",
       "\t<li>'Tmax'</li>\n",
       "\t<li>'Tmin'</li>\n",
       "\t<li>'Tavg'</li>\n",
       "\t<li>'Depart'</li>\n",
       "\t<li>'DewPoint'</li>\n",
       "\t<li>'Heat'</li>\n",
       "\t<li>'Cool'</li>\n",
       "\t<li>'Sunrise'</li>\n",
       "\t<li>'Sunset'</li>\n",
       "\t<li>'PrecipTotal'</li>\n",
       "\t<li>'ResultSpeed'</li>\n",
       "\t<li>'ResultDir'</li>\n",
       "\t<li>'AvgSpeed'</li>\n",
       "\t<li>'BR'</li>\n",
       "\t<li>'DZ'</li>\n",
       "\t<li>'FG'</li>\n",
       "\t<li>'HZ'</li>\n",
       "\t<li>'RA'</li>\n",
       "\t<li>'TS'</li>\n",
       "\t<li>'TSRA'</li>\n",
       "\t<li>'VCTS'</li>\n",
       "\t<li>'Tmax2'</li>\n",
       "\t<li>'Tmin2'</li>\n",
       "\t<li>'Tavg2'</li>\n",
       "\t<li>'WetBulb2'</li>\n",
       "\t<li>'Heat2'</li>\n",
       "\t<li>'PrecipTotal2'</li>\n",
       "\t<li>'StnPressure2'</li>\n",
       "\t<li>'ResultDir2'</li>\n",
       "\t<li>'AvgSpeed2'</li>\n",
       "\t<li>'BR2'</li>\n",
       "\t<li>'DZ2'</li>\n",
       "\t<li>'FG2'</li>\n",
       "\t<li>'HZ2'</li>\n",
       "\t<li>'RA2'</li>\n",
       "\t<li>'TS2'</li>\n",
       "\t<li>'TSRA2'</li>\n",
       "\t<li>'VCTS2'</li>\n",
       "\t<li>'ParasiticIn.'</li>\n",
       "\t<li>'Influenza.'</li>\n",
       "\t<li>'Spray'</li>\n",
       "\t<li>'Year'</li>\n",
       "\t<li>'Season_code'</li>\n",
       "\t<li>'TrapM'</li>\n",
       "\t<li>'Snow_Fall'</li>\n",
       "\t<li>'RA45'</li>\n",
       "\t<li>'PT45_gt50'</li>\n",
       "\t<li>'RA45_2'</li>\n",
       "\t<li>'WnvPresentB'</li>\n",
       "\t<li>'PrecipTotal2i.x'</li>\n",
       "\t<li>'RA45i'</li>\n",
       "\t<li>'PT45_gt50i'</li>\n",
       "\t<li>'RA45_2i'</li>\n",
       "\t<li>'PT45_gt50_2'</li>\n",
       "\t<li>'PT45_gt50_2i'</li>\n",
       "</ol>\n"
      ],
      "text/latex": [
       "\\begin{enumerate*}\n",
       "\\item 'ID'\n",
       "\\item 'Date'\n",
       "\\item 'Month\\_Yr'\n",
       "\\item 'Address'\n",
       "\\item 'Block'\n",
       "\\item 'Latitude'\n",
       "\\item 'Longitude'\n",
       "\\item 'Street'\n",
       "\\item 'CULEX\\_ERRATICUS'\n",
       "\\item 'CULEX\\_PIPIENS'\n",
       "\\item 'CULEX\\_PIPIENS\\_RESTUANS'\n",
       "\\item 'CULEX\\_RESTUANS'\n",
       "\\item 'CULEX\\_SALINARIUS'\n",
       "\\item 'CULEX\\_TARSALIS'\n",
       "\\item 'CULEX\\_TERRITANS'\n",
       "\\item 'WnvPresent'\n",
       "\\item 'Month'\n",
       "\\item 'Tmax'\n",
       "\\item 'Tmin'\n",
       "\\item 'Tavg'\n",
       "\\item 'Depart'\n",
       "\\item 'DewPoint'\n",
       "\\item 'Heat'\n",
       "\\item 'Cool'\n",
       "\\item 'Sunrise'\n",
       "\\item 'Sunset'\n",
       "\\item 'PrecipTotal'\n",
       "\\item 'ResultSpeed'\n",
       "\\item 'ResultDir'\n",
       "\\item 'AvgSpeed'\n",
       "\\item 'BR'\n",
       "\\item 'DZ'\n",
       "\\item 'FG'\n",
       "\\item 'HZ'\n",
       "\\item 'RA'\n",
       "\\item 'TS'\n",
       "\\item 'TSRA'\n",
       "\\item 'VCTS'\n",
       "\\item 'Tmax2'\n",
       "\\item 'Tmin2'\n",
       "\\item 'Tavg2'\n",
       "\\item 'WetBulb2'\n",
       "\\item 'Heat2'\n",
       "\\item 'PrecipTotal2'\n",
       "\\item 'StnPressure2'\n",
       "\\item 'ResultDir2'\n",
       "\\item 'AvgSpeed2'\n",
       "\\item 'BR2'\n",
       "\\item 'DZ2'\n",
       "\\item 'FG2'\n",
       "\\item 'HZ2'\n",
       "\\item 'RA2'\n",
       "\\item 'TS2'\n",
       "\\item 'TSRA2'\n",
       "\\item 'VCTS2'\n",
       "\\item 'ParasiticIn.'\n",
       "\\item 'Influenza.'\n",
       "\\item 'Spray'\n",
       "\\item 'Year'\n",
       "\\item 'Season\\_code'\n",
       "\\item 'TrapM'\n",
       "\\item 'Snow\\_Fall'\n",
       "\\item 'RA45'\n",
       "\\item 'PT45\\_gt50'\n",
       "\\item 'RA45\\_2'\n",
       "\\item 'WnvPresentB'\n",
       "\\item 'PrecipTotal2i.x'\n",
       "\\item 'RA45i'\n",
       "\\item 'PT45\\_gt50i'\n",
       "\\item 'RA45\\_2i'\n",
       "\\item 'PT45\\_gt50\\_2'\n",
       "\\item 'PT45\\_gt50\\_2i'\n",
       "\\end{enumerate*}\n"
      ],
      "text/markdown": [
       "1. 'ID'\n",
       "2. 'Date'\n",
       "3. 'Month_Yr'\n",
       "4. 'Address'\n",
       "5. 'Block'\n",
       "6. 'Latitude'\n",
       "7. 'Longitude'\n",
       "8. 'Street'\n",
       "9. 'CULEX_ERRATICUS'\n",
       "10. 'CULEX_PIPIENS'\n",
       "11. 'CULEX_PIPIENS_RESTUANS'\n",
       "12. 'CULEX_RESTUANS'\n",
       "13. 'CULEX_SALINARIUS'\n",
       "14. 'CULEX_TARSALIS'\n",
       "15. 'CULEX_TERRITANS'\n",
       "16. 'WnvPresent'\n",
       "17. 'Month'\n",
       "18. 'Tmax'\n",
       "19. 'Tmin'\n",
       "20. 'Tavg'\n",
       "21. 'Depart'\n",
       "22. 'DewPoint'\n",
       "23. 'Heat'\n",
       "24. 'Cool'\n",
       "25. 'Sunrise'\n",
       "26. 'Sunset'\n",
       "27. 'PrecipTotal'\n",
       "28. 'ResultSpeed'\n",
       "29. 'ResultDir'\n",
       "30. 'AvgSpeed'\n",
       "31. 'BR'\n",
       "32. 'DZ'\n",
       "33. 'FG'\n",
       "34. 'HZ'\n",
       "35. 'RA'\n",
       "36. 'TS'\n",
       "37. 'TSRA'\n",
       "38. 'VCTS'\n",
       "39. 'Tmax2'\n",
       "40. 'Tmin2'\n",
       "41. 'Tavg2'\n",
       "42. 'WetBulb2'\n",
       "43. 'Heat2'\n",
       "44. 'PrecipTotal2'\n",
       "45. 'StnPressure2'\n",
       "46. 'ResultDir2'\n",
       "47. 'AvgSpeed2'\n",
       "48. 'BR2'\n",
       "49. 'DZ2'\n",
       "50. 'FG2'\n",
       "51. 'HZ2'\n",
       "52. 'RA2'\n",
       "53. 'TS2'\n",
       "54. 'TSRA2'\n",
       "55. 'VCTS2'\n",
       "56. 'ParasiticIn.'\n",
       "57. 'Influenza.'\n",
       "58. 'Spray'\n",
       "59. 'Year'\n",
       "60. 'Season_code'\n",
       "61. 'TrapM'\n",
       "62. 'Snow_Fall'\n",
       "63. 'RA45'\n",
       "64. 'PT45_gt50'\n",
       "65. 'RA45_2'\n",
       "66. 'WnvPresentB'\n",
       "67. 'PrecipTotal2i.x'\n",
       "68. 'RA45i'\n",
       "69. 'PT45_gt50i'\n",
       "70. 'RA45_2i'\n",
       "71. 'PT45_gt50_2'\n",
       "72. 'PT45_gt50_2i'\n",
       "\n",
       "\n"
      ],
      "text/plain": [
       " [1] \"ID\"                     \"Date\"                   \"Month_Yr\"              \n",
       " [4] \"Address\"                \"Block\"                  \"Latitude\"              \n",
       " [7] \"Longitude\"              \"Street\"                 \"CULEX_ERRATICUS\"       \n",
       "[10] \"CULEX_PIPIENS\"          \"CULEX_PIPIENS_RESTUANS\" \"CULEX_RESTUANS\"        \n",
       "[13] \"CULEX_SALINARIUS\"       \"CULEX_TARSALIS\"         \"CULEX_TERRITANS\"       \n",
       "[16] \"WnvPresent\"             \"Month\"                  \"Tmax\"                  \n",
       "[19] \"Tmin\"                   \"Tavg\"                   \"Depart\"                \n",
       "[22] \"DewPoint\"               \"Heat\"                   \"Cool\"                  \n",
       "[25] \"Sunrise\"                \"Sunset\"                 \"PrecipTotal\"           \n",
       "[28] \"ResultSpeed\"            \"ResultDir\"              \"AvgSpeed\"              \n",
       "[31] \"BR\"                     \"DZ\"                     \"FG\"                    \n",
       "[34] \"HZ\"                     \"RA\"                     \"TS\"                    \n",
       "[37] \"TSRA\"                   \"VCTS\"                   \"Tmax2\"                 \n",
       "[40] \"Tmin2\"                  \"Tavg2\"                  \"WetBulb2\"              \n",
       "[43] \"Heat2\"                  \"PrecipTotal2\"           \"StnPressure2\"          \n",
       "[46] \"ResultDir2\"             \"AvgSpeed2\"              \"BR2\"                   \n",
       "[49] \"DZ2\"                    \"FG2\"                    \"HZ2\"                   \n",
       "[52] \"RA2\"                    \"TS2\"                    \"TSRA2\"                 \n",
       "[55] \"VCTS2\"                  \"ParasiticIn.\"           \"Influenza.\"            \n",
       "[58] \"Spray\"                  \"Year\"                   \"Season_code\"           \n",
       "[61] \"TrapM\"                  \"Snow_Fall\"              \"RA45\"                  \n",
       "[64] \"PT45_gt50\"              \"RA45_2\"                 \"WnvPresentB\"           \n",
       "[67] \"PrecipTotal2i.x\"        \"RA45i\"                  \"PT45_gt50i\"            \n",
       "[70] \"RA45_2i\"                \"PT45_gt50_2\"            \"PT45_gt50_2i\"          "
      ]
     },
     "metadata": {},
     "output_type": "display_data"
    }
   ],
   "source": [
    "colnames(ffWNV4)"
   ]
  },
  {
   "cell_type": "code",
   "execution_count": 7,
   "metadata": {},
   "outputs": [],
   "source": [
    "var1<-c( 'Month', 'Tmax', 'Tmin', 'Tavg', 'Depart', 'DewPoint', 'Heat', 'Cool', 'Sunrise', 'Sunset', 'PrecipTotal' ,'ResultSpeed', 'ResultDir', 'AvgSpeed', 'Tmax2', 'Tmin2', 'Tavg2', 'WetBulb2', 'Heat2', 'PrecipTotal2', 'StnPressure2', 'ResultDir2', 'AvgSpeed2', 'ParasiticIn.', 'Influenza.', 'RA45', 'RA45_2' )"
   ]
  },
  {
   "cell_type": "code",
   "execution_count": 8,
   "metadata": {},
   "outputs": [
    {
     "data": {
      "text/html": [
       "<strong>png:</strong> 2"
      ],
      "text/latex": [
       "\\textbf{png:} 2"
      ],
      "text/markdown": [
       "**png:** 2"
      ],
      "text/plain": [
       "png \n",
       "  2 "
      ]
     },
     "metadata": {},
     "output_type": "display_data"
    }
   ],
   "source": [
    "pdf('out1.pdf')\n",
    "options(repr.plot.width = 8, repr.plot.height = 8)\n",
    "par(mfrow=c(4,3))\n",
    "for(v in names(ffWNV4[var1])) {\n",
    "    boxplot(ffWNV4[[v]],main=v)\n",
    "}\n",
    "par(mfrow=c(1,1))\n",
    "\n",
    "dev.off()"
   ]
  },
  {
   "cell_type": "code",
   "execution_count": 33,
   "metadata": {},
   "outputs": [
    {
     "data": {
      "image/png": "[encoded data removed]",
      "text/plain": [
       "Plot with title \"ResultSpeed\""
      ]
     },
     "metadata": {},
     "output_type": "display_data"
    },
    {
     "data": {
      "image/png": "[encoded data removed]",
      "text/plain": [
       "Plot with title \"ParasiticIn.\""
      ]
     },
     "metadata": {},
     "output_type": "display_data"
    },
    {
     "data": {
      "text/html": [
       "<strong>png:</strong> 2"
      ],
      "text/latex": [
       "\\textbf{png:} 2"
      ],
      "text/markdown": [
       "**png:** 2"
      ],
      "text/plain": [
       "png \n",
       "  2 "
      ]
     },
     "metadata": {},
     "output_type": "display_data"
    },
    {
     "data": {
      "image/png": "[encoded data removed]",
      "text/plain": [
       "Plot with title \"RA45_2\""
      ]
     },
     "metadata": {},
     "output_type": "display_data"
    }
   ],
   "source": [
    "## Visual determination of univariate outliers using boxplots \n",
    "\n",
    "options(repr.plot.width = 8, repr.plot.height = 8)\n",
    "par(mfrow=c(4,3))\n",
    "for(v in names(ffWNV4[var1])) {\n",
    "    boxplot(ffWNV4[[v]],main=v)\n",
    "}\n",
    "par(mfrow=c(1,1))\n",
    "\n"
   ]
  },
  {
   "cell_type": "code",
   "execution_count": 17,
   "metadata": {},
   "outputs": [
    {
     "data": {
      "text/html": [
       "<strong>png:</strong> 3"
      ],
      "text/latex": [
       "\\textbf{png:} 3"
      ],
      "text/markdown": [
       "**png:** 3"
      ],
      "text/plain": [
       "png \n",
       "  3 "
      ]
     },
     "metadata": {},
     "output_type": "display_data"
    },
    {
     "data": {
      "text/html": [
       "<strong>png:</strong> 2"
      ],
      "text/latex": [
       "\\textbf{png:} 2"
      ],
      "text/markdown": [
       "**png:** 2"
      ],
      "text/plain": [
       "png \n",
       "  2 "
      ]
     },
     "metadata": {},
     "output_type": "display_data"
    }
   ],
   "source": [
    "## Visual determination of univariate outliers using scatter plots \n",
    "\n",
    "options(repr.plot.width = 8, repr.plot.height = 8)\n",
    "par(mfrow=c(4,3))\n",
    "for(v in names(ffWNV4[var1])) {\n",
    "    scatter.smooth(ffWNV4[[v]] ~ ffWNV4$Date, main=v, xlab=\"Index\",ylab=v, family=\"symmetric\",\n",
    "                  lpars =list(col = \"red\", lwd = 2, lty = 2))\n",
    "}\n",
    "par(mfrow=c(1,1))\n",
    "\n",
    "dev.copy(png, filename=\"out2.jpg\");\n",
    "dev.off ();"
   ]
  },
  {
   "cell_type": "markdown",
   "metadata": {},
   "source": [
    "# Missingness"
   ]
  },
  {
   "cell_type": "code",
   "execution_count": 75,
   "metadata": {},
   "outputs": [
    {
     "data": {
      "text/html": [
       "<table>\n",
       "<thead><tr><th scope=col>ID</th><th scope=col>Date</th><th scope=col>Month_Yr</th><th scope=col>Address</th><th scope=col>Block</th><th scope=col>Latitude</th><th scope=col>Longitude</th><th scope=col>Street</th><th scope=col>CULEX_ERRATICUS</th><th scope=col>CULEX_PIPIENS</th><th scope=col>...</th><th scope=col>ParasiticIn.</th><th scope=col>Influenza.</th><th scope=col>Spray</th><th scope=col>Year</th><th scope=col>Season_code</th><th scope=col>TrapM</th><th scope=col>Snow_Fall</th><th scope=col>RA45</th><th scope=col>PT45_gt50</th><th scope=col>RA45_2</th></tr></thead>\n",
       "<tbody>\n",
       "\t<tr><td>0  </td><td>0  </td><td>0  </td><td>0  </td><td>0  </td><td>0  </td><td>0  </td><td>0  </td><td>0  </td><td>0  </td><td>...</td><td>0  </td><td>0  </td><td>0  </td><td>0  </td><td>0  </td><td>0  </td><td>0  </td><td>1  </td><td>1  </td><td>1  </td></tr>\n",
       "\t<tr><td>0  </td><td>0  </td><td>0  </td><td>0  </td><td>0  </td><td>0  </td><td>0  </td><td>0  </td><td>0  </td><td>0  </td><td>...</td><td>0  </td><td>0  </td><td>0  </td><td>0  </td><td>0  </td><td>0  </td><td>0  </td><td>1  </td><td>1  </td><td>1  </td></tr>\n",
       "\t<tr><td>0  </td><td>0  </td><td>0  </td><td>0  </td><td>0  </td><td>0  </td><td>0  </td><td>0  </td><td>0  </td><td>0  </td><td>...</td><td>0  </td><td>0  </td><td>0  </td><td>0  </td><td>0  </td><td>0  </td><td>0  </td><td>1  </td><td>1  </td><td>1  </td></tr>\n",
       "\t<tr><td>0  </td><td>0  </td><td>0  </td><td>0  </td><td>0  </td><td>0  </td><td>0  </td><td>0  </td><td>0  </td><td>0  </td><td>...</td><td>0  </td><td>0  </td><td>0  </td><td>0  </td><td>0  </td><td>0  </td><td>0  </td><td>1  </td><td>1  </td><td>1  </td></tr>\n",
       "\t<tr><td>0  </td><td>0  </td><td>0  </td><td>0  </td><td>0  </td><td>0  </td><td>0  </td><td>0  </td><td>0  </td><td>0  </td><td>...</td><td>0  </td><td>0  </td><td>0  </td><td>0  </td><td>0  </td><td>0  </td><td>0  </td><td>1  </td><td>1  </td><td>1  </td></tr>\n",
       "\t<tr><td>0  </td><td>0  </td><td>0  </td><td>0  </td><td>0  </td><td>0  </td><td>0  </td><td>0  </td><td>0  </td><td>0  </td><td>...</td><td>0  </td><td>0  </td><td>0  </td><td>0  </td><td>0  </td><td>0  </td><td>0  </td><td>1  </td><td>1  </td><td>1  </td></tr>\n",
       "</tbody>\n",
       "</table>\n"
      ],
      "text/latex": [
       "\\begin{tabular}{r|lllllllllllllllllllllllllllllllllllllllllllllllllllllllllllllllll}\n",
       " ID & Date & Month\\_Yr & Address & Block & Latitude & Longitude & Street & CULEX\\_ERRATICUS & CULEX\\_PIPIENS & ... & ParasiticIn. & Influenza. & Spray & Year & Season\\_code & TrapM & Snow\\_Fall & RA45 & PT45\\_gt50 & RA45\\_2\\\\\n",
       "\\hline\n",
       "\t 0   & 0   & 0   & 0   & 0   & 0   & 0   & 0   & 0   & 0   & ... & 0   & 0   & 0   & 0   & 0   & 0   & 0   & 1   & 1   & 1  \\\\\n",
       "\t 0   & 0   & 0   & 0   & 0   & 0   & 0   & 0   & 0   & 0   & ... & 0   & 0   & 0   & 0   & 0   & 0   & 0   & 1   & 1   & 1  \\\\\n",
       "\t 0   & 0   & 0   & 0   & 0   & 0   & 0   & 0   & 0   & 0   & ... & 0   & 0   & 0   & 0   & 0   & 0   & 0   & 1   & 1   & 1  \\\\\n",
       "\t 0   & 0   & 0   & 0   & 0   & 0   & 0   & 0   & 0   & 0   & ... & 0   & 0   & 0   & 0   & 0   & 0   & 0   & 1   & 1   & 1  \\\\\n",
       "\t 0   & 0   & 0   & 0   & 0   & 0   & 0   & 0   & 0   & 0   & ... & 0   & 0   & 0   & 0   & 0   & 0   & 0   & 1   & 1   & 1  \\\\\n",
       "\t 0   & 0   & 0   & 0   & 0   & 0   & 0   & 0   & 0   & 0   & ... & 0   & 0   & 0   & 0   & 0   & 0   & 0   & 1   & 1   & 1  \\\\\n",
       "\\end{tabular}\n"
      ],
      "text/markdown": [
       "\n",
       "ID | Date | Month_Yr | Address | Block | Latitude | Longitude | Street | CULEX_ERRATICUS | CULEX_PIPIENS | ... | ParasiticIn. | Influenza. | Spray | Year | Season_code | TrapM | Snow_Fall | RA45 | PT45_gt50 | RA45_2 | \n",
       "|---|---|---|---|---|---|\n",
       "| 0   | 0   | 0   | 0   | 0   | 0   | 0   | 0   | 0   | 0   | ... | 0   | 0   | 0   | 0   | 0   | 0   | 0   | 1   | 1   | 1   | \n",
       "| 0   | 0   | 0   | 0   | 0   | 0   | 0   | 0   | 0   | 0   | ... | 0   | 0   | 0   | 0   | 0   | 0   | 0   | 1   | 1   | 1   | \n",
       "| 0   | 0   | 0   | 0   | 0   | 0   | 0   | 0   | 0   | 0   | ... | 0   | 0   | 0   | 0   | 0   | 0   | 0   | 1   | 1   | 1   | \n",
       "| 0   | 0   | 0   | 0   | 0   | 0   | 0   | 0   | 0   | 0   | ... | 0   | 0   | 0   | 0   | 0   | 0   | 0   | 1   | 1   | 1   | \n",
       "| 0   | 0   | 0   | 0   | 0   | 0   | 0   | 0   | 0   | 0   | ... | 0   | 0   | 0   | 0   | 0   | 0   | 0   | 1   | 1   | 1   | \n",
       "| 0   | 0   | 0   | 0   | 0   | 0   | 0   | 0   | 0   | 0   | ... | 0   | 0   | 0   | 0   | 0   | 0   | 0   | 1   | 1   | 1   | \n",
       "\n",
       "\n"
      ],
      "text/plain": [
       "  ID Date Month_Yr Address Block Latitude Longitude Street CULEX_ERRATICUS\n",
       "1 0  0    0        0       0     0        0         0      0              \n",
       "2 0  0    0        0       0     0        0         0      0              \n",
       "3 0  0    0        0       0     0        0         0      0              \n",
       "4 0  0    0        0       0     0        0         0      0              \n",
       "5 0  0    0        0       0     0        0         0      0              \n",
       "6 0  0    0        0       0     0        0         0      0              \n",
       "  CULEX_PIPIENS ... ParasiticIn. Influenza. Spray Year Season_code TrapM\n",
       "1 0             ... 0            0          0     0    0           0    \n",
       "2 0             ... 0            0          0     0    0           0    \n",
       "3 0             ... 0            0          0     0    0           0    \n",
       "4 0             ... 0            0          0     0    0           0    \n",
       "5 0             ... 0            0          0     0    0           0    \n",
       "6 0             ... 0            0          0     0    0           0    \n",
       "  Snow_Fall RA45 PT45_gt50 RA45_2\n",
       "1 0         1    1         1     \n",
       "2 0         1    1         1     \n",
       "3 0         1    1         1     \n",
       "4 0         1    1         1     \n",
       "5 0         1    1         1     \n",
       "6 0         1    1         1     "
      ]
     },
     "metadata": {},
     "output_type": "display_data"
    }
   ],
   "source": [
    "head(missingMatrix(ffWNV4))"
   ]
  },
  {
   "cell_type": "code",
   "execution_count": 73,
   "metadata": {},
   "outputs": [
    {
     "ename": "ERROR",
     "evalue": "Error in object[[i]]: object of type 'closure' is not subsettable\n",
     "output_type": "error",
     "traceback": [
      "Error in object[[i]]: object of type 'closure' is not subsettable\nTraceback:\n",
      "1. summary.default(missingMatrix)"
     ]
    }
   ],
   "source": []
  },
  {
   "cell_type": "markdown",
   "metadata": {},
   "source": [
    "## Missing values visualization"
   ]
  },
  {
   "cell_type": "code",
   "execution_count": 4,
   "metadata": {},
   "outputs": [
    {
     "data": {},
     "metadata": {},
     "output_type": "display_data"
    },
    {
     "data": {
      "image/png": "[encoded data removed]",
      "text/plain": [
       "plot without title"
      ]
     },
     "metadata": {},
     "output_type": "display_data"
    }
   ],
   "source": [
    "options(repr.plot.width = 10, repr.plot.height = 4)\n",
    "vis_miss(ffWNV4)"
   ]
  },
  {
   "cell_type": "code",
   "execution_count": null,
   "metadata": {},
   "outputs": [],
   "source": [
    "בדיקת הערכים החסרים בהשוואה למשתנה אחר"
   ]
  },
  {
   "cell_type": "code",
   "execution_count": 57,
   "metadata": {},
   "outputs": [
    {
     "data": {},
     "metadata": {},
     "output_type": "display_data"
    },
    {
     "data": {
      "image/png": "[encoded data removed]",
      "text/plain": [
       "plot without title"
      ]
     },
     "metadata": {},
     "output_type": "display_data"
    }
   ],
   "source": [
    "# require(naniar)\n",
    "options(repr.plot.width = 8, repr.plot.height = 4)\n",
    "gg_miss_fct(x=ffWNV4, fct=Date) + \n",
    "theme(axis.text.x = element_text(angle=90, size=8))"
   ]
  },
  {
   "cell_type": "code",
   "execution_count": 89,
   "metadata": {},
   "outputs": [],
   "source": [
    "var2<-c( 'PrecipTotal' , 'PrecipTotal2', 'RA45', 'RA45_2','PT45_gt50','Date' )"
   ]
  },
  {
   "cell_type": "code",
   "execution_count": 90,
   "metadata": {},
   "outputs": [
    {
     "data": {},
     "metadata": {},
     "output_type": "display_data"
    },
    {
     "data": {
      "image/png": "[encoded data removed]",
      "text/plain": [
       "plot without title"
      ]
     },
     "metadata": {},
     "output_type": "display_data"
    }
   ],
   "source": [
    "options(repr.plot.width = 8, repr.plot.height = 4)\n",
    "gg_miss_fct(x=ffWNV4[var2], fct=Date) + \n",
    "theme(axis.text.x = element_text(angle=90, size=8))"
   ]
  },
  {
   "cell_type": "code",
   "execution_count": null,
   "metadata": {},
   "outputs": [],
   "source": [
    "פונקציה GGPLOT\n"
   ]
  },
  {
   "cell_type": "markdown",
   "metadata": {},
   "source": [
    "## Determinate the Missingness Generation Mechanism\n",
    " \n",
    "There are three mechanisms that generate Missing values:\n",
    " \n",
    "1. Missing Completely at Random (MCAR)\n",
    "2. Missing at Random (MAR)\n",
    "3. Missing not at Random (MNAR)\n",
    " \n",
    "We will investigate the missingness mechanisms using different techniques.\n"
   ]
  },
  {
   "cell_type": "code",
   "execution_count": null,
   "metadata": {},
   "outputs": [],
   "source": [
    "RA45\tPT45_gt50\tRA45_2"
   ]
  },
  {
   "cell_type": "code",
   "execution_count": 64,
   "metadata": {},
   "outputs": [
    {
     "data": {
      "text/html": [
       "<ol class=list-inline>\n",
       "\t<li>63</li>\n",
       "\t<li>65</li>\n",
       "</ol>\n"
      ],
      "text/latex": [
       "\\begin{enumerate*}\n",
       "\\item 63\n",
       "\\item 65\n",
       "\\end{enumerate*}\n"
      ],
      "text/markdown": [
       "1. 63\n",
       "2. 65\n",
       "\n",
       "\n"
      ],
      "text/plain": [
       "[1] 63 65"
      ]
     },
     "metadata": {},
     "output_type": "display_data"
    }
   ],
   "source": [
    "grep(\"RA45\", colnames(ffWNV4))"
   ]
  },
  {
   "cell_type": "code",
   "execution_count": 65,
   "metadata": {},
   "outputs": [
    {
     "data": {
      "text/html": [
       "65"
      ],
      "text/latex": [
       "65"
      ],
      "text/markdown": [
       "65"
      ],
      "text/plain": [
       "[1] 65"
      ]
     },
     "metadata": {},
     "output_type": "display_data"
    }
   ],
   "source": [
    "grep(\"RA45_2\", colnames(ffWNV4))"
   ]
  },
  {
   "cell_type": "code",
   "execution_count": 66,
   "metadata": {},
   "outputs": [
    {
     "data": {
      "text/html": [
       "64"
      ],
      "text/latex": [
       "64"
      ],
      "text/markdown": [
       "64"
      ],
      "text/plain": [
       "[1] 64"
      ]
     },
     "metadata": {},
     "output_type": "display_data"
    }
   ],
   "source": [
    "grep(\"PT45_gt50\", colnames(ffWNV4))"
   ]
  },
  {
   "cell_type": "code",
   "execution_count": 63,
   "metadata": {},
   "outputs": [
    {
     "data": {
      "text/html": [
       "44"
      ],
      "text/latex": [
       "44"
      ],
      "text/markdown": [
       "44"
      ],
      "text/plain": [
       "[1] 44"
      ]
     },
     "metadata": {},
     "output_type": "display_data"
    }
   ],
   "source": [
    "grep(\"PrecipTotal2\",colnames(ffWNV4))"
   ]
  },
  {
   "cell_type": "code",
   "execution_count": null,
   "metadata": {},
   "outputs": [],
   "source": [
    "נשתמש במיסמאטצ פונקציה קיימת\n",
    "נבדוק רק איפה שיש חוסר"
   ]
  },
  {
   "cell_type": "code",
   "execution_count": 7,
   "metadata": {},
   "outputs": [
    {
     "data": {
      "text/plain": [
       "Call:\n",
       "TestMCARNormality(data = ffWNV4m)\n",
       "\n",
       "Number of Patterns:  3 \n",
       "\n",
       "Total number of cases used in the analysis:  4616 \n",
       "\n",
       " Pattern(s) used:\n",
       "          PrecipTotal2   RA45   PT45_gt50   RA45_2   Number of cases\n",
       "group.1              1     NA          NA       NA                58\n",
       "group.2              1      1           1        1              4523\n",
       "group.3             NA      1           1        1                35\n",
       "\n",
       "\n",
       "    Test of normality and Homoscedasticity:\n",
       "  -------------------------------------------\n",
       "\n",
       "Hawkins Test:\n",
       "\n",
       "    P-value for the Hawkins test of normality and homoscedasticity:  8.146594e-130 \n",
       "\n",
       "    Either the test of multivariate normality or homoscedasticity (or both) is rejected.\n",
       "    Provided that normality can be assumed, the hypothesis of MCAR is \n",
       "    rejected at 0.05 significance level. \n",
       "\n",
       "Non-Parametric Test:\n",
       "\n",
       "    P-value for the non-parametric test of homoscedasticity:  0 \n",
       "\n",
       "    Hypothesis of MCAR is rejected at  0.05 significance level.\n",
       "    The multivariate normality test is inconclusive. "
      ]
     },
     "metadata": {},
     "output_type": "display_data"
    }
   ],
   "source": [
    "# require(MissMech)\n",
    "ffWNV4m <- ffWNV4[,c(44,63,64,65)]\n",
    "miss1 <- TestMCARNormality(data=ffWNV4m)\n",
    "miss1"
   ]
  },
  {
   "cell_type": "code",
   "execution_count": null,
   "metadata": {},
   "outputs": [],
   "source": [
    "עושה שתי בדיקות\n",
    "אחד של נורמליזציה של הנתונים\n",
    "אם יש מובהקות לא נורמלי\n",
    "השארת האפס היא שהנתונים לא נורמליים\n",
    "ולכן בודקים במבן לא פרמטרי\n",
    "במבחן הלא פרמטרי לא ניתן לדחות חוסר באקראיות גמורה "
   ]
  },
  {
   "cell_type": "code",
   "execution_count": 8,
   "metadata": {},
   "outputs": [
    {
     "name": "stdout",
     "output_type": "stream",
     "text": [
      "\n",
      "Number of imputation:  10 \n",
      "\n",
      "Number of Patterns:  3 \n",
      "\n",
      "Total number of cases used in the analysis:  4616 \n",
      "\n",
      " Pattern(s) used:\n",
      "          PrecipTotal2   RA45   PT45_gt50   RA45_2   Number of cases\n",
      "group.1              1     NA          NA       NA                58\n",
      "group.2              1      1           1        1              4523\n",
      "group.3             NA      1           1        1                35\n",
      "\n",
      "\n",
      "    Test of normality and Homoscedasticity:\n",
      "  -------------------------------------------\n",
      "\n",
      "Hawkins Test:\n",
      "\n",
      "    P-value for the Hawkins test of normality and homoscedasticity:  8.146594e-130 \n",
      "\n",
      "Non-Parametric Test:\n",
      "\n",
      "    P-value for the non-parametric test of homoscedasticity:  0 \n"
     ]
    }
   ],
   "source": [
    "### Impute missing values\n",
    "\n",
    "miss1 <- TestMCARNormality(data=ffWNV4m, , del.lesscases = 1, imputation.number = 10)\n",
    "summary(miss1)\n"
   ]
  },
  {
   "cell_type": "code",
   "execution_count": 9,
   "metadata": {},
   "outputs": [
    {
     "data": {
      "image/png": "[encoded data removed]",
      "text/plain": [
       "Plot with title \"Boxplots of the T-value test statistics corresponding to each set of missing\n",
       " data patterns for the non-parametric test\""
      ]
     },
     "metadata": {},
     "output_type": "display_data"
    }
   ],
   "source": [
    "options(repr.plot.width = 6, repr.plot.height = 8)\n",
    "boxplot(miss1)"
   ]
  },
  {
   "cell_type": "code",
   "execution_count": 10,
   "metadata": {},
   "outputs": [
    {
     "data": {
      "text/plain": [
       "  PrecipTotal2         RA45         PT45_gt50          RA45_2  \n",
       " Min.   :  1.00   Min.   : 5.00   Min.   :0.0000   Min.   : 6  \n",
       " 1st Qu.:  2.00   1st Qu.:12.00   1st Qu.:1.0000   1st Qu.:11  \n",
       " Median :  2.00   Median :14.00   Median :1.0000   Median :13  \n",
       " Mean   : 13.41   Mean   :14.19   Mean   :0.9976   Mean   :13  \n",
       " 3rd Qu.:  8.00   3rd Qu.:17.00   3rd Qu.:1.0000   3rd Qu.:15  \n",
       " Max.   :114.00   Max.   :21.00   Max.   :1.0012   Max.   :21  "
      ]
     },
     "metadata": {},
     "output_type": "display_data"
    },
    {
     "data": {
      "text/html": [
       "<table>\n",
       "<thead><tr><th scope=col>PrecipTotal2</th><th scope=col>RA45</th><th scope=col>PT45_gt50</th><th scope=col>RA45_2</th></tr></thead>\n",
       "<tbody>\n",
       "\t<tr><td>2        </td><td>13.03357 </td><td>0.9984417</td><td>11.004319</td></tr>\n",
       "\t<tr><td>2        </td><td>19.00057 </td><td>1.0000003</td><td>13.000038</td></tr>\n",
       "\t<tr><td>2        </td><td>11.03334 </td><td>0.9984417</td><td>10.004209</td></tr>\n",
       "\t<tr><td>2        </td><td>12.94621 </td><td>0.9999137</td><td>12.944727</td></tr>\n",
       "\t<tr><td>2        </td><td>17.54408 </td><td>0.9992643</td><td>17.530443</td></tr>\n",
       "\t<tr><td>2        </td><td>12.77192 </td><td>0.9964068</td><td> 9.704497</td></tr>\n",
       "</tbody>\n",
       "</table>\n"
      ],
      "text/latex": [
       "\\begin{tabular}{r|llll}\n",
       " PrecipTotal2 & RA45 & PT45\\_gt50 & RA45\\_2\\\\\n",
       "\\hline\n",
       "\t 2         & 13.03357  & 0.9984417 & 11.004319\\\\\n",
       "\t 2         & 19.00057  & 1.0000003 & 13.000038\\\\\n",
       "\t 2         & 11.03334  & 0.9984417 & 10.004209\\\\\n",
       "\t 2         & 12.94621  & 0.9999137 & 12.944727\\\\\n",
       "\t 2         & 17.54408  & 0.9992643 & 17.530443\\\\\n",
       "\t 2         & 12.77192  & 0.9964068 &  9.704497\\\\\n",
       "\\end{tabular}\n"
      ],
      "text/markdown": [
       "\n",
       "PrecipTotal2 | RA45 | PT45_gt50 | RA45_2 | \n",
       "|---|---|---|---|---|---|\n",
       "| 2         | 13.03357  | 0.9984417 | 11.004319 | \n",
       "| 2         | 19.00057  | 1.0000003 | 13.000038 | \n",
       "| 2         | 11.03334  | 0.9984417 | 10.004209 | \n",
       "| 2         | 12.94621  | 0.9999137 | 12.944727 | \n",
       "| 2         | 17.54408  | 0.9992643 | 17.530443 | \n",
       "| 2         | 12.77192  | 0.9964068 |  9.704497 | \n",
       "\n",
       "\n"
      ],
      "text/plain": [
       "  PrecipTotal2 RA45     PT45_gt50 RA45_2   \n",
       "1 2            13.03357 0.9984417 11.004319\n",
       "2 2            19.00057 1.0000003 13.000038\n",
       "3 2            11.03334 0.9984417 10.004209\n",
       "4 2            12.94621 0.9999137 12.944727\n",
       "5 2            17.54408 0.9992643 17.530443\n",
       "6 2            12.77192 0.9964068  9.704497"
      ]
     },
     "metadata": {},
     "output_type": "display_data"
    },
    {
     "data": {
      "text/html": [
       "<ol class=list-inline>\n",
       "\t<li>4616</li>\n",
       "\t<li>4</li>\n",
       "</ol>\n"
      ],
      "text/latex": [
       "\\begin{enumerate*}\n",
       "\\item 4616\n",
       "\\item 4\n",
       "\\end{enumerate*}\n"
      ],
      "text/markdown": [
       "1. 4616\n",
       "2. 4\n",
       "\n",
       "\n"
      ],
      "text/plain": [
       "[1] 4616    4"
      ]
     },
     "metadata": {},
     "output_type": "display_data"
    }
   ],
   "source": [
    "summary(miss1$imputed.data)\n",
    "\n",
    "ffWNV4.imp <- data.frame(miss1$imputed.data)\n",
    "idx <- miss1$caseorder\n",
    "\n",
    "head(ffWNV4.imp)\n",
    "dim(ffWNV4.imp)"
   ]
  },
  {
   "cell_type": "code",
   "execution_count": 11,
   "metadata": {},
   "outputs": [
    {
     "data": {
      "text/plain": [
       "  PrecipTotal2         RA45         PT45_gt50          RA45_2  \n",
       " Min.   :  1.00   Min.   : 5.00   Min.   :0.0000   Min.   : 6  \n",
       " 1st Qu.:  2.00   1st Qu.:12.00   1st Qu.:1.0000   1st Qu.:11  \n",
       " Median :  2.00   Median :14.00   Median :1.0000   Median :13  \n",
       " Mean   : 13.34   Mean   :14.19   Mean   :0.9976   Mean   :13  \n",
       " 3rd Qu.:  8.00   3rd Qu.:17.00   3rd Qu.:1.0000   3rd Qu.:15  \n",
       " Max.   :114.00   Max.   :21.00   Max.   :1.0000   Max.   :21  \n",
       " NA's   :35       NA's   :58      NA's   :58       NA's   :58  "
      ]
     },
     "metadata": {},
     "output_type": "display_data"
    }
   ],
   "source": [
    "summary(ffWNV4[,c(44,63,64,65)])"
   ]
  },
  {
   "cell_type": "code",
   "execution_count": 97,
   "metadata": {},
   "outputs": [],
   "source": [
    "write.csv(ffWNV4.imp, file=\"C:/Users/Chen/Project/data/ffWNV4.imp.csv\", row.names =F)"
   ]
  }
 ],
 "metadata": {
  "kernelspec": {
   "display_name": "R",
   "language": "R",
   "name": "ir"
  },
  "language_info": {
   "codemirror_mode": "r",
   "file_extension": ".r",
   "mimetype": "text/x-r-source",
   "name": "R",
   "pygments_lexer": "r",
   "version": "3.5.1"
  }
 },
 "nbformat": 4,
 "nbformat_minor": 2
}
