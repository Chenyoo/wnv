{
 "cells": [
  {
   "cell_type": "code",
   "execution_count": 1,
   "metadata": {},
   "outputs": [
    {
     "name": "stderr",
     "output_type": "stream",
     "text": [
      "Warning message:\n",
      "\"package 'Hmisc' was built under R version 3.5.2\"Loading required package: lattice\n",
      "Loading required package: survival\n",
      "Loading required package: Formula\n",
      "Loading required package: ggplot2\n",
      "\n",
      "Attaching package: 'Hmisc'\n",
      "\n",
      "The following objects are masked from 'package:base':\n",
      "\n",
      "    format.pval, units\n",
      "\n",
      "Loading required package: geepack\n",
      "Loading required package: geeM\n",
      "Loading required package: Matrix\n",
      "\n",
      "Attaching package: 'dplyr'\n",
      "\n",
      "The following objects are masked from 'package:data.table':\n",
      "\n",
      "    between, first, last\n",
      "\n",
      "The following objects are masked from 'package:Hmisc':\n",
      "\n",
      "    src, summarize\n",
      "\n",
      "The following objects are masked from 'package:stats':\n",
      "\n",
      "    filter, lag\n",
      "\n",
      "The following objects are masked from 'package:base':\n",
      "\n",
      "    intersect, setdiff, setequal, union\n",
      "\n"
     ]
    }
   ],
   "source": [
    "library(Hmisc)\n",
    "library(MESS)\n",
    "library(data.table)\n",
    "library(dplyr)"
   ]
  },
  {
   "cell_type": "code",
   "execution_count": 2,
   "metadata": {},
   "outputs": [
    {
     "data": {
      "text/html": [
       "<ol class=list-inline>\n",
       "\t<li>3693</li>\n",
       "\t<li>61</li>\n",
       "</ol>\n"
      ],
      "text/latex": [
       "\\begin{enumerate*}\n",
       "\\item 3693\n",
       "\\item 61\n",
       "\\end{enumerate*}\n"
      ],
      "text/markdown": [
       "1. 3693\n",
       "2. 61\n",
       "\n",
       "\n"
      ],
      "text/plain": [
       "[1] 3693   61"
      ]
     },
     "metadata": {},
     "output_type": "display_data"
    },
    {
     "data": {
      "text/html": [
       "<table>\n",
       "<thead><tr><th scope=col>X</th><th scope=col>Date</th><th scope=col>Longitude</th><th scope=col>Latitude</th><th scope=col>Month</th><th scope=col>Season_code_1</th><th scope=col>Season_code_2</th><th scope=col>Season_code_3</th><th scope=col>CULEX_ERRATICUS</th><th scope=col>CULEX_PIPIENS</th><th scope=col>...</th><th scope=col>HZ</th><th scope=col>RA</th><th scope=col>RA45</th><th scope=col>TS</th><th scope=col>TSRA</th><th scope=col>VCTS</th><th scope=col>pre45_1_2</th><th scope=col>pre45_1</th><th scope=col>pre45_05</th><th scope=col>TrapClusterNum</th></tr></thead>\n",
       "<tbody>\n",
       "\t<tr><td>1545      </td><td>2009-06-02</td><td>-87.54659 </td><td>41.74064  </td><td>6         </td><td>0         </td><td>1         </td><td>0         </td><td>0         </td><td>0         </td><td>...       </td><td>0         </td><td>1         </td><td>12.08832  </td><td>0         </td><td>0         </td><td>0         </td><td>1         </td><td>1         </td><td>1         </td><td>7         </td></tr>\n",
       "\t<tr><td>3014      </td><td>2011-08-12</td><td>-87.67146 </td><td>41.94723  </td><td>8         </td><td>0         </td><td>1         </td><td>0         </td><td>0         </td><td>0         </td><td>...       </td><td>0         </td><td>0         </td><td>10.00000  </td><td>0         </td><td>0         </td><td>0         </td><td>0         </td><td>1         </td><td>1         </td><td>9         </td></tr>\n",
       "\t<tr><td>3566      </td><td>2013-06-14</td><td>-87.54659 </td><td>41.74064  </td><td>6         </td><td>0         </td><td>1         </td><td>0         </td><td>0         </td><td>0         </td><td>...       </td><td>0         </td><td>0         </td><td>20.00000  </td><td>0         </td><td>0         </td><td>0         </td><td>1         </td><td>1         </td><td>1         </td><td>7         </td></tr>\n",
       "\t<tr><td>2198      </td><td>2009-08-27</td><td>-87.71628 </td><td>41.84607  </td><td>8         </td><td>0         </td><td>1         </td><td>0         </td><td>0         </td><td>0         </td><td>...       </td><td>0         </td><td>1         </td><td>14.00000  </td><td>0         </td><td>0         </td><td>0         </td><td>1         </td><td>0         </td><td>1         </td><td>1         </td></tr>\n",
       "\t<tr><td>3351      </td><td>2011-09-16</td><td>-87.55931 </td><td>41.67862  </td><td>9         </td><td>0         </td><td>0         </td><td>1         </td><td>0         </td><td>0         </td><td>...       </td><td>0         </td><td>0         </td><td>13.00000  </td><td>0         </td><td>0         </td><td>0         </td><td>0         </td><td>1         </td><td>1         </td><td>5         </td></tr>\n",
       "\t<tr><td>1612      </td><td>2009-06-12</td><td>-87.70305 </td><td>41.77166  </td><td>6         </td><td>0         </td><td>1         </td><td>0         </td><td>0         </td><td>0         </td><td>...       </td><td>0         </td><td>1         </td><td>15.29517  </td><td>0         </td><td>0         </td><td>0         </td><td>1         </td><td>1         </td><td>1         </td><td>8         </td></tr>\n",
       "</tbody>\n",
       "</table>\n"
      ],
      "text/latex": [
       "\\begin{tabular}{r|lllllllllllllllllllllllllllllllllllllllllllllllllllllllllllll}\n",
       " X & Date & Longitude & Latitude & Month & Season\\_code\\_1 & Season\\_code\\_2 & Season\\_code\\_3 & CULEX\\_ERRATICUS & CULEX\\_PIPIENS & ... & HZ & RA & RA45 & TS & TSRA & VCTS & pre45\\_1\\_2 & pre45\\_1 & pre45\\_05 & TrapClusterNum\\\\\n",
       "\\hline\n",
       "\t 1545       & 2009-06-02 & -87.54659  & 41.74064   & 6          & 0          & 1          & 0          & 0          & 0          & ...        & 0          & 1          & 12.08832   & 0          & 0          & 0          & 1          & 1          & 1          & 7         \\\\\n",
       "\t 3014       & 2011-08-12 & -87.67146  & 41.94723   & 8          & 0          & 1          & 0          & 0          & 0          & ...        & 0          & 0          & 10.00000   & 0          & 0          & 0          & 0          & 1          & 1          & 9         \\\\\n",
       "\t 3566       & 2013-06-14 & -87.54659  & 41.74064   & 6          & 0          & 1          & 0          & 0          & 0          & ...        & 0          & 0          & 20.00000   & 0          & 0          & 0          & 1          & 1          & 1          & 7         \\\\\n",
       "\t 2198       & 2009-08-27 & -87.71628  & 41.84607   & 8          & 0          & 1          & 0          & 0          & 0          & ...        & 0          & 1          & 14.00000   & 0          & 0          & 0          & 1          & 0          & 1          & 1         \\\\\n",
       "\t 3351       & 2011-09-16 & -87.55931  & 41.67862   & 9          & 0          & 0          & 1          & 0          & 0          & ...        & 0          & 0          & 13.00000   & 0          & 0          & 0          & 0          & 1          & 1          & 5         \\\\\n",
       "\t 1612       & 2009-06-12 & -87.70305  & 41.77166   & 6          & 0          & 1          & 0          & 0          & 0          & ...        & 0          & 1          & 15.29517   & 0          & 0          & 0          & 1          & 1          & 1          & 8         \\\\\n",
       "\\end{tabular}\n"
      ],
      "text/markdown": [
       "\n",
       "X | Date | Longitude | Latitude | Month | Season_code_1 | Season_code_2 | Season_code_3 | CULEX_ERRATICUS | CULEX_PIPIENS | ... | HZ | RA | RA45 | TS | TSRA | VCTS | pre45_1_2 | pre45_1 | pre45_05 | TrapClusterNum | \n",
       "|---|---|---|---|---|---|\n",
       "| 1545       | 2009-06-02 | -87.54659  | 41.74064   | 6          | 0          | 1          | 0          | 0          | 0          | ...        | 0          | 1          | 12.08832   | 0          | 0          | 0          | 1          | 1          | 1          | 7          | \n",
       "| 3014       | 2011-08-12 | -87.67146  | 41.94723   | 8          | 0          | 1          | 0          | 0          | 0          | ...        | 0          | 0          | 10.00000   | 0          | 0          | 0          | 0          | 1          | 1          | 9          | \n",
       "| 3566       | 2013-06-14 | -87.54659  | 41.74064   | 6          | 0          | 1          | 0          | 0          | 0          | ...        | 0          | 0          | 20.00000   | 0          | 0          | 0          | 1          | 1          | 1          | 7          | \n",
       "| 2198       | 2009-08-27 | -87.71628  | 41.84607   | 8          | 0          | 1          | 0          | 0          | 0          | ...        | 0          | 1          | 14.00000   | 0          | 0          | 0          | 1          | 0          | 1          | 1          | \n",
       "| 3351       | 2011-09-16 | -87.55931  | 41.67862   | 9          | 0          | 0          | 1          | 0          | 0          | ...        | 0          | 0          | 13.00000   | 0          | 0          | 0          | 0          | 1          | 1          | 5          | \n",
       "| 1612       | 2009-06-12 | -87.70305  | 41.77166   | 6          | 0          | 1          | 0          | 0          | 0          | ...        | 0          | 1          | 15.29517   | 0          | 0          | 0          | 1          | 1          | 1          | 8          | \n",
       "\n",
       "\n"
      ],
      "text/plain": [
       "  X    Date       Longitude Latitude Month Season_code_1 Season_code_2\n",
       "1 1545 2009-06-02 -87.54659 41.74064 6     0             1            \n",
       "2 3014 2011-08-12 -87.67146 41.94723 8     0             1            \n",
       "3 3566 2013-06-14 -87.54659 41.74064 6     0             1            \n",
       "4 2198 2009-08-27 -87.71628 41.84607 8     0             1            \n",
       "5 3351 2011-09-16 -87.55931 41.67862 9     0             0            \n",
       "6 1612 2009-06-12 -87.70305 41.77166 6     0             1            \n",
       "  Season_code_3 CULEX_ERRATICUS CULEX_PIPIENS ... HZ RA RA45     TS TSRA VCTS\n",
       "1 0             0               0             ... 0  1  12.08832 0  0    0   \n",
       "2 0             0               0             ... 0  0  10.00000 0  0    0   \n",
       "3 0             0               0             ... 0  0  20.00000 0  0    0   \n",
       "4 0             0               0             ... 0  1  14.00000 0  0    0   \n",
       "5 1             0               0             ... 0  0  13.00000 0  0    0   \n",
       "6 0             0               0             ... 0  1  15.29517 0  0    0   \n",
       "  pre45_1_2 pre45_1 pre45_05 TrapClusterNum\n",
       "1 1         1       1        7             \n",
       "2 0         1       1        9             \n",
       "3 1         1       1        7             \n",
       "4 1         0       1        1             \n",
       "5 0         1       1        5             \n",
       "6 1         1       1        8             "
      ]
     },
     "metadata": {},
     "output_type": "display_data"
    }
   ],
   "source": [
    "X_train <- read.csv(file=\"C:/Users/Chen/Project/data/X_train.csv\")\n",
    "dim(X_train)\n",
    "head(X_train)"
   ]
  },
  {
   "cell_type": "code",
   "execution_count": 18,
   "metadata": {},
   "outputs": [
    {
     "data": {
      "text/html": [
       "<ol class=list-inline>\n",
       "\t<li>3693</li>\n",
       "\t<li>63</li>\n",
       "</ol>\n"
      ],
      "text/latex": [
       "\\begin{enumerate*}\n",
       "\\item 3693\n",
       "\\item 63\n",
       "\\end{enumerate*}\n"
      ],
      "text/markdown": [
       "1. 3693\n",
       "2. 63\n",
       "\n",
       "\n"
      ],
      "text/plain": [
       "[1] 3693   63"
      ]
     },
     "metadata": {},
     "output_type": "display_data"
    },
    {
     "data": {
      "text/html": [
       "<table>\n",
       "<thead><tr><th scope=col>X</th><th scope=col>Date</th><th scope=col>Longitude</th><th scope=col>Latitude</th><th scope=col>Month</th><th scope=col>Season_code_1</th><th scope=col>Season_code_2</th><th scope=col>Season_code_3</th><th scope=col>CULEX_ERRATICUS</th><th scope=col>CULEX_PIPIENS</th><th scope=col>...</th><th scope=col>RA</th><th scope=col>RA45</th><th scope=col>TS</th><th scope=col>TSRA</th><th scope=col>VCTS</th><th scope=col>pre45_1_2</th><th scope=col>pre45_1</th><th scope=col>pre45_05</th><th scope=col>TrapClusterNum</th><th scope=col>dataset</th></tr></thead>\n",
       "<tbody>\n",
       "\t<tr><td>1545      </td><td>2009-06-02</td><td>-87.54659 </td><td>41.74064  </td><td>6         </td><td>0         </td><td>1         </td><td>0         </td><td>0         </td><td>0         </td><td>...       </td><td>1         </td><td>12.08832  </td><td>0         </td><td>0         </td><td>0         </td><td>1         </td><td>1         </td><td>1         </td><td>7         </td><td>train     </td></tr>\n",
       "\t<tr><td>3014      </td><td>2011-08-12</td><td>-87.67146 </td><td>41.94723  </td><td>8         </td><td>0         </td><td>1         </td><td>0         </td><td>0         </td><td>0         </td><td>...       </td><td>0         </td><td>10.00000  </td><td>0         </td><td>0         </td><td>0         </td><td>0         </td><td>1         </td><td>1         </td><td>9         </td><td>train     </td></tr>\n",
       "\t<tr><td>3566      </td><td>2013-06-14</td><td>-87.54659 </td><td>41.74064  </td><td>6         </td><td>0         </td><td>1         </td><td>0         </td><td>0         </td><td>0         </td><td>...       </td><td>0         </td><td>20.00000  </td><td>0         </td><td>0         </td><td>0         </td><td>1         </td><td>1         </td><td>1         </td><td>7         </td><td>train     </td></tr>\n",
       "\t<tr><td>2198      </td><td>2009-08-27</td><td>-87.71628 </td><td>41.84607  </td><td>8         </td><td>0         </td><td>1         </td><td>0         </td><td>0         </td><td>0         </td><td>...       </td><td>1         </td><td>14.00000  </td><td>0         </td><td>0         </td><td>0         </td><td>1         </td><td>0         </td><td>1         </td><td>1         </td><td>train     </td></tr>\n",
       "\t<tr><td>3351      </td><td>2011-09-16</td><td>-87.55931 </td><td>41.67862  </td><td>9         </td><td>0         </td><td>0         </td><td>1         </td><td>0         </td><td>0         </td><td>...       </td><td>0         </td><td>13.00000  </td><td>0         </td><td>0         </td><td>0         </td><td>0         </td><td>1         </td><td>1         </td><td>5         </td><td>train     </td></tr>\n",
       "\t<tr><td>1612      </td><td>2009-06-12</td><td>-87.70305 </td><td>41.77166  </td><td>6         </td><td>0         </td><td>1         </td><td>0         </td><td>0         </td><td>0         </td><td>...       </td><td>1         </td><td>15.29517  </td><td>0         </td><td>0         </td><td>0         </td><td>1         </td><td>1         </td><td>1         </td><td>8         </td><td>train     </td></tr>\n",
       "</tbody>\n",
       "</table>\n"
      ],
      "text/latex": [
       "\\begin{tabular}{r|lllllllllllllllllllllllllllllllllllllllllllllllllllllllllllllll}\n",
       " X & Date & Longitude & Latitude & Month & Season\\_code\\_1 & Season\\_code\\_2 & Season\\_code\\_3 & CULEX\\_ERRATICUS & CULEX\\_PIPIENS & ... & RA & RA45 & TS & TSRA & VCTS & pre45\\_1\\_2 & pre45\\_1 & pre45\\_05 & TrapClusterNum & dataset\\\\\n",
       "\\hline\n",
       "\t 1545       & 2009-06-02 & -87.54659  & 41.74064   & 6          & 0          & 1          & 0          & 0          & 0          & ...        & 1          & 12.08832   & 0          & 0          & 0          & 1          & 1          & 1          & 7          & train     \\\\\n",
       "\t 3014       & 2011-08-12 & -87.67146  & 41.94723   & 8          & 0          & 1          & 0          & 0          & 0          & ...        & 0          & 10.00000   & 0          & 0          & 0          & 0          & 1          & 1          & 9          & train     \\\\\n",
       "\t 3566       & 2013-06-14 & -87.54659  & 41.74064   & 6          & 0          & 1          & 0          & 0          & 0          & ...        & 0          & 20.00000   & 0          & 0          & 0          & 1          & 1          & 1          & 7          & train     \\\\\n",
       "\t 2198       & 2009-08-27 & -87.71628  & 41.84607   & 8          & 0          & 1          & 0          & 0          & 0          & ...        & 1          & 14.00000   & 0          & 0          & 0          & 1          & 0          & 1          & 1          & train     \\\\\n",
       "\t 3351       & 2011-09-16 & -87.55931  & 41.67862   & 9          & 0          & 0          & 1          & 0          & 0          & ...        & 0          & 13.00000   & 0          & 0          & 0          & 0          & 1          & 1          & 5          & train     \\\\\n",
       "\t 1612       & 2009-06-12 & -87.70305  & 41.77166   & 6          & 0          & 1          & 0          & 0          & 0          & ...        & 1          & 15.29517   & 0          & 0          & 0          & 1          & 1          & 1          & 8          & train     \\\\\n",
       "\\end{tabular}\n"
      ],
      "text/markdown": [
       "\n",
       "X | Date | Longitude | Latitude | Month | Season_code_1 | Season_code_2 | Season_code_3 | CULEX_ERRATICUS | CULEX_PIPIENS | ... | RA | RA45 | TS | TSRA | VCTS | pre45_1_2 | pre45_1 | pre45_05 | TrapClusterNum | dataset | \n",
       "|---|---|---|---|---|---|\n",
       "| 1545       | 2009-06-02 | -87.54659  | 41.74064   | 6          | 0          | 1          | 0          | 0          | 0          | ...        | 1          | 12.08832   | 0          | 0          | 0          | 1          | 1          | 1          | 7          | train      | \n",
       "| 3014       | 2011-08-12 | -87.67146  | 41.94723   | 8          | 0          | 1          | 0          | 0          | 0          | ...        | 0          | 10.00000   | 0          | 0          | 0          | 0          | 1          | 1          | 9          | train      | \n",
       "| 3566       | 2013-06-14 | -87.54659  | 41.74064   | 6          | 0          | 1          | 0          | 0          | 0          | ...        | 0          | 20.00000   | 0          | 0          | 0          | 1          | 1          | 1          | 7          | train      | \n",
       "| 2198       | 2009-08-27 | -87.71628  | 41.84607   | 8          | 0          | 1          | 0          | 0          | 0          | ...        | 1          | 14.00000   | 0          | 0          | 0          | 1          | 0          | 1          | 1          | train      | \n",
       "| 3351       | 2011-09-16 | -87.55931  | 41.67862   | 9          | 0          | 0          | 1          | 0          | 0          | ...        | 0          | 13.00000   | 0          | 0          | 0          | 0          | 1          | 1          | 5          | train      | \n",
       "| 1612       | 2009-06-12 | -87.70305  | 41.77166   | 6          | 0          | 1          | 0          | 0          | 0          | ...        | 1          | 15.29517   | 0          | 0          | 0          | 1          | 1          | 1          | 8          | train      | \n",
       "\n",
       "\n"
      ],
      "text/plain": [
       "  X    Date       Longitude Latitude Month Season_code_1 Season_code_2\n",
       "1 1545 2009-06-02 -87.54659 41.74064 6     0             1            \n",
       "2 3014 2011-08-12 -87.67146 41.94723 8     0             1            \n",
       "3 3566 2013-06-14 -87.54659 41.74064 6     0             1            \n",
       "4 2198 2009-08-27 -87.71628 41.84607 8     0             1            \n",
       "5 3351 2011-09-16 -87.55931 41.67862 9     0             0            \n",
       "6 1612 2009-06-12 -87.70305 41.77166 6     0             1            \n",
       "  Season_code_3 CULEX_ERRATICUS CULEX_PIPIENS ... RA RA45     TS TSRA VCTS\n",
       "1 0             0               0             ... 1  12.08832 0  0    0   \n",
       "2 0             0               0             ... 0  10.00000 0  0    0   \n",
       "3 0             0               0             ... 0  20.00000 0  0    0   \n",
       "4 0             0               0             ... 1  14.00000 0  0    0   \n",
       "5 1             0               0             ... 0  13.00000 0  0    0   \n",
       "6 0             0               0             ... 1  15.29517 0  0    0   \n",
       "  pre45_1_2 pre45_1 pre45_05 TrapClusterNum dataset\n",
       "1 1         1       1        7              train  \n",
       "2 0         1       1        9              train  \n",
       "3 1         1       1        7              train  \n",
       "4 1         0       1        1              train  \n",
       "5 0         1       1        5              train  \n",
       "6 1         1       1        8              train  "
      ]
     },
     "metadata": {},
     "output_type": "display_data"
    }
   ],
   "source": [
    "TRAIN <- read.csv(file=\"C:/Users/Chen/Project/data/TRAIN.csv\")\n",
    "dim(TRAIN)\n",
    "head(TRAIN)"
   ]
  },
  {
   "cell_type": "code",
   "execution_count": 19,
   "metadata": {},
   "outputs": [],
   "source": [
    "TRAIN$dataset<-NULL"
   ]
  },
  {
   "cell_type": "code",
   "execution_count": 20,
   "metadata": {},
   "outputs": [
    {
     "data": {
      "text/html": [
       "<ol class=list-inline>\n",
       "\t<li>3693</li>\n",
       "\t<li>62</li>\n",
       "</ol>\n"
      ],
      "text/latex": [
       "\\begin{enumerate*}\n",
       "\\item 3693\n",
       "\\item 62\n",
       "\\end{enumerate*}\n"
      ],
      "text/markdown": [
       "1. 3693\n",
       "2. 62\n",
       "\n",
       "\n"
      ],
      "text/plain": [
       "[1] 3693   62"
      ]
     },
     "metadata": {},
     "output_type": "display_data"
    }
   ],
   "source": [
    "dim(TRAIN)"
   ]
  },
  {
   "cell_type": "code",
   "execution_count": 21,
   "metadata": {},
   "outputs": [],
   "source": [
    "TRAIN <- fastDummies::dummy_cols(TRAIN, select_columns = \"TrapClusterNum\")"
   ]
  },
  {
   "cell_type": "code",
   "execution_count": 22,
   "metadata": {},
   "outputs": [],
   "source": [
    "TRAIN <- fastDummies::dummy_cols(TRAIN, select_columns = \"Month\")"
   ]
  },
  {
   "cell_type": "code",
   "execution_count": 23,
   "metadata": {},
   "outputs": [
    {
     "data": {
      "text/html": [
       "<table>\n",
       "<thead><tr><th scope=col>X</th><th scope=col>Date</th><th scope=col>Longitude</th><th scope=col>Latitude</th><th scope=col>Month</th><th scope=col>Season_code_1</th><th scope=col>Season_code_2</th><th scope=col>Season_code_3</th><th scope=col>CULEX_ERRATICUS</th><th scope=col>CULEX_PIPIENS</th><th scope=col>...</th><th scope=col>TrapClusterNum_2</th><th scope=col>TrapClusterNum_10</th><th scope=col>TrapClusterNum_4</th><th scope=col>TrapClusterNum_3</th><th scope=col>Month_6</th><th scope=col>Month_8</th><th scope=col>Month_9</th><th scope=col>Month_10</th><th scope=col>Month_7</th><th scope=col>Month_5</th></tr></thead>\n",
       "<tbody>\n",
       "\t<tr><td>1545      </td><td>2009-06-02</td><td>-87.54659 </td><td>41.74064  </td><td>6         </td><td>0         </td><td>1         </td><td>0         </td><td>0         </td><td>0         </td><td>...       </td><td>0         </td><td>0         </td><td>0         </td><td>0         </td><td>1         </td><td>0         </td><td>0         </td><td>0         </td><td>0         </td><td>0         </td></tr>\n",
       "\t<tr><td>3014      </td><td>2011-08-12</td><td>-87.67146 </td><td>41.94723  </td><td>8         </td><td>0         </td><td>1         </td><td>0         </td><td>0         </td><td>0         </td><td>...       </td><td>0         </td><td>0         </td><td>0         </td><td>0         </td><td>0         </td><td>1         </td><td>0         </td><td>0         </td><td>0         </td><td>0         </td></tr>\n",
       "\t<tr><td>3566      </td><td>2013-06-14</td><td>-87.54659 </td><td>41.74064  </td><td>6         </td><td>0         </td><td>1         </td><td>0         </td><td>0         </td><td>0         </td><td>...       </td><td>0         </td><td>0         </td><td>0         </td><td>0         </td><td>1         </td><td>0         </td><td>0         </td><td>0         </td><td>0         </td><td>0         </td></tr>\n",
       "\t<tr><td>2198      </td><td>2009-08-27</td><td>-87.71628 </td><td>41.84607  </td><td>8         </td><td>0         </td><td>1         </td><td>0         </td><td>0         </td><td>0         </td><td>...       </td><td>0         </td><td>0         </td><td>0         </td><td>0         </td><td>0         </td><td>1         </td><td>0         </td><td>0         </td><td>0         </td><td>0         </td></tr>\n",
       "\t<tr><td>3351      </td><td>2011-09-16</td><td>-87.55931 </td><td>41.67862  </td><td>9         </td><td>0         </td><td>0         </td><td>1         </td><td>0         </td><td>0         </td><td>...       </td><td>0         </td><td>0         </td><td>0         </td><td>0         </td><td>0         </td><td>0         </td><td>1         </td><td>0         </td><td>0         </td><td>0         </td></tr>\n",
       "\t<tr><td>1612      </td><td>2009-06-12</td><td>-87.70305 </td><td>41.77166  </td><td>6         </td><td>0         </td><td>1         </td><td>0         </td><td>0         </td><td>0         </td><td>...       </td><td>0         </td><td>0         </td><td>0         </td><td>0         </td><td>1         </td><td>0         </td><td>0         </td><td>0         </td><td>0         </td><td>0         </td></tr>\n",
       "</tbody>\n",
       "</table>\n"
      ],
      "text/latex": [
       "\\begin{tabular}{r|llllllllllllllllllllllllllllllllllllllllllllllllllllllllllllllllllllllllllllll}\n",
       " X & Date & Longitude & Latitude & Month & Season\\_code\\_1 & Season\\_code\\_2 & Season\\_code\\_3 & CULEX\\_ERRATICUS & CULEX\\_PIPIENS & ... & TrapClusterNum\\_2 & TrapClusterNum\\_10 & TrapClusterNum\\_4 & TrapClusterNum\\_3 & Month\\_6 & Month\\_8 & Month\\_9 & Month\\_10 & Month\\_7 & Month\\_5\\\\\n",
       "\\hline\n",
       "\t 1545       & 2009-06-02 & -87.54659  & 41.74064   & 6          & 0          & 1          & 0          & 0          & 0          & ...        & 0          & 0          & 0          & 0          & 1          & 0          & 0          & 0          & 0          & 0         \\\\\n",
       "\t 3014       & 2011-08-12 & -87.67146  & 41.94723   & 8          & 0          & 1          & 0          & 0          & 0          & ...        & 0          & 0          & 0          & 0          & 0          & 1          & 0          & 0          & 0          & 0         \\\\\n",
       "\t 3566       & 2013-06-14 & -87.54659  & 41.74064   & 6          & 0          & 1          & 0          & 0          & 0          & ...        & 0          & 0          & 0          & 0          & 1          & 0          & 0          & 0          & 0          & 0         \\\\\n",
       "\t 2198       & 2009-08-27 & -87.71628  & 41.84607   & 8          & 0          & 1          & 0          & 0          & 0          & ...        & 0          & 0          & 0          & 0          & 0          & 1          & 0          & 0          & 0          & 0         \\\\\n",
       "\t 3351       & 2011-09-16 & -87.55931  & 41.67862   & 9          & 0          & 0          & 1          & 0          & 0          & ...        & 0          & 0          & 0          & 0          & 0          & 0          & 1          & 0          & 0          & 0         \\\\\n",
       "\t 1612       & 2009-06-12 & -87.70305  & 41.77166   & 6          & 0          & 1          & 0          & 0          & 0          & ...        & 0          & 0          & 0          & 0          & 1          & 0          & 0          & 0          & 0          & 0         \\\\\n",
       "\\end{tabular}\n"
      ],
      "text/markdown": [
       "\n",
       "X | Date | Longitude | Latitude | Month | Season_code_1 | Season_code_2 | Season_code_3 | CULEX_ERRATICUS | CULEX_PIPIENS | ... | TrapClusterNum_2 | TrapClusterNum_10 | TrapClusterNum_4 | TrapClusterNum_3 | Month_6 | Month_8 | Month_9 | Month_10 | Month_7 | Month_5 | \n",
       "|---|---|---|---|---|---|\n",
       "| 1545       | 2009-06-02 | -87.54659  | 41.74064   | 6          | 0          | 1          | 0          | 0          | 0          | ...        | 0          | 0          | 0          | 0          | 1          | 0          | 0          | 0          | 0          | 0          | \n",
       "| 3014       | 2011-08-12 | -87.67146  | 41.94723   | 8          | 0          | 1          | 0          | 0          | 0          | ...        | 0          | 0          | 0          | 0          | 0          | 1          | 0          | 0          | 0          | 0          | \n",
       "| 3566       | 2013-06-14 | -87.54659  | 41.74064   | 6          | 0          | 1          | 0          | 0          | 0          | ...        | 0          | 0          | 0          | 0          | 1          | 0          | 0          | 0          | 0          | 0          | \n",
       "| 2198       | 2009-08-27 | -87.71628  | 41.84607   | 8          | 0          | 1          | 0          | 0          | 0          | ...        | 0          | 0          | 0          | 0          | 0          | 1          | 0          | 0          | 0          | 0          | \n",
       "| 3351       | 2011-09-16 | -87.55931  | 41.67862   | 9          | 0          | 0          | 1          | 0          | 0          | ...        | 0          | 0          | 0          | 0          | 0          | 0          | 1          | 0          | 0          | 0          | \n",
       "| 1612       | 2009-06-12 | -87.70305  | 41.77166   | 6          | 0          | 1          | 0          | 0          | 0          | ...        | 0          | 0          | 0          | 0          | 1          | 0          | 0          | 0          | 0          | 0          | \n",
       "\n",
       "\n"
      ],
      "text/plain": [
       "  X    Date       Longitude Latitude Month Season_code_1 Season_code_2\n",
       "1 1545 2009-06-02 -87.54659 41.74064 6     0             1            \n",
       "2 3014 2011-08-12 -87.67146 41.94723 8     0             1            \n",
       "3 3566 2013-06-14 -87.54659 41.74064 6     0             1            \n",
       "4 2198 2009-08-27 -87.71628 41.84607 8     0             1            \n",
       "5 3351 2011-09-16 -87.55931 41.67862 9     0             0            \n",
       "6 1612 2009-06-12 -87.70305 41.77166 6     0             1            \n",
       "  Season_code_3 CULEX_ERRATICUS CULEX_PIPIENS ... TrapClusterNum_2\n",
       "1 0             0               0             ... 0               \n",
       "2 0             0               0             ... 0               \n",
       "3 0             0               0             ... 0               \n",
       "4 0             0               0             ... 0               \n",
       "5 1             0               0             ... 0               \n",
       "6 0             0               0             ... 0               \n",
       "  TrapClusterNum_10 TrapClusterNum_4 TrapClusterNum_3 Month_6 Month_8 Month_9\n",
       "1 0                 0                0                1       0       0      \n",
       "2 0                 0                0                0       1       0      \n",
       "3 0                 0                0                1       0       0      \n",
       "4 0                 0                0                0       1       0      \n",
       "5 0                 0                0                0       0       1      \n",
       "6 0                 0                0                1       0       0      \n",
       "  Month_10 Month_7 Month_5\n",
       "1 0        0       0      \n",
       "2 0        0       0      \n",
       "3 0        0       0      \n",
       "4 0        0       0      \n",
       "5 0        0       0      \n",
       "6 0        0       0      "
      ]
     },
     "metadata": {},
     "output_type": "display_data"
    }
   ],
   "source": [
    "head(TRAIN)"
   ]
  },
  {
   "cell_type": "code",
   "execution_count": 24,
   "metadata": {},
   "outputs": [
    {
     "name": "stdout",
     "output_type": "stream",
     "text": [
      "'data.frame':\t3693 obs. of  78 variables:\n",
      " $ X                     : int  1545 3014 3566 2198 3351 1612 4206 3035 2256 1450 ...\n",
      " $ Date                  : Factor w/ 95 levels \"2007-05-29\",\"2007-06-05\",..: 35 69 79 54 75 38 90 69 56 33 ...\n",
      " $ Longitude             : num  -87.5 -87.7 -87.5 -87.7 -87.6 ...\n",
      " $ Latitude              : num  41.7 41.9 41.7 41.8 41.7 ...\n",
      " $ Month                 : int  6 8 6 8 9 6 8 8 9 10 ...\n",
      " $ Season_code_1         : int  0 0 0 0 0 0 0 0 0 0 ...\n",
      " $ Season_code_2         : int  1 1 1 1 0 1 1 1 0 0 ...\n",
      " $ Season_code_3         : int  0 0 0 0 1 0 0 0 1 1 ...\n",
      " $ CULEX_ERRATICUS       : int  0 0 0 0 0 0 0 0 0 0 ...\n",
      " $ CULEX_PIPIENS         : int  0 0 0 0 0 0 10 0 0 23 ...\n",
      " $ CULEX_PIPIENS_RESTUANS: int  3 1 2 1 1 2 8 2 21 9 ...\n",
      " $ CULEX_RESTUANS        : int  5 0 14 0 6 2 3 0 1 0 ...\n",
      " $ CULEX_SALINARIUS      : int  0 0 0 0 0 0 0 0 0 0 ...\n",
      " $ CULEX_TARSALIS        : int  0 0 0 0 0 0 0 0 0 0 ...\n",
      " $ CULEX_TERRITANS       : int  0 0 0 0 0 0 0 0 0 0 ...\n",
      " $ ParasiticIn           : num  0.28 0.25 0.24 0.26 0.25 0.28 0.26 0.25 0.26 0.27 ...\n",
      " $ Influenza             : num  0.85 0.57 0.72 0.6 0.57 0.85 0.58 0.57 0.6 0.77 ...\n",
      " $ WnvPresentB           : int  0 0 0 0 0 0 0 0 0 0 ...\n",
      " $ Tmax2                 : int  61 82 76 67 59 72 78 82 84 77 ...\n",
      " $ Tmin2                 : int  50 65 57 62 48 50 67 65 59 50 ...\n",
      " $ Tavg2                 : int  21 39 32 30 19 26 38 39 37 29 ...\n",
      " $ WetBulb2              : int  20 33 26 32 16 24 37 33 31 22 ...\n",
      " $ Heat2                 : int  30 1 1 1 4 25 1 1 1 2 ...\n",
      " $ PrecipTotal2          : num  0.06 0 0 1.19 0 0 0.36 0 0 0 ...\n",
      " $ StnPressure2          : num  29.4 29.3 29.4 29.4 29.6 ...\n",
      " $ ResultDir2            : int  3 19 5 8 13 6 24 19 13 28 ...\n",
      " $ AvgSpeed2             : num  9.2 8.4 7.8 11 3.7 6.7 7 8.4 2.7 13.3 ...\n",
      " $ DZ2                   : int  0 0 0 0 0 0 0 0 0 0 ...\n",
      " $ FG2                   : int  0 0 0 0 0 0 0 0 0 0 ...\n",
      " $ HZ2                   : int  0 0 0 0 0 0 0 0 0 0 ...\n",
      " $ RA2                   : int  1 0 0 1 0 0 1 0 0 0 ...\n",
      " $ RA45_2                : num  11 9 17 13 13 ...\n",
      " $ BR2                   : int  1 0 0 1 0 0 0 0 0 0 ...\n",
      " $ TS2                   : int  0 0 0 0 0 0 0 0 0 0 ...\n",
      " $ TSRA2                 : int  0 0 0 0 0 0 0 0 0 0 ...\n",
      " $ VCTS2                 : int  0 0 0 0 0 0 0 0 0 0 ...\n",
      " $ Tmax                  : int  60 81 78 67 58 74 78 81 84 76 ...\n",
      " $ Tmin                  : int  48 60 56 61 46 49 68 60 58 49 ...\n",
      " $ Tavg                  : int  19 36 32 29 17 27 38 36 36 28 ...\n",
      " $ Depart                : int  2 10 1 14 4 14 20 10 25 26 ...\n",
      " $ DewPoint              : int  46 59 51 60 40 49 67 59 55 44 ...\n",
      " $ Heat                  : int  4 1 1 2 6 24 1 1 1 13 ...\n",
      " $ Cool                  : int  1 7 3 1 1 1 9 7 7 1 ...\n",
      " $ Sunrise               : int  419 456 416 512 532 416 506 456 530 557 ...\n",
      " $ Sunset                : int  1920 1858 1928 1835 1760 1927 1843 1858 1805 1720 ...\n",
      " $ PrecipTotal           : num  0.12 0 0 0.95 0 0 0.23 0 0 0 ...\n",
      " $ ResultSpeed           : num  7.4 8.3 6.6 9.1 1.4 4.4 1.5 8.3 0.1 11.5 ...\n",
      " $ ResultDir             : int  3 19 6 7 8 7 23 19 33 28 ...\n",
      " $ AvgSpeed              : num  8 8.5 7.9 9.7 3.3 5.8 7 8.5 2.1 12.8 ...\n",
      " $ BR                    : int  1 0 0 1 0 0 0 0 0 0 ...\n",
      " $ DZ                    : int  0 0 0 0 0 0 0 0 0 0 ...\n",
      " $ FG                    : int  0 0 0 0 0 0 0 0 0 0 ...\n",
      " $ HZ                    : int  0 0 0 0 0 0 0 0 0 0 ...\n",
      " $ RA                    : int  1 0 0 1 0 1 1 0 0 0 ...\n",
      " $ RA45                  : num  12.1 10 20 14 13 ...\n",
      " $ TS                    : int  0 0 0 0 0 0 0 0 0 0 ...\n",
      " $ TSRA                  : int  0 0 0 0 0 0 0 0 0 0 ...\n",
      " $ VCTS                  : int  0 0 0 0 0 0 0 0 0 0 ...\n",
      " $ pre45_1_2             : int  1 0 1 1 0 1 0 0 1 0 ...\n",
      " $ pre45_1               : int  1 1 1 0 1 1 0 1 0 0 ...\n",
      " $ pre45_05              : int  1 1 1 1 1 1 1 1 1 0 ...\n",
      " $ TrapClusterNum        : int  7 9 7 1 5 8 6 7 8 7 ...\n",
      " $ TrapClusterNum_7      : int  1 0 1 0 0 0 0 1 0 1 ...\n",
      " $ TrapClusterNum_9      : int  0 1 0 0 0 0 0 0 0 0 ...\n",
      " $ TrapClusterNum_1      : int  0 0 0 1 0 0 0 0 0 0 ...\n",
      " $ TrapClusterNum_5      : int  0 0 0 0 1 0 0 0 0 0 ...\n",
      " $ TrapClusterNum_8      : int  0 0 0 0 0 1 0 0 1 0 ...\n",
      " $ TrapClusterNum_6      : int  0 0 0 0 0 0 1 0 0 0 ...\n",
      " $ TrapClusterNum_2      : int  0 0 0 0 0 0 0 0 0 0 ...\n",
      " $ TrapClusterNum_10     : int  0 0 0 0 0 0 0 0 0 0 ...\n",
      " $ TrapClusterNum_4      : int  0 0 0 0 0 0 0 0 0 0 ...\n",
      " $ TrapClusterNum_3      : int  0 0 0 0 0 0 0 0 0 0 ...\n",
      " $ Month_6               : int  1 0 1 0 0 1 0 0 0 0 ...\n",
      " $ Month_8               : int  0 1 0 1 0 0 1 1 0 0 ...\n",
      " $ Month_9               : int  0 0 0 0 1 0 0 0 1 0 ...\n",
      " $ Month_10              : int  0 0 0 0 0 0 0 0 0 1 ...\n",
      " $ Month_7               : int  0 0 0 0 0 0 0 0 0 0 ...\n",
      " $ Month_5               : int  0 0 0 0 0 0 0 0 0 0 ...\n"
     ]
    }
   ],
   "source": [
    "str(TRAIN)"
   ]
  },
  {
   "cell_type": "code",
   "execution_count": 25,
   "metadata": {},
   "outputs": [],
   "source": [
    "TRAIN$Month<-NULL\n",
    "TRAIN$TrapClusterNum<-NULL"
   ]
  },
  {
   "cell_type": "code",
   "execution_count": 27,
   "metadata": {},
   "outputs": [
    {
     "data": {
      "text/html": [
       "<ol class=list-inline>\n",
       "\t<li>3693</li>\n",
       "\t<li>76</li>\n",
       "</ol>\n"
      ],
      "text/latex": [
       "\\begin{enumerate*}\n",
       "\\item 3693\n",
       "\\item 76\n",
       "\\end{enumerate*}\n"
      ],
      "text/markdown": [
       "1. 3693\n",
       "2. 76\n",
       "\n",
       "\n"
      ],
      "text/plain": [
       "[1] 3693   76"
      ]
     },
     "metadata": {},
     "output_type": "display_data"
    },
    {
     "data": {
      "text/html": [
       "<table>\n",
       "<thead><tr><th scope=col>X</th><th scope=col>Date</th><th scope=col>Longitude</th><th scope=col>Latitude</th><th scope=col>Season_code_1</th><th scope=col>Season_code_2</th><th scope=col>Season_code_3</th><th scope=col>CULEX_ERRATICUS</th><th scope=col>CULEX_PIPIENS</th><th scope=col>CULEX_PIPIENS_RESTUANS</th><th scope=col>...</th><th scope=col>TrapClusterNum_2</th><th scope=col>TrapClusterNum_10</th><th scope=col>TrapClusterNum_4</th><th scope=col>TrapClusterNum_3</th><th scope=col>Month_6</th><th scope=col>Month_8</th><th scope=col>Month_9</th><th scope=col>Month_10</th><th scope=col>Month_7</th><th scope=col>Month_5</th></tr></thead>\n",
       "<tbody>\n",
       "\t<tr><td>1545      </td><td>2009-06-02</td><td>-87.54659 </td><td>41.74064  </td><td>0         </td><td>1         </td><td>0         </td><td>0         </td><td>0         </td><td>3         </td><td>...       </td><td>0         </td><td>0         </td><td>0         </td><td>0         </td><td>1         </td><td>0         </td><td>0         </td><td>0         </td><td>0         </td><td>0         </td></tr>\n",
       "\t<tr><td>3014      </td><td>2011-08-12</td><td>-87.67146 </td><td>41.94723  </td><td>0         </td><td>1         </td><td>0         </td><td>0         </td><td>0         </td><td>1         </td><td>...       </td><td>0         </td><td>0         </td><td>0         </td><td>0         </td><td>0         </td><td>1         </td><td>0         </td><td>0         </td><td>0         </td><td>0         </td></tr>\n",
       "\t<tr><td>3566      </td><td>2013-06-14</td><td>-87.54659 </td><td>41.74064  </td><td>0         </td><td>1         </td><td>0         </td><td>0         </td><td>0         </td><td>2         </td><td>...       </td><td>0         </td><td>0         </td><td>0         </td><td>0         </td><td>1         </td><td>0         </td><td>0         </td><td>0         </td><td>0         </td><td>0         </td></tr>\n",
       "\t<tr><td>2198      </td><td>2009-08-27</td><td>-87.71628 </td><td>41.84607  </td><td>0         </td><td>1         </td><td>0         </td><td>0         </td><td>0         </td><td>1         </td><td>...       </td><td>0         </td><td>0         </td><td>0         </td><td>0         </td><td>0         </td><td>1         </td><td>0         </td><td>0         </td><td>0         </td><td>0         </td></tr>\n",
       "\t<tr><td>3351      </td><td>2011-09-16</td><td>-87.55931 </td><td>41.67862  </td><td>0         </td><td>0         </td><td>1         </td><td>0         </td><td>0         </td><td>1         </td><td>...       </td><td>0         </td><td>0         </td><td>0         </td><td>0         </td><td>0         </td><td>0         </td><td>1         </td><td>0         </td><td>0         </td><td>0         </td></tr>\n",
       "\t<tr><td>1612      </td><td>2009-06-12</td><td>-87.70305 </td><td>41.77166  </td><td>0         </td><td>1         </td><td>0         </td><td>0         </td><td>0         </td><td>2         </td><td>...       </td><td>0         </td><td>0         </td><td>0         </td><td>0         </td><td>1         </td><td>0         </td><td>0         </td><td>0         </td><td>0         </td><td>0         </td></tr>\n",
       "</tbody>\n",
       "</table>\n"
      ],
      "text/latex": [
       "\\begin{tabular}{r|llllllllllllllllllllllllllllllllllllllllllllllllllllllllllllllllllllllllllll}\n",
       " X & Date & Longitude & Latitude & Season\\_code\\_1 & Season\\_code\\_2 & Season\\_code\\_3 & CULEX\\_ERRATICUS & CULEX\\_PIPIENS & CULEX\\_PIPIENS\\_RESTUANS & ... & TrapClusterNum\\_2 & TrapClusterNum\\_10 & TrapClusterNum\\_4 & TrapClusterNum\\_3 & Month\\_6 & Month\\_8 & Month\\_9 & Month\\_10 & Month\\_7 & Month\\_5\\\\\n",
       "\\hline\n",
       "\t 1545       & 2009-06-02 & -87.54659  & 41.74064   & 0          & 1          & 0          & 0          & 0          & 3          & ...        & 0          & 0          & 0          & 0          & 1          & 0          & 0          & 0          & 0          & 0         \\\\\n",
       "\t 3014       & 2011-08-12 & -87.67146  & 41.94723   & 0          & 1          & 0          & 0          & 0          & 1          & ...        & 0          & 0          & 0          & 0          & 0          & 1          & 0          & 0          & 0          & 0         \\\\\n",
       "\t 3566       & 2013-06-14 & -87.54659  & 41.74064   & 0          & 1          & 0          & 0          & 0          & 2          & ...        & 0          & 0          & 0          & 0          & 1          & 0          & 0          & 0          & 0          & 0         \\\\\n",
       "\t 2198       & 2009-08-27 & -87.71628  & 41.84607   & 0          & 1          & 0          & 0          & 0          & 1          & ...        & 0          & 0          & 0          & 0          & 0          & 1          & 0          & 0          & 0          & 0         \\\\\n",
       "\t 3351       & 2011-09-16 & -87.55931  & 41.67862   & 0          & 0          & 1          & 0          & 0          & 1          & ...        & 0          & 0          & 0          & 0          & 0          & 0          & 1          & 0          & 0          & 0         \\\\\n",
       "\t 1612       & 2009-06-12 & -87.70305  & 41.77166   & 0          & 1          & 0          & 0          & 0          & 2          & ...        & 0          & 0          & 0          & 0          & 1          & 0          & 0          & 0          & 0          & 0         \\\\\n",
       "\\end{tabular}\n"
      ],
      "text/markdown": [
       "\n",
       "X | Date | Longitude | Latitude | Season_code_1 | Season_code_2 | Season_code_3 | CULEX_ERRATICUS | CULEX_PIPIENS | CULEX_PIPIENS_RESTUANS | ... | TrapClusterNum_2 | TrapClusterNum_10 | TrapClusterNum_4 | TrapClusterNum_3 | Month_6 | Month_8 | Month_9 | Month_10 | Month_7 | Month_5 | \n",
       "|---|---|---|---|---|---|\n",
       "| 1545       | 2009-06-02 | -87.54659  | 41.74064   | 0          | 1          | 0          | 0          | 0          | 3          | ...        | 0          | 0          | 0          | 0          | 1          | 0          | 0          | 0          | 0          | 0          | \n",
       "| 3014       | 2011-08-12 | -87.67146  | 41.94723   | 0          | 1          | 0          | 0          | 0          | 1          | ...        | 0          | 0          | 0          | 0          | 0          | 1          | 0          | 0          | 0          | 0          | \n",
       "| 3566       | 2013-06-14 | -87.54659  | 41.74064   | 0          | 1          | 0          | 0          | 0          | 2          | ...        | 0          | 0          | 0          | 0          | 1          | 0          | 0          | 0          | 0          | 0          | \n",
       "| 2198       | 2009-08-27 | -87.71628  | 41.84607   | 0          | 1          | 0          | 0          | 0          | 1          | ...        | 0          | 0          | 0          | 0          | 0          | 1          | 0          | 0          | 0          | 0          | \n",
       "| 3351       | 2011-09-16 | -87.55931  | 41.67862   | 0          | 0          | 1          | 0          | 0          | 1          | ...        | 0          | 0          | 0          | 0          | 0          | 0          | 1          | 0          | 0          | 0          | \n",
       "| 1612       | 2009-06-12 | -87.70305  | 41.77166   | 0          | 1          | 0          | 0          | 0          | 2          | ...        | 0          | 0          | 0          | 0          | 1          | 0          | 0          | 0          | 0          | 0          | \n",
       "\n",
       "\n"
      ],
      "text/plain": [
       "  X    Date       Longitude Latitude Season_code_1 Season_code_2 Season_code_3\n",
       "1 1545 2009-06-02 -87.54659 41.74064 0             1             0            \n",
       "2 3014 2011-08-12 -87.67146 41.94723 0             1             0            \n",
       "3 3566 2013-06-14 -87.54659 41.74064 0             1             0            \n",
       "4 2198 2009-08-27 -87.71628 41.84607 0             1             0            \n",
       "5 3351 2011-09-16 -87.55931 41.67862 0             0             1            \n",
       "6 1612 2009-06-12 -87.70305 41.77166 0             1             0            \n",
       "  CULEX_ERRATICUS CULEX_PIPIENS CULEX_PIPIENS_RESTUANS ... TrapClusterNum_2\n",
       "1 0               0             3                      ... 0               \n",
       "2 0               0             1                      ... 0               \n",
       "3 0               0             2                      ... 0               \n",
       "4 0               0             1                      ... 0               \n",
       "5 0               0             1                      ... 0               \n",
       "6 0               0             2                      ... 0               \n",
       "  TrapClusterNum_10 TrapClusterNum_4 TrapClusterNum_3 Month_6 Month_8 Month_9\n",
       "1 0                 0                0                1       0       0      \n",
       "2 0                 0                0                0       1       0      \n",
       "3 0                 0                0                1       0       0      \n",
       "4 0                 0                0                0       1       0      \n",
       "5 0                 0                0                0       0       1      \n",
       "6 0                 0                0                1       0       0      \n",
       "  Month_10 Month_7 Month_5\n",
       "1 0        0       0      \n",
       "2 0        0       0      \n",
       "3 0        0       0      \n",
       "4 0        0       0      \n",
       "5 0        0       0      \n",
       "6 0        0       0      "
      ]
     },
     "metadata": {},
     "output_type": "display_data"
    }
   ],
   "source": [
    "dim(TRAIN)\n",
    "head(TRAIN)"
   ]
  },
  {
   "cell_type": "code",
   "execution_count": 28,
   "metadata": {},
   "outputs": [],
   "source": [
    "X_train <- fastDummies::dummy_cols(X_train, select_columns = \"TrapClusterNum\")\n",
    "X_train <- fastDummies::dummy_cols(X_train, select_columns = \"Month\")"
   ]
  },
  {
   "cell_type": "code",
   "execution_count": 29,
   "metadata": {},
   "outputs": [
    {
     "data": {
      "text/html": [
       "<ol class=list-inline>\n",
       "\t<li>3693</li>\n",
       "\t<li>77</li>\n",
       "</ol>\n"
      ],
      "text/latex": [
       "\\begin{enumerate*}\n",
       "\\item 3693\n",
       "\\item 77\n",
       "\\end{enumerate*}\n"
      ],
      "text/markdown": [
       "1. 3693\n",
       "2. 77\n",
       "\n",
       "\n"
      ],
      "text/plain": [
       "[1] 3693   77"
      ]
     },
     "metadata": {},
     "output_type": "display_data"
    },
    {
     "data": {
      "text/html": [
       "<table>\n",
       "<thead><tr><th scope=col>X</th><th scope=col>Date</th><th scope=col>Longitude</th><th scope=col>Latitude</th><th scope=col>Month</th><th scope=col>Season_code_1</th><th scope=col>Season_code_2</th><th scope=col>Season_code_3</th><th scope=col>CULEX_ERRATICUS</th><th scope=col>CULEX_PIPIENS</th><th scope=col>...</th><th scope=col>TrapClusterNum_2</th><th scope=col>TrapClusterNum_10</th><th scope=col>TrapClusterNum_4</th><th scope=col>TrapClusterNum_3</th><th scope=col>Month_6</th><th scope=col>Month_8</th><th scope=col>Month_9</th><th scope=col>Month_10</th><th scope=col>Month_7</th><th scope=col>Month_5</th></tr></thead>\n",
       "<tbody>\n",
       "\t<tr><td>1545      </td><td>2009-06-02</td><td>-87.54659 </td><td>41.74064  </td><td>6         </td><td>0         </td><td>1         </td><td>0         </td><td>0         </td><td>0         </td><td>...       </td><td>0         </td><td>0         </td><td>0         </td><td>0         </td><td>1         </td><td>0         </td><td>0         </td><td>0         </td><td>0         </td><td>0         </td></tr>\n",
       "\t<tr><td>3014      </td><td>2011-08-12</td><td>-87.67146 </td><td>41.94723  </td><td>8         </td><td>0         </td><td>1         </td><td>0         </td><td>0         </td><td>0         </td><td>...       </td><td>0         </td><td>0         </td><td>0         </td><td>0         </td><td>0         </td><td>1         </td><td>0         </td><td>0         </td><td>0         </td><td>0         </td></tr>\n",
       "\t<tr><td>3566      </td><td>2013-06-14</td><td>-87.54659 </td><td>41.74064  </td><td>6         </td><td>0         </td><td>1         </td><td>0         </td><td>0         </td><td>0         </td><td>...       </td><td>0         </td><td>0         </td><td>0         </td><td>0         </td><td>1         </td><td>0         </td><td>0         </td><td>0         </td><td>0         </td><td>0         </td></tr>\n",
       "\t<tr><td>2198      </td><td>2009-08-27</td><td>-87.71628 </td><td>41.84607  </td><td>8         </td><td>0         </td><td>1         </td><td>0         </td><td>0         </td><td>0         </td><td>...       </td><td>0         </td><td>0         </td><td>0         </td><td>0         </td><td>0         </td><td>1         </td><td>0         </td><td>0         </td><td>0         </td><td>0         </td></tr>\n",
       "\t<tr><td>3351      </td><td>2011-09-16</td><td>-87.55931 </td><td>41.67862  </td><td>9         </td><td>0         </td><td>0         </td><td>1         </td><td>0         </td><td>0         </td><td>...       </td><td>0         </td><td>0         </td><td>0         </td><td>0         </td><td>0         </td><td>0         </td><td>1         </td><td>0         </td><td>0         </td><td>0         </td></tr>\n",
       "\t<tr><td>1612      </td><td>2009-06-12</td><td>-87.70305 </td><td>41.77166  </td><td>6         </td><td>0         </td><td>1         </td><td>0         </td><td>0         </td><td>0         </td><td>...       </td><td>0         </td><td>0         </td><td>0         </td><td>0         </td><td>1         </td><td>0         </td><td>0         </td><td>0         </td><td>0         </td><td>0         </td></tr>\n",
       "</tbody>\n",
       "</table>\n"
      ],
      "text/latex": [
       "\\begin{tabular}{r|lllllllllllllllllllllllllllllllllllllllllllllllllllllllllllllllllllllllllllll}\n",
       " X & Date & Longitude & Latitude & Month & Season\\_code\\_1 & Season\\_code\\_2 & Season\\_code\\_3 & CULEX\\_ERRATICUS & CULEX\\_PIPIENS & ... & TrapClusterNum\\_2 & TrapClusterNum\\_10 & TrapClusterNum\\_4 & TrapClusterNum\\_3 & Month\\_6 & Month\\_8 & Month\\_9 & Month\\_10 & Month\\_7 & Month\\_5\\\\\n",
       "\\hline\n",
       "\t 1545       & 2009-06-02 & -87.54659  & 41.74064   & 6          & 0          & 1          & 0          & 0          & 0          & ...        & 0          & 0          & 0          & 0          & 1          & 0          & 0          & 0          & 0          & 0         \\\\\n",
       "\t 3014       & 2011-08-12 & -87.67146  & 41.94723   & 8          & 0          & 1          & 0          & 0          & 0          & ...        & 0          & 0          & 0          & 0          & 0          & 1          & 0          & 0          & 0          & 0         \\\\\n",
       "\t 3566       & 2013-06-14 & -87.54659  & 41.74064   & 6          & 0          & 1          & 0          & 0          & 0          & ...        & 0          & 0          & 0          & 0          & 1          & 0          & 0          & 0          & 0          & 0         \\\\\n",
       "\t 2198       & 2009-08-27 & -87.71628  & 41.84607   & 8          & 0          & 1          & 0          & 0          & 0          & ...        & 0          & 0          & 0          & 0          & 0          & 1          & 0          & 0          & 0          & 0         \\\\\n",
       "\t 3351       & 2011-09-16 & -87.55931  & 41.67862   & 9          & 0          & 0          & 1          & 0          & 0          & ...        & 0          & 0          & 0          & 0          & 0          & 0          & 1          & 0          & 0          & 0         \\\\\n",
       "\t 1612       & 2009-06-12 & -87.70305  & 41.77166   & 6          & 0          & 1          & 0          & 0          & 0          & ...        & 0          & 0          & 0          & 0          & 1          & 0          & 0          & 0          & 0          & 0         \\\\\n",
       "\\end{tabular}\n"
      ],
      "text/markdown": [
       "\n",
       "X | Date | Longitude | Latitude | Month | Season_code_1 | Season_code_2 | Season_code_3 | CULEX_ERRATICUS | CULEX_PIPIENS | ... | TrapClusterNum_2 | TrapClusterNum_10 | TrapClusterNum_4 | TrapClusterNum_3 | Month_6 | Month_8 | Month_9 | Month_10 | Month_7 | Month_5 | \n",
       "|---|---|---|---|---|---|\n",
       "| 1545       | 2009-06-02 | -87.54659  | 41.74064   | 6          | 0          | 1          | 0          | 0          | 0          | ...        | 0          | 0          | 0          | 0          | 1          | 0          | 0          | 0          | 0          | 0          | \n",
       "| 3014       | 2011-08-12 | -87.67146  | 41.94723   | 8          | 0          | 1          | 0          | 0          | 0          | ...        | 0          | 0          | 0          | 0          | 0          | 1          | 0          | 0          | 0          | 0          | \n",
       "| 3566       | 2013-06-14 | -87.54659  | 41.74064   | 6          | 0          | 1          | 0          | 0          | 0          | ...        | 0          | 0          | 0          | 0          | 1          | 0          | 0          | 0          | 0          | 0          | \n",
       "| 2198       | 2009-08-27 | -87.71628  | 41.84607   | 8          | 0          | 1          | 0          | 0          | 0          | ...        | 0          | 0          | 0          | 0          | 0          | 1          | 0          | 0          | 0          | 0          | \n",
       "| 3351       | 2011-09-16 | -87.55931  | 41.67862   | 9          | 0          | 0          | 1          | 0          | 0          | ...        | 0          | 0          | 0          | 0          | 0          | 0          | 1          | 0          | 0          | 0          | \n",
       "| 1612       | 2009-06-12 | -87.70305  | 41.77166   | 6          | 0          | 1          | 0          | 0          | 0          | ...        | 0          | 0          | 0          | 0          | 1          | 0          | 0          | 0          | 0          | 0          | \n",
       "\n",
       "\n"
      ],
      "text/plain": [
       "  X    Date       Longitude Latitude Month Season_code_1 Season_code_2\n",
       "1 1545 2009-06-02 -87.54659 41.74064 6     0             1            \n",
       "2 3014 2011-08-12 -87.67146 41.94723 8     0             1            \n",
       "3 3566 2013-06-14 -87.54659 41.74064 6     0             1            \n",
       "4 2198 2009-08-27 -87.71628 41.84607 8     0             1            \n",
       "5 3351 2011-09-16 -87.55931 41.67862 9     0             0            \n",
       "6 1612 2009-06-12 -87.70305 41.77166 6     0             1            \n",
       "  Season_code_3 CULEX_ERRATICUS CULEX_PIPIENS ... TrapClusterNum_2\n",
       "1 0             0               0             ... 0               \n",
       "2 0             0               0             ... 0               \n",
       "3 0             0               0             ... 0               \n",
       "4 0             0               0             ... 0               \n",
       "5 1             0               0             ... 0               \n",
       "6 0             0               0             ... 0               \n",
       "  TrapClusterNum_10 TrapClusterNum_4 TrapClusterNum_3 Month_6 Month_8 Month_9\n",
       "1 0                 0                0                1       0       0      \n",
       "2 0                 0                0                0       1       0      \n",
       "3 0                 0                0                1       0       0      \n",
       "4 0                 0                0                0       1       0      \n",
       "5 0                 0                0                0       0       1      \n",
       "6 0                 0                0                1       0       0      \n",
       "  Month_10 Month_7 Month_5\n",
       "1 0        0       0      \n",
       "2 0        0       0      \n",
       "3 0        0       0      \n",
       "4 0        0       0      \n",
       "5 0        0       0      \n",
       "6 0        0       0      "
      ]
     },
     "metadata": {},
     "output_type": "display_data"
    }
   ],
   "source": [
    "dim(X_train)\n",
    "head(X_train)"
   ]
  },
  {
   "cell_type": "code",
   "execution_count": 30,
   "metadata": {},
   "outputs": [
    {
     "name": "stdout",
     "output_type": "stream",
     "text": [
      "'data.frame':\t3693 obs. of  77 variables:\n",
      " $ X                     : int  1545 3014 3566 2198 3351 1612 4206 3035 2256 1450 ...\n",
      " $ Date                  : Factor w/ 95 levels \"2007-05-29\",\"2007-06-05\",..: 35 69 79 54 75 38 90 69 56 33 ...\n",
      " $ Longitude             : num  -87.5 -87.7 -87.5 -87.7 -87.6 ...\n",
      " $ Latitude              : num  41.7 41.9 41.7 41.8 41.7 ...\n",
      " $ Month                 : int  6 8 6 8 9 6 8 8 9 10 ...\n",
      " $ Season_code_1         : int  0 0 0 0 0 0 0 0 0 0 ...\n",
      " $ Season_code_2         : int  1 1 1 1 0 1 1 1 0 0 ...\n",
      " $ Season_code_3         : int  0 0 0 0 1 0 0 0 1 1 ...\n",
      " $ CULEX_ERRATICUS       : int  0 0 0 0 0 0 0 0 0 0 ...\n",
      " $ CULEX_PIPIENS         : int  0 0 0 0 0 0 10 0 0 23 ...\n",
      " $ CULEX_PIPIENS_RESTUANS: int  3 1 2 1 1 2 8 2 21 9 ...\n",
      " $ CULEX_RESTUANS        : int  5 0 14 0 6 2 3 0 1 0 ...\n",
      " $ CULEX_SALINARIUS      : int  0 0 0 0 0 0 0 0 0 0 ...\n",
      " $ CULEX_TARSALIS        : int  0 0 0 0 0 0 0 0 0 0 ...\n",
      " $ CULEX_TERRITANS       : int  0 0 0 0 0 0 0 0 0 0 ...\n",
      " $ ParasiticIn           : num  0.28 0.25 0.24 0.26 0.25 0.28 0.26 0.25 0.26 0.27 ...\n",
      " $ Influenza             : num  0.85 0.57 0.72 0.6 0.57 0.85 0.58 0.57 0.6 0.77 ...\n",
      " $ Tmax2                 : int  61 82 76 67 59 72 78 82 84 77 ...\n",
      " $ Tmin2                 : int  50 65 57 62 48 50 67 65 59 50 ...\n",
      " $ Tavg2                 : int  21 39 32 30 19 26 38 39 37 29 ...\n",
      " $ WetBulb2              : int  20 33 26 32 16 24 37 33 31 22 ...\n",
      " $ Heat2                 : int  30 1 1 1 4 25 1 1 1 2 ...\n",
      " $ PrecipTotal2          : num  0.06 0 0 1.19 0 0 0.36 0 0 0 ...\n",
      " $ StnPressure2          : num  29.4 29.3 29.4 29.4 29.6 ...\n",
      " $ ResultDir2            : int  3 19 5 8 13 6 24 19 13 28 ...\n",
      " $ AvgSpeed2             : num  9.2 8.4 7.8 11 3.7 6.7 7 8.4 2.7 13.3 ...\n",
      " $ DZ2                   : int  0 0 0 0 0 0 0 0 0 0 ...\n",
      " $ FG2                   : int  0 0 0 0 0 0 0 0 0 0 ...\n",
      " $ HZ2                   : int  0 0 0 0 0 0 0 0 0 0 ...\n",
      " $ RA2                   : int  1 0 0 1 0 0 1 0 0 0 ...\n",
      " $ RA45_2                : num  11 9 17 13 13 ...\n",
      " $ BR2                   : int  1 0 0 1 0 0 0 0 0 0 ...\n",
      " $ TS2                   : int  0 0 0 0 0 0 0 0 0 0 ...\n",
      " $ TSRA2                 : int  0 0 0 0 0 0 0 0 0 0 ...\n",
      " $ VCTS2                 : int  0 0 0 0 0 0 0 0 0 0 ...\n",
      " $ Tmax                  : int  60 81 78 67 58 74 78 81 84 76 ...\n",
      " $ Tmin                  : int  48 60 56 61 46 49 68 60 58 49 ...\n",
      " $ Tavg                  : int  19 36 32 29 17 27 38 36 36 28 ...\n",
      " $ Depart                : int  2 10 1 14 4 14 20 10 25 26 ...\n",
      " $ DewPoint              : int  46 59 51 60 40 49 67 59 55 44 ...\n",
      " $ Heat                  : int  4 1 1 2 6 24 1 1 1 13 ...\n",
      " $ Cool                  : int  1 7 3 1 1 1 9 7 7 1 ...\n",
      " $ Sunrise               : int  419 456 416 512 532 416 506 456 530 557 ...\n",
      " $ Sunset                : int  1920 1858 1928 1835 1760 1927 1843 1858 1805 1720 ...\n",
      " $ PrecipTotal           : num  0.12 0 0 0.95 0 0 0.23 0 0 0 ...\n",
      " $ ResultSpeed           : num  7.4 8.3 6.6 9.1 1.4 4.4 1.5 8.3 0.1 11.5 ...\n",
      " $ ResultDir             : int  3 19 6 7 8 7 23 19 33 28 ...\n",
      " $ AvgSpeed              : num  8 8.5 7.9 9.7 3.3 5.8 7 8.5 2.1 12.8 ...\n",
      " $ BR                    : int  1 0 0 1 0 0 0 0 0 0 ...\n",
      " $ DZ                    : int  0 0 0 0 0 0 0 0 0 0 ...\n",
      " $ FG                    : int  0 0 0 0 0 0 0 0 0 0 ...\n",
      " $ HZ                    : int  0 0 0 0 0 0 0 0 0 0 ...\n",
      " $ RA                    : int  1 0 0 1 0 1 1 0 0 0 ...\n",
      " $ RA45                  : num  12.1 10 20 14 13 ...\n",
      " $ TS                    : int  0 0 0 0 0 0 0 0 0 0 ...\n",
      " $ TSRA                  : int  0 0 0 0 0 0 0 0 0 0 ...\n",
      " $ VCTS                  : int  0 0 0 0 0 0 0 0 0 0 ...\n",
      " $ pre45_1_2             : int  1 0 1 1 0 1 0 0 1 0 ...\n",
      " $ pre45_1               : int  1 1 1 0 1 1 0 1 0 0 ...\n",
      " $ pre45_05              : int  1 1 1 1 1 1 1 1 1 0 ...\n",
      " $ TrapClusterNum        : int  7 9 7 1 5 8 6 7 8 7 ...\n",
      " $ TrapClusterNum_7      : int  1 0 1 0 0 0 0 1 0 1 ...\n",
      " $ TrapClusterNum_9      : int  0 1 0 0 0 0 0 0 0 0 ...\n",
      " $ TrapClusterNum_1      : int  0 0 0 1 0 0 0 0 0 0 ...\n",
      " $ TrapClusterNum_5      : int  0 0 0 0 1 0 0 0 0 0 ...\n",
      " $ TrapClusterNum_8      : int  0 0 0 0 0 1 0 0 1 0 ...\n",
      " $ TrapClusterNum_6      : int  0 0 0 0 0 0 1 0 0 0 ...\n",
      " $ TrapClusterNum_2      : int  0 0 0 0 0 0 0 0 0 0 ...\n",
      " $ TrapClusterNum_10     : int  0 0 0 0 0 0 0 0 0 0 ...\n",
      " $ TrapClusterNum_4      : int  0 0 0 0 0 0 0 0 0 0 ...\n",
      " $ TrapClusterNum_3      : int  0 0 0 0 0 0 0 0 0 0 ...\n",
      " $ Month_6               : int  1 0 1 0 0 1 0 0 0 0 ...\n",
      " $ Month_8               : int  0 1 0 1 0 0 1 1 0 0 ...\n",
      " $ Month_9               : int  0 0 0 0 1 0 0 0 1 0 ...\n",
      " $ Month_10              : int  0 0 0 0 0 0 0 0 0 1 ...\n",
      " $ Month_7               : int  0 0 0 0 0 0 0 0 0 0 ...\n",
      " $ Month_5               : int  0 0 0 0 0 0 0 0 0 0 ...\n"
     ]
    }
   ],
   "source": [
    "str(X_train)"
   ]
  },
  {
   "cell_type": "code",
   "execution_count": 31,
   "metadata": {},
   "outputs": [],
   "source": [
    "X_train$Month<-NULL\n",
    "X_train$TrapClusterNum<-NULL"
   ]
  },
  {
   "cell_type": "code",
   "execution_count": 32,
   "metadata": {},
   "outputs": [
    {
     "data": {
      "text/html": [
       "<ol class=list-inline>\n",
       "\t<li>3693</li>\n",
       "\t<li>75</li>\n",
       "</ol>\n"
      ],
      "text/latex": [
       "\\begin{enumerate*}\n",
       "\\item 3693\n",
       "\\item 75\n",
       "\\end{enumerate*}\n"
      ],
      "text/markdown": [
       "1. 3693\n",
       "2. 75\n",
       "\n",
       "\n"
      ],
      "text/plain": [
       "[1] 3693   75"
      ]
     },
     "metadata": {},
     "output_type": "display_data"
    },
    {
     "data": {
      "text/html": [
       "<table>\n",
       "<thead><tr><th scope=col>X</th><th scope=col>Date</th><th scope=col>Longitude</th><th scope=col>Latitude</th><th scope=col>Season_code_1</th><th scope=col>Season_code_2</th><th scope=col>Season_code_3</th><th scope=col>CULEX_ERRATICUS</th><th scope=col>CULEX_PIPIENS</th><th scope=col>CULEX_PIPIENS_RESTUANS</th><th scope=col>...</th><th scope=col>TrapClusterNum_2</th><th scope=col>TrapClusterNum_10</th><th scope=col>TrapClusterNum_4</th><th scope=col>TrapClusterNum_3</th><th scope=col>Month_6</th><th scope=col>Month_8</th><th scope=col>Month_9</th><th scope=col>Month_10</th><th scope=col>Month_7</th><th scope=col>Month_5</th></tr></thead>\n",
       "<tbody>\n",
       "\t<tr><td>1545      </td><td>2009-06-02</td><td>-87.54659 </td><td>41.74064  </td><td>0         </td><td>1         </td><td>0         </td><td>0         </td><td>0         </td><td>3         </td><td>...       </td><td>0         </td><td>0         </td><td>0         </td><td>0         </td><td>1         </td><td>0         </td><td>0         </td><td>0         </td><td>0         </td><td>0         </td></tr>\n",
       "\t<tr><td>3014      </td><td>2011-08-12</td><td>-87.67146 </td><td>41.94723  </td><td>0         </td><td>1         </td><td>0         </td><td>0         </td><td>0         </td><td>1         </td><td>...       </td><td>0         </td><td>0         </td><td>0         </td><td>0         </td><td>0         </td><td>1         </td><td>0         </td><td>0         </td><td>0         </td><td>0         </td></tr>\n",
       "\t<tr><td>3566      </td><td>2013-06-14</td><td>-87.54659 </td><td>41.74064  </td><td>0         </td><td>1         </td><td>0         </td><td>0         </td><td>0         </td><td>2         </td><td>...       </td><td>0         </td><td>0         </td><td>0         </td><td>0         </td><td>1         </td><td>0         </td><td>0         </td><td>0         </td><td>0         </td><td>0         </td></tr>\n",
       "\t<tr><td>2198      </td><td>2009-08-27</td><td>-87.71628 </td><td>41.84607  </td><td>0         </td><td>1         </td><td>0         </td><td>0         </td><td>0         </td><td>1         </td><td>...       </td><td>0         </td><td>0         </td><td>0         </td><td>0         </td><td>0         </td><td>1         </td><td>0         </td><td>0         </td><td>0         </td><td>0         </td></tr>\n",
       "\t<tr><td>3351      </td><td>2011-09-16</td><td>-87.55931 </td><td>41.67862  </td><td>0         </td><td>0         </td><td>1         </td><td>0         </td><td>0         </td><td>1         </td><td>...       </td><td>0         </td><td>0         </td><td>0         </td><td>0         </td><td>0         </td><td>0         </td><td>1         </td><td>0         </td><td>0         </td><td>0         </td></tr>\n",
       "\t<tr><td>1612      </td><td>2009-06-12</td><td>-87.70305 </td><td>41.77166  </td><td>0         </td><td>1         </td><td>0         </td><td>0         </td><td>0         </td><td>2         </td><td>...       </td><td>0         </td><td>0         </td><td>0         </td><td>0         </td><td>1         </td><td>0         </td><td>0         </td><td>0         </td><td>0         </td><td>0         </td></tr>\n",
       "</tbody>\n",
       "</table>\n"
      ],
      "text/latex": [
       "\\begin{tabular}{r|lllllllllllllllllllllllllllllllllllllllllllllllllllllllllllllllllllllllllll}\n",
       " X & Date & Longitude & Latitude & Season\\_code\\_1 & Season\\_code\\_2 & Season\\_code\\_3 & CULEX\\_ERRATICUS & CULEX\\_PIPIENS & CULEX\\_PIPIENS\\_RESTUANS & ... & TrapClusterNum\\_2 & TrapClusterNum\\_10 & TrapClusterNum\\_4 & TrapClusterNum\\_3 & Month\\_6 & Month\\_8 & Month\\_9 & Month\\_10 & Month\\_7 & Month\\_5\\\\\n",
       "\\hline\n",
       "\t 1545       & 2009-06-02 & -87.54659  & 41.74064   & 0          & 1          & 0          & 0          & 0          & 3          & ...        & 0          & 0          & 0          & 0          & 1          & 0          & 0          & 0          & 0          & 0         \\\\\n",
       "\t 3014       & 2011-08-12 & -87.67146  & 41.94723   & 0          & 1          & 0          & 0          & 0          & 1          & ...        & 0          & 0          & 0          & 0          & 0          & 1          & 0          & 0          & 0          & 0         \\\\\n",
       "\t 3566       & 2013-06-14 & -87.54659  & 41.74064   & 0          & 1          & 0          & 0          & 0          & 2          & ...        & 0          & 0          & 0          & 0          & 1          & 0          & 0          & 0          & 0          & 0         \\\\\n",
       "\t 2198       & 2009-08-27 & -87.71628  & 41.84607   & 0          & 1          & 0          & 0          & 0          & 1          & ...        & 0          & 0          & 0          & 0          & 0          & 1          & 0          & 0          & 0          & 0         \\\\\n",
       "\t 3351       & 2011-09-16 & -87.55931  & 41.67862   & 0          & 0          & 1          & 0          & 0          & 1          & ...        & 0          & 0          & 0          & 0          & 0          & 0          & 1          & 0          & 0          & 0         \\\\\n",
       "\t 1612       & 2009-06-12 & -87.70305  & 41.77166   & 0          & 1          & 0          & 0          & 0          & 2          & ...        & 0          & 0          & 0          & 0          & 1          & 0          & 0          & 0          & 0          & 0         \\\\\n",
       "\\end{tabular}\n"
      ],
      "text/markdown": [
       "\n",
       "X | Date | Longitude | Latitude | Season_code_1 | Season_code_2 | Season_code_3 | CULEX_ERRATICUS | CULEX_PIPIENS | CULEX_PIPIENS_RESTUANS | ... | TrapClusterNum_2 | TrapClusterNum_10 | TrapClusterNum_4 | TrapClusterNum_3 | Month_6 | Month_8 | Month_9 | Month_10 | Month_7 | Month_5 | \n",
       "|---|---|---|---|---|---|\n",
       "| 1545       | 2009-06-02 | -87.54659  | 41.74064   | 0          | 1          | 0          | 0          | 0          | 3          | ...        | 0          | 0          | 0          | 0          | 1          | 0          | 0          | 0          | 0          | 0          | \n",
       "| 3014       | 2011-08-12 | -87.67146  | 41.94723   | 0          | 1          | 0          | 0          | 0          | 1          | ...        | 0          | 0          | 0          | 0          | 0          | 1          | 0          | 0          | 0          | 0          | \n",
       "| 3566       | 2013-06-14 | -87.54659  | 41.74064   | 0          | 1          | 0          | 0          | 0          | 2          | ...        | 0          | 0          | 0          | 0          | 1          | 0          | 0          | 0          | 0          | 0          | \n",
       "| 2198       | 2009-08-27 | -87.71628  | 41.84607   | 0          | 1          | 0          | 0          | 0          | 1          | ...        | 0          | 0          | 0          | 0          | 0          | 1          | 0          | 0          | 0          | 0          | \n",
       "| 3351       | 2011-09-16 | -87.55931  | 41.67862   | 0          | 0          | 1          | 0          | 0          | 1          | ...        | 0          | 0          | 0          | 0          | 0          | 0          | 1          | 0          | 0          | 0          | \n",
       "| 1612       | 2009-06-12 | -87.70305  | 41.77166   | 0          | 1          | 0          | 0          | 0          | 2          | ...        | 0          | 0          | 0          | 0          | 1          | 0          | 0          | 0          | 0          | 0          | \n",
       "\n",
       "\n"
      ],
      "text/plain": [
       "  X    Date       Longitude Latitude Season_code_1 Season_code_2 Season_code_3\n",
       "1 1545 2009-06-02 -87.54659 41.74064 0             1             0            \n",
       "2 3014 2011-08-12 -87.67146 41.94723 0             1             0            \n",
       "3 3566 2013-06-14 -87.54659 41.74064 0             1             0            \n",
       "4 2198 2009-08-27 -87.71628 41.84607 0             1             0            \n",
       "5 3351 2011-09-16 -87.55931 41.67862 0             0             1            \n",
       "6 1612 2009-06-12 -87.70305 41.77166 0             1             0            \n",
       "  CULEX_ERRATICUS CULEX_PIPIENS CULEX_PIPIENS_RESTUANS ... TrapClusterNum_2\n",
       "1 0               0             3                      ... 0               \n",
       "2 0               0             1                      ... 0               \n",
       "3 0               0             2                      ... 0               \n",
       "4 0               0             1                      ... 0               \n",
       "5 0               0             1                      ... 0               \n",
       "6 0               0             2                      ... 0               \n",
       "  TrapClusterNum_10 TrapClusterNum_4 TrapClusterNum_3 Month_6 Month_8 Month_9\n",
       "1 0                 0                0                1       0       0      \n",
       "2 0                 0                0                0       1       0      \n",
       "3 0                 0                0                1       0       0      \n",
       "4 0                 0                0                0       1       0      \n",
       "5 0                 0                0                0       0       1      \n",
       "6 0                 0                0                1       0       0      \n",
       "  Month_10 Month_7 Month_5\n",
       "1 0        0       0      \n",
       "2 0        0       0      \n",
       "3 0        0       0      \n",
       "4 0        0       0      \n",
       "5 0        0       0      \n",
       "6 0        0       0      "
      ]
     },
     "metadata": {},
     "output_type": "display_data"
    }
   ],
   "source": [
    "dim(X_train)\n",
    "head(X_train)"
   ]
  },
  {
   "cell_type": "code",
   "execution_count": 33,
   "metadata": {},
   "outputs": [],
   "source": [
    "TRAINo<-TRAIN\n",
    "X_traino<-X_train"
   ]
  },
  {
   "cell_type": "code",
   "execution_count": 35,
   "metadata": {},
   "outputs": [
    {
     "data": {
      "text/html": [
       "<table>\n",
       "<thead><tr><th scope=col>X</th><th scope=col>Date</th><th scope=col>Longitude</th><th scope=col>Latitude</th><th scope=col>Season_code_1</th><th scope=col>Season_code_2</th><th scope=col>Season_code_3</th><th scope=col>CULEX_ERRATICUS</th><th scope=col>CULEX_PIPIENS</th><th scope=col>CULEX_PIPIENS_RESTUANS</th><th scope=col>...</th><th scope=col>TrapClusterNum_2</th><th scope=col>TrapClusterNum_10</th><th scope=col>TrapClusterNum_4</th><th scope=col>TrapClusterNum_3</th><th scope=col>Month_6</th><th scope=col>Month_8</th><th scope=col>Month_9</th><th scope=col>Month_10</th><th scope=col>Month_7</th><th scope=col>Month_5</th></tr></thead>\n",
       "<tbody>\n",
       "\t<tr><td>1545      </td><td>2009-06-02</td><td>-87.54659 </td><td>41.74064  </td><td>0         </td><td>1         </td><td>0         </td><td>0         </td><td>0         </td><td>3         </td><td>...       </td><td>0         </td><td>0         </td><td>0         </td><td>0         </td><td>1         </td><td>0         </td><td>0         </td><td>0         </td><td>0         </td><td>0         </td></tr>\n",
       "\t<tr><td>3014      </td><td>2011-08-12</td><td>-87.67146 </td><td>41.94723  </td><td>0         </td><td>1         </td><td>0         </td><td>0         </td><td>0         </td><td>1         </td><td>...       </td><td>0         </td><td>0         </td><td>0         </td><td>0         </td><td>0         </td><td>1         </td><td>0         </td><td>0         </td><td>0         </td><td>0         </td></tr>\n",
       "\t<tr><td>3566      </td><td>2013-06-14</td><td>-87.54659 </td><td>41.74064  </td><td>0         </td><td>1         </td><td>0         </td><td>0         </td><td>0         </td><td>2         </td><td>...       </td><td>0         </td><td>0         </td><td>0         </td><td>0         </td><td>1         </td><td>0         </td><td>0         </td><td>0         </td><td>0         </td><td>0         </td></tr>\n",
       "\t<tr><td>2198      </td><td>2009-08-27</td><td>-87.71628 </td><td>41.84607  </td><td>0         </td><td>1         </td><td>0         </td><td>0         </td><td>0         </td><td>1         </td><td>...       </td><td>0         </td><td>0         </td><td>0         </td><td>0         </td><td>0         </td><td>1         </td><td>0         </td><td>0         </td><td>0         </td><td>0         </td></tr>\n",
       "\t<tr><td>3351      </td><td>2011-09-16</td><td>-87.55931 </td><td>41.67862  </td><td>0         </td><td>0         </td><td>1         </td><td>0         </td><td>0         </td><td>1         </td><td>...       </td><td>0         </td><td>0         </td><td>0         </td><td>0         </td><td>0         </td><td>0         </td><td>1         </td><td>0         </td><td>0         </td><td>0         </td></tr>\n",
       "\t<tr><td>1612      </td><td>2009-06-12</td><td>-87.70305 </td><td>41.77166  </td><td>0         </td><td>1         </td><td>0         </td><td>0         </td><td>0         </td><td>2         </td><td>...       </td><td>0         </td><td>0         </td><td>0         </td><td>0         </td><td>1         </td><td>0         </td><td>0         </td><td>0         </td><td>0         </td><td>0         </td></tr>\n",
       "</tbody>\n",
       "</table>\n"
      ],
      "text/latex": [
       "\\begin{tabular}{r|lllllllllllllllllllllllllllllllllllllllllllllllllllllllllllllllllllllllllll}\n",
       " X & Date & Longitude & Latitude & Season\\_code\\_1 & Season\\_code\\_2 & Season\\_code\\_3 & CULEX\\_ERRATICUS & CULEX\\_PIPIENS & CULEX\\_PIPIENS\\_RESTUANS & ... & TrapClusterNum\\_2 & TrapClusterNum\\_10 & TrapClusterNum\\_4 & TrapClusterNum\\_3 & Month\\_6 & Month\\_8 & Month\\_9 & Month\\_10 & Month\\_7 & Month\\_5\\\\\n",
       "\\hline\n",
       "\t 1545       & 2009-06-02 & -87.54659  & 41.74064   & 0          & 1          & 0          & 0          & 0          & 3          & ...        & 0          & 0          & 0          & 0          & 1          & 0          & 0          & 0          & 0          & 0         \\\\\n",
       "\t 3014       & 2011-08-12 & -87.67146  & 41.94723   & 0          & 1          & 0          & 0          & 0          & 1          & ...        & 0          & 0          & 0          & 0          & 0          & 1          & 0          & 0          & 0          & 0         \\\\\n",
       "\t 3566       & 2013-06-14 & -87.54659  & 41.74064   & 0          & 1          & 0          & 0          & 0          & 2          & ...        & 0          & 0          & 0          & 0          & 1          & 0          & 0          & 0          & 0          & 0         \\\\\n",
       "\t 2198       & 2009-08-27 & -87.71628  & 41.84607   & 0          & 1          & 0          & 0          & 0          & 1          & ...        & 0          & 0          & 0          & 0          & 0          & 1          & 0          & 0          & 0          & 0         \\\\\n",
       "\t 3351       & 2011-09-16 & -87.55931  & 41.67862   & 0          & 0          & 1          & 0          & 0          & 1          & ...        & 0          & 0          & 0          & 0          & 0          & 0          & 1          & 0          & 0          & 0         \\\\\n",
       "\t 1612       & 2009-06-12 & -87.70305  & 41.77166   & 0          & 1          & 0          & 0          & 0          & 2          & ...        & 0          & 0          & 0          & 0          & 1          & 0          & 0          & 0          & 0          & 0         \\\\\n",
       "\\end{tabular}\n"
      ],
      "text/markdown": [
       "\n",
       "X | Date | Longitude | Latitude | Season_code_1 | Season_code_2 | Season_code_3 | CULEX_ERRATICUS | CULEX_PIPIENS | CULEX_PIPIENS_RESTUANS | ... | TrapClusterNum_2 | TrapClusterNum_10 | TrapClusterNum_4 | TrapClusterNum_3 | Month_6 | Month_8 | Month_9 | Month_10 | Month_7 | Month_5 | \n",
       "|---|---|---|---|---|---|\n",
       "| 1545       | 2009-06-02 | -87.54659  | 41.74064   | 0          | 1          | 0          | 0          | 0          | 3          | ...        | 0          | 0          | 0          | 0          | 1          | 0          | 0          | 0          | 0          | 0          | \n",
       "| 3014       | 2011-08-12 | -87.67146  | 41.94723   | 0          | 1          | 0          | 0          | 0          | 1          | ...        | 0          | 0          | 0          | 0          | 0          | 1          | 0          | 0          | 0          | 0          | \n",
       "| 3566       | 2013-06-14 | -87.54659  | 41.74064   | 0          | 1          | 0          | 0          | 0          | 2          | ...        | 0          | 0          | 0          | 0          | 1          | 0          | 0          | 0          | 0          | 0          | \n",
       "| 2198       | 2009-08-27 | -87.71628  | 41.84607   | 0          | 1          | 0          | 0          | 0          | 1          | ...        | 0          | 0          | 0          | 0          | 0          | 1          | 0          | 0          | 0          | 0          | \n",
       "| 3351       | 2011-09-16 | -87.55931  | 41.67862   | 0          | 0          | 1          | 0          | 0          | 1          | ...        | 0          | 0          | 0          | 0          | 0          | 0          | 1          | 0          | 0          | 0          | \n",
       "| 1612       | 2009-06-12 | -87.70305  | 41.77166   | 0          | 1          | 0          | 0          | 0          | 2          | ...        | 0          | 0          | 0          | 0          | 1          | 0          | 0          | 0          | 0          | 0          | \n",
       "\n",
       "\n"
      ],
      "text/plain": [
       "  X    Date       Longitude Latitude Season_code_1 Season_code_2 Season_code_3\n",
       "1 1545 2009-06-02 -87.54659 41.74064 0             1             0            \n",
       "2 3014 2011-08-12 -87.67146 41.94723 0             1             0            \n",
       "3 3566 2013-06-14 -87.54659 41.74064 0             1             0            \n",
       "4 2198 2009-08-27 -87.71628 41.84607 0             1             0            \n",
       "5 3351 2011-09-16 -87.55931 41.67862 0             0             1            \n",
       "6 1612 2009-06-12 -87.70305 41.77166 0             1             0            \n",
       "  CULEX_ERRATICUS CULEX_PIPIENS CULEX_PIPIENS_RESTUANS ... TrapClusterNum_2\n",
       "1 0               0             3                      ... 0               \n",
       "2 0               0             1                      ... 0               \n",
       "3 0               0             2                      ... 0               \n",
       "4 0               0             1                      ... 0               \n",
       "5 0               0             1                      ... 0               \n",
       "6 0               0             2                      ... 0               \n",
       "  TrapClusterNum_10 TrapClusterNum_4 TrapClusterNum_3 Month_6 Month_8 Month_9\n",
       "1 0                 0                0                1       0       0      \n",
       "2 0                 0                0                0       1       0      \n",
       "3 0                 0                0                1       0       0      \n",
       "4 0                 0                0                0       1       0      \n",
       "5 0                 0                0                0       0       1      \n",
       "6 0                 0                0                1       0       0      \n",
       "  Month_10 Month_7 Month_5\n",
       "1 0        0       0      \n",
       "2 0        0       0      \n",
       "3 0        0       0      \n",
       "4 0        0       0      \n",
       "5 0        0       0      \n",
       "6 0        0       0      "
      ]
     },
     "metadata": {},
     "output_type": "display_data"
    },
    {
     "data": {
      "text/html": [
       "<table>\n",
       "<thead><tr><th scope=col>X</th><th scope=col>Date</th><th scope=col>Longitude</th><th scope=col>Latitude</th><th scope=col>Season_code_1</th><th scope=col>Season_code_2</th><th scope=col>Season_code_3</th><th scope=col>CULEX_ERRATICUS</th><th scope=col>CULEX_PIPIENS</th><th scope=col>CULEX_PIPIENS_RESTUANS</th><th scope=col>...</th><th scope=col>TrapClusterNum_2</th><th scope=col>TrapClusterNum_10</th><th scope=col>TrapClusterNum_4</th><th scope=col>TrapClusterNum_3</th><th scope=col>Month_6</th><th scope=col>Month_8</th><th scope=col>Month_9</th><th scope=col>Month_10</th><th scope=col>Month_7</th><th scope=col>Month_5</th></tr></thead>\n",
       "<tbody>\n",
       "\t<tr><td>1545      </td><td>2009-06-02</td><td>-87.54659 </td><td>41.74064  </td><td>0         </td><td>1         </td><td>0         </td><td>0         </td><td>0         </td><td>3         </td><td>...       </td><td>0         </td><td>0         </td><td>0         </td><td>0         </td><td>1         </td><td>0         </td><td>0         </td><td>0         </td><td>0         </td><td>0         </td></tr>\n",
       "\t<tr><td>3014      </td><td>2011-08-12</td><td>-87.67146 </td><td>41.94723  </td><td>0         </td><td>1         </td><td>0         </td><td>0         </td><td>0         </td><td>1         </td><td>...       </td><td>0         </td><td>0         </td><td>0         </td><td>0         </td><td>0         </td><td>1         </td><td>0         </td><td>0         </td><td>0         </td><td>0         </td></tr>\n",
       "\t<tr><td>3566      </td><td>2013-06-14</td><td>-87.54659 </td><td>41.74064  </td><td>0         </td><td>1         </td><td>0         </td><td>0         </td><td>0         </td><td>2         </td><td>...       </td><td>0         </td><td>0         </td><td>0         </td><td>0         </td><td>1         </td><td>0         </td><td>0         </td><td>0         </td><td>0         </td><td>0         </td></tr>\n",
       "\t<tr><td>2198      </td><td>2009-08-27</td><td>-87.71628 </td><td>41.84607  </td><td>0         </td><td>1         </td><td>0         </td><td>0         </td><td>0         </td><td>1         </td><td>...       </td><td>0         </td><td>0         </td><td>0         </td><td>0         </td><td>0         </td><td>1         </td><td>0         </td><td>0         </td><td>0         </td><td>0         </td></tr>\n",
       "\t<tr><td>3351      </td><td>2011-09-16</td><td>-87.55931 </td><td>41.67862  </td><td>0         </td><td>0         </td><td>1         </td><td>0         </td><td>0         </td><td>1         </td><td>...       </td><td>0         </td><td>0         </td><td>0         </td><td>0         </td><td>0         </td><td>0         </td><td>1         </td><td>0         </td><td>0         </td><td>0         </td></tr>\n",
       "\t<tr><td>1612      </td><td>2009-06-12</td><td>-87.70305 </td><td>41.77166  </td><td>0         </td><td>1         </td><td>0         </td><td>0         </td><td>0         </td><td>2         </td><td>...       </td><td>0         </td><td>0         </td><td>0         </td><td>0         </td><td>1         </td><td>0         </td><td>0         </td><td>0         </td><td>0         </td><td>0         </td></tr>\n",
       "</tbody>\n",
       "</table>\n"
      ],
      "text/latex": [
       "\\begin{tabular}{r|llllllllllllllllllllllllllllllllllllllllllllllllllllllllllllllllllllllllllll}\n",
       " X & Date & Longitude & Latitude & Season\\_code\\_1 & Season\\_code\\_2 & Season\\_code\\_3 & CULEX\\_ERRATICUS & CULEX\\_PIPIENS & CULEX\\_PIPIENS\\_RESTUANS & ... & TrapClusterNum\\_2 & TrapClusterNum\\_10 & TrapClusterNum\\_4 & TrapClusterNum\\_3 & Month\\_6 & Month\\_8 & Month\\_9 & Month\\_10 & Month\\_7 & Month\\_5\\\\\n",
       "\\hline\n",
       "\t 1545       & 2009-06-02 & -87.54659  & 41.74064   & 0          & 1          & 0          & 0          & 0          & 3          & ...        & 0          & 0          & 0          & 0          & 1          & 0          & 0          & 0          & 0          & 0         \\\\\n",
       "\t 3014       & 2011-08-12 & -87.67146  & 41.94723   & 0          & 1          & 0          & 0          & 0          & 1          & ...        & 0          & 0          & 0          & 0          & 0          & 1          & 0          & 0          & 0          & 0         \\\\\n",
       "\t 3566       & 2013-06-14 & -87.54659  & 41.74064   & 0          & 1          & 0          & 0          & 0          & 2          & ...        & 0          & 0          & 0          & 0          & 1          & 0          & 0          & 0          & 0          & 0         \\\\\n",
       "\t 2198       & 2009-08-27 & -87.71628  & 41.84607   & 0          & 1          & 0          & 0          & 0          & 1          & ...        & 0          & 0          & 0          & 0          & 0          & 1          & 0          & 0          & 0          & 0         \\\\\n",
       "\t 3351       & 2011-09-16 & -87.55931  & 41.67862   & 0          & 0          & 1          & 0          & 0          & 1          & ...        & 0          & 0          & 0          & 0          & 0          & 0          & 1          & 0          & 0          & 0         \\\\\n",
       "\t 1612       & 2009-06-12 & -87.70305  & 41.77166   & 0          & 1          & 0          & 0          & 0          & 2          & ...        & 0          & 0          & 0          & 0          & 1          & 0          & 0          & 0          & 0          & 0         \\\\\n",
       "\\end{tabular}\n"
      ],
      "text/markdown": [
       "\n",
       "X | Date | Longitude | Latitude | Season_code_1 | Season_code_2 | Season_code_3 | CULEX_ERRATICUS | CULEX_PIPIENS | CULEX_PIPIENS_RESTUANS | ... | TrapClusterNum_2 | TrapClusterNum_10 | TrapClusterNum_4 | TrapClusterNum_3 | Month_6 | Month_8 | Month_9 | Month_10 | Month_7 | Month_5 | \n",
       "|---|---|---|---|---|---|\n",
       "| 1545       | 2009-06-02 | -87.54659  | 41.74064   | 0          | 1          | 0          | 0          | 0          | 3          | ...        | 0          | 0          | 0          | 0          | 1          | 0          | 0          | 0          | 0          | 0          | \n",
       "| 3014       | 2011-08-12 | -87.67146  | 41.94723   | 0          | 1          | 0          | 0          | 0          | 1          | ...        | 0          | 0          | 0          | 0          | 0          | 1          | 0          | 0          | 0          | 0          | \n",
       "| 3566       | 2013-06-14 | -87.54659  | 41.74064   | 0          | 1          | 0          | 0          | 0          | 2          | ...        | 0          | 0          | 0          | 0          | 1          | 0          | 0          | 0          | 0          | 0          | \n",
       "| 2198       | 2009-08-27 | -87.71628  | 41.84607   | 0          | 1          | 0          | 0          | 0          | 1          | ...        | 0          | 0          | 0          | 0          | 0          | 1          | 0          | 0          | 0          | 0          | \n",
       "| 3351       | 2011-09-16 | -87.55931  | 41.67862   | 0          | 0          | 1          | 0          | 0          | 1          | ...        | 0          | 0          | 0          | 0          | 0          | 0          | 1          | 0          | 0          | 0          | \n",
       "| 1612       | 2009-06-12 | -87.70305  | 41.77166   | 0          | 1          | 0          | 0          | 0          | 2          | ...        | 0          | 0          | 0          | 0          | 1          | 0          | 0          | 0          | 0          | 0          | \n",
       "\n",
       "\n"
      ],
      "text/plain": [
       "  X    Date       Longitude Latitude Season_code_1 Season_code_2 Season_code_3\n",
       "1 1545 2009-06-02 -87.54659 41.74064 0             1             0            \n",
       "2 3014 2011-08-12 -87.67146 41.94723 0             1             0            \n",
       "3 3566 2013-06-14 -87.54659 41.74064 0             1             0            \n",
       "4 2198 2009-08-27 -87.71628 41.84607 0             1             0            \n",
       "5 3351 2011-09-16 -87.55931 41.67862 0             0             1            \n",
       "6 1612 2009-06-12 -87.70305 41.77166 0             1             0            \n",
       "  CULEX_ERRATICUS CULEX_PIPIENS CULEX_PIPIENS_RESTUANS ... TrapClusterNum_2\n",
       "1 0               0             3                      ... 0               \n",
       "2 0               0             1                      ... 0               \n",
       "3 0               0             2                      ... 0               \n",
       "4 0               0             1                      ... 0               \n",
       "5 0               0             1                      ... 0               \n",
       "6 0               0             2                      ... 0               \n",
       "  TrapClusterNum_10 TrapClusterNum_4 TrapClusterNum_3 Month_6 Month_8 Month_9\n",
       "1 0                 0                0                1       0       0      \n",
       "2 0                 0                0                0       1       0      \n",
       "3 0                 0                0                1       0       0      \n",
       "4 0                 0                0                0       1       0      \n",
       "5 0                 0                0                0       0       1      \n",
       "6 0                 0                0                1       0       0      \n",
       "  Month_10 Month_7 Month_5\n",
       "1 0        0       0      \n",
       "2 0        0       0      \n",
       "3 0        0       0      \n",
       "4 0        0       0      \n",
       "5 0        0       0      \n",
       "6 0        0       0      "
      ]
     },
     "metadata": {},
     "output_type": "display_data"
    }
   ],
   "source": [
    "head(X_traino)\n",
    "head(TRAINo)"
   ]
  },
  {
   "cell_type": "code",
   "execution_count": 36,
   "metadata": {},
   "outputs": [],
   "source": [
    "write.csv(X_traino, file=\"C:/Users/Chen/Project/data/X_traino.csv\", row.names =F)\n",
    "write.csv(TRAINo, file=\"C:/Users/Chen/Project/data/TRAINo.csv\", row.names =F)"
   ]
  },
  {
   "cell_type": "code",
   "execution_count": 37,
   "metadata": {},
   "outputs": [
    {
     "data": {
      "text/html": [
       "<ol class=list-inline>\n",
       "\t<li>461</li>\n",
       "\t<li>63</li>\n",
       "</ol>\n"
      ],
      "text/latex": [
       "\\begin{enumerate*}\n",
       "\\item 461\n",
       "\\item 63\n",
       "\\end{enumerate*}\n"
      ],
      "text/markdown": [
       "1. 461\n",
       "2. 63\n",
       "\n",
       "\n"
      ],
      "text/plain": [
       "[1] 461  63"
      ]
     },
     "metadata": {},
     "output_type": "display_data"
    },
    {
     "data": {
      "text/html": [
       "<table>\n",
       "<thead><tr><th scope=col>X</th><th scope=col>Date</th><th scope=col>Longitude</th><th scope=col>Latitude</th><th scope=col>Month</th><th scope=col>Season_code_1</th><th scope=col>Season_code_2</th><th scope=col>Season_code_3</th><th scope=col>CULEX_ERRATICUS</th><th scope=col>CULEX_PIPIENS</th><th scope=col>...</th><th scope=col>RA</th><th scope=col>RA45</th><th scope=col>TS</th><th scope=col>TSRA</th><th scope=col>VCTS</th><th scope=col>pre45_1_2</th><th scope=col>pre45_1</th><th scope=col>pre45_05</th><th scope=col>TrapClusterNum</th><th scope=col>dataset</th></tr></thead>\n",
       "<tbody>\n",
       "\t<tr><td>1214      </td><td>2007-09-19</td><td>-87.72655 </td><td>41.82561  </td><td>9         </td><td>0         </td><td>0         </td><td>1         </td><td>0         </td><td> 0        </td><td>...       </td><td>0         </td><td>17.00000  </td><td>0         </td><td>0         </td><td>0         </td><td>1         </td><td>1         </td><td>1         </td><td>8         </td><td>test      </td></tr>\n",
       "\t<tr><td>2381      </td><td>2009-09-25</td><td>-87.75241 </td><td>41.77830  </td><td>9         </td><td>0         </td><td>0         </td><td>1         </td><td>0         </td><td> 0        </td><td>...       </td><td>1         </td><td>11.00000  </td><td>0         </td><td>0         </td><td>0         </td><td>1         </td><td>0         </td><td>1         </td><td>8         </td><td>test      </td></tr>\n",
       "\t<tr><td>1745      </td><td>2009-06-26</td><td>-87.59986 </td><td>41.67341  </td><td>6         </td><td>0         </td><td>1         </td><td>0         </td><td>0         </td><td> 1        </td><td>...       </td><td>0         </td><td>15.00000  </td><td>0         </td><td>0         </td><td>0         </td><td>1         </td><td>1         </td><td>1         </td><td>5         </td><td>test      </td></tr>\n",
       "\t<tr><td>  20      </td><td>2007-06-05</td><td>-87.81283 </td><td>41.98196  </td><td>6         </td><td>0         </td><td>1         </td><td>0         </td><td>0         </td><td> 0        </td><td>...       </td><td>1         </td><td>16.31623  </td><td>0         </td><td>0         </td><td>0         </td><td>1         </td><td>1         </td><td>1         </td><td>2         </td><td>test      </td></tr>\n",
       "\t<tr><td>2275      </td><td>2009-09-14</td><td>-87.69499 </td><td>41.85740  </td><td>9         </td><td>0         </td><td>0         </td><td>1         </td><td>0         </td><td> 0        </td><td>...       </td><td>0         </td><td>12.00000  </td><td>0         </td><td>0         </td><td>0         </td><td>1         </td><td>0         </td><td>1         </td><td>1         </td><td>test      </td></tr>\n",
       "\t<tr><td> 468      </td><td>2007-08-01</td><td>-87.66634 </td><td>41.82254  </td><td>8         </td><td>0         </td><td>1         </td><td>0         </td><td>0         </td><td>12        </td><td>...       </td><td>0         </td><td>12.00000  </td><td>0         </td><td>0         </td><td>0         </td><td>0         </td><td>1         </td><td>1         </td><td>1         </td><td>test      </td></tr>\n",
       "</tbody>\n",
       "</table>\n"
      ],
      "text/latex": [
       "\\begin{tabular}{r|lllllllllllllllllllllllllllllllllllllllllllllllllllllllllllllll}\n",
       " X & Date & Longitude & Latitude & Month & Season\\_code\\_1 & Season\\_code\\_2 & Season\\_code\\_3 & CULEX\\_ERRATICUS & CULEX\\_PIPIENS & ... & RA & RA45 & TS & TSRA & VCTS & pre45\\_1\\_2 & pre45\\_1 & pre45\\_05 & TrapClusterNum & dataset\\\\\n",
       "\\hline\n",
       "\t 1214       & 2007-09-19 & -87.72655  & 41.82561   & 9          & 0          & 0          & 1          & 0          &  0         & ...        & 0          & 17.00000   & 0          & 0          & 0          & 1          & 1          & 1          & 8          & test      \\\\\n",
       "\t 2381       & 2009-09-25 & -87.75241  & 41.77830   & 9          & 0          & 0          & 1          & 0          &  0         & ...        & 1          & 11.00000   & 0          & 0          & 0          & 1          & 0          & 1          & 8          & test      \\\\\n",
       "\t 1745       & 2009-06-26 & -87.59986  & 41.67341   & 6          & 0          & 1          & 0          & 0          &  1         & ...        & 0          & 15.00000   & 0          & 0          & 0          & 1          & 1          & 1          & 5          & test      \\\\\n",
       "\t   20       & 2007-06-05 & -87.81283  & 41.98196   & 6          & 0          & 1          & 0          & 0          &  0         & ...        & 1          & 16.31623   & 0          & 0          & 0          & 1          & 1          & 1          & 2          & test      \\\\\n",
       "\t 2275       & 2009-09-14 & -87.69499  & 41.85740   & 9          & 0          & 0          & 1          & 0          &  0         & ...        & 0          & 12.00000   & 0          & 0          & 0          & 1          & 0          & 1          & 1          & test      \\\\\n",
       "\t  468       & 2007-08-01 & -87.66634  & 41.82254   & 8          & 0          & 1          & 0          & 0          & 12         & ...        & 0          & 12.00000   & 0          & 0          & 0          & 0          & 1          & 1          & 1          & test      \\\\\n",
       "\\end{tabular}\n"
      ],
      "text/markdown": [
       "\n",
       "X | Date | Longitude | Latitude | Month | Season_code_1 | Season_code_2 | Season_code_3 | CULEX_ERRATICUS | CULEX_PIPIENS | ... | RA | RA45 | TS | TSRA | VCTS | pre45_1_2 | pre45_1 | pre45_05 | TrapClusterNum | dataset | \n",
       "|---|---|---|---|---|---|\n",
       "| 1214       | 2007-09-19 | -87.72655  | 41.82561   | 9          | 0          | 0          | 1          | 0          |  0         | ...        | 0          | 17.00000   | 0          | 0          | 0          | 1          | 1          | 1          | 8          | test       | \n",
       "| 2381       | 2009-09-25 | -87.75241  | 41.77830   | 9          | 0          | 0          | 1          | 0          |  0         | ...        | 1          | 11.00000   | 0          | 0          | 0          | 1          | 0          | 1          | 8          | test       | \n",
       "| 1745       | 2009-06-26 | -87.59986  | 41.67341   | 6          | 0          | 1          | 0          | 0          |  1         | ...        | 0          | 15.00000   | 0          | 0          | 0          | 1          | 1          | 1          | 5          | test       | \n",
       "|   20       | 2007-06-05 | -87.81283  | 41.98196   | 6          | 0          | 1          | 0          | 0          |  0         | ...        | 1          | 16.31623   | 0          | 0          | 0          | 1          | 1          | 1          | 2          | test       | \n",
       "| 2275       | 2009-09-14 | -87.69499  | 41.85740   | 9          | 0          | 0          | 1          | 0          |  0         | ...        | 0          | 12.00000   | 0          | 0          | 0          | 1          | 0          | 1          | 1          | test       | \n",
       "|  468       | 2007-08-01 | -87.66634  | 41.82254   | 8          | 0          | 1          | 0          | 0          | 12         | ...        | 0          | 12.00000   | 0          | 0          | 0          | 0          | 1          | 1          | 1          | test       | \n",
       "\n",
       "\n"
      ],
      "text/plain": [
       "  X    Date       Longitude Latitude Month Season_code_1 Season_code_2\n",
       "1 1214 2007-09-19 -87.72655 41.82561 9     0             0            \n",
       "2 2381 2009-09-25 -87.75241 41.77830 9     0             0            \n",
       "3 1745 2009-06-26 -87.59986 41.67341 6     0             1            \n",
       "4   20 2007-06-05 -87.81283 41.98196 6     0             1            \n",
       "5 2275 2009-09-14 -87.69499 41.85740 9     0             0            \n",
       "6  468 2007-08-01 -87.66634 41.82254 8     0             1            \n",
       "  Season_code_3 CULEX_ERRATICUS CULEX_PIPIENS ... RA RA45     TS TSRA VCTS\n",
       "1 1             0                0            ... 0  17.00000 0  0    0   \n",
       "2 1             0                0            ... 1  11.00000 0  0    0   \n",
       "3 0             0                1            ... 0  15.00000 0  0    0   \n",
       "4 0             0                0            ... 1  16.31623 0  0    0   \n",
       "5 1             0                0            ... 0  12.00000 0  0    0   \n",
       "6 0             0               12            ... 0  12.00000 0  0    0   \n",
       "  pre45_1_2 pre45_1 pre45_05 TrapClusterNum dataset\n",
       "1 1         1       1        8              test   \n",
       "2 1         0       1        8              test   \n",
       "3 1         1       1        5              test   \n",
       "4 1         1       1        2              test   \n",
       "5 1         0       1        1              test   \n",
       "6 0         1       1        1              test   "
      ]
     },
     "metadata": {},
     "output_type": "display_data"
    }
   ],
   "source": [
    "TEST <- read.csv(file=\"C:/Users/Chen/Project/data/TEST.csv\")\n",
    "dim(TEST)\n",
    "head(TEST)"
   ]
  },
  {
   "cell_type": "code",
   "execution_count": 38,
   "metadata": {},
   "outputs": [],
   "source": [
    "TEST$dataset<-NULL"
   ]
  },
  {
   "cell_type": "code",
   "execution_count": 39,
   "metadata": {},
   "outputs": [],
   "source": [
    "TEST <- fastDummies::dummy_cols(TEST, select_columns = \"TrapClusterNum\")\n",
    "TEST <- fastDummies::dummy_cols(TEST, select_columns = \"Month\")"
   ]
  },
  {
   "cell_type": "code",
   "execution_count": 40,
   "metadata": {},
   "outputs": [
    {
     "data": {
      "text/html": [
       "<ol class=list-inline>\n",
       "\t<li>461</li>\n",
       "\t<li>78</li>\n",
       "</ol>\n"
      ],
      "text/latex": [
       "\\begin{enumerate*}\n",
       "\\item 461\n",
       "\\item 78\n",
       "\\end{enumerate*}\n"
      ],
      "text/markdown": [
       "1. 461\n",
       "2. 78\n",
       "\n",
       "\n"
      ],
      "text/plain": [
       "[1] 461  78"
      ]
     },
     "metadata": {},
     "output_type": "display_data"
    },
    {
     "data": {
      "text/html": [
       "<table>\n",
       "<thead><tr><th scope=col>X</th><th scope=col>Date</th><th scope=col>Longitude</th><th scope=col>Latitude</th><th scope=col>Month</th><th scope=col>Season_code_1</th><th scope=col>Season_code_2</th><th scope=col>Season_code_3</th><th scope=col>CULEX_ERRATICUS</th><th scope=col>CULEX_PIPIENS</th><th scope=col>...</th><th scope=col>TrapClusterNum_7</th><th scope=col>TrapClusterNum_4</th><th scope=col>TrapClusterNum_9</th><th scope=col>TrapClusterNum_10</th><th scope=col>Month_9</th><th scope=col>Month_6</th><th scope=col>Month_8</th><th scope=col>Month_7</th><th scope=col>Month_5</th><th scope=col>Month_10</th></tr></thead>\n",
       "<tbody>\n",
       "\t<tr><td>1214      </td><td>2007-09-19</td><td>-87.72655 </td><td>41.82561  </td><td>9         </td><td>0         </td><td>0         </td><td>1         </td><td>0         </td><td> 0        </td><td>...       </td><td>0         </td><td>0         </td><td>0         </td><td>0         </td><td>1         </td><td>0         </td><td>0         </td><td>0         </td><td>0         </td><td>0         </td></tr>\n",
       "\t<tr><td>2381      </td><td>2009-09-25</td><td>-87.75241 </td><td>41.77830  </td><td>9         </td><td>0         </td><td>0         </td><td>1         </td><td>0         </td><td> 0        </td><td>...       </td><td>0         </td><td>0         </td><td>0         </td><td>0         </td><td>1         </td><td>0         </td><td>0         </td><td>0         </td><td>0         </td><td>0         </td></tr>\n",
       "\t<tr><td>1745      </td><td>2009-06-26</td><td>-87.59986 </td><td>41.67341  </td><td>6         </td><td>0         </td><td>1         </td><td>0         </td><td>0         </td><td> 1        </td><td>...       </td><td>0         </td><td>0         </td><td>0         </td><td>0         </td><td>0         </td><td>1         </td><td>0         </td><td>0         </td><td>0         </td><td>0         </td></tr>\n",
       "\t<tr><td>  20      </td><td>2007-06-05</td><td>-87.81283 </td><td>41.98196  </td><td>6         </td><td>0         </td><td>1         </td><td>0         </td><td>0         </td><td> 0        </td><td>...       </td><td>0         </td><td>0         </td><td>0         </td><td>0         </td><td>0         </td><td>1         </td><td>0         </td><td>0         </td><td>0         </td><td>0         </td></tr>\n",
       "\t<tr><td>2275      </td><td>2009-09-14</td><td>-87.69499 </td><td>41.85740  </td><td>9         </td><td>0         </td><td>0         </td><td>1         </td><td>0         </td><td> 0        </td><td>...       </td><td>0         </td><td>0         </td><td>0         </td><td>0         </td><td>1         </td><td>0         </td><td>0         </td><td>0         </td><td>0         </td><td>0         </td></tr>\n",
       "\t<tr><td> 468      </td><td>2007-08-01</td><td>-87.66634 </td><td>41.82254  </td><td>8         </td><td>0         </td><td>1         </td><td>0         </td><td>0         </td><td>12        </td><td>...       </td><td>0         </td><td>0         </td><td>0         </td><td>0         </td><td>0         </td><td>0         </td><td>1         </td><td>0         </td><td>0         </td><td>0         </td></tr>\n",
       "</tbody>\n",
       "</table>\n"
      ],
      "text/latex": [
       "\\begin{tabular}{r|llllllllllllllllllllllllllllllllllllllllllllllllllllllllllllllllllllllllllllll}\n",
       " X & Date & Longitude & Latitude & Month & Season\\_code\\_1 & Season\\_code\\_2 & Season\\_code\\_3 & CULEX\\_ERRATICUS & CULEX\\_PIPIENS & ... & TrapClusterNum\\_7 & TrapClusterNum\\_4 & TrapClusterNum\\_9 & TrapClusterNum\\_10 & Month\\_9 & Month\\_6 & Month\\_8 & Month\\_7 & Month\\_5 & Month\\_10\\\\\n",
       "\\hline\n",
       "\t 1214       & 2007-09-19 & -87.72655  & 41.82561   & 9          & 0          & 0          & 1          & 0          &  0         & ...        & 0          & 0          & 0          & 0          & 1          & 0          & 0          & 0          & 0          & 0         \\\\\n",
       "\t 2381       & 2009-09-25 & -87.75241  & 41.77830   & 9          & 0          & 0          & 1          & 0          &  0         & ...        & 0          & 0          & 0          & 0          & 1          & 0          & 0          & 0          & 0          & 0         \\\\\n",
       "\t 1745       & 2009-06-26 & -87.59986  & 41.67341   & 6          & 0          & 1          & 0          & 0          &  1         & ...        & 0          & 0          & 0          & 0          & 0          & 1          & 0          & 0          & 0          & 0         \\\\\n",
       "\t   20       & 2007-06-05 & -87.81283  & 41.98196   & 6          & 0          & 1          & 0          & 0          &  0         & ...        & 0          & 0          & 0          & 0          & 0          & 1          & 0          & 0          & 0          & 0         \\\\\n",
       "\t 2275       & 2009-09-14 & -87.69499  & 41.85740   & 9          & 0          & 0          & 1          & 0          &  0         & ...        & 0          & 0          & 0          & 0          & 1          & 0          & 0          & 0          & 0          & 0         \\\\\n",
       "\t  468       & 2007-08-01 & -87.66634  & 41.82254   & 8          & 0          & 1          & 0          & 0          & 12         & ...        & 0          & 0          & 0          & 0          & 0          & 0          & 1          & 0          & 0          & 0         \\\\\n",
       "\\end{tabular}\n"
      ],
      "text/markdown": [
       "\n",
       "X | Date | Longitude | Latitude | Month | Season_code_1 | Season_code_2 | Season_code_3 | CULEX_ERRATICUS | CULEX_PIPIENS | ... | TrapClusterNum_7 | TrapClusterNum_4 | TrapClusterNum_9 | TrapClusterNum_10 | Month_9 | Month_6 | Month_8 | Month_7 | Month_5 | Month_10 | \n",
       "|---|---|---|---|---|---|\n",
       "| 1214       | 2007-09-19 | -87.72655  | 41.82561   | 9          | 0          | 0          | 1          | 0          |  0         | ...        | 0          | 0          | 0          | 0          | 1          | 0          | 0          | 0          | 0          | 0          | \n",
       "| 2381       | 2009-09-25 | -87.75241  | 41.77830   | 9          | 0          | 0          | 1          | 0          |  0         | ...        | 0          | 0          | 0          | 0          | 1          | 0          | 0          | 0          | 0          | 0          | \n",
       "| 1745       | 2009-06-26 | -87.59986  | 41.67341   | 6          | 0          | 1          | 0          | 0          |  1         | ...        | 0          | 0          | 0          | 0          | 0          | 1          | 0          | 0          | 0          | 0          | \n",
       "|   20       | 2007-06-05 | -87.81283  | 41.98196   | 6          | 0          | 1          | 0          | 0          |  0         | ...        | 0          | 0          | 0          | 0          | 0          | 1          | 0          | 0          | 0          | 0          | \n",
       "| 2275       | 2009-09-14 | -87.69499  | 41.85740   | 9          | 0          | 0          | 1          | 0          |  0         | ...        | 0          | 0          | 0          | 0          | 1          | 0          | 0          | 0          | 0          | 0          | \n",
       "|  468       | 2007-08-01 | -87.66634  | 41.82254   | 8          | 0          | 1          | 0          | 0          | 12         | ...        | 0          | 0          | 0          | 0          | 0          | 0          | 1          | 0          | 0          | 0          | \n",
       "\n",
       "\n"
      ],
      "text/plain": [
       "  X    Date       Longitude Latitude Month Season_code_1 Season_code_2\n",
       "1 1214 2007-09-19 -87.72655 41.82561 9     0             0            \n",
       "2 2381 2009-09-25 -87.75241 41.77830 9     0             0            \n",
       "3 1745 2009-06-26 -87.59986 41.67341 6     0             1            \n",
       "4   20 2007-06-05 -87.81283 41.98196 6     0             1            \n",
       "5 2275 2009-09-14 -87.69499 41.85740 9     0             0            \n",
       "6  468 2007-08-01 -87.66634 41.82254 8     0             1            \n",
       "  Season_code_3 CULEX_ERRATICUS CULEX_PIPIENS ... TrapClusterNum_7\n",
       "1 1             0                0            ... 0               \n",
       "2 1             0                0            ... 0               \n",
       "3 0             0                1            ... 0               \n",
       "4 0             0                0            ... 0               \n",
       "5 1             0                0            ... 0               \n",
       "6 0             0               12            ... 0               \n",
       "  TrapClusterNum_4 TrapClusterNum_9 TrapClusterNum_10 Month_9 Month_6 Month_8\n",
       "1 0                0                0                 1       0       0      \n",
       "2 0                0                0                 1       0       0      \n",
       "3 0                0                0                 0       1       0      \n",
       "4 0                0                0                 0       1       0      \n",
       "5 0                0                0                 1       0       0      \n",
       "6 0                0                0                 0       0       1      \n",
       "  Month_7 Month_5 Month_10\n",
       "1 0       0       0       \n",
       "2 0       0       0       \n",
       "3 0       0       0       \n",
       "4 0       0       0       \n",
       "5 0       0       0       \n",
       "6 0       0       0       "
      ]
     },
     "metadata": {},
     "output_type": "display_data"
    }
   ],
   "source": [
    "dim(TEST)\n",
    "head(TEST)"
   ]
  },
  {
   "cell_type": "code",
   "execution_count": 41,
   "metadata": {},
   "outputs": [],
   "source": [
    "TEST$Month<-NULL\n",
    "TEST$TrapClusterNum<-NULL"
   ]
  },
  {
   "cell_type": "code",
   "execution_count": 43,
   "metadata": {},
   "outputs": [],
   "source": [
    "TESTo<-TEST"
   ]
  },
  {
   "cell_type": "code",
   "execution_count": 44,
   "metadata": {},
   "outputs": [
    {
     "data": {
      "text/html": [
       "<ol class=list-inline>\n",
       "\t<li>461</li>\n",
       "\t<li>76</li>\n",
       "</ol>\n"
      ],
      "text/latex": [
       "\\begin{enumerate*}\n",
       "\\item 461\n",
       "\\item 76\n",
       "\\end{enumerate*}\n"
      ],
      "text/markdown": [
       "1. 461\n",
       "2. 76\n",
       "\n",
       "\n"
      ],
      "text/plain": [
       "[1] 461  76"
      ]
     },
     "metadata": {},
     "output_type": "display_data"
    },
    {
     "data": {
      "text/html": [
       "<table>\n",
       "<thead><tr><th scope=col>X</th><th scope=col>Date</th><th scope=col>Longitude</th><th scope=col>Latitude</th><th scope=col>Season_code_1</th><th scope=col>Season_code_2</th><th scope=col>Season_code_3</th><th scope=col>CULEX_ERRATICUS</th><th scope=col>CULEX_PIPIENS</th><th scope=col>CULEX_PIPIENS_RESTUANS</th><th scope=col>...</th><th scope=col>TrapClusterNum_7</th><th scope=col>TrapClusterNum_4</th><th scope=col>TrapClusterNum_9</th><th scope=col>TrapClusterNum_10</th><th scope=col>Month_9</th><th scope=col>Month_6</th><th scope=col>Month_8</th><th scope=col>Month_7</th><th scope=col>Month_5</th><th scope=col>Month_10</th></tr></thead>\n",
       "<tbody>\n",
       "\t<tr><td>1214      </td><td>2007-09-19</td><td>-87.72655 </td><td>41.82561  </td><td>0         </td><td>0         </td><td>1         </td><td>0         </td><td> 0        </td><td> 4        </td><td>...       </td><td>0         </td><td>0         </td><td>0         </td><td>0         </td><td>1         </td><td>0         </td><td>0         </td><td>0         </td><td>0         </td><td>0         </td></tr>\n",
       "\t<tr><td>2381      </td><td>2009-09-25</td><td>-87.75241 </td><td>41.77830  </td><td>0         </td><td>0         </td><td>1         </td><td>0         </td><td> 0        </td><td> 4        </td><td>...       </td><td>0         </td><td>0         </td><td>0         </td><td>0         </td><td>1         </td><td>0         </td><td>0         </td><td>0         </td><td>0         </td><td>0         </td></tr>\n",
       "\t<tr><td>1745      </td><td>2009-06-26</td><td>-87.59986 </td><td>41.67341  </td><td>0         </td><td>1         </td><td>0         </td><td>0         </td><td> 1        </td><td> 1        </td><td>...       </td><td>0         </td><td>0         </td><td>0         </td><td>0         </td><td>0         </td><td>1         </td><td>0         </td><td>0         </td><td>0         </td><td>0         </td></tr>\n",
       "\t<tr><td>  20      </td><td>2007-06-05</td><td>-87.81283 </td><td>41.98196  </td><td>0         </td><td>1         </td><td>0         </td><td>0         </td><td> 0        </td><td> 0        </td><td>...       </td><td>0         </td><td>0         </td><td>0         </td><td>0         </td><td>0         </td><td>1         </td><td>0         </td><td>0         </td><td>0         </td><td>0         </td></tr>\n",
       "\t<tr><td>2275      </td><td>2009-09-14</td><td>-87.69499 </td><td>41.85740  </td><td>0         </td><td>0         </td><td>1         </td><td>0         </td><td> 0        </td><td> 1        </td><td>...       </td><td>0         </td><td>0         </td><td>0         </td><td>0         </td><td>1         </td><td>0         </td><td>0         </td><td>0         </td><td>0         </td><td>0         </td></tr>\n",
       "\t<tr><td> 468      </td><td>2007-08-01</td><td>-87.66634 </td><td>41.82254  </td><td>0         </td><td>1         </td><td>0         </td><td>0         </td><td>12        </td><td>65        </td><td>...       </td><td>0         </td><td>0         </td><td>0         </td><td>0         </td><td>0         </td><td>0         </td><td>1         </td><td>0         </td><td>0         </td><td>0         </td></tr>\n",
       "</tbody>\n",
       "</table>\n"
      ],
      "text/latex": [
       "\\begin{tabular}{r|llllllllllllllllllllllllllllllllllllllllllllllllllllllllllllllllllllllllllll}\n",
       " X & Date & Longitude & Latitude & Season\\_code\\_1 & Season\\_code\\_2 & Season\\_code\\_3 & CULEX\\_ERRATICUS & CULEX\\_PIPIENS & CULEX\\_PIPIENS\\_RESTUANS & ... & TrapClusterNum\\_7 & TrapClusterNum\\_4 & TrapClusterNum\\_9 & TrapClusterNum\\_10 & Month\\_9 & Month\\_6 & Month\\_8 & Month\\_7 & Month\\_5 & Month\\_10\\\\\n",
       "\\hline\n",
       "\t 1214       & 2007-09-19 & -87.72655  & 41.82561   & 0          & 0          & 1          & 0          &  0         &  4         & ...        & 0          & 0          & 0          & 0          & 1          & 0          & 0          & 0          & 0          & 0         \\\\\n",
       "\t 2381       & 2009-09-25 & -87.75241  & 41.77830   & 0          & 0          & 1          & 0          &  0         &  4         & ...        & 0          & 0          & 0          & 0          & 1          & 0          & 0          & 0          & 0          & 0         \\\\\n",
       "\t 1745       & 2009-06-26 & -87.59986  & 41.67341   & 0          & 1          & 0          & 0          &  1         &  1         & ...        & 0          & 0          & 0          & 0          & 0          & 1          & 0          & 0          & 0          & 0         \\\\\n",
       "\t   20       & 2007-06-05 & -87.81283  & 41.98196   & 0          & 1          & 0          & 0          &  0         &  0         & ...        & 0          & 0          & 0          & 0          & 0          & 1          & 0          & 0          & 0          & 0         \\\\\n",
       "\t 2275       & 2009-09-14 & -87.69499  & 41.85740   & 0          & 0          & 1          & 0          &  0         &  1         & ...        & 0          & 0          & 0          & 0          & 1          & 0          & 0          & 0          & 0          & 0         \\\\\n",
       "\t  468       & 2007-08-01 & -87.66634  & 41.82254   & 0          & 1          & 0          & 0          & 12         & 65         & ...        & 0          & 0          & 0          & 0          & 0          & 0          & 1          & 0          & 0          & 0         \\\\\n",
       "\\end{tabular}\n"
      ],
      "text/markdown": [
       "\n",
       "X | Date | Longitude | Latitude | Season_code_1 | Season_code_2 | Season_code_3 | CULEX_ERRATICUS | CULEX_PIPIENS | CULEX_PIPIENS_RESTUANS | ... | TrapClusterNum_7 | TrapClusterNum_4 | TrapClusterNum_9 | TrapClusterNum_10 | Month_9 | Month_6 | Month_8 | Month_7 | Month_5 | Month_10 | \n",
       "|---|---|---|---|---|---|\n",
       "| 1214       | 2007-09-19 | -87.72655  | 41.82561   | 0          | 0          | 1          | 0          |  0         |  4         | ...        | 0          | 0          | 0          | 0          | 1          | 0          | 0          | 0          | 0          | 0          | \n",
       "| 2381       | 2009-09-25 | -87.75241  | 41.77830   | 0          | 0          | 1          | 0          |  0         |  4         | ...        | 0          | 0          | 0          | 0          | 1          | 0          | 0          | 0          | 0          | 0          | \n",
       "| 1745       | 2009-06-26 | -87.59986  | 41.67341   | 0          | 1          | 0          | 0          |  1         |  1         | ...        | 0          | 0          | 0          | 0          | 0          | 1          | 0          | 0          | 0          | 0          | \n",
       "|   20       | 2007-06-05 | -87.81283  | 41.98196   | 0          | 1          | 0          | 0          |  0         |  0         | ...        | 0          | 0          | 0          | 0          | 0          | 1          | 0          | 0          | 0          | 0          | \n",
       "| 2275       | 2009-09-14 | -87.69499  | 41.85740   | 0          | 0          | 1          | 0          |  0         |  1         | ...        | 0          | 0          | 0          | 0          | 1          | 0          | 0          | 0          | 0          | 0          | \n",
       "|  468       | 2007-08-01 | -87.66634  | 41.82254   | 0          | 1          | 0          | 0          | 12         | 65         | ...        | 0          | 0          | 0          | 0          | 0          | 0          | 1          | 0          | 0          | 0          | \n",
       "\n",
       "\n"
      ],
      "text/plain": [
       "  X    Date       Longitude Latitude Season_code_1 Season_code_2 Season_code_3\n",
       "1 1214 2007-09-19 -87.72655 41.82561 0             0             1            \n",
       "2 2381 2009-09-25 -87.75241 41.77830 0             0             1            \n",
       "3 1745 2009-06-26 -87.59986 41.67341 0             1             0            \n",
       "4   20 2007-06-05 -87.81283 41.98196 0             1             0            \n",
       "5 2275 2009-09-14 -87.69499 41.85740 0             0             1            \n",
       "6  468 2007-08-01 -87.66634 41.82254 0             1             0            \n",
       "  CULEX_ERRATICUS CULEX_PIPIENS CULEX_PIPIENS_RESTUANS ... TrapClusterNum_7\n",
       "1 0                0             4                     ... 0               \n",
       "2 0                0             4                     ... 0               \n",
       "3 0                1             1                     ... 0               \n",
       "4 0                0             0                     ... 0               \n",
       "5 0                0             1                     ... 0               \n",
       "6 0               12            65                     ... 0               \n",
       "  TrapClusterNum_4 TrapClusterNum_9 TrapClusterNum_10 Month_9 Month_6 Month_8\n",
       "1 0                0                0                 1       0       0      \n",
       "2 0                0                0                 1       0       0      \n",
       "3 0                0                0                 0       1       0      \n",
       "4 0                0                0                 0       1       0      \n",
       "5 0                0                0                 1       0       0      \n",
       "6 0                0                0                 0       0       1      \n",
       "  Month_7 Month_5 Month_10\n",
       "1 0       0       0       \n",
       "2 0       0       0       \n",
       "3 0       0       0       \n",
       "4 0       0       0       \n",
       "5 0       0       0       \n",
       "6 0       0       0       "
      ]
     },
     "metadata": {},
     "output_type": "display_data"
    }
   ],
   "source": [
    "dim(TESTo)\n",
    "head(TESTo)"
   ]
  },
  {
   "cell_type": "code",
   "execution_count": 45,
   "metadata": {},
   "outputs": [],
   "source": [
    "write.csv(TESTo, file=\"C:/Users/Chen/Project/data/TESTo.csv\", row.names =F)"
   ]
  },
  {
   "cell_type": "code",
   "execution_count": null,
   "metadata": {},
   "outputs": [],
   "source": []
  }
 ],
 "metadata": {
  "kernelspec": {
   "display_name": "R",
   "language": "R",
   "name": "ir"
  },
  "language_info": {
   "codemirror_mode": "r",
   "file_extension": ".r",
   "mimetype": "text/x-r-source",
   "name": "R",
   "pygments_lexer": "r",
   "version": "3.5.1"
  }
 },
 "nbformat": 4,
 "nbformat_minor": 2
}
