{
 "cells": [
  {
   "cell_type": "code",
   "execution_count": 1,
   "metadata": {},
   "outputs": [
    {
     "name": "stderr",
     "output_type": "stream",
     "text": [
      "\n",
      "Attaching package: 'dplyr'\n",
      "\n",
      "The following objects are masked from 'package:stats':\n",
      "\n",
      "    filter, lag\n",
      "\n",
      "The following objects are masked from 'package:base':\n",
      "\n",
      "    intersect, setdiff, setequal, union\n",
      "\n",
      "\n",
      "Attaching package: 'data.table'\n",
      "\n",
      "The following objects are masked from 'package:dplyr':\n",
      "\n",
      "    between, first, last\n",
      "\n",
      "Warning message:\n",
      "\"package 'Hmisc' was built under R version 3.5.2\"Loading required package: lattice\n",
      "Loading required package: survival\n",
      "Loading required package: Formula\n",
      "\n",
      "Attaching package: 'Hmisc'\n",
      "\n",
      "The following objects are masked from 'package:dplyr':\n",
      "\n",
      "    src, summarize\n",
      "\n",
      "The following objects are masked from 'package:base':\n",
      "\n",
      "    format.pval, units\n",
      "\n",
      "Loading required package: geepack\n",
      "Loading required package: geeM\n",
      "Loading required package: Matrix\n"
     ]
    }
   ],
   "source": [
    "library(dplyr)\n",
    "library(ggplot2)\n",
    "library(data.table)\n",
    "library(Hmisc)\n",
    "library(MESS)"
   ]
  },
  {
   "cell_type": "code",
   "execution_count": 2,
   "metadata": {},
   "outputs": [],
   "source": [
    "w01 <- read.csv(file=\"C:/Users/Chen/Project/data/w01.csv\")"
   ]
  },
  {
   "cell_type": "code",
   "execution_count": 3,
   "metadata": {},
   "outputs": [
    {
     "name": "stderr",
     "output_type": "stream",
     "text": [
      "Warning message in read.table(file = file, header = header, sep = sep, quote = quote, :\n",
      "\"cols = 6 != length(data) = 10\""
     ]
    }
   ],
   "source": [
    "pre <- read.csv(file=\"C:/Users/Chen/Project/data/Precipitation 2007_2013.csv\",colClasses=rep(\"factor\",10))\n",
    "#Precipitation 2007_2013"
   ]
  },
  {
   "cell_type": "code",
   "execution_count": 4,
   "metadata": {},
   "outputs": [
    {
     "data": {
      "text/html": [
       "<table>\n",
       "<thead><tr><th scope=col>Year</th><th scope=col>Month</th><th scope=col>Day</th><th scope=col>Date</th><th scope=col>PrecipTotal</th><th scope=col>PrecipTotal2</th></tr></thead>\n",
       "<tbody>\n",
       "\t<tr><td>2007      </td><td>3         </td><td>1         </td><td>01/03/2007</td><td>1.09      </td><td>0.37      </td></tr>\n",
       "\t<tr><td>2007      </td><td>3         </td><td>2         </td><td>02/03/2007</td><td>0.06      </td><td>0.01      </td></tr>\n",
       "\t<tr><td>2007      </td><td>3         </td><td>3         </td><td>03/03/2007</td><td>0.02      </td><td>T         </td></tr>\n",
       "\t<tr><td>2007      </td><td>3         </td><td>4         </td><td>04/03/2007</td><td>0.00      </td><td>0.00      </td></tr>\n",
       "\t<tr><td>2007      </td><td>3         </td><td>5         </td><td>05/03/2007</td><td>0.00      </td><td>0.00      </td></tr>\n",
       "\t<tr><td>2007      </td><td>3         </td><td>6         </td><td>06/03/2007</td><td>0.05      </td><td>0.01      </td></tr>\n",
       "</tbody>\n",
       "</table>\n"
      ],
      "text/latex": [
       "\\begin{tabular}{r|llllll}\n",
       " Year & Month & Day & Date & PrecipTotal & PrecipTotal2\\\\\n",
       "\\hline\n",
       "\t 2007       & 3          & 1          & 01/03/2007 & 1.09       & 0.37      \\\\\n",
       "\t 2007       & 3          & 2          & 02/03/2007 & 0.06       & 0.01      \\\\\n",
       "\t 2007       & 3          & 3          & 03/03/2007 & 0.02       & T         \\\\\n",
       "\t 2007       & 3          & 4          & 04/03/2007 & 0.00       & 0.00      \\\\\n",
       "\t 2007       & 3          & 5          & 05/03/2007 & 0.00       & 0.00      \\\\\n",
       "\t 2007       & 3          & 6          & 06/03/2007 & 0.05       & 0.01      \\\\\n",
       "\\end{tabular}\n"
      ],
      "text/markdown": [
       "\n",
       "Year | Month | Day | Date | PrecipTotal | PrecipTotal2 | \n",
       "|---|---|---|---|---|---|\n",
       "| 2007       | 3          | 1          | 01/03/2007 | 1.09       | 0.37       | \n",
       "| 2007       | 3          | 2          | 02/03/2007 | 0.06       | 0.01       | \n",
       "| 2007       | 3          | 3          | 03/03/2007 | 0.02       | T          | \n",
       "| 2007       | 3          | 4          | 04/03/2007 | 0.00       | 0.00       | \n",
       "| 2007       | 3          | 5          | 05/03/2007 | 0.00       | 0.00       | \n",
       "| 2007       | 3          | 6          | 06/03/2007 | 0.05       | 0.01       | \n",
       "\n",
       "\n"
      ],
      "text/plain": [
       "  Year Month Day Date       PrecipTotal PrecipTotal2\n",
       "1 2007 3     1   01/03/2007 1.09        0.37        \n",
       "2 2007 3     2   02/03/2007 0.06        0.01        \n",
       "3 2007 3     3   03/03/2007 0.02        T           \n",
       "4 2007 3     4   04/03/2007 0.00        0.00        \n",
       "5 2007 3     5   05/03/2007 0.00        0.00        \n",
       "6 2007 3     6   06/03/2007 0.05        0.01        "
      ]
     },
     "metadata": {},
     "output_type": "display_data"
    },
    {
     "name": "stdout",
     "output_type": "stream",
     "text": [
      "'data.frame':\t244 obs. of  6 variables:\n",
      " $ Year        : Factor w/ 4 levels \"2007\",\"2009\",..: 1 1 1 1 1 1 1 1 1 1 ...\n",
      " $ Month       : Factor w/ 2 levels \"3\",\"4\": 1 1 1 1 1 1 1 1 1 1 ...\n",
      " $ Day         : Factor w/ 31 levels \"1\",\"10\",\"11\",..: 1 12 23 26 27 28 29 30 31 2 ...\n",
      " $ Date        : Factor w/ 244 levels \"01/03/2007\",\"01/03/2009\",..: 1 9 17 25 33 41 49 57 65 73 ...\n",
      " $ PrecipTotal : Factor w/ 53 levels \"0.00\",\"0.01\",..: 47 7 3 1 1 6 4 1 21 1 ...\n",
      " $ PrecipTotal2: Factor w/ 54 levels \"0.00\",\"0.01\",..: 28 2 54 1 1 2 2 1 16 54 ...\n"
     ]
    }
   ],
   "source": [
    "head(pre)\n",
    "str(pre)"
   ]
  },
  {
   "cell_type": "code",
   "execution_count": 5,
   "metadata": {},
   "outputs": [
    {
     "name": "stderr",
     "output_type": "stream",
     "text": [
      "Warning message in eval(expr, envir, enclos):\n",
      "\"NAs introduced by coercion\"Warning message in eval(expr, envir, enclos):\n",
      "\"NAs introduced by coercion\""
     ]
    }
   ],
   "source": [
    "pre$PrecipTotal<-as.numeric(as.matrix(pre$PrecipTotal))\n",
    "pre$PrecipTotal2<-as.numeric(as.matrix(pre$PrecipTotal2))"
   ]
  },
  {
   "cell_type": "code",
   "execution_count": 6,
   "metadata": {},
   "outputs": [],
   "source": [
    "pre$PrecipTotal[is.na(pre$PrecipTotal)] <- 0.001\n",
    "pre$PrecipTotal2[is.na(pre$PrecipTotal2)] <- 0.001"
   ]
  },
  {
   "cell_type": "code",
   "execution_count": 7,
   "metadata": {},
   "outputs": [],
   "source": [
    "pre$Date<- as.Date(pre$Date, format = \"%d/%m/%Y\")"
   ]
  },
  {
   "cell_type": "code",
   "execution_count": 8,
   "metadata": {},
   "outputs": [
    {
     "data": {
      "text/html": [
       "<table>\n",
       "<thead><tr><th scope=col>Year</th><th scope=col>Month</th><th scope=col>Day</th><th scope=col>Date</th><th scope=col>PrecipTotal</th><th scope=col>PrecipTotal2</th></tr></thead>\n",
       "<tbody>\n",
       "\t<tr><td>2007      </td><td>3         </td><td>1         </td><td>2007-03-01</td><td>1.09      </td><td>0.370     </td></tr>\n",
       "\t<tr><td>2007      </td><td>3         </td><td>2         </td><td>2007-03-02</td><td>0.06      </td><td>0.010     </td></tr>\n",
       "\t<tr><td>2007      </td><td>3         </td><td>3         </td><td>2007-03-03</td><td>0.02      </td><td>0.001     </td></tr>\n",
       "\t<tr><td>2007      </td><td>3         </td><td>4         </td><td>2007-03-04</td><td>0.00      </td><td>0.000     </td></tr>\n",
       "\t<tr><td>2007      </td><td>3         </td><td>5         </td><td>2007-03-05</td><td>0.00      </td><td>0.000     </td></tr>\n",
       "\t<tr><td>2007      </td><td>3         </td><td>6         </td><td>2007-03-06</td><td>0.05      </td><td>0.010     </td></tr>\n",
       "</tbody>\n",
       "</table>\n"
      ],
      "text/latex": [
       "\\begin{tabular}{r|llllll}\n",
       " Year & Month & Day & Date & PrecipTotal & PrecipTotal2\\\\\n",
       "\\hline\n",
       "\t 2007       & 3          & 1          & 2007-03-01 & 1.09       & 0.370     \\\\\n",
       "\t 2007       & 3          & 2          & 2007-03-02 & 0.06       & 0.010     \\\\\n",
       "\t 2007       & 3          & 3          & 2007-03-03 & 0.02       & 0.001     \\\\\n",
       "\t 2007       & 3          & 4          & 2007-03-04 & 0.00       & 0.000     \\\\\n",
       "\t 2007       & 3          & 5          & 2007-03-05 & 0.00       & 0.000     \\\\\n",
       "\t 2007       & 3          & 6          & 2007-03-06 & 0.05       & 0.010     \\\\\n",
       "\\end{tabular}\n"
      ],
      "text/markdown": [
       "\n",
       "Year | Month | Day | Date | PrecipTotal | PrecipTotal2 | \n",
       "|---|---|---|---|---|---|\n",
       "| 2007       | 3          | 1          | 2007-03-01 | 1.09       | 0.370      | \n",
       "| 2007       | 3          | 2          | 2007-03-02 | 0.06       | 0.010      | \n",
       "| 2007       | 3          | 3          | 2007-03-03 | 0.02       | 0.001      | \n",
       "| 2007       | 3          | 4          | 2007-03-04 | 0.00       | 0.000      | \n",
       "| 2007       | 3          | 5          | 2007-03-05 | 0.00       | 0.000      | \n",
       "| 2007       | 3          | 6          | 2007-03-06 | 0.05       | 0.010      | \n",
       "\n",
       "\n"
      ],
      "text/plain": [
       "  Year Month Day Date       PrecipTotal PrecipTotal2\n",
       "1 2007 3     1   2007-03-01 1.09        0.370       \n",
       "2 2007 3     2   2007-03-02 0.06        0.010       \n",
       "3 2007 3     3   2007-03-03 0.02        0.001       \n",
       "4 2007 3     4   2007-03-04 0.00        0.000       \n",
       "5 2007 3     5   2007-03-05 0.00        0.000       \n",
       "6 2007 3     6   2007-03-06 0.05        0.010       "
      ]
     },
     "metadata": {},
     "output_type": "display_data"
    },
    {
     "name": "stdout",
     "output_type": "stream",
     "text": [
      "'data.frame':\t244 obs. of  6 variables:\n",
      " $ Year        : Factor w/ 4 levels \"2007\",\"2009\",..: 1 1 1 1 1 1 1 1 1 1 ...\n",
      " $ Month       : Factor w/ 2 levels \"3\",\"4\": 1 1 1 1 1 1 1 1 1 1 ...\n",
      " $ Day         : Factor w/ 31 levels \"1\",\"10\",\"11\",..: 1 12 23 26 27 28 29 30 31 2 ...\n",
      " $ Date        : Date, format: \"2007-03-01\" \"2007-03-02\" ...\n",
      " $ PrecipTotal : num  1.09 0.06 0.02 0 0 0.05 0.03 0 0.28 0 ...\n",
      " $ PrecipTotal2: num  0.37 0.01 0.001 0 0 0.01 0.01 0 0.17 0.001 ...\n"
     ]
    }
   ],
   "source": [
    "head(pre)\n",
    "str(pre)"
   ]
  },
  {
   "cell_type": "code",
   "execution_count": 9,
   "metadata": {},
   "outputs": [],
   "source": [
    "w01$Date<- as.Date(w01$Date, format = \"%Y-%m-%d\")"
   ]
  },
  {
   "cell_type": "code",
   "execution_count": 10,
   "metadata": {},
   "outputs": [
    {
     "name": "stdout",
     "output_type": "stream",
     "text": [
      "'data.frame':\t1472 obs. of  74 variables:\n",
      " $ Date            : Date, format: \"2007-05-01\" \"2007-05-02\" ...\n",
      " $ ID              : int  1 2 3 4 5 6 7 8 9 10 ...\n",
      " $ Station2        : int  2 2 2 2 2 2 2 2 2 2 ...\n",
      " $ Tmax2           : int  84 60 67 78 66 68 84 80 76 83 ...\n",
      " $ Tmin2           : int  52 43 48 51 54 52 50 60 63 59 ...\n",
      " $ Tavg2           : int  33 17 23 NA 25 25 32 35 35 36 ...\n",
      " $ DewPoint2       : int  51 42 40 42 39 30 39 57 60 52 ...\n",
      " $ WetBulb2        : int  26 16 19 19 19 15 22 32 32 30 ...\n",
      " $ Heat2           : int  1 6 28 NA 26 26 1 1 1 1 ...\n",
      " $ Cool2           : int  4 1 1 NA 1 1 3 6 6 7 ...\n",
      " $ PrecipTotal2    : num  0 0 0 0 0 0 0 0 0.02 0 ...\n",
      " $ StnPressure2    : num  29.2 29.4 29.5 29.4 29.5 ...\n",
      " $ SeaLevel2       : num  29.8 30.1 30.1 30 30.1 ...\n",
      " $ ResultSpeed2    : num  2.7 13.3 12.9 10.1 11.2 13.8 8.5 2.5 3.9 2 ...\n",
      " $ ResultDir2      : int  25 2 6 7 7 10 17 8 7 9 ...\n",
      " $ AvgSpeed2       : num  9.6 13.4 13.2 10.4 11.5 14.5 9.9 5.4 5.9 3.9 ...\n",
      " $ BCFG2           : int  0 0 0 0 0 0 0 0 0 0 ...\n",
      " $ BR2             : int  0 1 0 0 0 0 0 0 1 1 ...\n",
      " $ DZ2             : int  0 0 0 0 0 0 0 0 0 0 ...\n",
      " $ FG2             : int  0 0 0 0 0 0 0 0 0 0 ...\n",
      " $ FG.2            : int  0 0 0 0 0 0 0 0 0 0 ...\n",
      " $ FU2             : int  0 0 0 0 0 0 0 0 0 0 ...\n",
      " $ GR2             : int  0 0 0 0 0 0 0 0 0 0 ...\n",
      " $ HZ2             : int  0 1 1 0 0 0 0 1 1 1 ...\n",
      " $ RA2             : int  0 0 0 0 0 0 0 0 0 0 ...\n",
      " $ SN2             : int  0 0 0 0 0 0 0 0 0 0 ...\n",
      " $ SQ2             : int  0 0 0 0 0 0 0 0 0 0 ...\n",
      " $ TS2             : int  0 0 0 0 0 0 0 0 0 0 ...\n",
      " $ TSRA2           : int  0 0 0 0 0 0 0 0 0 0 ...\n",
      " $ VCFG2           : int  0 0 0 0 0 0 0 0 0 0 ...\n",
      " $ VCTS2           : int  0 0 0 0 0 0 0 0 0 0 ...\n",
      " $ Tmax2.imp       : int  84 60 67 78 66 68 84 80 76 83 ...\n",
      " $ Tavg2.imp       : num  33 17 23 35.2 25 ...\n",
      " $ PrecipTotal2.imp: num  0 0 0 0 0 0 0 0 0.02 0 ...\n",
      " $ RA45.2          : int  NA NA NA NA NA NA NA NA NA NA ...\n",
      " $ PT45_gt052      : int  NA NA NA NA NA NA NA NA NA NA ...\n",
      " $ Station         : int  1 1 1 1 1 1 1 1 1 1 ...\n",
      " $ Tmax            : int  83 59 66 66 66 68 83 82 77 84 ...\n",
      " $ Tmin            : int  50 42 46 49 53 49 47 54 61 56 ...\n",
      " $ Tavg            : int  32 16 21 23 25 24 30 33 34 35 ...\n",
      " $ Depart          : int  32 11 20 22 23 22 28 30 31 32 ...\n",
      " $ DewPoint        : int  51 42 40 41 38 30 41 58 59 52 ...\n",
      " $ WetBulb         : int  25 16 17 19 18 15 23 31 32 29 ...\n",
      " $ Heat            : int  1 7 30 28 26 27 1 1 1 1 ...\n",
      " $ Cool            : int  3 1 1 1 1 1 1 4 5 6 ...\n",
      " $ Sunrise         : int  448 447 446 444 443 442 441 439 438 437 ...\n",
      " $ Sunset          : int  1849 1850 1851 1852 1853 1855 1856 1857 1858 1859 ...\n",
      " $ SnowFall        : num  0 0 0 0 0 0 0 0 0 0 ...\n",
      " $ PrecipTotal     : num  0 0 0 0 0 0 0 0 0.13 0 ...\n",
      " $ StnPressure     : num  29.1 29.4 29.4 29.3 29.4 ...\n",
      " $ SeaLevel        : num  29.8 30.1 30.1 30.1 30.1 ...\n",
      " $ ResultSpeed     : num  1.7 13 11.7 10.4 11.7 14.4 8.6 2.7 3.9 0.7 ...\n",
      " $ ResultDir       : int  27 4 7 8 7 11 18 11 9 17 ...\n",
      " $ AvgSpeed        : num  9.2 13.4 11.9 10.8 12 15 10.5 5.8 6.2 4.1 ...\n",
      " $ BCFG            : int  0 0 0 0 0 0 0 0 0 0 ...\n",
      " $ BR              : int  0 1 0 0 0 0 0 1 1 1 ...\n",
      " $ DZ              : int  0 0 0 0 0 0 0 0 0 0 ...\n",
      " $ FG              : int  0 0 0 0 0 0 0 0 0 0 ...\n",
      " $ FG.             : int  0 0 0 0 0 0 0 0 0 0 ...\n",
      " $ FU              : int  0 0 0 0 0 0 0 0 0 0 ...\n",
      " $ HZ              : int  0 0 0 0 0 0 0 0 1 0 ...\n",
      " $ MIFG            : int  0 0 0 0 0 0 0 0 0 0 ...\n",
      " $ RA              : int  0 0 0 1 0 0 1 0 0 0 ...\n",
      " $ SN              : int  0 0 0 0 0 0 0 0 0 0 ...\n",
      " $ SQ              : int  0 0 0 0 0 0 0 0 0 0 ...\n",
      " $ TS              : int  0 0 0 0 0 0 0 0 0 0 ...\n",
      " $ TSRA            : int  0 0 0 0 0 0 0 0 0 0 ...\n",
      " $ VCTS            : int  0 0 0 0 0 0 0 0 0 0 ...\n",
      " $ RA45            : int  NA NA NA NA NA NA NA NA NA NA ...\n",
      " $ PT45_gt05       : int  NA NA NA NA NA NA NA NA NA NA ...\n",
      " $ year            : int  2007 2007 2007 2007 2007 2007 2007 2007 2007 2007 ...\n",
      " $ Month           : int  5 5 5 5 5 5 5 5 5 5 ...\n",
      " $ MoDay           : int  1 2 3 4 5 6 7 8 9 10 ...\n",
      " $ Month_Day       : Factor w/ 184 levels \"05-01\",\"05-02\",..: 1 2 3 4 5 6 7 8 9 10 ...\n"
     ]
    }
   ],
   "source": [
    "str(w01)"
   ]
  },
  {
   "cell_type": "code",
   "execution_count": 11,
   "metadata": {},
   "outputs": [
    {
     "data": {
      "text/html": [
       "<table>\n",
       "<thead><tr><th scope=col>Date</th><th scope=col>PrecipTotal</th><th scope=col>PrecipTotal2.imp</th></tr></thead>\n",
       "<tbody>\n",
       "\t<tr><td>2007-05-01</td><td>0         </td><td>0         </td></tr>\n",
       "\t<tr><td>2007-05-02</td><td>0         </td><td>0         </td></tr>\n",
       "\t<tr><td>2007-05-03</td><td>0         </td><td>0         </td></tr>\n",
       "\t<tr><td>2007-05-04</td><td>0         </td><td>0         </td></tr>\n",
       "\t<tr><td>2007-05-05</td><td>0         </td><td>0         </td></tr>\n",
       "\t<tr><td>2007-05-06</td><td>0         </td><td>0         </td></tr>\n",
       "</tbody>\n",
       "</table>\n"
      ],
      "text/latex": [
       "\\begin{tabular}{r|lll}\n",
       " Date & PrecipTotal & PrecipTotal2.imp\\\\\n",
       "\\hline\n",
       "\t 2007-05-01 & 0          & 0         \\\\\n",
       "\t 2007-05-02 & 0          & 0         \\\\\n",
       "\t 2007-05-03 & 0          & 0         \\\\\n",
       "\t 2007-05-04 & 0          & 0         \\\\\n",
       "\t 2007-05-05 & 0          & 0         \\\\\n",
       "\t 2007-05-06 & 0          & 0         \\\\\n",
       "\\end{tabular}\n"
      ],
      "text/markdown": [
       "\n",
       "Date | PrecipTotal | PrecipTotal2.imp | \n",
       "|---|---|---|---|---|---|\n",
       "| 2007-05-01 | 0          | 0          | \n",
       "| 2007-05-02 | 0          | 0          | \n",
       "| 2007-05-03 | 0          | 0          | \n",
       "| 2007-05-04 | 0          | 0          | \n",
       "| 2007-05-05 | 0          | 0          | \n",
       "| 2007-05-06 | 0          | 0          | \n",
       "\n",
       "\n"
      ],
      "text/plain": [
       "  Date       PrecipTotal PrecipTotal2.imp\n",
       "1 2007-05-01 0           0               \n",
       "2 2007-05-02 0           0               \n",
       "3 2007-05-03 0           0               \n",
       "4 2007-05-04 0           0               \n",
       "5 2007-05-05 0           0               \n",
       "6 2007-05-06 0           0               "
      ]
     },
     "metadata": {},
     "output_type": "display_data"
    },
    {
     "data": {
      "text/html": [
       "<ol class=list-inline>\n",
       "\t<li>1472</li>\n",
       "\t<li>3</li>\n",
       "</ol>\n"
      ],
      "text/latex": [
       "\\begin{enumerate*}\n",
       "\\item 1472\n",
       "\\item 3\n",
       "\\end{enumerate*}\n"
      ],
      "text/markdown": [
       "1. 1472\n",
       "2. 3\n",
       "\n",
       "\n"
      ],
      "text/plain": [
       "[1] 1472    3"
      ]
     },
     "metadata": {},
     "output_type": "display_data"
    }
   ],
   "source": [
    "vars <- c(\"Date\", \"PrecipTotal\", \"PrecipTotal2.imp\")\n",
    "w02 <- w01[vars]\n",
    "head(w02)\n",
    "dim(w02)"
   ]
  },
  {
   "cell_type": "code",
   "execution_count": 12,
   "metadata": {},
   "outputs": [
    {
     "data": {
      "text/html": [
       "<ol class=list-inline>\n",
       "\t<li>1716</li>\n",
       "\t<li>8</li>\n",
       "</ol>\n"
      ],
      "text/latex": [
       "\\begin{enumerate*}\n",
       "\\item 1716\n",
       "\\item 8\n",
       "\\end{enumerate*}\n"
      ],
      "text/markdown": [
       "1. 1716\n",
       "2. 8\n",
       "\n",
       "\n"
      ],
      "text/plain": [
       "[1] 1716    8"
      ]
     },
     "metadata": {},
     "output_type": "display_data"
    }
   ],
   "source": [
    "allpre<-merge(x = w02, y = pre, by = \"Date\", all = TRUE)\n",
    "dim(allpre)"
   ]
  },
  {
   "cell_type": "code",
   "execution_count": 13,
   "metadata": {},
   "outputs": [
    {
     "data": {
      "text/html": [
       "<table>\n",
       "<thead><tr><th scope=col>Date</th><th scope=col>PrecipTotal.x</th><th scope=col>PrecipTotal2.imp</th><th scope=col>Year</th><th scope=col>Month</th><th scope=col>Day</th><th scope=col>PrecipTotal.y</th><th scope=col>PrecipTotal2</th></tr></thead>\n",
       "<tbody>\n",
       "\t<tr><td>2007-03-01</td><td>NA        </td><td>NA        </td><td>2007      </td><td>3         </td><td>1         </td><td>1.09      </td><td>0.370     </td></tr>\n",
       "\t<tr><td>2007-03-02</td><td>NA        </td><td>NA        </td><td>2007      </td><td>3         </td><td>2         </td><td>0.06      </td><td>0.010     </td></tr>\n",
       "\t<tr><td>2007-03-03</td><td>NA        </td><td>NA        </td><td>2007      </td><td>3         </td><td>3         </td><td>0.02      </td><td>0.001     </td></tr>\n",
       "\t<tr><td>2007-03-04</td><td>NA        </td><td>NA        </td><td>2007      </td><td>3         </td><td>4         </td><td>0.00      </td><td>0.000     </td></tr>\n",
       "\t<tr><td>2007-03-05</td><td>NA        </td><td>NA        </td><td>2007      </td><td>3         </td><td>5         </td><td>0.00      </td><td>0.000     </td></tr>\n",
       "\t<tr><td>2007-03-06</td><td>NA        </td><td>NA        </td><td>2007      </td><td>3         </td><td>6         </td><td>0.05      </td><td>0.010     </td></tr>\n",
       "</tbody>\n",
       "</table>\n"
      ],
      "text/latex": [
       "\\begin{tabular}{r|llllllll}\n",
       " Date & PrecipTotal.x & PrecipTotal2.imp & Year & Month & Day & PrecipTotal.y & PrecipTotal2\\\\\n",
       "\\hline\n",
       "\t 2007-03-01 & NA         & NA         & 2007       & 3          & 1          & 1.09       & 0.370     \\\\\n",
       "\t 2007-03-02 & NA         & NA         & 2007       & 3          & 2          & 0.06       & 0.010     \\\\\n",
       "\t 2007-03-03 & NA         & NA         & 2007       & 3          & 3          & 0.02       & 0.001     \\\\\n",
       "\t 2007-03-04 & NA         & NA         & 2007       & 3          & 4          & 0.00       & 0.000     \\\\\n",
       "\t 2007-03-05 & NA         & NA         & 2007       & 3          & 5          & 0.00       & 0.000     \\\\\n",
       "\t 2007-03-06 & NA         & NA         & 2007       & 3          & 6          & 0.05       & 0.010     \\\\\n",
       "\\end{tabular}\n"
      ],
      "text/markdown": [
       "\n",
       "Date | PrecipTotal.x | PrecipTotal2.imp | Year | Month | Day | PrecipTotal.y | PrecipTotal2 | \n",
       "|---|---|---|---|---|---|\n",
       "| 2007-03-01 | NA         | NA         | 2007       | 3          | 1          | 1.09       | 0.370      | \n",
       "| 2007-03-02 | NA         | NA         | 2007       | 3          | 2          | 0.06       | 0.010      | \n",
       "| 2007-03-03 | NA         | NA         | 2007       | 3          | 3          | 0.02       | 0.001      | \n",
       "| 2007-03-04 | NA         | NA         | 2007       | 3          | 4          | 0.00       | 0.000      | \n",
       "| 2007-03-05 | NA         | NA         | 2007       | 3          | 5          | 0.00       | 0.000      | \n",
       "| 2007-03-06 | NA         | NA         | 2007       | 3          | 6          | 0.05       | 0.010      | \n",
       "\n",
       "\n"
      ],
      "text/plain": [
       "  Date       PrecipTotal.x PrecipTotal2.imp Year Month Day PrecipTotal.y\n",
       "1 2007-03-01 NA            NA               2007 3     1   1.09         \n",
       "2 2007-03-02 NA            NA               2007 3     2   0.06         \n",
       "3 2007-03-03 NA            NA               2007 3     3   0.02         \n",
       "4 2007-03-04 NA            NA               2007 3     4   0.00         \n",
       "5 2007-03-05 NA            NA               2007 3     5   0.00         \n",
       "6 2007-03-06 NA            NA               2007 3     6   0.05         \n",
       "  PrecipTotal2\n",
       "1 0.370       \n",
       "2 0.010       \n",
       "3 0.001       \n",
       "4 0.000       \n",
       "5 0.000       \n",
       "6 0.010       "
      ]
     },
     "metadata": {},
     "output_type": "display_data"
    }
   ],
   "source": [
    "head(allpre)"
   ]
  },
  {
   "cell_type": "code",
   "execution_count": 14,
   "metadata": {},
   "outputs": [],
   "source": [
    "allpre$PrecipTotal2.imp[is.na(allpre$PrecipTotal2.imp)] <- allpre$PrecipTotal2[is.na(allpre$PrecipTotal2.imp)]"
   ]
  },
  {
   "cell_type": "code",
   "execution_count": 15,
   "metadata": {},
   "outputs": [],
   "source": [
    "allpre$PrecipTotal.x[is.na(allpre$PrecipTotal.x)] <- allpre$PrecipTotal.y[is.na(allpre$PrecipTotal.x)]"
   ]
  },
  {
   "cell_type": "code",
   "execution_count": 16,
   "metadata": {},
   "outputs": [
    {
     "data": {
      "text/html": [
       "<table>\n",
       "<thead><tr><th scope=col>Date</th><th scope=col>PrecipTotal.x</th><th scope=col>PrecipTotal2.imp</th><th scope=col>Year</th><th scope=col>Month</th><th scope=col>Day</th><th scope=col>PrecipTotal.y</th><th scope=col>PrecipTotal2</th></tr></thead>\n",
       "<tbody>\n",
       "\t<tr><td>2007-03-01</td><td>1.09      </td><td>0.370     </td><td>2007      </td><td>3         </td><td>1         </td><td>1.09      </td><td>0.370     </td></tr>\n",
       "\t<tr><td>2007-03-02</td><td>0.06      </td><td>0.010     </td><td>2007      </td><td>3         </td><td>2         </td><td>0.06      </td><td>0.010     </td></tr>\n",
       "\t<tr><td>2007-03-03</td><td>0.02      </td><td>0.001     </td><td>2007      </td><td>3         </td><td>3         </td><td>0.02      </td><td>0.001     </td></tr>\n",
       "\t<tr><td>2007-03-04</td><td>0.00      </td><td>0.000     </td><td>2007      </td><td>3         </td><td>4         </td><td>0.00      </td><td>0.000     </td></tr>\n",
       "\t<tr><td>2007-03-05</td><td>0.00      </td><td>0.000     </td><td>2007      </td><td>3         </td><td>5         </td><td>0.00      </td><td>0.000     </td></tr>\n",
       "\t<tr><td>2007-03-06</td><td>0.05      </td><td>0.010     </td><td>2007      </td><td>3         </td><td>6         </td><td>0.05      </td><td>0.010     </td></tr>\n",
       "</tbody>\n",
       "</table>\n"
      ],
      "text/latex": [
       "\\begin{tabular}{r|llllllll}\n",
       " Date & PrecipTotal.x & PrecipTotal2.imp & Year & Month & Day & PrecipTotal.y & PrecipTotal2\\\\\n",
       "\\hline\n",
       "\t 2007-03-01 & 1.09       & 0.370      & 2007       & 3          & 1          & 1.09       & 0.370     \\\\\n",
       "\t 2007-03-02 & 0.06       & 0.010      & 2007       & 3          & 2          & 0.06       & 0.010     \\\\\n",
       "\t 2007-03-03 & 0.02       & 0.001      & 2007       & 3          & 3          & 0.02       & 0.001     \\\\\n",
       "\t 2007-03-04 & 0.00       & 0.000      & 2007       & 3          & 4          & 0.00       & 0.000     \\\\\n",
       "\t 2007-03-05 & 0.00       & 0.000      & 2007       & 3          & 5          & 0.00       & 0.000     \\\\\n",
       "\t 2007-03-06 & 0.05       & 0.010      & 2007       & 3          & 6          & 0.05       & 0.010     \\\\\n",
       "\\end{tabular}\n"
      ],
      "text/markdown": [
       "\n",
       "Date | PrecipTotal.x | PrecipTotal2.imp | Year | Month | Day | PrecipTotal.y | PrecipTotal2 | \n",
       "|---|---|---|---|---|---|\n",
       "| 2007-03-01 | 1.09       | 0.370      | 2007       | 3          | 1          | 1.09       | 0.370      | \n",
       "| 2007-03-02 | 0.06       | 0.010      | 2007       | 3          | 2          | 0.06       | 0.010      | \n",
       "| 2007-03-03 | 0.02       | 0.001      | 2007       | 3          | 3          | 0.02       | 0.001      | \n",
       "| 2007-03-04 | 0.00       | 0.000      | 2007       | 3          | 4          | 0.00       | 0.000      | \n",
       "| 2007-03-05 | 0.00       | 0.000      | 2007       | 3          | 5          | 0.00       | 0.000      | \n",
       "| 2007-03-06 | 0.05       | 0.010      | 2007       | 3          | 6          | 0.05       | 0.010      | \n",
       "\n",
       "\n"
      ],
      "text/plain": [
       "  Date       PrecipTotal.x PrecipTotal2.imp Year Month Day PrecipTotal.y\n",
       "1 2007-03-01 1.09          0.370            2007 3     1   1.09         \n",
       "2 2007-03-02 0.06          0.010            2007 3     2   0.06         \n",
       "3 2007-03-03 0.02          0.001            2007 3     3   0.02         \n",
       "4 2007-03-04 0.00          0.000            2007 3     4   0.00         \n",
       "5 2007-03-05 0.00          0.000            2007 3     5   0.00         \n",
       "6 2007-03-06 0.05          0.010            2007 3     6   0.05         \n",
       "  PrecipTotal2\n",
       "1 0.370       \n",
       "2 0.010       \n",
       "3 0.001       \n",
       "4 0.000       \n",
       "5 0.000       \n",
       "6 0.010       "
      ]
     },
     "metadata": {},
     "output_type": "display_data"
    }
   ],
   "source": [
    "head(allpre)"
   ]
  },
  {
   "cell_type": "code",
   "execution_count": 17,
   "metadata": {},
   "outputs": [
    {
     "name": "stdout",
     "output_type": "stream",
     "text": [
      "'data.frame':\t1716 obs. of  8 variables:\n",
      " $ Date            : Date, format: \"2007-03-01\" \"2007-03-02\" ...\n",
      " $ PrecipTotal.x   : num  1.09 0.06 0.02 0 0 0.05 0.03 0 0.28 0 ...\n",
      " $ PrecipTotal2.imp: num  0.37 0.01 0.001 0 0 0.01 0.01 0 0.17 0.001 ...\n",
      " $ Year            : Factor w/ 4 levels \"2007\",\"2009\",..: 1 1 1 1 1 1 1 1 1 1 ...\n",
      " $ Month           : Factor w/ 2 levels \"3\",\"4\": 1 1 1 1 1 1 1 1 1 1 ...\n",
      " $ Day             : Factor w/ 31 levels \"1\",\"10\",\"11\",..: 1 12 23 26 27 28 29 30 31 2 ...\n",
      " $ PrecipTotal.y   : num  1.09 0.06 0.02 0 0 0.05 0.03 0 0.28 0 ...\n",
      " $ PrecipTotal2    : num  0.37 0.01 0.001 0 0 0.01 0.01 0 0.17 0.001 ...\n"
     ]
    }
   ],
   "source": [
    "str(allpre)"
   ]
  },
  {
   "cell_type": "code",
   "execution_count": 18,
   "metadata": {},
   "outputs": [
    {
     "data": {
      "text/plain": [
       "allpre \n",
       "\n",
       " 8  Variables      1716  Observations\n",
       "--------------------------------------------------------------------------------\n",
       "Date \n",
       "       n  missing distinct \n",
       "    1716        0     1716 \n",
       "\n",
       "lowest : 2007-03-01 2007-03-02 2007-03-03 2007-03-04 2007-03-05\n",
       "highest: 2014-10-27 2014-10-28 2014-10-29 2014-10-30 2014-10-31\n",
       "--------------------------------------------------------------------------------\n",
       "PrecipTotal.x \n",
       "       n  missing distinct     Info     Mean      Gmd      .05      .10 \n",
       "    1716        0      135    0.761   0.1363   0.2369     0.00     0.00 \n",
       "     .25      .50      .75      .90      .95 \n",
       "    0.00     0.00     0.07     0.42     0.80 \n",
       "\n",
       "lowest : 0.000 0.001 0.010 0.020 0.030, highest: 3.540 3.640 3.970 6.640 6.860\n",
       "--------------------------------------------------------------------------------\n",
       "PrecipTotal2.imp \n",
       "       n  missing distinct     Info     Mean      Gmd      .05      .10 \n",
       "    1716        0      140    0.781   0.1285   0.2227   0.0000   0.0000 \n",
       "     .25      .50      .75      .90      .95 \n",
       "  0.0000   0.0000   0.0600   0.4150   0.8025 \n",
       "\n",
       "lowest : 0.000 0.001 0.010 0.020 0.030, highest: 3.150 3.170 3.310 3.660 4.730\n",
       "--------------------------------------------------------------------------------\n",
       "Year \n",
       "       n  missing distinct \n",
       "     244     1472        4 \n",
       "                              \n",
       "Value      2007 2009 2011 2013\n",
       "Frequency    61   61   61   61\n",
       "Proportion 0.25 0.25 0.25 0.25\n",
       "--------------------------------------------------------------------------------\n",
       "Month \n",
       "       n  missing distinct \n",
       "     244     1472        2 \n",
       "                      \n",
       "Value          3     4\n",
       "Frequency    124   120\n",
       "Proportion 0.508 0.492\n",
       "--------------------------------------------------------------------------------\n",
       "Day \n",
       "       n  missing distinct \n",
       "     244     1472       31 \n",
       "\n",
       "lowest : 1  10 11 12 13, highest: 5  6  7  8  9 \n",
       "--------------------------------------------------------------------------------\n",
       "PrecipTotal.y \n",
       "       n  missing distinct     Info     Mean      Gmd      .05      .10 \n",
       "     244     1472       53    0.908   0.1466   0.2476    0.000    0.000 \n",
       "     .25      .50      .75      .90      .95 \n",
       "   0.000    0.001    0.090    0.504    0.870 \n",
       "\n",
       "lowest : 0.000 0.001 0.010 0.020 0.030, highest: 1.110 1.150 1.670 2.010 3.540\n",
       "--------------------------------------------------------------------------------\n",
       "PrecipTotal2 \n",
       "       n  missing distinct     Info     Mean      Gmd      .05      .10 \n",
       "     244     1472       54    0.926   0.1276   0.2162   0.0000   0.0000 \n",
       "     .25      .50      .75      .90      .95 \n",
       "  0.0000   0.0010   0.0800   0.4170   0.8525 \n",
       "\n",
       "lowest : 0.000 0.001 0.010 0.020 0.030, highest: 1.240 1.260 1.660 1.840 1.870\n",
       "--------------------------------------------------------------------------------"
      ]
     },
     "metadata": {},
     "output_type": "display_data"
    }
   ],
   "source": [
    "describe(allpre)"
   ]
  },
  {
   "cell_type": "code",
   "execution_count": 19,
   "metadata": {},
   "outputs": [
    {
     "data": {
      "text/html": [
       "<table>\n",
       "<thead><tr><th scope=col>Date</th><th scope=col>PrecipTotal.x</th><th scope=col>PrecipTotal2.imp</th><th scope=col>Year</th><th scope=col>Month</th><th scope=col>Day</th><th scope=col>PrecipTotal.y</th><th scope=col>PrecipTotal2</th></tr></thead>\n",
       "<tbody>\n",
       "\t<tr><td>2007-03-01</td><td>1.09      </td><td>0.370     </td><td>2007      </td><td>3         </td><td>1         </td><td>1.09      </td><td>0.370     </td></tr>\n",
       "\t<tr><td>2007-03-02</td><td>0.06      </td><td>0.010     </td><td>2007      </td><td>3         </td><td>2         </td><td>0.06      </td><td>0.010     </td></tr>\n",
       "\t<tr><td>2007-03-03</td><td>0.02      </td><td>0.001     </td><td>2007      </td><td>3         </td><td>3         </td><td>0.02      </td><td>0.001     </td></tr>\n",
       "\t<tr><td>2007-03-04</td><td>0.00      </td><td>0.000     </td><td>2007      </td><td>3         </td><td>4         </td><td>0.00      </td><td>0.000     </td></tr>\n",
       "\t<tr><td>2007-03-05</td><td>0.00      </td><td>0.000     </td><td>2007      </td><td>3         </td><td>5         </td><td>0.00      </td><td>0.000     </td></tr>\n",
       "\t<tr><td>2007-03-06</td><td>0.05      </td><td>0.010     </td><td>2007      </td><td>3         </td><td>6         </td><td>0.05      </td><td>0.010     </td></tr>\n",
       "</tbody>\n",
       "</table>\n"
      ],
      "text/latex": [
       "\\begin{tabular}{r|llllllll}\n",
       " Date & PrecipTotal.x & PrecipTotal2.imp & Year & Month & Day & PrecipTotal.y & PrecipTotal2\\\\\n",
       "\\hline\n",
       "\t 2007-03-01 & 1.09       & 0.370      & 2007       & 3          & 1          & 1.09       & 0.370     \\\\\n",
       "\t 2007-03-02 & 0.06       & 0.010      & 2007       & 3          & 2          & 0.06       & 0.010     \\\\\n",
       "\t 2007-03-03 & 0.02       & 0.001      & 2007       & 3          & 3          & 0.02       & 0.001     \\\\\n",
       "\t 2007-03-04 & 0.00       & 0.000      & 2007       & 3          & 4          & 0.00       & 0.000     \\\\\n",
       "\t 2007-03-05 & 0.00       & 0.000      & 2007       & 3          & 5          & 0.00       & 0.000     \\\\\n",
       "\t 2007-03-06 & 0.05       & 0.010      & 2007       & 3          & 6          & 0.05       & 0.010     \\\\\n",
       "\\end{tabular}\n"
      ],
      "text/markdown": [
       "\n",
       "Date | PrecipTotal.x | PrecipTotal2.imp | Year | Month | Day | PrecipTotal.y | PrecipTotal2 | \n",
       "|---|---|---|---|---|---|\n",
       "| 2007-03-01 | 1.09       | 0.370      | 2007       | 3          | 1          | 1.09       | 0.370      | \n",
       "| 2007-03-02 | 0.06       | 0.010      | 2007       | 3          | 2          | 0.06       | 0.010      | \n",
       "| 2007-03-03 | 0.02       | 0.001      | 2007       | 3          | 3          | 0.02       | 0.001      | \n",
       "| 2007-03-04 | 0.00       | 0.000      | 2007       | 3          | 4          | 0.00       | 0.000      | \n",
       "| 2007-03-05 | 0.00       | 0.000      | 2007       | 3          | 5          | 0.00       | 0.000      | \n",
       "| 2007-03-06 | 0.05       | 0.010      | 2007       | 3          | 6          | 0.05       | 0.010      | \n",
       "\n",
       "\n"
      ],
      "text/plain": [
       "  Date       PrecipTotal.x PrecipTotal2.imp Year Month Day PrecipTotal.y\n",
       "1 2007-03-01 1.09          0.370            2007 3     1   1.09         \n",
       "2 2007-03-02 0.06          0.010            2007 3     2   0.06         \n",
       "3 2007-03-03 0.02          0.001            2007 3     3   0.02         \n",
       "4 2007-03-04 0.00          0.000            2007 3     4   0.00         \n",
       "5 2007-03-05 0.00          0.000            2007 3     5   0.00         \n",
       "6 2007-03-06 0.05          0.010            2007 3     6   0.05         \n",
       "  PrecipTotal2\n",
       "1 0.370       \n",
       "2 0.010       \n",
       "3 0.001       \n",
       "4 0.000       \n",
       "5 0.000       \n",
       "6 0.010       "
      ]
     },
     "metadata": {},
     "output_type": "display_data"
    }
   ],
   "source": [
    "head(allpre)"
   ]
  },
  {
   "cell_type": "code",
   "execution_count": 20,
   "metadata": {},
   "outputs": [
    {
     "data": {
      "text/html": [
       "<ol class=list-inline>\n",
       "\t<li>'Date'</li>\n",
       "\t<li>'PrecipTotal.x'</li>\n",
       "\t<li>'PrecipTotal2.imp'</li>\n",
       "\t<li>'Year'</li>\n",
       "\t<li>'Month'</li>\n",
       "\t<li>'Day'</li>\n",
       "\t<li>'PrecipTotal.y'</li>\n",
       "\t<li>'PrecipTotal2'</li>\n",
       "</ol>\n"
      ],
      "text/latex": [
       "\\begin{enumerate*}\n",
       "\\item 'Date'\n",
       "\\item 'PrecipTotal.x'\n",
       "\\item 'PrecipTotal2.imp'\n",
       "\\item 'Year'\n",
       "\\item 'Month'\n",
       "\\item 'Day'\n",
       "\\item 'PrecipTotal.y'\n",
       "\\item 'PrecipTotal2'\n",
       "\\end{enumerate*}\n"
      ],
      "text/markdown": [
       "1. 'Date'\n",
       "2. 'PrecipTotal.x'\n",
       "3. 'PrecipTotal2.imp'\n",
       "4. 'Year'\n",
       "5. 'Month'\n",
       "6. 'Day'\n",
       "7. 'PrecipTotal.y'\n",
       "8. 'PrecipTotal2'\n",
       "\n",
       "\n"
      ],
      "text/plain": [
       "[1] \"Date\"             \"PrecipTotal.x\"    \"PrecipTotal2.imp\" \"Year\"            \n",
       "[5] \"Month\"            \"Day\"              \"PrecipTotal.y\"    \"PrecipTotal2\"    "
      ]
     },
     "metadata": {},
     "output_type": "display_data"
    }
   ],
   "source": [
    "colnames(allpre)"
   ]
  },
  {
   "cell_type": "code",
   "execution_count": 55,
   "metadata": {},
   "outputs": [],
   "source": [
    "var2<-c('Date', 'PrecipTotal.x', 'PrecipTotal2.imp' )\n",
    "preT<-allpre[var2]"
   ]
  },
  {
   "cell_type": "code",
   "execution_count": 56,
   "metadata": {},
   "outputs": [
    {
     "data": {
      "text/html": [
       "<table>\n",
       "<thead><tr><th scope=col>Date</th><th scope=col>PrecipTotal.x</th><th scope=col>PrecipTotal2.imp</th></tr></thead>\n",
       "<tbody>\n",
       "\t<tr><td>2007-03-01</td><td>1.09      </td><td>0.370     </td></tr>\n",
       "\t<tr><td>2007-03-02</td><td>0.06      </td><td>0.010     </td></tr>\n",
       "\t<tr><td>2007-03-03</td><td>0.02      </td><td>0.001     </td></tr>\n",
       "\t<tr><td>2007-03-04</td><td>0.00      </td><td>0.000     </td></tr>\n",
       "\t<tr><td>2007-03-05</td><td>0.00      </td><td>0.000     </td></tr>\n",
       "\t<tr><td>2007-03-06</td><td>0.05      </td><td>0.010     </td></tr>\n",
       "</tbody>\n",
       "</table>\n"
      ],
      "text/latex": [
       "\\begin{tabular}{r|lll}\n",
       " Date & PrecipTotal.x & PrecipTotal2.imp\\\\\n",
       "\\hline\n",
       "\t 2007-03-01 & 1.09       & 0.370     \\\\\n",
       "\t 2007-03-02 & 0.06       & 0.010     \\\\\n",
       "\t 2007-03-03 & 0.02       & 0.001     \\\\\n",
       "\t 2007-03-04 & 0.00       & 0.000     \\\\\n",
       "\t 2007-03-05 & 0.00       & 0.000     \\\\\n",
       "\t 2007-03-06 & 0.05       & 0.010     \\\\\n",
       "\\end{tabular}\n"
      ],
      "text/markdown": [
       "\n",
       "Date | PrecipTotal.x | PrecipTotal2.imp | \n",
       "|---|---|---|---|---|---|\n",
       "| 2007-03-01 | 1.09       | 0.370      | \n",
       "| 2007-03-02 | 0.06       | 0.010      | \n",
       "| 2007-03-03 | 0.02       | 0.001      | \n",
       "| 2007-03-04 | 0.00       | 0.000      | \n",
       "| 2007-03-05 | 0.00       | 0.000      | \n",
       "| 2007-03-06 | 0.05       | 0.010      | \n",
       "\n",
       "\n"
      ],
      "text/plain": [
       "  Date       PrecipTotal.x PrecipTotal2.imp\n",
       "1 2007-03-01 1.09          0.370           \n",
       "2 2007-03-02 0.06          0.010           \n",
       "3 2007-03-03 0.02          0.001           \n",
       "4 2007-03-04 0.00          0.000           \n",
       "5 2007-03-05 0.00          0.000           \n",
       "6 2007-03-06 0.05          0.010           "
      ]
     },
     "metadata": {},
     "output_type": "display_data"
    },
    {
     "name": "stdout",
     "output_type": "stream",
     "text": [
      "'data.frame':\t1716 obs. of  3 variables:\n",
      " $ Date            : Date, format: \"2007-03-01\" \"2007-03-02\" ...\n",
      " $ PrecipTotal.x   : num  1.09 0.06 0.02 0 0 0.05 0.03 0 0.28 0 ...\n",
      " $ PrecipTotal2.imp: num  0.37 0.01 0.001 0 0 0.01 0.01 0 0.17 0.001 ...\n"
     ]
    }
   ],
   "source": [
    "head(preT)\n",
    "str(preT)"
   ]
  },
  {
   "cell_type": "code",
   "execution_count": 23,
   "metadata": {},
   "outputs": [
    {
     "data": {
      "text/plain": [
       "preT \n",
       "\n",
       " 3  Variables      1716  Observations\n",
       "--------------------------------------------------------------------------------\n",
       "Date \n",
       "       n  missing distinct \n",
       "    1716        0     1716 \n",
       "\n",
       "lowest : 2007-03-01 2007-03-02 2007-03-03 2007-03-04 2007-03-05\n",
       "highest: 2014-10-27 2014-10-28 2014-10-29 2014-10-30 2014-10-31\n",
       "--------------------------------------------------------------------------------\n",
       "PrecipTotal.x \n",
       "       n  missing distinct     Info     Mean      Gmd      .05      .10 \n",
       "    1716        0      135    0.761   0.1363   0.2369     0.00     0.00 \n",
       "     .25      .50      .75      .90      .95 \n",
       "    0.00     0.00     0.07     0.42     0.80 \n",
       "\n",
       "lowest : 0.000 0.001 0.010 0.020 0.030, highest: 3.540 3.640 3.970 6.640 6.860\n",
       "--------------------------------------------------------------------------------\n",
       "PrecipTotal2.imp \n",
       "       n  missing distinct     Info     Mean      Gmd      .05      .10 \n",
       "    1716        0      140    0.781   0.1285   0.2227   0.0000   0.0000 \n",
       "     .25      .50      .75      .90      .95 \n",
       "  0.0000   0.0000   0.0600   0.4150   0.8025 \n",
       "\n",
       "lowest : 0.000 0.001 0.010 0.020 0.030, highest: 3.150 3.170 3.310 3.660 4.730\n",
       "--------------------------------------------------------------------------------"
      ]
     },
     "metadata": {},
     "output_type": "display_data"
    }
   ],
   "source": [
    "describe(preT)"
   ]
  },
  {
   "cell_type": "code",
   "execution_count": 43,
   "metadata": {},
   "outputs": [],
   "source": [
    "write.csv(preT, file=\"C:/Users/Chen/Project/data/preT.csv\", row.names =F)"
   ]
  },
  {
   "cell_type": "code",
   "execution_count": 24,
   "metadata": {},
   "outputs": [],
   "source": [
    "library(dplyr)\n",
    "library(ggplot2)\n",
    "library(data.table)\n",
    "library(Hmisc)\n",
    "library(MESS)"
   ]
  },
  {
   "cell_type": "code",
   "execution_count": 25,
   "metadata": {},
   "outputs": [
    {
     "name": "stderr",
     "output_type": "stream",
     "text": [
      "Warning message:\n",
      "\"package 'xts' was built under R version 3.5.2\"Loading required package: zoo\n",
      "Warning message:\n",
      "\"package 'zoo' was built under R version 3.5.2\"\n",
      "Attaching package: 'zoo'\n",
      "\n",
      "The following objects are masked from 'package:base':\n",
      "\n",
      "    as.Date, as.Date.numeric\n",
      "\n",
      "\n",
      "Attaching package: 'xts'\n",
      "\n",
      "The following objects are masked from 'package:data.table':\n",
      "\n",
      "    first, last\n",
      "\n",
      "The following objects are masked from 'package:dplyr':\n",
      "\n",
      "    first, last\n",
      "\n",
      "Warning message:\n",
      "\"package 'quantmod' was built under R version 3.5.2\"Loading required package: TTR\n",
      "Warning message:\n",
      "\"package 'TTR' was built under R version 3.5.2\"Version 0.4-0 included new data defaults. See ?getSymbols.\n",
      "\n",
      "Attaching package: 'quantmod'\n",
      "\n",
      "The following object is masked from 'package:Hmisc':\n",
      "\n",
      "    Lag\n",
      "\n"
     ]
    }
   ],
   "source": [
    "library(xts)\n",
    "library(quantmod)"
   ]
  },
  {
   "cell_type": "code",
   "execution_count": 26,
   "metadata": {},
   "outputs": [
    {
     "data": {
      "text/html": [
       "<table>\n",
       "<thead><tr><th scope=col>Date</th><th scope=col>PrecipTotal.x</th><th scope=col>PrecipTotal2.imp</th></tr></thead>\n",
       "<tbody>\n",
       "\t<tr><td>2007-03-01</td><td>1.09      </td><td>0.370     </td></tr>\n",
       "\t<tr><td>2007-03-02</td><td>0.06      </td><td>0.010     </td></tr>\n",
       "\t<tr><td>2007-03-03</td><td>0.02      </td><td>0.001     </td></tr>\n",
       "\t<tr><td>2007-03-04</td><td>0.00      </td><td>0.000     </td></tr>\n",
       "\t<tr><td>2007-03-05</td><td>0.00      </td><td>0.000     </td></tr>\n",
       "\t<tr><td>2007-03-06</td><td>0.05      </td><td>0.010     </td></tr>\n",
       "</tbody>\n",
       "</table>\n"
      ],
      "text/latex": [
       "\\begin{tabular}{r|lll}\n",
       " Date & PrecipTotal.x & PrecipTotal2.imp\\\\\n",
       "\\hline\n",
       "\t 2007-03-01 & 1.09       & 0.370     \\\\\n",
       "\t 2007-03-02 & 0.06       & 0.010     \\\\\n",
       "\t 2007-03-03 & 0.02       & 0.001     \\\\\n",
       "\t 2007-03-04 & 0.00       & 0.000     \\\\\n",
       "\t 2007-03-05 & 0.00       & 0.000     \\\\\n",
       "\t 2007-03-06 & 0.05       & 0.010     \\\\\n",
       "\\end{tabular}\n"
      ],
      "text/markdown": [
       "\n",
       "Date | PrecipTotal.x | PrecipTotal2.imp | \n",
       "|---|---|---|---|---|---|\n",
       "| 2007-03-01 | 1.09       | 0.370      | \n",
       "| 2007-03-02 | 0.06       | 0.010      | \n",
       "| 2007-03-03 | 0.02       | 0.001      | \n",
       "| 2007-03-04 | 0.00       | 0.000      | \n",
       "| 2007-03-05 | 0.00       | 0.000      | \n",
       "| 2007-03-06 | 0.05       | 0.010      | \n",
       "\n",
       "\n"
      ],
      "text/plain": [
       "  Date       PrecipTotal.x PrecipTotal2.imp\n",
       "1 2007-03-01 1.09          0.370           \n",
       "2 2007-03-02 0.06          0.010           \n",
       "3 2007-03-03 0.02          0.001           \n",
       "4 2007-03-04 0.00          0.000           \n",
       "5 2007-03-05 0.00          0.000           \n",
       "6 2007-03-06 0.05          0.010           "
      ]
     },
     "metadata": {},
     "output_type": "display_data"
    }
   ],
   "source": [
    "head(preT)"
   ]
  },
  {
   "cell_type": "code",
   "execution_count": 27,
   "metadata": {},
   "outputs": [],
   "source": [
    "q <- preT[,c(\"Date\",\"PrecipTotal.x\")]\n",
    "qxts <- xts(q[,\"PrecipTotal.x\"], order.by=q[,\"Date\"])\n",
    "names(qxts) <- \"PrecipTotal.x\""
   ]
  },
  {
   "cell_type": "code",
   "execution_count": 28,
   "metadata": {},
   "outputs": [
    {
     "data": {
      "text/plain": [
       "           PrecipTotal.x\n",
       "2007-03-01          1.09\n",
       "2007-03-02          0.06\n",
       "2007-03-03          0.02\n",
       "2007-03-04          0.00\n",
       "2007-03-05          0.00\n",
       "2007-03-06          0.05"
      ]
     },
     "metadata": {},
     "output_type": "display_data"
    }
   ],
   "source": [
    "head(qxts)"
   ]
  },
  {
   "cell_type": "code",
   "execution_count": null,
   "metadata": {},
   "outputs": [],
   "source": [
    "P45 <- data.frame(qxts$PT45)\n",
    "P45$Date <- as.Date(rownames(rain45))\n",
    "head(rain45)\n",
    "str(rain45)"
   ]
  },
  {
   "cell_type": "code",
   "execution_count": 29,
   "metadata": {},
   "outputs": [
    {
     "data": {
      "text/plain": [
       "           PrecipTotal.x PT45 pre45_05\n",
       "2007-03-01         1.090   NA       NA\n",
       "2007-03-02         0.060   NA       NA\n",
       "2007-03-03         0.020   NA       NA\n",
       "2007-03-04         0.000   NA       NA\n",
       "2007-03-05         0.000   NA       NA\n",
       "2007-03-06         0.050   NA       NA\n",
       "2007-03-07         0.030   NA       NA\n",
       "2007-03-08         0.000   NA       NA\n",
       "2007-03-09         0.280   NA       NA\n",
       "2007-03-10         0.000   NA       NA\n",
       "2007-03-11         0.000   NA       NA\n",
       "2007-03-12         0.001   NA       NA\n",
       "2007-03-13         0.000   NA       NA\n",
       "2007-03-14         0.160   NA       NA\n",
       "2007-03-15         0.001   NA       NA\n",
       "2007-03-16         0.000   NA       NA\n",
       "2007-03-17         0.000   NA       NA\n",
       "2007-03-18         0.000   NA       NA\n",
       "2007-03-19         0.060   NA       NA\n",
       "2007-03-20         0.000   NA       NA\n",
       "2007-03-21         1.070   NA       NA\n",
       "2007-03-22         0.090   NA       NA\n",
       "2007-03-23         0.040   NA       NA\n",
       "2007-03-24         0.001   NA       NA\n",
       "2007-03-25         0.000   NA       NA\n",
       "2007-03-26         0.000   NA       NA\n",
       "2007-03-27         0.000   NA       NA\n",
       "2007-03-28         0.200   NA       NA\n",
       "2007-03-29         0.000   NA       NA\n",
       "2007-03-30         0.001   NA       NA\n",
       "2007-03-31         0.510   NA       NA\n",
       "2007-04-01         0.090   NA       NA\n",
       "2007-04-02         0.000   NA       NA\n",
       "2007-04-03         0.150   NA       NA\n",
       "2007-04-04         0.001   NA       NA\n",
       "2007-04-05         0.000   NA       NA\n",
       "2007-04-06         0.000   NA       NA\n",
       "2007-04-07         0.000   NA       NA\n",
       "2007-04-08         0.001   NA       NA\n",
       "2007-04-09         0.001   NA       NA\n",
       "2007-04-10         0.000   NA       NA\n",
       "2007-04-11         1.150   NA       NA\n",
       "2007-04-12         0.090   NA       NA\n",
       "2007-04-13         0.000   NA       NA\n",
       "2007-04-14         0.000 1.15        1\n",
       "2007-04-15         0.000 1.15        1\n",
       "2007-04-16         0.000 1.15        1\n",
       "2007-04-17         0.001 1.15        1\n",
       "2007-04-18         0.001 1.15        1\n",
       "2007-04-19         0.001 1.15        1"
      ]
     },
     "metadata": {},
     "output_type": "display_data"
    }
   ],
   "source": [
    "qxts$PT45 = runMax(qxts$PrecipTotal.x,n=45)\n",
    "qxts$pre45_05 <- ifelse(qxts$PT45>0.5,1,0)\n",
    "head(qxts,50)"
   ]
  },
  {
   "cell_type": "code",
   "execution_count": 30,
   "metadata": {},
   "outputs": [
    {
     "data": {
      "text/html": [
       "<table>\n",
       "<thead><tr><th scope=col>Date</th><th scope=col>PrecipTotal.x</th><th scope=col>PrecipTotal2.imp</th></tr></thead>\n",
       "<tbody>\n",
       "\t<tr><td>2007-03-01</td><td>1.09      </td><td>0.370     </td></tr>\n",
       "\t<tr><td>2007-03-02</td><td>0.06      </td><td>0.010     </td></tr>\n",
       "\t<tr><td>2007-03-03</td><td>0.02      </td><td>0.001     </td></tr>\n",
       "\t<tr><td>2007-03-04</td><td>0.00      </td><td>0.000     </td></tr>\n",
       "\t<tr><td>2007-03-05</td><td>0.00      </td><td>0.000     </td></tr>\n",
       "\t<tr><td>2007-03-06</td><td>0.05      </td><td>0.010     </td></tr>\n",
       "</tbody>\n",
       "</table>\n"
      ],
      "text/latex": [
       "\\begin{tabular}{r|lll}\n",
       " Date & PrecipTotal.x & PrecipTotal2.imp\\\\\n",
       "\\hline\n",
       "\t 2007-03-01 & 1.09       & 0.370     \\\\\n",
       "\t 2007-03-02 & 0.06       & 0.010     \\\\\n",
       "\t 2007-03-03 & 0.02       & 0.001     \\\\\n",
       "\t 2007-03-04 & 0.00       & 0.000     \\\\\n",
       "\t 2007-03-05 & 0.00       & 0.000     \\\\\n",
       "\t 2007-03-06 & 0.05       & 0.010     \\\\\n",
       "\\end{tabular}\n"
      ],
      "text/markdown": [
       "\n",
       "Date | PrecipTotal.x | PrecipTotal2.imp | \n",
       "|---|---|---|---|---|---|\n",
       "| 2007-03-01 | 1.09       | 0.370      | \n",
       "| 2007-03-02 | 0.06       | 0.010      | \n",
       "| 2007-03-03 | 0.02       | 0.001      | \n",
       "| 2007-03-04 | 0.00       | 0.000      | \n",
       "| 2007-03-05 | 0.00       | 0.000      | \n",
       "| 2007-03-06 | 0.05       | 0.010      | \n",
       "\n",
       "\n"
      ],
      "text/plain": [
       "  Date       PrecipTotal.x PrecipTotal2.imp\n",
       "1 2007-03-01 1.09          0.370           \n",
       "2 2007-03-02 0.06          0.010           \n",
       "3 2007-03-03 0.02          0.001           \n",
       "4 2007-03-04 0.00          0.000           \n",
       "5 2007-03-05 0.00          0.000           \n",
       "6 2007-03-06 0.05          0.010           "
      ]
     },
     "metadata": {},
     "output_type": "display_data"
    }
   ],
   "source": [
    "head(preT)"
   ]
  },
  {
   "cell_type": "code",
   "execution_count": 31,
   "metadata": {},
   "outputs": [],
   "source": [
    "q1 <- preT[,c(\"Date\",\"PrecipTotal2.imp\")]\n",
    "qxts1 <- xts(q1[,\"PrecipTotal2.imp\"], order.by=q1[,\"Date\"])\n",
    "names(qxts1) <- \"PrecipTotal2.imp\""
   ]
  },
  {
   "cell_type": "code",
   "execution_count": 32,
   "metadata": {},
   "outputs": [
    {
     "data": {
      "text/plain": [
       "           PrecipTotal2.imp\n",
       "2007-03-01            0.370\n",
       "2007-03-02            0.010\n",
       "2007-03-03            0.001\n",
       "2007-03-04            0.000\n",
       "2007-03-05            0.000\n",
       "2007-03-06            0.010"
      ]
     },
     "metadata": {},
     "output_type": "display_data"
    }
   ],
   "source": [
    "head(qxts1)"
   ]
  },
  {
   "cell_type": "code",
   "execution_count": 33,
   "metadata": {},
   "outputs": [
    {
     "data": {
      "text/plain": [
       "           PrecipTotal2.imp PT452 pre45_052\n",
       "2007-03-01            0.370    NA        NA\n",
       "2007-03-02            0.010    NA        NA\n",
       "2007-03-03            0.001    NA        NA\n",
       "2007-03-04            0.000    NA        NA\n",
       "2007-03-05            0.000    NA        NA\n",
       "2007-03-06            0.010    NA        NA\n",
       "2007-03-07            0.010    NA        NA\n",
       "2007-03-08            0.000    NA        NA\n",
       "2007-03-09            0.170    NA        NA\n",
       "2007-03-10            0.001    NA        NA\n",
       "2007-03-11            0.000    NA        NA\n",
       "2007-03-12            0.001    NA        NA\n",
       "2007-03-13            0.000    NA        NA\n",
       "2007-03-14            0.210    NA        NA\n",
       "2007-03-15            0.001    NA        NA\n",
       "2007-03-16            0.000    NA        NA\n",
       "2007-03-17            0.001    NA        NA\n",
       "2007-03-18            0.001    NA        NA\n",
       "2007-03-19            0.360    NA        NA\n",
       "2007-03-20            0.001    NA        NA\n",
       "2007-03-21            0.870    NA        NA\n",
       "2007-03-22            0.220    NA        NA\n",
       "2007-03-23            0.110    NA        NA\n",
       "2007-03-24            0.001    NA        NA\n",
       "2007-03-25            0.000    NA        NA\n",
       "2007-03-26            0.000    NA        NA\n",
       "2007-03-27            0.000    NA        NA\n",
       "2007-03-28            0.320    NA        NA\n",
       "2007-03-29            0.000    NA        NA\n",
       "2007-03-30            0.001    NA        NA\n",
       "2007-03-31            0.470    NA        NA\n",
       "2007-04-01            0.030    NA        NA\n",
       "2007-04-02            0.000    NA        NA\n",
       "2007-04-03            0.070    NA        NA\n",
       "2007-04-04            0.001    NA        NA\n",
       "2007-04-05            0.000    NA        NA\n",
       "2007-04-06            0.000    NA        NA\n",
       "2007-04-07            0.001    NA        NA\n",
       "2007-04-08            0.000    NA        NA\n",
       "2007-04-09            0.001    NA        NA\n",
       "2007-04-10            0.000    NA        NA\n",
       "2007-04-11            0.910    NA        NA\n",
       "2007-04-12            0.080    NA        NA\n",
       "2007-04-13            0.000    NA        NA\n",
       "2007-04-14            0.001  0.91         1\n",
       "2007-04-15            0.000  0.91         1\n",
       "2007-04-16            0.000  0.91         1\n",
       "2007-04-17            0.000  0.91         1\n",
       "2007-04-18            0.001  0.91         1\n",
       "2007-04-19            0.001  0.91         1"
      ]
     },
     "metadata": {},
     "output_type": "display_data"
    }
   ],
   "source": [
    "qxts1$PT452 = runMax(qxts1$PrecipTotal2.imp,n=45)\n",
    "qxts1$pre45_052 <- ifelse(qxts1$PT452>0.5,1,0)\n",
    "head(qxts1,50)"
   ]
  },
  {
   "cell_type": "code",
   "execution_count": 47,
   "metadata": {},
   "outputs": [
    {
     "name": "stderr",
     "output_type": "stream",
     "text": [
      "Warning message in merge.xts(x = qxts1, y = qxts, by = \"Date\", all.x = TRUE):\n",
      "\"NAs introduced by coercion\"Warning message in merge.xts(x = qxts1, y = qxts, by = \"Date\", all.x = TRUE):\n",
      "\"NAs introduced by coercion\""
     ]
    },
    {
     "data": {
      "text/html": [
       "<ol class=list-inline>\n",
       "\t<li>1716</li>\n",
       "\t<li>8</li>\n",
       "</ol>\n"
      ],
      "text/latex": [
       "\\begin{enumerate*}\n",
       "\\item 1716\n",
       "\\item 8\n",
       "\\end{enumerate*}\n"
      ],
      "text/markdown": [
       "1. 1716\n",
       "2. 8\n",
       "\n",
       "\n"
      ],
      "text/plain": [
       "[1] 1716    8"
      ]
     },
     "metadata": {},
     "output_type": "display_data"
    }
   ],
   "source": [
    "PPT45<- merge(x = qxts1, y = qxts, by = \"Date\", all.x = TRUE)\n",
    "dim(PPT45)\n"
   ]
  },
  {
   "cell_type": "code",
   "execution_count": 49,
   "metadata": {},
   "outputs": [],
   "source": [
    "PPT45<-as.data.frame(PPT45)"
   ]
  },
  {
   "cell_type": "code",
   "execution_count": 51,
   "metadata": {},
   "outputs": [
    {
     "data": {
      "text/html": [
       "<table>\n",
       "<thead><tr><th></th><th scope=col>PrecipTotal2.imp</th><th scope=col>PT452</th><th scope=col>pre45_052</th><th scope=col>PrecipTotal.x</th><th scope=col>PT45</th><th scope=col>pre45_05</th><th scope=col>by</th><th scope=col>all.x</th><th scope=col>Date</th></tr></thead>\n",
       "<tbody>\n",
       "\t<tr><th scope=row>2007-03-01</th><td>0.370     </td><td>NA        </td><td>NA        </td><td>1.09      </td><td>NA        </td><td>NA        </td><td>NA        </td><td>1         </td><td>2007-03-01</td></tr>\n",
       "\t<tr><th scope=row>2007-03-02</th><td>0.010     </td><td>NA        </td><td>NA        </td><td>0.06      </td><td>NA        </td><td>NA        </td><td>NA        </td><td>1         </td><td>2007-03-02</td></tr>\n",
       "\t<tr><th scope=row>2007-03-03</th><td>0.001     </td><td>NA        </td><td>NA        </td><td>0.02      </td><td>NA        </td><td>NA        </td><td>NA        </td><td>1         </td><td>2007-03-03</td></tr>\n",
       "\t<tr><th scope=row>2007-03-04</th><td>0.000     </td><td>NA        </td><td>NA        </td><td>0.00      </td><td>NA        </td><td>NA        </td><td>NA        </td><td>1         </td><td>2007-03-04</td></tr>\n",
       "\t<tr><th scope=row>2007-03-05</th><td>0.000     </td><td>NA        </td><td>NA        </td><td>0.00      </td><td>NA        </td><td>NA        </td><td>NA        </td><td>1         </td><td>2007-03-05</td></tr>\n",
       "\t<tr><th scope=row>2007-03-06</th><td>0.010     </td><td>NA        </td><td>NA        </td><td>0.05      </td><td>NA        </td><td>NA        </td><td>NA        </td><td>1         </td><td>2007-03-06</td></tr>\n",
       "</tbody>\n",
       "</table>\n"
      ],
      "text/latex": [
       "\\begin{tabular}{r|lllllllll}\n",
       "  & PrecipTotal2.imp & PT452 & pre45\\_052 & PrecipTotal.x & PT45 & pre45\\_05 & by & all.x & Date\\\\\n",
       "\\hline\n",
       "\t2007-03-01 & 0.370      & NA         & NA         & 1.09       & NA         & NA         & NA         & 1          & 2007-03-01\\\\\n",
       "\t2007-03-02 & 0.010      & NA         & NA         & 0.06       & NA         & NA         & NA         & 1          & 2007-03-02\\\\\n",
       "\t2007-03-03 & 0.001      & NA         & NA         & 0.02       & NA         & NA         & NA         & 1          & 2007-03-03\\\\\n",
       "\t2007-03-04 & 0.000      & NA         & NA         & 0.00       & NA         & NA         & NA         & 1          & 2007-03-04\\\\\n",
       "\t2007-03-05 & 0.000      & NA         & NA         & 0.00       & NA         & NA         & NA         & 1          & 2007-03-05\\\\\n",
       "\t2007-03-06 & 0.010      & NA         & NA         & 0.05       & NA         & NA         & NA         & 1          & 2007-03-06\\\\\n",
       "\\end{tabular}\n"
      ],
      "text/markdown": [
       "\n",
       "| <!--/--> | PrecipTotal2.imp | PT452 | pre45_052 | PrecipTotal.x | PT45 | pre45_05 | by | all.x | Date | \n",
       "|---|---|---|---|---|---|\n",
       "| 2007-03-01 | 0.370      | NA         | NA         | 1.09       | NA         | NA         | NA         | 1          | 2007-03-01 | \n",
       "| 2007-03-02 | 0.010      | NA         | NA         | 0.06       | NA         | NA         | NA         | 1          | 2007-03-02 | \n",
       "| 2007-03-03 | 0.001      | NA         | NA         | 0.02       | NA         | NA         | NA         | 1          | 2007-03-03 | \n",
       "| 2007-03-04 | 0.000      | NA         | NA         | 0.00       | NA         | NA         | NA         | 1          | 2007-03-04 | \n",
       "| 2007-03-05 | 0.000      | NA         | NA         | 0.00       | NA         | NA         | NA         | 1          | 2007-03-05 | \n",
       "| 2007-03-06 | 0.010      | NA         | NA         | 0.05       | NA         | NA         | NA         | 1          | 2007-03-06 | \n",
       "\n",
       "\n"
      ],
      "text/plain": [
       "           PrecipTotal2.imp PT452 pre45_052 PrecipTotal.x PT45 pre45_05 by\n",
       "2007-03-01 0.370            NA    NA        1.09          NA   NA       NA\n",
       "2007-03-02 0.010            NA    NA        0.06          NA   NA       NA\n",
       "2007-03-03 0.001            NA    NA        0.02          NA   NA       NA\n",
       "2007-03-04 0.000            NA    NA        0.00          NA   NA       NA\n",
       "2007-03-05 0.000            NA    NA        0.00          NA   NA       NA\n",
       "2007-03-06 0.010            NA    NA        0.05          NA   NA       NA\n",
       "           all.x Date      \n",
       "2007-03-01 1     2007-03-01\n",
       "2007-03-02 1     2007-03-02\n",
       "2007-03-03 1     2007-03-03\n",
       "2007-03-04 1     2007-03-04\n",
       "2007-03-05 1     2007-03-05\n",
       "2007-03-06 1     2007-03-06"
      ]
     },
     "metadata": {},
     "output_type": "display_data"
    },
    {
     "name": "stdout",
     "output_type": "stream",
     "text": [
      "'data.frame':\t1716 obs. of  9 variables:\n",
      " $ PrecipTotal2.imp: num  0.37 0.01 0.001 0 0 0.01 0.01 0 0.17 0.001 ...\n",
      " $ PT452           : num  NA NA NA NA NA NA NA NA NA NA ...\n",
      " $ pre45_052       : num  NA NA NA NA NA NA NA NA NA NA ...\n",
      " $ PrecipTotal.x   : num  1.09 0.06 0.02 0 0 0.05 0.03 0 0.28 0 ...\n",
      " $ PT45            : num  NA NA NA NA NA NA NA NA NA NA ...\n",
      " $ pre45_05        : num  NA NA NA NA NA NA NA NA NA NA ...\n",
      " $ by              : num  NA NA NA NA NA NA NA NA NA NA ...\n",
      " $ all.x           : num  1 1 1 1 1 1 1 1 1 1 ...\n",
      " $ Date            : Date, format: \"2007-03-01\" \"2007-03-02\" ...\n"
     ]
    }
   ],
   "source": [
    "PPT45$Date <- as.Date(rownames(PPT45))\n",
    "head(PPT45)\n",
    "str(PPT45)"
   ]
  },
  {
   "cell_type": "code",
   "execution_count": 52,
   "metadata": {},
   "outputs": [
    {
     "data": {
      "text/html": [
       "<table>\n",
       "<thead><tr><th></th><th scope=col>PrecipTotal2.imp</th><th scope=col>PT452</th><th scope=col>pre45_052</th><th scope=col>PrecipTotal.x</th><th scope=col>PT45</th><th scope=col>pre45_05</th><th scope=col>by</th><th scope=col>all.x</th><th scope=col>Date</th></tr></thead>\n",
       "<tbody>\n",
       "\t<tr><th scope=row>2007-03-01</th><td>0.370     </td><td>NA        </td><td>NA        </td><td>1.090     </td><td>NA        </td><td>NA        </td><td>NA        </td><td>1         </td><td>2007-03-01</td></tr>\n",
       "\t<tr><th scope=row>2007-03-02</th><td>0.010     </td><td>NA        </td><td>NA        </td><td>0.060     </td><td>NA        </td><td>NA        </td><td>NA        </td><td>1         </td><td>2007-03-02</td></tr>\n",
       "\t<tr><th scope=row>2007-03-03</th><td>0.001     </td><td>NA        </td><td>NA        </td><td>0.020     </td><td>NA        </td><td>NA        </td><td>NA        </td><td>1         </td><td>2007-03-03</td></tr>\n",
       "\t<tr><th scope=row>2007-03-04</th><td>0.000     </td><td>NA        </td><td>NA        </td><td>0.000     </td><td>NA        </td><td>NA        </td><td>NA        </td><td>1         </td><td>2007-03-04</td></tr>\n",
       "\t<tr><th scope=row>2007-03-05</th><td>0.000     </td><td>NA        </td><td>NA        </td><td>0.000     </td><td>NA        </td><td>NA        </td><td>NA        </td><td>1         </td><td>2007-03-05</td></tr>\n",
       "\t<tr><th scope=row>2007-03-06</th><td>0.010     </td><td>NA        </td><td>NA        </td><td>0.050     </td><td>NA        </td><td>NA        </td><td>NA        </td><td>1         </td><td>2007-03-06</td></tr>\n",
       "\t<tr><th scope=row>2007-03-07</th><td>0.010     </td><td>NA        </td><td>NA        </td><td>0.030     </td><td>NA        </td><td>NA        </td><td>NA        </td><td>1         </td><td>2007-03-07</td></tr>\n",
       "\t<tr><th scope=row>2007-03-08</th><td>0.000     </td><td>NA        </td><td>NA        </td><td>0.000     </td><td>NA        </td><td>NA        </td><td>NA        </td><td>1         </td><td>2007-03-08</td></tr>\n",
       "\t<tr><th scope=row>2007-03-09</th><td>0.170     </td><td>NA        </td><td>NA        </td><td>0.280     </td><td>NA        </td><td>NA        </td><td>NA        </td><td>1         </td><td>2007-03-09</td></tr>\n",
       "\t<tr><th scope=row>2007-03-10</th><td>0.001     </td><td>NA        </td><td>NA        </td><td>0.000     </td><td>NA        </td><td>NA        </td><td>NA        </td><td>1         </td><td>2007-03-10</td></tr>\n",
       "\t<tr><th scope=row>2007-03-11</th><td>0.000     </td><td>NA        </td><td>NA        </td><td>0.000     </td><td>NA        </td><td>NA        </td><td>NA        </td><td>1         </td><td>2007-03-11</td></tr>\n",
       "\t<tr><th scope=row>2007-03-12</th><td>0.001     </td><td>NA        </td><td>NA        </td><td>0.001     </td><td>NA        </td><td>NA        </td><td>NA        </td><td>1         </td><td>2007-03-12</td></tr>\n",
       "\t<tr><th scope=row>2007-03-13</th><td>0.000     </td><td>NA        </td><td>NA        </td><td>0.000     </td><td>NA        </td><td>NA        </td><td>NA        </td><td>1         </td><td>2007-03-13</td></tr>\n",
       "\t<tr><th scope=row>2007-03-14</th><td>0.210     </td><td>NA        </td><td>NA        </td><td>0.160     </td><td>NA        </td><td>NA        </td><td>NA        </td><td>1         </td><td>2007-03-14</td></tr>\n",
       "\t<tr><th scope=row>2007-03-15</th><td>0.001     </td><td>NA        </td><td>NA        </td><td>0.001     </td><td>NA        </td><td>NA        </td><td>NA        </td><td>1         </td><td>2007-03-15</td></tr>\n",
       "\t<tr><th scope=row>2007-03-16</th><td>0.000     </td><td>NA        </td><td>NA        </td><td>0.000     </td><td>NA        </td><td>NA        </td><td>NA        </td><td>1         </td><td>2007-03-16</td></tr>\n",
       "\t<tr><th scope=row>2007-03-17</th><td>0.001     </td><td>NA        </td><td>NA        </td><td>0.000     </td><td>NA        </td><td>NA        </td><td>NA        </td><td>1         </td><td>2007-03-17</td></tr>\n",
       "\t<tr><th scope=row>2007-03-18</th><td>0.001     </td><td>NA        </td><td>NA        </td><td>0.000     </td><td>NA        </td><td>NA        </td><td>NA        </td><td>1         </td><td>2007-03-18</td></tr>\n",
       "\t<tr><th scope=row>2007-03-19</th><td>0.360     </td><td>NA        </td><td>NA        </td><td>0.060     </td><td>NA        </td><td>NA        </td><td>NA        </td><td>1         </td><td>2007-03-19</td></tr>\n",
       "\t<tr><th scope=row>2007-03-20</th><td>0.001     </td><td>NA        </td><td>NA        </td><td>0.000     </td><td>NA        </td><td>NA        </td><td>NA        </td><td>1         </td><td>2007-03-20</td></tr>\n",
       "\t<tr><th scope=row>2007-03-21</th><td>0.870     </td><td>NA        </td><td>NA        </td><td>1.070     </td><td>NA        </td><td>NA        </td><td>NA        </td><td>1         </td><td>2007-03-21</td></tr>\n",
       "\t<tr><th scope=row>2007-03-22</th><td>0.220     </td><td>NA        </td><td>NA        </td><td>0.090     </td><td>NA        </td><td>NA        </td><td>NA        </td><td>1         </td><td>2007-03-22</td></tr>\n",
       "\t<tr><th scope=row>2007-03-23</th><td>0.110     </td><td>NA        </td><td>NA        </td><td>0.040     </td><td>NA        </td><td>NA        </td><td>NA        </td><td>1         </td><td>2007-03-23</td></tr>\n",
       "\t<tr><th scope=row>2007-03-24</th><td>0.001     </td><td>NA        </td><td>NA        </td><td>0.001     </td><td>NA        </td><td>NA        </td><td>NA        </td><td>1         </td><td>2007-03-24</td></tr>\n",
       "\t<tr><th scope=row>2007-03-25</th><td>0.000     </td><td>NA        </td><td>NA        </td><td>0.000     </td><td>NA        </td><td>NA        </td><td>NA        </td><td>1         </td><td>2007-03-25</td></tr>\n",
       "\t<tr><th scope=row>2007-03-26</th><td>0.000     </td><td>NA        </td><td>NA        </td><td>0.000     </td><td>NA        </td><td>NA        </td><td>NA        </td><td>1         </td><td>2007-03-26</td></tr>\n",
       "\t<tr><th scope=row>2007-03-27</th><td>0.000     </td><td>NA        </td><td>NA        </td><td>0.000     </td><td>NA        </td><td>NA        </td><td>NA        </td><td>1         </td><td>2007-03-27</td></tr>\n",
       "\t<tr><th scope=row>2007-03-28</th><td>0.320     </td><td>NA        </td><td>NA        </td><td>0.200     </td><td>NA        </td><td>NA        </td><td>NA        </td><td>1         </td><td>2007-03-28</td></tr>\n",
       "\t<tr><th scope=row>2007-03-29</th><td>0.000     </td><td>NA        </td><td>NA        </td><td>0.000     </td><td>NA        </td><td>NA        </td><td>NA        </td><td>1         </td><td>2007-03-29</td></tr>\n",
       "\t<tr><th scope=row>2007-03-30</th><td>0.001     </td><td>NA        </td><td>NA        </td><td>0.001     </td><td>NA        </td><td>NA        </td><td>NA        </td><td>1         </td><td>2007-03-30</td></tr>\n",
       "\t<tr><th scope=row>...</th><td>...</td><td>...</td><td>...</td><td>...</td><td>...</td><td>...</td><td>...</td><td>...</td><td>...</td></tr>\n",
       "\t<tr><th scope=row>2007-04-10</th><td>0.000     </td><td>  NA      </td><td>NA        </td><td>0.000     </td><td>  NA      </td><td>NA        </td><td>NA        </td><td>1         </td><td>2007-04-10</td></tr>\n",
       "\t<tr><th scope=row>2007-04-11</th><td>0.910     </td><td>  NA      </td><td>NA        </td><td>1.150     </td><td>  NA      </td><td>NA        </td><td>NA        </td><td>1         </td><td>2007-04-11</td></tr>\n",
       "\t<tr><th scope=row>2007-04-12</th><td>0.080     </td><td>  NA      </td><td>NA        </td><td>0.090     </td><td>  NA      </td><td>NA        </td><td>NA        </td><td>1         </td><td>2007-04-12</td></tr>\n",
       "\t<tr><th scope=row>2007-04-13</th><td>0.000     </td><td>  NA      </td><td>NA        </td><td>0.000     </td><td>  NA      </td><td>NA        </td><td>NA        </td><td>1         </td><td>2007-04-13</td></tr>\n",
       "\t<tr><th scope=row>2007-04-14</th><td>0.001     </td><td>0.91      </td><td> 1        </td><td>0.000     </td><td>1.15      </td><td> 1        </td><td>NA        </td><td>1         </td><td>2007-04-14</td></tr>\n",
       "\t<tr><th scope=row>2007-04-15</th><td>0.000     </td><td>0.91      </td><td> 1        </td><td>0.000     </td><td>1.15      </td><td> 1        </td><td>NA        </td><td>1         </td><td>2007-04-15</td></tr>\n",
       "\t<tr><th scope=row>2007-04-16</th><td>0.000     </td><td>0.91      </td><td> 1        </td><td>0.000     </td><td>1.15      </td><td> 1        </td><td>NA        </td><td>1         </td><td>2007-04-16</td></tr>\n",
       "\t<tr><th scope=row>2007-04-17</th><td>0.000     </td><td>0.91      </td><td> 1        </td><td>0.001     </td><td>1.15      </td><td> 1        </td><td>NA        </td><td>1         </td><td>2007-04-17</td></tr>\n",
       "\t<tr><th scope=row>2007-04-18</th><td>0.001     </td><td>0.91      </td><td> 1        </td><td>0.001     </td><td>1.15      </td><td> 1        </td><td>NA        </td><td>1         </td><td>2007-04-18</td></tr>\n",
       "\t<tr><th scope=row>2007-04-19</th><td>0.001     </td><td>0.91      </td><td> 1        </td><td>0.001     </td><td>1.15      </td><td> 1        </td><td>NA        </td><td>1         </td><td>2007-04-19</td></tr>\n",
       "\t<tr><th scope=row>2007-04-20</th><td>0.000     </td><td>0.91      </td><td> 1        </td><td>0.000     </td><td>1.15      </td><td> 1        </td><td>NA        </td><td>1         </td><td>2007-04-20</td></tr>\n",
       "\t<tr><th scope=row>2007-04-21</th><td>0.000     </td><td>0.91      </td><td> 1        </td><td>0.000     </td><td>1.15      </td><td> 1        </td><td>NA        </td><td>1         </td><td>2007-04-21</td></tr>\n",
       "\t<tr><th scope=row>2007-04-22</th><td>0.001     </td><td>0.91      </td><td> 1        </td><td>0.001     </td><td>1.15      </td><td> 1        </td><td>NA        </td><td>1         </td><td>2007-04-22</td></tr>\n",
       "\t<tr><th scope=row>2007-04-23</th><td>0.000     </td><td>0.91      </td><td> 1        </td><td>0.000     </td><td>1.15      </td><td> 1        </td><td>NA        </td><td>1         </td><td>2007-04-23</td></tr>\n",
       "\t<tr><th scope=row>2007-04-24</th><td>0.190     </td><td>0.91      </td><td> 1        </td><td>0.300     </td><td>1.15      </td><td> 1        </td><td>NA        </td><td>1         </td><td>2007-04-24</td></tr>\n",
       "\t<tr><th scope=row>2007-04-25</th><td>1.240     </td><td>1.24      </td><td> 1        </td><td>1.060     </td><td>1.15      </td><td> 1        </td><td>NA        </td><td>1         </td><td>2007-04-25</td></tr>\n",
       "\t<tr><th scope=row>2007-04-26</th><td>0.870     </td><td>1.24      </td><td> 1        </td><td>0.490     </td><td>1.15      </td><td> 1        </td><td>NA        </td><td>1         </td><td>2007-04-26</td></tr>\n",
       "\t<tr><th scope=row>2007-04-27</th><td>0.020     </td><td>1.24      </td><td> 1        </td><td>0.001     </td><td>1.15      </td><td> 1        </td><td>NA        </td><td>1         </td><td>2007-04-27</td></tr>\n",
       "\t<tr><th scope=row>2007-04-28</th><td>0.000     </td><td>1.24      </td><td> 1        </td><td>0.000     </td><td>1.15      </td><td> 1        </td><td>NA        </td><td>1         </td><td>2007-04-28</td></tr>\n",
       "\t<tr><th scope=row>2007-04-29</th><td>0.170     </td><td>1.24      </td><td> 1        </td><td>0.150     </td><td>1.15      </td><td> 1        </td><td>NA        </td><td>1         </td><td>2007-04-29</td></tr>\n",
       "\t<tr><th scope=row>2007-04-30</th><td>0.030     </td><td>1.24      </td><td> 1        </td><td>0.010     </td><td>1.15      </td><td> 1        </td><td>NA        </td><td>1         </td><td>2007-04-30</td></tr>\n",
       "\t<tr><th scope=row>2007-05-01</th><td>0.000     </td><td>1.24      </td><td> 1        </td><td>0.000     </td><td>1.15      </td><td> 1        </td><td>NA        </td><td>1         </td><td>2007-05-01</td></tr>\n",
       "\t<tr><th scope=row>2007-05-02</th><td>0.000     </td><td>1.24      </td><td> 1        </td><td>0.000     </td><td>1.15      </td><td> 1        </td><td>NA        </td><td>1         </td><td>2007-05-02</td></tr>\n",
       "\t<tr><th scope=row>2007-05-03</th><td>0.000     </td><td>1.24      </td><td> 1        </td><td>0.000     </td><td>1.15      </td><td> 1        </td><td>NA        </td><td>1         </td><td>2007-05-03</td></tr>\n",
       "\t<tr><th scope=row>2007-05-04</th><td>0.000     </td><td>1.24      </td><td> 1        </td><td>0.000     </td><td>1.15      </td><td> 1        </td><td>NA        </td><td>1         </td><td>2007-05-04</td></tr>\n",
       "\t<tr><th scope=row>2007-05-05</th><td>0.000     </td><td>1.24      </td><td> 1        </td><td>0.000     </td><td>1.15      </td><td> 1        </td><td>NA        </td><td>1         </td><td>2007-05-05</td></tr>\n",
       "\t<tr><th scope=row>2007-05-06</th><td>0.000     </td><td>1.24      </td><td> 1        </td><td>0.000     </td><td>1.15      </td><td> 1        </td><td>NA        </td><td>1         </td><td>2007-05-06</td></tr>\n",
       "\t<tr><th scope=row>2007-05-07</th><td>0.000     </td><td>1.24      </td><td> 1        </td><td>0.000     </td><td>1.15      </td><td> 1        </td><td>NA        </td><td>1         </td><td>2007-05-07</td></tr>\n",
       "\t<tr><th scope=row>2007-05-08</th><td>0.000     </td><td>1.24      </td><td> 1        </td><td>0.000     </td><td>1.15      </td><td> 1        </td><td>NA        </td><td>1         </td><td>2007-05-08</td></tr>\n",
       "\t<tr><th scope=row>2007-05-09</th><td>0.020     </td><td>1.24      </td><td> 1        </td><td>0.130     </td><td>1.15      </td><td> 1        </td><td>NA        </td><td>1         </td><td>2007-05-09</td></tr>\n",
       "</tbody>\n",
       "</table>\n"
      ],
      "text/latex": [
       "\\begin{tabular}{r|lllllllll}\n",
       "  & PrecipTotal2.imp & PT452 & pre45\\_052 & PrecipTotal.x & PT45 & pre45\\_05 & by & all.x & Date\\\\\n",
       "\\hline\n",
       "\t2007-03-01 & 0.370      & NA         & NA         & 1.090      & NA         & NA         & NA         & 1          & 2007-03-01\\\\\n",
       "\t2007-03-02 & 0.010      & NA         & NA         & 0.060      & NA         & NA         & NA         & 1          & 2007-03-02\\\\\n",
       "\t2007-03-03 & 0.001      & NA         & NA         & 0.020      & NA         & NA         & NA         & 1          & 2007-03-03\\\\\n",
       "\t2007-03-04 & 0.000      & NA         & NA         & 0.000      & NA         & NA         & NA         & 1          & 2007-03-04\\\\\n",
       "\t2007-03-05 & 0.000      & NA         & NA         & 0.000      & NA         & NA         & NA         & 1          & 2007-03-05\\\\\n",
       "\t2007-03-06 & 0.010      & NA         & NA         & 0.050      & NA         & NA         & NA         & 1          & 2007-03-06\\\\\n",
       "\t2007-03-07 & 0.010      & NA         & NA         & 0.030      & NA         & NA         & NA         & 1          & 2007-03-07\\\\\n",
       "\t2007-03-08 & 0.000      & NA         & NA         & 0.000      & NA         & NA         & NA         & 1          & 2007-03-08\\\\\n",
       "\t2007-03-09 & 0.170      & NA         & NA         & 0.280      & NA         & NA         & NA         & 1          & 2007-03-09\\\\\n",
       "\t2007-03-10 & 0.001      & NA         & NA         & 0.000      & NA         & NA         & NA         & 1          & 2007-03-10\\\\\n",
       "\t2007-03-11 & 0.000      & NA         & NA         & 0.000      & NA         & NA         & NA         & 1          & 2007-03-11\\\\\n",
       "\t2007-03-12 & 0.001      & NA         & NA         & 0.001      & NA         & NA         & NA         & 1          & 2007-03-12\\\\\n",
       "\t2007-03-13 & 0.000      & NA         & NA         & 0.000      & NA         & NA         & NA         & 1          & 2007-03-13\\\\\n",
       "\t2007-03-14 & 0.210      & NA         & NA         & 0.160      & NA         & NA         & NA         & 1          & 2007-03-14\\\\\n",
       "\t2007-03-15 & 0.001      & NA         & NA         & 0.001      & NA         & NA         & NA         & 1          & 2007-03-15\\\\\n",
       "\t2007-03-16 & 0.000      & NA         & NA         & 0.000      & NA         & NA         & NA         & 1          & 2007-03-16\\\\\n",
       "\t2007-03-17 & 0.001      & NA         & NA         & 0.000      & NA         & NA         & NA         & 1          & 2007-03-17\\\\\n",
       "\t2007-03-18 & 0.001      & NA         & NA         & 0.000      & NA         & NA         & NA         & 1          & 2007-03-18\\\\\n",
       "\t2007-03-19 & 0.360      & NA         & NA         & 0.060      & NA         & NA         & NA         & 1          & 2007-03-19\\\\\n",
       "\t2007-03-20 & 0.001      & NA         & NA         & 0.000      & NA         & NA         & NA         & 1          & 2007-03-20\\\\\n",
       "\t2007-03-21 & 0.870      & NA         & NA         & 1.070      & NA         & NA         & NA         & 1          & 2007-03-21\\\\\n",
       "\t2007-03-22 & 0.220      & NA         & NA         & 0.090      & NA         & NA         & NA         & 1          & 2007-03-22\\\\\n",
       "\t2007-03-23 & 0.110      & NA         & NA         & 0.040      & NA         & NA         & NA         & 1          & 2007-03-23\\\\\n",
       "\t2007-03-24 & 0.001      & NA         & NA         & 0.001      & NA         & NA         & NA         & 1          & 2007-03-24\\\\\n",
       "\t2007-03-25 & 0.000      & NA         & NA         & 0.000      & NA         & NA         & NA         & 1          & 2007-03-25\\\\\n",
       "\t2007-03-26 & 0.000      & NA         & NA         & 0.000      & NA         & NA         & NA         & 1          & 2007-03-26\\\\\n",
       "\t2007-03-27 & 0.000      & NA         & NA         & 0.000      & NA         & NA         & NA         & 1          & 2007-03-27\\\\\n",
       "\t2007-03-28 & 0.320      & NA         & NA         & 0.200      & NA         & NA         & NA         & 1          & 2007-03-28\\\\\n",
       "\t2007-03-29 & 0.000      & NA         & NA         & 0.000      & NA         & NA         & NA         & 1          & 2007-03-29\\\\\n",
       "\t2007-03-30 & 0.001      & NA         & NA         & 0.001      & NA         & NA         & NA         & 1          & 2007-03-30\\\\\n",
       "\t... & ... & ... & ... & ... & ... & ... & ... & ... & ...\\\\\n",
       "\t2007-04-10 & 0.000      &   NA       & NA         & 0.000      &   NA       & NA         & NA         & 1          & 2007-04-10\\\\\n",
       "\t2007-04-11 & 0.910      &   NA       & NA         & 1.150      &   NA       & NA         & NA         & 1          & 2007-04-11\\\\\n",
       "\t2007-04-12 & 0.080      &   NA       & NA         & 0.090      &   NA       & NA         & NA         & 1          & 2007-04-12\\\\\n",
       "\t2007-04-13 & 0.000      &   NA       & NA         & 0.000      &   NA       & NA         & NA         & 1          & 2007-04-13\\\\\n",
       "\t2007-04-14 & 0.001      & 0.91       &  1         & 0.000      & 1.15       &  1         & NA         & 1          & 2007-04-14\\\\\n",
       "\t2007-04-15 & 0.000      & 0.91       &  1         & 0.000      & 1.15       &  1         & NA         & 1          & 2007-04-15\\\\\n",
       "\t2007-04-16 & 0.000      & 0.91       &  1         & 0.000      & 1.15       &  1         & NA         & 1          & 2007-04-16\\\\\n",
       "\t2007-04-17 & 0.000      & 0.91       &  1         & 0.001      & 1.15       &  1         & NA         & 1          & 2007-04-17\\\\\n",
       "\t2007-04-18 & 0.001      & 0.91       &  1         & 0.001      & 1.15       &  1         & NA         & 1          & 2007-04-18\\\\\n",
       "\t2007-04-19 & 0.001      & 0.91       &  1         & 0.001      & 1.15       &  1         & NA         & 1          & 2007-04-19\\\\\n",
       "\t2007-04-20 & 0.000      & 0.91       &  1         & 0.000      & 1.15       &  1         & NA         & 1          & 2007-04-20\\\\\n",
       "\t2007-04-21 & 0.000      & 0.91       &  1         & 0.000      & 1.15       &  1         & NA         & 1          & 2007-04-21\\\\\n",
       "\t2007-04-22 & 0.001      & 0.91       &  1         & 0.001      & 1.15       &  1         & NA         & 1          & 2007-04-22\\\\\n",
       "\t2007-04-23 & 0.000      & 0.91       &  1         & 0.000      & 1.15       &  1         & NA         & 1          & 2007-04-23\\\\\n",
       "\t2007-04-24 & 0.190      & 0.91       &  1         & 0.300      & 1.15       &  1         & NA         & 1          & 2007-04-24\\\\\n",
       "\t2007-04-25 & 1.240      & 1.24       &  1         & 1.060      & 1.15       &  1         & NA         & 1          & 2007-04-25\\\\\n",
       "\t2007-04-26 & 0.870      & 1.24       &  1         & 0.490      & 1.15       &  1         & NA         & 1          & 2007-04-26\\\\\n",
       "\t2007-04-27 & 0.020      & 1.24       &  1         & 0.001      & 1.15       &  1         & NA         & 1          & 2007-04-27\\\\\n",
       "\t2007-04-28 & 0.000      & 1.24       &  1         & 0.000      & 1.15       &  1         & NA         & 1          & 2007-04-28\\\\\n",
       "\t2007-04-29 & 0.170      & 1.24       &  1         & 0.150      & 1.15       &  1         & NA         & 1          & 2007-04-29\\\\\n",
       "\t2007-04-30 & 0.030      & 1.24       &  1         & 0.010      & 1.15       &  1         & NA         & 1          & 2007-04-30\\\\\n",
       "\t2007-05-01 & 0.000      & 1.24       &  1         & 0.000      & 1.15       &  1         & NA         & 1          & 2007-05-01\\\\\n",
       "\t2007-05-02 & 0.000      & 1.24       &  1         & 0.000      & 1.15       &  1         & NA         & 1          & 2007-05-02\\\\\n",
       "\t2007-05-03 & 0.000      & 1.24       &  1         & 0.000      & 1.15       &  1         & NA         & 1          & 2007-05-03\\\\\n",
       "\t2007-05-04 & 0.000      & 1.24       &  1         & 0.000      & 1.15       &  1         & NA         & 1          & 2007-05-04\\\\\n",
       "\t2007-05-05 & 0.000      & 1.24       &  1         & 0.000      & 1.15       &  1         & NA         & 1          & 2007-05-05\\\\\n",
       "\t2007-05-06 & 0.000      & 1.24       &  1         & 0.000      & 1.15       &  1         & NA         & 1          & 2007-05-06\\\\\n",
       "\t2007-05-07 & 0.000      & 1.24       &  1         & 0.000      & 1.15       &  1         & NA         & 1          & 2007-05-07\\\\\n",
       "\t2007-05-08 & 0.000      & 1.24       &  1         & 0.000      & 1.15       &  1         & NA         & 1          & 2007-05-08\\\\\n",
       "\t2007-05-09 & 0.020      & 1.24       &  1         & 0.130      & 1.15       &  1         & NA         & 1          & 2007-05-09\\\\\n",
       "\\end{tabular}\n"
      ],
      "text/markdown": [
       "\n",
       "| <!--/--> | PrecipTotal2.imp | PT452 | pre45_052 | PrecipTotal.x | PT45 | pre45_05 | by | all.x | Date | \n",
       "|---|---|---|---|---|---|---|---|---|---|---|---|---|---|---|---|---|---|---|---|---|---|---|---|---|---|---|---|---|---|---|---|---|---|---|---|---|---|---|---|---|---|---|---|---|---|---|---|---|---|---|---|---|---|---|---|---|---|---|---|---|\n",
       "| 2007-03-01 | 0.370      | NA         | NA         | 1.090      | NA         | NA         | NA         | 1          | 2007-03-01 | \n",
       "| 2007-03-02 | 0.010      | NA         | NA         | 0.060      | NA         | NA         | NA         | 1          | 2007-03-02 | \n",
       "| 2007-03-03 | 0.001      | NA         | NA         | 0.020      | NA         | NA         | NA         | 1          | 2007-03-03 | \n",
       "| 2007-03-04 | 0.000      | NA         | NA         | 0.000      | NA         | NA         | NA         | 1          | 2007-03-04 | \n",
       "| 2007-03-05 | 0.000      | NA         | NA         | 0.000      | NA         | NA         | NA         | 1          | 2007-03-05 | \n",
       "| 2007-03-06 | 0.010      | NA         | NA         | 0.050      | NA         | NA         | NA         | 1          | 2007-03-06 | \n",
       "| 2007-03-07 | 0.010      | NA         | NA         | 0.030      | NA         | NA         | NA         | 1          | 2007-03-07 | \n",
       "| 2007-03-08 | 0.000      | NA         | NA         | 0.000      | NA         | NA         | NA         | 1          | 2007-03-08 | \n",
       "| 2007-03-09 | 0.170      | NA         | NA         | 0.280      | NA         | NA         | NA         | 1          | 2007-03-09 | \n",
       "| 2007-03-10 | 0.001      | NA         | NA         | 0.000      | NA         | NA         | NA         | 1          | 2007-03-10 | \n",
       "| 2007-03-11 | 0.000      | NA         | NA         | 0.000      | NA         | NA         | NA         | 1          | 2007-03-11 | \n",
       "| 2007-03-12 | 0.001      | NA         | NA         | 0.001      | NA         | NA         | NA         | 1          | 2007-03-12 | \n",
       "| 2007-03-13 | 0.000      | NA         | NA         | 0.000      | NA         | NA         | NA         | 1          | 2007-03-13 | \n",
       "| 2007-03-14 | 0.210      | NA         | NA         | 0.160      | NA         | NA         | NA         | 1          | 2007-03-14 | \n",
       "| 2007-03-15 | 0.001      | NA         | NA         | 0.001      | NA         | NA         | NA         | 1          | 2007-03-15 | \n",
       "| 2007-03-16 | 0.000      | NA         | NA         | 0.000      | NA         | NA         | NA         | 1          | 2007-03-16 | \n",
       "| 2007-03-17 | 0.001      | NA         | NA         | 0.000      | NA         | NA         | NA         | 1          | 2007-03-17 | \n",
       "| 2007-03-18 | 0.001      | NA         | NA         | 0.000      | NA         | NA         | NA         | 1          | 2007-03-18 | \n",
       "| 2007-03-19 | 0.360      | NA         | NA         | 0.060      | NA         | NA         | NA         | 1          | 2007-03-19 | \n",
       "| 2007-03-20 | 0.001      | NA         | NA         | 0.000      | NA         | NA         | NA         | 1          | 2007-03-20 | \n",
       "| 2007-03-21 | 0.870      | NA         | NA         | 1.070      | NA         | NA         | NA         | 1          | 2007-03-21 | \n",
       "| 2007-03-22 | 0.220      | NA         | NA         | 0.090      | NA         | NA         | NA         | 1          | 2007-03-22 | \n",
       "| 2007-03-23 | 0.110      | NA         | NA         | 0.040      | NA         | NA         | NA         | 1          | 2007-03-23 | \n",
       "| 2007-03-24 | 0.001      | NA         | NA         | 0.001      | NA         | NA         | NA         | 1          | 2007-03-24 | \n",
       "| 2007-03-25 | 0.000      | NA         | NA         | 0.000      | NA         | NA         | NA         | 1          | 2007-03-25 | \n",
       "| 2007-03-26 | 0.000      | NA         | NA         | 0.000      | NA         | NA         | NA         | 1          | 2007-03-26 | \n",
       "| 2007-03-27 | 0.000      | NA         | NA         | 0.000      | NA         | NA         | NA         | 1          | 2007-03-27 | \n",
       "| 2007-03-28 | 0.320      | NA         | NA         | 0.200      | NA         | NA         | NA         | 1          | 2007-03-28 | \n",
       "| 2007-03-29 | 0.000      | NA         | NA         | 0.000      | NA         | NA         | NA         | 1          | 2007-03-29 | \n",
       "| 2007-03-30 | 0.001      | NA         | NA         | 0.001      | NA         | NA         | NA         | 1          | 2007-03-30 | \n",
       "| ... | ... | ... | ... | ... | ... | ... | ... | ... | ... | \n",
       "| 2007-04-10 | 0.000      |   NA       | NA         | 0.000      |   NA       | NA         | NA         | 1          | 2007-04-10 | \n",
       "| 2007-04-11 | 0.910      |   NA       | NA         | 1.150      |   NA       | NA         | NA         | 1          | 2007-04-11 | \n",
       "| 2007-04-12 | 0.080      |   NA       | NA         | 0.090      |   NA       | NA         | NA         | 1          | 2007-04-12 | \n",
       "| 2007-04-13 | 0.000      |   NA       | NA         | 0.000      |   NA       | NA         | NA         | 1          | 2007-04-13 | \n",
       "| 2007-04-14 | 0.001      | 0.91       |  1         | 0.000      | 1.15       |  1         | NA         | 1          | 2007-04-14 | \n",
       "| 2007-04-15 | 0.000      | 0.91       |  1         | 0.000      | 1.15       |  1         | NA         | 1          | 2007-04-15 | \n",
       "| 2007-04-16 | 0.000      | 0.91       |  1         | 0.000      | 1.15       |  1         | NA         | 1          | 2007-04-16 | \n",
       "| 2007-04-17 | 0.000      | 0.91       |  1         | 0.001      | 1.15       |  1         | NA         | 1          | 2007-04-17 | \n",
       "| 2007-04-18 | 0.001      | 0.91       |  1         | 0.001      | 1.15       |  1         | NA         | 1          | 2007-04-18 | \n",
       "| 2007-04-19 | 0.001      | 0.91       |  1         | 0.001      | 1.15       |  1         | NA         | 1          | 2007-04-19 | \n",
       "| 2007-04-20 | 0.000      | 0.91       |  1         | 0.000      | 1.15       |  1         | NA         | 1          | 2007-04-20 | \n",
       "| 2007-04-21 | 0.000      | 0.91       |  1         | 0.000      | 1.15       |  1         | NA         | 1          | 2007-04-21 | \n",
       "| 2007-04-22 | 0.001      | 0.91       |  1         | 0.001      | 1.15       |  1         | NA         | 1          | 2007-04-22 | \n",
       "| 2007-04-23 | 0.000      | 0.91       |  1         | 0.000      | 1.15       |  1         | NA         | 1          | 2007-04-23 | \n",
       "| 2007-04-24 | 0.190      | 0.91       |  1         | 0.300      | 1.15       |  1         | NA         | 1          | 2007-04-24 | \n",
       "| 2007-04-25 | 1.240      | 1.24       |  1         | 1.060      | 1.15       |  1         | NA         | 1          | 2007-04-25 | \n",
       "| 2007-04-26 | 0.870      | 1.24       |  1         | 0.490      | 1.15       |  1         | NA         | 1          | 2007-04-26 | \n",
       "| 2007-04-27 | 0.020      | 1.24       |  1         | 0.001      | 1.15       |  1         | NA         | 1          | 2007-04-27 | \n",
       "| 2007-04-28 | 0.000      | 1.24       |  1         | 0.000      | 1.15       |  1         | NA         | 1          | 2007-04-28 | \n",
       "| 2007-04-29 | 0.170      | 1.24       |  1         | 0.150      | 1.15       |  1         | NA         | 1          | 2007-04-29 | \n",
       "| 2007-04-30 | 0.030      | 1.24       |  1         | 0.010      | 1.15       |  1         | NA         | 1          | 2007-04-30 | \n",
       "| 2007-05-01 | 0.000      | 1.24       |  1         | 0.000      | 1.15       |  1         | NA         | 1          | 2007-05-01 | \n",
       "| 2007-05-02 | 0.000      | 1.24       |  1         | 0.000      | 1.15       |  1         | NA         | 1          | 2007-05-02 | \n",
       "| 2007-05-03 | 0.000      | 1.24       |  1         | 0.000      | 1.15       |  1         | NA         | 1          | 2007-05-03 | \n",
       "| 2007-05-04 | 0.000      | 1.24       |  1         | 0.000      | 1.15       |  1         | NA         | 1          | 2007-05-04 | \n",
       "| 2007-05-05 | 0.000      | 1.24       |  1         | 0.000      | 1.15       |  1         | NA         | 1          | 2007-05-05 | \n",
       "| 2007-05-06 | 0.000      | 1.24       |  1         | 0.000      | 1.15       |  1         | NA         | 1          | 2007-05-06 | \n",
       "| 2007-05-07 | 0.000      | 1.24       |  1         | 0.000      | 1.15       |  1         | NA         | 1          | 2007-05-07 | \n",
       "| 2007-05-08 | 0.000      | 1.24       |  1         | 0.000      | 1.15       |  1         | NA         | 1          | 2007-05-08 | \n",
       "| 2007-05-09 | 0.020      | 1.24       |  1         | 0.130      | 1.15       |  1         | NA         | 1          | 2007-05-09 | \n",
       "\n",
       "\n"
      ],
      "text/plain": [
       "           PrecipTotal2.imp PT452 pre45_052 PrecipTotal.x PT45 pre45_05 by \n",
       "2007-03-01 0.370            NA    NA        1.090         NA   NA       NA \n",
       "2007-03-02 0.010            NA    NA        0.060         NA   NA       NA \n",
       "2007-03-03 0.001            NA    NA        0.020         NA   NA       NA \n",
       "2007-03-04 0.000            NA    NA        0.000         NA   NA       NA \n",
       "2007-03-05 0.000            NA    NA        0.000         NA   NA       NA \n",
       "2007-03-06 0.010            NA    NA        0.050         NA   NA       NA \n",
       "2007-03-07 0.010            NA    NA        0.030         NA   NA       NA \n",
       "2007-03-08 0.000            NA    NA        0.000         NA   NA       NA \n",
       "2007-03-09 0.170            NA    NA        0.280         NA   NA       NA \n",
       "2007-03-10 0.001            NA    NA        0.000         NA   NA       NA \n",
       "2007-03-11 0.000            NA    NA        0.000         NA   NA       NA \n",
       "2007-03-12 0.001            NA    NA        0.001         NA   NA       NA \n",
       "2007-03-13 0.000            NA    NA        0.000         NA   NA       NA \n",
       "2007-03-14 0.210            NA    NA        0.160         NA   NA       NA \n",
       "2007-03-15 0.001            NA    NA        0.001         NA   NA       NA \n",
       "2007-03-16 0.000            NA    NA        0.000         NA   NA       NA \n",
       "2007-03-17 0.001            NA    NA        0.000         NA   NA       NA \n",
       "2007-03-18 0.001            NA    NA        0.000         NA   NA       NA \n",
       "2007-03-19 0.360            NA    NA        0.060         NA   NA       NA \n",
       "2007-03-20 0.001            NA    NA        0.000         NA   NA       NA \n",
       "2007-03-21 0.870            NA    NA        1.070         NA   NA       NA \n",
       "2007-03-22 0.220            NA    NA        0.090         NA   NA       NA \n",
       "2007-03-23 0.110            NA    NA        0.040         NA   NA       NA \n",
       "2007-03-24 0.001            NA    NA        0.001         NA   NA       NA \n",
       "2007-03-25 0.000            NA    NA        0.000         NA   NA       NA \n",
       "2007-03-26 0.000            NA    NA        0.000         NA   NA       NA \n",
       "2007-03-27 0.000            NA    NA        0.000         NA   NA       NA \n",
       "2007-03-28 0.320            NA    NA        0.200         NA   NA       NA \n",
       "2007-03-29 0.000            NA    NA        0.000         NA   NA       NA \n",
       "2007-03-30 0.001            NA    NA        0.001         NA   NA       NA \n",
       "...        ...              ...   ...       ...           ...  ...      ...\n",
       "2007-04-10 0.000              NA  NA        0.000           NA NA       NA \n",
       "2007-04-11 0.910              NA  NA        1.150           NA NA       NA \n",
       "2007-04-12 0.080              NA  NA        0.090           NA NA       NA \n",
       "2007-04-13 0.000              NA  NA        0.000           NA NA       NA \n",
       "2007-04-14 0.001            0.91   1        0.000         1.15  1       NA \n",
       "2007-04-15 0.000            0.91   1        0.000         1.15  1       NA \n",
       "2007-04-16 0.000            0.91   1        0.000         1.15  1       NA \n",
       "2007-04-17 0.000            0.91   1        0.001         1.15  1       NA \n",
       "2007-04-18 0.001            0.91   1        0.001         1.15  1       NA \n",
       "2007-04-19 0.001            0.91   1        0.001         1.15  1       NA \n",
       "2007-04-20 0.000            0.91   1        0.000         1.15  1       NA \n",
       "2007-04-21 0.000            0.91   1        0.000         1.15  1       NA \n",
       "2007-04-22 0.001            0.91   1        0.001         1.15  1       NA \n",
       "2007-04-23 0.000            0.91   1        0.000         1.15  1       NA \n",
       "2007-04-24 0.190            0.91   1        0.300         1.15  1       NA \n",
       "2007-04-25 1.240            1.24   1        1.060         1.15  1       NA \n",
       "2007-04-26 0.870            1.24   1        0.490         1.15  1       NA \n",
       "2007-04-27 0.020            1.24   1        0.001         1.15  1       NA \n",
       "2007-04-28 0.000            1.24   1        0.000         1.15  1       NA \n",
       "2007-04-29 0.170            1.24   1        0.150         1.15  1       NA \n",
       "2007-04-30 0.030            1.24   1        0.010         1.15  1       NA \n",
       "2007-05-01 0.000            1.24   1        0.000         1.15  1       NA \n",
       "2007-05-02 0.000            1.24   1        0.000         1.15  1       NA \n",
       "2007-05-03 0.000            1.24   1        0.000         1.15  1       NA \n",
       "2007-05-04 0.000            1.24   1        0.000         1.15  1       NA \n",
       "2007-05-05 0.000            1.24   1        0.000         1.15  1       NA \n",
       "2007-05-06 0.000            1.24   1        0.000         1.15  1       NA \n",
       "2007-05-07 0.000            1.24   1        0.000         1.15  1       NA \n",
       "2007-05-08 0.000            1.24   1        0.000         1.15  1       NA \n",
       "2007-05-09 0.020            1.24   1        0.130         1.15  1       NA \n",
       "           all.x Date      \n",
       "2007-03-01 1     2007-03-01\n",
       "2007-03-02 1     2007-03-02\n",
       "2007-03-03 1     2007-03-03\n",
       "2007-03-04 1     2007-03-04\n",
       "2007-03-05 1     2007-03-05\n",
       "2007-03-06 1     2007-03-06\n",
       "2007-03-07 1     2007-03-07\n",
       "2007-03-08 1     2007-03-08\n",
       "2007-03-09 1     2007-03-09\n",
       "2007-03-10 1     2007-03-10\n",
       "2007-03-11 1     2007-03-11\n",
       "2007-03-12 1     2007-03-12\n",
       "2007-03-13 1     2007-03-13\n",
       "2007-03-14 1     2007-03-14\n",
       "2007-03-15 1     2007-03-15\n",
       "2007-03-16 1     2007-03-16\n",
       "2007-03-17 1     2007-03-17\n",
       "2007-03-18 1     2007-03-18\n",
       "2007-03-19 1     2007-03-19\n",
       "2007-03-20 1     2007-03-20\n",
       "2007-03-21 1     2007-03-21\n",
       "2007-03-22 1     2007-03-22\n",
       "2007-03-23 1     2007-03-23\n",
       "2007-03-24 1     2007-03-24\n",
       "2007-03-25 1     2007-03-25\n",
       "2007-03-26 1     2007-03-26\n",
       "2007-03-27 1     2007-03-27\n",
       "2007-03-28 1     2007-03-28\n",
       "2007-03-29 1     2007-03-29\n",
       "2007-03-30 1     2007-03-30\n",
       "...        ...   ...       \n",
       "2007-04-10 1     2007-04-10\n",
       "2007-04-11 1     2007-04-11\n",
       "2007-04-12 1     2007-04-12\n",
       "2007-04-13 1     2007-04-13\n",
       "2007-04-14 1     2007-04-14\n",
       "2007-04-15 1     2007-04-15\n",
       "2007-04-16 1     2007-04-16\n",
       "2007-04-17 1     2007-04-17\n",
       "2007-04-18 1     2007-04-18\n",
       "2007-04-19 1     2007-04-19\n",
       "2007-04-20 1     2007-04-20\n",
       "2007-04-21 1     2007-04-21\n",
       "2007-04-22 1     2007-04-22\n",
       "2007-04-23 1     2007-04-23\n",
       "2007-04-24 1     2007-04-24\n",
       "2007-04-25 1     2007-04-25\n",
       "2007-04-26 1     2007-04-26\n",
       "2007-04-27 1     2007-04-27\n",
       "2007-04-28 1     2007-04-28\n",
       "2007-04-29 1     2007-04-29\n",
       "2007-04-30 1     2007-04-30\n",
       "2007-05-01 1     2007-05-01\n",
       "2007-05-02 1     2007-05-02\n",
       "2007-05-03 1     2007-05-03\n",
       "2007-05-04 1     2007-05-04\n",
       "2007-05-05 1     2007-05-05\n",
       "2007-05-06 1     2007-05-06\n",
       "2007-05-07 1     2007-05-07\n",
       "2007-05-08 1     2007-05-08\n",
       "2007-05-09 1     2007-05-09"
      ]
     },
     "metadata": {},
     "output_type": "display_data"
    }
   ],
   "source": [
    "head(PPT45,70)"
   ]
  },
  {
   "cell_type": "code",
   "execution_count": 53,
   "metadata": {},
   "outputs": [],
   "source": [
    "write.csv(PPT45, file=\"C:/Users/Chen/Project/data/PPT45.csv\", row.names =F)"
   ]
  },
  {
   "cell_type": "code",
   "execution_count": 59,
   "metadata": {},
   "outputs": [
    {
     "data": {
      "text/html": [
       "<table>\n",
       "<thead><tr><th scope=col>Date</th><th scope=col>PrecipTotal.x</th><th scope=col>PrecipTotal2.imp</th></tr></thead>\n",
       "<tbody>\n",
       "\t<tr><td>2007-03-01</td><td>1.09      </td><td>0.370     </td></tr>\n",
       "\t<tr><td>2007-03-02</td><td>0.06      </td><td>0.010     </td></tr>\n",
       "\t<tr><td>2007-03-03</td><td>0.02      </td><td>0.001     </td></tr>\n",
       "\t<tr><td>2007-03-04</td><td>0.00      </td><td>0.000     </td></tr>\n",
       "\t<tr><td>2007-03-05</td><td>0.00      </td><td>0.000     </td></tr>\n",
       "\t<tr><td>2007-03-06</td><td>0.05      </td><td>0.010     </td></tr>\n",
       "</tbody>\n",
       "</table>\n"
      ],
      "text/latex": [
       "\\begin{tabular}{r|lll}\n",
       " Date & PrecipTotal.x & PrecipTotal2.imp\\\\\n",
       "\\hline\n",
       "\t 2007-03-01 & 1.09       & 0.370     \\\\\n",
       "\t 2007-03-02 & 0.06       & 0.010     \\\\\n",
       "\t 2007-03-03 & 0.02       & 0.001     \\\\\n",
       "\t 2007-03-04 & 0.00       & 0.000     \\\\\n",
       "\t 2007-03-05 & 0.00       & 0.000     \\\\\n",
       "\t 2007-03-06 & 0.05       & 0.010     \\\\\n",
       "\\end{tabular}\n"
      ],
      "text/markdown": [
       "\n",
       "Date | PrecipTotal.x | PrecipTotal2.imp | \n",
       "|---|---|---|---|---|---|\n",
       "| 2007-03-01 | 1.09       | 0.370      | \n",
       "| 2007-03-02 | 0.06       | 0.010      | \n",
       "| 2007-03-03 | 0.02       | 0.001      | \n",
       "| 2007-03-04 | 0.00       | 0.000      | \n",
       "| 2007-03-05 | 0.00       | 0.000      | \n",
       "| 2007-03-06 | 0.05       | 0.010      | \n",
       "\n",
       "\n"
      ],
      "text/plain": [
       "  Date       PrecipTotal.x PrecipTotal2.imp\n",
       "1 2007-03-01 1.09          0.370           \n",
       "2 2007-03-02 0.06          0.010           \n",
       "3 2007-03-03 0.02          0.001           \n",
       "4 2007-03-04 0.00          0.000           \n",
       "5 2007-03-05 0.00          0.000           \n",
       "6 2007-03-06 0.05          0.010           "
      ]
     },
     "metadata": {},
     "output_type": "display_data"
    }
   ],
   "source": [
    "head(preT)"
   ]
  },
  {
   "cell_type": "code",
   "execution_count": 67,
   "metadata": {},
   "outputs": [],
   "source": [
    "q3 <- preT[,c(\"Date\",\"PrecipTotal.x\")]\n",
    "qxts3 <- xts(q3[,\"PrecipTotal.x\"], order.by=q3[,\"Date\"])\n",
    "names(qxts3) <- \"PrecipTotal.x\""
   ]
  },
  {
   "cell_type": "code",
   "execution_count": 68,
   "metadata": {},
   "outputs": [
    {
     "data": {
      "text/plain": [
       "           PrecipTotal.x\n",
       "2007-03-01          1.09\n",
       "2007-03-02          0.06\n",
       "2007-03-03          0.02\n",
       "2007-03-04          0.00\n",
       "2007-03-05          0.00\n",
       "2007-03-06          0.05"
      ]
     },
     "metadata": {},
     "output_type": "display_data"
    }
   ],
   "source": [
    "head(qxts3)"
   ]
  },
  {
   "cell_type": "code",
   "execution_count": 70,
   "metadata": {},
   "outputs": [
    {
     "data": {
      "text/plain": [
       "           PrecipTotal.x PT45 pre45_1\n",
       "2007-03-01         1.090   NA      NA\n",
       "2007-03-02         0.060   NA      NA\n",
       "2007-03-03         0.020   NA      NA\n",
       "2007-03-04         0.000   NA      NA\n",
       "2007-03-05         0.000   NA      NA\n",
       "2007-03-06         0.050   NA      NA\n",
       "2007-03-07         0.030   NA      NA\n",
       "2007-03-08         0.000   NA      NA\n",
       "2007-03-09         0.280   NA      NA\n",
       "2007-03-10         0.000   NA      NA\n",
       "2007-03-11         0.000   NA      NA\n",
       "2007-03-12         0.001   NA      NA\n",
       "2007-03-13         0.000   NA      NA\n",
       "2007-03-14         0.160   NA      NA\n",
       "2007-03-15         0.001   NA      NA\n",
       "2007-03-16         0.000   NA      NA\n",
       "2007-03-17         0.000   NA      NA\n",
       "2007-03-18         0.000   NA      NA\n",
       "2007-03-19         0.060   NA      NA\n",
       "2007-03-20         0.000   NA      NA\n",
       "2007-03-21         1.070   NA      NA\n",
       "2007-03-22         0.090   NA      NA\n",
       "2007-03-23         0.040   NA      NA\n",
       "2007-03-24         0.001   NA      NA\n",
       "2007-03-25         0.000   NA      NA\n",
       "2007-03-26         0.000   NA      NA\n",
       "2007-03-27         0.000   NA      NA\n",
       "2007-03-28         0.200   NA      NA\n",
       "2007-03-29         0.000   NA      NA\n",
       "2007-03-30         0.001   NA      NA\n",
       "2007-03-31         0.510   NA      NA\n",
       "2007-04-01         0.090   NA      NA\n",
       "2007-04-02         0.000   NA      NA\n",
       "2007-04-03         0.150   NA      NA\n",
       "2007-04-04         0.001   NA      NA\n",
       "2007-04-05         0.000   NA      NA\n",
       "2007-04-06         0.000   NA      NA\n",
       "2007-04-07         0.000   NA      NA\n",
       "2007-04-08         0.001   NA      NA\n",
       "2007-04-09         0.001   NA      NA\n",
       "2007-04-10         0.000   NA      NA\n",
       "2007-04-11         1.150   NA      NA\n",
       "2007-04-12         0.090   NA      NA\n",
       "2007-04-13         0.000   NA      NA\n",
       "2007-04-14         0.000 1.15       1\n",
       "2007-04-15         0.000 1.15       1\n",
       "2007-04-16         0.000 1.15       1\n",
       "2007-04-17         0.001 1.15       1\n",
       "2007-04-18         0.001 1.15       1\n",
       "2007-04-19         0.001 1.15       1"
      ]
     },
     "metadata": {},
     "output_type": "display_data"
    }
   ],
   "source": [
    "qxts3$PT45 = runMax(qxts3$PrecipTotal.x,n=45)\n",
    "qxts3$pre45_1 <- ifelse(qxts3$PT45>1,1,0)\n",
    "head(qxts3,50)"
   ]
  },
  {
   "cell_type": "code",
   "execution_count": null,
   "metadata": {},
   "outputs": [],
   "source": [
    "qxts2$PT452 = runMax(qxts2$PrecipTotal2.imp,n=45)\n",
    "qxts2$pre45_1_2 <- ifelse(qxts2$PT452>1,1,0)\n",
    "head(qxts2,50)"
   ]
  },
  {
   "cell_type": "code",
   "execution_count": 64,
   "metadata": {},
   "outputs": [],
   "source": [
    "q2 <- preT[,c(\"Date\",\"PrecipTotal2.imp\")]\n",
    "qxts2 <- xts(q2[,\"PrecipTotal2.imp\"], order.by=q2[,\"Date\"])\n",
    "names(qxts2) <- \"PrecipTotal2.imp\""
   ]
  },
  {
   "cell_type": "code",
   "execution_count": 65,
   "metadata": {},
   "outputs": [
    {
     "data": {
      "text/plain": [
       "           PrecipTotal2.imp\n",
       "2007-03-01            0.370\n",
       "2007-03-02            0.010\n",
       "2007-03-03            0.001\n",
       "2007-03-04            0.000\n",
       "2007-03-05            0.000\n",
       "2007-03-06            0.010"
      ]
     },
     "metadata": {},
     "output_type": "display_data"
    }
   ],
   "source": [
    "head(qxts2)"
   ]
  },
  {
   "cell_type": "code",
   "execution_count": 66,
   "metadata": {},
   "outputs": [
    {
     "data": {
      "text/plain": [
       "           PrecipTotal2.imp PT452 pre45_1_2\n",
       "2007-03-01            0.370    NA        NA\n",
       "2007-03-02            0.010    NA        NA\n",
       "2007-03-03            0.001    NA        NA\n",
       "2007-03-04            0.000    NA        NA\n",
       "2007-03-05            0.000    NA        NA\n",
       "2007-03-06            0.010    NA        NA\n",
       "2007-03-07            0.010    NA        NA\n",
       "2007-03-08            0.000    NA        NA\n",
       "2007-03-09            0.170    NA        NA\n",
       "2007-03-10            0.001    NA        NA\n",
       "2007-03-11            0.000    NA        NA\n",
       "2007-03-12            0.001    NA        NA\n",
       "2007-03-13            0.000    NA        NA\n",
       "2007-03-14            0.210    NA        NA\n",
       "2007-03-15            0.001    NA        NA\n",
       "2007-03-16            0.000    NA        NA\n",
       "2007-03-17            0.001    NA        NA\n",
       "2007-03-18            0.001    NA        NA\n",
       "2007-03-19            0.360    NA        NA\n",
       "2007-03-20            0.001    NA        NA\n",
       "2007-03-21            0.870    NA        NA\n",
       "2007-03-22            0.220    NA        NA\n",
       "2007-03-23            0.110    NA        NA\n",
       "2007-03-24            0.001    NA        NA\n",
       "2007-03-25            0.000    NA        NA\n",
       "2007-03-26            0.000    NA        NA\n",
       "2007-03-27            0.000    NA        NA\n",
       "2007-03-28            0.320    NA        NA\n",
       "2007-03-29            0.000    NA        NA\n",
       "2007-03-30            0.001    NA        NA\n",
       "2007-03-31            0.470    NA        NA\n",
       "2007-04-01            0.030    NA        NA\n",
       "2007-04-02            0.000    NA        NA\n",
       "2007-04-03            0.070    NA        NA\n",
       "2007-04-04            0.001    NA        NA\n",
       "2007-04-05            0.000    NA        NA\n",
       "2007-04-06            0.000    NA        NA\n",
       "2007-04-07            0.001    NA        NA\n",
       "2007-04-08            0.000    NA        NA\n",
       "2007-04-09            0.001    NA        NA\n",
       "2007-04-10            0.000    NA        NA\n",
       "2007-04-11            0.910    NA        NA\n",
       "2007-04-12            0.080    NA        NA\n",
       "2007-04-13            0.000    NA        NA\n",
       "2007-04-14            0.001  0.91         0\n",
       "2007-04-15            0.000  0.91         0\n",
       "2007-04-16            0.000  0.91         0\n",
       "2007-04-17            0.000  0.91         0\n",
       "2007-04-18            0.001  0.91         0\n",
       "2007-04-19            0.001  0.91         0"
      ]
     },
     "metadata": {},
     "output_type": "display_data"
    }
   ],
   "source": [
    "qxts2$PT452 = runMax(qxts2$PrecipTotal2.imp,n=45)\n",
    "qxts2$pre45_1_2 <- ifelse(qxts2$PT452>1,1,0)\n",
    "head(qxts2,50)"
   ]
  },
  {
   "cell_type": "code",
   "execution_count": 71,
   "metadata": {},
   "outputs": [
    {
     "name": "stderr",
     "output_type": "stream",
     "text": [
      "Warning message in merge.xts(x = qxts2, y = qxts3, by = \"Date\", all.x = TRUE):\n",
      "\"NAs introduced by coercion\"Warning message in merge.xts(x = qxts2, y = qxts3, by = \"Date\", all.x = TRUE):\n",
      "\"NAs introduced by coercion\""
     ]
    },
    {
     "data": {
      "text/html": [
       "<ol class=list-inline>\n",
       "\t<li>1716</li>\n",
       "\t<li>8</li>\n",
       "</ol>\n"
      ],
      "text/latex": [
       "\\begin{enumerate*}\n",
       "\\item 1716\n",
       "\\item 8\n",
       "\\end{enumerate*}\n"
      ],
      "text/markdown": [
       "1. 1716\n",
       "2. 8\n",
       "\n",
       "\n"
      ],
      "text/plain": [
       "[1] 1716    8"
      ]
     },
     "metadata": {},
     "output_type": "display_data"
    }
   ],
   "source": [
    "PPT45_2<- merge(x = qxts2, y = qxts3, by = \"Date\", all.x = TRUE)\n",
    "dim(PPT45_2)\n"
   ]
  },
  {
   "cell_type": "code",
   "execution_count": 73,
   "metadata": {},
   "outputs": [],
   "source": [
    "PPT45_2<-as.data.frame(PPT45_2)"
   ]
  },
  {
   "cell_type": "code",
   "execution_count": 74,
   "metadata": {},
   "outputs": [
    {
     "data": {
      "text/html": [
       "<table>\n",
       "<thead><tr><th></th><th scope=col>PrecipTotal2.imp</th><th scope=col>PT452</th><th scope=col>pre45_1_2</th><th scope=col>PrecipTotal.x</th><th scope=col>PT45</th><th scope=col>pre45_1</th><th scope=col>by</th><th scope=col>Date</th></tr></thead>\n",
       "<tbody>\n",
       "\t<tr><th scope=row>2007-03-01</th><td>0.370</td><td>NA   </td><td>NA   </td><td>1.09 </td><td>NA   </td><td>NA   </td><td>NA   </td><td>1    </td></tr>\n",
       "\t<tr><th scope=row>2007-03-02</th><td>0.010</td><td>NA   </td><td>NA   </td><td>0.06 </td><td>NA   </td><td>NA   </td><td>NA   </td><td>1    </td></tr>\n",
       "\t<tr><th scope=row>2007-03-03</th><td>0.001</td><td>NA   </td><td>NA   </td><td>0.02 </td><td>NA   </td><td>NA   </td><td>NA   </td><td>1    </td></tr>\n",
       "\t<tr><th scope=row>2007-03-04</th><td>0.000</td><td>NA   </td><td>NA   </td><td>0.00 </td><td>NA   </td><td>NA   </td><td>NA   </td><td>1    </td></tr>\n",
       "\t<tr><th scope=row>2007-03-05</th><td>0.000</td><td>NA   </td><td>NA   </td><td>0.00 </td><td>NA   </td><td>NA   </td><td>NA   </td><td>1    </td></tr>\n",
       "\t<tr><th scope=row>2007-03-06</th><td>0.010</td><td>NA   </td><td>NA   </td><td>0.05 </td><td>NA   </td><td>NA   </td><td>NA   </td><td>1    </td></tr>\n",
       "</tbody>\n",
       "</table>\n"
      ],
      "text/latex": [
       "\\begin{tabular}{r|llllllll}\n",
       "  & PrecipTotal2.imp & PT452 & pre45\\_1\\_2 & PrecipTotal.x & PT45 & pre45\\_1 & by & Date\\\\\n",
       "\\hline\n",
       "\t2007-03-01 & 0.370 & NA    & NA    & 1.09  & NA    & NA    & NA    & 1    \\\\\n",
       "\t2007-03-02 & 0.010 & NA    & NA    & 0.06  & NA    & NA    & NA    & 1    \\\\\n",
       "\t2007-03-03 & 0.001 & NA    & NA    & 0.02  & NA    & NA    & NA    & 1    \\\\\n",
       "\t2007-03-04 & 0.000 & NA    & NA    & 0.00  & NA    & NA    & NA    & 1    \\\\\n",
       "\t2007-03-05 & 0.000 & NA    & NA    & 0.00  & NA    & NA    & NA    & 1    \\\\\n",
       "\t2007-03-06 & 0.010 & NA    & NA    & 0.05  & NA    & NA    & NA    & 1    \\\\\n",
       "\\end{tabular}\n"
      ],
      "text/markdown": [
       "\n",
       "| <!--/--> | PrecipTotal2.imp | PT452 | pre45_1_2 | PrecipTotal.x | PT45 | pre45_1 | by | Date | \n",
       "|---|---|---|---|---|---|\n",
       "| 2007-03-01 | 0.370 | NA    | NA    | 1.09  | NA    | NA    | NA    | 1     | \n",
       "| 2007-03-02 | 0.010 | NA    | NA    | 0.06  | NA    | NA    | NA    | 1     | \n",
       "| 2007-03-03 | 0.001 | NA    | NA    | 0.02  | NA    | NA    | NA    | 1     | \n",
       "| 2007-03-04 | 0.000 | NA    | NA    | 0.00  | NA    | NA    | NA    | 1     | \n",
       "| 2007-03-05 | 0.000 | NA    | NA    | 0.00  | NA    | NA    | NA    | 1     | \n",
       "| 2007-03-06 | 0.010 | NA    | NA    | 0.05  | NA    | NA    | NA    | 1     | \n",
       "\n",
       "\n"
      ],
      "text/plain": [
       "           PrecipTotal2.imp PT452 pre45_1_2 PrecipTotal.x PT45 pre45_1 by Date\n",
       "2007-03-01 0.370            NA    NA        1.09          NA   NA      NA 1   \n",
       "2007-03-02 0.010            NA    NA        0.06          NA   NA      NA 1   \n",
       "2007-03-03 0.001            NA    NA        0.02          NA   NA      NA 1   \n",
       "2007-03-04 0.000            NA    NA        0.00          NA   NA      NA 1   \n",
       "2007-03-05 0.000            NA    NA        0.00          NA   NA      NA 1   \n",
       "2007-03-06 0.010            NA    NA        0.05          NA   NA      NA 1   "
      ]
     },
     "metadata": {},
     "output_type": "display_data"
    }
   ],
   "source": [
    "head(PPT45_2)"
   ]
  },
  {
   "cell_type": "code",
   "execution_count": 76,
   "metadata": {},
   "outputs": [
    {
     "data": {
      "text/html": [
       "<table>\n",
       "<thead><tr><th></th><th scope=col>PrecipTotal2.imp</th><th scope=col>PT452</th><th scope=col>pre45_1_2</th><th scope=col>PrecipTotal.x</th><th scope=col>PT45</th><th scope=col>pre45_1</th><th scope=col>by</th><th scope=col>Date</th></tr></thead>\n",
       "<tbody>\n",
       "\t<tr><th scope=row>2007-03-01</th><td>0.370     </td><td>NA        </td><td>NA        </td><td>1.09      </td><td>NA        </td><td>NA        </td><td>NA        </td><td>2007-03-01</td></tr>\n",
       "\t<tr><th scope=row>2007-03-02</th><td>0.010     </td><td>NA        </td><td>NA        </td><td>0.06      </td><td>NA        </td><td>NA        </td><td>NA        </td><td>2007-03-02</td></tr>\n",
       "\t<tr><th scope=row>2007-03-03</th><td>0.001     </td><td>NA        </td><td>NA        </td><td>0.02      </td><td>NA        </td><td>NA        </td><td>NA        </td><td>2007-03-03</td></tr>\n",
       "\t<tr><th scope=row>2007-03-04</th><td>0.000     </td><td>NA        </td><td>NA        </td><td>0.00      </td><td>NA        </td><td>NA        </td><td>NA        </td><td>2007-03-04</td></tr>\n",
       "\t<tr><th scope=row>2007-03-05</th><td>0.000     </td><td>NA        </td><td>NA        </td><td>0.00      </td><td>NA        </td><td>NA        </td><td>NA        </td><td>2007-03-05</td></tr>\n",
       "\t<tr><th scope=row>2007-03-06</th><td>0.010     </td><td>NA        </td><td>NA        </td><td>0.05      </td><td>NA        </td><td>NA        </td><td>NA        </td><td>2007-03-06</td></tr>\n",
       "</tbody>\n",
       "</table>\n"
      ],
      "text/latex": [
       "\\begin{tabular}{r|llllllll}\n",
       "  & PrecipTotal2.imp & PT452 & pre45\\_1\\_2 & PrecipTotal.x & PT45 & pre45\\_1 & by & Date\\\\\n",
       "\\hline\n",
       "\t2007-03-01 & 0.370      & NA         & NA         & 1.09       & NA         & NA         & NA         & 2007-03-01\\\\\n",
       "\t2007-03-02 & 0.010      & NA         & NA         & 0.06       & NA         & NA         & NA         & 2007-03-02\\\\\n",
       "\t2007-03-03 & 0.001      & NA         & NA         & 0.02       & NA         & NA         & NA         & 2007-03-03\\\\\n",
       "\t2007-03-04 & 0.000      & NA         & NA         & 0.00       & NA         & NA         & NA         & 2007-03-04\\\\\n",
       "\t2007-03-05 & 0.000      & NA         & NA         & 0.00       & NA         & NA         & NA         & 2007-03-05\\\\\n",
       "\t2007-03-06 & 0.010      & NA         & NA         & 0.05       & NA         & NA         & NA         & 2007-03-06\\\\\n",
       "\\end{tabular}\n"
      ],
      "text/markdown": [
       "\n",
       "| <!--/--> | PrecipTotal2.imp | PT452 | pre45_1_2 | PrecipTotal.x | PT45 | pre45_1 | by | Date | \n",
       "|---|---|---|---|---|---|\n",
       "| 2007-03-01 | 0.370      | NA         | NA         | 1.09       | NA         | NA         | NA         | 2007-03-01 | \n",
       "| 2007-03-02 | 0.010      | NA         | NA         | 0.06       | NA         | NA         | NA         | 2007-03-02 | \n",
       "| 2007-03-03 | 0.001      | NA         | NA         | 0.02       | NA         | NA         | NA         | 2007-03-03 | \n",
       "| 2007-03-04 | 0.000      | NA         | NA         | 0.00       | NA         | NA         | NA         | 2007-03-04 | \n",
       "| 2007-03-05 | 0.000      | NA         | NA         | 0.00       | NA         | NA         | NA         | 2007-03-05 | \n",
       "| 2007-03-06 | 0.010      | NA         | NA         | 0.05       | NA         | NA         | NA         | 2007-03-06 | \n",
       "\n",
       "\n"
      ],
      "text/plain": [
       "           PrecipTotal2.imp PT452 pre45_1_2 PrecipTotal.x PT45 pre45_1 by\n",
       "2007-03-01 0.370            NA    NA        1.09          NA   NA      NA\n",
       "2007-03-02 0.010            NA    NA        0.06          NA   NA      NA\n",
       "2007-03-03 0.001            NA    NA        0.02          NA   NA      NA\n",
       "2007-03-04 0.000            NA    NA        0.00          NA   NA      NA\n",
       "2007-03-05 0.000            NA    NA        0.00          NA   NA      NA\n",
       "2007-03-06 0.010            NA    NA        0.05          NA   NA      NA\n",
       "           Date      \n",
       "2007-03-01 2007-03-01\n",
       "2007-03-02 2007-03-02\n",
       "2007-03-03 2007-03-03\n",
       "2007-03-04 2007-03-04\n",
       "2007-03-05 2007-03-05\n",
       "2007-03-06 2007-03-06"
      ]
     },
     "metadata": {},
     "output_type": "display_data"
    },
    {
     "name": "stdout",
     "output_type": "stream",
     "text": [
      "'data.frame':\t1716 obs. of  8 variables:\n",
      " $ PrecipTotal2.imp: num  0.37 0.01 0.001 0 0 0.01 0.01 0 0.17 0.001 ...\n",
      " $ PT452           : num  NA NA NA NA NA NA NA NA NA NA ...\n",
      " $ pre45_1_2       : num  NA NA NA NA NA NA NA NA NA NA ...\n",
      " $ PrecipTotal.x   : num  1.09 0.06 0.02 0 0 0.05 0.03 0 0.28 0 ...\n",
      " $ PT45            : num  NA NA NA NA NA NA NA NA NA NA ...\n",
      " $ pre45_1         : num  NA NA NA NA NA NA NA NA NA NA ...\n",
      " $ by              : num  NA NA NA NA NA NA NA NA NA NA ...\n",
      " $ Date            : Date, format: \"2007-03-01\" \"2007-03-02\" ...\n"
     ]
    }
   ],
   "source": [
    "PPT45_2$Date <- as.Date(rownames(PPT45_2))\n",
    "head(PPT45_2)\n",
    "str(PPT45_2)"
   ]
  },
  {
   "cell_type": "code",
   "execution_count": 77,
   "metadata": {},
   "outputs": [
    {
     "data": {
      "text/html": [
       "<ol class=list-inline>\n",
       "\t<li>1716</li>\n",
       "\t<li>16</li>\n",
       "</ol>\n"
      ],
      "text/latex": [
       "\\begin{enumerate*}\n",
       "\\item 1716\n",
       "\\item 16\n",
       "\\end{enumerate*}\n"
      ],
      "text/markdown": [
       "1. 1716\n",
       "2. 16\n",
       "\n",
       "\n"
      ],
      "text/plain": [
       "[1] 1716   16"
      ]
     },
     "metadata": {},
     "output_type": "display_data"
    }
   ],
   "source": [
    "postPT<- merge(x = PPT45, y = PPT45_2, by = \"Date\", all.x = TRUE)\n",
    "dim(postPT)\n"
   ]
  },
  {
   "cell_type": "code",
   "execution_count": 78,
   "metadata": {},
   "outputs": [
    {
     "data": {
      "text/html": [
       "<table>\n",
       "<thead><tr><th scope=col>Date</th><th scope=col>PrecipTotal2.imp.x</th><th scope=col>PT452.x</th><th scope=col>pre45_052</th><th scope=col>PrecipTotal.x.x</th><th scope=col>PT45.x</th><th scope=col>pre45_05</th><th scope=col>by.x</th><th scope=col>all.x</th><th scope=col>PrecipTotal2.imp.y</th><th scope=col>PT452.y</th><th scope=col>pre45_1_2</th><th scope=col>PrecipTotal.x.y</th><th scope=col>PT45.y</th><th scope=col>pre45_1</th><th scope=col>by.y</th></tr></thead>\n",
       "<tbody>\n",
       "\t<tr><td>2007-03-01</td><td>0.370     </td><td>NA        </td><td>NA        </td><td>1.09      </td><td>NA        </td><td>NA        </td><td>NA        </td><td>1         </td><td>0.370     </td><td>NA        </td><td>NA        </td><td>1.09      </td><td>NA        </td><td>NA        </td><td>NA        </td></tr>\n",
       "\t<tr><td>2007-03-02</td><td>0.010     </td><td>NA        </td><td>NA        </td><td>0.06      </td><td>NA        </td><td>NA        </td><td>NA        </td><td>1         </td><td>0.010     </td><td>NA        </td><td>NA        </td><td>0.06      </td><td>NA        </td><td>NA        </td><td>NA        </td></tr>\n",
       "\t<tr><td>2007-03-03</td><td>0.001     </td><td>NA        </td><td>NA        </td><td>0.02      </td><td>NA        </td><td>NA        </td><td>NA        </td><td>1         </td><td>0.001     </td><td>NA        </td><td>NA        </td><td>0.02      </td><td>NA        </td><td>NA        </td><td>NA        </td></tr>\n",
       "\t<tr><td>2007-03-04</td><td>0.000     </td><td>NA        </td><td>NA        </td><td>0.00      </td><td>NA        </td><td>NA        </td><td>NA        </td><td>1         </td><td>0.000     </td><td>NA        </td><td>NA        </td><td>0.00      </td><td>NA        </td><td>NA        </td><td>NA        </td></tr>\n",
       "\t<tr><td>2007-03-05</td><td>0.000     </td><td>NA        </td><td>NA        </td><td>0.00      </td><td>NA        </td><td>NA        </td><td>NA        </td><td>1         </td><td>0.000     </td><td>NA        </td><td>NA        </td><td>0.00      </td><td>NA        </td><td>NA        </td><td>NA        </td></tr>\n",
       "\t<tr><td>2007-03-06</td><td>0.010     </td><td>NA        </td><td>NA        </td><td>0.05      </td><td>NA        </td><td>NA        </td><td>NA        </td><td>1         </td><td>0.010     </td><td>NA        </td><td>NA        </td><td>0.05      </td><td>NA        </td><td>NA        </td><td>NA        </td></tr>\n",
       "</tbody>\n",
       "</table>\n"
      ],
      "text/latex": [
       "\\begin{tabular}{r|llllllllllllllll}\n",
       " Date & PrecipTotal2.imp.x & PT452.x & pre45\\_052 & PrecipTotal.x.x & PT45.x & pre45\\_05 & by.x & all.x & PrecipTotal2.imp.y & PT452.y & pre45\\_1\\_2 & PrecipTotal.x.y & PT45.y & pre45\\_1 & by.y\\\\\n",
       "\\hline\n",
       "\t 2007-03-01 & 0.370      & NA         & NA         & 1.09       & NA         & NA         & NA         & 1          & 0.370      & NA         & NA         & 1.09       & NA         & NA         & NA        \\\\\n",
       "\t 2007-03-02 & 0.010      & NA         & NA         & 0.06       & NA         & NA         & NA         & 1          & 0.010      & NA         & NA         & 0.06       & NA         & NA         & NA        \\\\\n",
       "\t 2007-03-03 & 0.001      & NA         & NA         & 0.02       & NA         & NA         & NA         & 1          & 0.001      & NA         & NA         & 0.02       & NA         & NA         & NA        \\\\\n",
       "\t 2007-03-04 & 0.000      & NA         & NA         & 0.00       & NA         & NA         & NA         & 1          & 0.000      & NA         & NA         & 0.00       & NA         & NA         & NA        \\\\\n",
       "\t 2007-03-05 & 0.000      & NA         & NA         & 0.00       & NA         & NA         & NA         & 1          & 0.000      & NA         & NA         & 0.00       & NA         & NA         & NA        \\\\\n",
       "\t 2007-03-06 & 0.010      & NA         & NA         & 0.05       & NA         & NA         & NA         & 1          & 0.010      & NA         & NA         & 0.05       & NA         & NA         & NA        \\\\\n",
       "\\end{tabular}\n"
      ],
      "text/markdown": [
       "\n",
       "Date | PrecipTotal2.imp.x | PT452.x | pre45_052 | PrecipTotal.x.x | PT45.x | pre45_05 | by.x | all.x | PrecipTotal2.imp.y | PT452.y | pre45_1_2 | PrecipTotal.x.y | PT45.y | pre45_1 | by.y | \n",
       "|---|---|---|---|---|---|\n",
       "| 2007-03-01 | 0.370      | NA         | NA         | 1.09       | NA         | NA         | NA         | 1          | 0.370      | NA         | NA         | 1.09       | NA         | NA         | NA         | \n",
       "| 2007-03-02 | 0.010      | NA         | NA         | 0.06       | NA         | NA         | NA         | 1          | 0.010      | NA         | NA         | 0.06       | NA         | NA         | NA         | \n",
       "| 2007-03-03 | 0.001      | NA         | NA         | 0.02       | NA         | NA         | NA         | 1          | 0.001      | NA         | NA         | 0.02       | NA         | NA         | NA         | \n",
       "| 2007-03-04 | 0.000      | NA         | NA         | 0.00       | NA         | NA         | NA         | 1          | 0.000      | NA         | NA         | 0.00       | NA         | NA         | NA         | \n",
       "| 2007-03-05 | 0.000      | NA         | NA         | 0.00       | NA         | NA         | NA         | 1          | 0.000      | NA         | NA         | 0.00       | NA         | NA         | NA         | \n",
       "| 2007-03-06 | 0.010      | NA         | NA         | 0.05       | NA         | NA         | NA         | 1          | 0.010      | NA         | NA         | 0.05       | NA         | NA         | NA         | \n",
       "\n",
       "\n"
      ],
      "text/plain": [
       "  Date       PrecipTotal2.imp.x PT452.x pre45_052 PrecipTotal.x.x PT45.x\n",
       "1 2007-03-01 0.370              NA      NA        1.09            NA    \n",
       "2 2007-03-02 0.010              NA      NA        0.06            NA    \n",
       "3 2007-03-03 0.001              NA      NA        0.02            NA    \n",
       "4 2007-03-04 0.000              NA      NA        0.00            NA    \n",
       "5 2007-03-05 0.000              NA      NA        0.00            NA    \n",
       "6 2007-03-06 0.010              NA      NA        0.05            NA    \n",
       "  pre45_05 by.x all.x PrecipTotal2.imp.y PT452.y pre45_1_2 PrecipTotal.x.y\n",
       "1 NA       NA   1     0.370              NA      NA        1.09           \n",
       "2 NA       NA   1     0.010              NA      NA        0.06           \n",
       "3 NA       NA   1     0.001              NA      NA        0.02           \n",
       "4 NA       NA   1     0.000              NA      NA        0.00           \n",
       "5 NA       NA   1     0.000              NA      NA        0.00           \n",
       "6 NA       NA   1     0.010              NA      NA        0.05           \n",
       "  PT45.y pre45_1 by.y\n",
       "1 NA     NA      NA  \n",
       "2 NA     NA      NA  \n",
       "3 NA     NA      NA  \n",
       "4 NA     NA      NA  \n",
       "5 NA     NA      NA  \n",
       "6 NA     NA      NA  "
      ]
     },
     "metadata": {},
     "output_type": "display_data"
    }
   ],
   "source": [
    "head(postPT)"
   ]
  },
  {
   "cell_type": "code",
   "execution_count": 79,
   "metadata": {},
   "outputs": [
    {
     "data": {
      "text/html": [
       "<ol class=list-inline>\n",
       "\t<li>'Date'</li>\n",
       "\t<li>'PrecipTotal2.imp.x'</li>\n",
       "\t<li>'PT452.x'</li>\n",
       "\t<li>'pre45_052'</li>\n",
       "\t<li>'PrecipTotal.x.x'</li>\n",
       "\t<li>'PT45.x'</li>\n",
       "\t<li>'pre45_05'</li>\n",
       "\t<li>'by.x'</li>\n",
       "\t<li>'all.x'</li>\n",
       "\t<li>'PrecipTotal2.imp.y'</li>\n",
       "\t<li>'PT452.y'</li>\n",
       "\t<li>'pre45_1_2'</li>\n",
       "\t<li>'PrecipTotal.x.y'</li>\n",
       "\t<li>'PT45.y'</li>\n",
       "\t<li>'pre45_1'</li>\n",
       "\t<li>'by.y'</li>\n",
       "</ol>\n"
      ],
      "text/latex": [
       "\\begin{enumerate*}\n",
       "\\item 'Date'\n",
       "\\item 'PrecipTotal2.imp.x'\n",
       "\\item 'PT452.x'\n",
       "\\item 'pre45\\_052'\n",
       "\\item 'PrecipTotal.x.x'\n",
       "\\item 'PT45.x'\n",
       "\\item 'pre45\\_05'\n",
       "\\item 'by.x'\n",
       "\\item 'all.x'\n",
       "\\item 'PrecipTotal2.imp.y'\n",
       "\\item 'PT452.y'\n",
       "\\item 'pre45\\_1\\_2'\n",
       "\\item 'PrecipTotal.x.y'\n",
       "\\item 'PT45.y'\n",
       "\\item 'pre45\\_1'\n",
       "\\item 'by.y'\n",
       "\\end{enumerate*}\n"
      ],
      "text/markdown": [
       "1. 'Date'\n",
       "2. 'PrecipTotal2.imp.x'\n",
       "3. 'PT452.x'\n",
       "4. 'pre45_052'\n",
       "5. 'PrecipTotal.x.x'\n",
       "6. 'PT45.x'\n",
       "7. 'pre45_05'\n",
       "8. 'by.x'\n",
       "9. 'all.x'\n",
       "10. 'PrecipTotal2.imp.y'\n",
       "11. 'PT452.y'\n",
       "12. 'pre45_1_2'\n",
       "13. 'PrecipTotal.x.y'\n",
       "14. 'PT45.y'\n",
       "15. 'pre45_1'\n",
       "16. 'by.y'\n",
       "\n",
       "\n"
      ],
      "text/plain": [
       " [1] \"Date\"               \"PrecipTotal2.imp.x\" \"PT452.x\"           \n",
       " [4] \"pre45_052\"          \"PrecipTotal.x.x\"    \"PT45.x\"            \n",
       " [7] \"pre45_05\"           \"by.x\"               \"all.x\"             \n",
       "[10] \"PrecipTotal2.imp.y\" \"PT452.y\"            \"pre45_1_2\"         \n",
       "[13] \"PrecipTotal.x.y\"    \"PT45.y\"             \"pre45_1\"           \n",
       "[16] \"by.y\"              "
      ]
     },
     "metadata": {},
     "output_type": "display_data"
    }
   ],
   "source": [
    "colnames(postPT)"
   ]
  },
  {
   "cell_type": "code",
   "execution_count": 80,
   "metadata": {},
   "outputs": [
    {
     "data": {
      "text/html": [
       "<table>\n",
       "<thead><tr><th scope=col>Date</th><th scope=col>pre45_1_2</th><th scope=col>pre45_1</th><th scope=col>pre45_05</th><th scope=col>pre45_052</th></tr></thead>\n",
       "<tbody>\n",
       "\t<tr><td>2007-03-01</td><td>NA        </td><td>NA        </td><td>NA        </td><td>NA        </td></tr>\n",
       "\t<tr><td>2007-03-02</td><td>NA        </td><td>NA        </td><td>NA        </td><td>NA        </td></tr>\n",
       "\t<tr><td>2007-03-03</td><td>NA        </td><td>NA        </td><td>NA        </td><td>NA        </td></tr>\n",
       "\t<tr><td>2007-03-04</td><td>NA        </td><td>NA        </td><td>NA        </td><td>NA        </td></tr>\n",
       "\t<tr><td>2007-03-05</td><td>NA        </td><td>NA        </td><td>NA        </td><td>NA        </td></tr>\n",
       "\t<tr><td>2007-03-06</td><td>NA        </td><td>NA        </td><td>NA        </td><td>NA        </td></tr>\n",
       "</tbody>\n",
       "</table>\n"
      ],
      "text/latex": [
       "\\begin{tabular}{r|lllll}\n",
       " Date & pre45\\_1\\_2 & pre45\\_1 & pre45\\_05 & pre45\\_052\\\\\n",
       "\\hline\n",
       "\t 2007-03-01 & NA         & NA         & NA         & NA        \\\\\n",
       "\t 2007-03-02 & NA         & NA         & NA         & NA        \\\\\n",
       "\t 2007-03-03 & NA         & NA         & NA         & NA        \\\\\n",
       "\t 2007-03-04 & NA         & NA         & NA         & NA        \\\\\n",
       "\t 2007-03-05 & NA         & NA         & NA         & NA        \\\\\n",
       "\t 2007-03-06 & NA         & NA         & NA         & NA        \\\\\n",
       "\\end{tabular}\n"
      ],
      "text/markdown": [
       "\n",
       "Date | pre45_1_2 | pre45_1 | pre45_05 | pre45_052 | \n",
       "|---|---|---|---|---|---|\n",
       "| 2007-03-01 | NA         | NA         | NA         | NA         | \n",
       "| 2007-03-02 | NA         | NA         | NA         | NA         | \n",
       "| 2007-03-03 | NA         | NA         | NA         | NA         | \n",
       "| 2007-03-04 | NA         | NA         | NA         | NA         | \n",
       "| 2007-03-05 | NA         | NA         | NA         | NA         | \n",
       "| 2007-03-06 | NA         | NA         | NA         | NA         | \n",
       "\n",
       "\n"
      ],
      "text/plain": [
       "  Date       pre45_1_2 pre45_1 pre45_05 pre45_052\n",
       "1 2007-03-01 NA        NA      NA       NA       \n",
       "2 2007-03-02 NA        NA      NA       NA       \n",
       "3 2007-03-03 NA        NA      NA       NA       \n",
       "4 2007-03-04 NA        NA      NA       NA       \n",
       "5 2007-03-05 NA        NA      NA       NA       \n",
       "6 2007-03-06 NA        NA      NA       NA       "
      ]
     },
     "metadata": {},
     "output_type": "display_data"
    }
   ],
   "source": [
    "myvars <- c(\"Date\", \"pre45_1_2\", \"pre45_1\",\"pre45_05\",'pre45_052' )\n",
    "PPT3 <- postPT[myvars]\n",
    "head(PPT3)"
   ]
  },
  {
   "cell_type": "code",
   "execution_count": 81,
   "metadata": {},
   "outputs": [],
   "source": [
    "write.csv(PPT3, file=\"C:/Users/Chen/Project/data/PPT3.csv\", row.names =F)"
   ]
  },
  {
   "cell_type": "code",
   "execution_count": null,
   "metadata": {},
   "outputs": [],
   "source": []
  }
 ],
 "metadata": {
  "kernelspec": {
   "display_name": "R",
   "language": "R",
   "name": "ir"
  },
  "language_info": {
   "codemirror_mode": "r",
   "file_extension": ".r",
   "mimetype": "text/x-r-source",
   "name": "R",
   "pygments_lexer": "r",
   "version": "3.5.1"
  }
 },
 "nbformat": 4,
 "nbformat_minor": 2
}
