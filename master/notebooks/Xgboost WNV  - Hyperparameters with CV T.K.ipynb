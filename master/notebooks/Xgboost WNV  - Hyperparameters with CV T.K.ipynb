{
 "cells": [
  {
   "cell_type": "code",
   "execution_count": 1,
   "metadata": {},
   "outputs": [],
   "source": [
    "import numpy as np\n",
    "import pandas as pd\n",
    "import seaborn as sns"
   ]
  },
  {
   "cell_type": "code",
   "execution_count": 2,
   "metadata": {},
   "outputs": [],
   "source": [
    "X_train=pd.read_csv(\"X_over.csv\")\n",
    "y_train=pd.read_csv(\"y_over.csv\")"
   ]
  },
  {
   "cell_type": "code",
   "execution_count": 3,
   "metadata": {},
   "outputs": [],
   "source": [
    "# test is dev(=X_dv.csv & y_dev.csv)\n",
    "X_dev=pd.read_csv(\"X_dv.csv\")\n",
    "y_dev=pd.read_csv(\"y_dev.csv\")"
   ]
  },
  {
   "cell_type": "code",
   "execution_count": 4,
   "metadata": {},
   "outputs": [],
   "source": [
    "X_dev=X_dev.drop(['X'], axis=1)"
   ]
  },
  {
   "cell_type": "code",
   "execution_count": 5,
   "metadata": {},
   "outputs": [],
   "source": [
    "y_dev=y_dev.drop(['X'], axis=1)"
   ]
  },
  {
   "cell_type": "code",
   "execution_count": 6,
   "metadata": {},
   "outputs": [
    {
     "data": {
      "text/html": [
       "<div>\n",
       "<style scoped>\n",
       "    .dataframe tbody tr th:only-of-type {\n",
       "        vertical-align: middle;\n",
       "    }\n",
       "\n",
       "    .dataframe tbody tr th {\n",
       "        vertical-align: top;\n",
       "    }\n",
       "\n",
       "    .dataframe thead th {\n",
       "        text-align: right;\n",
       "    }\n",
       "</style>\n",
       "<table border=\"1\" class=\"dataframe\">\n",
       "  <thead>\n",
       "    <tr style=\"text-align: right;\">\n",
       "      <th></th>\n",
       "      <th>Longitude</th>\n",
       "      <th>Latitude</th>\n",
       "      <th>Season_code_1</th>\n",
       "      <th>Season_code_2</th>\n",
       "      <th>Season_code_3</th>\n",
       "      <th>CULEX_ERRATICUS</th>\n",
       "      <th>CULEX_PIPIENS</th>\n",
       "      <th>CULEX_PIPIENS_RESTUANS</th>\n",
       "      <th>CULEX_RESTUANS</th>\n",
       "      <th>CULEX_SALINARIUS</th>\n",
       "      <th>...</th>\n",
       "      <th>HZ</th>\n",
       "      <th>RA</th>\n",
       "      <th>AvgSpeed2</th>\n",
       "      <th>AvgSpeed</th>\n",
       "      <th>ResultSpeed</th>\n",
       "      <th>RA45</th>\n",
       "      <th>RA45_2</th>\n",
       "      <th>pre45_1_2</th>\n",
       "      <th>pre45_1</th>\n",
       "      <th>PrecipTotal</th>\n",
       "    </tr>\n",
       "  </thead>\n",
       "  <tbody>\n",
       "    <tr>\n",
       "      <th>0</th>\n",
       "      <td>-87.546587</td>\n",
       "      <td>41.740641</td>\n",
       "      <td>0</td>\n",
       "      <td>1</td>\n",
       "      <td>0</td>\n",
       "      <td>0</td>\n",
       "      <td>0</td>\n",
       "      <td>3</td>\n",
       "      <td>5</td>\n",
       "      <td>0</td>\n",
       "      <td>...</td>\n",
       "      <td>0</td>\n",
       "      <td>1</td>\n",
       "      <td>9.2</td>\n",
       "      <td>8.0</td>\n",
       "      <td>7.4</td>\n",
       "      <td>12.088315</td>\n",
       "      <td>11.048196</td>\n",
       "      <td>1</td>\n",
       "      <td>1</td>\n",
       "      <td>0.12</td>\n",
       "    </tr>\n",
       "    <tr>\n",
       "      <th>1</th>\n",
       "      <td>-87.671457</td>\n",
       "      <td>41.947227</td>\n",
       "      <td>0</td>\n",
       "      <td>1</td>\n",
       "      <td>0</td>\n",
       "      <td>0</td>\n",
       "      <td>0</td>\n",
       "      <td>1</td>\n",
       "      <td>0</td>\n",
       "      <td>0</td>\n",
       "      <td>...</td>\n",
       "      <td>0</td>\n",
       "      <td>0</td>\n",
       "      <td>8.4</td>\n",
       "      <td>8.5</td>\n",
       "      <td>8.3</td>\n",
       "      <td>10.000000</td>\n",
       "      <td>9.000000</td>\n",
       "      <td>0</td>\n",
       "      <td>1</td>\n",
       "      <td>0.00</td>\n",
       "    </tr>\n",
       "    <tr>\n",
       "      <th>2</th>\n",
       "      <td>-87.546587</td>\n",
       "      <td>41.740641</td>\n",
       "      <td>0</td>\n",
       "      <td>1</td>\n",
       "      <td>0</td>\n",
       "      <td>0</td>\n",
       "      <td>0</td>\n",
       "      <td>2</td>\n",
       "      <td>14</td>\n",
       "      <td>0</td>\n",
       "      <td>...</td>\n",
       "      <td>0</td>\n",
       "      <td>0</td>\n",
       "      <td>7.8</td>\n",
       "      <td>7.9</td>\n",
       "      <td>6.6</td>\n",
       "      <td>20.000000</td>\n",
       "      <td>17.000000</td>\n",
       "      <td>1</td>\n",
       "      <td>1</td>\n",
       "      <td>0.00</td>\n",
       "    </tr>\n",
       "    <tr>\n",
       "      <th>3</th>\n",
       "      <td>-87.716277</td>\n",
       "      <td>41.846075</td>\n",
       "      <td>0</td>\n",
       "      <td>1</td>\n",
       "      <td>0</td>\n",
       "      <td>0</td>\n",
       "      <td>0</td>\n",
       "      <td>1</td>\n",
       "      <td>0</td>\n",
       "      <td>0</td>\n",
       "      <td>...</td>\n",
       "      <td>0</td>\n",
       "      <td>1</td>\n",
       "      <td>11.0</td>\n",
       "      <td>9.7</td>\n",
       "      <td>9.1</td>\n",
       "      <td>14.000000</td>\n",
       "      <td>13.000000</td>\n",
       "      <td>1</td>\n",
       "      <td>0</td>\n",
       "      <td>0.95</td>\n",
       "    </tr>\n",
       "    <tr>\n",
       "      <th>4</th>\n",
       "      <td>-87.559308</td>\n",
       "      <td>41.678618</td>\n",
       "      <td>0</td>\n",
       "      <td>0</td>\n",
       "      <td>1</td>\n",
       "      <td>0</td>\n",
       "      <td>0</td>\n",
       "      <td>1</td>\n",
       "      <td>6</td>\n",
       "      <td>0</td>\n",
       "      <td>...</td>\n",
       "      <td>0</td>\n",
       "      <td>0</td>\n",
       "      <td>3.7</td>\n",
       "      <td>3.3</td>\n",
       "      <td>1.4</td>\n",
       "      <td>13.000000</td>\n",
       "      <td>13.000000</td>\n",
       "      <td>0</td>\n",
       "      <td>1</td>\n",
       "      <td>0.00</td>\n",
       "    </tr>\n",
       "  </tbody>\n",
       "</table>\n",
       "<p>5 rows × 61 columns</p>\n",
       "</div>"
      ],
      "text/plain": [
       "   Longitude   Latitude  Season_code_1  Season_code_2  Season_code_3  \\\n",
       "0 -87.546587  41.740641              0              1              0   \n",
       "1 -87.671457  41.947227              0              1              0   \n",
       "2 -87.546587  41.740641              0              1              0   \n",
       "3 -87.716277  41.846075              0              1              0   \n",
       "4 -87.559308  41.678618              0              0              1   \n",
       "\n",
       "   CULEX_ERRATICUS  CULEX_PIPIENS  CULEX_PIPIENS_RESTUANS  CULEX_RESTUANS  \\\n",
       "0                0              0                       3               5   \n",
       "1                0              0                       1               0   \n",
       "2                0              0                       2              14   \n",
       "3                0              0                       1               0   \n",
       "4                0              0                       1               6   \n",
       "\n",
       "   CULEX_SALINARIUS     ...       HZ  RA  AvgSpeed2  AvgSpeed  ResultSpeed  \\\n",
       "0                 0     ...        0   1        9.2       8.0          7.4   \n",
       "1                 0     ...        0   0        8.4       8.5          8.3   \n",
       "2                 0     ...        0   0        7.8       7.9          6.6   \n",
       "3                 0     ...        0   1       11.0       9.7          9.1   \n",
       "4                 0     ...        0   0        3.7       3.3          1.4   \n",
       "\n",
       "        RA45     RA45_2  pre45_1_2  pre45_1  PrecipTotal  \n",
       "0  12.088315  11.048196          1        1         0.12  \n",
       "1  10.000000   9.000000          0        1         0.00  \n",
       "2  20.000000  17.000000          1        1         0.00  \n",
       "3  14.000000  13.000000          1        0         0.95  \n",
       "4  13.000000  13.000000          0        1         0.00  \n",
       "\n",
       "[5 rows x 61 columns]"
      ]
     },
     "execution_count": 6,
     "metadata": {},
     "output_type": "execute_result"
    }
   ],
   "source": [
    "X_train.head()"
   ]
  },
  {
   "cell_type": "code",
   "execution_count": 7,
   "metadata": {},
   "outputs": [
    {
     "data": {
      "text/html": [
       "<div>\n",
       "<style scoped>\n",
       "    .dataframe tbody tr th:only-of-type {\n",
       "        vertical-align: middle;\n",
       "    }\n",
       "\n",
       "    .dataframe tbody tr th {\n",
       "        vertical-align: top;\n",
       "    }\n",
       "\n",
       "    .dataframe thead th {\n",
       "        text-align: right;\n",
       "    }\n",
       "</style>\n",
       "<table border=\"1\" class=\"dataframe\">\n",
       "  <thead>\n",
       "    <tr style=\"text-align: right;\">\n",
       "      <th></th>\n",
       "      <th>Longitude</th>\n",
       "      <th>Latitude</th>\n",
       "      <th>Season_code_1</th>\n",
       "      <th>Season_code_2</th>\n",
       "      <th>Season_code_3</th>\n",
       "      <th>CULEX_ERRATICUS</th>\n",
       "      <th>CULEX_PIPIENS</th>\n",
       "      <th>CULEX_PIPIENS_RESTUANS</th>\n",
       "      <th>CULEX_RESTUANS</th>\n",
       "      <th>CULEX_SALINARIUS</th>\n",
       "      <th>...</th>\n",
       "      <th>HZ</th>\n",
       "      <th>RA</th>\n",
       "      <th>AvgSpeed2</th>\n",
       "      <th>AvgSpeed</th>\n",
       "      <th>ResultSpeed</th>\n",
       "      <th>RA45</th>\n",
       "      <th>RA45_2</th>\n",
       "      <th>pre45_1_2</th>\n",
       "      <th>pre45_1</th>\n",
       "      <th>PrecipTotal</th>\n",
       "    </tr>\n",
       "  </thead>\n",
       "  <tbody>\n",
       "    <tr>\n",
       "      <th>0</th>\n",
       "      <td>-87.662140</td>\n",
       "      <td>42.010412</td>\n",
       "      <td>0</td>\n",
       "      <td>1</td>\n",
       "      <td>0</td>\n",
       "      <td>0</td>\n",
       "      <td>0</td>\n",
       "      <td>1</td>\n",
       "      <td>1</td>\n",
       "      <td>0</td>\n",
       "      <td>...</td>\n",
       "      <td>0</td>\n",
       "      <td>0</td>\n",
       "      <td>9.2</td>\n",
       "      <td>9.9</td>\n",
       "      <td>9.5</td>\n",
       "      <td>13.42725</td>\n",
       "      <td>14.053467</td>\n",
       "      <td>1</td>\n",
       "      <td>1</td>\n",
       "      <td>0.0</td>\n",
       "    </tr>\n",
       "    <tr>\n",
       "      <th>1</th>\n",
       "      <td>-87.678649</td>\n",
       "      <td>41.768388</td>\n",
       "      <td>0</td>\n",
       "      <td>1</td>\n",
       "      <td>0</td>\n",
       "      <td>0</td>\n",
       "      <td>0</td>\n",
       "      <td>1</td>\n",
       "      <td>0</td>\n",
       "      <td>0</td>\n",
       "      <td>...</td>\n",
       "      <td>0</td>\n",
       "      <td>0</td>\n",
       "      <td>3.4</td>\n",
       "      <td>3.3</td>\n",
       "      <td>1.9</td>\n",
       "      <td>12.00000</td>\n",
       "      <td>10.000000</td>\n",
       "      <td>0</td>\n",
       "      <td>1</td>\n",
       "      <td>0.0</td>\n",
       "    </tr>\n",
       "    <tr>\n",
       "      <th>2</th>\n",
       "      <td>-87.794896</td>\n",
       "      <td>41.940160</td>\n",
       "      <td>0</td>\n",
       "      <td>0</td>\n",
       "      <td>1</td>\n",
       "      <td>0</td>\n",
       "      <td>1</td>\n",
       "      <td>11</td>\n",
       "      <td>0</td>\n",
       "      <td>0</td>\n",
       "      <td>...</td>\n",
       "      <td>0</td>\n",
       "      <td>0</td>\n",
       "      <td>10.5</td>\n",
       "      <td>11.9</td>\n",
       "      <td>11.4</td>\n",
       "      <td>13.00000</td>\n",
       "      <td>10.000000</td>\n",
       "      <td>1</td>\n",
       "      <td>1</td>\n",
       "      <td>0.0</td>\n",
       "    </tr>\n",
       "    <tr>\n",
       "      <th>3</th>\n",
       "      <td>-87.777189</td>\n",
       "      <td>41.960616</td>\n",
       "      <td>0</td>\n",
       "      <td>1</td>\n",
       "      <td>0</td>\n",
       "      <td>0</td>\n",
       "      <td>0</td>\n",
       "      <td>3</td>\n",
       "      <td>4</td>\n",
       "      <td>0</td>\n",
       "      <td>...</td>\n",
       "      <td>0</td>\n",
       "      <td>0</td>\n",
       "      <td>5.0</td>\n",
       "      <td>4.9</td>\n",
       "      <td>4.2</td>\n",
       "      <td>11.00000</td>\n",
       "      <td>12.000000</td>\n",
       "      <td>0</td>\n",
       "      <td>0</td>\n",
       "      <td>0.0</td>\n",
       "    </tr>\n",
       "    <tr>\n",
       "      <th>4</th>\n",
       "      <td>-87.777189</td>\n",
       "      <td>41.960616</td>\n",
       "      <td>0</td>\n",
       "      <td>1</td>\n",
       "      <td>0</td>\n",
       "      <td>0</td>\n",
       "      <td>0</td>\n",
       "      <td>2</td>\n",
       "      <td>0</td>\n",
       "      <td>0</td>\n",
       "      <td>...</td>\n",
       "      <td>0</td>\n",
       "      <td>1</td>\n",
       "      <td>10.5</td>\n",
       "      <td>8.4</td>\n",
       "      <td>7.8</td>\n",
       "      <td>18.00000</td>\n",
       "      <td>21.000000</td>\n",
       "      <td>1</td>\n",
       "      <td>1</td>\n",
       "      <td>0.5</td>\n",
       "    </tr>\n",
       "  </tbody>\n",
       "</table>\n",
       "<p>5 rows × 61 columns</p>\n",
       "</div>"
      ],
      "text/plain": [
       "   Longitude   Latitude  Season_code_1  Season_code_2  Season_code_3  \\\n",
       "0 -87.662140  42.010412              0              1              0   \n",
       "1 -87.678649  41.768388              0              1              0   \n",
       "2 -87.794896  41.940160              0              0              1   \n",
       "3 -87.777189  41.960616              0              1              0   \n",
       "4 -87.777189  41.960616              0              1              0   \n",
       "\n",
       "   CULEX_ERRATICUS  CULEX_PIPIENS  CULEX_PIPIENS_RESTUANS  CULEX_RESTUANS  \\\n",
       "0                0              0                       1               1   \n",
       "1                0              0                       1               0   \n",
       "2                0              1                      11               0   \n",
       "3                0              0                       3               4   \n",
       "4                0              0                       2               0   \n",
       "\n",
       "   CULEX_SALINARIUS     ...       HZ  RA  AvgSpeed2  AvgSpeed  ResultSpeed  \\\n",
       "0                 0     ...        0   0        9.2       9.9          9.5   \n",
       "1                 0     ...        0   0        3.4       3.3          1.9   \n",
       "2                 0     ...        0   0       10.5      11.9         11.4   \n",
       "3                 0     ...        0   0        5.0       4.9          4.2   \n",
       "4                 0     ...        0   1       10.5       8.4          7.8   \n",
       "\n",
       "       RA45     RA45_2  pre45_1_2  pre45_1  PrecipTotal  \n",
       "0  13.42725  14.053467          1        1          0.0  \n",
       "1  12.00000  10.000000          0        1          0.0  \n",
       "2  13.00000  10.000000          1        1          0.0  \n",
       "3  11.00000  12.000000          0        0          0.0  \n",
       "4  18.00000  21.000000          1        1          0.5  \n",
       "\n",
       "[5 rows x 61 columns]"
      ]
     },
     "execution_count": 7,
     "metadata": {},
     "output_type": "execute_result"
    }
   ],
   "source": [
    "X_dev.head()"
   ]
  },
  {
   "cell_type": "code",
   "execution_count": 22,
   "metadata": {},
   "outputs": [
    {
     "data": {
      "text/html": [
       "<div>\n",
       "<style scoped>\n",
       "    .dataframe tbody tr th:only-of-type {\n",
       "        vertical-align: middle;\n",
       "    }\n",
       "\n",
       "    .dataframe tbody tr th {\n",
       "        vertical-align: top;\n",
       "    }\n",
       "\n",
       "    .dataframe thead th {\n",
       "        text-align: right;\n",
       "    }\n",
       "</style>\n",
       "<table border=\"1\" class=\"dataframe\">\n",
       "  <thead>\n",
       "    <tr style=\"text-align: right;\">\n",
       "      <th></th>\n",
       "      <th>WnvPresentB</th>\n",
       "    </tr>\n",
       "  </thead>\n",
       "  <tbody>\n",
       "    <tr>\n",
       "      <th>0</th>\n",
       "      <td>0</td>\n",
       "    </tr>\n",
       "    <tr>\n",
       "      <th>1</th>\n",
       "      <td>0</td>\n",
       "    </tr>\n",
       "    <tr>\n",
       "      <th>2</th>\n",
       "      <td>0</td>\n",
       "    </tr>\n",
       "    <tr>\n",
       "      <th>3</th>\n",
       "      <td>0</td>\n",
       "    </tr>\n",
       "    <tr>\n",
       "      <th>4</th>\n",
       "      <td>0</td>\n",
       "    </tr>\n",
       "  </tbody>\n",
       "</table>\n",
       "</div>"
      ],
      "text/plain": [
       "   WnvPresentB\n",
       "0            0\n",
       "1            0\n",
       "2            0\n",
       "3            0\n",
       "4            0"
      ]
     },
     "execution_count": 22,
     "metadata": {},
     "output_type": "execute_result"
    }
   ],
   "source": [
    "y_dev.head()"
   ]
  },
  {
   "cell_type": "code",
   "execution_count": 8,
   "metadata": {},
   "outputs": [],
   "source": [
    "from sklearn.metrics import mean_squared_log_error, mean_absolute_error\n",
    "from sklearn.ensemble import GradientBoostingClassifier\n",
    "from sklearn.model_selection import GridSearchCV, RandomizedSearchCV\n"
   ]
  },
  {
   "cell_type": "code",
   "execution_count": null,
   "metadata": {},
   "outputs": [],
   "source": [
    "עובד על אדאבוסט וגרדיאנט בוסט באותו אופן"
   ]
  },
  {
   "cell_type": "code",
   "execution_count": null,
   "metadata": {},
   "outputs": [],
   "source": [
    "זה הגדרת ההעפר פרמטרים"
   ]
  },
  {
   "cell_type": "code",
   "execution_count": 54,
   "metadata": {},
   "outputs": [
    {
     "name": "stdout",
     "output_type": "stream",
     "text": [
      "{'max_depth': [10, 20, 30, 40, 50, 60, 70, 80, 90, 100, 110, None], 'n_estimators': [200, 400, 600, 800, 1000, 1200, 1400, 1600, 1800, 2000], 'max_features': ['auto', 'sqrt'], 'min_samples_leaf': [1, 2, 4], 'criterion': ['mae', 'mse'], 'min_samples_split': [2, 5, 10]}\n"
     ]
    }
   ],
   "source": [
    "# Number of trees in random forest\n",
    "n_estimators = [int(x) for x in np.linspace(start = 200, stop = 2000, num = 10)] #מתחיל ב200 ומסיים ב2000 עשרה ערכים\n",
    "# Number of features to consider at every split\n",
    "max_features = ['auto', 'sqrt'] #\n",
    "# Maximum number of levels in tree\n",
    "### the parameters you entered are too high for your problem ('max_depth': [10, 20, 30, 40, 50, 60, 70, 80, 90, 100, 110, None])\n",
    "#max_depth = [int(x) for x in np.linspace(10, 110, num = 11)]\n",
    "max_depth = [int(x) for x in np.linspace(1, 7, num = 11)]\n",
    "max_depth.append(None)\n",
    "# Minimum number of samples required to split a node\n",
    "min_samples_split = [2, 5, 10]\n",
    "# Minimum number of samples required at each leaf node\n",
    "min_samples_leaf = [1, 2, 4]\n",
    "# Method of selecting samples for training each tree\n",
    "#bootstrap = [True, False]\n",
    "criterion = ['mae','mse']\n",
    "\n",
    "# Create the random grid\n",
    "random_grid = {'n_estimators': n_estimators,\n",
    "               'max_features': max_features,\n",
    "               'max_depth': max_depth,\n",
    "               'min_samples_split': min_samples_split,\n",
    "               'min_samples_leaf': min_samples_leaf,\n",
    "               'criterion': criterion\n",
    "               #'bootstrap': bootstrap\n",
    "              }\n",
    "\n",
    "\n",
    "print(random_grid)"
   ]
  },
  {
   "cell_type": "code",
   "execution_count": null,
   "metadata": {},
   "outputs": [],
   "source": [
    "הרצת המודל\n",
    "איתחול"
   ]
  },
  {
   "cell_type": "code",
   "execution_count": null,
   "metadata": {},
   "outputs": [],
   "source": [
    "כאן כבר נתקעתי"
   ]
  },
  {
   "cell_type": "code",
   "execution_count": 57,
   "metadata": {},
   "outputs": [
    {
     "name": "stdout",
     "output_type": "stream",
     "text": [
      "Fitting 5 folds for each of 50 candidates, totalling 250 fits\n"
     ]
    },
    {
     "name": "stderr",
     "output_type": "stream",
     "text": [
      "[Parallel(n_jobs=4)]: Using backend LokyBackend with 4 concurrent workers.\n",
      "[Parallel(n_jobs=4)]: Done  33 tasks      | elapsed: 13.0min\n",
      "[Parallel(n_jobs=4)]: Done 154 tasks      | elapsed: 299.5min\n",
      "[Parallel(n_jobs=4)]: Done 250 out of 250 | elapsed: 908.1min finished\n"
     ]
    },
    {
     "data": {
      "text/plain": [
       "RandomizedSearchCV(cv=5, error_score='raise-deprecating',\n",
       "          estimator=GradientBoostingClassifier(criterion='friedman_mse', init=None,\n",
       "              learning_rate=0.1, loss='deviance', max_depth=3,\n",
       "              max_features=None, max_leaf_nodes=None,\n",
       "              min_impurity_decrease=0.0, min_impurity_split=None,\n",
       "              min_samples_leaf=1, min_sampl...      subsample=1.0, tol=0.0001, validation_fraction=0.1,\n",
       "              verbose=0, warm_start=False),\n",
       "          fit_params=None, iid='warn', n_iter=50, n_jobs=4,\n",
       "          param_distributions={'max_depth': [10, 20, 30, 40, 50, 60, 70, 80, 90, 100, 110, None], 'n_estimators': [200, 400, 600, 800, 1000, 1200, 1400, 1600, 1800, 2000], 'max_features': ['auto', 'sqrt'], 'min_samples_leaf': [1, 2, 4], 'criterion': ['mae', 'mse'], 'min_samples_split': [2, 5, 10]},\n",
       "          pre_dispatch='2*n_jobs', random_state=4, refit=True,\n",
       "          return_train_score='warn', scoring=None, verbose=2)"
      ]
     },
     "execution_count": 57,
     "metadata": {},
     "output_type": "execute_result"
    }
   ],
   "source": [
    "gb =  GradientBoostingClassifier() # אתחול המודל\n",
    "#eval_metric = [\"auc\",\"error\"]\n",
    "#הגדרת המודל עם ההיפרפרמטרים\n",
    "gb_random = RandomizedSearchCV(estimator = gb, \n",
    "                               param_distributions = random_grid, \n",
    "                               n_iter = 50, \n",
    "                               cv = 5, \n",
    "                               verbose=2, \n",
    "                               random_state=4, \n",
    "                               n_jobs = 4)\n",
    "# Fit the random search model\n",
    "gb_random.fit(X_train, y_train.values.ravel()) #הרצה של המודל\n"
   ]
  },
  {
   "cell_type": "code",
   "execution_count": 58,
   "metadata": {},
   "outputs": [
    {
     "data": {
      "text/plain": [
       "{'criterion': 'mae',\n",
       " 'max_depth': 110,\n",
       " 'max_features': 'sqrt',\n",
       " 'min_samples_leaf': 1,\n",
       " 'min_samples_split': 5,\n",
       " 'n_estimators': 1400}"
      ]
     },
     "execution_count": 58,
     "metadata": {},
     "output_type": "execute_result"
    }
   ],
   "source": [
    "gb_random.best_params_"
   ]
  },
  {
   "cell_type": "markdown",
   "metadata": {},
   "source": [
    "rf_random.best_params_\n",
    "\n",
    "{'bootstrap': True,\n",
    " 'max_depth': 20,\n",
    " 'max_features': 'sqrt',\n",
    " 'min_samples_leaf': 1,\n",
    " 'min_samples_split': 2,\n",
    " 'n_estimators': 1000}\n",
    "\n"
   ]
  },
  {
   "cell_type": "code",
   "execution_count": 62,
   "metadata": {},
   "outputs": [
    {
     "name": "stdout",
     "output_type": "stream",
     "text": [
      "{'max_depth': [1, 1, 2, 3, 4, 5, 6, 7, None], 'n_estimators': [200, 800, 1400, 2000], 'max_features': ['auto', 'sqrt'], 'min_samples_leaf': [1, 2, 4], 'criterion': ['mae'], 'min_samples_split': [2, 5, 10]}\n"
     ]
    }
   ],
   "source": [
    "### alternative 2\n",
    "scoring_method = \"roc_auc\"\n",
    "\n",
    "# Number of trees in random forest -- Reducing the number of n_estimators to check\n",
    "n_estimators = [int(x) for x in np.linspace(start = 200, stop = 2000, num = 4)] #מתחיל ב200 ומסיים ב2000 עשרה ערכים\n",
    "# Number of features to consider at every split\n",
    "max_features = ['auto', 'sqrt'] #\n",
    "# Maximum number of levels in tree\n",
    "### the parameters you entered are too high for your problem ('max_depth': [10, 20, 30, 40, 50, 60, 70, 80, 90, 100, 110, None])\n",
    "#max_depth = [int(x) for x in np.linspace(10, 110, num = 11)]\n",
    "max_depth = [int(x) for x in np.linspace(1, 7, num = 8)]\n",
    "max_depth.append(None)\n",
    "# Minimum number of samples required to split a node\n",
    "min_samples_split = [2, 5, 10]\n",
    "# Minimum number of samples required at each leaf node\n",
    "min_samples_leaf = [1, 2, 4]\n",
    "# Method of selecting samples for training each tree\n",
    "#bootstrap = [True, False]\n",
    "criterion = ['mae']\n",
    "\n",
    "# Create the random grid\n",
    "random_grid = {'n_estimators': n_estimators,\n",
    "               'max_features': max_features,\n",
    "               'max_depth': max_depth,\n",
    "               'min_samples_split': min_samples_split,\n",
    "               'min_samples_leaf': min_samples_leaf,\n",
    "               'criterion': criterion\n",
    "               #'bootstrap': bootstrap\n",
    "              }\n",
    "\n",
    "\n",
    "print(random_grid)\n",
    "\n"
   ]
  },
  {
   "cell_type": "code",
   "execution_count": 63,
   "metadata": {},
   "outputs": [
    {
     "name": "stdout",
     "output_type": "stream",
     "text": [
      "Fitting 5 folds for each of 20 candidates, totalling 100 fits\n"
     ]
    },
    {
     "name": "stderr",
     "output_type": "stream",
     "text": [
      "[Parallel(n_jobs=4)]: Using backend LokyBackend with 4 concurrent workers.\n",
      "[Parallel(n_jobs=4)]: Done  33 tasks      | elapsed: 37.8min\n",
      "[Parallel(n_jobs=4)]: Done 100 out of 100 | elapsed: 398.2min finished\n"
     ]
    },
    {
     "data": {
      "text/plain": [
       "RandomizedSearchCV(cv=5, error_score='raise-deprecating',\n",
       "          estimator=GradientBoostingClassifier(criterion='friedman_mse', init=None,\n",
       "              learning_rate=0.1, loss='deviance', max_depth=3,\n",
       "              max_features=None, max_leaf_nodes=None,\n",
       "              min_impurity_decrease=0.0, min_impurity_split=None,\n",
       "              min_samples_leaf=1, min_sampl...      subsample=1.0, tol=0.0001, validation_fraction=0.1,\n",
       "              verbose=0, warm_start=False),\n",
       "          fit_params=None, iid='warn', n_iter=20, n_jobs=4,\n",
       "          param_distributions={'max_depth': [1, 1, 2, 3, 4, 5, 6, 7, None], 'n_estimators': [200, 800, 1400, 2000], 'max_features': ['auto', 'sqrt'], 'min_samples_leaf': [1, 2, 4], 'criterion': ['mae'], 'min_samples_split': [2, 5, 10]},\n",
       "          pre_dispatch='2*n_jobs', random_state=4, refit=True,\n",
       "          return_train_score='warn', scoring='roc_auc', verbose=2)"
      ]
     },
     "execution_count": 63,
     "metadata": {},
     "output_type": "execute_result"
    }
   ],
   "source": [
    "gb =  GradientBoostingClassifier() # אתחול המודל\n",
    "#eval_metric = [\"auc\",\"error\"]\n",
    "#הגדרת המודל עם ההיפרפרמטרים\n",
    "gb_random = RandomizedSearchCV(estimator = gb, \n",
    "                               param_distributions = random_grid, \n",
    "                               n_iter = 20, \n",
    "                               cv = 5, \n",
    "                               verbose=2, \n",
    "                               scoring=scoring_method,\n",
    "                               random_state=4, \n",
    "                               n_jobs = 4)\n",
    "# Fit the random search model\n",
    "gb_random.fit(X_train, y_train.values.ravel()) #הרצה של המודל\n"
   ]
  },
  {
   "cell_type": "code",
   "execution_count": 64,
   "metadata": {},
   "outputs": [
    {
     "data": {
      "text/plain": [
       "{'criterion': 'mae',\n",
       " 'max_depth': None,\n",
       " 'max_features': 'sqrt',\n",
       " 'min_samples_leaf': 2,\n",
       " 'min_samples_split': 5,\n",
       " 'n_estimators': 200}"
      ]
     },
     "execution_count": 64,
     "metadata": {},
     "output_type": "execute_result"
    }
   ],
   "source": [
    "gb_random.best_params_"
   ]
  },
  {
   "cell_type": "code",
   "execution_count": null,
   "metadata": {},
   "outputs": [],
   "source": []
  },
  {
   "cell_type": "code",
   "execution_count": 59,
   "metadata": {},
   "outputs": [],
   "source": [
    "from sklearn.metrics import auc, roc_curve\n",
    "from sklearn.metrics import accuracy_score\n",
    "\n",
    "def evaluate(model, test_features, test_labels):\n",
    "    predictions = model.predict(test_features)\n",
    "    pred = model.predict(test_features)\n",
    "    acc = accuracy_score(test_labels, pred)\n",
    "    fpr, tpr, thresholds = roc_curve(test_labels.values.ravel(), pred, pos_label=1)\n",
    "    auc1 = auc(fpr, tpr)\n",
    "\n",
    "    print('Model Performance')\n",
    "    print('Accuracy = {:0.2f}%.'.format(acc))\n",
    "    print('AUC = {:0.3f}%.'.format(auc1))\n"
   ]
  },
  {
   "cell_type": "markdown",
   "metadata": {},
   "source": [
    "#### Run base model\n"
   ]
  },
  {
   "cell_type": "code",
   "execution_count": 60,
   "metadata": {},
   "outputs": [
    {
     "name": "stdout",
     "output_type": "stream",
     "text": [
      "Model Performance\n",
      "Accuracy = 0.83%.\n",
      "AUC = 0.801%.\n"
     ]
    },
    {
     "name": "stderr",
     "output_type": "stream",
     "text": [
      "/home/karpati/anaconda3/lib/python3.5/site-packages/sklearn/utils/validation.py:761: DataConversionWarning: A column-vector y was passed when a 1d array was expected. Please change the shape of y to (n_samples, ), for example using ravel().\n",
      "  y = column_or_1d(y, warn=True)\n"
     ]
    }
   ],
   "source": [
    "#base_model = RandomForestRegressor(n_estimators = 10, random_state = 42)\n",
    "base_model = GradientBoostingClassifier(n_estimators = 10, random_state = 42)\n",
    "base_model.fit(X_train, y_train)\n",
    "base_accuracy = evaluate(base_model, X_dev, y_dev)"
   ]
  },
  {
   "cell_type": "markdown",
   "metadata": {},
   "source": [
    "#### Compare fine-tunned model\n"
   ]
  },
  {
   "cell_type": "code",
   "execution_count": 65,
   "metadata": {},
   "outputs": [
    {
     "name": "stdout",
     "output_type": "stream",
     "text": [
      "Model Performance\n",
      "Accuracy = 0.91%.\n",
      "AUC = 0.676%.\n"
     ]
    }
   ],
   "source": [
    "best_random = gb_random.best_estimator_\n",
    "random_accuracy = evaluate(best_random, X_dev, y_dev)"
   ]
  },
  {
   "cell_type": "code",
   "execution_count": null,
   "metadata": {},
   "outputs": [],
   "source": []
  },
  {
   "cell_type": "code",
   "execution_count": 70,
   "metadata": {},
   "outputs": [],
   "source": [
    "from scipy.stats import uniform, randint\n",
    "import xgboost as xgb\n",
    "\n"
   ]
  },
  {
   "cell_type": "code",
   "execution_count": 77,
   "metadata": {},
   "outputs": [],
   "source": [
    "def report_best_scores(results, n_top=3):\n",
    "    for i in range(1, n_top + 1):\n",
    "        candidates = np.flatnonzero(results['rank_test_score'] == i)\n",
    "        for candidate in candidates:\n",
    "            print(\"Model with rank: {0}\".format(i))\n",
    "            print(\"Mean validation score: {0:.3f} (std: {1:.3f})\".format(\n",
    "                  results['mean_test_score'][candidate],\n",
    "                  results['std_test_score'][candidate]))\n",
    "            print(\"Parameters: {0}\".format(results['params'][candidate]))\n",
    "            print(\"\")"
   ]
  },
  {
   "cell_type": "code",
   "execution_count": 202,
   "metadata": {},
   "outputs": [
    {
     "name": "stdout",
     "output_type": "stream",
     "text": [
      "Fitting 10 folds for each of 100 candidates, totalling 1000 fits\n"
     ]
    },
    {
     "name": "stderr",
     "output_type": "stream",
     "text": [
      "[Parallel(n_jobs=4)]: Using backend LokyBackend with 4 concurrent workers.\n",
      "[Parallel(n_jobs=4)]: Done  42 tasks      | elapsed:   11.4s\n",
      "[Parallel(n_jobs=4)]: Done 192 tasks      | elapsed:   51.3s\n",
      "[Parallel(n_jobs=4)]: Done 442 tasks      | elapsed:  2.2min\n",
      "[Parallel(n_jobs=4)]: Done 792 tasks      | elapsed:  3.9min\n",
      "[Parallel(n_jobs=4)]: Done 1000 out of 1000 | elapsed:  5.0min finished\n",
      "/home/karpati/anaconda3/lib/python3.5/site-packages/sklearn/preprocessing/label.py:219: DataConversionWarning: A column-vector y was passed when a 1d array was expected. Please change the shape of y to (n_samples, ), for example using ravel().\n",
      "  y = column_or_1d(y, warn=True)\n",
      "/home/karpati/anaconda3/lib/python3.5/site-packages/sklearn/preprocessing/label.py:252: DataConversionWarning: A column-vector y was passed when a 1d array was expected. Please change the shape of y to (n_samples, ), for example using ravel().\n",
      "  y = column_or_1d(y, warn=True)\n"
     ]
    },
    {
     "data": {
      "text/plain": [
       "RandomizedSearchCV(cv=10, error_score='raise-deprecating',\n",
       "          estimator=XGBClassifier(base_score=0.5, booster='gbtree', colsample_bylevel=1,\n",
       "       colsample_bytree=1, gamma=0, learning_rate=0.1, max_delta_step=0,\n",
       "       max_depth=3, min_child_weight=1, missing=None, n_estimators=100,\n",
       "       n_jobs=1, nthread=None, objective='binary:logistic', random_state=0,\n",
       "       reg_alpha=0, reg_lambda=1, scale_pos_weight=1, seed=None,\n",
       "       silent=True, subsample=1),\n",
       "          fit_params=None, iid='warn', n_iter=100, n_jobs=4,\n",
       "          param_distributions={'max_depth': <scipy.stats._distn_infrastructure.rv_frozen object at 0x7f584ec70f60>, 'n_estimators': <scipy.stats._distn_infrastructure.rv_frozen object at 0x7f584ec70550>, 'gamma': <scipy.stats._distn_infrastructure.rv_frozen object at 0x7f584f022e48>, 'subsample': <scipy.stats...tn_infrastructure.rv_frozen object at 0x7f584ec70a58>, 'eval_metric': ['auc', 'error', 'error@0.6']},\n",
       "          pre_dispatch='2*n_jobs', random_state=42, refit=True,\n",
       "          return_train_score=True, scoring=None, verbose=1)"
      ]
     },
     "execution_count": 202,
     "metadata": {},
     "output_type": "execute_result"
    }
   ],
   "source": [
    "xgb_model = xgb.XGBClassifier()\n",
    "\n",
    "params = {\n",
    "    \"colsample_bytree\": uniform(0.7, 0.3),\n",
    "    \"gamma\": uniform(0, 0.5),\n",
    "    \"learning_rate\": uniform(0.03, 0.3), # default 0.1 \n",
    "    \"max_depth\": randint(2, 6), # default 3\n",
    "    \"n_estimators\": randint(100, 150), # default 100\n",
    "    \"subsample\": uniform(0.6, 0.4),\n",
    "    #\"objective\": \"binary:logistic\",\n",
    "    \"eval_metric\": [\"auc\", \"error\", \"error@0.6\"]\n",
    "}\n",
    "\n",
    "\n",
    "\n",
    "search = RandomizedSearchCV(xgb_model, param_distributions=params,random_state=42, n_iter=100, cv=10, verbose=1, n_jobs=4, return_train_score=True)\n",
    "\n",
    "search.fit(np.array(X_train),y_train)\n",
    "\n"
   ]
  },
  {
   "cell_type": "code",
   "execution_count": 203,
   "metadata": {},
   "outputs": [
    {
     "name": "stdout",
     "output_type": "stream",
     "text": [
      "Model with rank: 1\n",
      "Mean validation score: 0.973 (std: 0.006)\n",
      "Parameters: {'max_depth': 5, 'n_estimators': 134, 'gamma': 0.462321665111798, 'subsample': 0.878164449242659, 'colsample_bytree': 0.9673429341094213, 'learning_rate': 0.3057347145835978, 'eval_metric': 'error'}\n",
      "\n"
     ]
    }
   ],
   "source": [
    "report_best_scores(search.cv_results_, 1)"
   ]
  },
  {
   "cell_type": "code",
   "execution_count": 166,
   "metadata": {},
   "outputs": [],
   "source": [
    "from sklearn.metrics import auc, accuracy_score, confusion_matrix, mean_squared_error"
   ]
  },
  {
   "cell_type": "code",
   "execution_count": 213,
   "metadata": {},
   "outputs": [
    {
     "name": "stderr",
     "output_type": "stream",
     "text": [
      "/home/karpati/anaconda3/lib/python3.5/site-packages/sklearn/preprocessing/label.py:219: DataConversionWarning: A column-vector y was passed when a 1d array was expected. Please change the shape of y to (n_samples, ), for example using ravel().\n",
      "  y = column_or_1d(y, warn=True)\n",
      "/home/karpati/anaconda3/lib/python3.5/site-packages/sklearn/preprocessing/label.py:252: DataConversionWarning: A column-vector y was passed when a 1d array was expected. Please change the shape of y to (n_samples, ), for example using ravel().\n",
      "  y = column_or_1d(y, warn=True)\n"
     ]
    },
    {
     "name": "stdout",
     "output_type": "stream",
     "text": [
      "[[350  74]\n",
      " [  8  30]]\n"
     ]
    }
   ],
   "source": [
    "xgb_model = xgb.XGBClassifier(objective=\"binary:logistic\", random_state=42)\n",
    "xgb_model.fit(X_train, y_train)\n",
    "\n",
    "y_pred = xgb_model.predict(X_dev)\n",
    "\n",
    "print(confusion_matrix(y_dev, y_pred))"
   ]
  },
  {
   "cell_type": "code",
   "execution_count": 214,
   "metadata": {},
   "outputs": [
    {
     "name": "stdout",
     "output_type": "stream",
     "text": [
      "Model Performance\n",
      "Accuracy = 0.82%.\n",
      "AUC = 0.807%.\n"
     ]
    }
   ],
   "source": [
    "random_accuracy = evaluate(xgb_model, X_dev, y_dev)\n"
   ]
  },
  {
   "cell_type": "code",
   "execution_count": 215,
   "metadata": {},
   "outputs": [
    {
     "name": "stdout",
     "output_type": "stream",
     "text": [
      "(461, 61)\n",
      "(461, 1)\n"
     ]
    }
   ],
   "source": [
    "X_test=pd.read_csv(\"X_tt.csv\")\n",
    "y_test=pd.read_csv(\"y_test.csv\")\n",
    "X_test=X_test.drop(['X'], axis=1)\n",
    "y_test=y_test.drop(['X'], axis=1)\n",
    "\n",
    "print(X_test.shape)\n",
    "print(y_test.shape)\n",
    "#random_accuracy = evaluate(xgb_model, X_test, y_test)"
   ]
  },
  {
   "cell_type": "code",
   "execution_count": 216,
   "metadata": {},
   "outputs": [
    {
     "name": "stdout",
     "output_type": "stream",
     "text": [
      "Model Performance\n",
      "Accuracy = 0.83%.\n",
      "AUC = 0.843%.\n"
     ]
    }
   ],
   "source": [
    "random_accuracy = evaluate(xgb_model, X_test, y_test)"
   ]
  },
  {
   "cell_type": "code",
   "execution_count": 204,
   "metadata": {},
   "outputs": [],
   "source": [
    "# Set the parameters for the xgboost\n",
    "#param = {'max_depth': 5, 'n_estimators': 139, 'gamma': 0.02904180608409973, 'subsample': 0.8832290311184181, 'colsample_bytree': 0.7467983561008608, 'learning_rate': 0.28985284373248055, 'objective': 'binary:logistic'}\n",
    "#param = [max_depth= 5, n_estimators= 139, gamma= 0.02904180608409973, subsample= 0.8832290311184181, \n",
    "#         colsample_bytree= 0.7467983561008608, learning_rate= 0.28985284373248055, objective= 'binary:logistic'.\n",
    "#         eval_metric = [\"auc\", \"error\", \"error@0.6\"]\n",
    "#param['nthread'] = 10\n",
    "#param['eval_metric'] = [\"auc\", \"error\", \"error@0.6\"]\n",
    "# Train the model using the training sets\n",
    "#num_round = 10\n",
    "\n",
    "mod_xgboost = xgb.XGBClassifier(max_depth= 5, \n",
    "                                n_estimators= 134, \n",
    "                                gamma= 0.46232166511179, \n",
    "                                subsample= 0.878164449242659, \n",
    "                                colsample_bytree= 0.9673429341094213, \n",
    "                                learning_rate= 0.3057347145835978, \n",
    "                                objective= 'binary:logistic', \n",
    "                                #objective= 'reg:logistic', \n",
    "                                eval_metric = [\"auc\", \"error\", \"error@0.6\"],num_round = 10)\n",
    "                                #eval_metric = \"auc\")\n",
    "\n",
    "mod_xgboost2 = xgb.XGBClassifier(max_depth= 5, n_estimators= 139, \n",
    "                                 gamma= 0.02904180608409973, \n",
    "                                 subsample= 0.8832290311184181, \n",
    "                                 colsample_bytree= 0.7467983561008608, \n",
    "                                 learning_rate= 0.28985284373248055, \n",
    "                                 objective= 'binary:logistic',\n",
    "                                 eval_metric = [\"auc\", \"error\", \"error@0.6\"])"
   ]
  },
  {
   "cell_type": "code",
   "execution_count": 205,
   "metadata": {},
   "outputs": [
    {
     "name": "stderr",
     "output_type": "stream",
     "text": [
      "/home/karpati/anaconda3/lib/python3.5/site-packages/sklearn/preprocessing/label.py:219: DataConversionWarning: A column-vector y was passed when a 1d array was expected. Please change the shape of y to (n_samples, ), for example using ravel().\n",
      "  y = column_or_1d(y, warn=True)\n",
      "/home/karpati/anaconda3/lib/python3.5/site-packages/sklearn/preprocessing/label.py:252: DataConversionWarning: A column-vector y was passed when a 1d array was expected. Please change the shape of y to (n_samples, ), for example using ravel().\n",
      "  y = column_or_1d(y, warn=True)\n",
      "/home/karpati/anaconda3/lib/python3.5/site-packages/sklearn/preprocessing/label.py:219: DataConversionWarning: A column-vector y was passed when a 1d array was expected. Please change the shape of y to (n_samples, ), for example using ravel().\n",
      "  y = column_or_1d(y, warn=True)\n",
      "/home/karpati/anaconda3/lib/python3.5/site-packages/sklearn/preprocessing/label.py:252: DataConversionWarning: A column-vector y was passed when a 1d array was expected. Please change the shape of y to (n_samples, ), for example using ravel().\n",
      "  y = column_or_1d(y, warn=True)\n"
     ]
    }
   ],
   "source": [
    "# Transform data to a DMatrix object\n",
    "#dtrain = xgb.DMatrix(np.array(X_train), label=y_train.values.ravel())\n",
    "#ddev = xgb.DMatrix(np.array(X_dev), y_dev.values.ravel())\n",
    "#ydev = xgb.DMatrix(np.array(X_dev), y_dev.values.ravel())\n",
    "\n",
    "#mod_xgboost = xgb.train(param, dtrain, num_round)\n",
    "#mod_xgboost = xgb.train(param, dtrain, num_round)\n",
    "#mod_xgboost = xgb.XGBClassifier(param, num_round)\n",
    "\n",
    "mod_xgboost.fit(X_train, y_train)\n",
    "# Make predictions using the testing set\n",
    "pred = mod_xgboost.predict(X_dev)\n",
    "\n",
    "mod_xgboost2.fit(X_train, y_train)\n",
    "pred2 = mod_xgboost2.predict(X_dev)\n"
   ]
  },
  {
   "cell_type": "code",
   "execution_count": 206,
   "metadata": {},
   "outputs": [
    {
     "data": {
      "text/html": [
       "<div>\n",
       "<style scoped>\n",
       "    .dataframe tbody tr th:only-of-type {\n",
       "        vertical-align: middle;\n",
       "    }\n",
       "\n",
       "    .dataframe tbody tr th {\n",
       "        vertical-align: top;\n",
       "    }\n",
       "\n",
       "    .dataframe thead th {\n",
       "        text-align: right;\n",
       "    }\n",
       "</style>\n",
       "<table border=\"1\" class=\"dataframe\">\n",
       "  <thead>\n",
       "    <tr style=\"text-align: right;\">\n",
       "      <th>col_0</th>\n",
       "      <th>0</th>\n",
       "      <th>1</th>\n",
       "    </tr>\n",
       "    <tr>\n",
       "      <th>row_0</th>\n",
       "      <th></th>\n",
       "      <th></th>\n",
       "    </tr>\n",
       "  </thead>\n",
       "  <tbody>\n",
       "    <tr>\n",
       "      <th>0</th>\n",
       "      <td>394</td>\n",
       "      <td>30</td>\n",
       "    </tr>\n",
       "    <tr>\n",
       "      <th>1</th>\n",
       "      <td>16</td>\n",
       "      <td>22</td>\n",
       "    </tr>\n",
       "  </tbody>\n",
       "</table>\n",
       "</div>"
      ],
      "text/plain": [
       "col_0    0   1\n",
       "row_0         \n",
       "0      394  30\n",
       "1       16  22"
      ]
     },
     "execution_count": 206,
     "metadata": {},
     "output_type": "execute_result"
    }
   ],
   "source": [
    "pred_class = np.where(pred >= 0.5, 1, 0)\n",
    "pd.crosstab(y_dev.values.ravel(), pred_class)"
   ]
  },
  {
   "cell_type": "code",
   "execution_count": null,
   "metadata": {},
   "outputs": [],
   "source": []
  },
  {
   "cell_type": "code",
   "execution_count": 207,
   "metadata": {},
   "outputs": [
    {
     "name": "stdout",
     "output_type": "stream",
     "text": [
      "Model Performance\n",
      "Accuracy = 0.90%.\n",
      "AUC = 0.754%.\n"
     ]
    }
   ],
   "source": [
    "random_accuracy = evaluate(mod_xgboost, X_dev, y_dev)"
   ]
  },
  {
   "cell_type": "code",
   "execution_count": 208,
   "metadata": {},
   "outputs": [
    {
     "name": "stdout",
     "output_type": "stream",
     "text": [
      "Model Performance\n",
      "Accuracy = 0.91%.\n",
      "AUC = 0.770%.\n"
     ]
    }
   ],
   "source": [
    "random_accuracy = evaluate(mod_xgboost2, X_dev, y_dev)"
   ]
  },
  {
   "cell_type": "markdown",
   "metadata": {},
   "source": [
    "Grid search: we decide which oarameters and how (not randomly)"
   ]
  },
  {
   "cell_type": "code",
   "execution_count": 54,
   "metadata": {},
   "outputs": [],
   "source": [
    "\n",
    "# Create the parameter grid \n",
    "param_grid = {\n",
    "    'bootstrap': [True],       \n",
    "    'max_depth': [10, 15, 20, 25, 30],\n",
    "    'max_features': ['sqrt'],\n",
    "    'min_samples_leaf': [2, 3],\n",
    "    'min_samples_split': [2, 3],\n",
    "    'n_estimators': [500, 1000, 1500]\n",
    "}\n",
    "\n",
    "# Create a based model\n",
    "rf = RandomForestRegressor()\n",
    "# Instantiate the grid search model\n",
    "\n",
    "grid_search = GridSearchCV(estimator = rf, param_grid = param_grid, cv = 3, n_jobs = -1, verbose = 2)"
   ]
  },
  {
   "cell_type": "code",
   "execution_count": 55,
   "metadata": {},
   "outputs": [
    {
     "name": "stdout",
     "output_type": "stream",
     "text": [
      "Fitting 3 folds for each of 60 candidates, totalling 180 fits\n",
      "[CV] n_estimators=500, bootstrap=True, min_samples_leaf=2, max_features=sqrt, max_depth=10, min_samples_split=2 \n",
      "[CV] n_estimators=500, bootstrap=True, min_samples_leaf=2, max_features=sqrt, max_depth=10, min_samples_split=2 \n",
      "[CV] n_estimators=500, bootstrap=True, min_samples_leaf=2, max_features=sqrt, max_depth=10, min_samples_split=2 \n",
      "[CV] n_estimators=1000, bootstrap=True, min_samples_leaf=2, max_features=sqrt, max_depth=10, min_samples_split=2 \n",
      "[CV]  n_estimators=500, bootstrap=True, min_samples_leaf=2, max_features=sqrt, max_depth=10, min_samples_split=2, total=   1.0s\n",
      "[CV] n_estimators=1000, bootstrap=True, min_samples_leaf=2, max_features=sqrt, max_depth=10, min_samples_split=2 \n",
      "[CV]  n_estimators=500, bootstrap=True, min_samples_leaf=2, max_features=sqrt, max_depth=10, min_samples_split=2, total=   1.0s\n",
      "[CV] n_estimators=1000, bootstrap=True, min_samples_leaf=2, max_features=sqrt, max_depth=10, min_samples_split=2 \n",
      "[CV]  n_estimators=500, bootstrap=True, min_samples_leaf=2, max_features=sqrt, max_depth=10, min_samples_split=2, total=   1.1s\n",
      "[CV] n_estimators=1500, bootstrap=True, min_samples_leaf=2, max_features=sqrt, max_depth=10, min_samples_split=2 \n",
      "[CV]  n_estimators=1000, bootstrap=True, min_samples_leaf=2, max_features=sqrt, max_depth=10, min_samples_split=2, total=   2.0s\n",
      "[CV] n_estimators=1500, bootstrap=True, min_samples_leaf=2, max_features=sqrt, max_depth=10, min_samples_split=2 \n",
      "[CV]  n_estimators=1000, bootstrap=True, min_samples_leaf=2, max_features=sqrt, max_depth=10, min_samples_split=2, total=   2.0s\n",
      "[CV]  n_estimators=1000, bootstrap=True, min_samples_leaf=2, max_features=sqrt, max_depth=10, min_samples_split=2, total=   2.0s\n",
      "[CV] n_estimators=1500, bootstrap=True, min_samples_leaf=2, max_features=sqrt, max_depth=10, min_samples_split=2 \n",
      "[CV] n_estimators=500, bootstrap=True, min_samples_leaf=2, max_features=sqrt, max_depth=10, min_samples_split=3 \n",
      "[CV]  n_estimators=500, bootstrap=True, min_samples_leaf=2, max_features=sqrt, max_depth=10, min_samples_split=3, total=   1.0s\n",
      "[CV] n_estimators=500, bootstrap=True, min_samples_leaf=2, max_features=sqrt, max_depth=10, min_samples_split=3 \n",
      "[CV]  n_estimators=1500, bootstrap=True, min_samples_leaf=2, max_features=sqrt, max_depth=10, min_samples_split=2, total=   3.1s\n",
      "[CV] n_estimators=500, bootstrap=True, min_samples_leaf=2, max_features=sqrt, max_depth=10, min_samples_split=3 \n",
      "[CV]  n_estimators=1500, bootstrap=True, min_samples_leaf=2, max_features=sqrt, max_depth=10, min_samples_split=2, total=   3.0s\n",
      "[CV] n_estimators=1000, bootstrap=True, min_samples_leaf=2, max_features=sqrt, max_depth=10, min_samples_split=3 \n",
      "[CV]  n_estimators=500, bootstrap=True, min_samples_leaf=2, max_features=sqrt, max_depth=10, min_samples_split=3, total=   1.2s\n",
      "[CV] n_estimators=1000, bootstrap=True, min_samples_leaf=2, max_features=sqrt, max_depth=10, min_samples_split=3 \n",
      "[CV]  n_estimators=500, bootstrap=True, min_samples_leaf=2, max_features=sqrt, max_depth=10, min_samples_split=3, total=   1.1s\n",
      "[CV] n_estimators=1000, bootstrap=True, min_samples_leaf=2, max_features=sqrt, max_depth=10, min_samples_split=3 \n",
      "[CV]  n_estimators=1500, bootstrap=True, min_samples_leaf=2, max_features=sqrt, max_depth=10, min_samples_split=2, total=   3.1s\n",
      "[CV] n_estimators=1500, bootstrap=True, min_samples_leaf=2, max_features=sqrt, max_depth=10, min_samples_split=3 \n",
      "[CV]  n_estimators=1000, bootstrap=True, min_samples_leaf=2, max_features=sqrt, max_depth=10, min_samples_split=3, total=   2.0s\n",
      "[CV] n_estimators=1500, bootstrap=True, min_samples_leaf=2, max_features=sqrt, max_depth=10, min_samples_split=3 \n",
      "[CV]  n_estimators=1000, bootstrap=True, min_samples_leaf=2, max_features=sqrt, max_depth=10, min_samples_split=3, total=   2.3s\n",
      "[CV] n_estimators=1500, bootstrap=True, min_samples_leaf=2, max_features=sqrt, max_depth=10, min_samples_split=3 \n",
      "[CV]  n_estimators=1000, bootstrap=True, min_samples_leaf=2, max_features=sqrt, max_depth=10, min_samples_split=3, total=   2.1s\n",
      "[CV] n_estimators=500, bootstrap=True, min_samples_leaf=3, max_features=sqrt, max_depth=10, min_samples_split=2 \n",
      "[CV]  n_estimators=500, bootstrap=True, min_samples_leaf=3, max_features=sqrt, max_depth=10, min_samples_split=2, total=   1.0s\n",
      "[CV] n_estimators=500, bootstrap=True, min_samples_leaf=3, max_features=sqrt, max_depth=10, min_samples_split=2 \n",
      "[CV]  n_estimators=1500, bootstrap=True, min_samples_leaf=2, max_features=sqrt, max_depth=10, min_samples_split=3, total=   3.1s\n",
      "[CV] n_estimators=500, bootstrap=True, min_samples_leaf=3, max_features=sqrt, max_depth=10, min_samples_split=2 \n",
      "[CV]  n_estimators=500, bootstrap=True, min_samples_leaf=3, max_features=sqrt, max_depth=10, min_samples_split=2, total=   1.1s\n",
      "[CV] n_estimators=1000, bootstrap=True, min_samples_leaf=3, max_features=sqrt, max_depth=10, min_samples_split=2 \n",
      "[CV]  n_estimators=1500, bootstrap=True, min_samples_leaf=2, max_features=sqrt, max_depth=10, min_samples_split=3, total=   3.1s\n",
      "[CV] n_estimators=1000, bootstrap=True, min_samples_leaf=3, max_features=sqrt, max_depth=10, min_samples_split=2 \n",
      "[CV]  n_estimators=1500, bootstrap=True, min_samples_leaf=2, max_features=sqrt, max_depth=10, min_samples_split=3, total=   3.1s\n",
      "[CV] n_estimators=1000, bootstrap=True, min_samples_leaf=3, max_features=sqrt, max_depth=10, min_samples_split=2 \n",
      "[CV]  n_estimators=500, bootstrap=True, min_samples_leaf=3, max_features=sqrt, max_depth=10, min_samples_split=2, total=   1.2s\n",
      "[CV] n_estimators=1500, bootstrap=True, min_samples_leaf=3, max_features=sqrt, max_depth=10, min_samples_split=2 \n",
      "[CV]  n_estimators=1000, bootstrap=True, min_samples_leaf=3, max_features=sqrt, max_depth=10, min_samples_split=2, total=   2.3s\n",
      "[CV] n_estimators=1500, bootstrap=True, min_samples_leaf=3, max_features=sqrt, max_depth=10, min_samples_split=2 \n",
      "[CV]  n_estimators=1000, bootstrap=True, min_samples_leaf=3, max_features=sqrt, max_depth=10, min_samples_split=2, total=   2.0s\n",
      "[CV] n_estimators=1500, bootstrap=True, min_samples_leaf=3, max_features=sqrt, max_depth=10, min_samples_split=2 \n",
      "[CV]  n_estimators=1000, bootstrap=True, min_samples_leaf=3, max_features=sqrt, max_depth=10, min_samples_split=2, total=   2.3s\n",
      "[CV] n_estimators=500, bootstrap=True, min_samples_leaf=3, max_features=sqrt, max_depth=10, min_samples_split=3 \n",
      "[CV]  n_estimators=500, bootstrap=True, min_samples_leaf=3, max_features=sqrt, max_depth=10, min_samples_split=3, total=   1.1s\n",
      "[CV] n_estimators=500, bootstrap=True, min_samples_leaf=3, max_features=sqrt, max_depth=10, min_samples_split=3 \n",
      "[CV]  n_estimators=1500, bootstrap=True, min_samples_leaf=3, max_features=sqrt, max_depth=10, min_samples_split=2, total=   3.5s\n",
      "[CV] n_estimators=500, bootstrap=True, min_samples_leaf=3, max_features=sqrt, max_depth=10, min_samples_split=3 \n",
      "[CV]  n_estimators=500, bootstrap=True, min_samples_leaf=3, max_features=sqrt, max_depth=10, min_samples_split=3, total=   1.1s\n",
      "[CV] n_estimators=1000, bootstrap=True, min_samples_leaf=3, max_features=sqrt, max_depth=10, min_samples_split=3 \n",
      "[CV]  n_estimators=500, bootstrap=True, min_samples_leaf=3, max_features=sqrt, max_depth=10, min_samples_split=3, total=   1.1s\n",
      "[CV] n_estimators=1000, bootstrap=True, min_samples_leaf=3, max_features=sqrt, max_depth=10, min_samples_split=3 \n",
      "[CV]  n_estimators=1500, bootstrap=True, min_samples_leaf=3, max_features=sqrt, max_depth=10, min_samples_split=2, total=   3.2s\n",
      "[CV] n_estimators=1000, bootstrap=True, min_samples_leaf=3, max_features=sqrt, max_depth=10, min_samples_split=3 \n",
      "[CV]  n_estimators=1500, bootstrap=True, min_samples_leaf=3, max_features=sqrt, max_depth=10, min_samples_split=2, total=   3.1s\n",
      "[CV] n_estimators=1500, bootstrap=True, min_samples_leaf=3, max_features=sqrt, max_depth=10, min_samples_split=3 \n",
      "[CV]  n_estimators=1000, bootstrap=True, min_samples_leaf=3, max_features=sqrt, max_depth=10, min_samples_split=3, total=   2.0s\n",
      "[CV] n_estimators=1500, bootstrap=True, min_samples_leaf=3, max_features=sqrt, max_depth=10, min_samples_split=3 \n",
      "[CV]  n_estimators=1000, bootstrap=True, min_samples_leaf=3, max_features=sqrt, max_depth=10, min_samples_split=3, total=   2.1s\n",
      "[CV] n_estimators=1500, bootstrap=True, min_samples_leaf=3, max_features=sqrt, max_depth=10, min_samples_split=3 \n"
     ]
    },
    {
     "name": "stdout",
     "output_type": "stream",
     "text": [
      "[CV]  n_estimators=1000, bootstrap=True, min_samples_leaf=3, max_features=sqrt, max_depth=10, min_samples_split=3, total=   2.1s\n",
      "[CV] n_estimators=500, bootstrap=True, min_samples_leaf=2, max_features=sqrt, max_depth=15, min_samples_split=2 \n"
     ]
    },
    {
     "name": "stderr",
     "output_type": "stream",
     "text": [
      "[Parallel(n_jobs=-1)]: Done  33 tasks      | elapsed:   18.2s\n"
     ]
    },
    {
     "name": "stdout",
     "output_type": "stream",
     "text": [
      "[CV]  n_estimators=500, bootstrap=True, min_samples_leaf=2, max_features=sqrt, max_depth=15, min_samples_split=2, total=   1.1s\n",
      "[CV] n_estimators=500, bootstrap=True, min_samples_leaf=2, max_features=sqrt, max_depth=15, min_samples_split=2 \n",
      "[CV]  n_estimators=1500, bootstrap=True, min_samples_leaf=3, max_features=sqrt, max_depth=10, min_samples_split=3, total=   3.0s\n",
      "[CV] n_estimators=500, bootstrap=True, min_samples_leaf=2, max_features=sqrt, max_depth=15, min_samples_split=2 \n",
      "[CV]  n_estimators=500, bootstrap=True, min_samples_leaf=2, max_features=sqrt, max_depth=15, min_samples_split=2, total=   1.0s\n",
      "[CV] n_estimators=1000, bootstrap=True, min_samples_leaf=2, max_features=sqrt, max_depth=15, min_samples_split=2 \n",
      "[CV]  n_estimators=500, bootstrap=True, min_samples_leaf=2, max_features=sqrt, max_depth=15, min_samples_split=2, total=   1.0s\n",
      "[CV] n_estimators=1000, bootstrap=True, min_samples_leaf=2, max_features=sqrt, max_depth=15, min_samples_split=2 \n",
      "[CV]  n_estimators=1500, bootstrap=True, min_samples_leaf=3, max_features=sqrt, max_depth=10, min_samples_split=3, total=   3.1s\n",
      "[CV] n_estimators=1000, bootstrap=True, min_samples_leaf=2, max_features=sqrt, max_depth=15, min_samples_split=2 \n",
      "[CV]  n_estimators=1500, bootstrap=True, min_samples_leaf=3, max_features=sqrt, max_depth=10, min_samples_split=3, total=   3.2s\n",
      "[CV] n_estimators=1500, bootstrap=True, min_samples_leaf=2, max_features=sqrt, max_depth=15, min_samples_split=2 \n",
      "[CV]  n_estimators=1000, bootstrap=True, min_samples_leaf=2, max_features=sqrt, max_depth=15, min_samples_split=2, total=   2.1s\n",
      "[CV] n_estimators=1500, bootstrap=True, min_samples_leaf=2, max_features=sqrt, max_depth=15, min_samples_split=2 \n",
      "[CV]  n_estimators=1000, bootstrap=True, min_samples_leaf=2, max_features=sqrt, max_depth=15, min_samples_split=2, total=   2.1s\n",
      "[CV] n_estimators=1500, bootstrap=True, min_samples_leaf=2, max_features=sqrt, max_depth=15, min_samples_split=2 \n",
      "[CV]  n_estimators=1000, bootstrap=True, min_samples_leaf=2, max_features=sqrt, max_depth=15, min_samples_split=2, total=   2.0s\n",
      "[CV] n_estimators=500, bootstrap=True, min_samples_leaf=2, max_features=sqrt, max_depth=15, min_samples_split=3 \n",
      "[CV]  n_estimators=500, bootstrap=True, min_samples_leaf=2, max_features=sqrt, max_depth=15, min_samples_split=3, total=   1.1s\n",
      "[CV] n_estimators=500, bootstrap=True, min_samples_leaf=2, max_features=sqrt, max_depth=15, min_samples_split=3 \n",
      "[CV]  n_estimators=1500, bootstrap=True, min_samples_leaf=2, max_features=sqrt, max_depth=15, min_samples_split=2, total=   3.1s\n",
      "[CV] n_estimators=500, bootstrap=True, min_samples_leaf=2, max_features=sqrt, max_depth=15, min_samples_split=3 \n",
      "[CV]  n_estimators=500, bootstrap=True, min_samples_leaf=2, max_features=sqrt, max_depth=15, min_samples_split=3, total=   1.1s\n",
      "[CV] n_estimators=1000, bootstrap=True, min_samples_leaf=2, max_features=sqrt, max_depth=15, min_samples_split=3 \n",
      "[CV]  n_estimators=500, bootstrap=True, min_samples_leaf=2, max_features=sqrt, max_depth=15, min_samples_split=3, total=   1.0s\n",
      "[CV] n_estimators=1000, bootstrap=True, min_samples_leaf=2, max_features=sqrt, max_depth=15, min_samples_split=3 \n",
      "[CV]  n_estimators=1500, bootstrap=True, min_samples_leaf=2, max_features=sqrt, max_depth=15, min_samples_split=2, total=   3.0s\n",
      "[CV] n_estimators=1000, bootstrap=True, min_samples_leaf=2, max_features=sqrt, max_depth=15, min_samples_split=3 \n",
      "[CV]  n_estimators=1500, bootstrap=True, min_samples_leaf=2, max_features=sqrt, max_depth=15, min_samples_split=2, total=   3.1s\n",
      "[CV] n_estimators=1500, bootstrap=True, min_samples_leaf=2, max_features=sqrt, max_depth=15, min_samples_split=3 \n",
      "[CV]  n_estimators=1000, bootstrap=True, min_samples_leaf=2, max_features=sqrt, max_depth=15, min_samples_split=3, total=   2.0s\n",
      "[CV] n_estimators=1500, bootstrap=True, min_samples_leaf=2, max_features=sqrt, max_depth=15, min_samples_split=3 \n",
      "[CV]  n_estimators=1000, bootstrap=True, min_samples_leaf=2, max_features=sqrt, max_depth=15, min_samples_split=3, total=   2.1s\n",
      "[CV] n_estimators=1500, bootstrap=True, min_samples_leaf=2, max_features=sqrt, max_depth=15, min_samples_split=3 \n",
      "[CV]  n_estimators=1000, bootstrap=True, min_samples_leaf=2, max_features=sqrt, max_depth=15, min_samples_split=3, total=   2.2s\n",
      "[CV] n_estimators=500, bootstrap=True, min_samples_leaf=3, max_features=sqrt, max_depth=15, min_samples_split=2 \n",
      "[CV]  n_estimators=500, bootstrap=True, min_samples_leaf=3, max_features=sqrt, max_depth=15, min_samples_split=2, total=   1.0s\n",
      "[CV] n_estimators=500, bootstrap=True, min_samples_leaf=3, max_features=sqrt, max_depth=15, min_samples_split=2 \n",
      "[CV]  n_estimators=1500, bootstrap=True, min_samples_leaf=2, max_features=sqrt, max_depth=15, min_samples_split=3, total=   3.0s\n",
      "[CV] n_estimators=500, bootstrap=True, min_samples_leaf=3, max_features=sqrt, max_depth=15, min_samples_split=2 \n",
      "[CV]  n_estimators=500, bootstrap=True, min_samples_leaf=3, max_features=sqrt, max_depth=15, min_samples_split=2, total=   1.1s\n",
      "[CV] n_estimators=1000, bootstrap=True, min_samples_leaf=3, max_features=sqrt, max_depth=15, min_samples_split=2 \n",
      "[CV]  n_estimators=500, bootstrap=True, min_samples_leaf=3, max_features=sqrt, max_depth=15, min_samples_split=2, total=   1.0s\n",
      "[CV] n_estimators=1000, bootstrap=True, min_samples_leaf=3, max_features=sqrt, max_depth=15, min_samples_split=2 \n",
      "[CV]  n_estimators=1500, bootstrap=True, min_samples_leaf=2, max_features=sqrt, max_depth=15, min_samples_split=3, total=   3.3s\n",
      "[CV] n_estimators=1000, bootstrap=True, min_samples_leaf=3, max_features=sqrt, max_depth=15, min_samples_split=2 \n",
      "[CV]  n_estimators=1500, bootstrap=True, min_samples_leaf=2, max_features=sqrt, max_depth=15, min_samples_split=3, total=   3.3s\n",
      "[CV] n_estimators=1500, bootstrap=True, min_samples_leaf=3, max_features=sqrt, max_depth=15, min_samples_split=2 \n",
      "[CV]  n_estimators=1000, bootstrap=True, min_samples_leaf=3, max_features=sqrt, max_depth=15, min_samples_split=2, total=   2.1s\n",
      "[CV] n_estimators=1500, bootstrap=True, min_samples_leaf=3, max_features=sqrt, max_depth=15, min_samples_split=2 \n",
      "[CV]  n_estimators=1000, bootstrap=True, min_samples_leaf=3, max_features=sqrt, max_depth=15, min_samples_split=2, total=   2.1s\n",
      "[CV] n_estimators=1500, bootstrap=True, min_samples_leaf=3, max_features=sqrt, max_depth=15, min_samples_split=2 \n",
      "[CV]  n_estimators=1000, bootstrap=True, min_samples_leaf=3, max_features=sqrt, max_depth=15, min_samples_split=2, total=   2.2s\n",
      "[CV] n_estimators=500, bootstrap=True, min_samples_leaf=3, max_features=sqrt, max_depth=15, min_samples_split=3 \n",
      "[CV]  n_estimators=500, bootstrap=True, min_samples_leaf=3, max_features=sqrt, max_depth=15, min_samples_split=3, total=   1.0s\n",
      "[CV] n_estimators=500, bootstrap=True, min_samples_leaf=3, max_features=sqrt, max_depth=15, min_samples_split=3 \n",
      "[CV]  n_estimators=1500, bootstrap=True, min_samples_leaf=3, max_features=sqrt, max_depth=15, min_samples_split=2, total=   3.3s\n",
      "[CV] n_estimators=500, bootstrap=True, min_samples_leaf=3, max_features=sqrt, max_depth=15, min_samples_split=3 \n",
      "[CV]  n_estimators=1500, bootstrap=True, min_samples_leaf=3, max_features=sqrt, max_depth=15, min_samples_split=2, total=   3.3s\n",
      "[CV] n_estimators=1000, bootstrap=True, min_samples_leaf=3, max_features=sqrt, max_depth=15, min_samples_split=3 \n",
      "[CV]  n_estimators=500, bootstrap=True, min_samples_leaf=3, max_features=sqrt, max_depth=15, min_samples_split=3, total=   1.1s\n",
      "[CV] n_estimators=1000, bootstrap=True, min_samples_leaf=3, max_features=sqrt, max_depth=15, min_samples_split=3 \n",
      "[CV]  n_estimators=500, bootstrap=True, min_samples_leaf=3, max_features=sqrt, max_depth=15, min_samples_split=3, total=   1.3s\n",
      "[CV] n_estimators=1000, bootstrap=True, min_samples_leaf=3, max_features=sqrt, max_depth=15, min_samples_split=3 \n",
      "[CV]  n_estimators=1500, bootstrap=True, min_samples_leaf=3, max_features=sqrt, max_depth=15, min_samples_split=2, total=   3.2s\n",
      "[CV] n_estimators=1500, bootstrap=True, min_samples_leaf=3, max_features=sqrt, max_depth=15, min_samples_split=3 \n",
      "[CV]  n_estimators=1000, bootstrap=True, min_samples_leaf=3, max_features=sqrt, max_depth=15, min_samples_split=3, total=   2.0s\n",
      "[CV] n_estimators=1500, bootstrap=True, min_samples_leaf=3, max_features=sqrt, max_depth=15, min_samples_split=3 \n"
     ]
    },
    {
     "name": "stdout",
     "output_type": "stream",
     "text": [
      "[CV]  n_estimators=1000, bootstrap=True, min_samples_leaf=3, max_features=sqrt, max_depth=15, min_samples_split=3, total=   2.0s\n",
      "[CV] n_estimators=1500, bootstrap=True, min_samples_leaf=3, max_features=sqrt, max_depth=15, min_samples_split=3 \n",
      "[CV]  n_estimators=1000, bootstrap=True, min_samples_leaf=3, max_features=sqrt, max_depth=15, min_samples_split=3, total=   2.1s\n",
      "[CV] n_estimators=500, bootstrap=True, min_samples_leaf=2, max_features=sqrt, max_depth=20, min_samples_split=2 \n",
      "[CV]  n_estimators=1500, bootstrap=True, min_samples_leaf=3, max_features=sqrt, max_depth=15, min_samples_split=3, total=   3.1s\n",
      "[CV] n_estimators=500, bootstrap=True, min_samples_leaf=2, max_features=sqrt, max_depth=20, min_samples_split=2 \n",
      "[CV]  n_estimators=500, bootstrap=True, min_samples_leaf=2, max_features=sqrt, max_depth=20, min_samples_split=2, total=   1.0s\n",
      "[CV] n_estimators=500, bootstrap=True, min_samples_leaf=2, max_features=sqrt, max_depth=20, min_samples_split=2 \n",
      "[CV]  n_estimators=500, bootstrap=True, min_samples_leaf=2, max_features=sqrt, max_depth=20, min_samples_split=2, total=   1.0s\n",
      "[CV] n_estimators=1000, bootstrap=True, min_samples_leaf=2, max_features=sqrt, max_depth=20, min_samples_split=2 \n",
      "[CV]  n_estimators=500, bootstrap=True, min_samples_leaf=2, max_features=sqrt, max_depth=20, min_samples_split=2, total=   1.0s\n",
      "[CV] n_estimators=1000, bootstrap=True, min_samples_leaf=2, max_features=sqrt, max_depth=20, min_samples_split=2 \n",
      "[CV]  n_estimators=1500, bootstrap=True, min_samples_leaf=3, max_features=sqrt, max_depth=15, min_samples_split=3, total=   3.1s\n",
      "[CV] n_estimators=1000, bootstrap=True, min_samples_leaf=2, max_features=sqrt, max_depth=20, min_samples_split=2 \n",
      "[CV]  n_estimators=1500, bootstrap=True, min_samples_leaf=3, max_features=sqrt, max_depth=15, min_samples_split=3, total=   3.1s\n",
      "[CV] n_estimators=1500, bootstrap=True, min_samples_leaf=2, max_features=sqrt, max_depth=20, min_samples_split=2 \n",
      "[CV]  n_estimators=1000, bootstrap=True, min_samples_leaf=2, max_features=sqrt, max_depth=20, min_samples_split=2, total=   2.0s\n",
      "[CV] n_estimators=1500, bootstrap=True, min_samples_leaf=2, max_features=sqrt, max_depth=20, min_samples_split=2 \n",
      "[CV]  n_estimators=1000, bootstrap=True, min_samples_leaf=2, max_features=sqrt, max_depth=20, min_samples_split=2, total=   2.1s\n",
      "[CV] n_estimators=1500, bootstrap=True, min_samples_leaf=2, max_features=sqrt, max_depth=20, min_samples_split=2 \n",
      "[CV]  n_estimators=1000, bootstrap=True, min_samples_leaf=2, max_features=sqrt, max_depth=20, min_samples_split=2, total=   2.0s\n",
      "[CV] n_estimators=500, bootstrap=True, min_samples_leaf=2, max_features=sqrt, max_depth=20, min_samples_split=3 \n",
      "[CV]  n_estimators=500, bootstrap=True, min_samples_leaf=2, max_features=sqrt, max_depth=20, min_samples_split=3, total=   1.0s\n",
      "[CV] n_estimators=500, bootstrap=True, min_samples_leaf=2, max_features=sqrt, max_depth=20, min_samples_split=3 \n",
      "[CV]  n_estimators=1500, bootstrap=True, min_samples_leaf=2, max_features=sqrt, max_depth=20, min_samples_split=2, total=   3.1s\n",
      "[CV] n_estimators=500, bootstrap=True, min_samples_leaf=2, max_features=sqrt, max_depth=20, min_samples_split=3 \n",
      "[CV]  n_estimators=1500, bootstrap=True, min_samples_leaf=2, max_features=sqrt, max_depth=20, min_samples_split=2, total=   3.0s\n",
      "[CV] n_estimators=1000, bootstrap=True, min_samples_leaf=2, max_features=sqrt, max_depth=20, min_samples_split=3 \n",
      "[CV]  n_estimators=500, bootstrap=True, min_samples_leaf=2, max_features=sqrt, max_depth=20, min_samples_split=3, total=   1.1s\n",
      "[CV] n_estimators=1000, bootstrap=True, min_samples_leaf=2, max_features=sqrt, max_depth=20, min_samples_split=3 \n",
      "[CV]  n_estimators=500, bootstrap=True, min_samples_leaf=2, max_features=sqrt, max_depth=20, min_samples_split=3, total=   1.1s\n",
      "[CV] n_estimators=1000, bootstrap=True, min_samples_leaf=2, max_features=sqrt, max_depth=20, min_samples_split=3 \n",
      "[CV]  n_estimators=1500, bootstrap=True, min_samples_leaf=2, max_features=sqrt, max_depth=20, min_samples_split=2, total=   3.2s\n",
      "[CV] n_estimators=1500, bootstrap=True, min_samples_leaf=2, max_features=sqrt, max_depth=20, min_samples_split=3 \n",
      "[CV]  n_estimators=1000, bootstrap=True, min_samples_leaf=2, max_features=sqrt, max_depth=20, min_samples_split=3, total=   2.1s\n",
      "[CV] n_estimators=1500, bootstrap=True, min_samples_leaf=2, max_features=sqrt, max_depth=20, min_samples_split=3 \n",
      "[CV]  n_estimators=1000, bootstrap=True, min_samples_leaf=2, max_features=sqrt, max_depth=20, min_samples_split=3, total=   2.0s\n",
      "[CV] n_estimators=1500, bootstrap=True, min_samples_leaf=2, max_features=sqrt, max_depth=20, min_samples_split=3 \n",
      "[CV]  n_estimators=1000, bootstrap=True, min_samples_leaf=2, max_features=sqrt, max_depth=20, min_samples_split=3, total=   2.0s\n",
      "[CV] n_estimators=500, bootstrap=True, min_samples_leaf=3, max_features=sqrt, max_depth=20, min_samples_split=2 \n",
      "[CV]  n_estimators=500, bootstrap=True, min_samples_leaf=3, max_features=sqrt, max_depth=20, min_samples_split=2, total=   1.0s\n",
      "[CV] n_estimators=500, bootstrap=True, min_samples_leaf=3, max_features=sqrt, max_depth=20, min_samples_split=2 \n",
      "[CV]  n_estimators=1500, bootstrap=True, min_samples_leaf=2, max_features=sqrt, max_depth=20, min_samples_split=3, total=   3.2s\n",
      "[CV] n_estimators=500, bootstrap=True, min_samples_leaf=3, max_features=sqrt, max_depth=20, min_samples_split=2 \n",
      "[CV]  n_estimators=500, bootstrap=True, min_samples_leaf=3, max_features=sqrt, max_depth=20, min_samples_split=2, total=   1.0s\n",
      "[CV] n_estimators=1000, bootstrap=True, min_samples_leaf=3, max_features=sqrt, max_depth=20, min_samples_split=2 \n",
      "[CV]  n_estimators=500, bootstrap=True, min_samples_leaf=3, max_features=sqrt, max_depth=20, min_samples_split=2, total=   1.0s\n",
      "[CV] n_estimators=1000, bootstrap=True, min_samples_leaf=3, max_features=sqrt, max_depth=20, min_samples_split=2 \n",
      "[CV]  n_estimators=1500, bootstrap=True, min_samples_leaf=2, max_features=sqrt, max_depth=20, min_samples_split=3, total=   3.1s\n",
      "[CV] n_estimators=1000, bootstrap=True, min_samples_leaf=3, max_features=sqrt, max_depth=20, min_samples_split=2 \n",
      "[CV]  n_estimators=1500, bootstrap=True, min_samples_leaf=2, max_features=sqrt, max_depth=20, min_samples_split=3, total=   3.1s\n",
      "[CV] n_estimators=1500, bootstrap=True, min_samples_leaf=3, max_features=sqrt, max_depth=20, min_samples_split=2 \n",
      "[CV]  n_estimators=1000, bootstrap=True, min_samples_leaf=3, max_features=sqrt, max_depth=20, min_samples_split=2, total=   2.1s\n",
      "[CV] n_estimators=1500, bootstrap=True, min_samples_leaf=3, max_features=sqrt, max_depth=20, min_samples_split=2 \n",
      "[CV]  n_estimators=1000, bootstrap=True, min_samples_leaf=3, max_features=sqrt, max_depth=20, min_samples_split=2, total=   2.1s\n",
      "[CV] n_estimators=1500, bootstrap=True, min_samples_leaf=3, max_features=sqrt, max_depth=20, min_samples_split=2 \n",
      "[CV]  n_estimators=1000, bootstrap=True, min_samples_leaf=3, max_features=sqrt, max_depth=20, min_samples_split=2, total=   2.1s\n",
      "[CV] n_estimators=500, bootstrap=True, min_samples_leaf=3, max_features=sqrt, max_depth=20, min_samples_split=3 \n",
      "[CV]  n_estimators=500, bootstrap=True, min_samples_leaf=3, max_features=sqrt, max_depth=20, min_samples_split=3, total=   1.0s\n",
      "[CV] n_estimators=500, bootstrap=True, min_samples_leaf=3, max_features=sqrt, max_depth=20, min_samples_split=3 \n",
      "[CV]  n_estimators=1500, bootstrap=True, min_samples_leaf=3, max_features=sqrt, max_depth=20, min_samples_split=2, total=   3.1s\n",
      "[CV] n_estimators=500, bootstrap=True, min_samples_leaf=3, max_features=sqrt, max_depth=20, min_samples_split=3 \n",
      "[CV]  n_estimators=500, bootstrap=True, min_samples_leaf=3, max_features=sqrt, max_depth=20, min_samples_split=3, total=   1.0s\n",
      "[CV] n_estimators=1000, bootstrap=True, min_samples_leaf=3, max_features=sqrt, max_depth=20, min_samples_split=3 \n",
      "[CV]  n_estimators=500, bootstrap=True, min_samples_leaf=3, max_features=sqrt, max_depth=20, min_samples_split=3, total=   1.0s\n",
      "[CV] n_estimators=1000, bootstrap=True, min_samples_leaf=3, max_features=sqrt, max_depth=20, min_samples_split=3 \n",
      "[CV]  n_estimators=1500, bootstrap=True, min_samples_leaf=3, max_features=sqrt, max_depth=20, min_samples_split=2, total=   3.1s\n",
      "[CV] n_estimators=1000, bootstrap=True, min_samples_leaf=3, max_features=sqrt, max_depth=20, min_samples_split=3 \n"
     ]
    },
    {
     "name": "stdout",
     "output_type": "stream",
     "text": [
      "[CV]  n_estimators=1500, bootstrap=True, min_samples_leaf=3, max_features=sqrt, max_depth=20, min_samples_split=2, total=   3.0s\n",
      "[CV] n_estimators=1500, bootstrap=True, min_samples_leaf=3, max_features=sqrt, max_depth=20, min_samples_split=3 \n",
      "[CV]  n_estimators=1000, bootstrap=True, min_samples_leaf=3, max_features=sqrt, max_depth=20, min_samples_split=3, total=   2.1s\n",
      "[CV] n_estimators=1500, bootstrap=True, min_samples_leaf=3, max_features=sqrt, max_depth=20, min_samples_split=3 \n",
      "[CV]  n_estimators=1000, bootstrap=True, min_samples_leaf=3, max_features=sqrt, max_depth=20, min_samples_split=3, total=   2.0s\n",
      "[CV] n_estimators=1500, bootstrap=True, min_samples_leaf=3, max_features=sqrt, max_depth=20, min_samples_split=3 \n",
      "[CV]  n_estimators=1000, bootstrap=True, min_samples_leaf=3, max_features=sqrt, max_depth=20, min_samples_split=3, total=   2.0s\n",
      "[CV] n_estimators=500, bootstrap=True, min_samples_leaf=2, max_features=sqrt, max_depth=25, min_samples_split=2 \n",
      "[CV]  n_estimators=500, bootstrap=True, min_samples_leaf=2, max_features=sqrt, max_depth=25, min_samples_split=2, total=   1.0s\n",
      "[CV] n_estimators=500, bootstrap=True, min_samples_leaf=2, max_features=sqrt, max_depth=25, min_samples_split=2 \n",
      "[CV]  n_estimators=1500, bootstrap=True, min_samples_leaf=3, max_features=sqrt, max_depth=20, min_samples_split=3, total=   3.0s\n",
      "[CV] n_estimators=500, bootstrap=True, min_samples_leaf=2, max_features=sqrt, max_depth=25, min_samples_split=2 \n",
      "[CV]  n_estimators=500, bootstrap=True, min_samples_leaf=2, max_features=sqrt, max_depth=25, min_samples_split=2, total=   1.0s\n",
      "[CV] n_estimators=1000, bootstrap=True, min_samples_leaf=2, max_features=sqrt, max_depth=25, min_samples_split=2 \n",
      "[CV]  n_estimators=500, bootstrap=True, min_samples_leaf=2, max_features=sqrt, max_depth=25, min_samples_split=2, total=   1.0s\n",
      "[CV] n_estimators=1000, bootstrap=True, min_samples_leaf=2, max_features=sqrt, max_depth=25, min_samples_split=2 \n",
      "[CV]  n_estimators=1500, bootstrap=True, min_samples_leaf=3, max_features=sqrt, max_depth=20, min_samples_split=3, total=   3.1s\n",
      "[CV] n_estimators=1000, bootstrap=True, min_samples_leaf=2, max_features=sqrt, max_depth=25, min_samples_split=2 \n",
      "[CV]  n_estimators=1500, bootstrap=True, min_samples_leaf=3, max_features=sqrt, max_depth=20, min_samples_split=3, total=   3.1s\n",
      "[CV] n_estimators=1500, bootstrap=True, min_samples_leaf=2, max_features=sqrt, max_depth=25, min_samples_split=2 \n",
      "[CV]  n_estimators=1000, bootstrap=True, min_samples_leaf=2, max_features=sqrt, max_depth=25, min_samples_split=2, total=   2.0s\n",
      "[CV] n_estimators=1500, bootstrap=True, min_samples_leaf=2, max_features=sqrt, max_depth=25, min_samples_split=2 \n",
      "[CV]  n_estimators=1000, bootstrap=True, min_samples_leaf=2, max_features=sqrt, max_depth=25, min_samples_split=2, total=   2.1s\n",
      "[CV] n_estimators=1500, bootstrap=True, min_samples_leaf=2, max_features=sqrt, max_depth=25, min_samples_split=2 \n",
      "[CV]  n_estimators=1000, bootstrap=True, min_samples_leaf=2, max_features=sqrt, max_depth=25, min_samples_split=2, total=   2.0s\n",
      "[CV] n_estimators=500, bootstrap=True, min_samples_leaf=2, max_features=sqrt, max_depth=25, min_samples_split=3 \n",
      "[CV]  n_estimators=500, bootstrap=True, min_samples_leaf=2, max_features=sqrt, max_depth=25, min_samples_split=3, total=   1.0s\n",
      "[CV] n_estimators=500, bootstrap=True, min_samples_leaf=2, max_features=sqrt, max_depth=25, min_samples_split=3 \n",
      "[CV]  n_estimators=1500, bootstrap=True, min_samples_leaf=2, max_features=sqrt, max_depth=25, min_samples_split=2, total=   3.1s\n",
      "[CV] n_estimators=500, bootstrap=True, min_samples_leaf=2, max_features=sqrt, max_depth=25, min_samples_split=3 \n",
      "[CV]  n_estimators=500, bootstrap=True, min_samples_leaf=2, max_features=sqrt, max_depth=25, min_samples_split=3, total=   1.0s\n",
      "[CV] n_estimators=1000, bootstrap=True, min_samples_leaf=2, max_features=sqrt, max_depth=25, min_samples_split=3 \n",
      "[CV]  n_estimators=1500, bootstrap=True, min_samples_leaf=2, max_features=sqrt, max_depth=25, min_samples_split=2, total=   3.0s\n",
      "[CV] n_estimators=1000, bootstrap=True, min_samples_leaf=2, max_features=sqrt, max_depth=25, min_samples_split=3 \n",
      "[CV]  n_estimators=500, bootstrap=True, min_samples_leaf=2, max_features=sqrt, max_depth=25, min_samples_split=3, total=   1.2s\n",
      "[CV] n_estimators=1000, bootstrap=True, min_samples_leaf=2, max_features=sqrt, max_depth=25, min_samples_split=3 \n",
      "[CV]  n_estimators=1500, bootstrap=True, min_samples_leaf=2, max_features=sqrt, max_depth=25, min_samples_split=2, total=   3.1s\n",
      "[CV] n_estimators=1500, bootstrap=True, min_samples_leaf=2, max_features=sqrt, max_depth=25, min_samples_split=3 \n",
      "[CV]  n_estimators=1000, bootstrap=True, min_samples_leaf=2, max_features=sqrt, max_depth=25, min_samples_split=3, total=   2.1s\n",
      "[CV] n_estimators=1500, bootstrap=True, min_samples_leaf=2, max_features=sqrt, max_depth=25, min_samples_split=3 \n",
      "[CV]  n_estimators=1000, bootstrap=True, min_samples_leaf=2, max_features=sqrt, max_depth=25, min_samples_split=3, total=   2.0s\n",
      "[CV] n_estimators=1500, bootstrap=True, min_samples_leaf=2, max_features=sqrt, max_depth=25, min_samples_split=3 \n",
      "[CV]  n_estimators=1000, bootstrap=True, min_samples_leaf=2, max_features=sqrt, max_depth=25, min_samples_split=3, total=   2.1s\n",
      "[CV] n_estimators=500, bootstrap=True, min_samples_leaf=3, max_features=sqrt, max_depth=25, min_samples_split=2 \n",
      "[CV]  n_estimators=1500, bootstrap=True, min_samples_leaf=2, max_features=sqrt, max_depth=25, min_samples_split=3, total=   3.0s\n",
      "[CV] n_estimators=500, bootstrap=True, min_samples_leaf=3, max_features=sqrt, max_depth=25, min_samples_split=2 \n",
      "[CV]  n_estimators=500, bootstrap=True, min_samples_leaf=3, max_features=sqrt, max_depth=25, min_samples_split=2, total=   1.0s\n",
      "[CV] n_estimators=500, bootstrap=True, min_samples_leaf=3, max_features=sqrt, max_depth=25, min_samples_split=2 \n",
      "[CV]  n_estimators=500, bootstrap=True, min_samples_leaf=3, max_features=sqrt, max_depth=25, min_samples_split=2, total=   1.0s\n",
      "[CV] n_estimators=1000, bootstrap=True, min_samples_leaf=3, max_features=sqrt, max_depth=25, min_samples_split=2 \n",
      "[CV]  n_estimators=500, bootstrap=True, min_samples_leaf=3, max_features=sqrt, max_depth=25, min_samples_split=2, total=   1.1s\n",
      "[CV] n_estimators=1000, bootstrap=True, min_samples_leaf=3, max_features=sqrt, max_depth=25, min_samples_split=2 \n",
      "[CV]  n_estimators=1500, bootstrap=True, min_samples_leaf=2, max_features=sqrt, max_depth=25, min_samples_split=3, total=   3.1s\n",
      "[CV] n_estimators=1000, bootstrap=True, min_samples_leaf=3, max_features=sqrt, max_depth=25, min_samples_split=2 \n",
      "[CV]  n_estimators=1500, bootstrap=True, min_samples_leaf=2, max_features=sqrt, max_depth=25, min_samples_split=3, total=   3.1s\n",
      "[CV] n_estimators=1500, bootstrap=True, min_samples_leaf=3, max_features=sqrt, max_depth=25, min_samples_split=2 \n",
      "[CV]  n_estimators=1000, bootstrap=True, min_samples_leaf=3, max_features=sqrt, max_depth=25, min_samples_split=2, total=   2.1s\n",
      "[CV] n_estimators=1500, bootstrap=True, min_samples_leaf=3, max_features=sqrt, max_depth=25, min_samples_split=2 \n",
      "[CV]  n_estimators=1000, bootstrap=True, min_samples_leaf=3, max_features=sqrt, max_depth=25, min_samples_split=2, total=   2.1s\n",
      "[CV] n_estimators=1500, bootstrap=True, min_samples_leaf=3, max_features=sqrt, max_depth=25, min_samples_split=2 \n",
      "[CV]  n_estimators=1000, bootstrap=True, min_samples_leaf=3, max_features=sqrt, max_depth=25, min_samples_split=2, total=   2.0s\n",
      "[CV] n_estimators=500, bootstrap=True, min_samples_leaf=3, max_features=sqrt, max_depth=25, min_samples_split=3 \n",
      "[CV]  n_estimators=500, bootstrap=True, min_samples_leaf=3, max_features=sqrt, max_depth=25, min_samples_split=3, total=   1.0s\n",
      "[CV] n_estimators=500, bootstrap=True, min_samples_leaf=3, max_features=sqrt, max_depth=25, min_samples_split=3 \n",
      "[CV]  n_estimators=1500, bootstrap=True, min_samples_leaf=3, max_features=sqrt, max_depth=25, min_samples_split=2, total=   3.0s\n",
      "[CV] n_estimators=500, bootstrap=True, min_samples_leaf=3, max_features=sqrt, max_depth=25, min_samples_split=3 \n",
      "[CV]  n_estimators=500, bootstrap=True, min_samples_leaf=3, max_features=sqrt, max_depth=25, min_samples_split=3, total=   1.0s\n",
      "[CV] n_estimators=1000, bootstrap=True, min_samples_leaf=3, max_features=sqrt, max_depth=25, min_samples_split=3 \n"
     ]
    },
    {
     "name": "stdout",
     "output_type": "stream",
     "text": [
      "[CV]  n_estimators=500, bootstrap=True, min_samples_leaf=3, max_features=sqrt, max_depth=25, min_samples_split=3, total=   1.0s\n",
      "[CV] n_estimators=1000, bootstrap=True, min_samples_leaf=3, max_features=sqrt, max_depth=25, min_samples_split=3 \n",
      "[CV]  n_estimators=1500, bootstrap=True, min_samples_leaf=3, max_features=sqrt, max_depth=25, min_samples_split=2, total=   3.3s\n",
      "[CV] n_estimators=1000, bootstrap=True, min_samples_leaf=3, max_features=sqrt, max_depth=25, min_samples_split=3 \n",
      "[CV]  n_estimators=1500, bootstrap=True, min_samples_leaf=3, max_features=sqrt, max_depth=25, min_samples_split=2, total=   3.1s\n",
      "[CV] n_estimators=1500, bootstrap=True, min_samples_leaf=3, max_features=sqrt, max_depth=25, min_samples_split=3 \n",
      "[CV]  n_estimators=1000, bootstrap=True, min_samples_leaf=3, max_features=sqrt, max_depth=25, min_samples_split=3, total=   2.0s\n",
      "[CV] n_estimators=1500, bootstrap=True, min_samples_leaf=3, max_features=sqrt, max_depth=25, min_samples_split=3 \n",
      "[CV]  n_estimators=1000, bootstrap=True, min_samples_leaf=3, max_features=sqrt, max_depth=25, min_samples_split=3, total=   2.0s\n",
      "[CV] n_estimators=1500, bootstrap=True, min_samples_leaf=3, max_features=sqrt, max_depth=25, min_samples_split=3 \n",
      "[CV]  n_estimators=1000, bootstrap=True, min_samples_leaf=3, max_features=sqrt, max_depth=25, min_samples_split=3, total=   2.0s\n",
      "[CV] n_estimators=500, bootstrap=True, min_samples_leaf=2, max_features=sqrt, max_depth=30, min_samples_split=2 \n",
      "[CV]  n_estimators=500, bootstrap=True, min_samples_leaf=2, max_features=sqrt, max_depth=30, min_samples_split=2, total=   1.0s\n",
      "[CV] n_estimators=500, bootstrap=True, min_samples_leaf=2, max_features=sqrt, max_depth=30, min_samples_split=2 \n",
      "[CV]  n_estimators=1500, bootstrap=True, min_samples_leaf=3, max_features=sqrt, max_depth=25, min_samples_split=3, total=   3.0s\n",
      "[CV] n_estimators=500, bootstrap=True, min_samples_leaf=2, max_features=sqrt, max_depth=30, min_samples_split=2 \n",
      "[CV]  n_estimators=500, bootstrap=True, min_samples_leaf=2, max_features=sqrt, max_depth=30, min_samples_split=2, total=   1.0s\n",
      "[CV] n_estimators=1000, bootstrap=True, min_samples_leaf=2, max_features=sqrt, max_depth=30, min_samples_split=2 \n",
      "[CV]  n_estimators=500, bootstrap=True, min_samples_leaf=2, max_features=sqrt, max_depth=30, min_samples_split=2, total=   1.0s\n",
      "[CV] n_estimators=1000, bootstrap=True, min_samples_leaf=2, max_features=sqrt, max_depth=30, min_samples_split=2 \n",
      "[CV]  n_estimators=1500, bootstrap=True, min_samples_leaf=3, max_features=sqrt, max_depth=25, min_samples_split=3, total=   3.1s\n",
      "[CV] n_estimators=1000, bootstrap=True, min_samples_leaf=2, max_features=sqrt, max_depth=30, min_samples_split=2 \n",
      "[CV]  n_estimators=1500, bootstrap=True, min_samples_leaf=3, max_features=sqrt, max_depth=25, min_samples_split=3, total=   3.0s\n",
      "[CV] n_estimators=1500, bootstrap=True, min_samples_leaf=2, max_features=sqrt, max_depth=30, min_samples_split=2 \n",
      "[CV]  n_estimators=1000, bootstrap=True, min_samples_leaf=2, max_features=sqrt, max_depth=30, min_samples_split=2, total=   2.0s\n",
      "[CV] n_estimators=1500, bootstrap=True, min_samples_leaf=2, max_features=sqrt, max_depth=30, min_samples_split=2 \n",
      "[CV]  n_estimators=1000, bootstrap=True, min_samples_leaf=2, max_features=sqrt, max_depth=30, min_samples_split=2, total=   2.1s\n",
      "[CV] n_estimators=1500, bootstrap=True, min_samples_leaf=2, max_features=sqrt, max_depth=30, min_samples_split=2 \n",
      "[CV]  n_estimators=1000, bootstrap=True, min_samples_leaf=2, max_features=sqrt, max_depth=30, min_samples_split=2, total=   2.0s\n",
      "[CV] n_estimators=500, bootstrap=True, min_samples_leaf=2, max_features=sqrt, max_depth=30, min_samples_split=3 \n",
      "[CV]  n_estimators=1500, bootstrap=True, min_samples_leaf=2, max_features=sqrt, max_depth=30, min_samples_split=2, total=   3.0s\n",
      "[CV] n_estimators=500, bootstrap=True, min_samples_leaf=2, max_features=sqrt, max_depth=30, min_samples_split=3 \n",
      "[CV]  n_estimators=500, bootstrap=True, min_samples_leaf=2, max_features=sqrt, max_depth=30, min_samples_split=3, total=   1.0s\n",
      "[CV] n_estimators=500, bootstrap=True, min_samples_leaf=2, max_features=sqrt, max_depth=30, min_samples_split=3 \n",
      "[CV]  n_estimators=500, bootstrap=True, min_samples_leaf=2, max_features=sqrt, max_depth=30, min_samples_split=3, total=   1.0s\n",
      "[CV] n_estimators=1000, bootstrap=True, min_samples_leaf=2, max_features=sqrt, max_depth=30, min_samples_split=3 \n",
      "[CV]  n_estimators=500, bootstrap=True, min_samples_leaf=2, max_features=sqrt, max_depth=30, min_samples_split=3, total=   1.0s\n",
      "[CV] n_estimators=1000, bootstrap=True, min_samples_leaf=2, max_features=sqrt, max_depth=30, min_samples_split=3 \n"
     ]
    },
    {
     "name": "stderr",
     "output_type": "stream",
     "text": [
      "[Parallel(n_jobs=-1)]: Done 154 tasks      | elapsed:  1.4min\n"
     ]
    },
    {
     "name": "stdout",
     "output_type": "stream",
     "text": [
      "[CV]  n_estimators=1500, bootstrap=True, min_samples_leaf=2, max_features=sqrt, max_depth=30, min_samples_split=2, total=   3.2s\n",
      "[CV] n_estimators=1000, bootstrap=True, min_samples_leaf=2, max_features=sqrt, max_depth=30, min_samples_split=3 \n",
      "[CV]  n_estimators=1500, bootstrap=True, min_samples_leaf=2, max_features=sqrt, max_depth=30, min_samples_split=2, total=   3.1s\n",
      "[CV] n_estimators=1500, bootstrap=True, min_samples_leaf=2, max_features=sqrt, max_depth=30, min_samples_split=3 \n",
      "[CV]  n_estimators=1000, bootstrap=True, min_samples_leaf=2, max_features=sqrt, max_depth=30, min_samples_split=3, total=   2.0s\n",
      "[CV] n_estimators=1500, bootstrap=True, min_samples_leaf=2, max_features=sqrt, max_depth=30, min_samples_split=3 \n",
      "[CV]  n_estimators=1000, bootstrap=True, min_samples_leaf=2, max_features=sqrt, max_depth=30, min_samples_split=3, total=   2.0s\n",
      "[CV] n_estimators=1500, bootstrap=True, min_samples_leaf=2, max_features=sqrt, max_depth=30, min_samples_split=3 \n",
      "[CV]  n_estimators=1000, bootstrap=True, min_samples_leaf=2, max_features=sqrt, max_depth=30, min_samples_split=3, total=   2.0s\n",
      "[CV] n_estimators=500, bootstrap=True, min_samples_leaf=3, max_features=sqrt, max_depth=30, min_samples_split=2 \n",
      "[CV]  n_estimators=500, bootstrap=True, min_samples_leaf=3, max_features=sqrt, max_depth=30, min_samples_split=2, total=   1.0s\n",
      "[CV] n_estimators=500, bootstrap=True, min_samples_leaf=3, max_features=sqrt, max_depth=30, min_samples_split=2 \n",
      "[CV]  n_estimators=1500, bootstrap=True, min_samples_leaf=2, max_features=sqrt, max_depth=30, min_samples_split=3, total=   3.0s\n",
      "[CV] n_estimators=500, bootstrap=True, min_samples_leaf=3, max_features=sqrt, max_depth=30, min_samples_split=2 \n",
      "[CV]  n_estimators=500, bootstrap=True, min_samples_leaf=3, max_features=sqrt, max_depth=30, min_samples_split=2, total=   1.0s\n",
      "[CV] n_estimators=1000, bootstrap=True, min_samples_leaf=3, max_features=sqrt, max_depth=30, min_samples_split=2 \n",
      "[CV]  n_estimators=500, bootstrap=True, min_samples_leaf=3, max_features=sqrt, max_depth=30, min_samples_split=2, total=   1.0s\n",
      "[CV] n_estimators=1000, bootstrap=True, min_samples_leaf=3, max_features=sqrt, max_depth=30, min_samples_split=2 \n",
      "[CV]  n_estimators=1500, bootstrap=True, min_samples_leaf=2, max_features=sqrt, max_depth=30, min_samples_split=3, total=   3.0s\n",
      "[CV] n_estimators=1000, bootstrap=True, min_samples_leaf=3, max_features=sqrt, max_depth=30, min_samples_split=2 \n",
      "[CV]  n_estimators=1500, bootstrap=True, min_samples_leaf=2, max_features=sqrt, max_depth=30, min_samples_split=3, total=   3.2s\n",
      "[CV] n_estimators=1500, bootstrap=True, min_samples_leaf=3, max_features=sqrt, max_depth=30, min_samples_split=2 \n",
      "[CV]  n_estimators=1000, bootstrap=True, min_samples_leaf=3, max_features=sqrt, max_depth=30, min_samples_split=2, total=   2.0s\n",
      "[CV] n_estimators=1500, bootstrap=True, min_samples_leaf=3, max_features=sqrt, max_depth=30, min_samples_split=2 \n",
      "[CV]  n_estimators=1000, bootstrap=True, min_samples_leaf=3, max_features=sqrt, max_depth=30, min_samples_split=2, total=   1.9s\n",
      "[CV] n_estimators=1500, bootstrap=True, min_samples_leaf=3, max_features=sqrt, max_depth=30, min_samples_split=2 \n",
      "[CV]  n_estimators=1000, bootstrap=True, min_samples_leaf=3, max_features=sqrt, max_depth=30, min_samples_split=2, total=   2.1s\n",
      "[CV] n_estimators=500, bootstrap=True, min_samples_leaf=3, max_features=sqrt, max_depth=30, min_samples_split=3 \n",
      "[CV]  n_estimators=500, bootstrap=True, min_samples_leaf=3, max_features=sqrt, max_depth=30, min_samples_split=3, total=   1.0s\n",
      "[CV] n_estimators=500, bootstrap=True, min_samples_leaf=3, max_features=sqrt, max_depth=30, min_samples_split=3 \n",
      "[CV]  n_estimators=1500, bootstrap=True, min_samples_leaf=3, max_features=sqrt, max_depth=30, min_samples_split=2, total=   3.0s\n",
      "[CV] n_estimators=500, bootstrap=True, min_samples_leaf=3, max_features=sqrt, max_depth=30, min_samples_split=3 \n",
      "[CV]  n_estimators=500, bootstrap=True, min_samples_leaf=3, max_features=sqrt, max_depth=30, min_samples_split=3, total=   1.1s\n",
      "[CV] n_estimators=1000, bootstrap=True, min_samples_leaf=3, max_features=sqrt, max_depth=30, min_samples_split=3 \n",
      "[CV]  n_estimators=500, bootstrap=True, min_samples_leaf=3, max_features=sqrt, max_depth=30, min_samples_split=3, total=   1.0s\n",
      "[CV] n_estimators=1000, bootstrap=True, min_samples_leaf=3, max_features=sqrt, max_depth=30, min_samples_split=3 \n",
      "[CV]  n_estimators=1500, bootstrap=True, min_samples_leaf=3, max_features=sqrt, max_depth=30, min_samples_split=2, total=   3.0s\n",
      "[CV] n_estimators=1000, bootstrap=True, min_samples_leaf=3, max_features=sqrt, max_depth=30, min_samples_split=3 \n",
      "[CV]  n_estimators=1500, bootstrap=True, min_samples_leaf=3, max_features=sqrt, max_depth=30, min_samples_split=2, total=   3.1s\n",
      "[CV] n_estimators=1500, bootstrap=True, min_samples_leaf=3, max_features=sqrt, max_depth=30, min_samples_split=3 \n",
      "[CV]  n_estimators=1000, bootstrap=True, min_samples_leaf=3, max_features=sqrt, max_depth=30, min_samples_split=3, total=   2.0s\n",
      "[CV] n_estimators=1500, bootstrap=True, min_samples_leaf=3, max_features=sqrt, max_depth=30, min_samples_split=3 \n",
      "[CV]  n_estimators=1000, bootstrap=True, min_samples_leaf=3, max_features=sqrt, max_depth=30, min_samples_split=3, total=   2.0s\n",
      "[CV] n_estimators=1500, bootstrap=True, min_samples_leaf=3, max_features=sqrt, max_depth=30, min_samples_split=3 \n",
      "[CV]  n_estimators=1000, bootstrap=True, min_samples_leaf=3, max_features=sqrt, max_depth=30, min_samples_split=3, total=   2.0s\n",
      "[CV]  n_estimators=1500, bootstrap=True, min_samples_leaf=3, max_features=sqrt, max_depth=30, min_samples_split=3, total=   3.0s\n",
      "[CV]  n_estimators=1500, bootstrap=True, min_samples_leaf=3, max_features=sqrt, max_depth=30, min_samples_split=3, total=   1.9s\n",
      "[CV]  n_estimators=1500, bootstrap=True, min_samples_leaf=3, max_features=sqrt, max_depth=30, min_samples_split=3, total=   2.3s\n"
     ]
    },
    {
     "name": "stderr",
     "output_type": "stream",
     "text": [
      "[Parallel(n_jobs=-1)]: Done 180 out of 180 | elapsed:  1.6min finished\n"
     ]
    },
    {
     "data": {
      "text/plain": [
       "GridSearchCV(cv=3, error_score='raise',\n",
       "       estimator=RandomForestRegressor(bootstrap=True, criterion='mse', max_depth=None,\n",
       "           max_features='auto', max_leaf_nodes=None,\n",
       "           min_impurity_decrease=0.0, min_impurity_split=None,\n",
       "           min_samples_leaf=1, min_samples_split=2,\n",
       "           min_weight_fraction_leaf=0.0, n_estimators=10, n_jobs=1,\n",
       "           oob_score=False, random_state=None, verbose=0, warm_start=False),\n",
       "       fit_params=None, iid=True, n_jobs=-1,\n",
       "       param_grid={'n_estimators': [500, 1000, 1500], 'bootstrap': [True], 'min_samples_leaf': [2, 3], 'max_features': ['sqrt'], 'max_depth': [10, 15, 20, 25, 30], 'min_samples_split': [2, 3]},\n",
       "       pre_dispatch='2*n_jobs', refit=True, return_train_score='warn',\n",
       "       scoring=None, verbose=2)"
      ]
     },
     "execution_count": 55,
     "metadata": {},
     "output_type": "execute_result"
    }
   ],
   "source": [
    "# Fit the grid search to the data\n",
    "grid_search.fit(X_train, y_train)\n"
   ]
  },
  {
   "cell_type": "code",
   "execution_count": 56,
   "metadata": {},
   "outputs": [
    {
     "data": {
      "text/plain": [
       "{'bootstrap': True,\n",
       " 'max_depth': 20,\n",
       " 'max_features': 'sqrt',\n",
       " 'min_samples_leaf': 2,\n",
       " 'min_samples_split': 2,\n",
       " 'n_estimators': 1000}"
      ]
     },
     "execution_count": 56,
     "metadata": {},
     "output_type": "execute_result"
    }
   ],
   "source": [
    "grid_search.best_params_"
   ]
  },
  {
   "cell_type": "code",
   "execution_count": 58,
   "metadata": {},
   "outputs": [
    {
     "name": "stdout",
     "output_type": "stream",
     "text": [
      "Model Performance\n",
      "Average Error: 0.8362 degrees.\n",
      "Accuracy = 66.24%.\n"
     ]
    }
   ],
   "source": [
    "best_grid = grid_search.best_estimator_\n",
    "grid_accuracy = evaluate(best_grid, X_test, y_test)"
   ]
  },
  {
   "cell_type": "code",
   "execution_count": 59,
   "metadata": {},
   "outputs": [
    {
     "name": "stdout",
     "output_type": "stream",
     "text": [
      "Improvement of 3.65%.\n"
     ]
    }
   ],
   "source": [
    "print('Improvement of {:0.2f}%.'.format( 100 * (grid_accuracy - base_accuracy) / base_accuracy))"
   ]
  }
 ],
 "metadata": {
  "kernelspec": {
   "display_name": "Python 3",
   "language": "python",
   "name": "python3"
  },
  "language_info": {
   "codemirror_mode": {
    "name": "ipython",
    "version": 3
   },
   "file_extension": ".py",
   "mimetype": "text/x-python",
   "name": "python",
   "nbconvert_exporter": "python",
   "pygments_lexer": "ipython3",
   "version": "3.7.0"
  }
 },
 "nbformat": 4,
 "nbformat_minor": 2
}
