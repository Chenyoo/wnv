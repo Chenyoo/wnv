{
 "cells": [
  {
   "cell_type": "code",
   "execution_count": 1,
   "metadata": {},
   "outputs": [],
   "source": [
    "import numpy as np\n",
    "import pandas as pd\n",
    "import seaborn as sns\n"
   ]
  },
  {
   "cell_type": "code",
   "execution_count": 2,
   "metadata": {},
   "outputs": [],
   "source": [
    "import numpy as np\n",
    "from sklearn import metrics\n",
    "from sklearn.metrics import mean_squared_error, accuracy_score\n"
   ]
  },
  {
   "cell_type": "code",
   "execution_count": 3,
   "metadata": {},
   "outputs": [],
   "source": [
    "## error = sum of squared errors (SSE)\n",
    "def error(predicted, observed):\n",
    "    err = sum(np.subtract(predicted, observed)**2)\n",
    "    return(err)"
   ]
  },
  {
   "cell_type": "code",
   "execution_count": 6,
   "metadata": {},
   "outputs": [],
   "source": [
    "X_train=pd.read_csv(\"C:/Users/Chen/Project/data/X_over.csv\")\n",
    "y_train=pd.read_csv(\"C:/Users/Chen/Project/data/y_over.csv\")"
   ]
  },
  {
   "cell_type": "markdown",
   "metadata": {},
   "source": [
    "X_train=pd.read_csv(\"X_over.csv\")\n",
    "y_train=pd.read_csv(\"y_over.csv\")"
   ]
  },
  {
   "cell_type": "code",
   "execution_count": 7,
   "metadata": {},
   "outputs": [
    {
     "name": "stdout",
     "output_type": "stream",
     "text": [
      "(6762, 61)\n",
      "(6762, 1)\n"
     ]
    }
   ],
   "source": [
    "print(X_train.shape)\n",
    "print(y_train.shape)"
   ]
  },
  {
   "cell_type": "code",
   "execution_count": 8,
   "metadata": {},
   "outputs": [
    {
     "data": {
      "text/html": [
       "<div>\n",
       "<style scoped>\n",
       "    .dataframe tbody tr th:only-of-type {\n",
       "        vertical-align: middle;\n",
       "    }\n",
       "\n",
       "    .dataframe tbody tr th {\n",
       "        vertical-align: top;\n",
       "    }\n",
       "\n",
       "    .dataframe thead th {\n",
       "        text-align: right;\n",
       "    }\n",
       "</style>\n",
       "<table border=\"1\" class=\"dataframe\">\n",
       "  <thead>\n",
       "    <tr style=\"text-align: right;\">\n",
       "      <th></th>\n",
       "      <th>Longitude</th>\n",
       "      <th>Latitude</th>\n",
       "      <th>Season_code_1</th>\n",
       "      <th>Season_code_2</th>\n",
       "      <th>Season_code_3</th>\n",
       "      <th>CULEX_ERRATICUS</th>\n",
       "      <th>CULEX_PIPIENS</th>\n",
       "      <th>CULEX_PIPIENS_RESTUANS</th>\n",
       "      <th>CULEX_RESTUANS</th>\n",
       "      <th>CULEX_SALINARIUS</th>\n",
       "      <th>...</th>\n",
       "      <th>HZ</th>\n",
       "      <th>RA</th>\n",
       "      <th>AvgSpeed2</th>\n",
       "      <th>AvgSpeed</th>\n",
       "      <th>ResultSpeed</th>\n",
       "      <th>RA45</th>\n",
       "      <th>RA45_2</th>\n",
       "      <th>pre45_1_2</th>\n",
       "      <th>pre45_1</th>\n",
       "      <th>PrecipTotal</th>\n",
       "    </tr>\n",
       "  </thead>\n",
       "  <tbody>\n",
       "    <tr>\n",
       "      <th>0</th>\n",
       "      <td>-87.546587</td>\n",
       "      <td>41.740641</td>\n",
       "      <td>0</td>\n",
       "      <td>1</td>\n",
       "      <td>0</td>\n",
       "      <td>0</td>\n",
       "      <td>0</td>\n",
       "      <td>3</td>\n",
       "      <td>5</td>\n",
       "      <td>0</td>\n",
       "      <td>...</td>\n",
       "      <td>0</td>\n",
       "      <td>1</td>\n",
       "      <td>9.2</td>\n",
       "      <td>8.0</td>\n",
       "      <td>7.4</td>\n",
       "      <td>12.088315</td>\n",
       "      <td>11.048196</td>\n",
       "      <td>1</td>\n",
       "      <td>1</td>\n",
       "      <td>0.12</td>\n",
       "    </tr>\n",
       "    <tr>\n",
       "      <th>1</th>\n",
       "      <td>-87.671457</td>\n",
       "      <td>41.947227</td>\n",
       "      <td>0</td>\n",
       "      <td>1</td>\n",
       "      <td>0</td>\n",
       "      <td>0</td>\n",
       "      <td>0</td>\n",
       "      <td>1</td>\n",
       "      <td>0</td>\n",
       "      <td>0</td>\n",
       "      <td>...</td>\n",
       "      <td>0</td>\n",
       "      <td>0</td>\n",
       "      <td>8.4</td>\n",
       "      <td>8.5</td>\n",
       "      <td>8.3</td>\n",
       "      <td>10.000000</td>\n",
       "      <td>9.000000</td>\n",
       "      <td>0</td>\n",
       "      <td>1</td>\n",
       "      <td>0.00</td>\n",
       "    </tr>\n",
       "    <tr>\n",
       "      <th>2</th>\n",
       "      <td>-87.546587</td>\n",
       "      <td>41.740641</td>\n",
       "      <td>0</td>\n",
       "      <td>1</td>\n",
       "      <td>0</td>\n",
       "      <td>0</td>\n",
       "      <td>0</td>\n",
       "      <td>2</td>\n",
       "      <td>14</td>\n",
       "      <td>0</td>\n",
       "      <td>...</td>\n",
       "      <td>0</td>\n",
       "      <td>0</td>\n",
       "      <td>7.8</td>\n",
       "      <td>7.9</td>\n",
       "      <td>6.6</td>\n",
       "      <td>20.000000</td>\n",
       "      <td>17.000000</td>\n",
       "      <td>1</td>\n",
       "      <td>1</td>\n",
       "      <td>0.00</td>\n",
       "    </tr>\n",
       "    <tr>\n",
       "      <th>3</th>\n",
       "      <td>-87.716277</td>\n",
       "      <td>41.846075</td>\n",
       "      <td>0</td>\n",
       "      <td>1</td>\n",
       "      <td>0</td>\n",
       "      <td>0</td>\n",
       "      <td>0</td>\n",
       "      <td>1</td>\n",
       "      <td>0</td>\n",
       "      <td>0</td>\n",
       "      <td>...</td>\n",
       "      <td>0</td>\n",
       "      <td>1</td>\n",
       "      <td>11.0</td>\n",
       "      <td>9.7</td>\n",
       "      <td>9.1</td>\n",
       "      <td>14.000000</td>\n",
       "      <td>13.000000</td>\n",
       "      <td>1</td>\n",
       "      <td>0</td>\n",
       "      <td>0.95</td>\n",
       "    </tr>\n",
       "    <tr>\n",
       "      <th>4</th>\n",
       "      <td>-87.559308</td>\n",
       "      <td>41.678618</td>\n",
       "      <td>0</td>\n",
       "      <td>0</td>\n",
       "      <td>1</td>\n",
       "      <td>0</td>\n",
       "      <td>0</td>\n",
       "      <td>1</td>\n",
       "      <td>6</td>\n",
       "      <td>0</td>\n",
       "      <td>...</td>\n",
       "      <td>0</td>\n",
       "      <td>0</td>\n",
       "      <td>3.7</td>\n",
       "      <td>3.3</td>\n",
       "      <td>1.4</td>\n",
       "      <td>13.000000</td>\n",
       "      <td>13.000000</td>\n",
       "      <td>0</td>\n",
       "      <td>1</td>\n",
       "      <td>0.00</td>\n",
       "    </tr>\n",
       "  </tbody>\n",
       "</table>\n",
       "<p>5 rows × 61 columns</p>\n",
       "</div>"
      ],
      "text/plain": [
       "   Longitude   Latitude  Season_code_1  Season_code_2  Season_code_3  \\\n",
       "0 -87.546587  41.740641              0              1              0   \n",
       "1 -87.671457  41.947227              0              1              0   \n",
       "2 -87.546587  41.740641              0              1              0   \n",
       "3 -87.716277  41.846075              0              1              0   \n",
       "4 -87.559308  41.678618              0              0              1   \n",
       "\n",
       "   CULEX_ERRATICUS  CULEX_PIPIENS  CULEX_PIPIENS_RESTUANS  CULEX_RESTUANS  \\\n",
       "0                0              0                       3               5   \n",
       "1                0              0                       1               0   \n",
       "2                0              0                       2              14   \n",
       "3                0              0                       1               0   \n",
       "4                0              0                       1               6   \n",
       "\n",
       "   CULEX_SALINARIUS     ...       HZ  RA  AvgSpeed2  AvgSpeed  ResultSpeed  \\\n",
       "0                 0     ...        0   1        9.2       8.0          7.4   \n",
       "1                 0     ...        0   0        8.4       8.5          8.3   \n",
       "2                 0     ...        0   0        7.8       7.9          6.6   \n",
       "3                 0     ...        0   1       11.0       9.7          9.1   \n",
       "4                 0     ...        0   0        3.7       3.3          1.4   \n",
       "\n",
       "        RA45     RA45_2  pre45_1_2  pre45_1  PrecipTotal  \n",
       "0  12.088315  11.048196          1        1         0.12  \n",
       "1  10.000000   9.000000          0        1         0.00  \n",
       "2  20.000000  17.000000          1        1         0.00  \n",
       "3  14.000000  13.000000          1        0         0.95  \n",
       "4  13.000000  13.000000          0        1         0.00  \n",
       "\n",
       "[5 rows x 61 columns]"
      ]
     },
     "execution_count": 8,
     "metadata": {},
     "output_type": "execute_result"
    }
   ],
   "source": [
    "X_train.head()"
   ]
  },
  {
   "cell_type": "code",
   "execution_count": 9,
   "metadata": {},
   "outputs": [
    {
     "data": {
      "text/html": [
       "<div>\n",
       "<style scoped>\n",
       "    .dataframe tbody tr th:only-of-type {\n",
       "        vertical-align: middle;\n",
       "    }\n",
       "\n",
       "    .dataframe tbody tr th {\n",
       "        vertical-align: top;\n",
       "    }\n",
       "\n",
       "    .dataframe thead th {\n",
       "        text-align: right;\n",
       "    }\n",
       "</style>\n",
       "<table border=\"1\" class=\"dataframe\">\n",
       "  <thead>\n",
       "    <tr style=\"text-align: right;\">\n",
       "      <th></th>\n",
       "      <th>WnvPresentB</th>\n",
       "    </tr>\n",
       "  </thead>\n",
       "  <tbody>\n",
       "    <tr>\n",
       "      <th>0</th>\n",
       "      <td>0</td>\n",
       "    </tr>\n",
       "    <tr>\n",
       "      <th>1</th>\n",
       "      <td>0</td>\n",
       "    </tr>\n",
       "    <tr>\n",
       "      <th>2</th>\n",
       "      <td>0</td>\n",
       "    </tr>\n",
       "    <tr>\n",
       "      <th>3</th>\n",
       "      <td>0</td>\n",
       "    </tr>\n",
       "    <tr>\n",
       "      <th>4</th>\n",
       "      <td>0</td>\n",
       "    </tr>\n",
       "  </tbody>\n",
       "</table>\n",
       "</div>"
      ],
      "text/plain": [
       "   WnvPresentB\n",
       "0            0\n",
       "1            0\n",
       "2            0\n",
       "3            0\n",
       "4            0"
      ]
     },
     "execution_count": 9,
     "metadata": {},
     "output_type": "execute_result"
    }
   ],
   "source": [
    "y_train.head()"
   ]
  },
  {
   "cell_type": "code",
   "execution_count": 12,
   "metadata": {},
   "outputs": [],
   "source": [
    "#test is test (=X_tt.csv & y_test.csv)\n",
    "X_test=pd.read_csv(\"C:/Users/Chen/Project/data/X_tt.csv\")\n",
    "y_test=pd.read_csv(\"C:/Users/Chen/Project/data/y_test.csv\")"
   ]
  },
  {
   "cell_type": "code",
   "execution_count": 13,
   "metadata": {},
   "outputs": [],
   "source": [
    "X_test=X_test.drop(['X'], axis=1)"
   ]
  },
  {
   "cell_type": "code",
   "execution_count": 14,
   "metadata": {},
   "outputs": [],
   "source": [
    "y_test=y_test.drop(['X'], axis=1)"
   ]
  },
  {
   "cell_type": "code",
   "execution_count": 15,
   "metadata": {},
   "outputs": [
    {
     "data": {
      "text/html": [
       "<div>\n",
       "<style scoped>\n",
       "    .dataframe tbody tr th:only-of-type {\n",
       "        vertical-align: middle;\n",
       "    }\n",
       "\n",
       "    .dataframe tbody tr th {\n",
       "        vertical-align: top;\n",
       "    }\n",
       "\n",
       "    .dataframe thead th {\n",
       "        text-align: right;\n",
       "    }\n",
       "</style>\n",
       "<table border=\"1\" class=\"dataframe\">\n",
       "  <thead>\n",
       "    <tr style=\"text-align: right;\">\n",
       "      <th></th>\n",
       "      <th>Longitude</th>\n",
       "      <th>Latitude</th>\n",
       "      <th>Season_code_1</th>\n",
       "      <th>Season_code_2</th>\n",
       "      <th>Season_code_3</th>\n",
       "      <th>CULEX_ERRATICUS</th>\n",
       "      <th>CULEX_PIPIENS</th>\n",
       "      <th>CULEX_PIPIENS_RESTUANS</th>\n",
       "      <th>CULEX_RESTUANS</th>\n",
       "      <th>CULEX_SALINARIUS</th>\n",
       "      <th>...</th>\n",
       "      <th>HZ</th>\n",
       "      <th>RA</th>\n",
       "      <th>AvgSpeed2</th>\n",
       "      <th>AvgSpeed</th>\n",
       "      <th>ResultSpeed</th>\n",
       "      <th>RA45</th>\n",
       "      <th>RA45_2</th>\n",
       "      <th>pre45_1_2</th>\n",
       "      <th>pre45_1</th>\n",
       "      <th>PrecipTotal</th>\n",
       "    </tr>\n",
       "  </thead>\n",
       "  <tbody>\n",
       "    <tr>\n",
       "      <th>0</th>\n",
       "      <td>-87.726549</td>\n",
       "      <td>41.825610</td>\n",
       "      <td>0</td>\n",
       "      <td>0</td>\n",
       "      <td>1</td>\n",
       "      <td>0</td>\n",
       "      <td>0</td>\n",
       "      <td>4</td>\n",
       "      <td>0</td>\n",
       "      <td>0</td>\n",
       "      <td>...</td>\n",
       "      <td>0</td>\n",
       "      <td>0</td>\n",
       "      <td>9.0</td>\n",
       "      <td>9.7</td>\n",
       "      <td>5.0</td>\n",
       "      <td>17.000000</td>\n",
       "      <td>11.000000</td>\n",
       "      <td>1</td>\n",
       "      <td>1</td>\n",
       "      <td>0.00</td>\n",
       "    </tr>\n",
       "    <tr>\n",
       "      <th>1</th>\n",
       "      <td>-87.752411</td>\n",
       "      <td>41.778297</td>\n",
       "      <td>0</td>\n",
       "      <td>0</td>\n",
       "      <td>1</td>\n",
       "      <td>0</td>\n",
       "      <td>0</td>\n",
       "      <td>4</td>\n",
       "      <td>0</td>\n",
       "      <td>0</td>\n",
       "      <td>...</td>\n",
       "      <td>0</td>\n",
       "      <td>1</td>\n",
       "      <td>6.3</td>\n",
       "      <td>7.3</td>\n",
       "      <td>5.4</td>\n",
       "      <td>11.000000</td>\n",
       "      <td>10.000000</td>\n",
       "      <td>1</td>\n",
       "      <td>0</td>\n",
       "      <td>0.16</td>\n",
       "    </tr>\n",
       "    <tr>\n",
       "      <th>2</th>\n",
       "      <td>-87.599862</td>\n",
       "      <td>41.673408</td>\n",
       "      <td>0</td>\n",
       "      <td>1</td>\n",
       "      <td>0</td>\n",
       "      <td>0</td>\n",
       "      <td>1</td>\n",
       "      <td>1</td>\n",
       "      <td>4</td>\n",
       "      <td>0</td>\n",
       "      <td>...</td>\n",
       "      <td>0</td>\n",
       "      <td>0</td>\n",
       "      <td>8.0</td>\n",
       "      <td>8.2</td>\n",
       "      <td>6.4</td>\n",
       "      <td>15.000000</td>\n",
       "      <td>15.000000</td>\n",
       "      <td>1</td>\n",
       "      <td>1</td>\n",
       "      <td>0.00</td>\n",
       "    </tr>\n",
       "    <tr>\n",
       "      <th>3</th>\n",
       "      <td>-87.812827</td>\n",
       "      <td>41.981964</td>\n",
       "      <td>0</td>\n",
       "      <td>1</td>\n",
       "      <td>0</td>\n",
       "      <td>0</td>\n",
       "      <td>0</td>\n",
       "      <td>0</td>\n",
       "      <td>2</td>\n",
       "      <td>0</td>\n",
       "      <td>...</td>\n",
       "      <td>0</td>\n",
       "      <td>1</td>\n",
       "      <td>8.1</td>\n",
       "      <td>7.6</td>\n",
       "      <td>5.2</td>\n",
       "      <td>16.316231</td>\n",
       "      <td>19.648348</td>\n",
       "      <td>1</td>\n",
       "      <td>1</td>\n",
       "      <td>0.42</td>\n",
       "    </tr>\n",
       "    <tr>\n",
       "      <th>4</th>\n",
       "      <td>-87.694991</td>\n",
       "      <td>41.857402</td>\n",
       "      <td>0</td>\n",
       "      <td>0</td>\n",
       "      <td>1</td>\n",
       "      <td>0</td>\n",
       "      <td>0</td>\n",
       "      <td>1</td>\n",
       "      <td>0</td>\n",
       "      <td>0</td>\n",
       "      <td>...</td>\n",
       "      <td>0</td>\n",
       "      <td>0</td>\n",
       "      <td>2.7</td>\n",
       "      <td>2.1</td>\n",
       "      <td>0.1</td>\n",
       "      <td>12.000000</td>\n",
       "      <td>10.000000</td>\n",
       "      <td>1</td>\n",
       "      <td>0</td>\n",
       "      <td>0.00</td>\n",
       "    </tr>\n",
       "  </tbody>\n",
       "</table>\n",
       "<p>5 rows × 61 columns</p>\n",
       "</div>"
      ],
      "text/plain": [
       "   Longitude   Latitude  Season_code_1  Season_code_2  Season_code_3  \\\n",
       "0 -87.726549  41.825610              0              0              1   \n",
       "1 -87.752411  41.778297              0              0              1   \n",
       "2 -87.599862  41.673408              0              1              0   \n",
       "3 -87.812827  41.981964              0              1              0   \n",
       "4 -87.694991  41.857402              0              0              1   \n",
       "\n",
       "   CULEX_ERRATICUS  CULEX_PIPIENS  CULEX_PIPIENS_RESTUANS  CULEX_RESTUANS  \\\n",
       "0                0              0                       4               0   \n",
       "1                0              0                       4               0   \n",
       "2                0              1                       1               4   \n",
       "3                0              0                       0               2   \n",
       "4                0              0                       1               0   \n",
       "\n",
       "   CULEX_SALINARIUS     ...       HZ  RA  AvgSpeed2  AvgSpeed  ResultSpeed  \\\n",
       "0                 0     ...        0   0        9.0       9.7          5.0   \n",
       "1                 0     ...        0   1        6.3       7.3          5.4   \n",
       "2                 0     ...        0   0        8.0       8.2          6.4   \n",
       "3                 0     ...        0   1        8.1       7.6          5.2   \n",
       "4                 0     ...        0   0        2.7       2.1          0.1   \n",
       "\n",
       "        RA45     RA45_2  pre45_1_2  pre45_1  PrecipTotal  \n",
       "0  17.000000  11.000000          1        1         0.00  \n",
       "1  11.000000  10.000000          1        0         0.16  \n",
       "2  15.000000  15.000000          1        1         0.00  \n",
       "3  16.316231  19.648348          1        1         0.42  \n",
       "4  12.000000  10.000000          1        0         0.00  \n",
       "\n",
       "[5 rows x 61 columns]"
      ]
     },
     "execution_count": 15,
     "metadata": {},
     "output_type": "execute_result"
    }
   ],
   "source": [
    "X_test.head()"
   ]
  },
  {
   "cell_type": "code",
   "execution_count": 16,
   "metadata": {},
   "outputs": [
    {
     "data": {
      "text/html": [
       "<div>\n",
       "<style scoped>\n",
       "    .dataframe tbody tr th:only-of-type {\n",
       "        vertical-align: middle;\n",
       "    }\n",
       "\n",
       "    .dataframe tbody tr th {\n",
       "        vertical-align: top;\n",
       "    }\n",
       "\n",
       "    .dataframe thead th {\n",
       "        text-align: right;\n",
       "    }\n",
       "</style>\n",
       "<table border=\"1\" class=\"dataframe\">\n",
       "  <thead>\n",
       "    <tr style=\"text-align: right;\">\n",
       "      <th></th>\n",
       "      <th>WnvPresentB</th>\n",
       "    </tr>\n",
       "  </thead>\n",
       "  <tbody>\n",
       "    <tr>\n",
       "      <th>0</th>\n",
       "      <td>0</td>\n",
       "    </tr>\n",
       "    <tr>\n",
       "      <th>1</th>\n",
       "      <td>0</td>\n",
       "    </tr>\n",
       "    <tr>\n",
       "      <th>2</th>\n",
       "      <td>0</td>\n",
       "    </tr>\n",
       "    <tr>\n",
       "      <th>3</th>\n",
       "      <td>0</td>\n",
       "    </tr>\n",
       "    <tr>\n",
       "      <th>4</th>\n",
       "      <td>0</td>\n",
       "    </tr>\n",
       "  </tbody>\n",
       "</table>\n",
       "</div>"
      ],
      "text/plain": [
       "   WnvPresentB\n",
       "0            0\n",
       "1            0\n",
       "2            0\n",
       "3            0\n",
       "4            0"
      ]
     },
     "execution_count": 16,
     "metadata": {},
     "output_type": "execute_result"
    }
   ],
   "source": [
    "y_test.head()"
   ]
  },
  {
   "cell_type": "code",
   "execution_count": 17,
   "metadata": {},
   "outputs": [
    {
     "name": "stdout",
     "output_type": "stream",
     "text": [
      "(461, 61)\n",
      "(461, 1)\n"
     ]
    }
   ],
   "source": [
    "print(X_test.shape)\n",
    "print(y_test.shape)"
   ]
  },
  {
   "cell_type": "code",
   "execution_count": 18,
   "metadata": {},
   "outputs": [],
   "source": [
    "### We will create a table for comparing the results\n",
    "res = pd.DataFrame(columns=['model','accuracy','auc','error'])\n",
    "res = []"
   ]
  },
  {
   "cell_type": "markdown",
   "metadata": {},
   "source": [
    "## Logistic Regression"
   ]
  },
  {
   "cell_type": "code",
   "execution_count": 19,
   "metadata": {},
   "outputs": [],
   "source": [
    "from sklearn.linear_model import LogisticRegression\n",
    "from sklearn.metrics import auc, roc_curve\n",
    "\n",
    "# Initialize the predictive model object\n",
    "mod_logistic = LogisticRegression(random_state=2)\n",
    "\n",
    "# Train the model using the training sets\n",
    "mod_logistic.fit(X_train, y_train.values.ravel())\n",
    "\n",
    "# Make predictions using the testing set\n",
    "pred = mod_logistic.predict(X_test)"
   ]
  },
  {
   "cell_type": "code",
   "execution_count": 36,
   "metadata": {},
   "outputs": [],
   "source": [
    "#model = forest.fit(train_fold, train_y.values.ravel())"
   ]
  },
  {
   "cell_type": "code",
   "execution_count": 20,
   "metadata": {},
   "outputs": [
    {
     "data": {
      "text/html": [
       "<div>\n",
       "<style scoped>\n",
       "    .dataframe tbody tr th:only-of-type {\n",
       "        vertical-align: middle;\n",
       "    }\n",
       "\n",
       "    .dataframe tbody tr th {\n",
       "        vertical-align: top;\n",
       "    }\n",
       "\n",
       "    .dataframe thead th {\n",
       "        text-align: right;\n",
       "    }\n",
       "</style>\n",
       "<table border=\"1\" class=\"dataframe\">\n",
       "  <thead>\n",
       "    <tr style=\"text-align: right;\">\n",
       "      <th>col_0</th>\n",
       "      <th>0</th>\n",
       "      <th>1</th>\n",
       "    </tr>\n",
       "    <tr>\n",
       "      <th>row_0</th>\n",
       "      <th></th>\n",
       "      <th></th>\n",
       "    </tr>\n",
       "  </thead>\n",
       "  <tbody>\n",
       "    <tr>\n",
       "      <th>0</th>\n",
       "      <td>325</td>\n",
       "      <td>101</td>\n",
       "    </tr>\n",
       "    <tr>\n",
       "      <th>1</th>\n",
       "      <td>4</td>\n",
       "      <td>31</td>\n",
       "    </tr>\n",
       "  </tbody>\n",
       "</table>\n",
       "</div>"
      ],
      "text/plain": [
       "col_0    0    1\n",
       "row_0          \n",
       "0      325  101\n",
       "1        4   31"
      ]
     },
     "execution_count": 20,
     "metadata": {},
     "output_type": "execute_result"
    }
   ],
   "source": [
    "pd.crosstab(y_test.values.ravel(), pred)"
   ]
  },
  {
   "cell_type": "code",
   "execution_count": 21,
   "metadata": {},
   "outputs": [
    {
     "data": {
      "text/plain": [
       "[{'model': 'Logistic regression',\n",
       "  'accuracy': 0.7722342733188721,\n",
       "  'auc': 0.8243125419181757,\n",
       "  'err': 105}]"
      ]
     },
     "execution_count": 21,
     "metadata": {},
     "output_type": "execute_result"
    }
   ],
   "source": [
    "fpr, tpr, thresholds = metrics.roc_curve(y_test.values.ravel(), pred, pos_label=1)\n",
    "auc1 = auc(fpr, tpr)\n",
    "acc = accuracy_score(y_test.values.ravel(), pred)\n",
    "#err = metrics.mean_squared_error(y_test, pred)\n",
    "err = error(y_test.values.ravel(), pred)\n",
    "res.append({'model':'Logistic regression','accuracy':acc, 'auc':auc1, 'err':err})\n",
    "res"
   ]
  },
  {
   "cell_type": "markdown",
   "metadata": {},
   "source": [
    "## Naive Bayes"
   ]
  },
  {
   "cell_type": "code",
   "execution_count": 39,
   "metadata": {},
   "outputs": [],
   "source": [
    "from sklearn.naive_bayes import GaussianNB\n",
    "\n",
    "# Initialize the predictive model object\n",
    "mod_bayes = GaussianNB()\n",
    "\n",
    "# Train the model using the training sets\n",
    "y_pred = mod_bayes.fit(X_train, y_train.values.ravel())\n",
    "\n",
    "# Make predictions using the testing set\n",
    "pred = mod_bayes.predict(X_test)"
   ]
  },
  {
   "cell_type": "code",
   "execution_count": 40,
   "metadata": {},
   "outputs": [
    {
     "data": {
      "text/html": [
       "<div>\n",
       "<style scoped>\n",
       "    .dataframe tbody tr th:only-of-type {\n",
       "        vertical-align: middle;\n",
       "    }\n",
       "\n",
       "    .dataframe tbody tr th {\n",
       "        vertical-align: top;\n",
       "    }\n",
       "\n",
       "    .dataframe thead th {\n",
       "        text-align: right;\n",
       "    }\n",
       "</style>\n",
       "<table border=\"1\" class=\"dataframe\">\n",
       "  <thead>\n",
       "    <tr style=\"text-align: right;\">\n",
       "      <th>col_0</th>\n",
       "      <th>0</th>\n",
       "      <th>1</th>\n",
       "    </tr>\n",
       "    <tr>\n",
       "      <th>row_0</th>\n",
       "      <th></th>\n",
       "      <th></th>\n",
       "    </tr>\n",
       "  </thead>\n",
       "  <tbody>\n",
       "    <tr>\n",
       "      <th>0</th>\n",
       "      <td>218</td>\n",
       "      <td>208</td>\n",
       "    </tr>\n",
       "    <tr>\n",
       "      <th>1</th>\n",
       "      <td>2</td>\n",
       "      <td>33</td>\n",
       "    </tr>\n",
       "  </tbody>\n",
       "</table>\n",
       "</div>"
      ],
      "text/plain": [
       "col_0    0    1\n",
       "row_0          \n",
       "0      218  208\n",
       "1        2   33"
      ]
     },
     "execution_count": 40,
     "metadata": {},
     "output_type": "execute_result"
    }
   ],
   "source": [
    "pd.crosstab(y_test.values.ravel(), pred)"
   ]
  },
  {
   "cell_type": "code",
   "execution_count": 41,
   "metadata": {},
   "outputs": [
    {
     "data": {
      "text/plain": [
       "[{'accuracy': 0.7787418655097614,\n",
       "  'auc': 0.8278336686787391,\n",
       "  'err': 102,\n",
       "  'model': 'Logistic regression'},\n",
       " {'accuracy': 0.544468546637744,\n",
       "  'auc': 0.7272971160295104,\n",
       "  'err': 210,\n",
       "  'model': 'Naive Bayes'}]"
      ]
     },
     "execution_count": 41,
     "metadata": {},
     "output_type": "execute_result"
    }
   ],
   "source": [
    "fpr, tpr, thresholds = metrics.roc_curve(y_test.values.ravel(), pred, pos_label=1)\n",
    "auc1 = auc(fpr, tpr)\n",
    "acc = accuracy_score(y_test.values.ravel(), pred)\n",
    "#err = metrics.mean_squared_error(y_test, pred)\n",
    "err = error(y_test.values.ravel(), pred)\n",
    "res.append({'model':'Naive Bayes','accuracy':acc, 'auc':auc1, 'err':err})\n",
    "res"
   ]
  },
  {
   "cell_type": "markdown",
   "metadata": {},
   "source": [
    "# Decision Trees in Scikit-learn\n",
    " \n",
    "Scikit-learn has only one implementation of the decision trees algoritms: an enhanced version of CART. There is also a library in github for the C4.5, but I'm not sure it has been tested for QA. So we will only use the CART implementation in Python...\n",
    "\n",
    "## CART"
   ]
  },
  {
   "cell_type": "code",
   "execution_count": 42,
   "metadata": {},
   "outputs": [],
   "source": [
    "from sklearn import tree\n",
    "\n",
    "# Initialize the predictive model object\n",
    "mod_cart = tree.DecisionTreeClassifier(random_state=2)\n",
    "\n",
    "# Train the model using the training sets\n",
    "y_pred = mod_cart.fit(X_train, y_train.values.ravel())\n",
    "\n",
    "# Make predictions using the testing set\n",
    "pred = mod_cart.predict(X_test)"
   ]
  },
  {
   "cell_type": "code",
   "execution_count": 43,
   "metadata": {},
   "outputs": [
    {
     "data": {
      "text/html": [
       "<div>\n",
       "<style scoped>\n",
       "    .dataframe tbody tr th:only-of-type {\n",
       "        vertical-align: middle;\n",
       "    }\n",
       "\n",
       "    .dataframe tbody tr th {\n",
       "        vertical-align: top;\n",
       "    }\n",
       "\n",
       "    .dataframe thead th {\n",
       "        text-align: right;\n",
       "    }\n",
       "</style>\n",
       "<table border=\"1\" class=\"dataframe\">\n",
       "  <thead>\n",
       "    <tr style=\"text-align: right;\">\n",
       "      <th>col_0</th>\n",
       "      <th>0</th>\n",
       "      <th>1</th>\n",
       "    </tr>\n",
       "    <tr>\n",
       "      <th>row_0</th>\n",
       "      <th></th>\n",
       "      <th></th>\n",
       "    </tr>\n",
       "  </thead>\n",
       "  <tbody>\n",
       "    <tr>\n",
       "      <th>0</th>\n",
       "      <td>395</td>\n",
       "      <td>31</td>\n",
       "    </tr>\n",
       "    <tr>\n",
       "      <th>1</th>\n",
       "      <td>18</td>\n",
       "      <td>17</td>\n",
       "    </tr>\n",
       "  </tbody>\n",
       "</table>\n",
       "</div>"
      ],
      "text/plain": [
       "col_0    0   1\n",
       "row_0         \n",
       "0      395  31\n",
       "1       18  17"
      ]
     },
     "execution_count": 43,
     "metadata": {},
     "output_type": "execute_result"
    }
   ],
   "source": [
    "pd.crosstab(y_test.values.ravel(), pred)"
   ]
  },
  {
   "cell_type": "code",
   "execution_count": 44,
   "metadata": {},
   "outputs": [
    {
     "data": {
      "text/plain": [
       "[{'accuracy': 0.7787418655097614,\n",
       "  'auc': 0.8278336686787391,\n",
       "  'err': 102,\n",
       "  'model': 'Logistic regression'},\n",
       " {'accuracy': 0.544468546637744,\n",
       "  'auc': 0.7272971160295104,\n",
       "  'err': 210,\n",
       "  'model': 'Naive Bayes'},\n",
       " {'accuracy': 0.8937093275488069,\n",
       "  'auc': 0.7064721663313213,\n",
       "  'err': 49,\n",
       "  'model': 'CART tree'}]"
      ]
     },
     "execution_count": 44,
     "metadata": {},
     "output_type": "execute_result"
    }
   ],
   "source": [
    "fpr, tpr, thresholds = metrics.roc_curve(y_test.values.ravel(), pred, pos_label=1)\n",
    "auc1 = auc(fpr, tpr)\n",
    "acc = accuracy_score(y_test.values.ravel(), pred)\n",
    "#err = metrics.mean_squared_error(y_test, pred)\n",
    "err = error(y_test.values.ravel(), pred)\n",
    "res.append({'model':'CART tree','accuracy':acc, 'auc':auc1, 'err':err})\n",
    "res"
   ]
  },
  {
   "cell_type": "markdown",
   "metadata": {},
   "source": [
    "## Random Forest"
   ]
  },
  {
   "cell_type": "code",
   "execution_count": 45,
   "metadata": {},
   "outputs": [],
   "source": [
    "from sklearn.ensemble import RandomForestClassifier\n",
    "\n",
    "# Initialize the predictive model object\n",
    "mod_rforest = RandomForestClassifier(n_estimators=100, max_depth=2, random_state=1)\n",
    "\n",
    "# Train the model using the training sets\n",
    "y_pred = mod_rforest.fit(X_train, y_train.values.ravel())\n",
    "\n",
    "# Make predictions using the testing set\n",
    "pred = mod_rforest.predict(X_test)"
   ]
  },
  {
   "cell_type": "code",
   "execution_count": 46,
   "metadata": {},
   "outputs": [
    {
     "data": {
      "text/html": [
       "<div>\n",
       "<style scoped>\n",
       "    .dataframe tbody tr th:only-of-type {\n",
       "        vertical-align: middle;\n",
       "    }\n",
       "\n",
       "    .dataframe tbody tr th {\n",
       "        vertical-align: top;\n",
       "    }\n",
       "\n",
       "    .dataframe thead th {\n",
       "        text-align: right;\n",
       "    }\n",
       "</style>\n",
       "<table border=\"1\" class=\"dataframe\">\n",
       "  <thead>\n",
       "    <tr style=\"text-align: right;\">\n",
       "      <th>col_0</th>\n",
       "      <th>0</th>\n",
       "      <th>1</th>\n",
       "    </tr>\n",
       "    <tr>\n",
       "      <th>row_0</th>\n",
       "      <th></th>\n",
       "      <th></th>\n",
       "    </tr>\n",
       "  </thead>\n",
       "  <tbody>\n",
       "    <tr>\n",
       "      <th>0</th>\n",
       "      <td>322</td>\n",
       "      <td>104</td>\n",
       "    </tr>\n",
       "    <tr>\n",
       "      <th>1</th>\n",
       "      <td>5</td>\n",
       "      <td>30</td>\n",
       "    </tr>\n",
       "  </tbody>\n",
       "</table>\n",
       "</div>"
      ],
      "text/plain": [
       "col_0    0    1\n",
       "row_0          \n",
       "0      322  104\n",
       "1        5   30"
      ]
     },
     "execution_count": 46,
     "metadata": {},
     "output_type": "execute_result"
    }
   ],
   "source": [
    "pd.crosstab(y_test.values.ravel(), pred)"
   ]
  },
  {
   "cell_type": "code",
   "execution_count": 47,
   "metadata": {},
   "outputs": [
    {
     "data": {
      "text/plain": [
       "[{'accuracy': 0.7787418655097614,\n",
       "  'auc': 0.8278336686787391,\n",
       "  'err': 102,\n",
       "  'model': 'Logistic regression'},\n",
       " {'accuracy': 0.544468546637744,\n",
       "  'auc': 0.7272971160295104,\n",
       "  'err': 210,\n",
       "  'model': 'Naive Bayes'},\n",
       " {'accuracy': 0.8937093275488069,\n",
       "  'auc': 0.7064721663313213,\n",
       "  'err': 49,\n",
       "  'model': 'CART tree'},\n",
       " {'accuracy': 0.7635574837310195,\n",
       "  'auc': 0.8065057008718981,\n",
       "  'err': 109,\n",
       "  'model': 'Random Forest'}]"
      ]
     },
     "execution_count": 47,
     "metadata": {},
     "output_type": "execute_result"
    }
   ],
   "source": [
    "fpr, tpr, thresholds = metrics.roc_curve(y_test.values.ravel(), pred, pos_label=1)\n",
    "auc1 = auc(fpr, tpr)\n",
    "acc = accuracy_score(y_test.values.ravel(), pred)\n",
    "#err = metrics.mean_squared_error(y_test, pred)\n",
    "err = error(y_test.values.ravel(), pred)\n",
    "res.append({'model':'Random Forest','accuracy':acc, 'auc':auc1, 'err':err})\n",
    "res"
   ]
  },
  {
   "cell_type": "code",
   "execution_count": 48,
   "metadata": {},
   "outputs": [],
   "source": [
    "#from sklearn.ensemble import RandomForestClassifier\n",
    "\n",
    "# Initialize the predictive model object\n",
    "mod_rforest2 = RandomForestClassifier(n_estimators=500, max_depth=2, random_state=1)\n",
    "\n",
    "# Train the model using the training sets\n",
    "y_pred2 = mod_rforest2.fit(X_train, y_train.values.ravel())\n",
    "\n",
    "# Make predictions using the testing set\n",
    "pred2 = mod_rforest2.predict(X_test)"
   ]
  },
  {
   "cell_type": "code",
   "execution_count": 49,
   "metadata": {},
   "outputs": [
    {
     "data": {
      "text/html": [
       "<div>\n",
       "<style scoped>\n",
       "    .dataframe tbody tr th:only-of-type {\n",
       "        vertical-align: middle;\n",
       "    }\n",
       "\n",
       "    .dataframe tbody tr th {\n",
       "        vertical-align: top;\n",
       "    }\n",
       "\n",
       "    .dataframe thead th {\n",
       "        text-align: right;\n",
       "    }\n",
       "</style>\n",
       "<table border=\"1\" class=\"dataframe\">\n",
       "  <thead>\n",
       "    <tr style=\"text-align: right;\">\n",
       "      <th>col_0</th>\n",
       "      <th>0</th>\n",
       "      <th>1</th>\n",
       "    </tr>\n",
       "    <tr>\n",
       "      <th>row_0</th>\n",
       "      <th></th>\n",
       "      <th></th>\n",
       "    </tr>\n",
       "  </thead>\n",
       "  <tbody>\n",
       "    <tr>\n",
       "      <th>0</th>\n",
       "      <td>297</td>\n",
       "      <td>129</td>\n",
       "    </tr>\n",
       "    <tr>\n",
       "      <th>1</th>\n",
       "      <td>5</td>\n",
       "      <td>30</td>\n",
       "    </tr>\n",
       "  </tbody>\n",
       "</table>\n",
       "</div>"
      ],
      "text/plain": [
       "col_0    0    1\n",
       "row_0          \n",
       "0      297  129\n",
       "1        5   30"
      ]
     },
     "execution_count": 49,
     "metadata": {},
     "output_type": "execute_result"
    }
   ],
   "source": [
    "pd.crosstab(y_test.values.ravel(), pred2)"
   ]
  },
  {
   "cell_type": "code",
   "execution_count": 50,
   "metadata": {},
   "outputs": [
    {
     "data": {
      "text/plain": [
       "[{'accuracy': 0.7787418655097614,\n",
       "  'auc': 0.8278336686787391,\n",
       "  'err': 102,\n",
       "  'model': 'Logistic regression'},\n",
       " {'accuracy': 0.544468546637744,\n",
       "  'auc': 0.7272971160295104,\n",
       "  'err': 210,\n",
       "  'model': 'Naive Bayes'},\n",
       " {'accuracy': 0.8937093275488069,\n",
       "  'auc': 0.7064721663313213,\n",
       "  'err': 49,\n",
       "  'model': 'CART tree'},\n",
       " {'accuracy': 0.7635574837310195,\n",
       "  'auc': 0.8065057008718981,\n",
       "  'err': 109,\n",
       "  'model': 'Random Forest'},\n",
       " {'accuracy': 0.7093275488069414,\n",
       "  'auc': 0.8065057008718981,\n",
       "  'err': 134,\n",
       "  'model': 'Random Forest 500'}]"
      ]
     },
     "execution_count": 50,
     "metadata": {},
     "output_type": "execute_result"
    }
   ],
   "source": [
    "fpr, tpr, thresholds = metrics.roc_curve(y_test.values.ravel(), pred, pos_label=1)\n",
    "auc1 = auc(fpr, tpr)\n",
    "acc = accuracy_score(y_test.values.ravel(), pred2)\n",
    "#err = metrics.mean_squared_error(y_test, pred)\n",
    "err = error(y_test.values.ravel(), pred2)\n",
    "res.append({'model':'Random Forest 500','accuracy':acc, 'auc':auc1, 'err':err})\n",
    "res"
   ]
  },
  {
   "cell_type": "markdown",
   "metadata": {},
   "source": [
    "## AdaBoost"
   ]
  },
  {
   "cell_type": "code",
   "execution_count": 51,
   "metadata": {},
   "outputs": [],
   "source": [
    "from sklearn.ensemble import AdaBoostClassifier\n",
    "\n",
    "# Initialize the predictive model object\n",
    "mod_rforest = AdaBoostClassifier(random_state=1)\n",
    "\n",
    "# Train the model using the training sets\n",
    "y_pred = mod_rforest.fit(X_train, y_train.values.ravel())\n",
    "\n",
    "# Make predictions using the testing set\n",
    "pred = mod_rforest.predict(X_test)"
   ]
  },
  {
   "cell_type": "code",
   "execution_count": 52,
   "metadata": {},
   "outputs": [
    {
     "data": {
      "text/html": [
       "<div>\n",
       "<style scoped>\n",
       "    .dataframe tbody tr th:only-of-type {\n",
       "        vertical-align: middle;\n",
       "    }\n",
       "\n",
       "    .dataframe tbody tr th {\n",
       "        vertical-align: top;\n",
       "    }\n",
       "\n",
       "    .dataframe thead th {\n",
       "        text-align: right;\n",
       "    }\n",
       "</style>\n",
       "<table border=\"1\" class=\"dataframe\">\n",
       "  <thead>\n",
       "    <tr style=\"text-align: right;\">\n",
       "      <th>col_0</th>\n",
       "      <th>0</th>\n",
       "      <th>1</th>\n",
       "    </tr>\n",
       "    <tr>\n",
       "      <th>row_0</th>\n",
       "      <th></th>\n",
       "      <th></th>\n",
       "    </tr>\n",
       "  </thead>\n",
       "  <tbody>\n",
       "    <tr>\n",
       "      <th>0</th>\n",
       "      <td>346</td>\n",
       "      <td>80</td>\n",
       "    </tr>\n",
       "    <tr>\n",
       "      <th>1</th>\n",
       "      <td>3</td>\n",
       "      <td>32</td>\n",
       "    </tr>\n",
       "  </tbody>\n",
       "</table>\n",
       "</div>"
      ],
      "text/plain": [
       "col_0    0   1\n",
       "row_0         \n",
       "0      346  80\n",
       "1        3  32"
      ]
     },
     "execution_count": 52,
     "metadata": {},
     "output_type": "execute_result"
    }
   ],
   "source": [
    "pd.crosstab(y_test.values.ravel(), pred)"
   ]
  },
  {
   "cell_type": "code",
   "execution_count": 53,
   "metadata": {},
   "outputs": [
    {
     "data": {
      "text/plain": [
       "[{'accuracy': 0.7787418655097614,\n",
       "  'auc': 0.8278336686787391,\n",
       "  'err': 102,\n",
       "  'model': 'Logistic regression'},\n",
       " {'accuracy': 0.544468546637744,\n",
       "  'auc': 0.7272971160295104,\n",
       "  'err': 210,\n",
       "  'model': 'Naive Bayes'},\n",
       " {'accuracy': 0.8937093275488069,\n",
       "  'auc': 0.7064721663313213,\n",
       "  'err': 49,\n",
       "  'model': 'CART tree'},\n",
       " {'accuracy': 0.7635574837310195,\n",
       "  'auc': 0.8065057008718981,\n",
       "  'err': 109,\n",
       "  'model': 'Random Forest'},\n",
       " {'accuracy': 0.7093275488069414,\n",
       "  'auc': 0.8065057008718981,\n",
       "  'err': 134,\n",
       "  'model': 'Random Forest 500'},\n",
       " {'accuracy': 0.8199566160520607,\n",
       "  'auc': 0.8632461435278336,\n",
       "  'err': 83,\n",
       "  'model': 'AdaBoost'}]"
      ]
     },
     "execution_count": 53,
     "metadata": {},
     "output_type": "execute_result"
    }
   ],
   "source": [
    "fpr, tpr, thresholds = metrics.roc_curve(y_test.values.ravel(), pred, pos_label=1)\n",
    "auc1 = auc(fpr, tpr)\n",
    "acc = accuracy_score(y_test.values.ravel(), pred)\n",
    "#err = metrics.mean_squared_error(y_test, pred)\n",
    "err = error(y_test.values.ravel(), pred)\n",
    "res.append({'model':'AdaBoost','accuracy':acc, 'auc':auc1, 'err':err})\n",
    "res"
   ]
  },
  {
   "cell_type": "markdown",
   "metadata": {},
   "source": [
    "## XGBoost"
   ]
  },
  {
   "cell_type": "code",
   "execution_count": 54,
   "metadata": {},
   "outputs": [
    {
     "name": "stdout",
     "output_type": "stream",
     "text": [
      "Collecting xgboost\n",
      "\u001b[?25l  Downloading https://files.pythonhosted.org/packages/54/21/8b2ec99862903a6d3aed62ce156d21d114b8666e669c46d9e54041df9496/xgboost-0.81-py2.py3-none-manylinux1_x86_64.whl (16.6MB)\n",
      "\u001b[K    100% |████████████████████████████████| 16.6MB 4.1MB/s eta 0:00:01\n",
      "\u001b[?25hRequirement already satisfied: scipy in /home/karpati/anaconda3/lib/python3.5/site-packages (from xgboost) (1.1.0)\n",
      "Requirement already satisfied: numpy in /home/karpati/anaconda3/lib/python3.5/site-packages (from xgboost) (1.15.4)\n",
      "Installing collected packages: xgboost\n",
      "Successfully installed xgboost-0.81\n",
      "\u001b[33mYou are using pip version 18.1, however version 19.0.3 is available.\n",
      "You should consider upgrading via the 'pip install --upgrade pip' command.\u001b[0m\n"
     ]
    }
   ],
   "source": [
    "import sys\n",
    "!{sys.executable} -m pip install xgboost\n",
    "#import xgboost as xgb"
   ]
  },
  {
   "cell_type": "code",
   "execution_count": 55,
   "metadata": {},
   "outputs": [],
   "source": [
    "import xgboost as xgb\n",
    "\n",
    "# Transform data to a DMatrix object\n",
    "dtrain = xgb.DMatrix(np.array(X_train), label=y_train.values.ravel())\n",
    "dtest = xgb.DMatrix(np.array(X_test), y_test.values.ravel())\n"
   ]
  },
  {
   "cell_type": "code",
   "execution_count": 56,
   "metadata": {},
   "outputs": [],
   "source": [
    "# Set the parameters for the xgboost\n",
    "param = {'max_depth': 2, 'eta': 1, 'silent': 1, 'objective': 'binary:logistic'}\n",
    "#param['nthread'] = 10\n",
    "param['eval_metric'] = 'rmse'\n",
    "\n",
    "\n",
    "# Train the model using the training sets\n",
    "num_round = 10\n",
    "mod_xgboost = xgb.train(param, dtrain, num_round)\n",
    "\n",
    "# Make predictions using the testing set\n",
    "pred = mod_xgboost.predict(dtest)\n"
   ]
  },
  {
   "cell_type": "code",
   "execution_count": 57,
   "metadata": {},
   "outputs": [
    {
     "data": {
      "text/html": [
       "<div>\n",
       "<style scoped>\n",
       "    .dataframe tbody tr th:only-of-type {\n",
       "        vertical-align: middle;\n",
       "    }\n",
       "\n",
       "    .dataframe tbody tr th {\n",
       "        vertical-align: top;\n",
       "    }\n",
       "\n",
       "    .dataframe thead th {\n",
       "        text-align: right;\n",
       "    }\n",
       "</style>\n",
       "<table border=\"1\" class=\"dataframe\">\n",
       "  <thead>\n",
       "    <tr style=\"text-align: right;\">\n",
       "      <th>col_0</th>\n",
       "      <th>0</th>\n",
       "      <th>1</th>\n",
       "    </tr>\n",
       "    <tr>\n",
       "      <th>row_0</th>\n",
       "      <th></th>\n",
       "      <th></th>\n",
       "    </tr>\n",
       "  </thead>\n",
       "  <tbody>\n",
       "    <tr>\n",
       "      <th>0</th>\n",
       "      <td>355</td>\n",
       "      <td>71</td>\n",
       "    </tr>\n",
       "    <tr>\n",
       "      <th>1</th>\n",
       "      <td>3</td>\n",
       "      <td>32</td>\n",
       "    </tr>\n",
       "  </tbody>\n",
       "</table>\n",
       "</div>"
      ],
      "text/plain": [
       "col_0    0   1\n",
       "row_0         \n",
       "0      355  71\n",
       "1        3  32"
      ]
     },
     "execution_count": 57,
     "metadata": {},
     "output_type": "execute_result"
    }
   ],
   "source": [
    "pred_class = np.where(pred >= 0.5, 1, 0)\n",
    "pd.crosstab(y_test.values.ravel(), pred_class)"
   ]
  },
  {
   "cell_type": "code",
   "execution_count": 58,
   "metadata": {},
   "outputs": [
    {
     "data": {
      "text/plain": [
       "[{'accuracy': 0.7787418655097614,\n",
       "  'auc': 0.8278336686787391,\n",
       "  'err': 102,\n",
       "  'model': 'Logistic regression'},\n",
       " {'accuracy': 0.544468546637744,\n",
       "  'auc': 0.7272971160295104,\n",
       "  'err': 210,\n",
       "  'model': 'Naive Bayes'},\n",
       " {'accuracy': 0.8937093275488069,\n",
       "  'auc': 0.7064721663313213,\n",
       "  'err': 49,\n",
       "  'model': 'CART tree'},\n",
       " {'accuracy': 0.7635574837310195,\n",
       "  'auc': 0.8065057008718981,\n",
       "  'err': 109,\n",
       "  'model': 'Random Forest'},\n",
       " {'accuracy': 0.7093275488069414,\n",
       "  'auc': 0.8065057008718981,\n",
       "  'err': 134,\n",
       "  'model': 'Random Forest 500'},\n",
       " {'accuracy': 0.8199566160520607,\n",
       "  'auc': 0.8632461435278336,\n",
       "  'err': 83,\n",
       "  'model': 'AdaBoost'},\n",
       " {'accuracy': 0.8394793926247288,\n",
       "  'auc': 0.9326626425217974,\n",
       "  'err': 74,\n",
       "  'model': 'XGBoost'}]"
      ]
     },
     "execution_count": 58,
     "metadata": {},
     "output_type": "execute_result"
    }
   ],
   "source": [
    "fpr, tpr, thresholds = metrics.roc_curve(y_test.values.ravel(), pred, pos_label=1)\n",
    "auc1 = auc(fpr, tpr)\n",
    "acc = accuracy_score(y_test.values.ravel(), pred_class)\n",
    "#err = metrics.mean_squared_error(y_test, pred_class)\n",
    "err = error(y_test.values.ravel(), pred_class)\n",
    "res.append({'model':'XGBoost','accuracy':acc, 'auc':auc1, 'err':err})\n",
    "res"
   ]
  },
  {
   "cell_type": "markdown",
   "metadata": {},
   "source": [
    "## Support Vector Machine"
   ]
  },
  {
   "cell_type": "code",
   "execution_count": 59,
   "metadata": {},
   "outputs": [],
   "source": [
    "from sklearn import svm\n",
    "\n",
    "# Initialize the predictive model object\n",
    "mod_svm = svm.SVC(C=1,gamma=0.1)\n",
    "\n",
    "# Train the model using the training sets\n",
    "y_pred = mod_svm.fit(X_train, y_train.values.ravel())\n",
    "\n",
    "# Make predictions using the testing set\n",
    "pred = mod_svm.predict(X_test)"
   ]
  },
  {
   "cell_type": "code",
   "execution_count": 60,
   "metadata": {},
   "outputs": [
    {
     "data": {
      "text/html": [
       "<div>\n",
       "<style scoped>\n",
       "    .dataframe tbody tr th:only-of-type {\n",
       "        vertical-align: middle;\n",
       "    }\n",
       "\n",
       "    .dataframe tbody tr th {\n",
       "        vertical-align: top;\n",
       "    }\n",
       "\n",
       "    .dataframe thead th {\n",
       "        text-align: right;\n",
       "    }\n",
       "</style>\n",
       "<table border=\"1\" class=\"dataframe\">\n",
       "  <thead>\n",
       "    <tr style=\"text-align: right;\">\n",
       "      <th>col_0</th>\n",
       "      <th>0</th>\n",
       "      <th>1</th>\n",
       "    </tr>\n",
       "    <tr>\n",
       "      <th>row_0</th>\n",
       "      <th></th>\n",
       "      <th></th>\n",
       "    </tr>\n",
       "  </thead>\n",
       "  <tbody>\n",
       "    <tr>\n",
       "      <th>0</th>\n",
       "      <td>414</td>\n",
       "      <td>12</td>\n",
       "    </tr>\n",
       "    <tr>\n",
       "      <th>1</th>\n",
       "      <td>28</td>\n",
       "      <td>7</td>\n",
       "    </tr>\n",
       "  </tbody>\n",
       "</table>\n",
       "</div>"
      ],
      "text/plain": [
       "col_0    0   1\n",
       "row_0         \n",
       "0      414  12\n",
       "1       28   7"
      ]
     },
     "execution_count": 60,
     "metadata": {},
     "output_type": "execute_result"
    }
   ],
   "source": [
    "pd.crosstab(y_test.values.ravel(), pred)"
   ]
  },
  {
   "cell_type": "code",
   "execution_count": 61,
   "metadata": {},
   "outputs": [
    {
     "data": {
      "text/plain": [
       "[{'accuracy': 0.7787418655097614,\n",
       "  'auc': 0.8278336686787391,\n",
       "  'err': 102,\n",
       "  'model': 'Logistic regression'},\n",
       " {'accuracy': 0.544468546637744,\n",
       "  'auc': 0.7272971160295104,\n",
       "  'err': 210,\n",
       "  'model': 'Naive Bayes'},\n",
       " {'accuracy': 0.8937093275488069,\n",
       "  'auc': 0.7064721663313213,\n",
       "  'err': 49,\n",
       "  'model': 'CART tree'},\n",
       " {'accuracy': 0.7635574837310195,\n",
       "  'auc': 0.8065057008718981,\n",
       "  'err': 109,\n",
       "  'model': 'Random Forest'},\n",
       " {'accuracy': 0.7093275488069414,\n",
       "  'auc': 0.8065057008718981,\n",
       "  'err': 134,\n",
       "  'model': 'Random Forest 500'},\n",
       " {'accuracy': 0.8199566160520607,\n",
       "  'auc': 0.8632461435278336,\n",
       "  'err': 83,\n",
       "  'model': 'AdaBoost'},\n",
       " {'accuracy': 0.8394793926247288,\n",
       "  'auc': 0.9326626425217974,\n",
       "  'err': 74,\n",
       "  'model': 'XGBoost'},\n",
       " {'accuracy': 0.913232104121475,\n",
       "  'auc': 0.5859154929577465,\n",
       "  'err': 40,\n",
       "  'model': 'SVM'}]"
      ]
     },
     "execution_count": 61,
     "metadata": {},
     "output_type": "execute_result"
    }
   ],
   "source": [
    "fpr, tpr, thresholds = metrics.roc_curve(y_test.values.ravel(), pred, pos_label=1)\n",
    "auc1 = auc(fpr, tpr)\n",
    "acc = accuracy_score(y_test.values.ravel(), pred)\n",
    "#err = metrics.mean_squared_error(y_test, pred_class)\n",
    "err = error(y_test.values.ravel(), pred)\n",
    "res.append({'model':'SVM','accuracy':acc, 'auc':auc1, 'err':err})\n",
    "res"
   ]
  },
  {
   "cell_type": "code",
   "execution_count": 63,
   "metadata": {},
   "outputs": [
    {
     "data": {
      "text/html": [
       "<div>\n",
       "<style scoped>\n",
       "    .dataframe tbody tr th:only-of-type {\n",
       "        vertical-align: middle;\n",
       "    }\n",
       "\n",
       "    .dataframe tbody tr th {\n",
       "        vertical-align: top;\n",
       "    }\n",
       "\n",
       "    .dataframe thead th {\n",
       "        text-align: right;\n",
       "    }\n",
       "</style>\n",
       "<table border=\"1\" class=\"dataframe\">\n",
       "  <thead>\n",
       "    <tr style=\"text-align: right;\">\n",
       "      <th></th>\n",
       "      <th>accuracy</th>\n",
       "      <th>auc</th>\n",
       "      <th>err</th>\n",
       "      <th>model</th>\n",
       "    </tr>\n",
       "  </thead>\n",
       "  <tbody>\n",
       "    <tr>\n",
       "      <th>6</th>\n",
       "      <td>0.839479</td>\n",
       "      <td>0.932663</td>\n",
       "      <td>74</td>\n",
       "      <td>XGBoost</td>\n",
       "    </tr>\n",
       "    <tr>\n",
       "      <th>5</th>\n",
       "      <td>0.819957</td>\n",
       "      <td>0.863246</td>\n",
       "      <td>83</td>\n",
       "      <td>AdaBoost</td>\n",
       "    </tr>\n",
       "    <tr>\n",
       "      <th>0</th>\n",
       "      <td>0.778742</td>\n",
       "      <td>0.827834</td>\n",
       "      <td>102</td>\n",
       "      <td>Logistic regression</td>\n",
       "    </tr>\n",
       "    <tr>\n",
       "      <th>3</th>\n",
       "      <td>0.763557</td>\n",
       "      <td>0.806506</td>\n",
       "      <td>109</td>\n",
       "      <td>Random Forest</td>\n",
       "    </tr>\n",
       "    <tr>\n",
       "      <th>4</th>\n",
       "      <td>0.709328</td>\n",
       "      <td>0.806506</td>\n",
       "      <td>134</td>\n",
       "      <td>Random Forest 500</td>\n",
       "    </tr>\n",
       "    <tr>\n",
       "      <th>1</th>\n",
       "      <td>0.544469</td>\n",
       "      <td>0.727297</td>\n",
       "      <td>210</td>\n",
       "      <td>Naive Bayes</td>\n",
       "    </tr>\n",
       "    <tr>\n",
       "      <th>2</th>\n",
       "      <td>0.893709</td>\n",
       "      <td>0.706472</td>\n",
       "      <td>49</td>\n",
       "      <td>CART tree</td>\n",
       "    </tr>\n",
       "    <tr>\n",
       "      <th>7</th>\n",
       "      <td>0.913232</td>\n",
       "      <td>0.585915</td>\n",
       "      <td>40</td>\n",
       "      <td>SVM</td>\n",
       "    </tr>\n",
       "  </tbody>\n",
       "</table>\n",
       "</div>"
      ],
      "text/plain": [
       "   accuracy       auc  err                model\n",
       "6  0.839479  0.932663   74              XGBoost\n",
       "5  0.819957  0.863246   83             AdaBoost\n",
       "0  0.778742  0.827834  102  Logistic regression\n",
       "3  0.763557  0.806506  109        Random Forest\n",
       "4  0.709328  0.806506  134    Random Forest 500\n",
       "1  0.544469  0.727297  210          Naive Bayes\n",
       "2  0.893709  0.706472   49            CART tree\n",
       "7  0.913232  0.585915   40                  SVM"
      ]
     },
     "execution_count": 63,
     "metadata": {},
     "output_type": "execute_result"
    }
   ],
   "source": [
    "pd.DataFrame(res).sort_values(ascending=False,by=['auc','accuracy','err'])"
   ]
  }
 ],
 "metadata": {
  "kernelspec": {
   "display_name": "Python 3",
   "language": "python",
   "name": "python3"
  },
  "language_info": {
   "codemirror_mode": {
    "name": "ipython",
    "version": 3
   },
   "file_extension": ".py",
   "mimetype": "text/x-python",
   "name": "python",
   "nbconvert_exporter": "python",
   "pygments_lexer": "ipython3",
   "version": "3.7.0"
  }
 },
 "nbformat": 4,
 "nbformat_minor": 2
}
