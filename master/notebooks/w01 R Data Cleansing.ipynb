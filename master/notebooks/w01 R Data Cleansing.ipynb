{
 "cells": [
  {
   "cell_type": "markdown",
   "metadata": {},
   "source": [
    "# Data Cleansing with R"
   ]
  },
  {
   "cell_type": "code",
   "execution_count": 1,
   "metadata": {},
   "outputs": [
    {
     "name": "stderr",
     "output_type": "stream",
     "text": [
      "\n",
      "Attaching package: 'dplyr'\n",
      "\n",
      "The following objects are masked from 'package:stats':\n",
      "\n",
      "    filter, lag\n",
      "\n",
      "The following objects are masked from 'package:base':\n",
      "\n",
      "    intersect, setdiff, setequal, union\n",
      "\n",
      "Loading required package: ggExtra\n",
      "Warning message:\n",
      "\"package 'ggExtra' was built under R version 3.5.2\"Loading required package: naniar\n",
      "Warning message:\n",
      "\"package 'naniar' was built under R version 3.5.2\"Loading required package: mvoutlier\n",
      "Warning message:\n",
      "\"package 'mvoutlier' was built under R version 3.5.2\"Loading required package: sgeostat\n",
      "Warning message:\n",
      "\"package 'sgeostat' was built under R version 3.5.2\"sROC 0.1-2 loaded\n",
      "Loading required package: MissMech\n",
      "Warning message:\n",
      "\"package 'MissMech' was built under R version 3.5.2\"Loading required package: mice\n",
      "Warning message:\n",
      "\"package 'mice' was built under R version 3.5.2\"Loading required package: lattice\n",
      "\n",
      "Attaching package: 'mice'\n",
      "\n",
      "The following objects are masked from 'package:base':\n",
      "\n",
      "    cbind, rbind\n",
      "\n",
      "Loading required package: MatchIt\n",
      "Warning message:\n",
      "\"package 'MatchIt' was built under R version 3.5.2\""
     ]
    }
   ],
   "source": [
    "library(dplyr)\n",
    "library(ggplot2)\n",
    "if(!require(ggExtra)) {install.packages(\"ggExtra\");require(ggExtra)}\n",
    "if(!require(naniar)) {install.packages(\"naniar\");require(naniar)}\n",
    "if(!require(mvoutlier)) {install.packages(\"mvoutlier\");require(mvoutlier)}\n",
    "if(!require(MissMech)) {install.packages(\"MissMech\");require(MissMech)}\n",
    "if(!require(mice)) {install.packages(\"mice\");require(mice)}\n",
    "if(!require(MatchIt)) {install.packages(\"MatchIt\");require(MatchIt)}"
   ]
  },
  {
   "cell_type": "code",
   "execution_count": 2,
   "metadata": {},
   "outputs": [],
   "source": [
    "outlierMatrix <- function(data,threshold=1.5) {\n",
    "    vn <- names(data)\n",
    "    outdata <- data.frame(row1=1:nrow(data))\n",
    "    for(v in vn) {\n",
    "        if(is.numeric(data[[v]])) {\n",
    "            outlow <- quantile(data[[v]],probs = 0.25,na.rm = T) \n",
    "            outhigh <- quantile(data[[v]],probs = 0.75, na.rm = T)\n",
    "            irq_level <- (outhigh - outlow) * threshold\n",
    "            outlow <- outlow - irq_level\n",
    "            outhigh <- outhigh +  irq_level\n",
    "            mv <- ifelse(data[[v]] < outlow | data[[v]] > outhigh, 1, 0)\n",
    "            outdata[v] <- mv\n",
    "        } else {\n",
    "            mv <- rep(0,nrow(data))\n",
    "        }\n",
    "    }\n",
    "    outdata$row1 <- NULL\n",
    "    return(outdata)\n",
    "}\n",
    "\n",
    "\n",
    "missingMatrix <- function(data) {\n",
    "    vn <- names(data)\n",
    "    missdata <- data.frame(row1=1:nrow(data))\n",
    "    for(v in vn) {\n",
    "        mv <- ifelse(is.na(data[[v]]),1,0)\n",
    "        missdata[v] <- mv\n",
    "    }\n",
    "    missdata$row1 <- NULL\n",
    "    return(missdata)\n",
    "}\n",
    "\n",
    "minmax <- function(x) {\n",
    "    return(((x-min(x,na.rm=T))/(max(x,na.rm=T)-min(x,na.rm=T))))\n",
    "}\n",
    "\n",
    "getMissingness <- function (data, getRows = FALSE) {\n",
    "    require(dplyr)\n",
    "    l <- nrow(data)\n",
    "    vn <- names(data)\n",
    "    nadf <- data\n",
    "    cnt <- NULL\n",
    "    miss <- function(x) return(sum(is.na(x)))\n",
    "    for (n in vn) {\n",
    "        nadf[[n]] <- ifelse(is.na(nadf[[n]]) == T, 1, 0)\n",
    "        cnt <- rbind(cnt, data.frame(n, sum(nadf[[n]])))\n",
    "    }\n",
    "    names(cnt) <- c(\"var\", \"na.count\")\n",
    "    cnt$rate <- round((cnt$na.count/nrow(nadf)) * 100, 1)\n",
    "    nadf$na.cnt <- 0\n",
    "    nadf$na.cnt <- rowSums(nadf)\n",
    "    cnt <- cnt %>% dplyr::arrange(desc(na.count)) %>% dplyr::filter(na.count > \n",
    "        0)\n",
    "    totmiss <- nadf %>% dplyr::filter(na.cnt == 0) %>% dplyr::tally()\n",
    "    idx <- NULL\n",
    "    msg <- (paste(\"This dataset has \", as.character(totmiss), \n",
    "        \" (\", as.character(round(totmiss/nrow(data) * 100, 1)), \n",
    "        \"%)\", \" complete rows. Original data has \", nrow(data), \n",
    "        \" rows.\", sep = \"\"))\n",
    "    if (getRows == TRUE & totmiss != 0) {\n",
    "        nadf$rn <- seq_len(nrow(data))\n",
    "        idx <- nadf %>% dplyr::filter(na.cnt == 0) %>% dplyr::select(rn)\n",
    "    }\n",
    "    print(list(head(cnt, n = 10), msg))\n",
    "    return(list(missingness = cnt, message = msg, rows = idx$rn))\n",
    "}"
   ]
  },
  {
   "cell_type": "code",
   "execution_count": 4,
   "metadata": {},
   "outputs": [
    {
     "data": {
      "text/html": [
       "<table>\n",
       "<thead><tr><th scope=col>Date</th><th scope=col>ID</th><th scope=col>Station2</th><th scope=col>Tmax2</th><th scope=col>Tmin2</th><th scope=col>Tavg2</th><th scope=col>DewPoint2</th><th scope=col>WetBulb2</th><th scope=col>Heat2</th><th scope=col>Cool2</th><th scope=col>...</th><th scope=col>SQ</th><th scope=col>TS</th><th scope=col>TSRA</th><th scope=col>VCTS</th><th scope=col>RA45</th><th scope=col>PT45_gt05</th><th scope=col>year</th><th scope=col>Month</th><th scope=col>MoDay</th><th scope=col>Month_Day</th></tr></thead>\n",
       "<tbody>\n",
       "\t<tr><td>2007-05-01</td><td>1         </td><td>2         </td><td>84        </td><td>52        </td><td>33        </td><td>51        </td><td>26        </td><td> 1        </td><td> 4        </td><td>...       </td><td>0         </td><td>0         </td><td>0         </td><td>0         </td><td>NA        </td><td>NA        </td><td>2007      </td><td>5         </td><td>1         </td><td>05-01     </td></tr>\n",
       "\t<tr><td>2007-05-02</td><td>2         </td><td>2         </td><td>60        </td><td>43        </td><td>17        </td><td>42        </td><td>16        </td><td> 6        </td><td> 1        </td><td>...       </td><td>0         </td><td>0         </td><td>0         </td><td>0         </td><td>NA        </td><td>NA        </td><td>2007      </td><td>5         </td><td>2         </td><td>05-02     </td></tr>\n",
       "\t<tr><td>2007-05-03</td><td>3         </td><td>2         </td><td>67        </td><td>48        </td><td>23        </td><td>40        </td><td>19        </td><td>28        </td><td> 1        </td><td>...       </td><td>0         </td><td>0         </td><td>0         </td><td>0         </td><td>NA        </td><td>NA        </td><td>2007      </td><td>5         </td><td>3         </td><td>05-03     </td></tr>\n",
       "\t<tr><td>2007-05-04</td><td>4         </td><td>2         </td><td>78        </td><td>51        </td><td>NA        </td><td>42        </td><td>19        </td><td>NA        </td><td>NA        </td><td>...       </td><td>0         </td><td>0         </td><td>0         </td><td>0         </td><td>NA        </td><td>NA        </td><td>2007      </td><td>5         </td><td>4         </td><td>05-04     </td></tr>\n",
       "\t<tr><td>2007-05-05</td><td>5         </td><td>2         </td><td>66        </td><td>54        </td><td>25        </td><td>39        </td><td>19        </td><td>26        </td><td> 1        </td><td>...       </td><td>0         </td><td>0         </td><td>0         </td><td>0         </td><td>NA        </td><td>NA        </td><td>2007      </td><td>5         </td><td>5         </td><td>05-05     </td></tr>\n",
       "\t<tr><td>2007-05-06</td><td>6         </td><td>2         </td><td>68        </td><td>52        </td><td>25        </td><td>30        </td><td>15        </td><td>26        </td><td> 1        </td><td>...       </td><td>0         </td><td>0         </td><td>0         </td><td>0         </td><td>NA        </td><td>NA        </td><td>2007      </td><td>5         </td><td>6         </td><td>05-06     </td></tr>\n",
       "</tbody>\n",
       "</table>\n"
      ],
      "text/latex": [
       "\\begin{tabular}{r|llllllllllllllllllllllllllllllllllllllllllllllllllllllllllllllllllllllllll}\n",
       " Date & ID & Station2 & Tmax2 & Tmin2 & Tavg2 & DewPoint2 & WetBulb2 & Heat2 & Cool2 & ... & SQ & TS & TSRA & VCTS & RA45 & PT45\\_gt05 & year & Month & MoDay & Month\\_Day\\\\\n",
       "\\hline\n",
       "\t 2007-05-01 & 1          & 2          & 84         & 52         & 33         & 51         & 26         &  1         &  4         & ...        & 0          & 0          & 0          & 0          & NA         & NA         & 2007       & 5          & 1          & 05-01     \\\\\n",
       "\t 2007-05-02 & 2          & 2          & 60         & 43         & 17         & 42         & 16         &  6         &  1         & ...        & 0          & 0          & 0          & 0          & NA         & NA         & 2007       & 5          & 2          & 05-02     \\\\\n",
       "\t 2007-05-03 & 3          & 2          & 67         & 48         & 23         & 40         & 19         & 28         &  1         & ...        & 0          & 0          & 0          & 0          & NA         & NA         & 2007       & 5          & 3          & 05-03     \\\\\n",
       "\t 2007-05-04 & 4          & 2          & 78         & 51         & NA         & 42         & 19         & NA         & NA         & ...        & 0          & 0          & 0          & 0          & NA         & NA         & 2007       & 5          & 4          & 05-04     \\\\\n",
       "\t 2007-05-05 & 5          & 2          & 66         & 54         & 25         & 39         & 19         & 26         &  1         & ...        & 0          & 0          & 0          & 0          & NA         & NA         & 2007       & 5          & 5          & 05-05     \\\\\n",
       "\t 2007-05-06 & 6          & 2          & 68         & 52         & 25         & 30         & 15         & 26         &  1         & ...        & 0          & 0          & 0          & 0          & NA         & NA         & 2007       & 5          & 6          & 05-06     \\\\\n",
       "\\end{tabular}\n"
      ],
      "text/markdown": [
       "\n",
       "Date | ID | Station2 | Tmax2 | Tmin2 | Tavg2 | DewPoint2 | WetBulb2 | Heat2 | Cool2 | ... | SQ | TS | TSRA | VCTS | RA45 | PT45_gt05 | year | Month | MoDay | Month_Day | \n",
       "|---|---|---|---|---|---|\n",
       "| 2007-05-01 | 1          | 2          | 84         | 52         | 33         | 51         | 26         |  1         |  4         | ...        | 0          | 0          | 0          | 0          | NA         | NA         | 2007       | 5          | 1          | 05-01      | \n",
       "| 2007-05-02 | 2          | 2          | 60         | 43         | 17         | 42         | 16         |  6         |  1         | ...        | 0          | 0          | 0          | 0          | NA         | NA         | 2007       | 5          | 2          | 05-02      | \n",
       "| 2007-05-03 | 3          | 2          | 67         | 48         | 23         | 40         | 19         | 28         |  1         | ...        | 0          | 0          | 0          | 0          | NA         | NA         | 2007       | 5          | 3          | 05-03      | \n",
       "| 2007-05-04 | 4          | 2          | 78         | 51         | NA         | 42         | 19         | NA         | NA         | ...        | 0          | 0          | 0          | 0          | NA         | NA         | 2007       | 5          | 4          | 05-04      | \n",
       "| 2007-05-05 | 5          | 2          | 66         | 54         | 25         | 39         | 19         | 26         |  1         | ...        | 0          | 0          | 0          | 0          | NA         | NA         | 2007       | 5          | 5          | 05-05      | \n",
       "| 2007-05-06 | 6          | 2          | 68         | 52         | 25         | 30         | 15         | 26         |  1         | ...        | 0          | 0          | 0          | 0          | NA         | NA         | 2007       | 5          | 6          | 05-06      | \n",
       "\n",
       "\n"
      ],
      "text/plain": [
       "  Date       ID Station2 Tmax2 Tmin2 Tavg2 DewPoint2 WetBulb2 Heat2 Cool2 ...\n",
       "1 2007-05-01 1  2        84    52    33    51        26        1     4    ...\n",
       "2 2007-05-02 2  2        60    43    17    42        16        6     1    ...\n",
       "3 2007-05-03 3  2        67    48    23    40        19       28     1    ...\n",
       "4 2007-05-04 4  2        78    51    NA    42        19       NA    NA    ...\n",
       "5 2007-05-05 5  2        66    54    25    39        19       26     1    ...\n",
       "6 2007-05-06 6  2        68    52    25    30        15       26     1    ...\n",
       "  SQ TS TSRA VCTS RA45 PT45_gt05 year Month MoDay Month_Day\n",
       "1 0  0  0    0    NA   NA        2007 5     1     05-01    \n",
       "2 0  0  0    0    NA   NA        2007 5     2     05-02    \n",
       "3 0  0  0    0    NA   NA        2007 5     3     05-03    \n",
       "4 0  0  0    0    NA   NA        2007 5     4     05-04    \n",
       "5 0  0  0    0    NA   NA        2007 5     5     05-05    \n",
       "6 0  0  0    0    NA   NA        2007 5     6     05-06    "
      ]
     },
     "metadata": {},
     "output_type": "display_data"
    }
   ],
   "source": [
    "### load data\n",
    "\n",
    "w01 <- read.csv(file=\"C:/Users/Chen/Project/data/w01.csv\")\n",
    "head(w01)"
   ]
  },
  {
   "cell_type": "markdown",
   "metadata": {},
   "source": [
    "# Missingness"
   ]
  },
  {
   "cell_type": "code",
   "execution_count": 75,
   "metadata": {},
   "outputs": [
    {
     "data": {
      "text/html": [
       "<table>\n",
       "<thead><tr><th scope=col>ID</th><th scope=col>Date</th><th scope=col>Month_Yr</th><th scope=col>Address</th><th scope=col>Block</th><th scope=col>Latitude</th><th scope=col>Longitude</th><th scope=col>Street</th><th scope=col>CULEX_ERRATICUS</th><th scope=col>CULEX_PIPIENS</th><th scope=col>...</th><th scope=col>ParasiticIn.</th><th scope=col>Influenza.</th><th scope=col>Spray</th><th scope=col>Year</th><th scope=col>Season_code</th><th scope=col>TrapM</th><th scope=col>Snow_Fall</th><th scope=col>RA45</th><th scope=col>PT45_gt50</th><th scope=col>RA45_2</th></tr></thead>\n",
       "<tbody>\n",
       "\t<tr><td>0  </td><td>0  </td><td>0  </td><td>0  </td><td>0  </td><td>0  </td><td>0  </td><td>0  </td><td>0  </td><td>0  </td><td>...</td><td>0  </td><td>0  </td><td>0  </td><td>0  </td><td>0  </td><td>0  </td><td>0  </td><td>1  </td><td>1  </td><td>1  </td></tr>\n",
       "\t<tr><td>0  </td><td>0  </td><td>0  </td><td>0  </td><td>0  </td><td>0  </td><td>0  </td><td>0  </td><td>0  </td><td>0  </td><td>...</td><td>0  </td><td>0  </td><td>0  </td><td>0  </td><td>0  </td><td>0  </td><td>0  </td><td>1  </td><td>1  </td><td>1  </td></tr>\n",
       "\t<tr><td>0  </td><td>0  </td><td>0  </td><td>0  </td><td>0  </td><td>0  </td><td>0  </td><td>0  </td><td>0  </td><td>0  </td><td>...</td><td>0  </td><td>0  </td><td>0  </td><td>0  </td><td>0  </td><td>0  </td><td>0  </td><td>1  </td><td>1  </td><td>1  </td></tr>\n",
       "\t<tr><td>0  </td><td>0  </td><td>0  </td><td>0  </td><td>0  </td><td>0  </td><td>0  </td><td>0  </td><td>0  </td><td>0  </td><td>...</td><td>0  </td><td>0  </td><td>0  </td><td>0  </td><td>0  </td><td>0  </td><td>0  </td><td>1  </td><td>1  </td><td>1  </td></tr>\n",
       "\t<tr><td>0  </td><td>0  </td><td>0  </td><td>0  </td><td>0  </td><td>0  </td><td>0  </td><td>0  </td><td>0  </td><td>0  </td><td>...</td><td>0  </td><td>0  </td><td>0  </td><td>0  </td><td>0  </td><td>0  </td><td>0  </td><td>1  </td><td>1  </td><td>1  </td></tr>\n",
       "\t<tr><td>0  </td><td>0  </td><td>0  </td><td>0  </td><td>0  </td><td>0  </td><td>0  </td><td>0  </td><td>0  </td><td>0  </td><td>...</td><td>0  </td><td>0  </td><td>0  </td><td>0  </td><td>0  </td><td>0  </td><td>0  </td><td>1  </td><td>1  </td><td>1  </td></tr>\n",
       "</tbody>\n",
       "</table>\n"
      ],
      "text/latex": [
       "\\begin{tabular}{r|lllllllllllllllllllllllllllllllllllllllllllllllllllllllllllllllll}\n",
       " ID & Date & Month\\_Yr & Address & Block & Latitude & Longitude & Street & CULEX\\_ERRATICUS & CULEX\\_PIPIENS & ... & ParasiticIn. & Influenza. & Spray & Year & Season\\_code & TrapM & Snow\\_Fall & RA45 & PT45\\_gt50 & RA45\\_2\\\\\n",
       "\\hline\n",
       "\t 0   & 0   & 0   & 0   & 0   & 0   & 0   & 0   & 0   & 0   & ... & 0   & 0   & 0   & 0   & 0   & 0   & 0   & 1   & 1   & 1  \\\\\n",
       "\t 0   & 0   & 0   & 0   & 0   & 0   & 0   & 0   & 0   & 0   & ... & 0   & 0   & 0   & 0   & 0   & 0   & 0   & 1   & 1   & 1  \\\\\n",
       "\t 0   & 0   & 0   & 0   & 0   & 0   & 0   & 0   & 0   & 0   & ... & 0   & 0   & 0   & 0   & 0   & 0   & 0   & 1   & 1   & 1  \\\\\n",
       "\t 0   & 0   & 0   & 0   & 0   & 0   & 0   & 0   & 0   & 0   & ... & 0   & 0   & 0   & 0   & 0   & 0   & 0   & 1   & 1   & 1  \\\\\n",
       "\t 0   & 0   & 0   & 0   & 0   & 0   & 0   & 0   & 0   & 0   & ... & 0   & 0   & 0   & 0   & 0   & 0   & 0   & 1   & 1   & 1  \\\\\n",
       "\t 0   & 0   & 0   & 0   & 0   & 0   & 0   & 0   & 0   & 0   & ... & 0   & 0   & 0   & 0   & 0   & 0   & 0   & 1   & 1   & 1  \\\\\n",
       "\\end{tabular}\n"
      ],
      "text/markdown": [
       "\n",
       "ID | Date | Month_Yr | Address | Block | Latitude | Longitude | Street | CULEX_ERRATICUS | CULEX_PIPIENS | ... | ParasiticIn. | Influenza. | Spray | Year | Season_code | TrapM | Snow_Fall | RA45 | PT45_gt50 | RA45_2 | \n",
       "|---|---|---|---|---|---|\n",
       "| 0   | 0   | 0   | 0   | 0   | 0   | 0   | 0   | 0   | 0   | ... | 0   | 0   | 0   | 0   | 0   | 0   | 0   | 1   | 1   | 1   | \n",
       "| 0   | 0   | 0   | 0   | 0   | 0   | 0   | 0   | 0   | 0   | ... | 0   | 0   | 0   | 0   | 0   | 0   | 0   | 1   | 1   | 1   | \n",
       "| 0   | 0   | 0   | 0   | 0   | 0   | 0   | 0   | 0   | 0   | ... | 0   | 0   | 0   | 0   | 0   | 0   | 0   | 1   | 1   | 1   | \n",
       "| 0   | 0   | 0   | 0   | 0   | 0   | 0   | 0   | 0   | 0   | ... | 0   | 0   | 0   | 0   | 0   | 0   | 0   | 1   | 1   | 1   | \n",
       "| 0   | 0   | 0   | 0   | 0   | 0   | 0   | 0   | 0   | 0   | ... | 0   | 0   | 0   | 0   | 0   | 0   | 0   | 1   | 1   | 1   | \n",
       "| 0   | 0   | 0   | 0   | 0   | 0   | 0   | 0   | 0   | 0   | ... | 0   | 0   | 0   | 0   | 0   | 0   | 0   | 1   | 1   | 1   | \n",
       "\n",
       "\n"
      ],
      "text/plain": [
       "  ID Date Month_Yr Address Block Latitude Longitude Street CULEX_ERRATICUS\n",
       "1 0  0    0        0       0     0        0         0      0              \n",
       "2 0  0    0        0       0     0        0         0      0              \n",
       "3 0  0    0        0       0     0        0         0      0              \n",
       "4 0  0    0        0       0     0        0         0      0              \n",
       "5 0  0    0        0       0     0        0         0      0              \n",
       "6 0  0    0        0       0     0        0         0      0              \n",
       "  CULEX_PIPIENS ... ParasiticIn. Influenza. Spray Year Season_code TrapM\n",
       "1 0             ... 0            0          0     0    0           0    \n",
       "2 0             ... 0            0          0     0    0           0    \n",
       "3 0             ... 0            0          0     0    0           0    \n",
       "4 0             ... 0            0          0     0    0           0    \n",
       "5 0             ... 0            0          0     0    0           0    \n",
       "6 0             ... 0            0          0     0    0           0    \n",
       "  Snow_Fall RA45 PT45_gt50 RA45_2\n",
       "1 0         1    1         1     \n",
       "2 0         1    1         1     \n",
       "3 0         1    1         1     \n",
       "4 0         1    1         1     \n",
       "5 0         1    1         1     \n",
       "6 0         1    1         1     "
      ]
     },
     "metadata": {},
     "output_type": "display_data"
    }
   ],
   "source": [
    "head(missingMatrix(ffWNV4))"
   ]
  },
  {
   "cell_type": "markdown",
   "metadata": {},
   "source": [
    "## Missing values visualization"
   ]
  },
  {
   "cell_type": "code",
   "execution_count": 5,
   "metadata": {},
   "outputs": [
    {
     "data": {},
     "metadata": {},
     "output_type": "display_data"
    },
    {
     "data": {
      "image/png": "[encoded data removed]",
      "text/plain": [
       "plot without title"
      ]
     },
     "metadata": {},
     "output_type": "display_data"
    }
   ],
   "source": [
    "options(repr.plot.width = 10, repr.plot.height = 4)\n",
    "vis_miss(w01)"
   ]
  },
  {
   "cell_type": "code",
   "execution_count": 6,
   "metadata": {},
   "outputs": [
    {
     "data": {
      "text/html": [
       "<ol class=list-inline>\n",
       "\t<li>'Date'</li>\n",
       "\t<li>'ID'</li>\n",
       "\t<li>'Station2'</li>\n",
       "\t<li>'Tmax2'</li>\n",
       "\t<li>'Tmin2'</li>\n",
       "\t<li>'Tavg2'</li>\n",
       "\t<li>'DewPoint2'</li>\n",
       "\t<li>'WetBulb2'</li>\n",
       "\t<li>'Heat2'</li>\n",
       "\t<li>'Cool2'</li>\n",
       "\t<li>'PrecipTotal2'</li>\n",
       "\t<li>'StnPressure2'</li>\n",
       "\t<li>'SeaLevel2'</li>\n",
       "\t<li>'ResultSpeed2'</li>\n",
       "\t<li>'ResultDir2'</li>\n",
       "\t<li>'AvgSpeed2'</li>\n",
       "\t<li>'BCFG2'</li>\n",
       "\t<li>'BR2'</li>\n",
       "\t<li>'DZ2'</li>\n",
       "\t<li>'FG2'</li>\n",
       "\t<li>'FG.2'</li>\n",
       "\t<li>'FU2'</li>\n",
       "\t<li>'GR2'</li>\n",
       "\t<li>'HZ2'</li>\n",
       "\t<li>'RA2'</li>\n",
       "\t<li>'SN2'</li>\n",
       "\t<li>'SQ2'</li>\n",
       "\t<li>'TS2'</li>\n",
       "\t<li>'TSRA2'</li>\n",
       "\t<li>'VCFG2'</li>\n",
       "\t<li>'VCTS2'</li>\n",
       "\t<li>'Tmax2.imp'</li>\n",
       "\t<li>'Tavg2.imp'</li>\n",
       "\t<li>'PrecipTotal2.imp'</li>\n",
       "\t<li>'RA45.2'</li>\n",
       "\t<li>'PT45_gt052'</li>\n",
       "\t<li>'Station'</li>\n",
       "\t<li>'Tmax'</li>\n",
       "\t<li>'Tmin'</li>\n",
       "\t<li>'Tavg'</li>\n",
       "\t<li>'Depart'</li>\n",
       "\t<li>'DewPoint'</li>\n",
       "\t<li>'WetBulb'</li>\n",
       "\t<li>'Heat'</li>\n",
       "\t<li>'Cool'</li>\n",
       "\t<li>'Sunrise'</li>\n",
       "\t<li>'Sunset'</li>\n",
       "\t<li>'SnowFall'</li>\n",
       "\t<li>'PrecipTotal'</li>\n",
       "\t<li>'StnPressure'</li>\n",
       "\t<li>'SeaLevel'</li>\n",
       "\t<li>'ResultSpeed'</li>\n",
       "\t<li>'ResultDir'</li>\n",
       "\t<li>'AvgSpeed'</li>\n",
       "\t<li>'BCFG'</li>\n",
       "\t<li>'BR'</li>\n",
       "\t<li>'DZ'</li>\n",
       "\t<li>'FG'</li>\n",
       "\t<li>'FG.'</li>\n",
       "\t<li>'FU'</li>\n",
       "\t<li>'HZ'</li>\n",
       "\t<li>'MIFG'</li>\n",
       "\t<li>'RA'</li>\n",
       "\t<li>'SN'</li>\n",
       "\t<li>'SQ'</li>\n",
       "\t<li>'TS'</li>\n",
       "\t<li>'TSRA'</li>\n",
       "\t<li>'VCTS'</li>\n",
       "\t<li>'RA45'</li>\n",
       "\t<li>'PT45_gt05'</li>\n",
       "\t<li>'year'</li>\n",
       "\t<li>'Month'</li>\n",
       "\t<li>'MoDay'</li>\n",
       "\t<li>'Month_Day'</li>\n",
       "</ol>\n"
      ],
      "text/latex": [
       "\\begin{enumerate*}\n",
       "\\item 'Date'\n",
       "\\item 'ID'\n",
       "\\item 'Station2'\n",
       "\\item 'Tmax2'\n",
       "\\item 'Tmin2'\n",
       "\\item 'Tavg2'\n",
       "\\item 'DewPoint2'\n",
       "\\item 'WetBulb2'\n",
       "\\item 'Heat2'\n",
       "\\item 'Cool2'\n",
       "\\item 'PrecipTotal2'\n",
       "\\item 'StnPressure2'\n",
       "\\item 'SeaLevel2'\n",
       "\\item 'ResultSpeed2'\n",
       "\\item 'ResultDir2'\n",
       "\\item 'AvgSpeed2'\n",
       "\\item 'BCFG2'\n",
       "\\item 'BR2'\n",
       "\\item 'DZ2'\n",
       "\\item 'FG2'\n",
       "\\item 'FG.2'\n",
       "\\item 'FU2'\n",
       "\\item 'GR2'\n",
       "\\item 'HZ2'\n",
       "\\item 'RA2'\n",
       "\\item 'SN2'\n",
       "\\item 'SQ2'\n",
       "\\item 'TS2'\n",
       "\\item 'TSRA2'\n",
       "\\item 'VCFG2'\n",
       "\\item 'VCTS2'\n",
       "\\item 'Tmax2.imp'\n",
       "\\item 'Tavg2.imp'\n",
       "\\item 'PrecipTotal2.imp'\n",
       "\\item 'RA45.2'\n",
       "\\item 'PT45\\_gt052'\n",
       "\\item 'Station'\n",
       "\\item 'Tmax'\n",
       "\\item 'Tmin'\n",
       "\\item 'Tavg'\n",
       "\\item 'Depart'\n",
       "\\item 'DewPoint'\n",
       "\\item 'WetBulb'\n",
       "\\item 'Heat'\n",
       "\\item 'Cool'\n",
       "\\item 'Sunrise'\n",
       "\\item 'Sunset'\n",
       "\\item 'SnowFall'\n",
       "\\item 'PrecipTotal'\n",
       "\\item 'StnPressure'\n",
       "\\item 'SeaLevel'\n",
       "\\item 'ResultSpeed'\n",
       "\\item 'ResultDir'\n",
       "\\item 'AvgSpeed'\n",
       "\\item 'BCFG'\n",
       "\\item 'BR'\n",
       "\\item 'DZ'\n",
       "\\item 'FG'\n",
       "\\item 'FG.'\n",
       "\\item 'FU'\n",
       "\\item 'HZ'\n",
       "\\item 'MIFG'\n",
       "\\item 'RA'\n",
       "\\item 'SN'\n",
       "\\item 'SQ'\n",
       "\\item 'TS'\n",
       "\\item 'TSRA'\n",
       "\\item 'VCTS'\n",
       "\\item 'RA45'\n",
       "\\item 'PT45\\_gt05'\n",
       "\\item 'year'\n",
       "\\item 'Month'\n",
       "\\item 'MoDay'\n",
       "\\item 'Month\\_Day'\n",
       "\\end{enumerate*}\n"
      ],
      "text/markdown": [
       "1. 'Date'\n",
       "2. 'ID'\n",
       "3. 'Station2'\n",
       "4. 'Tmax2'\n",
       "5. 'Tmin2'\n",
       "6. 'Tavg2'\n",
       "7. 'DewPoint2'\n",
       "8. 'WetBulb2'\n",
       "9. 'Heat2'\n",
       "10. 'Cool2'\n",
       "11. 'PrecipTotal2'\n",
       "12. 'StnPressure2'\n",
       "13. 'SeaLevel2'\n",
       "14. 'ResultSpeed2'\n",
       "15. 'ResultDir2'\n",
       "16. 'AvgSpeed2'\n",
       "17. 'BCFG2'\n",
       "18. 'BR2'\n",
       "19. 'DZ2'\n",
       "20. 'FG2'\n",
       "21. 'FG.2'\n",
       "22. 'FU2'\n",
       "23. 'GR2'\n",
       "24. 'HZ2'\n",
       "25. 'RA2'\n",
       "26. 'SN2'\n",
       "27. 'SQ2'\n",
       "28. 'TS2'\n",
       "29. 'TSRA2'\n",
       "30. 'VCFG2'\n",
       "31. 'VCTS2'\n",
       "32. 'Tmax2.imp'\n",
       "33. 'Tavg2.imp'\n",
       "34. 'PrecipTotal2.imp'\n",
       "35. 'RA45.2'\n",
       "36. 'PT45_gt052'\n",
       "37. 'Station'\n",
       "38. 'Tmax'\n",
       "39. 'Tmin'\n",
       "40. 'Tavg'\n",
       "41. 'Depart'\n",
       "42. 'DewPoint'\n",
       "43. 'WetBulb'\n",
       "44. 'Heat'\n",
       "45. 'Cool'\n",
       "46. 'Sunrise'\n",
       "47. 'Sunset'\n",
       "48. 'SnowFall'\n",
       "49. 'PrecipTotal'\n",
       "50. 'StnPressure'\n",
       "51. 'SeaLevel'\n",
       "52. 'ResultSpeed'\n",
       "53. 'ResultDir'\n",
       "54. 'AvgSpeed'\n",
       "55. 'BCFG'\n",
       "56. 'BR'\n",
       "57. 'DZ'\n",
       "58. 'FG'\n",
       "59. 'FG.'\n",
       "60. 'FU'\n",
       "61. 'HZ'\n",
       "62. 'MIFG'\n",
       "63. 'RA'\n",
       "64. 'SN'\n",
       "65. 'SQ'\n",
       "66. 'TS'\n",
       "67. 'TSRA'\n",
       "68. 'VCTS'\n",
       "69. 'RA45'\n",
       "70. 'PT45_gt05'\n",
       "71. 'year'\n",
       "72. 'Month'\n",
       "73. 'MoDay'\n",
       "74. 'Month_Day'\n",
       "\n",
       "\n"
      ],
      "text/plain": [
       " [1] \"Date\"             \"ID\"               \"Station2\"         \"Tmax2\"           \n",
       " [5] \"Tmin2\"            \"Tavg2\"            \"DewPoint2\"        \"WetBulb2\"        \n",
       " [9] \"Heat2\"            \"Cool2\"            \"PrecipTotal2\"     \"StnPressure2\"    \n",
       "[13] \"SeaLevel2\"        \"ResultSpeed2\"     \"ResultDir2\"       \"AvgSpeed2\"       \n",
       "[17] \"BCFG2\"            \"BR2\"              \"DZ2\"              \"FG2\"             \n",
       "[21] \"FG.2\"             \"FU2\"              \"GR2\"              \"HZ2\"             \n",
       "[25] \"RA2\"              \"SN2\"              \"SQ2\"              \"TS2\"             \n",
       "[29] \"TSRA2\"            \"VCFG2\"            \"VCTS2\"            \"Tmax2.imp\"       \n",
       "[33] \"Tavg2.imp\"        \"PrecipTotal2.imp\" \"RA45.2\"           \"PT45_gt052\"      \n",
       "[37] \"Station\"          \"Tmax\"             \"Tmin\"             \"Tavg\"            \n",
       "[41] \"Depart\"           \"DewPoint\"         \"WetBulb\"          \"Heat\"            \n",
       "[45] \"Cool\"             \"Sunrise\"          \"Sunset\"           \"SnowFall\"        \n",
       "[49] \"PrecipTotal\"      \"StnPressure\"      \"SeaLevel\"         \"ResultSpeed\"     \n",
       "[53] \"ResultDir\"        \"AvgSpeed\"         \"BCFG\"             \"BR\"              \n",
       "[57] \"DZ\"               \"FG\"               \"FG.\"              \"FU\"              \n",
       "[61] \"HZ\"               \"MIFG\"             \"RA\"               \"SN\"              \n",
       "[65] \"SQ\"               \"TS\"               \"TSRA\"             \"VCTS\"            \n",
       "[69] \"RA45\"             \"PT45_gt05\"        \"year\"             \"Month\"           \n",
       "[73] \"MoDay\"            \"Month_Day\"       "
      ]
     },
     "metadata": {},
     "output_type": "display_data"
    }
   ],
   "source": [
    "colnames(w01)"
   ]
  },
  {
   "cell_type": "code",
   "execution_count": null,
   "metadata": {},
   "outputs": [],
   "source": [
    "פונקציה GGPLOT\n"
   ]
  },
  {
   "cell_type": "markdown",
   "metadata": {},
   "source": [
    "## Determinate the Missingness Generation Mechanism\n",
    " \n",
    "There are three mechanisms that generate Missing values:\n",
    " \n",
    "1. Missing Completely at Random (MCAR)\n",
    "2. Missing at Random (MAR)\n",
    "3. Missing not at Random (MNAR)\n",
    " \n",
    "We will investigate the missingness mechanisms using different techniques.\n"
   ]
  },
  {
   "cell_type": "code",
   "execution_count": null,
   "metadata": {},
   "outputs": [],
   "source": [
    "RA45\tPT45_gt50\tRA45_2"
   ]
  },
  {
   "cell_type": "code",
   "execution_count": 7,
   "metadata": {},
   "outputs": [
    {
     "data": {
      "text/html": [
       "<ol class=list-inline>\n",
       "\t<li>35</li>\n",
       "\t<li>69</li>\n",
       "</ol>\n"
      ],
      "text/latex": [
       "\\begin{enumerate*}\n",
       "\\item 35\n",
       "\\item 69\n",
       "\\end{enumerate*}\n"
      ],
      "text/markdown": [
       "1. 35\n",
       "2. 69\n",
       "\n",
       "\n"
      ],
      "text/plain": [
       "[1] 35 69"
      ]
     },
     "metadata": {},
     "output_type": "display_data"
    }
   ],
   "source": [
    "grep(\"RA45\", colnames(w01))"
   ]
  },
  {
   "cell_type": "code",
   "execution_count": 8,
   "metadata": {},
   "outputs": [
    {
     "data": {
      "text/html": [
       "<ol class=list-inline>\n",
       "\t<li>36</li>\n",
       "\t<li>70</li>\n",
       "</ol>\n"
      ],
      "text/latex": [
       "\\begin{enumerate*}\n",
       "\\item 36\n",
       "\\item 70\n",
       "\\end{enumerate*}\n"
      ],
      "text/markdown": [
       "1. 36\n",
       "2. 70\n",
       "\n",
       "\n"
      ],
      "text/plain": [
       "[1] 36 70"
      ]
     },
     "metadata": {},
     "output_type": "display_data"
    }
   ],
   "source": [
    "grep(\"PT45_gt05\", colnames(w01))"
   ]
  },
  {
   "cell_type": "code",
   "execution_count": 14,
   "metadata": {},
   "outputs": [
    {
     "data": {
      "text/html": [
       "<ol class=list-inline>\n",
       "\t<li>12</li>\n",
       "\t<li>50</li>\n",
       "</ol>\n"
      ],
      "text/latex": [
       "\\begin{enumerate*}\n",
       "\\item 12\n",
       "\\item 50\n",
       "\\end{enumerate*}\n"
      ],
      "text/markdown": [
       "1. 12\n",
       "2. 50\n",
       "\n",
       "\n"
      ],
      "text/plain": [
       "[1] 12 50"
      ]
     },
     "metadata": {},
     "output_type": "display_data"
    }
   ],
   "source": [
    "grep(\"StnPressure\", colnames(w01))"
   ]
  },
  {
   "cell_type": "code",
   "execution_count": 17,
   "metadata": {},
   "outputs": [
    {
     "data": {
      "text/html": [
       "<ol class=list-inline>\n",
       "\t<li>25</li>\n",
       "\t<li>29</li>\n",
       "\t<li>35</li>\n",
       "\t<li>63</li>\n",
       "\t<li>67</li>\n",
       "\t<li>69</li>\n",
       "</ol>\n"
      ],
      "text/latex": [
       "\\begin{enumerate*}\n",
       "\\item 25\n",
       "\\item 29\n",
       "\\item 35\n",
       "\\item 63\n",
       "\\item 67\n",
       "\\item 69\n",
       "\\end{enumerate*}\n"
      ],
      "text/markdown": [
       "1. 25\n",
       "2. 29\n",
       "3. 35\n",
       "4. 63\n",
       "5. 67\n",
       "6. 69\n",
       "\n",
       "\n"
      ],
      "text/plain": [
       "[1] 25 29 35 63 67 69"
      ]
     },
     "metadata": {},
     "output_type": "display_data"
    }
   ],
   "source": [
    "grep(\"RA\",colnames(w01))"
   ]
  },
  {
   "cell_type": "code",
   "execution_count": 18,
   "metadata": {},
   "outputs": [
    {
     "data": {
      "text/plain": [
       "Call:\n",
       "TestMCARNormality(data = w01m)\n",
       "\n",
       "Number of Patterns:  2 \n",
       "\n",
       "Total number of cases used in the analysis:  1469 \n",
       "\n",
       " Pattern(s) used:\n",
       "          ID   Tmax2   WetBulb2   RA2   TSRA2   StnPressure   PrecipTotal\n",
       "group.1    1       1          1     1       1             1             1\n",
       "group.2    1       1          1     1       1             1             1\n",
       "          PrecipTotal2.imp   RA45.2   PT45_gt052   RA45   PT45_gt05\n",
       "group.1                  1       NA           NA     NA          NA\n",
       "group.2                  1        1            1      1           1\n",
       "          Number of cases\n",
       "group.1               352\n",
       "group.2              1117\n",
       "\n",
       "\n",
       "    Test of normality and Homoscedasticity:\n",
       "  -------------------------------------------\n",
       "\n",
       "Hawkins Test:\n",
       "\n",
       "    P-value for the Hawkins test of normality and homoscedasticity:  8.07739e-62 \n",
       "\n",
       "    Either the test of multivariate normality or homoscedasticity (or both) is rejected.\n",
       "    Provided that normality can be assumed, the hypothesis of MCAR is \n",
       "    rejected at 0.05 significance level. \n",
       "\n",
       "Non-Parametric Test:\n",
       "\n",
       "    P-value for the non-parametric test of homoscedasticity:  0.01408841 \n",
       "\n",
       "    Hypothesis of MCAR is rejected at  0.05 significance level.\n",
       "    The multivariate normality test is inconclusive. "
      ]
     },
     "metadata": {},
     "output_type": "display_data"
    }
   ],
   "source": [
    "# require(MissMech)\n",
    "w01m <- w01[,c(2,4,8,25,29,50,49, 34 ,35,36,69,70)]\n",
    "miss1 <- TestMCARNormality(data=w01m)\n",
    "miss1"
   ]
  },
  {
   "cell_type": "code",
   "execution_count": 19,
   "metadata": {},
   "outputs": [
    {
     "name": "stdout",
     "output_type": "stream",
     "text": [
      "\n",
      "Number of imputation:  10 \n",
      "\n",
      "Number of Patterns:  3 \n",
      "\n",
      "Total number of cases used in the analysis:  1471 \n",
      "\n",
      " Pattern(s) used:\n",
      "          ID   Tmax2   WetBulb2   RA2   TSRA2   StnPressure   PrecipTotal\n",
      "group.1    1       1          1     1       1             1             1\n",
      "group.2    1       1          1     1       1             1             1\n",
      "group.3    1       1          1     1       1            NA             1\n",
      "          PrecipTotal2.imp   RA45.2   PT45_gt052   RA45   PT45_gt05\n",
      "group.1                  1       NA           NA     NA          NA\n",
      "group.2                  1        1            1      1           1\n",
      "group.3                  1        1            1      1           1\n",
      "          Number of cases\n",
      "group.1               352\n",
      "group.2              1117\n",
      "group.3                 2\n",
      "\n",
      "\n",
      "    Test of normality and Homoscedasticity:\n",
      "  -------------------------------------------\n",
      "\n",
      "Hawkins Test:\n",
      "\n",
      "    P-value for the Hawkins test of normality and homoscedasticity:  4.903201e-63 \n",
      "\n",
      "Non-Parametric Test:\n",
      "\n",
      "    P-value for the non-parametric test of homoscedasticity:  0.006471505 \n"
     ]
    }
   ],
   "source": [
    "### Impute missing values\n",
    "\n",
    "miss1 <- TestMCARNormality(data=w01m, , del.lesscases = 1, imputation.number = 10)\n",
    "summary(miss1)\n"
   ]
  },
  {
   "cell_type": "code",
   "execution_count": 20,
   "metadata": {},
   "outputs": [
    {
     "data": {
      "image/png": "[encoded data removed]",
      "text/plain": [
       "Plot with title \"Boxplots of the T-value test statistics corresponding to each set of missing\n",
       " data patterns for the non-parametric test\""
      ]
     },
     "metadata": {},
     "output_type": "display_data"
    }
   ],
   "source": [
    "options(repr.plot.width = 6, repr.plot.height = 8)\n",
    "boxplot(miss1)"
   ]
  },
  {
   "cell_type": "code",
   "execution_count": 21,
   "metadata": {},
   "outputs": [
    {
     "data": {
      "text/plain": [
       "       ID             Tmax2           WetBulb2          RA2       \n",
       " Min.   :   1.0   Min.   : 41.00   Min.   : 2.00   Min.   :0.000  \n",
       " 1st Qu.: 368.5   1st Qu.: 69.00   1st Qu.:22.00   1st Qu.:0.000  \n",
       " Median : 736.0   Median : 78.00   Median :30.00   Median :0.000  \n",
       " Mean   : 736.2   Mean   : 76.35   Mean   :28.59   Mean   :0.312  \n",
       " 3rd Qu.:1103.5   3rd Qu.: 85.00   3rd Qu.:36.00   3rd Qu.:1.000  \n",
       " Max.   :1472.0   Max.   :104.00   Max.   :46.00   Max.   :1.000  \n",
       "     TSRA2         StnPressure     PrecipTotal     PrecipTotal2.imp\n",
       " Min.   :0.0000   Min.   :28.55   Min.   :0.0000   Min.   :0.0000  \n",
       " 1st Qu.:0.0000   1st Qu.:29.16   1st Qu.:0.0000   1st Qu.:0.0000  \n",
       " Median :0.0000   Median :29.26   Median :0.0000   Median :0.0000  \n",
       " Mean   :0.1054   Mean   :29.25   Mean   :0.1344   Mean   :0.1283  \n",
       " 3rd Qu.:0.0000   3rd Qu.:29.35   3rd Qu.:0.0600   3rd Qu.:0.0500  \n",
       " Max.   :1.0000   Max.   :29.79   Max.   :6.8600   Max.   :4.7300  \n",
       "     RA45.2        PT45_gt052            RA45         PT45_gt05      \n",
       " Min.   : 4.96   Min.   :-0.02385   Min.   : 5.00   Min.   :-0.1345  \n",
       " 1st Qu.:11.00   1st Qu.: 1.00000   1st Qu.:12.00   1st Qu.: 1.0000  \n",
       " Median :13.00   Median : 1.00000   Median :13.77   Median : 1.0000  \n",
       " Mean   :13.38   Mean   : 0.97743   Mean   :13.84   Mean   : 0.9514  \n",
       " 3rd Qu.:16.00   3rd Qu.: 1.00000   3rd Qu.:16.00   3rd Qu.: 1.0000  \n",
       " Max.   :24.00   Max.   : 1.12130   Max.   :24.00   Max.   : 1.1699  "
      ]
     },
     "metadata": {},
     "output_type": "display_data"
    },
    {
     "data": {
      "text/html": [
       "<table>\n",
       "<thead><tr><th scope=col>ID</th><th scope=col>Tmax2</th><th scope=col>WetBulb2</th><th scope=col>RA2</th><th scope=col>TSRA2</th><th scope=col>StnPressure</th><th scope=col>PrecipTotal</th><th scope=col>PrecipTotal2.imp</th><th scope=col>RA45.2</th><th scope=col>PT45_gt052</th><th scope=col>RA45</th><th scope=col>PT45_gt05</th></tr></thead>\n",
       "<tbody>\n",
       "\t<tr><td>1        </td><td>84       </td><td>26       </td><td>0        </td><td>0        </td><td>29.10    </td><td>0        </td><td>0        </td><td>15.74811 </td><td>1.0023159</td><td>15.75511 </td><td>0.9578708</td></tr>\n",
       "\t<tr><td>2        </td><td>60       </td><td>16       </td><td>0        </td><td>0        </td><td>29.38    </td><td>0        </td><td>0        </td><td>12.24724 </td><td>0.9357264</td><td>11.42741 </td><td>0.8316392</td></tr>\n",
       "\t<tr><td>3        </td><td>67       </td><td>19       </td><td>0        </td><td>0        </td><td>29.39    </td><td>0        </td><td>0        </td><td>16.15893 </td><td>0.9136058</td><td>15.92101 </td><td>0.8191412</td></tr>\n",
       "\t<tr><td>4        </td><td>78       </td><td>19       </td><td>0        </td><td>0        </td><td>29.31    </td><td>0        </td><td>0        </td><td>10.95013 </td><td>0.9232722</td><td>14.05338 </td><td>0.7954528</td></tr>\n",
       "\t<tr><td>5        </td><td>66       </td><td>19       </td><td>0        </td><td>0        </td><td>29.40    </td><td>0        </td><td>0        </td><td>17.26332 </td><td>0.9707625</td><td>16.91719 </td><td>0.9490688</td></tr>\n",
       "\t<tr><td>6        </td><td>68       </td><td>15       </td><td>0        </td><td>0        </td><td>29.57    </td><td>0        </td><td>0        </td><td>17.03916 </td><td>0.9470216</td><td>16.91410 </td><td>0.9866144</td></tr>\n",
       "</tbody>\n",
       "</table>\n"
      ],
      "text/latex": [
       "\\begin{tabular}{r|llllllllllll}\n",
       " ID & Tmax2 & WetBulb2 & RA2 & TSRA2 & StnPressure & PrecipTotal & PrecipTotal2.imp & RA45.2 & PT45\\_gt052 & RA45 & PT45\\_gt05\\\\\n",
       "\\hline\n",
       "\t 1         & 84        & 26        & 0         & 0         & 29.10     & 0         & 0         & 15.74811  & 1.0023159 & 15.75511  & 0.9578708\\\\\n",
       "\t 2         & 60        & 16        & 0         & 0         & 29.38     & 0         & 0         & 12.24724  & 0.9357264 & 11.42741  & 0.8316392\\\\\n",
       "\t 3         & 67        & 19        & 0         & 0         & 29.39     & 0         & 0         & 16.15893  & 0.9136058 & 15.92101  & 0.8191412\\\\\n",
       "\t 4         & 78        & 19        & 0         & 0         & 29.31     & 0         & 0         & 10.95013  & 0.9232722 & 14.05338  & 0.7954528\\\\\n",
       "\t 5         & 66        & 19        & 0         & 0         & 29.40     & 0         & 0         & 17.26332  & 0.9707625 & 16.91719  & 0.9490688\\\\\n",
       "\t 6         & 68        & 15        & 0         & 0         & 29.57     & 0         & 0         & 17.03916  & 0.9470216 & 16.91410  & 0.9866144\\\\\n",
       "\\end{tabular}\n"
      ],
      "text/markdown": [
       "\n",
       "ID | Tmax2 | WetBulb2 | RA2 | TSRA2 | StnPressure | PrecipTotal | PrecipTotal2.imp | RA45.2 | PT45_gt052 | RA45 | PT45_gt05 | \n",
       "|---|---|---|---|---|---|\n",
       "| 1         | 84        | 26        | 0         | 0         | 29.10     | 0         | 0         | 15.74811  | 1.0023159 | 15.75511  | 0.9578708 | \n",
       "| 2         | 60        | 16        | 0         | 0         | 29.38     | 0         | 0         | 12.24724  | 0.9357264 | 11.42741  | 0.8316392 | \n",
       "| 3         | 67        | 19        | 0         | 0         | 29.39     | 0         | 0         | 16.15893  | 0.9136058 | 15.92101  | 0.8191412 | \n",
       "| 4         | 78        | 19        | 0         | 0         | 29.31     | 0         | 0         | 10.95013  | 0.9232722 | 14.05338  | 0.7954528 | \n",
       "| 5         | 66        | 19        | 0         | 0         | 29.40     | 0         | 0         | 17.26332  | 0.9707625 | 16.91719  | 0.9490688 | \n",
       "| 6         | 68        | 15        | 0         | 0         | 29.57     | 0         | 0         | 17.03916  | 0.9470216 | 16.91410  | 0.9866144 | \n",
       "\n",
       "\n"
      ],
      "text/plain": [
       "  ID Tmax2 WetBulb2 RA2 TSRA2 StnPressure PrecipTotal PrecipTotal2.imp RA45.2  \n",
       "1 1  84    26       0   0     29.10       0           0                15.74811\n",
       "2 2  60    16       0   0     29.38       0           0                12.24724\n",
       "3 3  67    19       0   0     29.39       0           0                16.15893\n",
       "4 4  78    19       0   0     29.31       0           0                10.95013\n",
       "5 5  66    19       0   0     29.40       0           0                17.26332\n",
       "6 6  68    15       0   0     29.57       0           0                17.03916\n",
       "  PT45_gt052 RA45     PT45_gt05\n",
       "1 1.0023159  15.75511 0.9578708\n",
       "2 0.9357264  11.42741 0.8316392\n",
       "3 0.9136058  15.92101 0.8191412\n",
       "4 0.9232722  14.05338 0.7954528\n",
       "5 0.9707625  16.91719 0.9490688\n",
       "6 0.9470216  16.91410 0.9866144"
      ]
     },
     "metadata": {},
     "output_type": "display_data"
    },
    {
     "data": {
      "text/html": [
       "<ol class=list-inline>\n",
       "\t<li>1471</li>\n",
       "\t<li>12</li>\n",
       "</ol>\n"
      ],
      "text/latex": [
       "\\begin{enumerate*}\n",
       "\\item 1471\n",
       "\\item 12\n",
       "\\end{enumerate*}\n"
      ],
      "text/markdown": [
       "1. 1471\n",
       "2. 12\n",
       "\n",
       "\n"
      ],
      "text/plain": [
       "[1] 1471   12"
      ]
     },
     "metadata": {},
     "output_type": "display_data"
    }
   ],
   "source": [
    "summary(miss1$imputed.data)\n",
    "\n",
    "w01.imp <- data.frame(miss1$imputed.data)\n",
    "idx <- miss1$caseorder\n",
    "\n",
    "head(w01.imp)\n",
    "dim(w01.imp)"
   ]
  },
  {
   "cell_type": "code",
   "execution_count": 22,
   "metadata": {},
   "outputs": [
    {
     "data": {
      "text/plain": [
       "       ID             Tmax2           WetBulb2          RA2        \n",
       " Min.   :   1.0   Min.   : 41.00   Min.   : 2.00   Min.   :0.0000  \n",
       " 1st Qu.: 368.8   1st Qu.: 69.00   1st Qu.:22.00   1st Qu.:0.0000  \n",
       " Median : 736.5   Median : 78.00   Median :30.00   Median :0.0000  \n",
       " Mean   : 736.5   Mean   : 76.35   Mean   :28.59   Mean   :0.3125  \n",
       " 3rd Qu.:1104.2   3rd Qu.: 85.00   3rd Qu.:36.00   3rd Qu.:1.0000  \n",
       " Max.   :1472.0   Max.   :104.00   Max.   :46.00   Max.   :1.0000  \n",
       "                                   NA's   :1                       \n",
       "     TSRA2         StnPressure     PrecipTotal     PrecipTotal2.imp\n",
       " Min.   :0.0000   Min.   :28.55   Min.   :0.0000   Min.   :0.0000  \n",
       " 1st Qu.:0.0000   1st Qu.:29.16   1st Qu.:0.0000   1st Qu.:0.0000  \n",
       " Median :0.0000   Median :29.26   Median :0.0000   Median :0.0000  \n",
       " Mean   :0.1053   Mean   :29.25   Mean   :0.1345   Mean   :0.1286  \n",
       " 3rd Qu.:0.0000   3rd Qu.:29.35   3rd Qu.:0.0600   3rd Qu.:0.0525  \n",
       " Max.   :1.0000   Max.   :29.79   Max.   :6.8600   Max.   :4.7300  \n",
       "                  NA's   :2                                        \n",
       "     RA45.2        PT45_gt052          RA45        PT45_gt05     \n",
       " Min.   : 5.00   Min.   :0.0000   Min.   : 5.0   Min.   :0.0000  \n",
       " 1st Qu.:11.00   1st Qu.:1.0000   1st Qu.:12.0   1st Qu.:1.0000  \n",
       " Median :13.00   Median :1.0000   Median :13.0   Median :1.0000  \n",
       " Mean   :13.36   Mean   :0.9795   Mean   :13.8   Mean   :0.9616  \n",
       " 3rd Qu.:16.00   3rd Qu.:1.0000   3rd Qu.:16.0   3rd Qu.:1.0000  \n",
       " Max.   :24.00   Max.   :1.0000   Max.   :24.0   Max.   :1.0000  \n",
       " NA's   :352     NA's   :352      NA's   :352    NA's   :352     "
      ]
     },
     "metadata": {},
     "output_type": "display_data"
    }
   ],
   "source": [
    "summary(w01[,c(2,4,8,25,29,50,49, 34 ,35,36,69,70)])"
   ]
  },
  {
   "cell_type": "code",
   "execution_count": 23,
   "metadata": {},
   "outputs": [],
   "source": [
    "write.csv(w01.imp, file=\"C:/Users/Chen/Project/data/w01.imp.csv\", row.names =F)"
   ]
  },
  {
   "cell_type": "code",
   "execution_count": null,
   "metadata": {},
   "outputs": [],
   "source": []
  }
 ],
 "metadata": {
  "kernelspec": {
   "display_name": "R",
   "language": "R",
   "name": "ir"
  },
  "language_info": {
   "codemirror_mode": "r",
   "file_extension": ".r",
   "mimetype": "text/x-r-source",
   "name": "R",
   "pygments_lexer": "r",
   "version": "3.5.1"
  }
 },
 "nbformat": 4,
 "nbformat_minor": 2
}
