{
 "cells": [
  {
   "cell_type": "code",
   "execution_count": 1,
   "metadata": {},
   "outputs": [],
   "source": [
    "import numpy as np\n",
    "import pandas as pd\n",
    "import seaborn as sns\n"
   ]
  },
  {
   "cell_type": "code",
   "execution_count": 2,
   "metadata": {},
   "outputs": [],
   "source": [
    "import numpy as np\n",
    "from sklearn import metrics\n",
    "from sklearn.metrics import mean_squared_error, accuracy_score\n"
   ]
  },
  {
   "cell_type": "code",
   "execution_count": 3,
   "metadata": {},
   "outputs": [],
   "source": [
    "## error = sum of squared errors (SSE)\n",
    "def error(predicted, observed):\n",
    "    err = sum(np.subtract(predicted, observed)**2)\n",
    "    return(err)"
   ]
  },
  {
   "cell_type": "code",
   "execution_count": 4,
   "metadata": {},
   "outputs": [],
   "source": [
    "X_train=pd.read_csv(\"C:/Users/Chen/Project/data/X_over.csv\")\n",
    "y_train=pd.read_csv(\"C:/Users/Chen/Project/data/y_over.csv\")"
   ]
  },
  {
   "cell_type": "code",
   "execution_count": 5,
   "metadata": {},
   "outputs": [
    {
     "name": "stdout",
     "output_type": "stream",
     "text": [
      "(6762, 61)\n",
      "(6762, 1)\n"
     ]
    }
   ],
   "source": [
    "print(X_train.shape)\n",
    "print(y_train.shape)"
   ]
  },
  {
   "cell_type": "code",
   "execution_count": 6,
   "metadata": {},
   "outputs": [
    {
     "data": {
      "text/html": [
       "<div>\n",
       "<style scoped>\n",
       "    .dataframe tbody tr th:only-of-type {\n",
       "        vertical-align: middle;\n",
       "    }\n",
       "\n",
       "    .dataframe tbody tr th {\n",
       "        vertical-align: top;\n",
       "    }\n",
       "\n",
       "    .dataframe thead th {\n",
       "        text-align: right;\n",
       "    }\n",
       "</style>\n",
       "<table border=\"1\" class=\"dataframe\">\n",
       "  <thead>\n",
       "    <tr style=\"text-align: right;\">\n",
       "      <th></th>\n",
       "      <th>Longitude</th>\n",
       "      <th>Latitude</th>\n",
       "      <th>Season_code_1</th>\n",
       "      <th>Season_code_2</th>\n",
       "      <th>Season_code_3</th>\n",
       "      <th>CULEX_ERRATICUS</th>\n",
       "      <th>CULEX_PIPIENS</th>\n",
       "      <th>CULEX_PIPIENS_RESTUANS</th>\n",
       "      <th>CULEX_RESTUANS</th>\n",
       "      <th>CULEX_SALINARIUS</th>\n",
       "      <th>...</th>\n",
       "      <th>HZ</th>\n",
       "      <th>RA</th>\n",
       "      <th>AvgSpeed2</th>\n",
       "      <th>AvgSpeed</th>\n",
       "      <th>ResultSpeed</th>\n",
       "      <th>RA45</th>\n",
       "      <th>RA45_2</th>\n",
       "      <th>pre45_1_2</th>\n",
       "      <th>pre45_1</th>\n",
       "      <th>PrecipTotal</th>\n",
       "    </tr>\n",
       "  </thead>\n",
       "  <tbody>\n",
       "    <tr>\n",
       "      <th>0</th>\n",
       "      <td>-87.546587</td>\n",
       "      <td>41.740641</td>\n",
       "      <td>0</td>\n",
       "      <td>1</td>\n",
       "      <td>0</td>\n",
       "      <td>0</td>\n",
       "      <td>0</td>\n",
       "      <td>3</td>\n",
       "      <td>5</td>\n",
       "      <td>0</td>\n",
       "      <td>...</td>\n",
       "      <td>0</td>\n",
       "      <td>1</td>\n",
       "      <td>9.2</td>\n",
       "      <td>8.0</td>\n",
       "      <td>7.4</td>\n",
       "      <td>12.088315</td>\n",
       "      <td>11.048196</td>\n",
       "      <td>1</td>\n",
       "      <td>1</td>\n",
       "      <td>0.12</td>\n",
       "    </tr>\n",
       "    <tr>\n",
       "      <th>1</th>\n",
       "      <td>-87.671457</td>\n",
       "      <td>41.947227</td>\n",
       "      <td>0</td>\n",
       "      <td>1</td>\n",
       "      <td>0</td>\n",
       "      <td>0</td>\n",
       "      <td>0</td>\n",
       "      <td>1</td>\n",
       "      <td>0</td>\n",
       "      <td>0</td>\n",
       "      <td>...</td>\n",
       "      <td>0</td>\n",
       "      <td>0</td>\n",
       "      <td>8.4</td>\n",
       "      <td>8.5</td>\n",
       "      <td>8.3</td>\n",
       "      <td>10.000000</td>\n",
       "      <td>9.000000</td>\n",
       "      <td>0</td>\n",
       "      <td>1</td>\n",
       "      <td>0.00</td>\n",
       "    </tr>\n",
       "    <tr>\n",
       "      <th>2</th>\n",
       "      <td>-87.546587</td>\n",
       "      <td>41.740641</td>\n",
       "      <td>0</td>\n",
       "      <td>1</td>\n",
       "      <td>0</td>\n",
       "      <td>0</td>\n",
       "      <td>0</td>\n",
       "      <td>2</td>\n",
       "      <td>14</td>\n",
       "      <td>0</td>\n",
       "      <td>...</td>\n",
       "      <td>0</td>\n",
       "      <td>0</td>\n",
       "      <td>7.8</td>\n",
       "      <td>7.9</td>\n",
       "      <td>6.6</td>\n",
       "      <td>20.000000</td>\n",
       "      <td>17.000000</td>\n",
       "      <td>1</td>\n",
       "      <td>1</td>\n",
       "      <td>0.00</td>\n",
       "    </tr>\n",
       "    <tr>\n",
       "      <th>3</th>\n",
       "      <td>-87.716277</td>\n",
       "      <td>41.846075</td>\n",
       "      <td>0</td>\n",
       "      <td>1</td>\n",
       "      <td>0</td>\n",
       "      <td>0</td>\n",
       "      <td>0</td>\n",
       "      <td>1</td>\n",
       "      <td>0</td>\n",
       "      <td>0</td>\n",
       "      <td>...</td>\n",
       "      <td>0</td>\n",
       "      <td>1</td>\n",
       "      <td>11.0</td>\n",
       "      <td>9.7</td>\n",
       "      <td>9.1</td>\n",
       "      <td>14.000000</td>\n",
       "      <td>13.000000</td>\n",
       "      <td>1</td>\n",
       "      <td>0</td>\n",
       "      <td>0.95</td>\n",
       "    </tr>\n",
       "    <tr>\n",
       "      <th>4</th>\n",
       "      <td>-87.559308</td>\n",
       "      <td>41.678618</td>\n",
       "      <td>0</td>\n",
       "      <td>0</td>\n",
       "      <td>1</td>\n",
       "      <td>0</td>\n",
       "      <td>0</td>\n",
       "      <td>1</td>\n",
       "      <td>6</td>\n",
       "      <td>0</td>\n",
       "      <td>...</td>\n",
       "      <td>0</td>\n",
       "      <td>0</td>\n",
       "      <td>3.7</td>\n",
       "      <td>3.3</td>\n",
       "      <td>1.4</td>\n",
       "      <td>13.000000</td>\n",
       "      <td>13.000000</td>\n",
       "      <td>0</td>\n",
       "      <td>1</td>\n",
       "      <td>0.00</td>\n",
       "    </tr>\n",
       "  </tbody>\n",
       "</table>\n",
       "<p>5 rows × 61 columns</p>\n",
       "</div>"
      ],
      "text/plain": [
       "   Longitude   Latitude  Season_code_1  Season_code_2  Season_code_3  \\\n",
       "0 -87.546587  41.740641              0              1              0   \n",
       "1 -87.671457  41.947227              0              1              0   \n",
       "2 -87.546587  41.740641              0              1              0   \n",
       "3 -87.716277  41.846075              0              1              0   \n",
       "4 -87.559308  41.678618              0              0              1   \n",
       "\n",
       "   CULEX_ERRATICUS  CULEX_PIPIENS  CULEX_PIPIENS_RESTUANS  CULEX_RESTUANS  \\\n",
       "0                0              0                       3               5   \n",
       "1                0              0                       1               0   \n",
       "2                0              0                       2              14   \n",
       "3                0              0                       1               0   \n",
       "4                0              0                       1               6   \n",
       "\n",
       "   CULEX_SALINARIUS     ...       HZ  RA  AvgSpeed2  AvgSpeed  ResultSpeed  \\\n",
       "0                 0     ...        0   1        9.2       8.0          7.4   \n",
       "1                 0     ...        0   0        8.4       8.5          8.3   \n",
       "2                 0     ...        0   0        7.8       7.9          6.6   \n",
       "3                 0     ...        0   1       11.0       9.7          9.1   \n",
       "4                 0     ...        0   0        3.7       3.3          1.4   \n",
       "\n",
       "        RA45     RA45_2  pre45_1_2  pre45_1  PrecipTotal  \n",
       "0  12.088315  11.048196          1        1         0.12  \n",
       "1  10.000000   9.000000          0        1         0.00  \n",
       "2  20.000000  17.000000          1        1         0.00  \n",
       "3  14.000000  13.000000          1        0         0.95  \n",
       "4  13.000000  13.000000          0        1         0.00  \n",
       "\n",
       "[5 rows x 61 columns]"
      ]
     },
     "execution_count": 6,
     "metadata": {},
     "output_type": "execute_result"
    }
   ],
   "source": [
    "X_train.head()"
   ]
  },
  {
   "cell_type": "code",
   "execution_count": 7,
   "metadata": {},
   "outputs": [
    {
     "data": {
      "text/html": [
       "<div>\n",
       "<style scoped>\n",
       "    .dataframe tbody tr th:only-of-type {\n",
       "        vertical-align: middle;\n",
       "    }\n",
       "\n",
       "    .dataframe tbody tr th {\n",
       "        vertical-align: top;\n",
       "    }\n",
       "\n",
       "    .dataframe thead th {\n",
       "        text-align: right;\n",
       "    }\n",
       "</style>\n",
       "<table border=\"1\" class=\"dataframe\">\n",
       "  <thead>\n",
       "    <tr style=\"text-align: right;\">\n",
       "      <th></th>\n",
       "      <th>WnvPresentB</th>\n",
       "    </tr>\n",
       "  </thead>\n",
       "  <tbody>\n",
       "    <tr>\n",
       "      <th>0</th>\n",
       "      <td>0</td>\n",
       "    </tr>\n",
       "    <tr>\n",
       "      <th>1</th>\n",
       "      <td>0</td>\n",
       "    </tr>\n",
       "    <tr>\n",
       "      <th>2</th>\n",
       "      <td>0</td>\n",
       "    </tr>\n",
       "    <tr>\n",
       "      <th>3</th>\n",
       "      <td>0</td>\n",
       "    </tr>\n",
       "    <tr>\n",
       "      <th>4</th>\n",
       "      <td>0</td>\n",
       "    </tr>\n",
       "  </tbody>\n",
       "</table>\n",
       "</div>"
      ],
      "text/plain": [
       "   WnvPresentB\n",
       "0            0\n",
       "1            0\n",
       "2            0\n",
       "3            0\n",
       "4            0"
      ]
     },
     "execution_count": 7,
     "metadata": {},
     "output_type": "execute_result"
    }
   ],
   "source": [
    "y_train.head()"
   ]
  },
  {
   "cell_type": "code",
   "execution_count": 8,
   "metadata": {},
   "outputs": [],
   "source": [
    "# test is dev(=X_dv.csv & y_dev.csv)\n",
    "X_test=pd.read_csv(\"C:/Users/Chen/Project/data/X_dv.csv\")\n",
    "y_test=pd.read_csv(\"C:/Users/Chen/Project/data/y_dev.csv\")"
   ]
  },
  {
   "cell_type": "code",
   "execution_count": 9,
   "metadata": {},
   "outputs": [],
   "source": [
    "X_test=X_test.drop(['X'], axis=1)"
   ]
  },
  {
   "cell_type": "code",
   "execution_count": 10,
   "metadata": {},
   "outputs": [],
   "source": [
    "y_test=y_test.drop(['X'], axis=1)"
   ]
  },
  {
   "cell_type": "code",
   "execution_count": 11,
   "metadata": {},
   "outputs": [
    {
     "data": {
      "text/html": [
       "<div>\n",
       "<style scoped>\n",
       "    .dataframe tbody tr th:only-of-type {\n",
       "        vertical-align: middle;\n",
       "    }\n",
       "\n",
       "    .dataframe tbody tr th {\n",
       "        vertical-align: top;\n",
       "    }\n",
       "\n",
       "    .dataframe thead th {\n",
       "        text-align: right;\n",
       "    }\n",
       "</style>\n",
       "<table border=\"1\" class=\"dataframe\">\n",
       "  <thead>\n",
       "    <tr style=\"text-align: right;\">\n",
       "      <th></th>\n",
       "      <th>Longitude</th>\n",
       "      <th>Latitude</th>\n",
       "      <th>Season_code_1</th>\n",
       "      <th>Season_code_2</th>\n",
       "      <th>Season_code_3</th>\n",
       "      <th>CULEX_ERRATICUS</th>\n",
       "      <th>CULEX_PIPIENS</th>\n",
       "      <th>CULEX_PIPIENS_RESTUANS</th>\n",
       "      <th>CULEX_RESTUANS</th>\n",
       "      <th>CULEX_SALINARIUS</th>\n",
       "      <th>...</th>\n",
       "      <th>HZ</th>\n",
       "      <th>RA</th>\n",
       "      <th>AvgSpeed2</th>\n",
       "      <th>AvgSpeed</th>\n",
       "      <th>ResultSpeed</th>\n",
       "      <th>RA45</th>\n",
       "      <th>RA45_2</th>\n",
       "      <th>pre45_1_2</th>\n",
       "      <th>pre45_1</th>\n",
       "      <th>PrecipTotal</th>\n",
       "    </tr>\n",
       "  </thead>\n",
       "  <tbody>\n",
       "    <tr>\n",
       "      <th>0</th>\n",
       "      <td>-87.662140</td>\n",
       "      <td>42.010412</td>\n",
       "      <td>0</td>\n",
       "      <td>1</td>\n",
       "      <td>0</td>\n",
       "      <td>0</td>\n",
       "      <td>0</td>\n",
       "      <td>1</td>\n",
       "      <td>1</td>\n",
       "      <td>0</td>\n",
       "      <td>...</td>\n",
       "      <td>0</td>\n",
       "      <td>0</td>\n",
       "      <td>9.2</td>\n",
       "      <td>9.9</td>\n",
       "      <td>9.5</td>\n",
       "      <td>13.42725</td>\n",
       "      <td>14.053467</td>\n",
       "      <td>1</td>\n",
       "      <td>1</td>\n",
       "      <td>0.0</td>\n",
       "    </tr>\n",
       "    <tr>\n",
       "      <th>1</th>\n",
       "      <td>-87.678649</td>\n",
       "      <td>41.768388</td>\n",
       "      <td>0</td>\n",
       "      <td>1</td>\n",
       "      <td>0</td>\n",
       "      <td>0</td>\n",
       "      <td>0</td>\n",
       "      <td>1</td>\n",
       "      <td>0</td>\n",
       "      <td>0</td>\n",
       "      <td>...</td>\n",
       "      <td>0</td>\n",
       "      <td>0</td>\n",
       "      <td>3.4</td>\n",
       "      <td>3.3</td>\n",
       "      <td>1.9</td>\n",
       "      <td>12.00000</td>\n",
       "      <td>10.000000</td>\n",
       "      <td>0</td>\n",
       "      <td>1</td>\n",
       "      <td>0.0</td>\n",
       "    </tr>\n",
       "    <tr>\n",
       "      <th>2</th>\n",
       "      <td>-87.794896</td>\n",
       "      <td>41.940160</td>\n",
       "      <td>0</td>\n",
       "      <td>0</td>\n",
       "      <td>1</td>\n",
       "      <td>0</td>\n",
       "      <td>1</td>\n",
       "      <td>11</td>\n",
       "      <td>0</td>\n",
       "      <td>0</td>\n",
       "      <td>...</td>\n",
       "      <td>0</td>\n",
       "      <td>0</td>\n",
       "      <td>10.5</td>\n",
       "      <td>11.9</td>\n",
       "      <td>11.4</td>\n",
       "      <td>13.00000</td>\n",
       "      <td>10.000000</td>\n",
       "      <td>1</td>\n",
       "      <td>1</td>\n",
       "      <td>0.0</td>\n",
       "    </tr>\n",
       "    <tr>\n",
       "      <th>3</th>\n",
       "      <td>-87.777189</td>\n",
       "      <td>41.960616</td>\n",
       "      <td>0</td>\n",
       "      <td>1</td>\n",
       "      <td>0</td>\n",
       "      <td>0</td>\n",
       "      <td>0</td>\n",
       "      <td>3</td>\n",
       "      <td>4</td>\n",
       "      <td>0</td>\n",
       "      <td>...</td>\n",
       "      <td>0</td>\n",
       "      <td>0</td>\n",
       "      <td>5.0</td>\n",
       "      <td>4.9</td>\n",
       "      <td>4.2</td>\n",
       "      <td>11.00000</td>\n",
       "      <td>12.000000</td>\n",
       "      <td>0</td>\n",
       "      <td>0</td>\n",
       "      <td>0.0</td>\n",
       "    </tr>\n",
       "    <tr>\n",
       "      <th>4</th>\n",
       "      <td>-87.777189</td>\n",
       "      <td>41.960616</td>\n",
       "      <td>0</td>\n",
       "      <td>1</td>\n",
       "      <td>0</td>\n",
       "      <td>0</td>\n",
       "      <td>0</td>\n",
       "      <td>2</td>\n",
       "      <td>0</td>\n",
       "      <td>0</td>\n",
       "      <td>...</td>\n",
       "      <td>0</td>\n",
       "      <td>1</td>\n",
       "      <td>10.5</td>\n",
       "      <td>8.4</td>\n",
       "      <td>7.8</td>\n",
       "      <td>18.00000</td>\n",
       "      <td>21.000000</td>\n",
       "      <td>1</td>\n",
       "      <td>1</td>\n",
       "      <td>0.5</td>\n",
       "    </tr>\n",
       "  </tbody>\n",
       "</table>\n",
       "<p>5 rows × 61 columns</p>\n",
       "</div>"
      ],
      "text/plain": [
       "   Longitude   Latitude  Season_code_1  Season_code_2  Season_code_3  \\\n",
       "0 -87.662140  42.010412              0              1              0   \n",
       "1 -87.678649  41.768388              0              1              0   \n",
       "2 -87.794896  41.940160              0              0              1   \n",
       "3 -87.777189  41.960616              0              1              0   \n",
       "4 -87.777189  41.960616              0              1              0   \n",
       "\n",
       "   CULEX_ERRATICUS  CULEX_PIPIENS  CULEX_PIPIENS_RESTUANS  CULEX_RESTUANS  \\\n",
       "0                0              0                       1               1   \n",
       "1                0              0                       1               0   \n",
       "2                0              1                      11               0   \n",
       "3                0              0                       3               4   \n",
       "4                0              0                       2               0   \n",
       "\n",
       "   CULEX_SALINARIUS     ...       HZ  RA  AvgSpeed2  AvgSpeed  ResultSpeed  \\\n",
       "0                 0     ...        0   0        9.2       9.9          9.5   \n",
       "1                 0     ...        0   0        3.4       3.3          1.9   \n",
       "2                 0     ...        0   0       10.5      11.9         11.4   \n",
       "3                 0     ...        0   0        5.0       4.9          4.2   \n",
       "4                 0     ...        0   1       10.5       8.4          7.8   \n",
       "\n",
       "       RA45     RA45_2  pre45_1_2  pre45_1  PrecipTotal  \n",
       "0  13.42725  14.053467          1        1          0.0  \n",
       "1  12.00000  10.000000          0        1          0.0  \n",
       "2  13.00000  10.000000          1        1          0.0  \n",
       "3  11.00000  12.000000          0        0          0.0  \n",
       "4  18.00000  21.000000          1        1          0.5  \n",
       "\n",
       "[5 rows x 61 columns]"
      ]
     },
     "execution_count": 11,
     "metadata": {},
     "output_type": "execute_result"
    }
   ],
   "source": [
    "X_test.head()"
   ]
  },
  {
   "cell_type": "code",
   "execution_count": 12,
   "metadata": {},
   "outputs": [
    {
     "data": {
      "text/html": [
       "<div>\n",
       "<style scoped>\n",
       "    .dataframe tbody tr th:only-of-type {\n",
       "        vertical-align: middle;\n",
       "    }\n",
       "\n",
       "    .dataframe tbody tr th {\n",
       "        vertical-align: top;\n",
       "    }\n",
       "\n",
       "    .dataframe thead th {\n",
       "        text-align: right;\n",
       "    }\n",
       "</style>\n",
       "<table border=\"1\" class=\"dataframe\">\n",
       "  <thead>\n",
       "    <tr style=\"text-align: right;\">\n",
       "      <th></th>\n",
       "      <th>WnvPresentB</th>\n",
       "    </tr>\n",
       "  </thead>\n",
       "  <tbody>\n",
       "    <tr>\n",
       "      <th>0</th>\n",
       "      <td>0</td>\n",
       "    </tr>\n",
       "    <tr>\n",
       "      <th>1</th>\n",
       "      <td>0</td>\n",
       "    </tr>\n",
       "    <tr>\n",
       "      <th>2</th>\n",
       "      <td>0</td>\n",
       "    </tr>\n",
       "    <tr>\n",
       "      <th>3</th>\n",
       "      <td>0</td>\n",
       "    </tr>\n",
       "    <tr>\n",
       "      <th>4</th>\n",
       "      <td>0</td>\n",
       "    </tr>\n",
       "  </tbody>\n",
       "</table>\n",
       "</div>"
      ],
      "text/plain": [
       "   WnvPresentB\n",
       "0            0\n",
       "1            0\n",
       "2            0\n",
       "3            0\n",
       "4            0"
      ]
     },
     "execution_count": 12,
     "metadata": {},
     "output_type": "execute_result"
    }
   ],
   "source": [
    "y_test.head()"
   ]
  },
  {
   "cell_type": "code",
   "execution_count": 13,
   "metadata": {},
   "outputs": [
    {
     "name": "stdout",
     "output_type": "stream",
     "text": [
      "(462, 61)\n",
      "(462, 1)\n"
     ]
    }
   ],
   "source": [
    "print(X_test.shape)\n",
    "print(y_test.shape)"
   ]
  },
  {
   "cell_type": "code",
   "execution_count": 19,
   "metadata": {},
   "outputs": [],
   "source": [
    "### We will create a table for comparing the results\n",
    "res = pd.DataFrame(columns=['model','accuracy','auc','error'])\n",
    "res = []"
   ]
  },
  {
   "cell_type": "markdown",
   "metadata": {},
   "source": [
    "## Logistic Regression"
   ]
  },
  {
   "cell_type": "code",
   "execution_count": 21,
   "metadata": {},
   "outputs": [],
   "source": [
    "from sklearn.linear_model import LogisticRegression\n",
    "from sklearn.metrics import auc, roc_curve\n",
    "\n",
    "# Initialize the predictive model object\n",
    "mod_logistic = LogisticRegression()\n",
    "\n",
    "# Train the model using the training sets\n",
    "mod_logistic.fit(X_train, y_train.values.ravel())\n",
    "\n",
    "# Make predictions using the testing set\n",
    "pred = mod_logistic.predict(X_test)"
   ]
  },
  {
   "cell_type": "code",
   "execution_count": 16,
   "metadata": {},
   "outputs": [],
   "source": [
    "#model = forest.fit(train_fold, train_y.values.ravel())"
   ]
  },
  {
   "cell_type": "code",
   "execution_count": 22,
   "metadata": {},
   "outputs": [
    {
     "data": {
      "text/html": [
       "<div>\n",
       "<style scoped>\n",
       "    .dataframe tbody tr th:only-of-type {\n",
       "        vertical-align: middle;\n",
       "    }\n",
       "\n",
       "    .dataframe tbody tr th {\n",
       "        vertical-align: top;\n",
       "    }\n",
       "\n",
       "    .dataframe thead th {\n",
       "        text-align: right;\n",
       "    }\n",
       "</style>\n",
       "<table border=\"1\" class=\"dataframe\">\n",
       "  <thead>\n",
       "    <tr style=\"text-align: right;\">\n",
       "      <th>col_0</th>\n",
       "      <th>0</th>\n",
       "      <th>1</th>\n",
       "    </tr>\n",
       "    <tr>\n",
       "      <th>row_0</th>\n",
       "      <th></th>\n",
       "      <th></th>\n",
       "    </tr>\n",
       "  </thead>\n",
       "  <tbody>\n",
       "    <tr>\n",
       "      <th>0</th>\n",
       "      <td>318</td>\n",
       "      <td>106</td>\n",
       "    </tr>\n",
       "    <tr>\n",
       "      <th>1</th>\n",
       "      <td>10</td>\n",
       "      <td>28</td>\n",
       "    </tr>\n",
       "  </tbody>\n",
       "</table>\n",
       "</div>"
      ],
      "text/plain": [
       "col_0    0    1\n",
       "row_0          \n",
       "0      318  106\n",
       "1       10   28"
      ]
     },
     "execution_count": 22,
     "metadata": {},
     "output_type": "execute_result"
    }
   ],
   "source": [
    "pd.crosstab(y_test.values.ravel(), pred)"
   ]
  },
  {
   "cell_type": "code",
   "execution_count": 23,
   "metadata": {},
   "outputs": [
    {
     "data": {
      "text/plain": [
       "[{'model': 'Logistic regression',\n",
       "  'accuracy': 0.7489177489177489,\n",
       "  'auc': 0.743421052631579,\n",
       "  'err': 116}]"
      ]
     },
     "execution_count": 23,
     "metadata": {},
     "output_type": "execute_result"
    }
   ],
   "source": [
    "fpr, tpr, thresholds = metrics.roc_curve(y_test.values.ravel(), pred, pos_label=1)\n",
    "auc1 = auc(fpr, tpr)\n",
    "acc = accuracy_score(y_test.values.ravel(), pred)\n",
    "#err = metrics.mean_squared_error(y_test, pred)\n",
    "err = error(y_test.values.ravel(), pred)\n",
    "res.append({'model':'Logistic regression','accuracy':acc, 'auc':auc1, 'err':err})\n",
    "res"
   ]
  },
  {
   "cell_type": "markdown",
   "metadata": {},
   "source": [
    "## Naive Bayes"
   ]
  },
  {
   "cell_type": "code",
   "execution_count": 24,
   "metadata": {},
   "outputs": [],
   "source": [
    "from sklearn.naive_bayes import GaussianNB\n",
    "\n",
    "# Initialize the predictive model object\n",
    "mod_bayes = GaussianNB()\n",
    "\n",
    "# Train the model using the training sets\n",
    "y_pred = mod_bayes.fit(X_train, y_train.values.ravel())\n",
    "\n",
    "# Make predictions using the testing set\n",
    "pred = mod_bayes.predict(X_test)"
   ]
  },
  {
   "cell_type": "code",
   "execution_count": 25,
   "metadata": {},
   "outputs": [
    {
     "data": {
      "text/html": [
       "<div>\n",
       "<style scoped>\n",
       "    .dataframe tbody tr th:only-of-type {\n",
       "        vertical-align: middle;\n",
       "    }\n",
       "\n",
       "    .dataframe tbody tr th {\n",
       "        vertical-align: top;\n",
       "    }\n",
       "\n",
       "    .dataframe thead th {\n",
       "        text-align: right;\n",
       "    }\n",
       "</style>\n",
       "<table border=\"1\" class=\"dataframe\">\n",
       "  <thead>\n",
       "    <tr style=\"text-align: right;\">\n",
       "      <th>col_0</th>\n",
       "      <th>0</th>\n",
       "      <th>1</th>\n",
       "    </tr>\n",
       "    <tr>\n",
       "      <th>row_0</th>\n",
       "      <th></th>\n",
       "      <th></th>\n",
       "    </tr>\n",
       "  </thead>\n",
       "  <tbody>\n",
       "    <tr>\n",
       "      <th>0</th>\n",
       "      <td>210</td>\n",
       "      <td>214</td>\n",
       "    </tr>\n",
       "    <tr>\n",
       "      <th>1</th>\n",
       "      <td>6</td>\n",
       "      <td>32</td>\n",
       "    </tr>\n",
       "  </tbody>\n",
       "</table>\n",
       "</div>"
      ],
      "text/plain": [
       "col_0    0    1\n",
       "row_0          \n",
       "0      210  214\n",
       "1        6   32"
      ]
     },
     "execution_count": 25,
     "metadata": {},
     "output_type": "execute_result"
    }
   ],
   "source": [
    "pd.crosstab(y_test.values.ravel(), pred)"
   ]
  },
  {
   "cell_type": "code",
   "execution_count": 26,
   "metadata": {},
   "outputs": [
    {
     "data": {
      "text/plain": [
       "[{'model': 'Logistic regression',\n",
       "  'accuracy': 0.7489177489177489,\n",
       "  'auc': 0.743421052631579,\n",
       "  'err': 116},\n",
       " {'model': 'Naive Bayes',\n",
       "  'accuracy': 0.5238095238095238,\n",
       "  'auc': 0.6686941410129096,\n",
       "  'err': 220}]"
      ]
     },
     "execution_count": 26,
     "metadata": {},
     "output_type": "execute_result"
    }
   ],
   "source": [
    "fpr, tpr, thresholds = metrics.roc_curve(y_test.values.ravel(), pred, pos_label=1)\n",
    "auc1 = auc(fpr, tpr)\n",
    "acc = accuracy_score(y_test.values.ravel(), pred)\n",
    "#err = metrics.mean_squared_error(y_test, pred)\n",
    "err = error(y_test.values.ravel(), pred)\n",
    "res.append({'model':'Naive Bayes','accuracy':acc, 'auc':auc1, 'err':err})\n",
    "res"
   ]
  },
  {
   "cell_type": "markdown",
   "metadata": {},
   "source": [
    "# Decision Trees in Scikit-learn\n",
    " \n",
    "\n",
    "## CART"
   ]
  },
  {
   "cell_type": "code",
   "execution_count": 27,
   "metadata": {},
   "outputs": [],
   "source": [
    "from sklearn import tree\n",
    "\n",
    "# Initialize the predictive model object\n",
    "mod_cart = tree.DecisionTreeClassifier(random_state=2)\n",
    "\n",
    "# Train the model using the training sets\n",
    "y_pred = mod_cart.fit(X_train, y_train.values.ravel())\n",
    "\n",
    "# Make predictions using the testing set\n",
    "pred = mod_cart.predict(X_test)"
   ]
  },
  {
   "cell_type": "code",
   "execution_count": 28,
   "metadata": {},
   "outputs": [
    {
     "data": {
      "text/html": [
       "<div>\n",
       "<style scoped>\n",
       "    .dataframe tbody tr th:only-of-type {\n",
       "        vertical-align: middle;\n",
       "    }\n",
       "\n",
       "    .dataframe tbody tr th {\n",
       "        vertical-align: top;\n",
       "    }\n",
       "\n",
       "    .dataframe thead th {\n",
       "        text-align: right;\n",
       "    }\n",
       "</style>\n",
       "<table border=\"1\" class=\"dataframe\">\n",
       "  <thead>\n",
       "    <tr style=\"text-align: right;\">\n",
       "      <th>col_0</th>\n",
       "      <th>0</th>\n",
       "      <th>1</th>\n",
       "    </tr>\n",
       "    <tr>\n",
       "      <th>row_0</th>\n",
       "      <th></th>\n",
       "      <th></th>\n",
       "    </tr>\n",
       "  </thead>\n",
       "  <tbody>\n",
       "    <tr>\n",
       "      <th>0</th>\n",
       "      <td>395</td>\n",
       "      <td>29</td>\n",
       "    </tr>\n",
       "    <tr>\n",
       "      <th>1</th>\n",
       "      <td>21</td>\n",
       "      <td>17</td>\n",
       "    </tr>\n",
       "  </tbody>\n",
       "</table>\n",
       "</div>"
      ],
      "text/plain": [
       "col_0    0   1\n",
       "row_0         \n",
       "0      395  29\n",
       "1       21  17"
      ]
     },
     "execution_count": 28,
     "metadata": {},
     "output_type": "execute_result"
    }
   ],
   "source": [
    "pd.crosstab(y_test.values.ravel(), pred)"
   ]
  },
  {
   "cell_type": "code",
   "execution_count": 29,
   "metadata": {},
   "outputs": [
    {
     "data": {
      "text/plain": [
       "[{'model': 'Logistic regression',\n",
       "  'accuracy': 0.7489177489177489,\n",
       "  'auc': 0.743421052631579,\n",
       "  'err': 116},\n",
       " {'model': 'Naive Bayes',\n",
       "  'accuracy': 0.5238095238095238,\n",
       "  'auc': 0.6686941410129096,\n",
       "  'err': 220},\n",
       " {'model': 'CART tree',\n",
       "  'accuracy': 0.8917748917748918,\n",
       "  'auc': 0.6894860973187686,\n",
       "  'err': 50}]"
      ]
     },
     "execution_count": 29,
     "metadata": {},
     "output_type": "execute_result"
    }
   ],
   "source": [
    "fpr, tpr, thresholds = metrics.roc_curve(y_test.values.ravel(), pred, pos_label=1)\n",
    "auc1 = auc(fpr, tpr)\n",
    "acc = accuracy_score(y_test.values.ravel(), pred)\n",
    "#err = metrics.mean_squared_error(y_test, pred)\n",
    "err = error(y_test.values.ravel(), pred)\n",
    "res.append({'model':'CART tree','accuracy':acc, 'auc':auc1, 'err':err})\n",
    "res"
   ]
  },
  {
   "cell_type": "markdown",
   "metadata": {},
   "source": [
    "## Random Forest"
   ]
  },
  {
   "cell_type": "code",
   "execution_count": 30,
   "metadata": {},
   "outputs": [
    {
     "name": "stderr",
     "output_type": "stream",
     "text": [
      "C:\\ProgramData\\Anaconda3\\lib\\site-packages\\sklearn\\ensemble\\weight_boosting.py:29: DeprecationWarning: numpy.core.umath_tests is an internal NumPy module and should not be imported. It will be removed in a future NumPy release.\n",
      "  from numpy.core.umath_tests import inner1d\n"
     ]
    }
   ],
   "source": [
    "from sklearn.ensemble import RandomForestClassifier\n",
    "\n",
    "# Initialize the predictive model object\n",
    "mod_rforest = RandomForestClassifier(n_estimators=100, max_depth=2, random_state=1)\n",
    "\n",
    "# Train the model using the training sets\n",
    "y_pred = mod_rforest.fit(X_train, y_train.values.ravel())\n",
    "\n",
    "# Make predictions using the testing set\n",
    "pred = mod_rforest.predict(X_test)"
   ]
  },
  {
   "cell_type": "code",
   "execution_count": 31,
   "metadata": {},
   "outputs": [
    {
     "data": {
      "text/html": [
       "<div>\n",
       "<style scoped>\n",
       "    .dataframe tbody tr th:only-of-type {\n",
       "        vertical-align: middle;\n",
       "    }\n",
       "\n",
       "    .dataframe tbody tr th {\n",
       "        vertical-align: top;\n",
       "    }\n",
       "\n",
       "    .dataframe thead th {\n",
       "        text-align: right;\n",
       "    }\n",
       "</style>\n",
       "<table border=\"1\" class=\"dataframe\">\n",
       "  <thead>\n",
       "    <tr style=\"text-align: right;\">\n",
       "      <th>col_0</th>\n",
       "      <th>0</th>\n",
       "      <th>1</th>\n",
       "    </tr>\n",
       "    <tr>\n",
       "      <th>row_0</th>\n",
       "      <th></th>\n",
       "      <th></th>\n",
       "    </tr>\n",
       "  </thead>\n",
       "  <tbody>\n",
       "    <tr>\n",
       "      <th>0</th>\n",
       "      <td>317</td>\n",
       "      <td>107</td>\n",
       "    </tr>\n",
       "    <tr>\n",
       "      <th>1</th>\n",
       "      <td>7</td>\n",
       "      <td>31</td>\n",
       "    </tr>\n",
       "  </tbody>\n",
       "</table>\n",
       "</div>"
      ],
      "text/plain": [
       "col_0    0    1\n",
       "row_0          \n",
       "0      317  107\n",
       "1        7   31"
      ]
     },
     "execution_count": 31,
     "metadata": {},
     "output_type": "execute_result"
    }
   ],
   "source": [
    "pd.crosstab(y_test.values.ravel(), pred)"
   ]
  },
  {
   "cell_type": "code",
   "execution_count": 32,
   "metadata": {},
   "outputs": [
    {
     "data": {
      "text/plain": [
       "[{'model': 'Logistic regression',\n",
       "  'accuracy': 0.7489177489177489,\n",
       "  'auc': 0.743421052631579,\n",
       "  'err': 116},\n",
       " {'model': 'Naive Bayes',\n",
       "  'accuracy': 0.5238095238095238,\n",
       "  'auc': 0.6686941410129096,\n",
       "  'err': 220},\n",
       " {'model': 'CART tree',\n",
       "  'accuracy': 0.8917748917748918,\n",
       "  'auc': 0.6894860973187686,\n",
       "  'err': 50},\n",
       " {'model': 'Random Forest',\n",
       "  'accuracy': 0.7532467532467533,\n",
       "  'auc': 0.7817154915590864,\n",
       "  'err': 114}]"
      ]
     },
     "execution_count": 32,
     "metadata": {},
     "output_type": "execute_result"
    }
   ],
   "source": [
    "fpr, tpr, thresholds = metrics.roc_curve(y_test.values.ravel(), pred, pos_label=1)\n",
    "auc1 = auc(fpr, tpr)\n",
    "acc = accuracy_score(y_test.values.ravel(), pred)\n",
    "#err = metrics.mean_squared_error(y_test, pred)\n",
    "err = error(y_test.values.ravel(), pred)\n",
    "res.append({'model':'Random Forest','accuracy':acc, 'auc':auc1, 'err':err})\n",
    "res"
   ]
  },
  {
   "cell_type": "code",
   "execution_count": 33,
   "metadata": {},
   "outputs": [],
   "source": [
    "#from sklearn.ensemble import RandomForestClassifier\n",
    "\n",
    "# Initialize the predictive model object\n",
    "mod_rforest2 = RandomForestClassifier(n_estimators=500, max_depth=2, random_state=1)\n",
    "\n",
    "# Train the model using the training sets\n",
    "y_pred2 = mod_rforest2.fit(X_train, y_train.values.ravel())\n",
    "\n",
    "# Make predictions using the testing set\n",
    "pred2 = mod_rforest2.predict(X_test)"
   ]
  },
  {
   "cell_type": "code",
   "execution_count": 34,
   "metadata": {},
   "outputs": [
    {
     "data": {
      "text/html": [
       "<div>\n",
       "<style scoped>\n",
       "    .dataframe tbody tr th:only-of-type {\n",
       "        vertical-align: middle;\n",
       "    }\n",
       "\n",
       "    .dataframe tbody tr th {\n",
       "        vertical-align: top;\n",
       "    }\n",
       "\n",
       "    .dataframe thead th {\n",
       "        text-align: right;\n",
       "    }\n",
       "</style>\n",
       "<table border=\"1\" class=\"dataframe\">\n",
       "  <thead>\n",
       "    <tr style=\"text-align: right;\">\n",
       "      <th>col_0</th>\n",
       "      <th>0</th>\n",
       "      <th>1</th>\n",
       "    </tr>\n",
       "    <tr>\n",
       "      <th>row_0</th>\n",
       "      <th></th>\n",
       "      <th></th>\n",
       "    </tr>\n",
       "  </thead>\n",
       "  <tbody>\n",
       "    <tr>\n",
       "      <th>0</th>\n",
       "      <td>294</td>\n",
       "      <td>130</td>\n",
       "    </tr>\n",
       "    <tr>\n",
       "      <th>1</th>\n",
       "      <td>6</td>\n",
       "      <td>32</td>\n",
       "    </tr>\n",
       "  </tbody>\n",
       "</table>\n",
       "</div>"
      ],
      "text/plain": [
       "col_0    0    1\n",
       "row_0          \n",
       "0      294  130\n",
       "1        6   32"
      ]
     },
     "execution_count": 34,
     "metadata": {},
     "output_type": "execute_result"
    }
   ],
   "source": [
    "pd.crosstab(y_test.values.ravel(), pred2)"
   ]
  },
  {
   "cell_type": "code",
   "execution_count": 35,
   "metadata": {},
   "outputs": [
    {
     "data": {
      "text/plain": [
       "[{'model': 'Logistic regression',\n",
       "  'accuracy': 0.7489177489177489,\n",
       "  'auc': 0.743421052631579,\n",
       "  'err': 116},\n",
       " {'model': 'Naive Bayes',\n",
       "  'accuracy': 0.5238095238095238,\n",
       "  'auc': 0.6686941410129096,\n",
       "  'err': 220},\n",
       " {'model': 'CART tree',\n",
       "  'accuracy': 0.8917748917748918,\n",
       "  'auc': 0.6894860973187686,\n",
       "  'err': 50},\n",
       " {'model': 'Random Forest',\n",
       "  'accuracy': 0.7532467532467533,\n",
       "  'auc': 0.7817154915590864,\n",
       "  'err': 114},\n",
       " {'model': 'Random Forest 500',\n",
       "  'accuracy': 0.7056277056277056,\n",
       "  'auc': 0.7817154915590864,\n",
       "  'err': 136}]"
      ]
     },
     "execution_count": 35,
     "metadata": {},
     "output_type": "execute_result"
    }
   ],
   "source": [
    "fpr, tpr, thresholds = metrics.roc_curve(y_test.values.ravel(), pred, pos_label=1)\n",
    "auc1 = auc(fpr, tpr)\n",
    "acc = accuracy_score(y_test.values.ravel(), pred2)\n",
    "#err = metrics.mean_squared_error(y_test, pred)\n",
    "err = error(y_test.values.ravel(), pred2)\n",
    "res.append({'model':'Random Forest 500','accuracy':acc, 'auc':auc1, 'err':err})\n",
    "res"
   ]
  },
  {
   "cell_type": "markdown",
   "metadata": {},
   "source": [
    "## AdaBoost"
   ]
  },
  {
   "cell_type": "code",
   "execution_count": 36,
   "metadata": {},
   "outputs": [],
   "source": [
    "from sklearn.ensemble import AdaBoostClassifier\n",
    "\n",
    "# Initialize the predictive model object\n",
    "mod_rforest = AdaBoostClassifier(random_state=1)\n",
    "\n",
    "# Train the model using the training sets\n",
    "y_pred = mod_rforest.fit(X_train, y_train.values.ravel())\n",
    "\n",
    "# Make predictions using the testing set\n",
    "pred = mod_rforest.predict(X_test)"
   ]
  },
  {
   "cell_type": "code",
   "execution_count": 37,
   "metadata": {},
   "outputs": [
    {
     "data": {
      "text/html": [
       "<div>\n",
       "<style scoped>\n",
       "    .dataframe tbody tr th:only-of-type {\n",
       "        vertical-align: middle;\n",
       "    }\n",
       "\n",
       "    .dataframe tbody tr th {\n",
       "        vertical-align: top;\n",
       "    }\n",
       "\n",
       "    .dataframe thead th {\n",
       "        text-align: right;\n",
       "    }\n",
       "</style>\n",
       "<table border=\"1\" class=\"dataframe\">\n",
       "  <thead>\n",
       "    <tr style=\"text-align: right;\">\n",
       "      <th>col_0</th>\n",
       "      <th>0</th>\n",
       "      <th>1</th>\n",
       "    </tr>\n",
       "    <tr>\n",
       "      <th>row_0</th>\n",
       "      <th></th>\n",
       "      <th></th>\n",
       "    </tr>\n",
       "  </thead>\n",
       "  <tbody>\n",
       "    <tr>\n",
       "      <th>0</th>\n",
       "      <td>346</td>\n",
       "      <td>78</td>\n",
       "    </tr>\n",
       "    <tr>\n",
       "      <th>1</th>\n",
       "      <td>8</td>\n",
       "      <td>30</td>\n",
       "    </tr>\n",
       "  </tbody>\n",
       "</table>\n",
       "</div>"
      ],
      "text/plain": [
       "col_0    0   1\n",
       "row_0         \n",
       "0      346  78\n",
       "1        8  30"
      ]
     },
     "execution_count": 37,
     "metadata": {},
     "output_type": "execute_result"
    }
   ],
   "source": [
    "pd.crosstab(y_test.values.ravel(), pred)"
   ]
  },
  {
   "cell_type": "code",
   "execution_count": 38,
   "metadata": {},
   "outputs": [
    {
     "data": {
      "text/plain": [
       "[{'model': 'Logistic regression',\n",
       "  'accuracy': 0.7489177489177489,\n",
       "  'auc': 0.743421052631579,\n",
       "  'err': 116},\n",
       " {'model': 'Naive Bayes',\n",
       "  'accuracy': 0.5238095238095238,\n",
       "  'auc': 0.6686941410129096,\n",
       "  'err': 220},\n",
       " {'model': 'CART tree',\n",
       "  'accuracy': 0.8917748917748918,\n",
       "  'auc': 0.6894860973187686,\n",
       "  'err': 50},\n",
       " {'model': 'Random Forest',\n",
       "  'accuracy': 0.7532467532467533,\n",
       "  'auc': 0.7817154915590864,\n",
       "  'err': 114},\n",
       " {'model': 'Random Forest 500',\n",
       "  'accuracy': 0.7056277056277056,\n",
       "  'auc': 0.7817154915590864,\n",
       "  'err': 136},\n",
       " {'model': 'AdaBoost',\n",
       "  'accuracy': 0.8138528138528138,\n",
       "  'auc': 0.8027557100297914,\n",
       "  'err': 86}]"
      ]
     },
     "execution_count": 38,
     "metadata": {},
     "output_type": "execute_result"
    }
   ],
   "source": [
    "fpr, tpr, thresholds = metrics.roc_curve(y_test.values.ravel(), pred, pos_label=1)\n",
    "auc1 = auc(fpr, tpr)\n",
    "acc = accuracy_score(y_test.values.ravel(), pred)\n",
    "#err = metrics.mean_squared_error(y_test, pred)\n",
    "err = error(y_test.values.ravel(), pred)\n",
    "res.append({'model':'AdaBoost','accuracy':acc, 'auc':auc1, 'err':err})\n",
    "res"
   ]
  },
  {
   "cell_type": "markdown",
   "metadata": {},
   "source": [
    "## XGBoost"
   ]
  },
  {
   "cell_type": "code",
   "execution_count": 34,
   "metadata": {},
   "outputs": [
    {
     "name": "stdout",
     "output_type": "stream",
     "text": [
      "Requirement already satisfied: xgboost in c:\\programdata\\anaconda3\\lib\\site-packages (0.81)\n",
      "Requirement already satisfied: scipy in c:\\programdata\\anaconda3\\lib\\site-packages (from xgboost) (1.1.0)\n",
      "Requirement already satisfied: numpy in c:\\programdata\\anaconda3\\lib\\site-packages (from xgboost) (1.15.1)\n"
     ]
    },
    {
     "name": "stderr",
     "output_type": "stream",
     "text": [
      "You are using pip version 18.1, however version 19.0.3 is available.\n",
      "You should consider upgrading via the 'python -m pip install --upgrade pip' command.\n"
     ]
    }
   ],
   "source": [
    "import sys\n",
    "!{sys.executable} -m pip install xgboost\n",
    "#import xgboost as xgb"
   ]
  },
  {
   "cell_type": "code",
   "execution_count": 39,
   "metadata": {},
   "outputs": [],
   "source": [
    "import xgboost as xgb\n",
    "\n",
    "# Transform data to a DMatrix object\n",
    "dtrain = xgb.DMatrix(np.array(X_train), label=y_train.values.ravel())\n",
    "dtest = xgb.DMatrix(np.array(X_test), y_test.values.ravel())\n"
   ]
  },
  {
   "cell_type": "code",
   "execution_count": 40,
   "metadata": {},
   "outputs": [],
   "source": [
    "# Set the parameters for the xgboost\n",
    "param = {'max_depth': 2, 'eta': 1, 'silent': 1, 'objective': 'binary:logistic'}\n",
    "#param['nthread'] = 10\n",
    "param['eval_metric'] = 'rmse'\n",
    "\n",
    "\n",
    "# Train the model using the training sets\n",
    "num_round = 10\n",
    "mod_xgboost = xgb.train(param, dtrain, num_round)\n",
    "\n",
    "# Make predictions using the testing set\n",
    "pred = mod_xgboost.predict(dtest)\n"
   ]
  },
  {
   "cell_type": "code",
   "execution_count": 41,
   "metadata": {},
   "outputs": [
    {
     "data": {
      "text/html": [
       "<div>\n",
       "<style scoped>\n",
       "    .dataframe tbody tr th:only-of-type {\n",
       "        vertical-align: middle;\n",
       "    }\n",
       "\n",
       "    .dataframe tbody tr th {\n",
       "        vertical-align: top;\n",
       "    }\n",
       "\n",
       "    .dataframe thead th {\n",
       "        text-align: right;\n",
       "    }\n",
       "</style>\n",
       "<table border=\"1\" class=\"dataframe\">\n",
       "  <thead>\n",
       "    <tr style=\"text-align: right;\">\n",
       "      <th>col_0</th>\n",
       "      <th>0</th>\n",
       "      <th>1</th>\n",
       "    </tr>\n",
       "    <tr>\n",
       "      <th>row_0</th>\n",
       "      <th></th>\n",
       "      <th></th>\n",
       "    </tr>\n",
       "  </thead>\n",
       "  <tbody>\n",
       "    <tr>\n",
       "      <th>0</th>\n",
       "      <td>350</td>\n",
       "      <td>74</td>\n",
       "    </tr>\n",
       "    <tr>\n",
       "      <th>1</th>\n",
       "      <td>8</td>\n",
       "      <td>30</td>\n",
       "    </tr>\n",
       "  </tbody>\n",
       "</table>\n",
       "</div>"
      ],
      "text/plain": [
       "col_0    0   1\n",
       "row_0         \n",
       "0      350  74\n",
       "1        8  30"
      ]
     },
     "execution_count": 41,
     "metadata": {},
     "output_type": "execute_result"
    }
   ],
   "source": [
    "pred_class = np.where(pred >= 0.5, 1, 0)\n",
    "pd.crosstab(y_test.values.ravel(), pred_class)"
   ]
  },
  {
   "cell_type": "code",
   "execution_count": 42,
   "metadata": {},
   "outputs": [
    {
     "data": {
      "text/plain": [
       "[{'model': 'Logistic regression',\n",
       "  'accuracy': 0.7489177489177489,\n",
       "  'auc': 0.743421052631579,\n",
       "  'err': 116},\n",
       " {'model': 'Naive Bayes',\n",
       "  'accuracy': 0.5238095238095238,\n",
       "  'auc': 0.6686941410129096,\n",
       "  'err': 220},\n",
       " {'model': 'CART tree',\n",
       "  'accuracy': 0.8917748917748918,\n",
       "  'auc': 0.6894860973187686,\n",
       "  'err': 50},\n",
       " {'model': 'Random Forest',\n",
       "  'accuracy': 0.7532467532467533,\n",
       "  'auc': 0.7817154915590864,\n",
       "  'err': 114},\n",
       " {'model': 'Random Forest 500',\n",
       "  'accuracy': 0.7056277056277056,\n",
       "  'auc': 0.7817154915590864,\n",
       "  'err': 136},\n",
       " {'model': 'AdaBoost',\n",
       "  'accuracy': 0.8138528138528138,\n",
       "  'auc': 0.8027557100297914,\n",
       "  'err': 86},\n",
       " {'model': 'XGBoost',\n",
       "  'accuracy': 0.8225108225108225,\n",
       "  'auc': 0.893216236345581,\n",
       "  'err': 82}]"
      ]
     },
     "execution_count": 42,
     "metadata": {},
     "output_type": "execute_result"
    }
   ],
   "source": [
    "fpr, tpr, thresholds = metrics.roc_curve(y_test.values.ravel(), pred, pos_label=1)\n",
    "auc1 = auc(fpr, tpr)\n",
    "acc = accuracy_score(y_test.values.ravel(), pred_class)\n",
    "#err = metrics.mean_squared_error(y_test, pred_class)\n",
    "err = error(y_test.values.ravel(), pred_class)\n",
    "res.append({'model':'XGBoost','accuracy':acc, 'auc':auc1, 'err':err})\n",
    "res"
   ]
  },
  {
   "cell_type": "markdown",
   "metadata": {},
   "source": [
    "## Support Vector Machine"
   ]
  },
  {
   "cell_type": "code",
   "execution_count": 43,
   "metadata": {},
   "outputs": [],
   "source": [
    "from sklearn import svm\n",
    "\n",
    "# Initialize the predictive model object\n",
    "mod_svm = svm.SVC(C=1,gamma=0.1)\n",
    "\n",
    "# Train the model using the training sets\n",
    "y_pred = mod_svm.fit(X_train, y_train.values.ravel())\n",
    "\n",
    "# Make predictions using the testing set\n",
    "pred = mod_svm.predict(X_test)"
   ]
  },
  {
   "cell_type": "code",
   "execution_count": 44,
   "metadata": {},
   "outputs": [
    {
     "data": {
      "text/html": [
       "<div>\n",
       "<style scoped>\n",
       "    .dataframe tbody tr th:only-of-type {\n",
       "        vertical-align: middle;\n",
       "    }\n",
       "\n",
       "    .dataframe tbody tr th {\n",
       "        vertical-align: top;\n",
       "    }\n",
       "\n",
       "    .dataframe thead th {\n",
       "        text-align: right;\n",
       "    }\n",
       "</style>\n",
       "<table border=\"1\" class=\"dataframe\">\n",
       "  <thead>\n",
       "    <tr style=\"text-align: right;\">\n",
       "      <th>col_0</th>\n",
       "      <th>0</th>\n",
       "      <th>1</th>\n",
       "    </tr>\n",
       "    <tr>\n",
       "      <th>row_0</th>\n",
       "      <th></th>\n",
       "      <th></th>\n",
       "    </tr>\n",
       "  </thead>\n",
       "  <tbody>\n",
       "    <tr>\n",
       "      <th>0</th>\n",
       "      <td>406</td>\n",
       "      <td>18</td>\n",
       "    </tr>\n",
       "    <tr>\n",
       "      <th>1</th>\n",
       "      <td>35</td>\n",
       "      <td>3</td>\n",
       "    </tr>\n",
       "  </tbody>\n",
       "</table>\n",
       "</div>"
      ],
      "text/plain": [
       "col_0    0   1\n",
       "row_0         \n",
       "0      406  18\n",
       "1       35   3"
      ]
     },
     "execution_count": 44,
     "metadata": {},
     "output_type": "execute_result"
    }
   ],
   "source": [
    "pd.crosstab(y_test.values.ravel(), pred)"
   ]
  },
  {
   "cell_type": "code",
   "execution_count": 45,
   "metadata": {},
   "outputs": [
    {
     "data": {
      "text/plain": [
       "[{'model': 'Logistic regression',\n",
       "  'accuracy': 0.7489177489177489,\n",
       "  'auc': 0.743421052631579,\n",
       "  'err': 116},\n",
       " {'model': 'Naive Bayes',\n",
       "  'accuracy': 0.5238095238095238,\n",
       "  'auc': 0.6686941410129096,\n",
       "  'err': 220},\n",
       " {'model': 'CART tree',\n",
       "  'accuracy': 0.8917748917748918,\n",
       "  'auc': 0.6894860973187686,\n",
       "  'err': 50},\n",
       " {'model': 'Random Forest',\n",
       "  'accuracy': 0.7532467532467533,\n",
       "  'auc': 0.7817154915590864,\n",
       "  'err': 114},\n",
       " {'model': 'Random Forest 500',\n",
       "  'accuracy': 0.7056277056277056,\n",
       "  'auc': 0.7817154915590864,\n",
       "  'err': 136},\n",
       " {'model': 'AdaBoost',\n",
       "  'accuracy': 0.8138528138528138,\n",
       "  'auc': 0.8027557100297914,\n",
       "  'err': 86},\n",
       " {'model': 'XGBoost',\n",
       "  'accuracy': 0.8225108225108225,\n",
       "  'auc': 0.893216236345581,\n",
       "  'err': 82},\n",
       " {'model': 'SVM',\n",
       "  'accuracy': 0.8852813852813853,\n",
       "  'auc': 0.5182472691161867,\n",
       "  'err': 53}]"
      ]
     },
     "execution_count": 45,
     "metadata": {},
     "output_type": "execute_result"
    }
   ],
   "source": [
    "fpr, tpr, thresholds = metrics.roc_curve(y_test.values.ravel(), pred, pos_label=1)\n",
    "auc1 = auc(fpr, tpr)\n",
    "acc = accuracy_score(y_test.values.ravel(), pred)\n",
    "#err = metrics.mean_squared_error(y_test, pred_class)\n",
    "err = error(y_test.values.ravel(), pred)\n",
    "res.append({'model':'SVM','accuracy':acc, 'auc':auc1, 'err':err})\n",
    "res"
   ]
  },
  {
   "cell_type": "code",
   "execution_count": 46,
   "metadata": {},
   "outputs": [
    {
     "data": {
      "text/html": [
       "<div>\n",
       "<style scoped>\n",
       "    .dataframe tbody tr th:only-of-type {\n",
       "        vertical-align: middle;\n",
       "    }\n",
       "\n",
       "    .dataframe tbody tr th {\n",
       "        vertical-align: top;\n",
       "    }\n",
       "\n",
       "    .dataframe thead th {\n",
       "        text-align: right;\n",
       "    }\n",
       "</style>\n",
       "<table border=\"1\" class=\"dataframe\">\n",
       "  <thead>\n",
       "    <tr style=\"text-align: right;\">\n",
       "      <th></th>\n",
       "      <th>accuracy</th>\n",
       "      <th>auc</th>\n",
       "      <th>err</th>\n",
       "      <th>model</th>\n",
       "    </tr>\n",
       "  </thead>\n",
       "  <tbody>\n",
       "    <tr>\n",
       "      <th>6</th>\n",
       "      <td>0.822511</td>\n",
       "      <td>0.893216</td>\n",
       "      <td>82</td>\n",
       "      <td>XGBoost</td>\n",
       "    </tr>\n",
       "    <tr>\n",
       "      <th>5</th>\n",
       "      <td>0.813853</td>\n",
       "      <td>0.802756</td>\n",
       "      <td>86</td>\n",
       "      <td>AdaBoost</td>\n",
       "    </tr>\n",
       "    <tr>\n",
       "      <th>3</th>\n",
       "      <td>0.753247</td>\n",
       "      <td>0.781715</td>\n",
       "      <td>114</td>\n",
       "      <td>Random Forest</td>\n",
       "    </tr>\n",
       "    <tr>\n",
       "      <th>4</th>\n",
       "      <td>0.705628</td>\n",
       "      <td>0.781715</td>\n",
       "      <td>136</td>\n",
       "      <td>Random Forest 500</td>\n",
       "    </tr>\n",
       "    <tr>\n",
       "      <th>0</th>\n",
       "      <td>0.748918</td>\n",
       "      <td>0.743421</td>\n",
       "      <td>116</td>\n",
       "      <td>Logistic regression</td>\n",
       "    </tr>\n",
       "    <tr>\n",
       "      <th>2</th>\n",
       "      <td>0.891775</td>\n",
       "      <td>0.689486</td>\n",
       "      <td>50</td>\n",
       "      <td>CART tree</td>\n",
       "    </tr>\n",
       "    <tr>\n",
       "      <th>1</th>\n",
       "      <td>0.523810</td>\n",
       "      <td>0.668694</td>\n",
       "      <td>220</td>\n",
       "      <td>Naive Bayes</td>\n",
       "    </tr>\n",
       "    <tr>\n",
       "      <th>7</th>\n",
       "      <td>0.885281</td>\n",
       "      <td>0.518247</td>\n",
       "      <td>53</td>\n",
       "      <td>SVM</td>\n",
       "    </tr>\n",
       "  </tbody>\n",
       "</table>\n",
       "</div>"
      ],
      "text/plain": [
       "   accuracy       auc  err                model\n",
       "6  0.822511  0.893216   82              XGBoost\n",
       "5  0.813853  0.802756   86             AdaBoost\n",
       "3  0.753247  0.781715  114        Random Forest\n",
       "4  0.705628  0.781715  136    Random Forest 500\n",
       "0  0.748918  0.743421  116  Logistic regression\n",
       "2  0.891775  0.689486   50            CART tree\n",
       "1  0.523810  0.668694  220          Naive Bayes\n",
       "7  0.885281  0.518247   53                  SVM"
      ]
     },
     "execution_count": 46,
     "metadata": {},
     "output_type": "execute_result"
    }
   ],
   "source": [
    "pd.DataFrame(res).sort_values(ascending=False,by=['auc','accuracy','err'])"
   ]
  },
  {
   "cell_type": "code",
   "execution_count": null,
   "metadata": {},
   "outputs": [],
   "source": []
  }
 ],
 "metadata": {
  "kernelspec": {
   "display_name": "Python 3",
   "language": "python",
   "name": "python3"
  },
  "language_info": {
   "codemirror_mode": {
    "name": "ipython",
    "version": 3
   },
   "file_extension": ".py",
   "mimetype": "text/x-python",
   "name": "python",
   "nbconvert_exporter": "python",
   "pygments_lexer": "ipython3",
   "version": "3.7.0"
  }
 },
 "nbformat": 4,
 "nbformat_minor": 2
}
