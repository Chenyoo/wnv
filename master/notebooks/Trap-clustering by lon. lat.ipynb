{
 "cells": [
  {
   "cell_type": "code",
   "execution_count": 1,
   "metadata": {},
   "outputs": [
    {
     "name": "stderr",
     "output_type": "stream",
     "text": [
      "\n",
      "Attaching package: 'dplyr'\n",
      "\n",
      "The following objects are masked from 'package:stats':\n",
      "\n",
      "    filter, lag\n",
      "\n",
      "The following objects are masked from 'package:base':\n",
      "\n",
      "    intersect, setdiff, setequal, union\n",
      "\n",
      "Warning message:\n",
      "\"package 'Hmisc' was built under R version 3.5.2\"Loading required package: lattice\n",
      "Loading required package: survival\n",
      "Loading required package: Formula\n",
      "Loading required package: ggplot2\n",
      "\n",
      "Attaching package: 'Hmisc'\n",
      "\n",
      "The following objects are masked from 'package:dplyr':\n",
      "\n",
      "    src, summarize\n",
      "\n",
      "The following objects are masked from 'package:base':\n",
      "\n",
      "    format.pval, units\n",
      "\n",
      "Loading required package: geepack\n",
      "Loading required package: geeM\n",
      "Loading required package: Matrix\n"
     ]
    }
   ],
   "source": [
    "library(dplyr)\n",
    "library(Hmisc)\n",
    "library(MESS)"
   ]
  },
  {
   "cell_type": "code",
   "execution_count": 2,
   "metadata": {},
   "outputs": [
    {
     "name": "stderr",
     "output_type": "stream",
     "text": [
      "Loading required package: fpc\n",
      "Loading required package: dbscan\n",
      "\n",
      "Attaching package: 'dbscan'\n",
      "\n",
      "The following object is masked from 'package:fpc':\n",
      "\n",
      "    dbscan\n",
      "\n",
      "Loading required package: devtools\n",
      "Warning message:\n",
      "\"package 'devtools' was built under R version 3.5.2\"Skipping install of 'factoextra' from a github remote, the SHA1 (1012e1b5) has not changed since last install.\n",
      "  Use `force = TRUE` to force installation\n"
     ]
    }
   ],
   "source": [
    "if(!require(fpc)) install.packages(\"fpc\")\n",
    "if(!require(dbscan)) install.packages(\"dbscan\")\n",
    "if(!require(devtools)) install.packages(\"devtools\")\n",
    "devtools::install_github(\"kassambara/factoextra\")"
   ]
  },
  {
   "cell_type": "code",
   "execution_count": 3,
   "metadata": {},
   "outputs": [
    {
     "name": "stderr",
     "output_type": "stream",
     "text": [
      "\n",
      "Attaching package: 'data.table'\n",
      "\n",
      "The following objects are masked from 'package:dplyr':\n",
      "\n",
      "    between, first, last\n",
      "\n"
     ]
    }
   ],
   "source": [
    "library(data.table)"
   ]
  },
  {
   "cell_type": "code",
   "execution_count": 8,
   "metadata": {},
   "outputs": [],
   "source": [
    "library(NbClust)"
   ]
  },
  {
   "cell_type": "code",
   "execution_count": 9,
   "metadata": {},
   "outputs": [],
   "source": [
    "f9 <- read.csv(file=\"C:/Users/Chen/Project/data/f9.csv\")"
   ]
  },
  {
   "cell_type": "code",
   "execution_count": 10,
   "metadata": {},
   "outputs": [
    {
     "data": {
      "text/html": [
       "<table>\n",
       "<thead><tr><th scope=col>Date</th><th scope=col>ID.OB</th><th scope=col>Month_Yr</th><th scope=col>Address</th><th scope=col>Street</th><th scope=col>Block</th><th scope=col>Latitude</th><th scope=col>Longitude</th><th scope=col>Year</th><th scope=col>Month</th><th scope=col>...</th><th scope=col>HZ</th><th scope=col>RA</th><th scope=col>RA45</th><th scope=col>TS</th><th scope=col>TSRA</th><th scope=col>VCTS</th><th scope=col>pre45_1_2</th><th scope=col>pre45_1</th><th scope=col>pre45_05</th><th scope=col>pre45_052</th></tr></thead>\n",
       "<tbody>\n",
       "\t<tr><td>2007-05-29                                      </td><td>1                                               </td><td>2007-05                                         </td><td>1100 Roosevelt Road, Chicago, IL 60608, USA     </td><td> W ROOSEVELT                                    </td><td>11                                              </td><td>41.86711                                        </td><td>-87.65422                                       </td><td>2007                                            </td><td>5                                               </td><td>...                                             </td><td>1                                               </td><td>0                                               </td><td>15.77226                                        </td><td>0                                               </td><td>0                                               </td><td>0                                               </td><td>1                                               </td><td>1                                               </td><td>1                                               </td><td>1                                               </td></tr>\n",
       "\t<tr><td>2007-05-29                                      </td><td>2                                               </td><td>2007-05                                         </td><td>1100 South Peoria Street, Chicago, IL 60608, USA</td><td> S PEORIA ST                                    </td><td>11                                              </td><td>41.86229                                        </td><td>-87.64886                                       </td><td>2007                                            </td><td>5                                               </td><td>...                                             </td><td>1                                               </td><td>0                                               </td><td>15.77226                                        </td><td>0                                               </td><td>0                                               </td><td>0                                               </td><td>1                                               </td><td>1                                               </td><td>1                                               </td><td>1                                               </td></tr>\n",
       "\t<tr><td>2007-05-29                                      </td><td>3                                               </td><td>2007-05                                         </td><td>1100 West Chicago Avenue, Chicago, IL 60642, USA</td><td> W CHICAGO                                      </td><td>11                                              </td><td>41.89628                                        </td><td>-87.65523                                       </td><td>2007                                            </td><td>5                                               </td><td>...                                             </td><td>1                                               </td><td>0                                               </td><td>15.77226                                        </td><td>0                                               </td><td>0                                               </td><td>0                                               </td><td>1                                               </td><td>1                                               </td><td>1                                               </td><td>1                                               </td></tr>\n",
       "\t<tr><td>2007-05-29                                      </td><td>4                                               </td><td>2007-05                                         </td><td>1500 North Long Avenue, Chicago, IL 60651, USA  </td><td> N LONG AVE                                     </td><td>15                                              </td><td>41.90765                                        </td><td>-87.76089                                       </td><td>2007                                            </td><td>5                                               </td><td>...                                             </td><td>1                                               </td><td>0                                               </td><td>15.77226                                        </td><td>0                                               </td><td>0                                               </td><td>0                                               </td><td>1                                               </td><td>1                                               </td><td>1                                               </td><td>1                                               </td></tr>\n",
       "\t<tr><td>2007-05-29                                      </td><td>5                                               </td><td>2007-05                                         </td><td>1500 West Webster Avenue, Chicago, IL 60614, USA</td><td> W WEBSTER AVE                                  </td><td>15                                              </td><td>41.92160                                        </td><td>-87.66645                                       </td><td>2007                                            </td><td>5                                               </td><td>...                                             </td><td>1                                               </td><td>0                                               </td><td>15.77226                                        </td><td>0                                               </td><td>0                                               </td><td>0                                               </td><td>1                                               </td><td>1                                               </td><td>1                                               </td><td>1                                               </td></tr>\n",
       "\t<tr><td>2007-05-29                                      </td><td>6                                               </td><td>2007-05                                         </td><td>1700 West 95th Street, Chicago, IL 60643, USA   </td><td> W 95TH ST                                      </td><td>17                                              </td><td>41.72085                                        </td><td>-87.66601                                       </td><td>2007                                            </td><td>5                                               </td><td>...                                             </td><td>1                                               </td><td>0                                               </td><td>15.77226                                        </td><td>0                                               </td><td>0                                               </td><td>0                                               </td><td>1                                               </td><td>1                                               </td><td>1                                               </td><td>1                                               </td></tr>\n",
       "</tbody>\n",
       "</table>\n"
      ],
      "text/latex": [
       "\\begin{tabular}{r|llllllllllllllllllllllllllllllllllllllllllllllllllllllllllllllllllll}\n",
       " Date & ID.OB & Month\\_Yr & Address & Street & Block & Latitude & Longitude & Year & Month & ... & HZ & RA & RA45 & TS & TSRA & VCTS & pre45\\_1\\_2 & pre45\\_1 & pre45\\_05 & pre45\\_052\\\\\n",
       "\\hline\n",
       "\t 2007-05-29                                       & 1                                                & 2007-05                                          & 1100 Roosevelt Road, Chicago, IL 60608, USA      &  W ROOSEVELT                                     & 11                                               & 41.86711                                         & -87.65422                                        & 2007                                             & 5                                                & ...                                              & 1                                                & 0                                                & 15.77226                                         & 0                                                & 0                                                & 0                                                & 1                                                & 1                                                & 1                                                & 1                                               \\\\\n",
       "\t 2007-05-29                                       & 2                                                & 2007-05                                          & 1100 South Peoria Street, Chicago, IL 60608, USA &  S PEORIA ST                                     & 11                                               & 41.86229                                         & -87.64886                                        & 2007                                             & 5                                                & ...                                              & 1                                                & 0                                                & 15.77226                                         & 0                                                & 0                                                & 0                                                & 1                                                & 1                                                & 1                                                & 1                                               \\\\\n",
       "\t 2007-05-29                                       & 3                                                & 2007-05                                          & 1100 West Chicago Avenue, Chicago, IL 60642, USA &  W CHICAGO                                       & 11                                               & 41.89628                                         & -87.65523                                        & 2007                                             & 5                                                & ...                                              & 1                                                & 0                                                & 15.77226                                         & 0                                                & 0                                                & 0                                                & 1                                                & 1                                                & 1                                                & 1                                               \\\\\n",
       "\t 2007-05-29                                       & 4                                                & 2007-05                                          & 1500 North Long Avenue, Chicago, IL 60651, USA   &  N LONG AVE                                      & 15                                               & 41.90765                                         & -87.76089                                        & 2007                                             & 5                                                & ...                                              & 1                                                & 0                                                & 15.77226                                         & 0                                                & 0                                                & 0                                                & 1                                                & 1                                                & 1                                                & 1                                               \\\\\n",
       "\t 2007-05-29                                       & 5                                                & 2007-05                                          & 1500 West Webster Avenue, Chicago, IL 60614, USA &  W WEBSTER AVE                                   & 15                                               & 41.92160                                         & -87.66645                                        & 2007                                             & 5                                                & ...                                              & 1                                                & 0                                                & 15.77226                                         & 0                                                & 0                                                & 0                                                & 1                                                & 1                                                & 1                                                & 1                                               \\\\\n",
       "\t 2007-05-29                                       & 6                                                & 2007-05                                          & 1700 West 95th Street, Chicago, IL 60643, USA    &  W 95TH ST                                       & 17                                               & 41.72085                                         & -87.66601                                        & 2007                                             & 5                                                & ...                                              & 1                                                & 0                                                & 15.77226                                         & 0                                                & 0                                                & 0                                                & 1                                                & 1                                                & 1                                                & 1                                               \\\\\n",
       "\\end{tabular}\n"
      ],
      "text/markdown": [
       "\n",
       "Date | ID.OB | Month_Yr | Address | Street | Block | Latitude | Longitude | Year | Month | ... | HZ | RA | RA45 | TS | TSRA | VCTS | pre45_1_2 | pre45_1 | pre45_05 | pre45_052 | \n",
       "|---|---|---|---|---|---|\n",
       "| 2007-05-29                                       | 1                                                | 2007-05                                          | 1100 Roosevelt Road, Chicago, IL 60608, USA      |  W ROOSEVELT                                     | 11                                               | 41.86711                                         | -87.65422                                        | 2007                                             | 5                                                | ...                                              | 1                                                | 0                                                | 15.77226                                         | 0                                                | 0                                                | 0                                                | 1                                                | 1                                                | 1                                                | 1                                                | \n",
       "| 2007-05-29                                       | 2                                                | 2007-05                                          | 1100 South Peoria Street, Chicago, IL 60608, USA |  S PEORIA ST                                     | 11                                               | 41.86229                                         | -87.64886                                        | 2007                                             | 5                                                | ...                                              | 1                                                | 0                                                | 15.77226                                         | 0                                                | 0                                                | 0                                                | 1                                                | 1                                                | 1                                                | 1                                                | \n",
       "| 2007-05-29                                       | 3                                                | 2007-05                                          | 1100 West Chicago Avenue, Chicago, IL 60642, USA |  W CHICAGO                                       | 11                                               | 41.89628                                         | -87.65523                                        | 2007                                             | 5                                                | ...                                              | 1                                                | 0                                                | 15.77226                                         | 0                                                | 0                                                | 0                                                | 1                                                | 1                                                | 1                                                | 1                                                | \n",
       "| 2007-05-29                                       | 4                                                | 2007-05                                          | 1500 North Long Avenue, Chicago, IL 60651, USA   |  N LONG AVE                                      | 15                                               | 41.90765                                         | -87.76089                                        | 2007                                             | 5                                                | ...                                              | 1                                                | 0                                                | 15.77226                                         | 0                                                | 0                                                | 0                                                | 1                                                | 1                                                | 1                                                | 1                                                | \n",
       "| 2007-05-29                                       | 5                                                | 2007-05                                          | 1500 West Webster Avenue, Chicago, IL 60614, USA |  W WEBSTER AVE                                   | 15                                               | 41.92160                                         | -87.66645                                        | 2007                                             | 5                                                | ...                                              | 1                                                | 0                                                | 15.77226                                         | 0                                                | 0                                                | 0                                                | 1                                                | 1                                                | 1                                                | 1                                                | \n",
       "| 2007-05-29                                       | 6                                                | 2007-05                                          | 1700 West 95th Street, Chicago, IL 60643, USA    |  W 95TH ST                                       | 17                                               | 41.72085                                         | -87.66601                                        | 2007                                             | 5                                                | ...                                              | 1                                                | 0                                                | 15.77226                                         | 0                                                | 0                                                | 0                                                | 1                                                | 1                                                | 1                                                | 1                                                | \n",
       "\n",
       "\n"
      ],
      "text/plain": [
       "  Date       ID.OB Month_Yr Address                                         \n",
       "1 2007-05-29 1     2007-05  1100 Roosevelt Road, Chicago, IL 60608, USA     \n",
       "2 2007-05-29 2     2007-05  1100 South Peoria Street, Chicago, IL 60608, USA\n",
       "3 2007-05-29 3     2007-05  1100 West Chicago Avenue, Chicago, IL 60642, USA\n",
       "4 2007-05-29 4     2007-05  1500 North Long Avenue, Chicago, IL 60651, USA  \n",
       "5 2007-05-29 5     2007-05  1500 West Webster Avenue, Chicago, IL 60614, USA\n",
       "6 2007-05-29 6     2007-05  1700 West 95th Street, Chicago, IL 60643, USA   \n",
       "  Street         Block Latitude Longitude Year Month ... HZ RA RA45     TS TSRA\n",
       "1  W ROOSEVELT   11    41.86711 -87.65422 2007 5     ... 1  0  15.77226 0  0   \n",
       "2  S PEORIA ST   11    41.86229 -87.64886 2007 5     ... 1  0  15.77226 0  0   \n",
       "3  W CHICAGO     11    41.89628 -87.65523 2007 5     ... 1  0  15.77226 0  0   \n",
       "4  N LONG AVE    15    41.90765 -87.76089 2007 5     ... 1  0  15.77226 0  0   \n",
       "5  W WEBSTER AVE 15    41.92160 -87.66645 2007 5     ... 1  0  15.77226 0  0   \n",
       "6  W 95TH ST     17    41.72085 -87.66601 2007 5     ... 1  0  15.77226 0  0   \n",
       "  VCTS pre45_1_2 pre45_1 pre45_05 pre45_052\n",
       "1 0    1         1       1        1        \n",
       "2 0    1         1       1        1        \n",
       "3 0    1         1       1        1        \n",
       "4 0    1         1       1        1        \n",
       "5 0    1         1       1        1        \n",
       "6 0    1         1       1        1        "
      ]
     },
     "metadata": {},
     "output_type": "display_data"
    },
    {
     "name": "stdout",
     "output_type": "stream",
     "text": [
      "'data.frame':\t4616 obs. of  68 variables:\n",
      " $ Date                  : Factor w/ 95 levels \"2007-05-29\",\"2007-06-05\",..: 1 1 1 1 1 1 1 1 1 1 ...\n",
      " $ ID.OB                 : int  1 2 3 4 5 6 7 8 9 10 ...\n",
      " $ Month_Yr              : Factor w/ 20 levels \"2007-05\",\"2007-06\",..: 1 1 1 1 1 1 1 1 1 1 ...\n",
      " $ Address               : Factor w/ 138 levels \"1000 East 67th Street, Chicago, IL 60637, USA\",..: 6 8 10 14 16 19 26 28 29 32 ...\n",
      " $ Street                : Factor w/ 128 levels \"  W ARMITAGE AVENUE\",..: 124 75 108 27 128 103 42 18 88 102 ...\n",
      " $ Block                 : int  11 11 11 15 15 17 21 22 22 22 ...\n",
      " $ Latitude              : num  41.9 41.9 41.9 41.9 41.9 ...\n",
      " $ Longitude             : num  -87.7 -87.6 -87.7 -87.8 -87.7 ...\n",
      " $ Year                  : int  2007 2007 2007 2007 2007 2007 2007 2007 2007 2007 ...\n",
      " $ Month                 : int  5 5 5 5 5 5 5 5 5 5 ...\n",
      " $ Season_code_1         : int  1 1 1 1 1 1 1 1 1 1 ...\n",
      " $ Season_code_2         : int  0 0 0 0 0 0 0 0 0 0 ...\n",
      " $ Season_code_3         : int  0 0 0 0 0 0 0 0 0 0 ...\n",
      " $ TrapM                 : int  48 91 49 153 45 94 50 54 86 96 ...\n",
      " $ CULEX_ERRATICUS       : int  0 0 0 0 0 0 0 0 0 0 ...\n",
      " $ CULEX_PIPIENS         : int  0 0 0 0 0 0 0 0 0 1 ...\n",
      " $ CULEX_PIPIENS_RESTUANS: int  1 0 0 0 0 0 1 2 1 0 ...\n",
      " $ CULEX_RESTUANS        : int  2 1 1 1 2 3 0 3 1 5 ...\n",
      " $ CULEX_SALINARIUS      : int  0 0 0 0 0 0 0 0 0 0 ...\n",
      " $ CULEX_TARSALIS        : int  0 0 0 0 0 0 0 0 0 0 ...\n",
      " $ CULEX_TERRITANS       : int  0 0 0 0 0 0 0 0 0 0 ...\n",
      " $ ParasiticIn.          : num  0.26 0.26 0.26 0.26 0.26 0.26 0.26 0.26 0.26 0.26 ...\n",
      " $ Influenza.            : num  0.8 0.8 0.8 0.8 0.8 0.8 0.8 0.8 0.8 0.8 ...\n",
      " $ WnvPresentB           : int  0 0 0 0 0 0 0 0 0 0 ...\n",
      " $ Tmax2                 : int  88 88 88 88 88 88 88 88 88 88 ...\n",
      " $ Tmin2                 : int  65 65 65 65 65 65 65 65 65 65 ...\n",
      " $ Tavg2                 : int  42 42 42 42 42 42 42 42 42 42 ...\n",
      " $ WetBulb2              : int  35 35 35 35 35 35 35 35 35 35 ...\n",
      " $ Heat2                 : int  1 1 1 1 1 1 1 1 1 1 ...\n",
      " $ PrecipTotal2          : num  0 0 0 0 0 0 0 0 0 0 ...\n",
      " $ StnPressure2          : num  29.4 29.4 29.4 29.4 29.4 ...\n",
      " $ ResultDir2            : int  16 16 16 16 16 16 16 16 16 16 ...\n",
      " $ AvgSpeed2             : num  7.4 7.4 7.4 7.4 7.4 7.4 7.4 7.4 7.4 7.4 ...\n",
      " $ DZ2                   : int  0 0 0 0 0 0 0 0 0 0 ...\n",
      " $ FG2                   : int  0 0 0 0 0 0 0 0 0 0 ...\n",
      " $ HZ2                   : int  1 1 1 1 1 1 1 1 1 1 ...\n",
      " $ RA2                   : int  0 0 0 0 0 0 0 0 0 0 ...\n",
      " $ RA45.2                : num  13.3 13.3 13.3 13.3 13.3 ...\n",
      " $ BR2                   : int  1 1 1 1 1 1 1 1 1 1 ...\n",
      " $ TS2                   : int  0 0 0 0 0 0 0 0 0 0 ...\n",
      " $ TSRA2                 : int  0 0 0 0 0 0 0 0 0 0 ...\n",
      " $ VCTS2                 : int  0 0 0 0 0 0 0 0 0 0 ...\n",
      " $ Tmax                  : int  88 88 88 88 88 88 88 88 88 88 ...\n",
      " $ Tmin                  : int  60 60 60 60 60 60 60 60 60 60 ...\n",
      " $ Tavg                  : int  39 39 39 39 39 39 39 39 39 39 ...\n",
      " $ Depart                : int  28 28 28 28 28 28 28 28 28 28 ...\n",
      " $ DewPoint              : int  58 58 58 58 58 58 58 58 58 58 ...\n",
      " $ Heat                  : int  1 1 1 1 1 1 1 1 1 1 ...\n",
      " $ Cool                  : int  10 10 10 10 10 10 10 10 10 10 ...\n",
      " $ Sunrise               : int  421 421 421 421 421 421 421 421 421 421 ...\n",
      " $ Sunset                : int  1917 1917 1917 1917 1917 1917 1917 1917 1917 1917 ...\n",
      " $ PrecipTotal           : num  0 0 0 0 0 0 0 0 0 0 ...\n",
      " $ ResultSpeed           : num  5.8 5.8 5.8 5.8 5.8 5.8 5.8 5.8 5.8 5.8 ...\n",
      " $ ResultDir             : int  18 18 18 18 18 18 18 18 18 18 ...\n",
      " $ AvgSpeed              : num  6.5 6.5 6.5 6.5 6.5 6.5 6.5 6.5 6.5 6.5 ...\n",
      " $ BR                    : int  1 1 1 1 1 1 1 1 1 1 ...\n",
      " $ DZ                    : int  0 0 0 0 0 0 0 0 0 0 ...\n",
      " $ FG                    : int  0 0 0 0 0 0 0 0 0 0 ...\n",
      " $ HZ                    : int  1 1 1 1 1 1 1 1 1 1 ...\n",
      " $ RA                    : int  0 0 0 0 0 0 0 0 0 0 ...\n",
      " $ RA45                  : num  15.8 15.8 15.8 15.8 15.8 ...\n",
      " $ TS                    : int  0 0 0 0 0 0 0 0 0 0 ...\n",
      " $ TSRA                  : int  0 0 0 0 0 0 0 0 0 0 ...\n",
      " $ VCTS                  : int  0 0 0 0 0 0 0 0 0 0 ...\n",
      " $ pre45_1_2             : int  1 1 1 1 1 1 1 1 1 1 ...\n",
      " $ pre45_1               : int  1 1 1 1 1 1 1 1 1 1 ...\n",
      " $ pre45_05              : int  1 1 1 1 1 1 1 1 1 1 ...\n",
      " $ pre45_052             : int  1 1 1 1 1 1 1 1 1 1 ...\n"
     ]
    }
   ],
   "source": [
    "head(f9)\n",
    "str(f9)"
   ]
  },
  {
   "cell_type": "code",
   "execution_count": 11,
   "metadata": {},
   "outputs": [
    {
     "data": {
      "text/html": [
       "<ol class=list-inline>\n",
       "\t<li>'Date'</li>\n",
       "\t<li>'ID.OB'</li>\n",
       "\t<li>'Month_Yr'</li>\n",
       "\t<li>'Address'</li>\n",
       "\t<li>'Street'</li>\n",
       "\t<li>'Block'</li>\n",
       "\t<li>'Latitude'</li>\n",
       "\t<li>'Longitude'</li>\n",
       "\t<li>'Year'</li>\n",
       "\t<li>'Month'</li>\n",
       "\t<li>'Season_code_1'</li>\n",
       "\t<li>'Season_code_2'</li>\n",
       "\t<li>'Season_code_3'</li>\n",
       "\t<li>'TrapM'</li>\n",
       "\t<li>'CULEX_ERRATICUS'</li>\n",
       "\t<li>'CULEX_PIPIENS'</li>\n",
       "\t<li>'CULEX_PIPIENS_RESTUANS'</li>\n",
       "\t<li>'CULEX_RESTUANS'</li>\n",
       "\t<li>'CULEX_SALINARIUS'</li>\n",
       "\t<li>'CULEX_TARSALIS'</li>\n",
       "\t<li>'CULEX_TERRITANS'</li>\n",
       "\t<li>'ParasiticIn.'</li>\n",
       "\t<li>'Influenza.'</li>\n",
       "\t<li>'WnvPresentB'</li>\n",
       "\t<li>'Tmax2'</li>\n",
       "\t<li>'Tmin2'</li>\n",
       "\t<li>'Tavg2'</li>\n",
       "\t<li>'WetBulb2'</li>\n",
       "\t<li>'Heat2'</li>\n",
       "\t<li>'PrecipTotal2'</li>\n",
       "\t<li>'StnPressure2'</li>\n",
       "\t<li>'ResultDir2'</li>\n",
       "\t<li>'AvgSpeed2'</li>\n",
       "\t<li>'DZ2'</li>\n",
       "\t<li>'FG2'</li>\n",
       "\t<li>'HZ2'</li>\n",
       "\t<li>'RA2'</li>\n",
       "\t<li>'RA45.2'</li>\n",
       "\t<li>'BR2'</li>\n",
       "\t<li>'TS2'</li>\n",
       "\t<li>'TSRA2'</li>\n",
       "\t<li>'VCTS2'</li>\n",
       "\t<li>'Tmax'</li>\n",
       "\t<li>'Tmin'</li>\n",
       "\t<li>'Tavg'</li>\n",
       "\t<li>'Depart'</li>\n",
       "\t<li>'DewPoint'</li>\n",
       "\t<li>'Heat'</li>\n",
       "\t<li>'Cool'</li>\n",
       "\t<li>'Sunrise'</li>\n",
       "\t<li>'Sunset'</li>\n",
       "\t<li>'PrecipTotal'</li>\n",
       "\t<li>'ResultSpeed'</li>\n",
       "\t<li>'ResultDir'</li>\n",
       "\t<li>'AvgSpeed'</li>\n",
       "\t<li>'BR'</li>\n",
       "\t<li>'DZ'</li>\n",
       "\t<li>'FG'</li>\n",
       "\t<li>'HZ'</li>\n",
       "\t<li>'RA'</li>\n",
       "\t<li>'RA45'</li>\n",
       "\t<li>'TS'</li>\n",
       "\t<li>'TSRA'</li>\n",
       "\t<li>'VCTS'</li>\n",
       "\t<li>'pre45_1_2'</li>\n",
       "\t<li>'pre45_1'</li>\n",
       "\t<li>'pre45_05'</li>\n",
       "\t<li>'pre45_052'</li>\n",
       "</ol>\n"
      ],
      "text/latex": [
       "\\begin{enumerate*}\n",
       "\\item 'Date'\n",
       "\\item 'ID.OB'\n",
       "\\item 'Month\\_Yr'\n",
       "\\item 'Address'\n",
       "\\item 'Street'\n",
       "\\item 'Block'\n",
       "\\item 'Latitude'\n",
       "\\item 'Longitude'\n",
       "\\item 'Year'\n",
       "\\item 'Month'\n",
       "\\item 'Season\\_code\\_1'\n",
       "\\item 'Season\\_code\\_2'\n",
       "\\item 'Season\\_code\\_3'\n",
       "\\item 'TrapM'\n",
       "\\item 'CULEX\\_ERRATICUS'\n",
       "\\item 'CULEX\\_PIPIENS'\n",
       "\\item 'CULEX\\_PIPIENS\\_RESTUANS'\n",
       "\\item 'CULEX\\_RESTUANS'\n",
       "\\item 'CULEX\\_SALINARIUS'\n",
       "\\item 'CULEX\\_TARSALIS'\n",
       "\\item 'CULEX\\_TERRITANS'\n",
       "\\item 'ParasiticIn.'\n",
       "\\item 'Influenza.'\n",
       "\\item 'WnvPresentB'\n",
       "\\item 'Tmax2'\n",
       "\\item 'Tmin2'\n",
       "\\item 'Tavg2'\n",
       "\\item 'WetBulb2'\n",
       "\\item 'Heat2'\n",
       "\\item 'PrecipTotal2'\n",
       "\\item 'StnPressure2'\n",
       "\\item 'ResultDir2'\n",
       "\\item 'AvgSpeed2'\n",
       "\\item 'DZ2'\n",
       "\\item 'FG2'\n",
       "\\item 'HZ2'\n",
       "\\item 'RA2'\n",
       "\\item 'RA45.2'\n",
       "\\item 'BR2'\n",
       "\\item 'TS2'\n",
       "\\item 'TSRA2'\n",
       "\\item 'VCTS2'\n",
       "\\item 'Tmax'\n",
       "\\item 'Tmin'\n",
       "\\item 'Tavg'\n",
       "\\item 'Depart'\n",
       "\\item 'DewPoint'\n",
       "\\item 'Heat'\n",
       "\\item 'Cool'\n",
       "\\item 'Sunrise'\n",
       "\\item 'Sunset'\n",
       "\\item 'PrecipTotal'\n",
       "\\item 'ResultSpeed'\n",
       "\\item 'ResultDir'\n",
       "\\item 'AvgSpeed'\n",
       "\\item 'BR'\n",
       "\\item 'DZ'\n",
       "\\item 'FG'\n",
       "\\item 'HZ'\n",
       "\\item 'RA'\n",
       "\\item 'RA45'\n",
       "\\item 'TS'\n",
       "\\item 'TSRA'\n",
       "\\item 'VCTS'\n",
       "\\item 'pre45\\_1\\_2'\n",
       "\\item 'pre45\\_1'\n",
       "\\item 'pre45\\_05'\n",
       "\\item 'pre45\\_052'\n",
       "\\end{enumerate*}\n"
      ],
      "text/markdown": [
       "1. 'Date'\n",
       "2. 'ID.OB'\n",
       "3. 'Month_Yr'\n",
       "4. 'Address'\n",
       "5. 'Street'\n",
       "6. 'Block'\n",
       "7. 'Latitude'\n",
       "8. 'Longitude'\n",
       "9. 'Year'\n",
       "10. 'Month'\n",
       "11. 'Season_code_1'\n",
       "12. 'Season_code_2'\n",
       "13. 'Season_code_3'\n",
       "14. 'TrapM'\n",
       "15. 'CULEX_ERRATICUS'\n",
       "16. 'CULEX_PIPIENS'\n",
       "17. 'CULEX_PIPIENS_RESTUANS'\n",
       "18. 'CULEX_RESTUANS'\n",
       "19. 'CULEX_SALINARIUS'\n",
       "20. 'CULEX_TARSALIS'\n",
       "21. 'CULEX_TERRITANS'\n",
       "22. 'ParasiticIn.'\n",
       "23. 'Influenza.'\n",
       "24. 'WnvPresentB'\n",
       "25. 'Tmax2'\n",
       "26. 'Tmin2'\n",
       "27. 'Tavg2'\n",
       "28. 'WetBulb2'\n",
       "29. 'Heat2'\n",
       "30. 'PrecipTotal2'\n",
       "31. 'StnPressure2'\n",
       "32. 'ResultDir2'\n",
       "33. 'AvgSpeed2'\n",
       "34. 'DZ2'\n",
       "35. 'FG2'\n",
       "36. 'HZ2'\n",
       "37. 'RA2'\n",
       "38. 'RA45.2'\n",
       "39. 'BR2'\n",
       "40. 'TS2'\n",
       "41. 'TSRA2'\n",
       "42. 'VCTS2'\n",
       "43. 'Tmax'\n",
       "44. 'Tmin'\n",
       "45. 'Tavg'\n",
       "46. 'Depart'\n",
       "47. 'DewPoint'\n",
       "48. 'Heat'\n",
       "49. 'Cool'\n",
       "50. 'Sunrise'\n",
       "51. 'Sunset'\n",
       "52. 'PrecipTotal'\n",
       "53. 'ResultSpeed'\n",
       "54. 'ResultDir'\n",
       "55. 'AvgSpeed'\n",
       "56. 'BR'\n",
       "57. 'DZ'\n",
       "58. 'FG'\n",
       "59. 'HZ'\n",
       "60. 'RA'\n",
       "61. 'RA45'\n",
       "62. 'TS'\n",
       "63. 'TSRA'\n",
       "64. 'VCTS'\n",
       "65. 'pre45_1_2'\n",
       "66. 'pre45_1'\n",
       "67. 'pre45_05'\n",
       "68. 'pre45_052'\n",
       "\n",
       "\n"
      ],
      "text/plain": [
       " [1] \"Date\"                   \"ID.OB\"                  \"Month_Yr\"              \n",
       " [4] \"Address\"                \"Street\"                 \"Block\"                 \n",
       " [7] \"Latitude\"               \"Longitude\"              \"Year\"                  \n",
       "[10] \"Month\"                  \"Season_code_1\"          \"Season_code_2\"         \n",
       "[13] \"Season_code_3\"          \"TrapM\"                  \"CULEX_ERRATICUS\"       \n",
       "[16] \"CULEX_PIPIENS\"          \"CULEX_PIPIENS_RESTUANS\" \"CULEX_RESTUANS\"        \n",
       "[19] \"CULEX_SALINARIUS\"       \"CULEX_TARSALIS\"         \"CULEX_TERRITANS\"       \n",
       "[22] \"ParasiticIn.\"           \"Influenza.\"             \"WnvPresentB\"           \n",
       "[25] \"Tmax2\"                  \"Tmin2\"                  \"Tavg2\"                 \n",
       "[28] \"WetBulb2\"               \"Heat2\"                  \"PrecipTotal2\"          \n",
       "[31] \"StnPressure2\"           \"ResultDir2\"             \"AvgSpeed2\"             \n",
       "[34] \"DZ2\"                    \"FG2\"                    \"HZ2\"                   \n",
       "[37] \"RA2\"                    \"RA45.2\"                 \"BR2\"                   \n",
       "[40] \"TS2\"                    \"TSRA2\"                  \"VCTS2\"                 \n",
       "[43] \"Tmax\"                   \"Tmin\"                   \"Tavg\"                  \n",
       "[46] \"Depart\"                 \"DewPoint\"               \"Heat\"                  \n",
       "[49] \"Cool\"                   \"Sunrise\"                \"Sunset\"                \n",
       "[52] \"PrecipTotal\"            \"ResultSpeed\"            \"ResultDir\"             \n",
       "[55] \"AvgSpeed\"               \"BR\"                     \"DZ\"                    \n",
       "[58] \"FG\"                     \"HZ\"                     \"RA\"                    \n",
       "[61] \"RA45\"                   \"TS\"                     \"TSRA\"                  \n",
       "[64] \"VCTS\"                   \"pre45_1_2\"              \"pre45_1\"               \n",
       "[67] \"pre45_05\"               \"pre45_052\"             "
      ]
     },
     "metadata": {},
     "output_type": "display_data"
    }
   ],
   "source": [
    "colnames(f9)"
   ]
  },
  {
   "cell_type": "code",
   "execution_count": 12,
   "metadata": {},
   "outputs": [
    {
     "data": {
      "text/html": [
       "<ol class=list-inline>\n",
       "\t<li>4616</li>\n",
       "\t<li>4</li>\n",
       "</ol>\n"
      ],
      "text/latex": [
       "\\begin{enumerate*}\n",
       "\\item 4616\n",
       "\\item 4\n",
       "\\end{enumerate*}\n"
      ],
      "text/markdown": [
       "1. 4616\n",
       "2. 4\n",
       "\n",
       "\n"
      ],
      "text/plain": [
       "[1] 4616    4"
      ]
     },
     "metadata": {},
     "output_type": "display_data"
    }
   ],
   "source": [
    "var<-c('ID.OB','Latitude', 'Longitude','TrapM' )\n",
    "tc<-f9[var]\n",
    "dim(tc)"
   ]
  },
  {
   "cell_type": "code",
   "execution_count": 13,
   "metadata": {},
   "outputs": [
    {
     "data": {
      "text/html": [
       "<table>\n",
       "<thead><tr><th scope=col>ID.OB</th><th scope=col>Latitude</th><th scope=col>Longitude</th><th scope=col>TrapM</th></tr></thead>\n",
       "<tbody>\n",
       "\t<tr><td>1        </td><td>41.86711 </td><td>-87.65422</td><td> 48      </td></tr>\n",
       "\t<tr><td>2        </td><td>41.86229 </td><td>-87.64886</td><td> 91      </td></tr>\n",
       "\t<tr><td>3        </td><td>41.89628 </td><td>-87.65523</td><td> 49      </td></tr>\n",
       "\t<tr><td>4        </td><td>41.90765 </td><td>-87.76089</td><td>153      </td></tr>\n",
       "\t<tr><td>5        </td><td>41.92160 </td><td>-87.66645</td><td> 45      </td></tr>\n",
       "\t<tr><td>6        </td><td>41.72085 </td><td>-87.66601</td><td> 94      </td></tr>\n",
       "</tbody>\n",
       "</table>\n"
      ],
      "text/latex": [
       "\\begin{tabular}{r|llll}\n",
       " ID.OB & Latitude & Longitude & TrapM\\\\\n",
       "\\hline\n",
       "\t 1         & 41.86711  & -87.65422 &  48      \\\\\n",
       "\t 2         & 41.86229  & -87.64886 &  91      \\\\\n",
       "\t 3         & 41.89628  & -87.65523 &  49      \\\\\n",
       "\t 4         & 41.90765  & -87.76089 & 153      \\\\\n",
       "\t 5         & 41.92160  & -87.66645 &  45      \\\\\n",
       "\t 6         & 41.72085  & -87.66601 &  94      \\\\\n",
       "\\end{tabular}\n"
      ],
      "text/markdown": [
       "\n",
       "ID.OB | Latitude | Longitude | TrapM | \n",
       "|---|---|---|---|---|---|\n",
       "| 1         | 41.86711  | -87.65422 |  48       | \n",
       "| 2         | 41.86229  | -87.64886 |  91       | \n",
       "| 3         | 41.89628  | -87.65523 |  49       | \n",
       "| 4         | 41.90765  | -87.76089 | 153       | \n",
       "| 5         | 41.92160  | -87.66645 |  45       | \n",
       "| 6         | 41.72085  | -87.66601 |  94       | \n",
       "\n",
       "\n"
      ],
      "text/plain": [
       "  ID.OB Latitude Longitude TrapM\n",
       "1 1     41.86711 -87.65422  48  \n",
       "2 2     41.86229 -87.64886  91  \n",
       "3 3     41.89628 -87.65523  49  \n",
       "4 4     41.90765 -87.76089 153  \n",
       "5 5     41.92160 -87.66645  45  \n",
       "6 6     41.72085 -87.66601  94  "
      ]
     },
     "metadata": {},
     "output_type": "display_data"
    },
    {
     "name": "stdout",
     "output_type": "stream",
     "text": [
      "'data.frame':\t4616 obs. of  4 variables:\n",
      " $ ID.OB    : int  1 2 3 4 5 6 7 8 9 10 ...\n",
      " $ Latitude : num  41.9 41.9 41.9 41.9 41.9 ...\n",
      " $ Longitude: num  -87.7 -87.6 -87.7 -87.8 -87.7 ...\n",
      " $ TrapM    : int  48 91 49 153 45 94 50 54 86 96 ...\n"
     ]
    }
   ],
   "source": [
    "head(tc)\n",
    "str(tc)"
   ]
  },
  {
   "cell_type": "code",
   "execution_count": 14,
   "metadata": {},
   "outputs": [
    {
     "data": {
      "text/plain": [
       "tc \n",
       "\n",
       " 4  Variables      4616  Observations\n",
       "--------------------------------------------------------------------------------\n",
       "ID.OB \n",
       "       n  missing distinct     Info     Mean      Gmd      .05      .10 \n",
       "    4616        0     4616        1     2308     1539    231.8    462.5 \n",
       "     .25      .50      .75      .90      .95 \n",
       "  1154.8   2308.5   3462.2   4154.5   4385.2 \n",
       "\n",
       "lowest :    1    2    3    4    5, highest: 4612 4613 4614 4615 4616\n",
       "--------------------------------------------------------------------------------\n",
       "Latitude \n",
       "       n  missing distinct     Info     Mean      Gmd      .05      .10 \n",
       "    4616        0      138        1    41.85   0.1209    41.68    41.70 \n",
       "     .25      .50      .75      .90      .95 \n",
       "   41.75    41.86    41.94    41.99    41.99 \n",
       "\n",
       "lowest : 41.64461 41.65911 41.66201 41.67341 41.67862\n",
       "highest: 42.00831 42.00988 42.01041 42.01160 42.01743\n",
       "--------------------------------------------------------------------------------\n",
       "Longitude \n",
       "       n  missing distinct     Info     Mean      Gmd      .05      .10 \n",
       "    4616        0      138        1   -87.69  0.09147   -87.81   -87.80 \n",
       "     .25      .50      .75      .90      .95 \n",
       "  -87.75   -87.69   -87.65   -87.59   -87.56 \n",
       "\n",
       "lowest : -87.93099 -87.89061 -87.86299 -87.83276 -87.82481\n",
       "highest: -87.53869 -87.53650 -87.53520 -87.53166 -87.53163\n",
       "--------------------------------------------------------------------------------\n",
       "TrapM \n",
       "       n  missing distinct     Info     Mean      Gmd      .05      .10 \n",
       "    4616        0      134        1    118.7    111.5        8       13 \n",
       "     .25      .50      .75      .90      .95 \n",
       "      46       88      153      223      231 \n",
       "\n",
       "lowest :   1   2   3   4   5, highest: 236 237 238 900 903\n",
       "--------------------------------------------------------------------------------"
      ]
     },
     "metadata": {},
     "output_type": "display_data"
    }
   ],
   "source": [
    "describe(tc)"
   ]
  },
  {
   "cell_type": "code",
   "execution_count": 18,
   "metadata": {},
   "outputs": [],
   "source": [
    "dtc = tc %>% distinct(Longitude)"
   ]
  },
  {
   "cell_type": "code",
   "execution_count": 19,
   "metadata": {},
   "outputs": [
    {
     "data": {
      "text/html": [
       "<ol class=list-inline>\n",
       "\t<li>138</li>\n",
       "\t<li>1</li>\n",
       "</ol>\n"
      ],
      "text/latex": [
       "\\begin{enumerate*}\n",
       "\\item 138\n",
       "\\item 1\n",
       "\\end{enumerate*}\n"
      ],
      "text/markdown": [
       "1. 138\n",
       "2. 1\n",
       "\n",
       "\n"
      ],
      "text/plain": [
       "[1] 138   1"
      ]
     },
     "metadata": {},
     "output_type": "display_data"
    }
   ],
   "source": [
    "dim(dtc)"
   ]
  },
  {
   "cell_type": "code",
   "execution_count": 27,
   "metadata": {},
   "outputs": [],
   "source": [
    "tcu <- tc[!duplicated(tc$Longitude), ]"
   ]
  },
  {
   "cell_type": "code",
   "execution_count": 29,
   "metadata": {},
   "outputs": [
    {
     "data": {
      "text/html": [
       "<table>\n",
       "<thead><tr><th scope=col>ID.OB</th><th scope=col>Latitude</th><th scope=col>Longitude</th><th scope=col>TrapM</th></tr></thead>\n",
       "<tbody>\n",
       "\t<tr><td>1        </td><td>41.86711 </td><td>-87.65422</td><td> 48      </td></tr>\n",
       "\t<tr><td>2        </td><td>41.86229 </td><td>-87.64886</td><td> 91      </td></tr>\n",
       "\t<tr><td>3        </td><td>41.89628 </td><td>-87.65523</td><td> 49      </td></tr>\n",
       "\t<tr><td>4        </td><td>41.90765 </td><td>-87.76089</td><td>153      </td></tr>\n",
       "\t<tr><td>5        </td><td>41.92160 </td><td>-87.66645</td><td> 45      </td></tr>\n",
       "\t<tr><td>6        </td><td>41.72085 </td><td>-87.66601</td><td> 94      </td></tr>\n",
       "</tbody>\n",
       "</table>\n"
      ],
      "text/latex": [
       "\\begin{tabular}{r|llll}\n",
       " ID.OB & Latitude & Longitude & TrapM\\\\\n",
       "\\hline\n",
       "\t 1         & 41.86711  & -87.65422 &  48      \\\\\n",
       "\t 2         & 41.86229  & -87.64886 &  91      \\\\\n",
       "\t 3         & 41.89628  & -87.65523 &  49      \\\\\n",
       "\t 4         & 41.90765  & -87.76089 & 153      \\\\\n",
       "\t 5         & 41.92160  & -87.66645 &  45      \\\\\n",
       "\t 6         & 41.72085  & -87.66601 &  94      \\\\\n",
       "\\end{tabular}\n"
      ],
      "text/markdown": [
       "\n",
       "ID.OB | Latitude | Longitude | TrapM | \n",
       "|---|---|---|---|---|---|\n",
       "| 1         | 41.86711  | -87.65422 |  48       | \n",
       "| 2         | 41.86229  | -87.64886 |  91       | \n",
       "| 3         | 41.89628  | -87.65523 |  49       | \n",
       "| 4         | 41.90765  | -87.76089 | 153       | \n",
       "| 5         | 41.92160  | -87.66645 |  45       | \n",
       "| 6         | 41.72085  | -87.66601 |  94       | \n",
       "\n",
       "\n"
      ],
      "text/plain": [
       "  ID.OB Latitude Longitude TrapM\n",
       "1 1     41.86711 -87.65422  48  \n",
       "2 2     41.86229 -87.64886  91  \n",
       "3 3     41.89628 -87.65523  49  \n",
       "4 4     41.90765 -87.76089 153  \n",
       "5 5     41.92160 -87.66645  45  \n",
       "6 6     41.72085 -87.66601  94  "
      ]
     },
     "metadata": {},
     "output_type": "display_data"
    },
    {
     "data": {
      "text/html": [
       "<ol class=list-inline>\n",
       "\t<li>138</li>\n",
       "\t<li>4</li>\n",
       "</ol>\n"
      ],
      "text/latex": [
       "\\begin{enumerate*}\n",
       "\\item 138\n",
       "\\item 4\n",
       "\\end{enumerate*}\n"
      ],
      "text/markdown": [
       "1. 138\n",
       "2. 4\n",
       "\n",
       "\n"
      ],
      "text/plain": [
       "[1] 138   4"
      ]
     },
     "metadata": {},
     "output_type": "display_data"
    }
   ],
   "source": [
    "head(tcu)\n",
    "dim(tcu)"
   ]
  },
  {
   "cell_type": "markdown",
   "metadata": {},
   "source": [
    "Calculation of the optimal number of clusters"
   ]
  },
  {
   "cell_type": "code",
   "execution_count": 30,
   "metadata": {},
   "outputs": [
    {
     "name": "stderr",
     "output_type": "stream",
     "text": [
      "Warning message in pf(beale, pp, df2):\n",
      "\"NaNs produced\""
     ]
    },
    {
     "name": "stdout",
     "output_type": "stream",
     "text": [
      "[1] \"Frey index : No clustering structure in this data set\"\n",
      "*** : The Hubert index is a graphical method of determining the number of clusters.\n",
      "                In the plot of Hubert index, we seek a significant knee that corresponds to a \n",
      "                significant increase of the value of the measure i.e the significant peak in Hubert\n",
      "                index second differences plot. \n",
      " \n"
     ]
    },
    {
     "data": {
      "image/png": "[encoded data removed]",
      "text/plain": [
       "plot without title"
      ]
     },
     "metadata": {},
     "output_type": "display_data"
    },
    {
     "name": "stdout",
     "output_type": "stream",
     "text": [
      "*** : The D index is a graphical method of determining the number of clusters. \n",
      "                In the plot of D index, we seek a significant knee (the significant peak in Dindex\n",
      "                second differences plot) that corresponds to a significant increase of the value of\n",
      "                the measure. \n",
      " \n",
      "******************************************************************* \n",
      "* Among all indices:                                                \n",
      "* 1 proposed 2 as the best number of clusters \n",
      "* 14 proposed 3 as the best number of clusters \n",
      "* 1 proposed 4 as the best number of clusters \n",
      "* 1 proposed 5 as the best number of clusters \n",
      "* 1 proposed 6 as the best number of clusters \n",
      "* 1 proposed 8 as the best number of clusters \n",
      "* 2 proposed 9 as the best number of clusters \n",
      "* 2 proposed 10 as the best number of clusters \n",
      "\n",
      "                   ***** Conclusion *****                            \n",
      " \n",
      "* According to the majority rule, the best number of clusters is  3 \n",
      " \n",
      " \n",
      "******************************************************************* \n"
     ]
    },
    {
     "data": {
      "image/png": "[encoded data removed]",
      "text/plain": [
       "plot without title"
      ]
     },
     "metadata": {},
     "output_type": "display_data"
    }
   ],
   "source": [
    "res <- NbClust(tcu, distance = \"euclidean\", min.nc=2, max.nc=10, method = \"complete\")"
   ]
  },
  {
   "cell_type": "code",
   "execution_count": 31,
   "metadata": {},
   "outputs": [],
   "source": [
    "#install.packages(\"dbscan\")\n",
    "library(\"fpc\")\n",
    "library(\"dbscan\")\n",
    "\n",
    "\n",
    "### create a dbscan cluster\n",
    "dbscan_mod <- dbscan(dtc,eps=0.5, minPts = 2 )"
   ]
  },
  {
   "cell_type": "code",
   "execution_count": 32,
   "metadata": {},
   "outputs": [
    {
     "data": {
      "text/plain": [
       "   Min. 1st Qu.  Median    Mean 3rd Qu.    Max. \n",
       "      1       1       1       1       1       1 "
      ]
     },
     "metadata": {},
     "output_type": "display_data"
    }
   ],
   "source": [
    "summary(dbscan_mod$cluster)"
   ]
  },
  {
   "cell_type": "code",
   "execution_count": 33,
   "metadata": {},
   "outputs": [
    {
     "data": {
      "text/plain": [
       "\n",
       "  1 \n",
       "138 "
      ]
     },
     "metadata": {},
     "output_type": "display_data"
    }
   ],
   "source": [
    "table(dbscan_mod$cluster)"
   ]
  },
  {
   "cell_type": "code",
   "execution_count": 34,
   "metadata": {},
   "outputs": [
    {
     "name": "stdout",
     "output_type": "stream",
     "text": [
      "  [1] 1 1 1 1 1 1 1 1 1 1 1 1 1 1 1 1 1 1 1 1 1 1 1 1 1 1 1 1 1 1 1 1 1 1 1 1 1\n",
      " [38] 1 1 1 1 1 1 1 1 1 1 1 1 1 1 1 1 1 1 1 1 1 1 1 1 1 1 1 1 1 1 1 1 1 1 1 1 1\n",
      " [75] 1 1 1 1 1 1 1 1 1 1 1 1 1 1 1 1 1 1 1 1 1 1 1 1 1 1 1 1 1 1 1 1 1 1 1 1 1\n",
      "[112] 1 1 1 1 1 1 1 1 1 1 1 1 1 1 1 1 1 1 1 1 1 1 1 1 1 1 1\n"
     ]
    }
   ],
   "source": [
    "print(dbscan_mod$cluster)"
   ]
  },
  {
   "cell_type": "code",
   "execution_count": 52,
   "metadata": {},
   "outputs": [
    {
     "data": {
      "text/plain": [
       "\n",
       " 1  2  3  4  5  6  7  8  9 10 \n",
       "14 17 11 12 10 15  3 12 16 26 "
      ]
     },
     "metadata": {},
     "output_type": "display_data"
    },
    {
     "data": {
      "text/html": [
       "<table>\n",
       "<thead><tr><th scope=col>Latitude</th><th scope=col>Longitude</th><th scope=col>cluster</th></tr></thead>\n",
       "<tbody>\n",
       "\t<tr><td>41.75798 </td><td>-87.60078</td><td> 1       </td></tr>\n",
       "\t<tr><td>41.97363 </td><td>-87.69728</td><td> 2       </td></tr>\n",
       "\t<tr><td>41.81757 </td><td>-87.66307</td><td> 3       </td></tr>\n",
       "\t<tr><td>41.89209 </td><td>-87.64573</td><td> 4       </td></tr>\n",
       "\t<tr><td>41.70415 </td><td>-87.54438</td><td> 5       </td></tr>\n",
       "\t<tr><td>41.72096 </td><td>-87.68220</td><td> 6       </td></tr>\n",
       "\t<tr><td>41.67019 </td><td>-87.60107</td><td> 7       </td></tr>\n",
       "\t<tr><td>41.78394 </td><td>-87.74704</td><td> 8       </td></tr>\n",
       "\t<tr><td>41.88810 </td><td>-87.71884</td><td> 9       </td></tr>\n",
       "\t<tr><td>41.96793 </td><td>-87.79765</td><td>10       </td></tr>\n",
       "</tbody>\n",
       "</table>\n"
      ],
      "text/latex": [
       "\\begin{tabular}{r|lll}\n",
       " Latitude & Longitude & cluster\\\\\n",
       "\\hline\n",
       "\t 41.75798  & -87.60078 &  1       \\\\\n",
       "\t 41.97363  & -87.69728 &  2       \\\\\n",
       "\t 41.81757  & -87.66307 &  3       \\\\\n",
       "\t 41.89209  & -87.64573 &  4       \\\\\n",
       "\t 41.70415  & -87.54438 &  5       \\\\\n",
       "\t 41.72096  & -87.68220 &  6       \\\\\n",
       "\t 41.67019  & -87.60107 &  7       \\\\\n",
       "\t 41.78394  & -87.74704 &  8       \\\\\n",
       "\t 41.88810  & -87.71884 &  9       \\\\\n",
       "\t 41.96793  & -87.79765 & 10       \\\\\n",
       "\\end{tabular}\n"
      ],
      "text/markdown": [
       "\n",
       "Latitude | Longitude | cluster | \n",
       "|---|---|---|---|---|---|---|---|---|---|\n",
       "| 41.75798  | -87.60078 |  1        | \n",
       "| 41.97363  | -87.69728 |  2        | \n",
       "| 41.81757  | -87.66307 |  3        | \n",
       "| 41.89209  | -87.64573 |  4        | \n",
       "| 41.70415  | -87.54438 |  5        | \n",
       "| 41.72096  | -87.68220 |  6        | \n",
       "| 41.67019  | -87.60107 |  7        | \n",
       "| 41.78394  | -87.74704 |  8        | \n",
       "| 41.88810  | -87.71884 |  9        | \n",
       "| 41.96793  | -87.79765 | 10        | \n",
       "\n",
       "\n"
      ],
      "text/plain": [
       "   Latitude Longitude cluster\n",
       "1  41.75798 -87.60078  1     \n",
       "2  41.97363 -87.69728  2     \n",
       "3  41.81757 -87.66307  3     \n",
       "4  41.89209 -87.64573  4     \n",
       "5  41.70415 -87.54438  5     \n",
       "6  41.72096 -87.68220  6     \n",
       "7  41.67019 -87.60107  7     \n",
       "8  41.78394 -87.74704  8     \n",
       "9  41.88810 -87.71884  9     \n",
       "10 41.96793 -87.79765 10     "
      ]
     },
     "metadata": {},
     "output_type": "display_data"
    },
    {
     "data": {
      "image/png": "[encoded data removed]",
      "text/plain": [
       "plot without title"
      ]
     },
     "metadata": {},
     "output_type": "display_data"
    }
   ],
   "source": [
    "## Kmeans model - the optimal is between 11 and 14...I prefered 14 :-)\n",
    "model.km <- kmeans(bk1[,c(\"Latitude\",\"Longitude\")], centers=10)\n",
    "table(model.km$cluster)\n",
    "plot(bk1$Latitude ~ bk1$Longitude, col=model.km$cluster)\n",
    "cnt <- data.frame(model.km$centers)\n",
    "cnt$cluster <- 1:nrow(cnt)\n",
    "text(cnt$Latitude ~ cnt$Longitude,labels = cnt$cluster)\n",
    "\n",
    "## centers:\n",
    "cnt <- data.frame(model.km$centers)\n",
    "cnt$cluster <- 1:nrow(cnt)\n",
    "cnt"
   ]
  },
  {
   "cell_type": "code",
   "execution_count": 35,
   "metadata": {},
   "outputs": [
    {
     "data": {
      "text/plain": [
       "\n",
       " 1  2  3  4  5  6  7  8  9 10 \n",
       "24 13  3 17 10 11 16 14 19 11 "
      ]
     },
     "metadata": {},
     "output_type": "display_data"
    },
    {
     "data": {
      "text/html": [
       "<table>\n",
       "<thead><tr><th scope=col>Latitude</th><th scope=col>Longitude</th><th scope=col>cluster</th></tr></thead>\n",
       "<tbody>\n",
       "\t<tr><td>41.85076 </td><td>-87.66733</td><td> 1       </td></tr>\n",
       "\t<tr><td>41.98528 </td><td>-87.79954</td><td> 2       </td></tr>\n",
       "\t<tr><td>41.97499 </td><td>-87.89487</td><td> 3       </td></tr>\n",
       "\t<tr><td>41.72605 </td><td>-87.67813</td><td> 4       </td></tr>\n",
       "\t<tr><td>41.68407 </td><td>-87.56019</td><td> 5       </td></tr>\n",
       "\t<tr><td>41.91911 </td><td>-87.76469</td><td> 6       </td></tr>\n",
       "\t<tr><td>41.75435 </td><td>-87.58852</td><td> 7       </td></tr>\n",
       "\t<tr><td>41.78629 </td><td>-87.74544</td><td> 8       </td></tr>\n",
       "\t<tr><td>41.95434 </td><td>-87.67751</td><td> 9       </td></tr>\n",
       "\t<tr><td>41.96469 </td><td>-87.74876</td><td>10       </td></tr>\n",
       "</tbody>\n",
       "</table>\n"
      ],
      "text/latex": [
       "\\begin{tabular}{r|lll}\n",
       " Latitude & Longitude & cluster\\\\\n",
       "\\hline\n",
       "\t 41.85076  & -87.66733 &  1       \\\\\n",
       "\t 41.98528  & -87.79954 &  2       \\\\\n",
       "\t 41.97499  & -87.89487 &  3       \\\\\n",
       "\t 41.72605  & -87.67813 &  4       \\\\\n",
       "\t 41.68407  & -87.56019 &  5       \\\\\n",
       "\t 41.91911  & -87.76469 &  6       \\\\\n",
       "\t 41.75435  & -87.58852 &  7       \\\\\n",
       "\t 41.78629  & -87.74544 &  8       \\\\\n",
       "\t 41.95434  & -87.67751 &  9       \\\\\n",
       "\t 41.96469  & -87.74876 & 10       \\\\\n",
       "\\end{tabular}\n"
      ],
      "text/markdown": [
       "\n",
       "Latitude | Longitude | cluster | \n",
       "|---|---|---|---|---|---|---|---|---|---|\n",
       "| 41.85076  | -87.66733 |  1        | \n",
       "| 41.98528  | -87.79954 |  2        | \n",
       "| 41.97499  | -87.89487 |  3        | \n",
       "| 41.72605  | -87.67813 |  4        | \n",
       "| 41.68407  | -87.56019 |  5        | \n",
       "| 41.91911  | -87.76469 |  6        | \n",
       "| 41.75435  | -87.58852 |  7        | \n",
       "| 41.78629  | -87.74544 |  8        | \n",
       "| 41.95434  | -87.67751 |  9        | \n",
       "| 41.96469  | -87.74876 | 10        | \n",
       "\n",
       "\n"
      ],
      "text/plain": [
       "   Latitude Longitude cluster\n",
       "1  41.85076 -87.66733  1     \n",
       "2  41.98528 -87.79954  2     \n",
       "3  41.97499 -87.89487  3     \n",
       "4  41.72605 -87.67813  4     \n",
       "5  41.68407 -87.56019  5     \n",
       "6  41.91911 -87.76469  6     \n",
       "7  41.75435 -87.58852  7     \n",
       "8  41.78629 -87.74544  8     \n",
       "9  41.95434 -87.67751  9     \n",
       "10 41.96469 -87.74876 10     "
      ]
     },
     "metadata": {},
     "output_type": "display_data"
    },
    {
     "data": {
      "image/png": "[encoded data removed]",
      "text/plain": [
       "plot without title"
      ]
     },
     "metadata": {},
     "output_type": "display_data"
    }
   ],
   "source": [
    "## Kmeans model - the optimal is between 11 and 14...I prefered 14 :-)\n",
    "model.km <- kmeans(tcu[,c(\"Latitude\",\"Longitude\")], centers=10)\n",
    "table(model.km$cluster)\n",
    "plot(tcu$Latitude ~ dtc$Longitude, col=model.km$cluster)\n",
    "cnt <- data.frame(model.km$centers)\n",
    "cnt$cluster <- 1:nrow(cnt)\n",
    "text(cnt$Latitude ~ cnt$Longitude,labels = cnt$cluster)\n",
    "\n",
    "## centers:\n",
    "cnt <- data.frame(model.km$centers)\n",
    "cnt$cluster <- 1:nrow(cnt)\n",
    "cnt"
   ]
  },
  {
   "cell_type": "code",
   "execution_count": 40,
   "metadata": {},
   "outputs": [
    {
     "data": {
      "text/html": [
       "<ol class=list-inline>\n",
       "\t<li>138</li>\n",
       "\t<li>5</li>\n",
       "</ol>\n"
      ],
      "text/latex": [
       "\\begin{enumerate*}\n",
       "\\item 138\n",
       "\\item 5\n",
       "\\end{enumerate*}\n"
      ],
      "text/markdown": [
       "1. 138\n",
       "2. 5\n",
       "\n",
       "\n"
      ],
      "text/plain": [
       "[1] 138   5"
      ]
     },
     "metadata": {},
     "output_type": "display_data"
    },
    {
     "data": {
      "text/html": [
       "<table>\n",
       "<thead><tr><th scope=col>ID.OB</th><th scope=col>Latitude</th><th scope=col>Longitude</th><th scope=col>TrapM</th><th scope=col>clusterNum</th></tr></thead>\n",
       "<tbody>\n",
       "\t<tr><td>1        </td><td>41.86711 </td><td>-87.65422</td><td> 48      </td><td>1        </td></tr>\n",
       "\t<tr><td>2        </td><td>41.86229 </td><td>-87.64886</td><td> 91      </td><td>1        </td></tr>\n",
       "\t<tr><td>3        </td><td>41.89628 </td><td>-87.65523</td><td> 49      </td><td>1        </td></tr>\n",
       "\t<tr><td>4        </td><td>41.90765 </td><td>-87.76089</td><td>153      </td><td>6        </td></tr>\n",
       "\t<tr><td>5        </td><td>41.92160 </td><td>-87.66645</td><td> 45      </td><td>9        </td></tr>\n",
       "\t<tr><td>6        </td><td>41.72085 </td><td>-87.66601</td><td> 94      </td><td>4        </td></tr>\n",
       "</tbody>\n",
       "</table>\n"
      ],
      "text/latex": [
       "\\begin{tabular}{r|lllll}\n",
       " ID.OB & Latitude & Longitude & TrapM & clusterNum\\\\\n",
       "\\hline\n",
       "\t 1         & 41.86711  & -87.65422 &  48       & 1        \\\\\n",
       "\t 2         & 41.86229  & -87.64886 &  91       & 1        \\\\\n",
       "\t 3         & 41.89628  & -87.65523 &  49       & 1        \\\\\n",
       "\t 4         & 41.90765  & -87.76089 & 153       & 6        \\\\\n",
       "\t 5         & 41.92160  & -87.66645 &  45       & 9        \\\\\n",
       "\t 6         & 41.72085  & -87.66601 &  94       & 4        \\\\\n",
       "\\end{tabular}\n"
      ],
      "text/markdown": [
       "\n",
       "ID.OB | Latitude | Longitude | TrapM | clusterNum | \n",
       "|---|---|---|---|---|---|\n",
       "| 1         | 41.86711  | -87.65422 |  48       | 1         | \n",
       "| 2         | 41.86229  | -87.64886 |  91       | 1         | \n",
       "| 3         | 41.89628  | -87.65523 |  49       | 1         | \n",
       "| 4         | 41.90765  | -87.76089 | 153       | 6         | \n",
       "| 5         | 41.92160  | -87.66645 |  45       | 9         | \n",
       "| 6         | 41.72085  | -87.66601 |  94       | 4         | \n",
       "\n",
       "\n"
      ],
      "text/plain": [
       "  ID.OB Latitude Longitude TrapM clusterNum\n",
       "1 1     41.86711 -87.65422  48   1         \n",
       "2 2     41.86229 -87.64886  91   1         \n",
       "3 3     41.89628 -87.65523  49   1         \n",
       "4 4     41.90765 -87.76089 153   6         \n",
       "5 5     41.92160 -87.66645  45   9         \n",
       "6 6     41.72085 -87.66601  94   4         "
      ]
     },
     "metadata": {},
     "output_type": "display_data"
    }
   ],
   "source": [
    "#out <- cbind(tcu, clusterNum = model.km$cluster)\n",
    "dim(out)\n",
    "head(out)"
   ]
  },
  {
   "cell_type": "code",
   "execution_count": 39,
   "metadata": {},
   "outputs": [
    {
     "name": "stdout",
     "output_type": "stream",
     "text": [
      "     ID.OB Latitude Longitude TrapM clusterNum\n",
      "1        1 41.86711 -87.65422    48          1\n",
      "2        2 41.86229 -87.64886    91          1\n",
      "3        3 41.89628 -87.65523    49          1\n",
      "4        4 41.90765 -87.76089   153          6\n",
      "5        5 41.92160 -87.66645    45          9\n",
      "6        6 41.72085 -87.66601    94          4\n",
      "7        7 41.91934 -87.69426    50          9\n",
      "8        8 41.92197 -87.63209    54          9\n",
      "9        9 41.68832 -87.67671    86          4\n",
      "10      10 41.73192 -87.67751    96          4\n",
      "11      11 41.89112 -87.65449    46          1\n",
      "12      12 41.95469 -87.80099     2          2\n",
      "13      13 41.99499 -87.76928     7          2\n",
      "14      14 41.99913 -87.79559   143          2\n",
      "15      15 42.01743 -87.68777   148          9\n",
      "16      16 41.97409 -87.82481    15          2\n",
      "17      17 41.73298 -87.64964   159          4\n",
      "18      18 41.89113 -87.61156   129          1\n",
      "20      20 41.86922 -87.62756    92          1\n",
      "22      22 41.90664 -87.70143    33          9\n",
      "24      24 41.99447 -87.66774   149          9\n",
      "27      27 42.00686 -87.67592   150          9\n",
      "28      28 41.91871 -87.75233   154          6\n",
      "33      33 41.84607 -87.71628   152          1\n",
      "35      35 41.93209 -87.70012   147          9\n",
      "36      36 41.68259 -87.70797   158          4\n",
      "37      37 41.94487 -87.83276    11          2\n",
      "38      38 41.94817 -87.73070   218         10\n",
      "39      39 41.94983 -87.69846    19          9\n",
      "40      40 41.95307 -87.77679   142         10\n",
      "42      42 41.95827 -87.70257   146          9\n",
      "43      43 41.66201 -87.72461   135          4\n",
      "44      44 41.96398 -87.69181   220          9\n",
      "45      45 41.97924 -87.75094    25         10\n",
      "46      46 41.80150 -87.76342    31          8\n",
      "47      47 41.96174 -87.76007   141         10\n",
      "48      48 41.98692 -87.68978    28          9\n",
      "50      50 41.91627 -87.80052   151          6\n",
      "51      51 42.01160 -87.81151    16          2\n",
      "54      54 41.98196 -87.81283     9          2\n",
      "55      55 41.72552 -87.61426   162          7\n",
      "56      56 41.87811 -87.62980   145          1\n",
      "57      57 41.72319 -87.64997    89          4\n",
      "58      58 41.86808 -87.66690    90          1\n",
      "59      59 41.86911 -87.69629    88          1\n",
      "60      60 41.72147 -87.64806    85          4\n",
      "62      62 41.86814 -87.69627    47          1\n",
      "67      67 41.96699 -87.67468   219          9\n",
      "69      69 41.85265 -87.71989    40          1\n",
      "72      72 41.84628 -87.65691    51          1\n",
      "74      74 41.84381 -87.68676    34          1\n",
      "76      76 41.85740 -87.69499    43          1\n",
      "81      81 41.95370 -87.73397     1         10\n",
      "86      86 41.96424 -87.75764     3         10\n",
      "90      90 41.99028 -87.79713     6          2\n",
      "91      91 41.99143 -87.74711    12         10\n",
      "94      94 41.92118 -87.79518    37          6\n",
      "95      95 42.00831 -87.77792     8          2\n",
      "100    100 41.71906 -87.67509   161          4\n",
      "104    104 41.89923 -87.71679    30          6\n",
      "106    106 41.90300 -87.68827   160          9\n",
      "108    108 42.01041 -87.66214    18          9\n",
      "111    111 41.69255 -87.59887    84          5\n",
      "117    117 41.94016 -87.79490   144          6\n",
      "129    129 41.92374 -87.78529    13          6\n",
      "130    130 41.97025 -87.78799    14          2\n",
      "156    156 41.70434 -87.70374    95          4\n",
      "157    157 41.88328 -87.70508    44          1\n",
      "169    169 41.96062 -87.77719    17         10\n",
      "170    170 41.94211 -87.77639     5          6\n",
      "187    187 41.77322 -87.60088    73          7\n",
      "199    199 41.91182 -87.72674    39          6\n",
      "205    205 41.80118 -87.67945    61          1\n",
      "206    206 41.76839 -87.67865    69          4\n",
      "208    208 41.82306 -87.67838    60          1\n",
      "210    210 41.83664 -87.67774    35          1\n",
      "213    213 41.80074 -87.71188    62          8\n",
      "217    217 41.82254 -87.66634    74          1\n",
      "220    220 41.82158 -87.62780    81          1\n",
      "224    224 41.83709 -87.72938    36          8\n",
      "226    226 41.79928 -87.58549    75          7\n",
      "228    228 41.96273 -87.74837     4         10\n",
      "230    230 41.80342 -87.64298    82          1\n",
      "231    231 41.79870 -87.73681   114          8\n",
      "232    232 41.79762 -87.79789    70          8\n",
      "234    234 41.79478 -87.61599    76          7\n",
      "237    237 41.78142 -87.77653    71          8\n",
      "240    240 41.77616 -87.77893   155          8\n",
      "241    241 41.77875 -87.58643    77          7\n",
      "244    244 41.77166 -87.70305    66          8\n",
      "248    248 41.76620 -87.56289    79          7\n",
      "250    250 41.75935 -87.74560    67          8\n",
      "252    252 41.75468 -87.61292    80          7\n",
      "253    253 41.75429 -87.59077    83          7\n",
      "258    258 41.77830 -87.75241    65          8\n",
      "288    288 41.68095 -87.53520   212          5\n",
      "290    290 41.82561 -87.72655    63          8\n",
      "291    291 41.68640 -87.53163   215          5\n",
      "319    319 41.74064 -87.54659   209          7\n",
      "320    320 41.67341 -87.59986   115          5\n",
      "321    321 41.73705 -87.54307   206          7\n",
      "322    322 41.72646 -87.58541   138          7\n",
      "323    323 41.67862 -87.55931   200          5\n",
      "344    344 41.70457 -87.56567   128          5\n",
      "345    345 41.72967 -87.58270   107          7\n",
      "395    395 41.74785 -87.70272    72          4\n",
      "458    458 41.98481 -87.72849    27         10\n",
      "471    471 41.77505 -87.65536    78          4\n",
      "472    472 41.77285 -87.74003   156          8\n",
      "485    485 41.73364 -87.55551    99          7\n",
      "489    489 41.71775 -87.53166   100          5\n",
      "492    492 41.64461 -87.60450    97          5\n",
      "495    495 41.70272 -87.53650   103          5\n",
      "496    496 41.75050 -87.60529   102          7\n",
      "501    501 41.82590 -87.66783   157          1\n",
      "749    749 41.65911 -87.53869   221          5\n",
      "1492  1492 41.99248 -87.86299     9          3\n",
      "1493  1493 41.97469 -87.89061   900          3\n",
      "1549  1549 41.95780 -87.93099   903          3\n",
      "1901  1901 41.92520 -87.74638   222          6\n",
      "1904  1904 41.97384 -87.80506   223          2\n",
      "1917  1917 41.74340 -87.73144   225          8\n",
      "1922  1922 41.72850 -87.60096   227          7\n",
      "1938  1938 41.94723 -87.67146   224          9\n",
      "1968  1968 41.79382 -87.65423   226          1\n",
      "2046  2046 41.90419 -87.75616   230          6\n",
      "2094  2094 41.75341 -87.63982   229          4\n",
      "2161  2161 41.95187 -87.72506   228         10\n",
      "2472  2472 41.91256 -87.66805   232          9\n",
      "2520  2520 41.77643 -87.62710   235          7\n",
      "2527  2527 41.76373 -87.74230    35          8\n",
      "2530  2530 41.98728 -87.66607   231          9\n",
      "3026  3026 42.00988 -87.80728   233          2\n",
      "3082  3082 41.99468 -87.77090   236          2\n",
      "3184  3184 41.73890 -87.69544   237          4\n",
      "3246  3246 41.75339 -87.70739   238          4\n",
      "3758  3758 41.71914 -87.66954    94          4\n",
      "4069  4069 41.92565 -87.63359    54          9\n"
     ]
    },
    {
     "data": {
      "text/html": [
       "<ol class=list-inline>\n",
       "\t<li>138</li>\n",
       "\t<li>5</li>\n",
       "</ol>\n"
      ],
      "text/latex": [
       "\\begin{enumerate*}\n",
       "\\item 138\n",
       "\\item 5\n",
       "\\end{enumerate*}\n"
      ],
      "text/markdown": [
       "1. 138\n",
       "2. 5\n",
       "\n",
       "\n"
      ],
      "text/plain": [
       "[1] 138   5"
      ]
     },
     "metadata": {},
     "output_type": "display_data"
    }
   ],
   "source": [
    "print(out)\n",
    "dim(out)"
   ]
  },
  {
   "cell_type": "code",
   "execution_count": 38,
   "metadata": {},
   "outputs": [
    {
     "name": "stdout",
     "output_type": "stream",
     "text": [
      "K-means clustering with 10 clusters of sizes 24, 13, 3, 17, 10, 11, 16, 14, 19, 11\n",
      "\n",
      "Cluster means:\n",
      "   Latitude Longitude\n",
      "1  41.85076 -87.66733\n",
      "2  41.98528 -87.79954\n",
      "3  41.97499 -87.89487\n",
      "4  41.72605 -87.67813\n",
      "5  41.68407 -87.56019\n",
      "6  41.91911 -87.76469\n",
      "7  41.75435 -87.58852\n",
      "8  41.78629 -87.74544\n",
      "9  41.95434 -87.67751\n",
      "10 41.96469 -87.74876\n",
      "\n",
      "Clustering vector:\n",
      "   1    2    3    4    5    6    7    8    9   10   11   12   13   14   15   16 \n",
      "   1    1    1    6    9    4    9    9    4    4    1    2    2    2    9    2 \n",
      "  17   18   20   22   24   27   28   33   35   36   37   38   39   40   42   43 \n",
      "   4    1    1    9    9    9    6    1    9    4    2   10    9   10    9    4 \n",
      "  44   45   46   47   48   50   51   54   55   56   57   58   59   60   62   67 \n",
      "   9   10    8   10    9    6    2    2    7    1    4    1    1    4    1    9 \n",
      "  69   72   74   76   81   86   90   91   94   95  100  104  106  108  111  117 \n",
      "   1    1    1    1   10   10    2   10    6    2    4    6    9    9    5    6 \n",
      " 129  130  156  157  169  170  187  199  205  206  208  210  213  217  220  224 \n",
      "   6    2    4    1   10    6    7    6    1    4    1    1    8    1    1    8 \n",
      " 226  228  230  231  232  234  237  240  241  244  248  250  252  253  258  288 \n",
      "   7   10    1    8    8    7    8    8    7    8    7    8    7    7    8    5 \n",
      " 290  291  319  320  321  322  323  344  345  395  458  471  472  485  489  492 \n",
      "   8    5    7    5    7    7    5    5    7    4   10    4    8    7    5    5 \n",
      " 495  496  501  749 1492 1493 1549 1901 1904 1917 1922 1938 1968 2046 2094 2161 \n",
      "   5    7    1    5    3    3    3    6    2    8    7    9    1    6    4   10 \n",
      "2472 2520 2527 2530 3026 3082 3184 3246 3758 4069 \n",
      "   9    7    8    9    2    2    4    4    4    9 \n",
      "\n",
      "Within cluster sum of squares by cluster:\n",
      " [1] 0.039269042 0.009802388 0.002940587 0.024644577 0.012654446 0.009842418\n",
      " [7] 0.018772716 0.017566788 0.033018500 0.005379949\n",
      " (between_SS / total_SS =  92.7 %)\n",
      "\n",
      "Available components:\n",
      "\n",
      "[1] \"cluster\"      \"centers\"      \"totss\"        \"withinss\"     \"tot.withinss\"\n",
      "[6] \"betweenss\"    \"size\"         \"iter\"         \"ifault\"      \n"
     ]
    }
   ],
   "source": [
    "print(model.km)"
   ]
  },
  {
   "cell_type": "markdown",
   "metadata": {},
   "source": [
    "## Kmeans model - the optimal is between 11 and 14...I prefered 14 :-)\n",
    "model.km <- kmeans(Spr[,c(\"Latitude\",\"Longitude\")], centers=11)\n",
    "table(model.km$cluster)\n",
    "plot(Spr$Latitude ~ Spr$Longitude, col=model.km$cluster)\n",
    "cnt11 <- data.frame(model.km$centers)\n",
    "cnt11$cluster <- 1:nrow(cnt11)\n",
    "text(cnt11$Latitude ~ cnt11$Longitude,labels = cnt11$cluster)\n",
    "\n",
    "## centers:\n",
    "cnt11 <- data.frame(model.km$centers)\n",
    "cnt11$cluster <- 1:nrow(cnt11)\n",
    "cnt11"
   ]
  },
  {
   "cell_type": "code",
   "execution_count": 41,
   "metadata": {},
   "outputs": [],
   "source": [
    "write.csv(out, file=\"C:/Users/Chen/Project/data/Trap_cnt.csv\", row.names =F)"
   ]
  },
  {
   "cell_type": "code",
   "execution_count": 42,
   "metadata": {},
   "outputs": [],
   "source": [
    "write.csv(cnt, file=\"C:/Users/Chen/Project/data/Tnum_cnt.csv\", row.names =F)"
   ]
  },
  {
   "cell_type": "code",
   "execution_count": null,
   "metadata": {},
   "outputs": [],
   "source": []
  }
 ],
 "metadata": {
  "kernelspec": {
   "display_name": "R",
   "language": "R",
   "name": "ir"
  },
  "language_info": {
   "codemirror_mode": "r",
   "file_extension": ".r",
   "mimetype": "text/x-r-source",
   "name": "R",
   "pygments_lexer": "r",
   "version": "3.5.1"
  }
 },
 "nbformat": 4,
 "nbformat_minor": 2
}
