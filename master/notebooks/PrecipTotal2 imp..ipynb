{
 "cells": [
  {
   "cell_type": "code",
   "execution_count": 2,
   "metadata": {},
   "outputs": [],
   "source": [
    "library(dplyr)\n",
    "library(ggplot2)\n",
    "if(!require(ggExtra)) {install.packages(\"ggExtra\");require(ggExtra)}\n",
    "if(!require(naniar)) {install.packages(\"naniar\");require(naniar)}\n",
    "if(!require(mvoutlier)) {install.packages(\"mvoutlier\");require(mvoutlier)}\n",
    "if(!require(MissMech)) {install.packages(\"MissMech\");require(MissMech)}\n",
    "if(!require(mice)) {install.packages(\"mice\");require(mice)}\n",
    "if(!require(MatchIt)) {install.packages(\"MatchIt\");require(MatchIt)}"
   ]
  },
  {
   "cell_type": "code",
   "execution_count": 3,
   "metadata": {},
   "outputs": [
    {
     "name": "stderr",
     "output_type": "stream",
     "text": [
      "Warning message:\n",
      "\"package 'Hmisc' was built under R version 3.5.2\"Loading required package: survival\n",
      "Loading required package: Formula\n",
      "\n",
      "Attaching package: 'Hmisc'\n",
      "\n",
      "The following objects are masked from 'package:dplyr':\n",
      "\n",
      "    src, summarize\n",
      "\n",
      "The following objects are masked from 'package:base':\n",
      "\n",
      "    format.pval, units\n",
      "\n"
     ]
    }
   ],
   "source": [
    "library(Hmisc) "
   ]
  },
  {
   "cell_type": "code",
   "execution_count": 4,
   "metadata": {},
   "outputs": [],
   "source": [
    "outlierMatrix <- function(data,threshold=1.5) {\n",
    "    vn <- names(data)\n",
    "    outdata <- data.frame(row1=1:nrow(data))\n",
    "    for(v in vn) {\n",
    "        if(is.numeric(data[[v]])) {\n",
    "            outlow <- quantile(data[[v]],probs = 0.25,na.rm = T) \n",
    "            outhigh <- quantile(data[[v]],probs = 0.75, na.rm = T)\n",
    "            irq_level <- (outhigh - outlow) * threshold\n",
    "            outlow <- outlow - irq_level\n",
    "            outhigh <- outhigh +  irq_level\n",
    "            mv <- ifelse(data[[v]] < outlow | data[[v]] > outhigh, 1, 0)\n",
    "            outdata[v] <- mv\n",
    "        } else {\n",
    "            mv <- rep(0,nrow(data))\n",
    "        }\n",
    "    }\n",
    "    outdata$row1 <- NULL\n",
    "    return(outdata)\n",
    "}\n",
    "\n",
    "\n",
    "missingMatrix <- function(data) {\n",
    "    vn <- names(data)\n",
    "    missdata <- data.frame(row1=1:nrow(data))\n",
    "    for(v in vn) {\n",
    "        mv <- ifelse(is.na(data[[v]]),1,0)\n",
    "        missdata[v] <- mv\n",
    "    }\n",
    "    missdata$row1 <- NULL\n",
    "    return(missdata)\n",
    "}\n",
    "\n",
    "minmax <- function(x) {\n",
    "    return(((x-min(x,na.rm=T))/(max(x,na.rm=T)-min(x,na.rm=T))))\n",
    "}\n",
    "\n",
    "getMissingness <- function (data, getRows = FALSE) {\n",
    "    require(dplyr)\n",
    "    l <- nrow(data)\n",
    "    vn <- names(data)\n",
    "    nadf <- data\n",
    "    cnt <- NULL\n",
    "    miss <- function(x) return(sum(is.na(x)))\n",
    "    for (n in vn) {\n",
    "        nadf[[n]] <- ifelse(is.na(nadf[[n]]) == T, 1, 0)\n",
    "        cnt <- rbind(cnt, data.frame(n, sum(nadf[[n]])))\n",
    "    }\n",
    "    names(cnt) <- c(\"var\", \"na.count\")\n",
    "    cnt$rate <- round((cnt$na.count/nrow(nadf)) * 100, 1)\n",
    "    nadf$na.cnt <- 0\n",
    "    nadf$na.cnt <- rowSums(nadf)\n",
    "    cnt <- cnt %>% dplyr::arrange(desc(na.count)) %>% dplyr::filter(na.count > \n",
    "        0)\n",
    "    totmiss <- nadf %>% dplyr::filter(na.cnt == 0) %>% dplyr::tally()\n",
    "    idx <- NULL\n",
    "    msg <- (paste(\"This dataset has \", as.character(totmiss), \n",
    "        \" (\", as.character(round(totmiss/nrow(data) * 100, 1)), \n",
    "        \"%)\", \" complete rows. Original data has \", nrow(data), \n",
    "        \" rows.\", sep = \"\"))\n",
    "    if (getRows == TRUE & totmiss != 0) {\n",
    "        nadf$rn <- seq_len(nrow(data))\n",
    "        idx <- nadf %>% dplyr::filter(na.cnt == 0) %>% dplyr::select(rn)\n",
    "    }\n",
    "    print(list(head(cnt, n = 10), msg))\n",
    "    return(list(missingness = cnt, message = msg, rows = idx$rn))\n",
    "}"
   ]
  },
  {
   "cell_type": "code",
   "execution_count": 5,
   "metadata": {},
   "outputs": [
    {
     "data": {
      "text/html": [
       "<table>\n",
       "<thead><tr><th scope=col>Station2</th><th scope=col>Date2</th><th scope=col>Tmax2</th><th scope=col>Tmin2</th><th scope=col>Tavg2</th><th scope=col>DewPoint2</th><th scope=col>WetBulb2</th><th scope=col>Heat2</th><th scope=col>Cool2</th><th scope=col>PrecipTotal2</th><th scope=col>...</th><th scope=col>FU</th><th scope=col>GR</th><th scope=col>HZ</th><th scope=col>RA</th><th scope=col>SN</th><th scope=col>SQ</th><th scope=col>TS</th><th scope=col>TSRA</th><th scope=col>VCFG</th><th scope=col>VCTS</th></tr></thead>\n",
       "<tbody>\n",
       "\t<tr><td>2         </td><td>2007-05-01</td><td>84        </td><td>52        </td><td>33        </td><td>51        </td><td>26        </td><td> 1        </td><td> 4        </td><td>0         </td><td>...       </td><td>0         </td><td>0         </td><td>0         </td><td>0         </td><td>0         </td><td>0         </td><td>0         </td><td>0         </td><td>0         </td><td>0         </td></tr>\n",
       "\t<tr><td>2         </td><td>2007-05-02</td><td>60        </td><td>43        </td><td>17        </td><td>42        </td><td>16        </td><td> 6        </td><td> 1        </td><td>0         </td><td>...       </td><td>0         </td><td>0         </td><td>1         </td><td>0         </td><td>0         </td><td>0         </td><td>0         </td><td>0         </td><td>0         </td><td>0         </td></tr>\n",
       "\t<tr><td>2         </td><td>2007-05-03</td><td>67        </td><td>48        </td><td>23        </td><td>40        </td><td>19        </td><td>28        </td><td> 1        </td><td>0         </td><td>...       </td><td>0         </td><td>0         </td><td>1         </td><td>0         </td><td>0         </td><td>0         </td><td>0         </td><td>0         </td><td>0         </td><td>0         </td></tr>\n",
       "\t<tr><td>2         </td><td>2007-05-04</td><td>78        </td><td>51        </td><td>NA        </td><td>42        </td><td>19        </td><td>NA        </td><td>NA        </td><td>0         </td><td>...       </td><td>0         </td><td>0         </td><td>0         </td><td>0         </td><td>0         </td><td>0         </td><td>0         </td><td>0         </td><td>0         </td><td>0         </td></tr>\n",
       "\t<tr><td>2         </td><td>2007-05-05</td><td>66        </td><td>54        </td><td>25        </td><td>39        </td><td>19        </td><td>26        </td><td> 1        </td><td>0         </td><td>...       </td><td>0         </td><td>0         </td><td>0         </td><td>0         </td><td>0         </td><td>0         </td><td>0         </td><td>0         </td><td>0         </td><td>0         </td></tr>\n",
       "\t<tr><td>2         </td><td>2007-05-06</td><td>68        </td><td>52        </td><td>25        </td><td>30        </td><td>15        </td><td>26        </td><td> 1        </td><td>0         </td><td>...       </td><td>0         </td><td>0         </td><td>0         </td><td>0         </td><td>0         </td><td>0         </td><td>0         </td><td>0         </td><td>0         </td><td>0         </td></tr>\n",
       "</tbody>\n",
       "</table>\n"
      ],
      "text/latex": [
       "\\begin{tabular}{r|llllllllllllllllllllllllllllll}\n",
       " Station2 & Date2 & Tmax2 & Tmin2 & Tavg2 & DewPoint2 & WetBulb2 & Heat2 & Cool2 & PrecipTotal2 & ... & FU & GR & HZ & RA & SN & SQ & TS & TSRA & VCFG & VCTS\\\\\n",
       "\\hline\n",
       "\t 2          & 2007-05-01 & 84         & 52         & 33         & 51         & 26         &  1         &  4         & 0          & ...        & 0          & 0          & 0          & 0          & 0          & 0          & 0          & 0          & 0          & 0         \\\\\n",
       "\t 2          & 2007-05-02 & 60         & 43         & 17         & 42         & 16         &  6         &  1         & 0          & ...        & 0          & 0          & 1          & 0          & 0          & 0          & 0          & 0          & 0          & 0         \\\\\n",
       "\t 2          & 2007-05-03 & 67         & 48         & 23         & 40         & 19         & 28         &  1         & 0          & ...        & 0          & 0          & 1          & 0          & 0          & 0          & 0          & 0          & 0          & 0         \\\\\n",
       "\t 2          & 2007-05-04 & 78         & 51         & NA         & 42         & 19         & NA         & NA         & 0          & ...        & 0          & 0          & 0          & 0          & 0          & 0          & 0          & 0          & 0          & 0         \\\\\n",
       "\t 2          & 2007-05-05 & 66         & 54         & 25         & 39         & 19         & 26         &  1         & 0          & ...        & 0          & 0          & 0          & 0          & 0          & 0          & 0          & 0          & 0          & 0         \\\\\n",
       "\t 2          & 2007-05-06 & 68         & 52         & 25         & 30         & 15         & 26         &  1         & 0          & ...        & 0          & 0          & 0          & 0          & 0          & 0          & 0          & 0          & 0          & 0         \\\\\n",
       "\\end{tabular}\n"
      ],
      "text/markdown": [
       "\n",
       "Station2 | Date2 | Tmax2 | Tmin2 | Tavg2 | DewPoint2 | WetBulb2 | Heat2 | Cool2 | PrecipTotal2 | ... | FU | GR | HZ | RA | SN | SQ | TS | TSRA | VCFG | VCTS | \n",
       "|---|---|---|---|---|---|\n",
       "| 2          | 2007-05-01 | 84         | 52         | 33         | 51         | 26         |  1         |  4         | 0          | ...        | 0          | 0          | 0          | 0          | 0          | 0          | 0          | 0          | 0          | 0          | \n",
       "| 2          | 2007-05-02 | 60         | 43         | 17         | 42         | 16         |  6         |  1         | 0          | ...        | 0          | 0          | 1          | 0          | 0          | 0          | 0          | 0          | 0          | 0          | \n",
       "| 2          | 2007-05-03 | 67         | 48         | 23         | 40         | 19         | 28         |  1         | 0          | ...        | 0          | 0          | 1          | 0          | 0          | 0          | 0          | 0          | 0          | 0          | \n",
       "| 2          | 2007-05-04 | 78         | 51         | NA         | 42         | 19         | NA         | NA         | 0          | ...        | 0          | 0          | 0          | 0          | 0          | 0          | 0          | 0          | 0          | 0          | \n",
       "| 2          | 2007-05-05 | 66         | 54         | 25         | 39         | 19         | 26         |  1         | 0          | ...        | 0          | 0          | 0          | 0          | 0          | 0          | 0          | 0          | 0          | 0          | \n",
       "| 2          | 2007-05-06 | 68         | 52         | 25         | 30         | 15         | 26         |  1         | 0          | ...        | 0          | 0          | 0          | 0          | 0          | 0          | 0          | 0          | 0          | 0          | \n",
       "\n",
       "\n"
      ],
      "text/plain": [
       "  Station2 Date2      Tmax2 Tmin2 Tavg2 DewPoint2 WetBulb2 Heat2 Cool2\n",
       "1 2        2007-05-01 84    52    33    51        26        1     4   \n",
       "2 2        2007-05-02 60    43    17    42        16        6     1   \n",
       "3 2        2007-05-03 67    48    23    40        19       28     1   \n",
       "4 2        2007-05-04 78    51    NA    42        19       NA    NA   \n",
       "5 2        2007-05-05 66    54    25    39        19       26     1   \n",
       "6 2        2007-05-06 68    52    25    30        15       26     1   \n",
       "  PrecipTotal2 ... FU GR HZ RA SN SQ TS TSRA VCFG VCTS\n",
       "1 0            ... 0  0  0  0  0  0  0  0    0    0   \n",
       "2 0            ... 0  0  1  0  0  0  0  0    0    0   \n",
       "3 0            ... 0  0  1  0  0  0  0  0    0    0   \n",
       "4 0            ... 0  0  0  0  0  0  0  0    0    0   \n",
       "5 0            ... 0  0  0  0  0  0  0  0    0    0   \n",
       "6 0            ... 0  0  0  0  0  0  0  0    0    0   "
      ]
     },
     "metadata": {},
     "output_type": "display_data"
    }
   ],
   "source": [
    "### load data\n",
    "\n",
    "wea22 <- read.csv(file=\"C:/Users/Chen/Project/data/wea22.csv\")\n",
    "head(wea22)"
   ]
  },
  {
   "cell_type": "code",
   "execution_count": 6,
   "metadata": {},
   "outputs": [],
   "source": [
    "wea22$Date2 <- as.Date(wea22$Date2, format = \"%Y-%m-%d\")"
   ]
  },
  {
   "cell_type": "code",
   "execution_count": 7,
   "metadata": {},
   "outputs": [],
   "source": [
    "wea22$ID <- seq.int(nrow(wea22))"
   ]
  },
  {
   "cell_type": "code",
   "execution_count": 8,
   "metadata": {},
   "outputs": [],
   "source": [
    "wea22 <- wea22 %>%\n",
    "  select(ID, everything())\n"
   ]
  },
  {
   "cell_type": "code",
   "execution_count": 9,
   "metadata": {},
   "outputs": [
    {
     "data": {
      "text/html": [
       "<table>\n",
       "<thead><tr><th scope=col>ID</th><th scope=col>Station2</th><th scope=col>Date2</th><th scope=col>Tmax2</th><th scope=col>Tmin2</th><th scope=col>Tavg2</th><th scope=col>DewPoint2</th><th scope=col>WetBulb2</th><th scope=col>Heat2</th><th scope=col>Cool2</th><th scope=col>...</th><th scope=col>FU</th><th scope=col>GR</th><th scope=col>HZ</th><th scope=col>RA</th><th scope=col>SN</th><th scope=col>SQ</th><th scope=col>TS</th><th scope=col>TSRA</th><th scope=col>VCFG</th><th scope=col>VCTS</th></tr></thead>\n",
       "<tbody>\n",
       "\t<tr><td>1         </td><td>2         </td><td>2007-05-01</td><td>84        </td><td>52        </td><td>33        </td><td>51        </td><td>26        </td><td> 1        </td><td> 4        </td><td>...       </td><td>0         </td><td>0         </td><td>0         </td><td>0         </td><td>0         </td><td>0         </td><td>0         </td><td>0         </td><td>0         </td><td>0         </td></tr>\n",
       "\t<tr><td>2         </td><td>2         </td><td>2007-05-02</td><td>60        </td><td>43        </td><td>17        </td><td>42        </td><td>16        </td><td> 6        </td><td> 1        </td><td>...       </td><td>0         </td><td>0         </td><td>1         </td><td>0         </td><td>0         </td><td>0         </td><td>0         </td><td>0         </td><td>0         </td><td>0         </td></tr>\n",
       "\t<tr><td>3         </td><td>2         </td><td>2007-05-03</td><td>67        </td><td>48        </td><td>23        </td><td>40        </td><td>19        </td><td>28        </td><td> 1        </td><td>...       </td><td>0         </td><td>0         </td><td>1         </td><td>0         </td><td>0         </td><td>0         </td><td>0         </td><td>0         </td><td>0         </td><td>0         </td></tr>\n",
       "\t<tr><td>4         </td><td>2         </td><td>2007-05-04</td><td>78        </td><td>51        </td><td>NA        </td><td>42        </td><td>19        </td><td>NA        </td><td>NA        </td><td>...       </td><td>0         </td><td>0         </td><td>0         </td><td>0         </td><td>0         </td><td>0         </td><td>0         </td><td>0         </td><td>0         </td><td>0         </td></tr>\n",
       "\t<tr><td>5         </td><td>2         </td><td>2007-05-05</td><td>66        </td><td>54        </td><td>25        </td><td>39        </td><td>19        </td><td>26        </td><td> 1        </td><td>...       </td><td>0         </td><td>0         </td><td>0         </td><td>0         </td><td>0         </td><td>0         </td><td>0         </td><td>0         </td><td>0         </td><td>0         </td></tr>\n",
       "\t<tr><td>6         </td><td>2         </td><td>2007-05-06</td><td>68        </td><td>52        </td><td>25        </td><td>30        </td><td>15        </td><td>26        </td><td> 1        </td><td>...       </td><td>0         </td><td>0         </td><td>0         </td><td>0         </td><td>0         </td><td>0         </td><td>0         </td><td>0         </td><td>0         </td><td>0         </td></tr>\n",
       "</tbody>\n",
       "</table>\n"
      ],
      "text/latex": [
       "\\begin{tabular}{r|lllllllllllllllllllllllllllllll}\n",
       " ID & Station2 & Date2 & Tmax2 & Tmin2 & Tavg2 & DewPoint2 & WetBulb2 & Heat2 & Cool2 & ... & FU & GR & HZ & RA & SN & SQ & TS & TSRA & VCFG & VCTS\\\\\n",
       "\\hline\n",
       "\t 1          & 2          & 2007-05-01 & 84         & 52         & 33         & 51         & 26         &  1         &  4         & ...        & 0          & 0          & 0          & 0          & 0          & 0          & 0          & 0          & 0          & 0         \\\\\n",
       "\t 2          & 2          & 2007-05-02 & 60         & 43         & 17         & 42         & 16         &  6         &  1         & ...        & 0          & 0          & 1          & 0          & 0          & 0          & 0          & 0          & 0          & 0         \\\\\n",
       "\t 3          & 2          & 2007-05-03 & 67         & 48         & 23         & 40         & 19         & 28         &  1         & ...        & 0          & 0          & 1          & 0          & 0          & 0          & 0          & 0          & 0          & 0         \\\\\n",
       "\t 4          & 2          & 2007-05-04 & 78         & 51         & NA         & 42         & 19         & NA         & NA         & ...        & 0          & 0          & 0          & 0          & 0          & 0          & 0          & 0          & 0          & 0         \\\\\n",
       "\t 5          & 2          & 2007-05-05 & 66         & 54         & 25         & 39         & 19         & 26         &  1         & ...        & 0          & 0          & 0          & 0          & 0          & 0          & 0          & 0          & 0          & 0         \\\\\n",
       "\t 6          & 2          & 2007-05-06 & 68         & 52         & 25         & 30         & 15         & 26         &  1         & ...        & 0          & 0          & 0          & 0          & 0          & 0          & 0          & 0          & 0          & 0         \\\\\n",
       "\\end{tabular}\n"
      ],
      "text/markdown": [
       "\n",
       "ID | Station2 | Date2 | Tmax2 | Tmin2 | Tavg2 | DewPoint2 | WetBulb2 | Heat2 | Cool2 | ... | FU | GR | HZ | RA | SN | SQ | TS | TSRA | VCFG | VCTS | \n",
       "|---|---|---|---|---|---|\n",
       "| 1          | 2          | 2007-05-01 | 84         | 52         | 33         | 51         | 26         |  1         |  4         | ...        | 0          | 0          | 0          | 0          | 0          | 0          | 0          | 0          | 0          | 0          | \n",
       "| 2          | 2          | 2007-05-02 | 60         | 43         | 17         | 42         | 16         |  6         |  1         | ...        | 0          | 0          | 1          | 0          | 0          | 0          | 0          | 0          | 0          | 0          | \n",
       "| 3          | 2          | 2007-05-03 | 67         | 48         | 23         | 40         | 19         | 28         |  1         | ...        | 0          | 0          | 1          | 0          | 0          | 0          | 0          | 0          | 0          | 0          | \n",
       "| 4          | 2          | 2007-05-04 | 78         | 51         | NA         | 42         | 19         | NA         | NA         | ...        | 0          | 0          | 0          | 0          | 0          | 0          | 0          | 0          | 0          | 0          | \n",
       "| 5          | 2          | 2007-05-05 | 66         | 54         | 25         | 39         | 19         | 26         |  1         | ...        | 0          | 0          | 0          | 0          | 0          | 0          | 0          | 0          | 0          | 0          | \n",
       "| 6          | 2          | 2007-05-06 | 68         | 52         | 25         | 30         | 15         | 26         |  1         | ...        | 0          | 0          | 0          | 0          | 0          | 0          | 0          | 0          | 0          | 0          | \n",
       "\n",
       "\n"
      ],
      "text/plain": [
       "  ID Station2 Date2      Tmax2 Tmin2 Tavg2 DewPoint2 WetBulb2 Heat2 Cool2 ...\n",
       "1 1  2        2007-05-01 84    52    33    51        26        1     4    ...\n",
       "2 2  2        2007-05-02 60    43    17    42        16        6     1    ...\n",
       "3 3  2        2007-05-03 67    48    23    40        19       28     1    ...\n",
       "4 4  2        2007-05-04 78    51    NA    42        19       NA    NA    ...\n",
       "5 5  2        2007-05-05 66    54    25    39        19       26     1    ...\n",
       "6 6  2        2007-05-06 68    52    25    30        15       26     1    ...\n",
       "  FU GR HZ RA SN SQ TS TSRA VCFG VCTS\n",
       "1 0  0  0  0  0  0  0  0    0    0   \n",
       "2 0  0  1  0  0  0  0  0    0    0   \n",
       "3 0  0  1  0  0  0  0  0    0    0   \n",
       "4 0  0  0  0  0  0  0  0    0    0   \n",
       "5 0  0  0  0  0  0  0  0    0    0   \n",
       "6 0  0  0  0  0  0  0  0    0    0   "
      ]
     },
     "metadata": {},
     "output_type": "display_data"
    }
   ],
   "source": [
    "head(wea22)"
   ]
  },
  {
   "cell_type": "code",
   "execution_count": 16,
   "metadata": {},
   "outputs": [],
   "source": [
    "var1<-c('Tmax2', 'Tmin2', 'Tavg2' ,'DewPoint2' ,'WetBulb2' ,'Heat2' ,'Cool2' ,'PrecipTotal2', 'StnPressure2', 'SeaLevel2', 'ResultSpeed2', 'ResultDir2' ,'AvgSpeed2')"
   ]
  },
  {
   "cell_type": "code",
   "execution_count": 17,
   "metadata": {},
   "outputs": [
    {
     "data": {
      "image/png": "[encoded data removed]",
      "text/plain": [
       "Plot with title \"ResultDir2\""
      ]
     },
     "metadata": {},
     "output_type": "display_data"
    },
    {
     "data": {
      "image/png": "[encoded data removed]",
      "text/plain": [
       "Plot with title \"AvgSpeed2\""
      ]
     },
     "metadata": {},
     "output_type": "display_data"
    }
   ],
   "source": [
    "options(repr.plot.width = 8, repr.plot.height = 8)\n",
    "par(mfrow=c(4,3))\n",
    "for(v in names(wea22[var1])) {\n",
    "    boxplot(wea22[[v]],main=v)\n",
    "}\n",
    "par(mfrow=c(1,1))"
   ]
  },
  {
   "cell_type": "code",
   "execution_count": 18,
   "metadata": {},
   "outputs": [
    {
     "data": {
      "image/png": "[encoded data removed]",
      "text/plain": [
       "Plot with title \"ResultDir2\""
      ]
     },
     "metadata": {},
     "output_type": "display_data"
    },
    {
     "data": {
      "image/png": "[encoded data removed]",
      "text/plain": [
       "Plot with title \"AvgSpeed2\""
      ]
     },
     "metadata": {},
     "output_type": "display_data"
    }
   ],
   "source": [
    "options(repr.plot.width = 8, repr.plot.height = 8)\n",
    "par(mfrow=c(4,3))\n",
    "for(v in names(wea22[var1])) {\n",
    "    scatter.smooth(wea22[[v]] ~ wea22$Date, main=v, xlab=\"Index\",ylab=v, family=\"symmetric\",\n",
    "                  lpars =list(col = \"red\", lwd = 2, lty = 2))\n",
    "}\n",
    "par(mfrow=c(1,1))"
   ]
  },
  {
   "cell_type": "code",
   "execution_count": 84,
   "metadata": {},
   "outputs": [
    {
     "data": {
      "text/plain": [
       "wea22 \n",
       "\n",
       " 30  Variables      1472  Observations\n",
       "--------------------------------------------------------------------------------\n",
       "Station2 \n",
       "       n  missing distinct     Info     Mean      Gmd \n",
       "    1472        0        1        0        2        0 \n",
       "               \n",
       "Value         2\n",
       "Frequency  1472\n",
       "Proportion    1\n",
       "--------------------------------------------------------------------------------\n",
       "Date2 \n",
       "       n  missing distinct \n",
       "    1472        0     1472 \n",
       "\n",
       "lowest : 2007-05-01 2007-05-02 2007-05-03 2007-05-04 2007-05-05\n",
       "highest: 2014-10-27 2014-10-28 2014-10-29 2014-10-30 2014-10-31\n",
       "--------------------------------------------------------------------------------\n",
       "Tmax2 \n",
       "       n  missing distinct     Info     Mean      Gmd      .05      .10 \n",
       "    1472        0       61    0.999    76.35    12.84    54.55    60.00 \n",
       "     .25      .50      .75      .90      .95 \n",
       "   69.00    78.00    85.00    89.00    92.00 \n",
       "\n",
       "lowest :  41  44  45  46  47, highest:  99 100 101 102 104\n",
       "--------------------------------------------------------------------------------\n",
       "Tmin2 \n",
       "       n  missing distinct     Info     Mean      Gmd      .05      .10 \n",
       "    1472        0       54    0.999    58.89    11.72       41       44 \n",
       "     .25      .50      .75      .90      .95 \n",
       "      51       60       67       71       73 \n",
       "\n",
       "lowest : 29 31 32 33 34, highest: 79 80 81 82 83\n",
       "--------------------------------------------------------------------------------\n",
       "Tavg2 \n",
       "       n  missing distinct     Info     Mean      Gmd      .05      .10 \n",
       "    1461       11       57    0.999    32.88    11.91       14       17 \n",
       "     .25      .50      .75      .90      .95 \n",
       "      26       35       41       45       47 \n",
       "\n",
       "lowest :  1  2  4  5  6, highest: 54 55 56 57 59\n",
       "--------------------------------------------------------------------------------\n",
       "DewPoint2 \n",
       "       n  missing distinct     Info     Mean      Gmd      .05      .10 \n",
       "    1472        0       52    0.999    53.54    12.14       34       38 \n",
       "     .25      .50      .75      .90      .95 \n",
       "      46       55       62       67       69 \n",
       "\n",
       "lowest : 23 24 25 26 27, highest: 70 71 72 73 74\n",
       "--------------------------------------------------------------------------------\n",
       "WetBulb2 \n",
       "       n  missing distinct     Info     Mean      Gmd      .05      .10 \n",
       "    1471        1       45    0.999    28.59    10.48     12.0     15.0 \n",
       "     .25      .50      .75      .90      .95 \n",
       "    22.0     30.0     36.0     40.0     41.5 \n",
       "\n",
       "lowest :  2  3  4  5  6, highest: 42 43 44 45 46\n",
       "--------------------------------------------------------------------------------\n",
       "Heat2 \n",
       "       n  missing distinct     Info     Mean      Gmd      .05      .10 \n",
       "    1461       11       29    0.711    6.091    8.019        1        1 \n",
       "     .25      .50      .75      .90      .95 \n",
       "       1        1        7       25       28 \n",
       "\n",
       "lowest :  1  2  3  4  5, highest: 26 27 28 29 30\n",
       "--------------------------------------------------------------------------------\n",
       "Cool2 \n",
       "       n  missing distinct     Info     Mean      Gmd      .05      .10 \n",
       "    1461       11       29     0.95     7.06    6.888        1        1 \n",
       "     .25      .50      .75      .90      .95 \n",
       "       1        6       12       16       18 \n",
       "\n",
       "lowest :  1  2  3  4  5, highest: 25 26 27 28 30\n",
       "--------------------------------------------------------------------------------\n",
       "PrecipTotal2 \n",
       "       n  missing distinct     Info     Mean      Gmd      .05      .10 \n",
       "    1470        2      128     0.74   0.1281   0.2231     0.00     0.00 \n",
       "     .25      .50      .75      .90      .95 \n",
       "    0.00     0.00     0.05     0.41     0.78 \n",
       "\n",
       "lowest : 0.00 0.01 0.02 0.03 0.04, highest: 3.15 3.17 3.31 3.66 4.73\n",
       "--------------------------------------------------------------------------------\n",
       "StnPressure2 \n",
       "       n  missing distinct     Info     Mean      Gmd      .05      .10 \n",
       "    1470        2       88    0.999    29.31   0.1723    29.05    29.13 \n",
       "     .25      .50      .75      .90      .95 \n",
       "   29.23    29.32    29.41    29.51    29.57 \n",
       "\n",
       "lowest : 28.63 28.67 28.77 28.79 28.80, highest: 29.67 29.68 29.70 29.71 29.86\n",
       "--------------------------------------------------------------------------------\n",
       "SeaLevel2 \n",
       "       n  missing distinct     Info     Mean      Gmd      .05      .10 \n",
       "    1468        4       96        1    29.96   0.1767    29.70    29.77 \n",
       "     .25      .50      .75      .90      .95 \n",
       "   29.87    29.96    30.06    30.17    30.24 \n",
       "\n",
       "lowest : 29.23 29.34 29.45 29.46 29.47, highest: 30.37 30.38 30.40 30.41 30.53\n",
       "--------------------------------------------------------------------------------\n",
       "ResultSpeed2 \n",
       "       n  missing distinct     Info     Mean      Gmd      .05      .10 \n",
       "    1472        0      171        1    6.934    4.011    1.800    2.600 \n",
       "     .25      .50      .75      .90      .95 \n",
       "   4.275    6.500    9.225   11.700   13.400 \n",
       "\n",
       "lowest :  0.3  0.4  0.5  0.6  0.7, highest: 19.6 19.8 20.3 20.8 21.7\n",
       "--------------------------------------------------------------------------------\n",
       "ResultDir2 \n",
       "       n  missing distinct     Info     Mean      Gmd      .05      .10 \n",
       "    1472        0       36    0.999    17.33    11.36        2        3 \n",
       "     .25      .50      .75      .90      .95 \n",
       "       8       19       24       30       34 \n",
       "\n",
       "lowest :  1  2  3  4  5, highest: 32 33 34 35 36\n",
       "--------------------------------------------------------------------------------\n",
       "AvgSpeed2 \n",
       "       n  missing distinct     Info     Mean      Gmd      .05      .10 \n",
       "    1469        3      155        1     8.59    3.432      4.4      4.9 \n",
       "     .25      .50      .75      .90      .95 \n",
       "     6.3      8.1     10.4     12.8     14.3 \n",
       "\n",
       "lowest :  1.7  2.0  2.1  2.6  2.7, highest: 20.2 20.7 21.4 22.1 22.6\n",
       "--------------------------------------------------------------------------------\n",
       "BCFG \n",
       "       n  missing distinct     Info      Sum     Mean      Gmd \n",
       "    1472        0        2    0.004        2 0.001359 0.002716 \n",
       "\n",
       "--------------------------------------------------------------------------------\n",
       "BR \n",
       "       n  missing distinct     Info      Sum     Mean      Gmd \n",
       "    1472        0        2    0.596      402   0.2731   0.3973 \n",
       "\n",
       "--------------------------------------------------------------------------------\n",
       "DZ \n",
       "       n  missing distinct     Info      Sum     Mean      Gmd \n",
       "    1472        0        2    0.145       75  0.05095  0.09678 \n",
       "\n",
       "--------------------------------------------------------------------------------\n",
       "FG \n",
       "       n  missing distinct     Info      Sum     Mean      Gmd \n",
       "    1472        0        2     0.01        5 0.003397 0.006775 \n",
       "\n",
       "--------------------------------------------------------------------------------\n",
       "FG. \n",
       "       n  missing distinct     Info      Sum     Mean      Gmd \n",
       "    1472        0        2    0.022       11 0.007473  0.01484 \n",
       "\n",
       "--------------------------------------------------------------------------------\n",
       "FU \n",
       "       n  missing distinct     Info      Sum     Mean      Gmd \n",
       "    1472        0        2    0.008        4 0.002717 0.005424 \n",
       "\n",
       "--------------------------------------------------------------------------------\n",
       "GR \n",
       "        n   missing  distinct      Info       Sum      Mean       Gmd \n",
       "     1472         0         2     0.002         1 0.0006793  0.001359 \n",
       "\n",
       "--------------------------------------------------------------------------------\n",
       "HZ \n",
       "       n  missing distinct     Info      Sum     Mean      Gmd \n",
       "    1472        0        2    0.287      158   0.1073   0.1918 \n",
       "\n",
       "--------------------------------------------------------------------------------\n",
       "RA \n",
       "       n  missing distinct     Info      Sum     Mean      Gmd \n",
       "    1472        0        2    0.645      460   0.3125     0.43 \n",
       "\n",
       "--------------------------------------------------------------------------------\n",
       "SN \n",
       "       n  missing distinct     Info      Sum     Mean      Gmd \n",
       "    1472        0        2     0.01        5 0.003397 0.006775 \n",
       "\n",
       "--------------------------------------------------------------------------------\n",
       "SQ \n",
       "       n  missing distinct     Info      Sum     Mean      Gmd \n",
       "    1472        0        2    0.004        2 0.001359 0.002716 \n",
       "\n",
       "--------------------------------------------------------------------------------\n",
       "TS \n",
       "       n  missing distinct     Info      Sum     Mean      Gmd \n",
       "    1472        0        2    0.097       49  0.03329   0.0644 \n",
       "\n",
       "--------------------------------------------------------------------------------\n",
       "TSRA \n",
       "       n  missing distinct     Info      Sum     Mean      Gmd \n",
       "    1472        0        2    0.283      155   0.1053   0.1886 \n",
       "\n",
       "--------------------------------------------------------------------------------\n",
       "VCFG \n",
       "       n  missing distinct     Info      Sum     Mean      Gmd \n",
       "    1472        0        2    0.008        4 0.002717 0.005424 \n",
       "\n",
       "--------------------------------------------------------------------------------\n",
       "VCTS \n",
       "       n  missing distinct     Info      Sum     Mean      Gmd \n",
       "    1472        0        2    0.022       11 0.007473  0.01484 \n",
       "\n",
       "--------------------------------------------------------------------------------"
      ]
     },
     "metadata": {},
     "output_type": "display_data"
    }
   ],
   "source": [
    "describe(wea22)"
   ]
  },
  {
   "cell_type": "code",
   "execution_count": 11,
   "metadata": {},
   "outputs": [
    {
     "data": {
      "text/html": [
       "<table>\n",
       "<thead><tr><th scope=col>ID</th><th scope=col>Station2</th><th scope=col>Date2</th><th scope=col>Tmax2</th><th scope=col>Tmin2</th><th scope=col>Tavg2</th><th scope=col>DewPoint2</th><th scope=col>WetBulb2</th><th scope=col>Heat2</th><th scope=col>Cool2</th><th scope=col>...</th><th scope=col>FU</th><th scope=col>GR</th><th scope=col>HZ</th><th scope=col>RA</th><th scope=col>SN</th><th scope=col>SQ</th><th scope=col>TS</th><th scope=col>TSRA</th><th scope=col>VCFG</th><th scope=col>VCTS</th></tr></thead>\n",
       "<tbody>\n",
       "\t<tr><td>0  </td><td>0  </td><td>0  </td><td>0  </td><td>0  </td><td>0  </td><td>0  </td><td>0  </td><td>0  </td><td>0  </td><td>...</td><td>0  </td><td>0  </td><td>0  </td><td>0  </td><td>0  </td><td>0  </td><td>0  </td><td>0  </td><td>0  </td><td>0  </td></tr>\n",
       "\t<tr><td>0  </td><td>0  </td><td>0  </td><td>0  </td><td>0  </td><td>0  </td><td>0  </td><td>0  </td><td>0  </td><td>0  </td><td>...</td><td>0  </td><td>0  </td><td>0  </td><td>0  </td><td>0  </td><td>0  </td><td>0  </td><td>0  </td><td>0  </td><td>0  </td></tr>\n",
       "\t<tr><td>0  </td><td>0  </td><td>0  </td><td>0  </td><td>0  </td><td>0  </td><td>0  </td><td>0  </td><td>0  </td><td>0  </td><td>...</td><td>0  </td><td>0  </td><td>0  </td><td>0  </td><td>0  </td><td>0  </td><td>0  </td><td>0  </td><td>0  </td><td>0  </td></tr>\n",
       "\t<tr><td>0  </td><td>0  </td><td>0  </td><td>0  </td><td>0  </td><td>1  </td><td>0  </td><td>0  </td><td>1  </td><td>1  </td><td>...</td><td>0  </td><td>0  </td><td>0  </td><td>0  </td><td>0  </td><td>0  </td><td>0  </td><td>0  </td><td>0  </td><td>0  </td></tr>\n",
       "\t<tr><td>0  </td><td>0  </td><td>0  </td><td>0  </td><td>0  </td><td>0  </td><td>0  </td><td>0  </td><td>0  </td><td>0  </td><td>...</td><td>0  </td><td>0  </td><td>0  </td><td>0  </td><td>0  </td><td>0  </td><td>0  </td><td>0  </td><td>0  </td><td>0  </td></tr>\n",
       "\t<tr><td>0  </td><td>0  </td><td>0  </td><td>0  </td><td>0  </td><td>0  </td><td>0  </td><td>0  </td><td>0  </td><td>0  </td><td>...</td><td>0  </td><td>0  </td><td>0  </td><td>0  </td><td>0  </td><td>0  </td><td>0  </td><td>0  </td><td>0  </td><td>0  </td></tr>\n",
       "</tbody>\n",
       "</table>\n"
      ],
      "text/latex": [
       "\\begin{tabular}{r|lllllllllllllllllllllllllllllll}\n",
       " ID & Station2 & Date2 & Tmax2 & Tmin2 & Tavg2 & DewPoint2 & WetBulb2 & Heat2 & Cool2 & ... & FU & GR & HZ & RA & SN & SQ & TS & TSRA & VCFG & VCTS\\\\\n",
       "\\hline\n",
       "\t 0   & 0   & 0   & 0   & 0   & 0   & 0   & 0   & 0   & 0   & ... & 0   & 0   & 0   & 0   & 0   & 0   & 0   & 0   & 0   & 0  \\\\\n",
       "\t 0   & 0   & 0   & 0   & 0   & 0   & 0   & 0   & 0   & 0   & ... & 0   & 0   & 0   & 0   & 0   & 0   & 0   & 0   & 0   & 0  \\\\\n",
       "\t 0   & 0   & 0   & 0   & 0   & 0   & 0   & 0   & 0   & 0   & ... & 0   & 0   & 0   & 0   & 0   & 0   & 0   & 0   & 0   & 0  \\\\\n",
       "\t 0   & 0   & 0   & 0   & 0   & 1   & 0   & 0   & 1   & 1   & ... & 0   & 0   & 0   & 0   & 0   & 0   & 0   & 0   & 0   & 0  \\\\\n",
       "\t 0   & 0   & 0   & 0   & 0   & 0   & 0   & 0   & 0   & 0   & ... & 0   & 0   & 0   & 0   & 0   & 0   & 0   & 0   & 0   & 0  \\\\\n",
       "\t 0   & 0   & 0   & 0   & 0   & 0   & 0   & 0   & 0   & 0   & ... & 0   & 0   & 0   & 0   & 0   & 0   & 0   & 0   & 0   & 0  \\\\\n",
       "\\end{tabular}\n"
      ],
      "text/markdown": [
       "\n",
       "ID | Station2 | Date2 | Tmax2 | Tmin2 | Tavg2 | DewPoint2 | WetBulb2 | Heat2 | Cool2 | ... | FU | GR | HZ | RA | SN | SQ | TS | TSRA | VCFG | VCTS | \n",
       "|---|---|---|---|---|---|\n",
       "| 0   | 0   | 0   | 0   | 0   | 0   | 0   | 0   | 0   | 0   | ... | 0   | 0   | 0   | 0   | 0   | 0   | 0   | 0   | 0   | 0   | \n",
       "| 0   | 0   | 0   | 0   | 0   | 0   | 0   | 0   | 0   | 0   | ... | 0   | 0   | 0   | 0   | 0   | 0   | 0   | 0   | 0   | 0   | \n",
       "| 0   | 0   | 0   | 0   | 0   | 0   | 0   | 0   | 0   | 0   | ... | 0   | 0   | 0   | 0   | 0   | 0   | 0   | 0   | 0   | 0   | \n",
       "| 0   | 0   | 0   | 0   | 0   | 1   | 0   | 0   | 1   | 1   | ... | 0   | 0   | 0   | 0   | 0   | 0   | 0   | 0   | 0   | 0   | \n",
       "| 0   | 0   | 0   | 0   | 0   | 0   | 0   | 0   | 0   | 0   | ... | 0   | 0   | 0   | 0   | 0   | 0   | 0   | 0   | 0   | 0   | \n",
       "| 0   | 0   | 0   | 0   | 0   | 0   | 0   | 0   | 0   | 0   | ... | 0   | 0   | 0   | 0   | 0   | 0   | 0   | 0   | 0   | 0   | \n",
       "\n",
       "\n"
      ],
      "text/plain": [
       "  ID Station2 Date2 Tmax2 Tmin2 Tavg2 DewPoint2 WetBulb2 Heat2 Cool2 ... FU GR\n",
       "1 0  0        0     0     0     0     0         0        0     0     ... 0  0 \n",
       "2 0  0        0     0     0     0     0         0        0     0     ... 0  0 \n",
       "3 0  0        0     0     0     0     0         0        0     0     ... 0  0 \n",
       "4 0  0        0     0     0     1     0         0        1     1     ... 0  0 \n",
       "5 0  0        0     0     0     0     0         0        0     0     ... 0  0 \n",
       "6 0  0        0     0     0     0     0         0        0     0     ... 0  0 \n",
       "  HZ RA SN SQ TS TSRA VCFG VCTS\n",
       "1 0  0  0  0  0  0    0    0   \n",
       "2 0  0  0  0  0  0    0    0   \n",
       "3 0  0  0  0  0  0    0    0   \n",
       "4 0  0  0  0  0  0    0    0   \n",
       "5 0  0  0  0  0  0    0    0   \n",
       "6 0  0  0  0  0  0    0    0   "
      ]
     },
     "metadata": {},
     "output_type": "display_data"
    }
   ],
   "source": [
    "head(missingMatrix(wea22))"
   ]
  },
  {
   "cell_type": "code",
   "execution_count": 12,
   "metadata": {},
   "outputs": [
    {
     "data": {},
     "metadata": {},
     "output_type": "display_data"
    },
    {
     "data": {
      "image/png": "[encoded data removed]",
      "text/plain": [
       "plot without title"
      ]
     },
     "metadata": {},
     "output_type": "display_data"
    }
   ],
   "source": [
    "options(repr.plot.width = 10, repr.plot.height = 4)\n",
    "vis_miss(wea22)"
   ]
  },
  {
   "cell_type": "code",
   "execution_count": 13,
   "metadata": {},
   "outputs": [],
   "source": [
    "var2<-c('ID','Station2','Date2', 'Tmax2', 'Tmin2', 'Tavg2', 'DewPoint2', 'WetBulb2', 'Heat2', 'Cool2', 'PrecipTotal2' )"
   ]
  },
  {
   "cell_type": "code",
   "execution_count": 14,
   "metadata": {},
   "outputs": [
    {
     "data": {},
     "metadata": {},
     "output_type": "display_data"
    },
    {
     "data": {
      "image/png": "[encoded data removed]",
      "text/plain": [
       "plot without title"
      ]
     },
     "metadata": {},
     "output_type": "display_data"
    }
   ],
   "source": [
    "options(repr.plot.width = 8, repr.plot.height = 4)\n",
    "gg_miss_fct(x=wea22[var2], fct=Date2) + \n",
    "theme(axis.text.x = element_text(angle=90, size=8))"
   ]
  },
  {
   "cell_type": "markdown",
   "metadata": {},
   "source": [
    "Determinate the Missingness Generation Mechanism"
   ]
  },
  {
   "cell_type": "code",
   "execution_count": 87,
   "metadata": {},
   "outputs": [
    {
     "data": {
      "text/html": [
       "<ol class=list-inline>\n",
       "\t<li>'Station2'</li>\n",
       "\t<li>'Date2'</li>\n",
       "\t<li>'Tmax2'</li>\n",
       "\t<li>'Tmin2'</li>\n",
       "\t<li>'Tavg2'</li>\n",
       "\t<li>'DewPoint2'</li>\n",
       "\t<li>'WetBulb2'</li>\n",
       "\t<li>'Heat2'</li>\n",
       "\t<li>'Cool2'</li>\n",
       "\t<li>'PrecipTotal2'</li>\n",
       "\t<li>'StnPressure2'</li>\n",
       "\t<li>'SeaLevel2'</li>\n",
       "\t<li>'ResultSpeed2'</li>\n",
       "\t<li>'ResultDir2'</li>\n",
       "\t<li>'AvgSpeed2'</li>\n",
       "\t<li>'BCFG'</li>\n",
       "\t<li>'BR'</li>\n",
       "\t<li>'DZ'</li>\n",
       "\t<li>'FG'</li>\n",
       "\t<li>'FG.'</li>\n",
       "\t<li>'FU'</li>\n",
       "\t<li>'GR'</li>\n",
       "\t<li>'HZ'</li>\n",
       "\t<li>'RA'</li>\n",
       "\t<li>'SN'</li>\n",
       "\t<li>'SQ'</li>\n",
       "\t<li>'TS'</li>\n",
       "\t<li>'TSRA'</li>\n",
       "\t<li>'VCFG'</li>\n",
       "\t<li>'VCTS'</li>\n",
       "</ol>\n"
      ],
      "text/latex": [
       "\\begin{enumerate*}\n",
       "\\item 'Station2'\n",
       "\\item 'Date2'\n",
       "\\item 'Tmax2'\n",
       "\\item 'Tmin2'\n",
       "\\item 'Tavg2'\n",
       "\\item 'DewPoint2'\n",
       "\\item 'WetBulb2'\n",
       "\\item 'Heat2'\n",
       "\\item 'Cool2'\n",
       "\\item 'PrecipTotal2'\n",
       "\\item 'StnPressure2'\n",
       "\\item 'SeaLevel2'\n",
       "\\item 'ResultSpeed2'\n",
       "\\item 'ResultDir2'\n",
       "\\item 'AvgSpeed2'\n",
       "\\item 'BCFG'\n",
       "\\item 'BR'\n",
       "\\item 'DZ'\n",
       "\\item 'FG'\n",
       "\\item 'FG.'\n",
       "\\item 'FU'\n",
       "\\item 'GR'\n",
       "\\item 'HZ'\n",
       "\\item 'RA'\n",
       "\\item 'SN'\n",
       "\\item 'SQ'\n",
       "\\item 'TS'\n",
       "\\item 'TSRA'\n",
       "\\item 'VCFG'\n",
       "\\item 'VCTS'\n",
       "\\end{enumerate*}\n"
      ],
      "text/markdown": [
       "1. 'Station2'\n",
       "2. 'Date2'\n",
       "3. 'Tmax2'\n",
       "4. 'Tmin2'\n",
       "5. 'Tavg2'\n",
       "6. 'DewPoint2'\n",
       "7. 'WetBulb2'\n",
       "8. 'Heat2'\n",
       "9. 'Cool2'\n",
       "10. 'PrecipTotal2'\n",
       "11. 'StnPressure2'\n",
       "12. 'SeaLevel2'\n",
       "13. 'ResultSpeed2'\n",
       "14. 'ResultDir2'\n",
       "15. 'AvgSpeed2'\n",
       "16. 'BCFG'\n",
       "17. 'BR'\n",
       "18. 'DZ'\n",
       "19. 'FG'\n",
       "20. 'FG.'\n",
       "21. 'FU'\n",
       "22. 'GR'\n",
       "23. 'HZ'\n",
       "24. 'RA'\n",
       "25. 'SN'\n",
       "26. 'SQ'\n",
       "27. 'TS'\n",
       "28. 'TSRA'\n",
       "29. 'VCFG'\n",
       "30. 'VCTS'\n",
       "\n",
       "\n"
      ],
      "text/plain": [
       " [1] \"Station2\"     \"Date2\"        \"Tmax2\"        \"Tmin2\"        \"Tavg2\"       \n",
       " [6] \"DewPoint2\"    \"WetBulb2\"     \"Heat2\"        \"Cool2\"        \"PrecipTotal2\"\n",
       "[11] \"StnPressure2\" \"SeaLevel2\"    \"ResultSpeed2\" \"ResultDir2\"   \"AvgSpeed2\"   \n",
       "[16] \"BCFG\"         \"BR\"           \"DZ\"           \"FG\"           \"FG.\"         \n",
       "[21] \"FU\"           \"GR\"           \"HZ\"           \"RA\"           \"SN\"          \n",
       "[26] \"SQ\"           \"TS\"           \"TSRA\"         \"VCFG\"         \"VCTS\"        "
      ]
     },
     "metadata": {},
     "output_type": "display_data"
    }
   ],
   "source": [
    "colnames(wea22)"
   ]
  },
  {
   "cell_type": "code",
   "execution_count": 15,
   "metadata": {},
   "outputs": [
    {
     "data": {
      "text/html": [
       "6"
      ],
      "text/latex": [
       "6"
      ],
      "text/markdown": [
       "6"
      ],
      "text/plain": [
       "[1] 6"
      ]
     },
     "metadata": {},
     "output_type": "display_data"
    }
   ],
   "source": [
    "grep('Tavg2', colnames(wea22))"
   ]
  },
  {
   "cell_type": "code",
   "execution_count": 16,
   "metadata": {},
   "outputs": [
    {
     "data": {
      "text/html": [
       "11"
      ],
      "text/latex": [
       "11"
      ],
      "text/markdown": [
       "11"
      ],
      "text/plain": [
       "[1] 11"
      ]
     },
     "metadata": {},
     "output_type": "display_data"
    }
   ],
   "source": [
    "grep('PrecipTotal2', colnames(wea22))"
   ]
  },
  {
   "cell_type": "code",
   "execution_count": 17,
   "metadata": {},
   "outputs": [
    {
     "data": {
      "text/plain": [
       "Call:\n",
       "TestMCARNormality(data = wea22m)\n",
       "\n",
       "Number of Patterns:  2 \n",
       "\n",
       "Total number of cases used in the analysis:  1470 \n",
       "\n",
       " Pattern(s) used:\n",
       "          ID   Tmax2   Tavg2   PrecipTotal2   Number of cases\n",
       "group.1    1       1       1              1              1459\n",
       "group.2    1       1      NA              1                11\n",
       "\n",
       "\n",
       "    Test of normality and Homoscedasticity:\n",
       "  -------------------------------------------\n",
       "\n",
       "Hawkins Test:\n",
       "\n",
       "    P-value for the Hawkins test of normality and homoscedasticity:  2.335652e-13 \n",
       "\n",
       "    Either the test of multivariate normality or homoscedasticity (or both) is rejected.\n",
       "    Provided that normality can be assumed, the hypothesis of MCAR is \n",
       "    rejected at 0.05 significance level. \n",
       "\n",
       "Non-Parametric Test:\n",
       "\n",
       "    P-value for the non-parametric test of homoscedasticity:  0.1336018 \n",
       "\n",
       "    Reject Normality at 0.05 significance level.\n",
       "    There is not sufficient evidence to reject MCAR at 0.05 significance level."
      ]
     },
     "metadata": {},
     "output_type": "display_data"
    }
   ],
   "source": [
    "# require(MissMech)\n",
    "wea22m <- wea22[,c(1,4,6,11)]\n",
    "miss1 <- TestMCARNormality(data=wea22m)\n",
    "miss1"
   ]
  },
  {
   "cell_type": "code",
   "execution_count": 18,
   "metadata": {},
   "outputs": [
    {
     "name": "stdout",
     "output_type": "stream",
     "text": [
      "\n",
      "Number of imputation:  10 \n",
      "\n",
      "Number of Patterns:  3 \n",
      "\n",
      "Total number of cases used in the analysis:  1472 \n",
      "\n",
      " Pattern(s) used:\n",
      "          ID   Tmax2   Tavg2   PrecipTotal2   Number of cases\n",
      "group.1    1       1       1              1              1459\n",
      "group.2    1       1      NA              1                11\n",
      "group.3    1       1       1             NA                 2\n",
      "\n",
      "\n",
      "    Test of normality and Homoscedasticity:\n",
      "  -------------------------------------------\n",
      "\n",
      "Hawkins Test:\n",
      "\n",
      "    P-value for the Hawkins test of normality and homoscedasticity:  1.399754e-12 \n",
      "\n",
      "Non-Parametric Test:\n",
      "\n",
      "    P-value for the non-parametric test of homoscedasticity:  0.2515396 \n"
     ]
    }
   ],
   "source": [
    "miss1 <- TestMCARNormality(data=wea22m, , del.lesscases = 1, imputation.number = 10)\n",
    "summary(miss1)\n"
   ]
  },
  {
   "cell_type": "code",
   "execution_count": 20,
   "metadata": {},
   "outputs": [
    {
     "data": {
      "text/plain": [
       "       ID             Tmax2            Tavg2        PrecipTotal2   \n",
       " Min.   :   1.0   Min.   : 41.00   Min.   : 1.00   Min.   :0.0000  \n",
       " 1st Qu.: 368.8   1st Qu.: 69.00   1st Qu.:26.00   1st Qu.:0.0000  \n",
       " Median : 736.5   Median : 78.00   Median :35.00   Median :0.0000  \n",
       " Mean   : 736.5   Mean   : 76.35   Mean   :32.91   Mean   :0.1286  \n",
       " 3rd Qu.:1104.2   3rd Qu.: 85.00   3rd Qu.:41.00   3rd Qu.:0.0525  \n",
       " Max.   :1472.0   Max.   :104.00   Max.   :59.00   Max.   :4.7300  "
      ]
     },
     "metadata": {},
     "output_type": "display_data"
    },
    {
     "data": {
      "text/html": [
       "<table>\n",
       "<thead><tr><th scope=col>ID</th><th scope=col>Tmax2</th><th scope=col>Tavg2</th><th scope=col>PrecipTotal2</th></tr></thead>\n",
       "<tbody>\n",
       "\t<tr><td>1       </td><td>84      </td><td>33.00000</td><td>0       </td></tr>\n",
       "\t<tr><td>2       </td><td>60      </td><td>17.00000</td><td>0       </td></tr>\n",
       "\t<tr><td>3       </td><td>67      </td><td>23.00000</td><td>0       </td></tr>\n",
       "\t<tr><td>4       </td><td>78      </td><td>35.20733</td><td>0       </td></tr>\n",
       "\t<tr><td>5       </td><td>66      </td><td>25.00000</td><td>0       </td></tr>\n",
       "\t<tr><td>6       </td><td>68      </td><td>25.00000</td><td>0       </td></tr>\n",
       "</tbody>\n",
       "</table>\n"
      ],
      "text/latex": [
       "\\begin{tabular}{r|llll}\n",
       " ID & Tmax2 & Tavg2 & PrecipTotal2\\\\\n",
       "\\hline\n",
       "\t 1        & 84       & 33.00000 & 0       \\\\\n",
       "\t 2        & 60       & 17.00000 & 0       \\\\\n",
       "\t 3        & 67       & 23.00000 & 0       \\\\\n",
       "\t 4        & 78       & 35.20733 & 0       \\\\\n",
       "\t 5        & 66       & 25.00000 & 0       \\\\\n",
       "\t 6        & 68       & 25.00000 & 0       \\\\\n",
       "\\end{tabular}\n"
      ],
      "text/markdown": [
       "\n",
       "ID | Tmax2 | Tavg2 | PrecipTotal2 | \n",
       "|---|---|---|---|---|---|\n",
       "| 1        | 84       | 33.00000 | 0        | \n",
       "| 2        | 60       | 17.00000 | 0        | \n",
       "| 3        | 67       | 23.00000 | 0        | \n",
       "| 4        | 78       | 35.20733 | 0        | \n",
       "| 5        | 66       | 25.00000 | 0        | \n",
       "| 6        | 68       | 25.00000 | 0        | \n",
       "\n",
       "\n"
      ],
      "text/plain": [
       "  ID Tmax2 Tavg2    PrecipTotal2\n",
       "1 1  84    33.00000 0           \n",
       "2 2  60    17.00000 0           \n",
       "3 3  67    23.00000 0           \n",
       "4 4  78    35.20733 0           \n",
       "5 5  66    25.00000 0           \n",
       "6 6  68    25.00000 0           "
      ]
     },
     "metadata": {},
     "output_type": "display_data"
    },
    {
     "data": {
      "text/html": [
       "<ol class=list-inline>\n",
       "\t<li>1472</li>\n",
       "\t<li>4</li>\n",
       "</ol>\n"
      ],
      "text/latex": [
       "\\begin{enumerate*}\n",
       "\\item 1472\n",
       "\\item 4\n",
       "\\end{enumerate*}\n"
      ],
      "text/markdown": [
       "1. 1472\n",
       "2. 4\n",
       "\n",
       "\n"
      ],
      "text/plain": [
       "[1] 1472    4"
      ]
     },
     "metadata": {},
     "output_type": "display_data"
    }
   ],
   "source": [
    "summary(miss1$imputed.data)\n",
    "\n",
    "wea22.imp <- data.frame(miss1$imputed.data)\n",
    "idx <- miss1$caseorder\n",
    "\n",
    "head(wea22.imp)\n",
    "dim(wea22.imp)"
   ]
  },
  {
   "cell_type": "code",
   "execution_count": 21,
   "metadata": {},
   "outputs": [
    {
     "data": {
      "text/plain": [
       "       ID             Tmax2            Tavg2        PrecipTotal2   \n",
       " Min.   :   1.0   Min.   : 41.00   Min.   : 1.00   Min.   :0.0000  \n",
       " 1st Qu.: 368.8   1st Qu.: 69.00   1st Qu.:26.00   1st Qu.:0.0000  \n",
       " Median : 736.5   Median : 78.00   Median :35.00   Median :0.0000  \n",
       " Mean   : 736.5   Mean   : 76.35   Mean   :32.88   Mean   :0.1281  \n",
       " 3rd Qu.:1104.2   3rd Qu.: 85.00   3rd Qu.:41.00   3rd Qu.:0.0500  \n",
       " Max.   :1472.0   Max.   :104.00   Max.   :59.00   Max.   :4.7300  \n",
       "                                   NA's   :11      NA's   :2       "
      ]
     },
     "metadata": {},
     "output_type": "display_data"
    },
    {
     "data": {
      "text/html": [
       "<table>\n",
       "<thead><tr><th scope=col>ID</th><th scope=col>Tmax2</th><th scope=col>Tavg2</th><th scope=col>PrecipTotal2</th></tr></thead>\n",
       "<tbody>\n",
       "\t<tr><td>1 </td><td>84</td><td>33</td><td>0 </td></tr>\n",
       "\t<tr><td>2 </td><td>60</td><td>17</td><td>0 </td></tr>\n",
       "\t<tr><td>3 </td><td>67</td><td>23</td><td>0 </td></tr>\n",
       "\t<tr><td>4 </td><td>78</td><td>NA</td><td>0 </td></tr>\n",
       "\t<tr><td>5 </td><td>66</td><td>25</td><td>0 </td></tr>\n",
       "\t<tr><td>6 </td><td>68</td><td>25</td><td>0 </td></tr>\n",
       "</tbody>\n",
       "</table>\n"
      ],
      "text/latex": [
       "\\begin{tabular}{r|llll}\n",
       " ID & Tmax2 & Tavg2 & PrecipTotal2\\\\\n",
       "\\hline\n",
       "\t 1  & 84 & 33 & 0 \\\\\n",
       "\t 2  & 60 & 17 & 0 \\\\\n",
       "\t 3  & 67 & 23 & 0 \\\\\n",
       "\t 4  & 78 & NA & 0 \\\\\n",
       "\t 5  & 66 & 25 & 0 \\\\\n",
       "\t 6  & 68 & 25 & 0 \\\\\n",
       "\\end{tabular}\n"
      ],
      "text/markdown": [
       "\n",
       "ID | Tmax2 | Tavg2 | PrecipTotal2 | \n",
       "|---|---|---|---|---|---|\n",
       "| 1  | 84 | 33 | 0  | \n",
       "| 2  | 60 | 17 | 0  | \n",
       "| 3  | 67 | 23 | 0  | \n",
       "| 4  | 78 | NA | 0  | \n",
       "| 5  | 66 | 25 | 0  | \n",
       "| 6  | 68 | 25 | 0  | \n",
       "\n",
       "\n"
      ],
      "text/plain": [
       "  ID Tmax2 Tavg2 PrecipTotal2\n",
       "1 1  84    33    0           \n",
       "2 2  60    17    0           \n",
       "3 3  67    23    0           \n",
       "4 4  78    NA    0           \n",
       "5 5  66    25    0           \n",
       "6 6  68    25    0           "
      ]
     },
     "metadata": {},
     "output_type": "display_data"
    },
    {
     "data": {
      "text/html": [
       "<ol class=list-inline>\n",
       "\t<li>1472</li>\n",
       "\t<li>4</li>\n",
       "</ol>\n"
      ],
      "text/latex": [
       "\\begin{enumerate*}\n",
       "\\item 1472\n",
       "\\item 4\n",
       "\\end{enumerate*}\n"
      ],
      "text/markdown": [
       "1. 1472\n",
       "2. 4\n",
       "\n",
       "\n"
      ],
      "text/plain": [
       "[1] 1472    4"
      ]
     },
     "metadata": {},
     "output_type": "display_data"
    }
   ],
   "source": [
    "summary(wea22m)\n",
    "head(wea22m)\n",
    "dim(wea22m)"
   ]
  },
  {
   "cell_type": "code",
   "execution_count": 22,
   "metadata": {},
   "outputs": [],
   "source": [
    "colnames(wea22.imp)[2] <- \"Tmax2.imp\"\n",
    "colnames(wea22.imp)[3] <- \"Tavg2.imp\"\n",
    "colnames(wea22.imp)[4] <- \"PrecipTotal2.imp\""
   ]
  },
  {
   "cell_type": "code",
   "execution_count": 23,
   "metadata": {},
   "outputs": [
    {
     "data": {
      "text/html": [
       "<table>\n",
       "<thead><tr><th scope=col>ID</th><th scope=col>Tmax2.imp</th><th scope=col>Tavg2.imp</th><th scope=col>PrecipTotal2.imp</th></tr></thead>\n",
       "<tbody>\n",
       "\t<tr><td>1       </td><td>84      </td><td>33.00000</td><td>0       </td></tr>\n",
       "\t<tr><td>2       </td><td>60      </td><td>17.00000</td><td>0       </td></tr>\n",
       "\t<tr><td>3       </td><td>67      </td><td>23.00000</td><td>0       </td></tr>\n",
       "\t<tr><td>4       </td><td>78      </td><td>35.20733</td><td>0       </td></tr>\n",
       "\t<tr><td>5       </td><td>66      </td><td>25.00000</td><td>0       </td></tr>\n",
       "\t<tr><td>6       </td><td>68      </td><td>25.00000</td><td>0       </td></tr>\n",
       "</tbody>\n",
       "</table>\n"
      ],
      "text/latex": [
       "\\begin{tabular}{r|llll}\n",
       " ID & Tmax2.imp & Tavg2.imp & PrecipTotal2.imp\\\\\n",
       "\\hline\n",
       "\t 1        & 84       & 33.00000 & 0       \\\\\n",
       "\t 2        & 60       & 17.00000 & 0       \\\\\n",
       "\t 3        & 67       & 23.00000 & 0       \\\\\n",
       "\t 4        & 78       & 35.20733 & 0       \\\\\n",
       "\t 5        & 66       & 25.00000 & 0       \\\\\n",
       "\t 6        & 68       & 25.00000 & 0       \\\\\n",
       "\\end{tabular}\n"
      ],
      "text/markdown": [
       "\n",
       "ID | Tmax2.imp | Tavg2.imp | PrecipTotal2.imp | \n",
       "|---|---|---|---|---|---|\n",
       "| 1        | 84       | 33.00000 | 0        | \n",
       "| 2        | 60       | 17.00000 | 0        | \n",
       "| 3        | 67       | 23.00000 | 0        | \n",
       "| 4        | 78       | 35.20733 | 0        | \n",
       "| 5        | 66       | 25.00000 | 0        | \n",
       "| 6        | 68       | 25.00000 | 0        | \n",
       "\n",
       "\n"
      ],
      "text/plain": [
       "  ID Tmax2.imp Tavg2.imp PrecipTotal2.imp\n",
       "1 1  84        33.00000  0               \n",
       "2 2  60        17.00000  0               \n",
       "3 3  67        23.00000  0               \n",
       "4 4  78        35.20733  0               \n",
       "5 5  66        25.00000  0               \n",
       "6 6  68        25.00000  0               "
      ]
     },
     "metadata": {},
     "output_type": "display_data"
    },
    {
     "data": {
      "text/html": [
       "<ol class=list-inline>\n",
       "\t<li>1472</li>\n",
       "\t<li>4</li>\n",
       "</ol>\n"
      ],
      "text/latex": [
       "\\begin{enumerate*}\n",
       "\\item 1472\n",
       "\\item 4\n",
       "\\end{enumerate*}\n"
      ],
      "text/markdown": [
       "1. 1472\n",
       "2. 4\n",
       "\n",
       "\n"
      ],
      "text/plain": [
       "[1] 1472    4"
      ]
     },
     "metadata": {},
     "output_type": "display_data"
    }
   ],
   "source": [
    "head(wea22.imp)\n",
    "dim(wea22.imp)"
   ]
  },
  {
   "cell_type": "code",
   "execution_count": 24,
   "metadata": {},
   "outputs": [
    {
     "data": {
      "text/html": [
       "<table>\n",
       "<thead><tr><th scope=col>ID</th><th scope=col>Station2</th><th scope=col>Date2</th><th scope=col>Tmax2</th><th scope=col>Tmin2</th><th scope=col>Tavg2</th><th scope=col>DewPoint2</th><th scope=col>WetBulb2</th><th scope=col>Heat2</th><th scope=col>Cool2</th><th scope=col>...</th><th scope=col>FU</th><th scope=col>GR</th><th scope=col>HZ</th><th scope=col>RA</th><th scope=col>SN</th><th scope=col>SQ</th><th scope=col>TS</th><th scope=col>TSRA</th><th scope=col>VCFG</th><th scope=col>VCTS</th></tr></thead>\n",
       "<tbody>\n",
       "\t<tr><td>1         </td><td>2         </td><td>2007-05-01</td><td>84        </td><td>52        </td><td>33        </td><td>51        </td><td>26        </td><td> 1        </td><td> 4        </td><td>...       </td><td>0         </td><td>0         </td><td>0         </td><td>0         </td><td>0         </td><td>0         </td><td>0         </td><td>0         </td><td>0         </td><td>0         </td></tr>\n",
       "\t<tr><td>2         </td><td>2         </td><td>2007-05-02</td><td>60        </td><td>43        </td><td>17        </td><td>42        </td><td>16        </td><td> 6        </td><td> 1        </td><td>...       </td><td>0         </td><td>0         </td><td>1         </td><td>0         </td><td>0         </td><td>0         </td><td>0         </td><td>0         </td><td>0         </td><td>0         </td></tr>\n",
       "\t<tr><td>3         </td><td>2         </td><td>2007-05-03</td><td>67        </td><td>48        </td><td>23        </td><td>40        </td><td>19        </td><td>28        </td><td> 1        </td><td>...       </td><td>0         </td><td>0         </td><td>1         </td><td>0         </td><td>0         </td><td>0         </td><td>0         </td><td>0         </td><td>0         </td><td>0         </td></tr>\n",
       "\t<tr><td>4         </td><td>2         </td><td>2007-05-04</td><td>78        </td><td>51        </td><td>NA        </td><td>42        </td><td>19        </td><td>NA        </td><td>NA        </td><td>...       </td><td>0         </td><td>0         </td><td>0         </td><td>0         </td><td>0         </td><td>0         </td><td>0         </td><td>0         </td><td>0         </td><td>0         </td></tr>\n",
       "\t<tr><td>5         </td><td>2         </td><td>2007-05-05</td><td>66        </td><td>54        </td><td>25        </td><td>39        </td><td>19        </td><td>26        </td><td> 1        </td><td>...       </td><td>0         </td><td>0         </td><td>0         </td><td>0         </td><td>0         </td><td>0         </td><td>0         </td><td>0         </td><td>0         </td><td>0         </td></tr>\n",
       "\t<tr><td>6         </td><td>2         </td><td>2007-05-06</td><td>68        </td><td>52        </td><td>25        </td><td>30        </td><td>15        </td><td>26        </td><td> 1        </td><td>...       </td><td>0         </td><td>0         </td><td>0         </td><td>0         </td><td>0         </td><td>0         </td><td>0         </td><td>0         </td><td>0         </td><td>0         </td></tr>\n",
       "</tbody>\n",
       "</table>\n"
      ],
      "text/latex": [
       "\\begin{tabular}{r|lllllllllllllllllllllllllllllll}\n",
       " ID & Station2 & Date2 & Tmax2 & Tmin2 & Tavg2 & DewPoint2 & WetBulb2 & Heat2 & Cool2 & ... & FU & GR & HZ & RA & SN & SQ & TS & TSRA & VCFG & VCTS\\\\\n",
       "\\hline\n",
       "\t 1          & 2          & 2007-05-01 & 84         & 52         & 33         & 51         & 26         &  1         &  4         & ...        & 0          & 0          & 0          & 0          & 0          & 0          & 0          & 0          & 0          & 0         \\\\\n",
       "\t 2          & 2          & 2007-05-02 & 60         & 43         & 17         & 42         & 16         &  6         &  1         & ...        & 0          & 0          & 1          & 0          & 0          & 0          & 0          & 0          & 0          & 0         \\\\\n",
       "\t 3          & 2          & 2007-05-03 & 67         & 48         & 23         & 40         & 19         & 28         &  1         & ...        & 0          & 0          & 1          & 0          & 0          & 0          & 0          & 0          & 0          & 0         \\\\\n",
       "\t 4          & 2          & 2007-05-04 & 78         & 51         & NA         & 42         & 19         & NA         & NA         & ...        & 0          & 0          & 0          & 0          & 0          & 0          & 0          & 0          & 0          & 0         \\\\\n",
       "\t 5          & 2          & 2007-05-05 & 66         & 54         & 25         & 39         & 19         & 26         &  1         & ...        & 0          & 0          & 0          & 0          & 0          & 0          & 0          & 0          & 0          & 0         \\\\\n",
       "\t 6          & 2          & 2007-05-06 & 68         & 52         & 25         & 30         & 15         & 26         &  1         & ...        & 0          & 0          & 0          & 0          & 0          & 0          & 0          & 0          & 0          & 0         \\\\\n",
       "\\end{tabular}\n"
      ],
      "text/markdown": [
       "\n",
       "ID | Station2 | Date2 | Tmax2 | Tmin2 | Tavg2 | DewPoint2 | WetBulb2 | Heat2 | Cool2 | ... | FU | GR | HZ | RA | SN | SQ | TS | TSRA | VCFG | VCTS | \n",
       "|---|---|---|---|---|---|\n",
       "| 1          | 2          | 2007-05-01 | 84         | 52         | 33         | 51         | 26         |  1         |  4         | ...        | 0          | 0          | 0          | 0          | 0          | 0          | 0          | 0          | 0          | 0          | \n",
       "| 2          | 2          | 2007-05-02 | 60         | 43         | 17         | 42         | 16         |  6         |  1         | ...        | 0          | 0          | 1          | 0          | 0          | 0          | 0          | 0          | 0          | 0          | \n",
       "| 3          | 2          | 2007-05-03 | 67         | 48         | 23         | 40         | 19         | 28         |  1         | ...        | 0          | 0          | 1          | 0          | 0          | 0          | 0          | 0          | 0          | 0          | \n",
       "| 4          | 2          | 2007-05-04 | 78         | 51         | NA         | 42         | 19         | NA         | NA         | ...        | 0          | 0          | 0          | 0          | 0          | 0          | 0          | 0          | 0          | 0          | \n",
       "| 5          | 2          | 2007-05-05 | 66         | 54         | 25         | 39         | 19         | 26         |  1         | ...        | 0          | 0          | 0          | 0          | 0          | 0          | 0          | 0          | 0          | 0          | \n",
       "| 6          | 2          | 2007-05-06 | 68         | 52         | 25         | 30         | 15         | 26         |  1         | ...        | 0          | 0          | 0          | 0          | 0          | 0          | 0          | 0          | 0          | 0          | \n",
       "\n",
       "\n"
      ],
      "text/plain": [
       "  ID Station2 Date2      Tmax2 Tmin2 Tavg2 DewPoint2 WetBulb2 Heat2 Cool2 ...\n",
       "1 1  2        2007-05-01 84    52    33    51        26        1     4    ...\n",
       "2 2  2        2007-05-02 60    43    17    42        16        6     1    ...\n",
       "3 3  2        2007-05-03 67    48    23    40        19       28     1    ...\n",
       "4 4  2        2007-05-04 78    51    NA    42        19       NA    NA    ...\n",
       "5 5  2        2007-05-05 66    54    25    39        19       26     1    ...\n",
       "6 6  2        2007-05-06 68    52    25    30        15       26     1    ...\n",
       "  FU GR HZ RA SN SQ TS TSRA VCFG VCTS\n",
       "1 0  0  0  0  0  0  0  0    0    0   \n",
       "2 0  0  1  0  0  0  0  0    0    0   \n",
       "3 0  0  1  0  0  0  0  0    0    0   \n",
       "4 0  0  0  0  0  0  0  0    0    0   \n",
       "5 0  0  0  0  0  0  0  0    0    0   \n",
       "6 0  0  0  0  0  0  0  0    0    0   "
      ]
     },
     "metadata": {},
     "output_type": "display_data"
    },
    {
     "data": {
      "text/html": [
       "<ol class=list-inline>\n",
       "\t<li>1472</li>\n",
       "\t<li>31</li>\n",
       "</ol>\n"
      ],
      "text/latex": [
       "\\begin{enumerate*}\n",
       "\\item 1472\n",
       "\\item 31\n",
       "\\end{enumerate*}\n"
      ],
      "text/markdown": [
       "1. 1472\n",
       "2. 31\n",
       "\n",
       "\n"
      ],
      "text/plain": [
       "[1] 1472   31"
      ]
     },
     "metadata": {},
     "output_type": "display_data"
    }
   ],
   "source": [
    "head(wea22)\n",
    "dim(wea22)"
   ]
  },
  {
   "cell_type": "code",
   "execution_count": 25,
   "metadata": {},
   "outputs": [
    {
     "data": {
      "text/html": [
       "<table>\n",
       "<thead><tr><th scope=col>ID</th><th scope=col>Station2</th><th scope=col>Date2</th><th scope=col>Tmax2</th><th scope=col>Tmin2</th><th scope=col>Tavg2</th><th scope=col>DewPoint2</th><th scope=col>WetBulb2</th><th scope=col>Heat2</th><th scope=col>Cool2</th><th scope=col>...</th><th scope=col>RA</th><th scope=col>SN</th><th scope=col>SQ</th><th scope=col>TS</th><th scope=col>TSRA</th><th scope=col>VCFG</th><th scope=col>VCTS</th><th scope=col>Tmax2.imp</th><th scope=col>Tavg2.imp</th><th scope=col>PrecipTotal2.imp</th></tr></thead>\n",
       "<tbody>\n",
       "\t<tr><td>1         </td><td>2         </td><td>2007-05-01</td><td>84        </td><td>52        </td><td>33        </td><td>51        </td><td>26        </td><td> 1        </td><td> 4        </td><td>...       </td><td>0         </td><td>0         </td><td>0         </td><td>0         </td><td>0         </td><td>0         </td><td>0         </td><td>84        </td><td>33.00000  </td><td>0         </td></tr>\n",
       "\t<tr><td>2         </td><td>2         </td><td>2007-05-02</td><td>60        </td><td>43        </td><td>17        </td><td>42        </td><td>16        </td><td> 6        </td><td> 1        </td><td>...       </td><td>0         </td><td>0         </td><td>0         </td><td>0         </td><td>0         </td><td>0         </td><td>0         </td><td>60        </td><td>17.00000  </td><td>0         </td></tr>\n",
       "\t<tr><td>3         </td><td>2         </td><td>2007-05-03</td><td>67        </td><td>48        </td><td>23        </td><td>40        </td><td>19        </td><td>28        </td><td> 1        </td><td>...       </td><td>0         </td><td>0         </td><td>0         </td><td>0         </td><td>0         </td><td>0         </td><td>0         </td><td>67        </td><td>23.00000  </td><td>0         </td></tr>\n",
       "\t<tr><td>4         </td><td>2         </td><td>2007-05-04</td><td>78        </td><td>51        </td><td>NA        </td><td>42        </td><td>19        </td><td>NA        </td><td>NA        </td><td>...       </td><td>0         </td><td>0         </td><td>0         </td><td>0         </td><td>0         </td><td>0         </td><td>0         </td><td>78        </td><td>35.20733  </td><td>0         </td></tr>\n",
       "\t<tr><td>5         </td><td>2         </td><td>2007-05-05</td><td>66        </td><td>54        </td><td>25        </td><td>39        </td><td>19        </td><td>26        </td><td> 1        </td><td>...       </td><td>0         </td><td>0         </td><td>0         </td><td>0         </td><td>0         </td><td>0         </td><td>0         </td><td>66        </td><td>25.00000  </td><td>0         </td></tr>\n",
       "\t<tr><td>6         </td><td>2         </td><td>2007-05-06</td><td>68        </td><td>52        </td><td>25        </td><td>30        </td><td>15        </td><td>26        </td><td> 1        </td><td>...       </td><td>0         </td><td>0         </td><td>0         </td><td>0         </td><td>0         </td><td>0         </td><td>0         </td><td>68        </td><td>25.00000  </td><td>0         </td></tr>\n",
       "</tbody>\n",
       "</table>\n"
      ],
      "text/latex": [
       "\\begin{tabular}{r|llllllllllllllllllllllllllllllllll}\n",
       " ID & Station2 & Date2 & Tmax2 & Tmin2 & Tavg2 & DewPoint2 & WetBulb2 & Heat2 & Cool2 & ... & RA & SN & SQ & TS & TSRA & VCFG & VCTS & Tmax2.imp & Tavg2.imp & PrecipTotal2.imp\\\\\n",
       "\\hline\n",
       "\t 1          & 2          & 2007-05-01 & 84         & 52         & 33         & 51         & 26         &  1         &  4         & ...        & 0          & 0          & 0          & 0          & 0          & 0          & 0          & 84         & 33.00000   & 0         \\\\\n",
       "\t 2          & 2          & 2007-05-02 & 60         & 43         & 17         & 42         & 16         &  6         &  1         & ...        & 0          & 0          & 0          & 0          & 0          & 0          & 0          & 60         & 17.00000   & 0         \\\\\n",
       "\t 3          & 2          & 2007-05-03 & 67         & 48         & 23         & 40         & 19         & 28         &  1         & ...        & 0          & 0          & 0          & 0          & 0          & 0          & 0          & 67         & 23.00000   & 0         \\\\\n",
       "\t 4          & 2          & 2007-05-04 & 78         & 51         & NA         & 42         & 19         & NA         & NA         & ...        & 0          & 0          & 0          & 0          & 0          & 0          & 0          & 78         & 35.20733   & 0         \\\\\n",
       "\t 5          & 2          & 2007-05-05 & 66         & 54         & 25         & 39         & 19         & 26         &  1         & ...        & 0          & 0          & 0          & 0          & 0          & 0          & 0          & 66         & 25.00000   & 0         \\\\\n",
       "\t 6          & 2          & 2007-05-06 & 68         & 52         & 25         & 30         & 15         & 26         &  1         & ...        & 0          & 0          & 0          & 0          & 0          & 0          & 0          & 68         & 25.00000   & 0         \\\\\n",
       "\\end{tabular}\n"
      ],
      "text/markdown": [
       "\n",
       "ID | Station2 | Date2 | Tmax2 | Tmin2 | Tavg2 | DewPoint2 | WetBulb2 | Heat2 | Cool2 | ... | RA | SN | SQ | TS | TSRA | VCFG | VCTS | Tmax2.imp | Tavg2.imp | PrecipTotal2.imp | \n",
       "|---|---|---|---|---|---|\n",
       "| 1          | 2          | 2007-05-01 | 84         | 52         | 33         | 51         | 26         |  1         |  4         | ...        | 0          | 0          | 0          | 0          | 0          | 0          | 0          | 84         | 33.00000   | 0          | \n",
       "| 2          | 2          | 2007-05-02 | 60         | 43         | 17         | 42         | 16         |  6         |  1         | ...        | 0          | 0          | 0          | 0          | 0          | 0          | 0          | 60         | 17.00000   | 0          | \n",
       "| 3          | 2          | 2007-05-03 | 67         | 48         | 23         | 40         | 19         | 28         |  1         | ...        | 0          | 0          | 0          | 0          | 0          | 0          | 0          | 67         | 23.00000   | 0          | \n",
       "| 4          | 2          | 2007-05-04 | 78         | 51         | NA         | 42         | 19         | NA         | NA         | ...        | 0          | 0          | 0          | 0          | 0          | 0          | 0          | 78         | 35.20733   | 0          | \n",
       "| 5          | 2          | 2007-05-05 | 66         | 54         | 25         | 39         | 19         | 26         |  1         | ...        | 0          | 0          | 0          | 0          | 0          | 0          | 0          | 66         | 25.00000   | 0          | \n",
       "| 6          | 2          | 2007-05-06 | 68         | 52         | 25         | 30         | 15         | 26         |  1         | ...        | 0          | 0          | 0          | 0          | 0          | 0          | 0          | 68         | 25.00000   | 0          | \n",
       "\n",
       "\n"
      ],
      "text/plain": [
       "  ID Station2 Date2      Tmax2 Tmin2 Tavg2 DewPoint2 WetBulb2 Heat2 Cool2 ...\n",
       "1 1  2        2007-05-01 84    52    33    51        26        1     4    ...\n",
       "2 2  2        2007-05-02 60    43    17    42        16        6     1    ...\n",
       "3 3  2        2007-05-03 67    48    23    40        19       28     1    ...\n",
       "4 4  2        2007-05-04 78    51    NA    42        19       NA    NA    ...\n",
       "5 5  2        2007-05-05 66    54    25    39        19       26     1    ...\n",
       "6 6  2        2007-05-06 68    52    25    30        15       26     1    ...\n",
       "  RA SN SQ TS TSRA VCFG VCTS Tmax2.imp Tavg2.imp PrecipTotal2.imp\n",
       "1 0  0  0  0  0    0    0    84        33.00000  0               \n",
       "2 0  0  0  0  0    0    0    60        17.00000  0               \n",
       "3 0  0  0  0  0    0    0    67        23.00000  0               \n",
       "4 0  0  0  0  0    0    0    78        35.20733  0               \n",
       "5 0  0  0  0  0    0    0    66        25.00000  0               \n",
       "6 0  0  0  0  0    0    0    68        25.00000  0               "
      ]
     },
     "metadata": {},
     "output_type": "display_data"
    },
    {
     "data": {
      "text/html": [
       "<ol class=list-inline>\n",
       "\t<li>1472</li>\n",
       "\t<li>34</li>\n",
       "</ol>\n"
      ],
      "text/latex": [
       "\\begin{enumerate*}\n",
       "\\item 1472\n",
       "\\item 34\n",
       "\\end{enumerate*}\n"
      ],
      "text/markdown": [
       "1. 1472\n",
       "2. 34\n",
       "\n",
       "\n"
      ],
      "text/plain": [
       "[1] 1472   34"
      ]
     },
     "metadata": {},
     "output_type": "display_data"
    }
   ],
   "source": [
    "wea22<- merge(x = wea22, y = wea22.imp, by = \"ID\", all.x = TRUE)\n",
    "head(wea22)\n",
    "dim(wea22)"
   ]
  },
  {
   "cell_type": "code",
   "execution_count": 26,
   "metadata": {},
   "outputs": [],
   "source": [
    "wea22.imp<-wea22"
   ]
  },
  {
   "cell_type": "code",
   "execution_count": 27,
   "metadata": {},
   "outputs": [
    {
     "data": {
      "text/html": [
       "<table>\n",
       "<thead><tr><th scope=col>ID</th><th scope=col>Station2</th><th scope=col>Date2</th><th scope=col>Tmax2</th><th scope=col>Tmin2</th><th scope=col>Tavg2</th><th scope=col>DewPoint2</th><th scope=col>WetBulb2</th><th scope=col>Heat2</th><th scope=col>Cool2</th><th scope=col>...</th><th scope=col>RA</th><th scope=col>SN</th><th scope=col>SQ</th><th scope=col>TS</th><th scope=col>TSRA</th><th scope=col>VCFG</th><th scope=col>VCTS</th><th scope=col>Tmax2.imp</th><th scope=col>Tavg2.imp</th><th scope=col>PrecipTotal2.imp</th></tr></thead>\n",
       "<tbody>\n",
       "\t<tr><td>1         </td><td>2         </td><td>2007-05-01</td><td>84        </td><td>52        </td><td>33        </td><td>51        </td><td>26        </td><td> 1        </td><td> 4        </td><td>...       </td><td>0         </td><td>0         </td><td>0         </td><td>0         </td><td>0         </td><td>0         </td><td>0         </td><td>84        </td><td>33.00000  </td><td>0         </td></tr>\n",
       "\t<tr><td>2         </td><td>2         </td><td>2007-05-02</td><td>60        </td><td>43        </td><td>17        </td><td>42        </td><td>16        </td><td> 6        </td><td> 1        </td><td>...       </td><td>0         </td><td>0         </td><td>0         </td><td>0         </td><td>0         </td><td>0         </td><td>0         </td><td>60        </td><td>17.00000  </td><td>0         </td></tr>\n",
       "\t<tr><td>3         </td><td>2         </td><td>2007-05-03</td><td>67        </td><td>48        </td><td>23        </td><td>40        </td><td>19        </td><td>28        </td><td> 1        </td><td>...       </td><td>0         </td><td>0         </td><td>0         </td><td>0         </td><td>0         </td><td>0         </td><td>0         </td><td>67        </td><td>23.00000  </td><td>0         </td></tr>\n",
       "\t<tr><td>4         </td><td>2         </td><td>2007-05-04</td><td>78        </td><td>51        </td><td>NA        </td><td>42        </td><td>19        </td><td>NA        </td><td>NA        </td><td>...       </td><td>0         </td><td>0         </td><td>0         </td><td>0         </td><td>0         </td><td>0         </td><td>0         </td><td>78        </td><td>35.20733  </td><td>0         </td></tr>\n",
       "\t<tr><td>5         </td><td>2         </td><td>2007-05-05</td><td>66        </td><td>54        </td><td>25        </td><td>39        </td><td>19        </td><td>26        </td><td> 1        </td><td>...       </td><td>0         </td><td>0         </td><td>0         </td><td>0         </td><td>0         </td><td>0         </td><td>0         </td><td>66        </td><td>25.00000  </td><td>0         </td></tr>\n",
       "\t<tr><td>6         </td><td>2         </td><td>2007-05-06</td><td>68        </td><td>52        </td><td>25        </td><td>30        </td><td>15        </td><td>26        </td><td> 1        </td><td>...       </td><td>0         </td><td>0         </td><td>0         </td><td>0         </td><td>0         </td><td>0         </td><td>0         </td><td>68        </td><td>25.00000  </td><td>0         </td></tr>\n",
       "</tbody>\n",
       "</table>\n"
      ],
      "text/latex": [
       "\\begin{tabular}{r|llllllllllllllllllllllllllllllllll}\n",
       " ID & Station2 & Date2 & Tmax2 & Tmin2 & Tavg2 & DewPoint2 & WetBulb2 & Heat2 & Cool2 & ... & RA & SN & SQ & TS & TSRA & VCFG & VCTS & Tmax2.imp & Tavg2.imp & PrecipTotal2.imp\\\\\n",
       "\\hline\n",
       "\t 1          & 2          & 2007-05-01 & 84         & 52         & 33         & 51         & 26         &  1         &  4         & ...        & 0          & 0          & 0          & 0          & 0          & 0          & 0          & 84         & 33.00000   & 0         \\\\\n",
       "\t 2          & 2          & 2007-05-02 & 60         & 43         & 17         & 42         & 16         &  6         &  1         & ...        & 0          & 0          & 0          & 0          & 0          & 0          & 0          & 60         & 17.00000   & 0         \\\\\n",
       "\t 3          & 2          & 2007-05-03 & 67         & 48         & 23         & 40         & 19         & 28         &  1         & ...        & 0          & 0          & 0          & 0          & 0          & 0          & 0          & 67         & 23.00000   & 0         \\\\\n",
       "\t 4          & 2          & 2007-05-04 & 78         & 51         & NA         & 42         & 19         & NA         & NA         & ...        & 0          & 0          & 0          & 0          & 0          & 0          & 0          & 78         & 35.20733   & 0         \\\\\n",
       "\t 5          & 2          & 2007-05-05 & 66         & 54         & 25         & 39         & 19         & 26         &  1         & ...        & 0          & 0          & 0          & 0          & 0          & 0          & 0          & 66         & 25.00000   & 0         \\\\\n",
       "\t 6          & 2          & 2007-05-06 & 68         & 52         & 25         & 30         & 15         & 26         &  1         & ...        & 0          & 0          & 0          & 0          & 0          & 0          & 0          & 68         & 25.00000   & 0         \\\\\n",
       "\\end{tabular}\n"
      ],
      "text/markdown": [
       "\n",
       "ID | Station2 | Date2 | Tmax2 | Tmin2 | Tavg2 | DewPoint2 | WetBulb2 | Heat2 | Cool2 | ... | RA | SN | SQ | TS | TSRA | VCFG | VCTS | Tmax2.imp | Tavg2.imp | PrecipTotal2.imp | \n",
       "|---|---|---|---|---|---|\n",
       "| 1          | 2          | 2007-05-01 | 84         | 52         | 33         | 51         | 26         |  1         |  4         | ...        | 0          | 0          | 0          | 0          | 0          | 0          | 0          | 84         | 33.00000   | 0          | \n",
       "| 2          | 2          | 2007-05-02 | 60         | 43         | 17         | 42         | 16         |  6         |  1         | ...        | 0          | 0          | 0          | 0          | 0          | 0          | 0          | 60         | 17.00000   | 0          | \n",
       "| 3          | 2          | 2007-05-03 | 67         | 48         | 23         | 40         | 19         | 28         |  1         | ...        | 0          | 0          | 0          | 0          | 0          | 0          | 0          | 67         | 23.00000   | 0          | \n",
       "| 4          | 2          | 2007-05-04 | 78         | 51         | NA         | 42         | 19         | NA         | NA         | ...        | 0          | 0          | 0          | 0          | 0          | 0          | 0          | 78         | 35.20733   | 0          | \n",
       "| 5          | 2          | 2007-05-05 | 66         | 54         | 25         | 39         | 19         | 26         |  1         | ...        | 0          | 0          | 0          | 0          | 0          | 0          | 0          | 66         | 25.00000   | 0          | \n",
       "| 6          | 2          | 2007-05-06 | 68         | 52         | 25         | 30         | 15         | 26         |  1         | ...        | 0          | 0          | 0          | 0          | 0          | 0          | 0          | 68         | 25.00000   | 0          | \n",
       "\n",
       "\n"
      ],
      "text/plain": [
       "  ID Station2 Date2      Tmax2 Tmin2 Tavg2 DewPoint2 WetBulb2 Heat2 Cool2 ...\n",
       "1 1  2        2007-05-01 84    52    33    51        26        1     4    ...\n",
       "2 2  2        2007-05-02 60    43    17    42        16        6     1    ...\n",
       "3 3  2        2007-05-03 67    48    23    40        19       28     1    ...\n",
       "4 4  2        2007-05-04 78    51    NA    42        19       NA    NA    ...\n",
       "5 5  2        2007-05-05 66    54    25    39        19       26     1    ...\n",
       "6 6  2        2007-05-06 68    52    25    30        15       26     1    ...\n",
       "  RA SN SQ TS TSRA VCFG VCTS Tmax2.imp Tavg2.imp PrecipTotal2.imp\n",
       "1 0  0  0  0  0    0    0    84        33.00000  0               \n",
       "2 0  0  0  0  0    0    0    60        17.00000  0               \n",
       "3 0  0  0  0  0    0    0    67        23.00000  0               \n",
       "4 0  0  0  0  0    0    0    78        35.20733  0               \n",
       "5 0  0  0  0  0    0    0    66        25.00000  0               \n",
       "6 0  0  0  0  0    0    0    68        25.00000  0               "
      ]
     },
     "metadata": {},
     "output_type": "display_data"
    },
    {
     "data": {
      "text/html": [
       "<ol class=list-inline>\n",
       "\t<li>1472</li>\n",
       "\t<li>34</li>\n",
       "</ol>\n"
      ],
      "text/latex": [
       "\\begin{enumerate*}\n",
       "\\item 1472\n",
       "\\item 34\n",
       "\\end{enumerate*}\n"
      ],
      "text/markdown": [
       "1. 1472\n",
       "2. 34\n",
       "\n",
       "\n"
      ],
      "text/plain": [
       "[1] 1472   34"
      ]
     },
     "metadata": {},
     "output_type": "display_data"
    }
   ],
   "source": [
    "head(wea22.imp)\n",
    "dim(wea22.imp)"
   ]
  },
  {
   "cell_type": "code",
   "execution_count": 28,
   "metadata": {},
   "outputs": [],
   "source": [
    "write.csv(wea22.imp, file=\"C:/Users/Chen/Project/data/wea22.imp.csv\", row.names =F)"
   ]
  },
  {
   "cell_type": "code",
   "execution_count": null,
   "metadata": {},
   "outputs": [],
   "source": [
    "colnames(wea2) <- c("
   ]
  },
  {
   "cell_type": "code",
   "execution_count": 29,
   "metadata": {},
   "outputs": [
    {
     "data": {
      "text/html": [
       "17"
      ],
      "text/latex": [
       "17"
      ],
      "text/markdown": [
       "17"
      ],
      "text/plain": [
       "[1] 17"
      ]
     },
     "metadata": {},
     "output_type": "display_data"
    }
   ],
   "source": [
    "grep('BCFG', colnames(wea22))"
   ]
  },
  {
   "cell_type": "code",
   "execution_count": 10,
   "metadata": {},
   "outputs": [
    {
     "name": "stdout",
     "output_type": "stream",
     "text": [
      "'data.frame':\t1472 obs. of  31 variables:\n",
      " $ ID          : int  1 2 3 4 5 6 7 8 9 10 ...\n",
      " $ Station2    : int  2 2 2 2 2 2 2 2 2 2 ...\n",
      " $ Date2       : Date, format: \"2007-05-01\" \"2007-05-02\" ...\n",
      " $ Tmax2       : int  84 60 67 78 66 68 84 80 76 83 ...\n",
      " $ Tmin2       : int  52 43 48 51 54 52 50 60 63 59 ...\n",
      " $ Tavg2       : num  33 17 23 NA 25 25 32 35 35 36 ...\n",
      " $ DewPoint2   : int  51 42 40 42 39 30 39 57 60 52 ...\n",
      " $ WetBulb2    : num  26 16 19 19 19 15 22 32 32 30 ...\n",
      " $ Heat2       : num  1 6 28 NA 26 26 1 1 1 1 ...\n",
      " $ Cool2       : num  4 1 1 NA 1 1 3 6 6 7 ...\n",
      " $ PrecipTotal2: num  0 0 0 0 0 0 0 0 0.02 0 ...\n",
      " $ StnPressure2: num  29.2 29.4 29.5 29.4 29.5 ...\n",
      " $ SeaLevel2   : num  29.8 30.1 30.1 30 30.1 ...\n",
      " $ ResultSpeed2: num  2.7 13.3 12.9 10.1 11.2 13.8 8.5 2.5 3.9 2 ...\n",
      " $ ResultDir2  : int  25 2 6 7 7 10 17 8 7 9 ...\n",
      " $ AvgSpeed2   : num  9.6 13.4 13.2 10.4 11.5 14.5 9.9 5.4 5.9 3.9 ...\n",
      " $ BCFG        : int  0 0 0 0 0 0 0 0 0 0 ...\n",
      " $ BR          : int  0 1 0 0 0 0 0 0 1 1 ...\n",
      " $ DZ          : int  0 0 0 0 0 0 0 0 0 0 ...\n",
      " $ FG          : int  0 0 0 0 0 0 0 0 0 0 ...\n",
      " $ FG.         : int  0 0 0 0 0 0 0 0 0 0 ...\n",
      " $ FU          : int  0 0 0 0 0 0 0 0 0 0 ...\n",
      " $ GR          : int  0 0 0 0 0 0 0 0 0 0 ...\n",
      " $ HZ          : int  0 1 1 0 0 0 0 1 1 1 ...\n",
      " $ RA          : int  0 0 0 0 0 0 0 0 0 0 ...\n",
      " $ SN          : int  0 0 0 0 0 0 0 0 0 0 ...\n",
      " $ SQ          : int  0 0 0 0 0 0 0 0 0 0 ...\n",
      " $ TS          : int  0 0 0 0 0 0 0 0 0 0 ...\n",
      " $ TSRA        : int  0 0 0 0 0 0 0 0 0 0 ...\n",
      " $ VCFG        : int  0 0 0 0 0 0 0 0 0 0 ...\n",
      " $ VCTS        : int  0 0 0 0 0 0 0 0 0 0 ...\n"
     ]
    }
   ],
   "source": [
    "str(wea22)"
   ]
  }
 ],
 "metadata": {
  "kernelspec": {
   "display_name": "R",
   "language": "R",
   "name": "ir"
  },
  "language_info": {
   "codemirror_mode": "r",
   "file_extension": ".r",
   "mimetype": "text/x-r-source",
   "name": "R",
   "pygments_lexer": "r",
   "version": "3.5.1"
  }
 },
 "nbformat": 4,
 "nbformat_minor": 2
}
