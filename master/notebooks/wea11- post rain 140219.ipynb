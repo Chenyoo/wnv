{
 "cells": [
  {
   "cell_type": "code",
   "execution_count": 1,
   "metadata": {},
   "outputs": [
    {
     "name": "stderr",
     "output_type": "stream",
     "text": [
      "\n",
      "Attaching package: 'dplyr'\n",
      "\n",
      "The following objects are masked from 'package:stats':\n",
      "\n",
      "    filter, lag\n",
      "\n",
      "The following objects are masked from 'package:base':\n",
      "\n",
      "    intersect, setdiff, setequal, union\n",
      "\n",
      "\n",
      "Attaching package: 'data.table'\n",
      "\n",
      "The following objects are masked from 'package:dplyr':\n",
      "\n",
      "    between, first, last\n",
      "\n",
      "Warning message:\n",
      "\"package 'Hmisc' was built under R version 3.5.2\"Loading required package: lattice\n",
      "Loading required package: survival\n",
      "Loading required package: Formula\n",
      "\n",
      "Attaching package: 'Hmisc'\n",
      "\n",
      "The following objects are masked from 'package:dplyr':\n",
      "\n",
      "    src, summarize\n",
      "\n",
      "The following objects are masked from 'package:base':\n",
      "\n",
      "    format.pval, units\n",
      "\n",
      "Loading required package: geepack\n",
      "Loading required package: geeM\n",
      "Loading required package: Matrix\n"
     ]
    }
   ],
   "source": [
    "library(dplyr)\n",
    "library(ggplot2)\n",
    "library(data.table)\n",
    "library(Hmisc)\n",
    "library(MESS)"
   ]
  },
  {
   "cell_type": "code",
   "execution_count": 9,
   "metadata": {},
   "outputs": [],
   "source": [
    "wea11 <- read.csv(file=\"C:/Users/Chen/Project/data/wea11.csv\")"
   ]
  },
  {
   "cell_type": "code",
   "execution_count": 10,
   "metadata": {},
   "outputs": [
    {
     "data": {
      "text/html": [
       "<table>\n",
       "<thead><tr><th scope=col>Station</th><th scope=col>Date</th><th scope=col>Tmax</th><th scope=col>Tmin</th><th scope=col>Tavg</th><th scope=col>Depart</th><th scope=col>DewPoint</th><th scope=col>WetBulb</th><th scope=col>Heat</th><th scope=col>Cool</th><th scope=col>...</th><th scope=col>FU</th><th scope=col>HZ</th><th scope=col>MIFG</th><th scope=col>RA</th><th scope=col>SN</th><th scope=col>SQ</th><th scope=col>TS</th><th scope=col>TSRA</th><th scope=col>VCTS</th><th scope=col>Date2</th></tr></thead>\n",
       "<tbody>\n",
       "\t<tr><td>1         </td><td>2007-05-01</td><td>83        </td><td>50        </td><td>32        </td><td>32        </td><td>51        </td><td>25        </td><td> 1        </td><td>3         </td><td>...       </td><td>0         </td><td>0         </td><td>0         </td><td>0         </td><td>0         </td><td>0         </td><td>0         </td><td>0         </td><td>0         </td><td>2007-05-01</td></tr>\n",
       "\t<tr><td>1         </td><td>2007-05-02</td><td>59        </td><td>42        </td><td>16        </td><td>11        </td><td>42        </td><td>16        </td><td> 7        </td><td>1         </td><td>...       </td><td>0         </td><td>0         </td><td>0         </td><td>0         </td><td>0         </td><td>0         </td><td>0         </td><td>0         </td><td>0         </td><td>2007-05-02</td></tr>\n",
       "\t<tr><td>1         </td><td>2007-05-03</td><td>66        </td><td>46        </td><td>21        </td><td>20        </td><td>40        </td><td>17        </td><td>30        </td><td>1         </td><td>...       </td><td>0         </td><td>0         </td><td>0         </td><td>0         </td><td>0         </td><td>0         </td><td>0         </td><td>0         </td><td>0         </td><td>2007-05-03</td></tr>\n",
       "\t<tr><td>1         </td><td>2007-05-04</td><td>66        </td><td>49        </td><td>23        </td><td>22        </td><td>41        </td><td>19        </td><td>28        </td><td>1         </td><td>...       </td><td>0         </td><td>0         </td><td>0         </td><td>1         </td><td>0         </td><td>0         </td><td>0         </td><td>0         </td><td>0         </td><td>2007-05-04</td></tr>\n",
       "\t<tr><td>1         </td><td>2007-05-05</td><td>66        </td><td>53        </td><td>25        </td><td>23        </td><td>38        </td><td>18        </td><td>26        </td><td>1         </td><td>...       </td><td>0         </td><td>0         </td><td>0         </td><td>0         </td><td>0         </td><td>0         </td><td>0         </td><td>0         </td><td>0         </td><td>2007-05-05</td></tr>\n",
       "\t<tr><td>1         </td><td>2007-05-06</td><td>68        </td><td>49        </td><td>24        </td><td>22        </td><td>30        </td><td>15        </td><td>27        </td><td>1         </td><td>...       </td><td>0         </td><td>0         </td><td>0         </td><td>0         </td><td>0         </td><td>0         </td><td>0         </td><td>0         </td><td>0         </td><td>2007-05-06</td></tr>\n",
       "</tbody>\n",
       "</table>\n"
      ],
      "text/latex": [
       "\\begin{tabular}{r|llllllllllllllllllllllllllllllllll}\n",
       " Station & Date & Tmax & Tmin & Tavg & Depart & DewPoint & WetBulb & Heat & Cool & ... & FU & HZ & MIFG & RA & SN & SQ & TS & TSRA & VCTS & Date2\\\\\n",
       "\\hline\n",
       "\t 1          & 2007-05-01 & 83         & 50         & 32         & 32         & 51         & 25         &  1         & 3          & ...        & 0          & 0          & 0          & 0          & 0          & 0          & 0          & 0          & 0          & 2007-05-01\\\\\n",
       "\t 1          & 2007-05-02 & 59         & 42         & 16         & 11         & 42         & 16         &  7         & 1          & ...        & 0          & 0          & 0          & 0          & 0          & 0          & 0          & 0          & 0          & 2007-05-02\\\\\n",
       "\t 1          & 2007-05-03 & 66         & 46         & 21         & 20         & 40         & 17         & 30         & 1          & ...        & 0          & 0          & 0          & 0          & 0          & 0          & 0          & 0          & 0          & 2007-05-03\\\\\n",
       "\t 1          & 2007-05-04 & 66         & 49         & 23         & 22         & 41         & 19         & 28         & 1          & ...        & 0          & 0          & 0          & 1          & 0          & 0          & 0          & 0          & 0          & 2007-05-04\\\\\n",
       "\t 1          & 2007-05-05 & 66         & 53         & 25         & 23         & 38         & 18         & 26         & 1          & ...        & 0          & 0          & 0          & 0          & 0          & 0          & 0          & 0          & 0          & 2007-05-05\\\\\n",
       "\t 1          & 2007-05-06 & 68         & 49         & 24         & 22         & 30         & 15         & 27         & 1          & ...        & 0          & 0          & 0          & 0          & 0          & 0          & 0          & 0          & 0          & 2007-05-06\\\\\n",
       "\\end{tabular}\n"
      ],
      "text/markdown": [
       "\n",
       "Station | Date | Tmax | Tmin | Tavg | Depart | DewPoint | WetBulb | Heat | Cool | ... | FU | HZ | MIFG | RA | SN | SQ | TS | TSRA | VCTS | Date2 | \n",
       "|---|---|---|---|---|---|\n",
       "| 1          | 2007-05-01 | 83         | 50         | 32         | 32         | 51         | 25         |  1         | 3          | ...        | 0          | 0          | 0          | 0          | 0          | 0          | 0          | 0          | 0          | 2007-05-01 | \n",
       "| 1          | 2007-05-02 | 59         | 42         | 16         | 11         | 42         | 16         |  7         | 1          | ...        | 0          | 0          | 0          | 0          | 0          | 0          | 0          | 0          | 0          | 2007-05-02 | \n",
       "| 1          | 2007-05-03 | 66         | 46         | 21         | 20         | 40         | 17         | 30         | 1          | ...        | 0          | 0          | 0          | 0          | 0          | 0          | 0          | 0          | 0          | 2007-05-03 | \n",
       "| 1          | 2007-05-04 | 66         | 49         | 23         | 22         | 41         | 19         | 28         | 1          | ...        | 0          | 0          | 0          | 1          | 0          | 0          | 0          | 0          | 0          | 2007-05-04 | \n",
       "| 1          | 2007-05-05 | 66         | 53         | 25         | 23         | 38         | 18         | 26         | 1          | ...        | 0          | 0          | 0          | 0          | 0          | 0          | 0          | 0          | 0          | 2007-05-05 | \n",
       "| 1          | 2007-05-06 | 68         | 49         | 24         | 22         | 30         | 15         | 27         | 1          | ...        | 0          | 0          | 0          | 0          | 0          | 0          | 0          | 0          | 0          | 2007-05-06 | \n",
       "\n",
       "\n"
      ],
      "text/plain": [
       "  Station Date       Tmax Tmin Tavg Depart DewPoint WetBulb Heat Cool ... FU HZ\n",
       "1 1       2007-05-01 83   50   32   32     51       25       1   3    ... 0  0 \n",
       "2 1       2007-05-02 59   42   16   11     42       16       7   1    ... 0  0 \n",
       "3 1       2007-05-03 66   46   21   20     40       17      30   1    ... 0  0 \n",
       "4 1       2007-05-04 66   49   23   22     41       19      28   1    ... 0  0 \n",
       "5 1       2007-05-05 66   53   25   23     38       18      26   1    ... 0  0 \n",
       "6 1       2007-05-06 68   49   24   22     30       15      27   1    ... 0  0 \n",
       "  MIFG RA SN SQ TS TSRA VCTS Date2     \n",
       "1 0    0  0  0  0  0    0    2007-05-01\n",
       "2 0    0  0  0  0  0    0    2007-05-02\n",
       "3 0    0  0  0  0  0    0    2007-05-03\n",
       "4 0    1  0  0  0  0    0    2007-05-04\n",
       "5 0    0  0  0  0  0    0    2007-05-05\n",
       "6 0    0  0  0  0  0    0    2007-05-06"
      ]
     },
     "metadata": {},
     "output_type": "display_data"
    }
   ],
   "source": [
    "head(wea11)"
   ]
  },
  {
   "cell_type": "code",
   "execution_count": 11,
   "metadata": {},
   "outputs": [
    {
     "data": {
      "text/html": [
       "<ol class=list-inline>\n",
       "\t<li>1472</li>\n",
       "\t<li>34</li>\n",
       "</ol>\n"
      ],
      "text/latex": [
       "\\begin{enumerate*}\n",
       "\\item 1472\n",
       "\\item 34\n",
       "\\end{enumerate*}\n"
      ],
      "text/markdown": [
       "1. 1472\n",
       "2. 34\n",
       "\n",
       "\n"
      ],
      "text/plain": [
       "[1] 1472   34"
      ]
     },
     "metadata": {},
     "output_type": "display_data"
    }
   ],
   "source": [
    "dim(wea11)"
   ]
  },
  {
   "cell_type": "code",
   "execution_count": 12,
   "metadata": {},
   "outputs": [
    {
     "data": {
      "text/html": [
       "<ol class=list-inline>\n",
       "\t<li>'Station'</li>\n",
       "\t<li>'Date'</li>\n",
       "\t<li>'Tmax'</li>\n",
       "\t<li>'Tmin'</li>\n",
       "\t<li>'Tavg'</li>\n",
       "\t<li>'Depart'</li>\n",
       "\t<li>'DewPoint'</li>\n",
       "\t<li>'WetBulb'</li>\n",
       "\t<li>'Heat'</li>\n",
       "\t<li>'Cool'</li>\n",
       "\t<li>'Sunrise'</li>\n",
       "\t<li>'Sunset'</li>\n",
       "\t<li>'SnowFall'</li>\n",
       "\t<li>'PrecipTotal'</li>\n",
       "\t<li>'StnPressure'</li>\n",
       "\t<li>'SeaLevel'</li>\n",
       "\t<li>'ResultSpeed'</li>\n",
       "\t<li>'ResultDir'</li>\n",
       "\t<li>'AvgSpeed'</li>\n",
       "\t<li>'BCFG'</li>\n",
       "\t<li>'BR'</li>\n",
       "\t<li>'DZ'</li>\n",
       "\t<li>'FG'</li>\n",
       "\t<li>'FG.'</li>\n",
       "\t<li>'FU'</li>\n",
       "\t<li>'HZ'</li>\n",
       "\t<li>'MIFG'</li>\n",
       "\t<li>'RA'</li>\n",
       "\t<li>'SN'</li>\n",
       "\t<li>'SQ'</li>\n",
       "\t<li>'TS'</li>\n",
       "\t<li>'TSRA'</li>\n",
       "\t<li>'VCTS'</li>\n",
       "\t<li>'Date2'</li>\n",
       "</ol>\n"
      ],
      "text/latex": [
       "\\begin{enumerate*}\n",
       "\\item 'Station'\n",
       "\\item 'Date'\n",
       "\\item 'Tmax'\n",
       "\\item 'Tmin'\n",
       "\\item 'Tavg'\n",
       "\\item 'Depart'\n",
       "\\item 'DewPoint'\n",
       "\\item 'WetBulb'\n",
       "\\item 'Heat'\n",
       "\\item 'Cool'\n",
       "\\item 'Sunrise'\n",
       "\\item 'Sunset'\n",
       "\\item 'SnowFall'\n",
       "\\item 'PrecipTotal'\n",
       "\\item 'StnPressure'\n",
       "\\item 'SeaLevel'\n",
       "\\item 'ResultSpeed'\n",
       "\\item 'ResultDir'\n",
       "\\item 'AvgSpeed'\n",
       "\\item 'BCFG'\n",
       "\\item 'BR'\n",
       "\\item 'DZ'\n",
       "\\item 'FG'\n",
       "\\item 'FG.'\n",
       "\\item 'FU'\n",
       "\\item 'HZ'\n",
       "\\item 'MIFG'\n",
       "\\item 'RA'\n",
       "\\item 'SN'\n",
       "\\item 'SQ'\n",
       "\\item 'TS'\n",
       "\\item 'TSRA'\n",
       "\\item 'VCTS'\n",
       "\\item 'Date2'\n",
       "\\end{enumerate*}\n"
      ],
      "text/markdown": [
       "1. 'Station'\n",
       "2. 'Date'\n",
       "3. 'Tmax'\n",
       "4. 'Tmin'\n",
       "5. 'Tavg'\n",
       "6. 'Depart'\n",
       "7. 'DewPoint'\n",
       "8. 'WetBulb'\n",
       "9. 'Heat'\n",
       "10. 'Cool'\n",
       "11. 'Sunrise'\n",
       "12. 'Sunset'\n",
       "13. 'SnowFall'\n",
       "14. 'PrecipTotal'\n",
       "15. 'StnPressure'\n",
       "16. 'SeaLevel'\n",
       "17. 'ResultSpeed'\n",
       "18. 'ResultDir'\n",
       "19. 'AvgSpeed'\n",
       "20. 'BCFG'\n",
       "21. 'BR'\n",
       "22. 'DZ'\n",
       "23. 'FG'\n",
       "24. 'FG.'\n",
       "25. 'FU'\n",
       "26. 'HZ'\n",
       "27. 'MIFG'\n",
       "28. 'RA'\n",
       "29. 'SN'\n",
       "30. 'SQ'\n",
       "31. 'TS'\n",
       "32. 'TSRA'\n",
       "33. 'VCTS'\n",
       "34. 'Date2'\n",
       "\n",
       "\n"
      ],
      "text/plain": [
       " [1] \"Station\"     \"Date\"        \"Tmax\"        \"Tmin\"        \"Tavg\"       \n",
       " [6] \"Depart\"      \"DewPoint\"    \"WetBulb\"     \"Heat\"        \"Cool\"       \n",
       "[11] \"Sunrise\"     \"Sunset\"      \"SnowFall\"    \"PrecipTotal\" \"StnPressure\"\n",
       "[16] \"SeaLevel\"    \"ResultSpeed\" \"ResultDir\"   \"AvgSpeed\"    \"BCFG\"       \n",
       "[21] \"BR\"          \"DZ\"          \"FG\"          \"FG.\"         \"FU\"         \n",
       "[26] \"HZ\"          \"MIFG\"        \"RA\"          \"SN\"          \"SQ\"         \n",
       "[31] \"TS\"          \"TSRA\"        \"VCTS\"        \"Date2\"      "
      ]
     },
     "metadata": {},
     "output_type": "display_data"
    }
   ],
   "source": [
    "colnames(wea11)"
   ]
  },
  {
   "cell_type": "code",
   "execution_count": 13,
   "metadata": {},
   "outputs": [],
   "source": [
    "wea11$Date<- as.Date(wea11$Date, format = \"%Y-%m-%d\")"
   ]
  },
  {
   "cell_type": "code",
   "execution_count": 16,
   "metadata": {},
   "outputs": [],
   "source": [
    "wea11$Date2<-NULL"
   ]
  },
  {
   "cell_type": "code",
   "execution_count": 17,
   "metadata": {},
   "outputs": [
    {
     "name": "stdout",
     "output_type": "stream",
     "text": [
      "'data.frame':\t1472 obs. of  33 variables:\n",
      " $ Station    : int  1 1 1 1 1 1 1 1 1 1 ...\n",
      " $ Date       : Date, format: \"2007-05-01\" \"2007-05-02\" ...\n",
      " $ Tmax       : int  83 59 66 66 66 68 83 82 77 84 ...\n",
      " $ Tmin       : int  50 42 46 49 53 49 47 54 61 56 ...\n",
      " $ Tavg       : int  32 16 21 23 25 24 30 33 34 35 ...\n",
      " $ Depart     : int  32 11 20 22 23 22 28 30 31 32 ...\n",
      " $ DewPoint   : int  51 42 40 41 38 30 41 58 59 52 ...\n",
      " $ WetBulb    : int  25 16 17 19 18 15 23 31 32 29 ...\n",
      " $ Heat       : int  1 7 30 28 26 27 1 1 1 1 ...\n",
      " $ Cool       : int  3 1 1 1 1 1 1 4 5 6 ...\n",
      " $ Sunrise    : int  448 447 446 444 443 442 441 439 438 437 ...\n",
      " $ Sunset     : int  1849 1850 1851 1852 1853 1855 1856 1857 1858 1859 ...\n",
      " $ SnowFall   : num  0 0 0 0 0 0 0 0 0 0 ...\n",
      " $ PrecipTotal: num  0 0 0 0 0 0 0 0 0.13 0 ...\n",
      " $ StnPressure: num  29.1 29.4 29.4 29.3 29.4 ...\n",
      " $ SeaLevel   : num  29.8 30.1 30.1 30.1 30.1 ...\n",
      " $ ResultSpeed: num  1.7 13 11.7 10.4 11.7 14.4 8.6 2.7 3.9 0.7 ...\n",
      " $ ResultDir  : int  27 4 7 8 7 11 18 11 9 17 ...\n",
      " $ AvgSpeed   : num  9.2 13.4 11.9 10.8 12 15 10.5 5.8 6.2 4.1 ...\n",
      " $ BCFG       : int  0 0 0 0 0 0 0 0 0 0 ...\n",
      " $ BR         : int  0 1 0 0 0 0 0 1 1 1 ...\n",
      " $ DZ         : int  0 0 0 0 0 0 0 0 0 0 ...\n",
      " $ FG         : int  0 0 0 0 0 0 0 0 0 0 ...\n",
      " $ FG.        : int  0 0 0 0 0 0 0 0 0 0 ...\n",
      " $ FU         : int  0 0 0 0 0 0 0 0 0 0 ...\n",
      " $ HZ         : int  0 0 0 0 0 0 0 0 1 0 ...\n",
      " $ MIFG       : int  0 0 0 0 0 0 0 0 0 0 ...\n",
      " $ RA         : int  0 0 0 1 0 0 1 0 0 0 ...\n",
      " $ SN         : int  0 0 0 0 0 0 0 0 0 0 ...\n",
      " $ SQ         : int  0 0 0 0 0 0 0 0 0 0 ...\n",
      " $ TS         : int  0 0 0 0 0 0 0 0 0 0 ...\n",
      " $ TSRA       : int  0 0 0 0 0 0 0 0 0 0 ...\n",
      " $ VCTS       : int  0 0 0 0 0 0 0 0 0 0 ...\n"
     ]
    }
   ],
   "source": [
    "str(wea11)"
   ]
  },
  {
   "cell_type": "markdown",
   "metadata": {},
   "source": [
    "### Total number of raining days in the last 45 days\n",
    "I see that there is only one station in this dataset, and there are 1472 rows.\n",
    "The firs think you want is the sum of the raining (RA) days in the last 45 days. Take into account that there will be 45 missing values entered for the first 45 days.\n",
    "We will use the xts (time series object) to create a TS for the actual date and the rain:"
   ]
  },
  {
   "cell_type": "code",
   "execution_count": 18,
   "metadata": {},
   "outputs": [
    {
     "name": "stderr",
     "output_type": "stream",
     "text": [
      "Warning message:\n",
      "\"package 'xts' was built under R version 3.5.2\"Loading required package: zoo\n",
      "Warning message:\n",
      "\"package 'zoo' was built under R version 3.5.2\"\n",
      "Attaching package: 'zoo'\n",
      "\n",
      "The following objects are masked from 'package:base':\n",
      "\n",
      "    as.Date, as.Date.numeric\n",
      "\n",
      "\n",
      "Attaching package: 'xts'\n",
      "\n",
      "The following objects are masked from 'package:data.table':\n",
      "\n",
      "    first, last\n",
      "\n",
      "The following objects are masked from 'package:dplyr':\n",
      "\n",
      "    first, last\n",
      "\n"
     ]
    }
   ],
   "source": [
    "library(xts)\n",
    "q <- wea11[,c(\"Date\",\"RA\")]\n",
    "qxts <- xts(q[,\"RA\"], order.by=q[,\"Date\"])\n",
    "names(qxts) <- \"RA\""
   ]
  },
  {
   "cell_type": "code",
   "execution_count": 19,
   "metadata": {},
   "outputs": [
    {
     "data": {
      "text/plain": [
       "           RA\n",
       "2007-05-01  0\n",
       "2007-05-02  0\n",
       "2007-05-03  0\n",
       "2007-05-04  1\n",
       "2007-05-05  0\n",
       "2007-05-06  0"
      ]
     },
     "metadata": {},
     "output_type": "display_data"
    }
   ],
   "source": [
    "head(qxts)"
   ]
  },
  {
   "cell_type": "code",
   "execution_count": 20,
   "metadata": {},
   "outputs": [
    {
     "name": "stderr",
     "output_type": "stream",
     "text": [
      "Warning message:\n",
      "\"package 'quantmod' was built under R version 3.5.2\"Loading required package: TTR\n",
      "Warning message:\n",
      "\"package 'TTR' was built under R version 3.5.2\"Version 0.4-0 included new data defaults. See ?getSymbols.\n",
      "\n",
      "Attaching package: 'quantmod'\n",
      "\n",
      "The following object is masked from 'package:Hmisc':\n",
      "\n",
      "    Lag\n",
      "\n"
     ]
    },
    {
     "data": {
      "text/plain": [
       "           RA RA45\n",
       "2007-05-01  0   NA\n",
       "2007-05-02  0   NA\n",
       "2007-05-03  0   NA\n",
       "2007-05-04  1   NA\n",
       "2007-05-05  0   NA\n",
       "2007-05-06  0   NA\n",
       "2007-05-07  1   NA\n",
       "2007-05-08  0   NA\n",
       "2007-05-09  0   NA\n",
       "2007-05-10  0   NA\n",
       "2007-05-11  0   NA\n",
       "2007-05-12  0   NA\n",
       "2007-05-13  0   NA\n",
       "2007-05-14  0   NA\n",
       "2007-05-15  1   NA\n",
       "2007-05-16  1   NA\n",
       "2007-05-17  0   NA\n",
       "2007-05-18  0   NA\n",
       "2007-05-19  0   NA\n",
       "2007-05-20  1   NA\n",
       "2007-05-21  0   NA\n",
       "2007-05-22  0   NA\n",
       "2007-05-23  0   NA\n",
       "2007-05-24  1   NA\n",
       "2007-05-25  0   NA\n",
       "2007-05-26  1   NA\n",
       "2007-05-27  1   NA\n",
       "2007-05-28  1   NA\n",
       "2007-05-29  0   NA\n",
       "2007-05-30  0   NA\n",
       "2007-05-31  1   NA\n",
       "2007-06-01  0   NA\n",
       "2007-06-02  1   NA\n",
       "2007-06-03  1   NA\n",
       "2007-06-04  1   NA\n",
       "2007-06-05  1   NA\n",
       "2007-06-06  1   NA\n",
       "2007-06-07  0   NA\n",
       "2007-06-08  0   NA\n",
       "2007-06-09  0   NA\n",
       "2007-06-10  0   NA\n",
       "2007-06-11  0   NA\n",
       "2007-06-12  0   NA\n",
       "2007-06-13  0   NA\n",
       "2007-06-14  0   15\n",
       "2007-06-15  0   15\n",
       "2007-06-16  1   16\n",
       "2007-06-17  0   16\n",
       "2007-06-18  1   16\n",
       "2007-06-19  1   17"
      ]
     },
     "metadata": {},
     "output_type": "display_data"
    }
   ],
   "source": [
    "library(quantmod)\n",
    "\n",
    "qxts$RA45 = runSum(qxts$RA,n=45)\n",
    "head(qxts,50)\n"
   ]
  },
  {
   "cell_type": "code",
   "execution_count": 21,
   "metadata": {},
   "outputs": [
    {
     "data": {
      "image/png": "[encoded data removed]",
      "text/plain": [
       "Plot with title \"Histogram of qxts$RA45\""
      ]
     },
     "metadata": {},
     "output_type": "display_data"
    }
   ],
   "source": [
    "hist(qxts$RA45)"
   ]
  },
  {
   "cell_type": "code",
   "execution_count": 22,
   "metadata": {},
   "outputs": [
    {
     "data": {},
     "metadata": {},
     "output_type": "display_data"
    },
    {
     "data": {
      "image/png": "[encoded data removed]",
      "text/plain": [
       "plot without title"
      ]
     },
     "metadata": {},
     "output_type": "display_data"
    }
   ],
   "source": [
    "plot(qxts$RA45)"
   ]
  },
  {
   "cell_type": "markdown",
   "metadata": {},
   "source": [
    "Now we have to reverse the TS to a dataframe and join with the original dataset"
   ]
  },
  {
   "cell_type": "code",
   "execution_count": 23,
   "metadata": {},
   "outputs": [
    {
     "data": {
      "text/html": [
       "<table>\n",
       "<thead><tr><th></th><th scope=col>RA45</th><th scope=col>Date</th></tr></thead>\n",
       "<tbody>\n",
       "\t<tr><th scope=row>2007-05-01</th><td>NA        </td><td>2007-05-01</td></tr>\n",
       "\t<tr><th scope=row>2007-05-02</th><td>NA        </td><td>2007-05-02</td></tr>\n",
       "\t<tr><th scope=row>2007-05-03</th><td>NA        </td><td>2007-05-03</td></tr>\n",
       "\t<tr><th scope=row>2007-05-04</th><td>NA        </td><td>2007-05-04</td></tr>\n",
       "\t<tr><th scope=row>2007-05-05</th><td>NA        </td><td>2007-05-05</td></tr>\n",
       "\t<tr><th scope=row>2007-05-06</th><td>NA        </td><td>2007-05-06</td></tr>\n",
       "</tbody>\n",
       "</table>\n"
      ],
      "text/latex": [
       "\\begin{tabular}{r|ll}\n",
       "  & RA45 & Date\\\\\n",
       "\\hline\n",
       "\t2007-05-01 & NA         & 2007-05-01\\\\\n",
       "\t2007-05-02 & NA         & 2007-05-02\\\\\n",
       "\t2007-05-03 & NA         & 2007-05-03\\\\\n",
       "\t2007-05-04 & NA         & 2007-05-04\\\\\n",
       "\t2007-05-05 & NA         & 2007-05-05\\\\\n",
       "\t2007-05-06 & NA         & 2007-05-06\\\\\n",
       "\\end{tabular}\n"
      ],
      "text/markdown": [
       "\n",
       "| <!--/--> | RA45 | Date | \n",
       "|---|---|---|---|---|---|\n",
       "| 2007-05-01 | NA         | 2007-05-01 | \n",
       "| 2007-05-02 | NA         | 2007-05-02 | \n",
       "| 2007-05-03 | NA         | 2007-05-03 | \n",
       "| 2007-05-04 | NA         | 2007-05-04 | \n",
       "| 2007-05-05 | NA         | 2007-05-05 | \n",
       "| 2007-05-06 | NA         | 2007-05-06 | \n",
       "\n",
       "\n"
      ],
      "text/plain": [
       "           RA45 Date      \n",
       "2007-05-01 NA   2007-05-01\n",
       "2007-05-02 NA   2007-05-02\n",
       "2007-05-03 NA   2007-05-03\n",
       "2007-05-04 NA   2007-05-04\n",
       "2007-05-05 NA   2007-05-05\n",
       "2007-05-06 NA   2007-05-06"
      ]
     },
     "metadata": {},
     "output_type": "display_data"
    },
    {
     "name": "stdout",
     "output_type": "stream",
     "text": [
      "'data.frame':\t1472 obs. of  2 variables:\n",
      " $ RA45: num  NA NA NA NA NA NA NA NA NA NA ...\n",
      " $ Date: Date, format: \"2007-05-01\" \"2007-05-02\" ...\n"
     ]
    }
   ],
   "source": [
    "rain45 <- data.frame(qxts$RA45)\n",
    "rain45$Date <- as.Date(rownames(rain45))\n",
    "head(rain45)\n",
    "str(rain45)"
   ]
  },
  {
   "cell_type": "code",
   "execution_count": 25,
   "metadata": {},
   "outputs": [
    {
     "data": {
      "text/html": [
       "<table>\n",
       "<thead><tr><th scope=col>Station</th><th scope=col>Date</th><th scope=col>Tmax</th><th scope=col>Tmin</th><th scope=col>Tavg</th><th scope=col>Depart</th><th scope=col>DewPoint</th><th scope=col>WetBulb</th><th scope=col>Heat</th><th scope=col>Cool</th><th scope=col>...</th><th scope=col>FU</th><th scope=col>HZ</th><th scope=col>MIFG</th><th scope=col>RA</th><th scope=col>SN</th><th scope=col>SQ</th><th scope=col>TS</th><th scope=col>TSRA</th><th scope=col>VCTS</th><th scope=col>RA45</th></tr></thead>\n",
       "<tbody>\n",
       "\t<tr><td>1         </td><td>2007-05-01</td><td>83        </td><td>50        </td><td>32        </td><td>32        </td><td>51        </td><td>25        </td><td> 1        </td><td> 3        </td><td>...       </td><td>0         </td><td>0         </td><td>0         </td><td>0         </td><td>0         </td><td>0         </td><td>0         </td><td>0         </td><td>0         </td><td>NA        </td></tr>\n",
       "\t<tr><td>1         </td><td>2007-05-02</td><td>59        </td><td>42        </td><td>16        </td><td>11        </td><td>42        </td><td>16        </td><td> 7        </td><td> 1        </td><td>...       </td><td>0         </td><td>0         </td><td>0         </td><td>0         </td><td>0         </td><td>0         </td><td>0         </td><td>0         </td><td>0         </td><td>NA        </td></tr>\n",
       "\t<tr><td>1         </td><td>2007-05-03</td><td>66        </td><td>46        </td><td>21        </td><td>20        </td><td>40        </td><td>17        </td><td>30        </td><td> 1        </td><td>...       </td><td>0         </td><td>0         </td><td>0         </td><td>0         </td><td>0         </td><td>0         </td><td>0         </td><td>0         </td><td>0         </td><td>NA        </td></tr>\n",
       "\t<tr><td>1         </td><td>2007-05-04</td><td>66        </td><td>49        </td><td>23        </td><td>22        </td><td>41        </td><td>19        </td><td>28        </td><td> 1        </td><td>...       </td><td>0         </td><td>0         </td><td>0         </td><td>1         </td><td>0         </td><td>0         </td><td>0         </td><td>0         </td><td>0         </td><td>NA        </td></tr>\n",
       "\t<tr><td>1         </td><td>2007-05-05</td><td>66        </td><td>53        </td><td>25        </td><td>23        </td><td>38        </td><td>18        </td><td>26        </td><td> 1        </td><td>...       </td><td>0         </td><td>0         </td><td>0         </td><td>0         </td><td>0         </td><td>0         </td><td>0         </td><td>0         </td><td>0         </td><td>NA        </td></tr>\n",
       "\t<tr><td>1         </td><td>2007-05-06</td><td>68        </td><td>49        </td><td>24        </td><td>22        </td><td>30        </td><td>15        </td><td>27        </td><td> 1        </td><td>...       </td><td>0         </td><td>0         </td><td>0         </td><td>0         </td><td>0         </td><td>0         </td><td>0         </td><td>0         </td><td>0         </td><td>NA        </td></tr>\n",
       "\t<tr><td>1         </td><td>2007-05-07</td><td>83        </td><td>47        </td><td>30        </td><td>28        </td><td>41        </td><td>23        </td><td> 1        </td><td> 1        </td><td>...       </td><td>0         </td><td>0         </td><td>0         </td><td>1         </td><td>0         </td><td>0         </td><td>0         </td><td>0         </td><td>0         </td><td>NA        </td></tr>\n",
       "\t<tr><td>1         </td><td>2007-05-08</td><td>82        </td><td>54        </td><td>33        </td><td>30        </td><td>58        </td><td>31        </td><td> 1        </td><td> 4        </td><td>...       </td><td>0         </td><td>0         </td><td>0         </td><td>0         </td><td>0         </td><td>0         </td><td>0         </td><td>0         </td><td>0         </td><td>NA        </td></tr>\n",
       "\t<tr><td>1         </td><td>2007-05-09</td><td>77        </td><td>61        </td><td>34        </td><td>31        </td><td>59        </td><td>32        </td><td> 1        </td><td> 5        </td><td>...       </td><td>0         </td><td>1         </td><td>0         </td><td>0         </td><td>0         </td><td>0         </td><td>0         </td><td>0         </td><td>0         </td><td>NA        </td></tr>\n",
       "\t<tr><td>1         </td><td>2007-05-10</td><td>84        </td><td>56        </td><td>35        </td><td>32        </td><td>52        </td><td>29        </td><td> 1        </td><td> 6        </td><td>...       </td><td>0         </td><td>0         </td><td>0         </td><td>0         </td><td>0         </td><td>0         </td><td>0         </td><td>0         </td><td>0         </td><td>NA        </td></tr>\n",
       "\t<tr><td>1         </td><td>2007-05-11</td><td>70        </td><td>51        </td><td>26        </td><td>22        </td><td>42        </td><td>20        </td><td>25        </td><td> 1        </td><td>...       </td><td>0         </td><td>0         </td><td>0         </td><td>0         </td><td>0         </td><td>0         </td><td>0         </td><td>0         </td><td>0         </td><td>NA        </td></tr>\n",
       "\t<tr><td>1         </td><td>2007-05-12</td><td>64        </td><td>46        </td><td>20        </td><td>10        </td><td>36        </td><td>15        </td><td> 3        </td><td> 1        </td><td>...       </td><td>0         </td><td>0         </td><td>0         </td><td>0         </td><td>0         </td><td>0         </td><td>0         </td><td>0         </td><td>0         </td><td>NA        </td></tr>\n",
       "\t<tr><td>1         </td><td>2007-05-13</td><td>69        </td><td>43        </td><td>21        </td><td>10        </td><td>33        </td><td>15        </td><td>30        </td><td> 1        </td><td>...       </td><td>0         </td><td>0         </td><td>0         </td><td>0         </td><td>0         </td><td>0         </td><td>0         </td><td>0         </td><td>0         </td><td>NA        </td></tr>\n",
       "\t<tr><td>1         </td><td>2007-05-14</td><td>90        </td><td>56        </td><td>38        </td><td>33        </td><td>47        </td><td>28        </td><td> 1        </td><td> 9        </td><td>...       </td><td>0         </td><td>0         </td><td>0         </td><td>0         </td><td>0         </td><td>0         </td><td>0         </td><td>0         </td><td>0         </td><td>NA        </td></tr>\n",
       "\t<tr><td>1         </td><td>2007-05-15</td><td>80        </td><td>57        </td><td>34        </td><td>29        </td><td>56        </td><td>30        </td><td> 1        </td><td> 5        </td><td>...       </td><td>0         </td><td>0         </td><td>0         </td><td>1         </td><td>0         </td><td>0         </td><td>0         </td><td>0         </td><td>0         </td><td>NA        </td></tr>\n",
       "\t<tr><td>1         </td><td>2007-05-16</td><td>66        </td><td>44        </td><td>20        </td><td>12        </td><td>43        </td><td>17        </td><td> 3        </td><td> 1        </td><td>...       </td><td>0         </td><td>0         </td><td>0         </td><td>1         </td><td>0         </td><td>0         </td><td>0         </td><td>0         </td><td>0         </td><td>NA        </td></tr>\n",
       "\t<tr><td>1         </td><td>2007-05-17</td><td>62        </td><td>43        </td><td>18        </td><td>14        </td><td>32        </td><td>12        </td><td> 5        </td><td> 1        </td><td>...       </td><td>0         </td><td>0         </td><td>0         </td><td>0         </td><td>0         </td><td>0         </td><td>0         </td><td>0         </td><td>0         </td><td>NA        </td></tr>\n",
       "\t<tr><td>1         </td><td>2007-05-18</td><td>71        </td><td>42        </td><td>22        </td><td>11        </td><td>30        </td><td>15        </td><td>29        </td><td> 1        </td><td>...       </td><td>0         </td><td>0         </td><td>0         </td><td>0         </td><td>0         </td><td>0         </td><td>0         </td><td>0         </td><td>0         </td><td>NA        </td></tr>\n",
       "\t<tr><td>1         </td><td>2007-05-19</td><td>80        </td><td>56        </td><td>33        </td><td>26        </td><td>39        </td><td>22        </td><td> 1        </td><td> 4        </td><td>...       </td><td>0         </td><td>0         </td><td>0         </td><td>0         </td><td>0         </td><td>0         </td><td>0         </td><td>0         </td><td>0         </td><td>NA        </td></tr>\n",
       "\t<tr><td>1         </td><td>2007-05-20</td><td>69        </td><td>43        </td><td>21        </td><td>13        </td><td>40        </td><td>13        </td><td>30        </td><td> 1        </td><td>...       </td><td>0         </td><td>0         </td><td>0         </td><td>1         </td><td>0         </td><td>0         </td><td>0         </td><td>0         </td><td>1         </td><td>NA        </td></tr>\n",
       "\t<tr><td>1         </td><td>2007-05-21</td><td>80        </td><td>44        </td><td>27        </td><td>19        </td><td>50        </td><td>25        </td><td>24        </td><td> 1        </td><td>...       </td><td>0         </td><td>0         </td><td>0         </td><td>0         </td><td>0         </td><td>0         </td><td>0         </td><td>0         </td><td>0         </td><td>NA        </td></tr>\n",
       "\t<tr><td>1         </td><td>2007-05-22</td><td>87        </td><td>55        </td><td>36        </td><td>28        </td><td>46        </td><td>27        </td><td> 1        </td><td> 7        </td><td>...       </td><td>0         </td><td>0         </td><td>0         </td><td>0         </td><td>0         </td><td>0         </td><td>0         </td><td>0         </td><td>0         </td><td>NA        </td></tr>\n",
       "\t<tr><td>1         </td><td>2007-05-23</td><td>89        </td><td>60        </td><td>40        </td><td>32        </td><td>49        </td><td>30        </td><td> 1        </td><td>11        </td><td>...       </td><td>0         </td><td>0         </td><td>0         </td><td>0         </td><td>0         </td><td>0         </td><td>0         </td><td>0         </td><td>0         </td><td>NA        </td></tr>\n",
       "\t<tr><td>1         </td><td>2007-05-24</td><td>88        </td><td>63        </td><td>41        </td><td>32        </td><td>54        </td><td>32        </td><td> 1        </td><td>12        </td><td>...       </td><td>0         </td><td>1         </td><td>0         </td><td>1         </td><td>0         </td><td>0         </td><td>0         </td><td>0         </td><td>0         </td><td>NA        </td></tr>\n",
       "\t<tr><td>1         </td><td>2007-05-25</td><td>70        </td><td>56        </td><td>28        </td><td>19        </td><td>44        </td><td>22        </td><td>13        </td><td> 1        </td><td>...       </td><td>0         </td><td>0         </td><td>0         </td><td>0         </td><td>0         </td><td>0         </td><td>0         </td><td>0         </td><td>0         </td><td>NA        </td></tr>\n",
       "\t<tr><td>1         </td><td>2007-05-26</td><td>65        </td><td>49        </td><td>22        </td><td>13        </td><td>55        </td><td>25        </td><td>29        </td><td> 1        </td><td>...       </td><td>0         </td><td>1         </td><td>0         </td><td>1         </td><td>0         </td><td>0         </td><td>0         </td><td>1         </td><td>0         </td><td>NA        </td></tr>\n",
       "\t<tr><td>1         </td><td>2007-05-27</td><td>75        </td><td>57        </td><td>31        </td><td>22        </td><td>47        </td><td>25        </td><td> 1        </td><td> 2        </td><td>...       </td><td>0         </td><td>0         </td><td>0         </td><td>1         </td><td>0         </td><td>0         </td><td>0         </td><td>0         </td><td>0         </td><td>NA        </td></tr>\n",
       "\t<tr><td>1         </td><td>2007-05-28</td><td>79        </td><td>50        </td><td>30        </td><td>20        </td><td>47        </td><td>25        </td><td> 1        </td><td> 1        </td><td>...       </td><td>0         </td><td>0         </td><td>0         </td><td>1         </td><td>0         </td><td>0         </td><td>0         </td><td>0         </td><td>0         </td><td>NA        </td></tr>\n",
       "\t<tr><td>1         </td><td>2007-05-29</td><td>88        </td><td>60        </td><td>39        </td><td>28        </td><td>58        </td><td>34        </td><td> 1        </td><td>10        </td><td>...       </td><td>0         </td><td>1         </td><td>0         </td><td>0         </td><td>0         </td><td>0         </td><td>0         </td><td>0         </td><td>0         </td><td>NA        </td></tr>\n",
       "\t<tr><td>1         </td><td>2007-05-30</td><td>87        </td><td>66        </td><td>42        </td><td>31        </td><td>58        </td><td>34        </td><td> 1        </td><td>13        </td><td>...       </td><td>0         </td><td>1         </td><td>0         </td><td>0         </td><td>0         </td><td>0         </td><td>0         </td><td>0         </td><td>0         </td><td>NA        </td></tr>\n",
       "\t<tr><td>1         </td><td>2007-05-31</td><td>78        </td><td>65        </td><td>37        </td><td>26        </td><td>61        </td><td>34        </td><td> 1        </td><td> 8        </td><td>...       </td><td>0         </td><td>1         </td><td>0         </td><td>1         </td><td>0         </td><td>0         </td><td>0         </td><td>0         </td><td>0         </td><td>NA        </td></tr>\n",
       "\t<tr><td>1         </td><td>2007-06-01</td><td>85        </td><td>62        </td><td>39        </td><td>28        </td><td>63        </td><td>35        </td><td> 1        </td><td>10        </td><td>...       </td><td>0         </td><td>1         </td><td>0         </td><td>0         </td><td>0         </td><td>0         </td><td>0         </td><td>1         </td><td>0         </td><td>NA        </td></tr>\n",
       "\t<tr><td>1         </td><td>2007-06-02</td><td>81        </td><td>65        </td><td>38        </td><td>27        </td><td>63        </td><td>36        </td><td> 1        </td><td> 9        </td><td>...       </td><td>0         </td><td>0         </td><td>0         </td><td>1         </td><td>0         </td><td>0         </td><td>0         </td><td>0         </td><td>0         </td><td>NA        </td></tr>\n",
       "\t<tr><td>1         </td><td>2007-06-03</td><td>78        </td><td>62        </td><td>35        </td><td>24        </td><td>60        </td><td>32        </td><td> 1        </td><td> 6        </td><td>...       </td><td>0         </td><td>1         </td><td>0         </td><td>1         </td><td>0         </td><td>0         </td><td>0         </td><td>1         </td><td>0         </td><td>NA        </td></tr>\n",
       "\t<tr><td>1         </td><td>2007-06-04</td><td>71        </td><td>58        </td><td>30        </td><td>19        </td><td>58        </td><td>29        </td><td> 1        </td><td> 1        </td><td>...       </td><td>0         </td><td>0         </td><td>0         </td><td>1         </td><td>0         </td><td>0         </td><td>0         </td><td>1         </td><td>0         </td><td>NA        </td></tr>\n",
       "\t<tr><td>1         </td><td>2007-06-05</td><td>64        </td><td>47        </td><td>21        </td><td>17        </td><td>48        </td><td>20        </td><td>30        </td><td> 1        </td><td>...       </td><td>0         </td><td>0         </td><td>0         </td><td>1         </td><td>0         </td><td>0         </td><td>0         </td><td>0         </td><td>0         </td><td>NA        </td></tr>\n",
       "\t<tr><td>1         </td><td>2007-06-06</td><td>71        </td><td>44        </td><td>23        </td><td>16        </td><td>48        </td><td>24        </td><td>28        </td><td> 1        </td><td>...       </td><td>0         </td><td>0         </td><td>0         </td><td>1         </td><td>0         </td><td>0         </td><td>0         </td><td>0         </td><td>0         </td><td>NA        </td></tr>\n",
       "\t<tr><td>1         </td><td>2007-06-07</td><td>91        </td><td>71        </td><td>46        </td><td>33        </td><td>62        </td><td>38        </td><td> 1        </td><td>17        </td><td>...       </td><td>0         </td><td>0         </td><td>0         </td><td>0         </td><td>0         </td><td>0         </td><td>0         </td><td>0         </td><td>0         </td><td>NA        </td></tr>\n",
       "\t<tr><td>1         </td><td>2007-06-08</td><td>81        </td><td>57        </td><td>34        </td><td>21        </td><td>53        </td><td>30        </td><td> 1        </td><td> 5        </td><td>...       </td><td>0         </td><td>0         </td><td>0         </td><td>0         </td><td>0         </td><td>0         </td><td>0         </td><td>0         </td><td>0         </td><td>NA        </td></tr>\n",
       "\t<tr><td>1         </td><td>2007-06-09</td><td>79        </td><td>52        </td><td>31        </td><td>18        </td><td>47        </td><td>26        </td><td> 1        </td><td> 2        </td><td>...       </td><td>0         </td><td>0         </td><td>0         </td><td>0         </td><td>0         </td><td>0         </td><td>0         </td><td>0         </td><td>0         </td><td>NA        </td></tr>\n",
       "\t<tr><td>1         </td><td>2007-06-10</td><td>81        </td><td>55        </td><td>33        </td><td>19        </td><td>51        </td><td>28        </td><td> 1        </td><td> 4        </td><td>...       </td><td>0         </td><td>0         </td><td>0         </td><td>0         </td><td>0         </td><td>0         </td><td>0         </td><td>0         </td><td>0         </td><td>NA        </td></tr>\n",
       "\t<tr><td>1         </td><td>2007-06-11</td><td>86        </td><td>58        </td><td>37        </td><td>23        </td><td>52        </td><td>30        </td><td> 1        </td><td> 8        </td><td>...       </td><td>0         </td><td>0         </td><td>0         </td><td>0         </td><td>0         </td><td>0         </td><td>0         </td><td>0         </td><td>0         </td><td>NA        </td></tr>\n",
       "\t<tr><td>1         </td><td>2007-06-12</td><td>83        </td><td>62        </td><td>38        </td><td>23        </td><td>50        </td><td>29        </td><td> 1        </td><td> 9        </td><td>...       </td><td>0         </td><td>0         </td><td>0         </td><td>0         </td><td>0         </td><td>0         </td><td>0         </td><td>0         </td><td>0         </td><td>NA        </td></tr>\n",
       "\t<tr><td>1         </td><td>2007-06-13</td><td>87        </td><td>60        </td><td>39        </td><td>24        </td><td>53        </td><td>31        </td><td> 1        </td><td>10        </td><td>...       </td><td>0         </td><td>0         </td><td>0         </td><td>0         </td><td>0         </td><td>0         </td><td>0         </td><td>0         </td><td>0         </td><td>NA        </td></tr>\n",
       "\t<tr><td>1         </td><td>2007-06-14</td><td>89        </td><td>64        </td><td>42        </td><td>27        </td><td>55        </td><td>33        </td><td> 1        </td><td>13        </td><td>...       </td><td>0         </td><td>0         </td><td>0         </td><td>0         </td><td>0         </td><td>0         </td><td>0         </td><td>0         </td><td>0         </td><td>15        </td></tr>\n",
       "\t<tr><td>1         </td><td>2007-06-15</td><td>91        </td><td>63        </td><td>42        </td><td>27        </td><td>56        </td><td>33        </td><td> 1        </td><td>13        </td><td>...       </td><td>0         </td><td>0         </td><td>0         </td><td>0         </td><td>0         </td><td>0         </td><td>0         </td><td>0         </td><td>0         </td><td>15        </td></tr>\n",
       "\t<tr><td>1         </td><td>2007-06-16</td><td>93        </td><td>66        </td><td>45        </td><td>29        </td><td>60        </td><td>36        </td><td> 1        </td><td>16        </td><td>...       </td><td>0         </td><td>1         </td><td>0         </td><td>1         </td><td>0         </td><td>0         </td><td>0         </td><td>0         </td><td>0         </td><td>16        </td></tr>\n",
       "\t<tr><td>1         </td><td>2007-06-17</td><td>91        </td><td>70        </td><td>46        </td><td>30        </td><td>64        </td><td>39        </td><td> 1        </td><td>17        </td><td>...       </td><td>0         </td><td>1         </td><td>0         </td><td>0         </td><td>0         </td><td>0         </td><td>0         </td><td>0         </td><td>0         </td><td>16        </td></tr>\n",
       "\t<tr><td>1         </td><td>2007-06-18</td><td>89        </td><td>69        </td><td>44        </td><td>27        </td><td>65        </td><td>39        </td><td> 1        </td><td>15        </td><td>...       </td><td>0         </td><td>1         </td><td>0         </td><td>1         </td><td>0         </td><td>0         </td><td>0         </td><td>1         </td><td>0         </td><td>16        </td></tr>\n",
       "\t<tr><td>1         </td><td>2007-06-19</td><td>80        </td><td>65        </td><td>38        </td><td>21        </td><td>55        </td><td>32        </td><td> 1        </td><td> 9        </td><td>...       </td><td>0         </td><td>0         </td><td>0         </td><td>1         </td><td>0         </td><td>0         </td><td>0         </td><td>0         </td><td>0         </td><td>17        </td></tr>\n",
       "</tbody>\n",
       "</table>\n"
      ],
      "text/latex": [
       "\\begin{tabular}{r|llllllllllllllllllllllllllllllllll}\n",
       " Station & Date & Tmax & Tmin & Tavg & Depart & DewPoint & WetBulb & Heat & Cool & ... & FU & HZ & MIFG & RA & SN & SQ & TS & TSRA & VCTS & RA45\\\\\n",
       "\\hline\n",
       "\t 1          & 2007-05-01 & 83         & 50         & 32         & 32         & 51         & 25         &  1         &  3         & ...        & 0          & 0          & 0          & 0          & 0          & 0          & 0          & 0          & 0          & NA        \\\\\n",
       "\t 1          & 2007-05-02 & 59         & 42         & 16         & 11         & 42         & 16         &  7         &  1         & ...        & 0          & 0          & 0          & 0          & 0          & 0          & 0          & 0          & 0          & NA        \\\\\n",
       "\t 1          & 2007-05-03 & 66         & 46         & 21         & 20         & 40         & 17         & 30         &  1         & ...        & 0          & 0          & 0          & 0          & 0          & 0          & 0          & 0          & 0          & NA        \\\\\n",
       "\t 1          & 2007-05-04 & 66         & 49         & 23         & 22         & 41         & 19         & 28         &  1         & ...        & 0          & 0          & 0          & 1          & 0          & 0          & 0          & 0          & 0          & NA        \\\\\n",
       "\t 1          & 2007-05-05 & 66         & 53         & 25         & 23         & 38         & 18         & 26         &  1         & ...        & 0          & 0          & 0          & 0          & 0          & 0          & 0          & 0          & 0          & NA        \\\\\n",
       "\t 1          & 2007-05-06 & 68         & 49         & 24         & 22         & 30         & 15         & 27         &  1         & ...        & 0          & 0          & 0          & 0          & 0          & 0          & 0          & 0          & 0          & NA        \\\\\n",
       "\t 1          & 2007-05-07 & 83         & 47         & 30         & 28         & 41         & 23         &  1         &  1         & ...        & 0          & 0          & 0          & 1          & 0          & 0          & 0          & 0          & 0          & NA        \\\\\n",
       "\t 1          & 2007-05-08 & 82         & 54         & 33         & 30         & 58         & 31         &  1         &  4         & ...        & 0          & 0          & 0          & 0          & 0          & 0          & 0          & 0          & 0          & NA        \\\\\n",
       "\t 1          & 2007-05-09 & 77         & 61         & 34         & 31         & 59         & 32         &  1         &  5         & ...        & 0          & 1          & 0          & 0          & 0          & 0          & 0          & 0          & 0          & NA        \\\\\n",
       "\t 1          & 2007-05-10 & 84         & 56         & 35         & 32         & 52         & 29         &  1         &  6         & ...        & 0          & 0          & 0          & 0          & 0          & 0          & 0          & 0          & 0          & NA        \\\\\n",
       "\t 1          & 2007-05-11 & 70         & 51         & 26         & 22         & 42         & 20         & 25         &  1         & ...        & 0          & 0          & 0          & 0          & 0          & 0          & 0          & 0          & 0          & NA        \\\\\n",
       "\t 1          & 2007-05-12 & 64         & 46         & 20         & 10         & 36         & 15         &  3         &  1         & ...        & 0          & 0          & 0          & 0          & 0          & 0          & 0          & 0          & 0          & NA        \\\\\n",
       "\t 1          & 2007-05-13 & 69         & 43         & 21         & 10         & 33         & 15         & 30         &  1         & ...        & 0          & 0          & 0          & 0          & 0          & 0          & 0          & 0          & 0          & NA        \\\\\n",
       "\t 1          & 2007-05-14 & 90         & 56         & 38         & 33         & 47         & 28         &  1         &  9         & ...        & 0          & 0          & 0          & 0          & 0          & 0          & 0          & 0          & 0          & NA        \\\\\n",
       "\t 1          & 2007-05-15 & 80         & 57         & 34         & 29         & 56         & 30         &  1         &  5         & ...        & 0          & 0          & 0          & 1          & 0          & 0          & 0          & 0          & 0          & NA        \\\\\n",
       "\t 1          & 2007-05-16 & 66         & 44         & 20         & 12         & 43         & 17         &  3         &  1         & ...        & 0          & 0          & 0          & 1          & 0          & 0          & 0          & 0          & 0          & NA        \\\\\n",
       "\t 1          & 2007-05-17 & 62         & 43         & 18         & 14         & 32         & 12         &  5         &  1         & ...        & 0          & 0          & 0          & 0          & 0          & 0          & 0          & 0          & 0          & NA        \\\\\n",
       "\t 1          & 2007-05-18 & 71         & 42         & 22         & 11         & 30         & 15         & 29         &  1         & ...        & 0          & 0          & 0          & 0          & 0          & 0          & 0          & 0          & 0          & NA        \\\\\n",
       "\t 1          & 2007-05-19 & 80         & 56         & 33         & 26         & 39         & 22         &  1         &  4         & ...        & 0          & 0          & 0          & 0          & 0          & 0          & 0          & 0          & 0          & NA        \\\\\n",
       "\t 1          & 2007-05-20 & 69         & 43         & 21         & 13         & 40         & 13         & 30         &  1         & ...        & 0          & 0          & 0          & 1          & 0          & 0          & 0          & 0          & 1          & NA        \\\\\n",
       "\t 1          & 2007-05-21 & 80         & 44         & 27         & 19         & 50         & 25         & 24         &  1         & ...        & 0          & 0          & 0          & 0          & 0          & 0          & 0          & 0          & 0          & NA        \\\\\n",
       "\t 1          & 2007-05-22 & 87         & 55         & 36         & 28         & 46         & 27         &  1         &  7         & ...        & 0          & 0          & 0          & 0          & 0          & 0          & 0          & 0          & 0          & NA        \\\\\n",
       "\t 1          & 2007-05-23 & 89         & 60         & 40         & 32         & 49         & 30         &  1         & 11         & ...        & 0          & 0          & 0          & 0          & 0          & 0          & 0          & 0          & 0          & NA        \\\\\n",
       "\t 1          & 2007-05-24 & 88         & 63         & 41         & 32         & 54         & 32         &  1         & 12         & ...        & 0          & 1          & 0          & 1          & 0          & 0          & 0          & 0          & 0          & NA        \\\\\n",
       "\t 1          & 2007-05-25 & 70         & 56         & 28         & 19         & 44         & 22         & 13         &  1         & ...        & 0          & 0          & 0          & 0          & 0          & 0          & 0          & 0          & 0          & NA        \\\\\n",
       "\t 1          & 2007-05-26 & 65         & 49         & 22         & 13         & 55         & 25         & 29         &  1         & ...        & 0          & 1          & 0          & 1          & 0          & 0          & 0          & 1          & 0          & NA        \\\\\n",
       "\t 1          & 2007-05-27 & 75         & 57         & 31         & 22         & 47         & 25         &  1         &  2         & ...        & 0          & 0          & 0          & 1          & 0          & 0          & 0          & 0          & 0          & NA        \\\\\n",
       "\t 1          & 2007-05-28 & 79         & 50         & 30         & 20         & 47         & 25         &  1         &  1         & ...        & 0          & 0          & 0          & 1          & 0          & 0          & 0          & 0          & 0          & NA        \\\\\n",
       "\t 1          & 2007-05-29 & 88         & 60         & 39         & 28         & 58         & 34         &  1         & 10         & ...        & 0          & 1          & 0          & 0          & 0          & 0          & 0          & 0          & 0          & NA        \\\\\n",
       "\t 1          & 2007-05-30 & 87         & 66         & 42         & 31         & 58         & 34         &  1         & 13         & ...        & 0          & 1          & 0          & 0          & 0          & 0          & 0          & 0          & 0          & NA        \\\\\n",
       "\t 1          & 2007-05-31 & 78         & 65         & 37         & 26         & 61         & 34         &  1         &  8         & ...        & 0          & 1          & 0          & 1          & 0          & 0          & 0          & 0          & 0          & NA        \\\\\n",
       "\t 1          & 2007-06-01 & 85         & 62         & 39         & 28         & 63         & 35         &  1         & 10         & ...        & 0          & 1          & 0          & 0          & 0          & 0          & 0          & 1          & 0          & NA        \\\\\n",
       "\t 1          & 2007-06-02 & 81         & 65         & 38         & 27         & 63         & 36         &  1         &  9         & ...        & 0          & 0          & 0          & 1          & 0          & 0          & 0          & 0          & 0          & NA        \\\\\n",
       "\t 1          & 2007-06-03 & 78         & 62         & 35         & 24         & 60         & 32         &  1         &  6         & ...        & 0          & 1          & 0          & 1          & 0          & 0          & 0          & 1          & 0          & NA        \\\\\n",
       "\t 1          & 2007-06-04 & 71         & 58         & 30         & 19         & 58         & 29         &  1         &  1         & ...        & 0          & 0          & 0          & 1          & 0          & 0          & 0          & 1          & 0          & NA        \\\\\n",
       "\t 1          & 2007-06-05 & 64         & 47         & 21         & 17         & 48         & 20         & 30         &  1         & ...        & 0          & 0          & 0          & 1          & 0          & 0          & 0          & 0          & 0          & NA        \\\\\n",
       "\t 1          & 2007-06-06 & 71         & 44         & 23         & 16         & 48         & 24         & 28         &  1         & ...        & 0          & 0          & 0          & 1          & 0          & 0          & 0          & 0          & 0          & NA        \\\\\n",
       "\t 1          & 2007-06-07 & 91         & 71         & 46         & 33         & 62         & 38         &  1         & 17         & ...        & 0          & 0          & 0          & 0          & 0          & 0          & 0          & 0          & 0          & NA        \\\\\n",
       "\t 1          & 2007-06-08 & 81         & 57         & 34         & 21         & 53         & 30         &  1         &  5         & ...        & 0          & 0          & 0          & 0          & 0          & 0          & 0          & 0          & 0          & NA        \\\\\n",
       "\t 1          & 2007-06-09 & 79         & 52         & 31         & 18         & 47         & 26         &  1         &  2         & ...        & 0          & 0          & 0          & 0          & 0          & 0          & 0          & 0          & 0          & NA        \\\\\n",
       "\t 1          & 2007-06-10 & 81         & 55         & 33         & 19         & 51         & 28         &  1         &  4         & ...        & 0          & 0          & 0          & 0          & 0          & 0          & 0          & 0          & 0          & NA        \\\\\n",
       "\t 1          & 2007-06-11 & 86         & 58         & 37         & 23         & 52         & 30         &  1         &  8         & ...        & 0          & 0          & 0          & 0          & 0          & 0          & 0          & 0          & 0          & NA        \\\\\n",
       "\t 1          & 2007-06-12 & 83         & 62         & 38         & 23         & 50         & 29         &  1         &  9         & ...        & 0          & 0          & 0          & 0          & 0          & 0          & 0          & 0          & 0          & NA        \\\\\n",
       "\t 1          & 2007-06-13 & 87         & 60         & 39         & 24         & 53         & 31         &  1         & 10         & ...        & 0          & 0          & 0          & 0          & 0          & 0          & 0          & 0          & 0          & NA        \\\\\n",
       "\t 1          & 2007-06-14 & 89         & 64         & 42         & 27         & 55         & 33         &  1         & 13         & ...        & 0          & 0          & 0          & 0          & 0          & 0          & 0          & 0          & 0          & 15        \\\\\n",
       "\t 1          & 2007-06-15 & 91         & 63         & 42         & 27         & 56         & 33         &  1         & 13         & ...        & 0          & 0          & 0          & 0          & 0          & 0          & 0          & 0          & 0          & 15        \\\\\n",
       "\t 1          & 2007-06-16 & 93         & 66         & 45         & 29         & 60         & 36         &  1         & 16         & ...        & 0          & 1          & 0          & 1          & 0          & 0          & 0          & 0          & 0          & 16        \\\\\n",
       "\t 1          & 2007-06-17 & 91         & 70         & 46         & 30         & 64         & 39         &  1         & 17         & ...        & 0          & 1          & 0          & 0          & 0          & 0          & 0          & 0          & 0          & 16        \\\\\n",
       "\t 1          & 2007-06-18 & 89         & 69         & 44         & 27         & 65         & 39         &  1         & 15         & ...        & 0          & 1          & 0          & 1          & 0          & 0          & 0          & 1          & 0          & 16        \\\\\n",
       "\t 1          & 2007-06-19 & 80         & 65         & 38         & 21         & 55         & 32         &  1         &  9         & ...        & 0          & 0          & 0          & 1          & 0          & 0          & 0          & 0          & 0          & 17        \\\\\n",
       "\\end{tabular}\n"
      ],
      "text/markdown": [
       "\n",
       "Station | Date | Tmax | Tmin | Tavg | Depart | DewPoint | WetBulb | Heat | Cool | ... | FU | HZ | MIFG | RA | SN | SQ | TS | TSRA | VCTS | RA45 | \n",
       "|---|---|---|---|---|---|---|---|---|---|---|---|---|---|---|---|---|---|---|---|---|---|---|---|---|---|---|---|---|---|---|---|---|---|---|---|---|---|---|---|---|---|---|---|---|---|---|---|---|---|\n",
       "| 1          | 2007-05-01 | 83         | 50         | 32         | 32         | 51         | 25         |  1         |  3         | ...        | 0          | 0          | 0          | 0          | 0          | 0          | 0          | 0          | 0          | NA         | \n",
       "| 1          | 2007-05-02 | 59         | 42         | 16         | 11         | 42         | 16         |  7         |  1         | ...        | 0          | 0          | 0          | 0          | 0          | 0          | 0          | 0          | 0          | NA         | \n",
       "| 1          | 2007-05-03 | 66         | 46         | 21         | 20         | 40         | 17         | 30         |  1         | ...        | 0          | 0          | 0          | 0          | 0          | 0          | 0          | 0          | 0          | NA         | \n",
       "| 1          | 2007-05-04 | 66         | 49         | 23         | 22         | 41         | 19         | 28         |  1         | ...        | 0          | 0          | 0          | 1          | 0          | 0          | 0          | 0          | 0          | NA         | \n",
       "| 1          | 2007-05-05 | 66         | 53         | 25         | 23         | 38         | 18         | 26         |  1         | ...        | 0          | 0          | 0          | 0          | 0          | 0          | 0          | 0          | 0          | NA         | \n",
       "| 1          | 2007-05-06 | 68         | 49         | 24         | 22         | 30         | 15         | 27         |  1         | ...        | 0          | 0          | 0          | 0          | 0          | 0          | 0          | 0          | 0          | NA         | \n",
       "| 1          | 2007-05-07 | 83         | 47         | 30         | 28         | 41         | 23         |  1         |  1         | ...        | 0          | 0          | 0          | 1          | 0          | 0          | 0          | 0          | 0          | NA         | \n",
       "| 1          | 2007-05-08 | 82         | 54         | 33         | 30         | 58         | 31         |  1         |  4         | ...        | 0          | 0          | 0          | 0          | 0          | 0          | 0          | 0          | 0          | NA         | \n",
       "| 1          | 2007-05-09 | 77         | 61         | 34         | 31         | 59         | 32         |  1         |  5         | ...        | 0          | 1          | 0          | 0          | 0          | 0          | 0          | 0          | 0          | NA         | \n",
       "| 1          | 2007-05-10 | 84         | 56         | 35         | 32         | 52         | 29         |  1         |  6         | ...        | 0          | 0          | 0          | 0          | 0          | 0          | 0          | 0          | 0          | NA         | \n",
       "| 1          | 2007-05-11 | 70         | 51         | 26         | 22         | 42         | 20         | 25         |  1         | ...        | 0          | 0          | 0          | 0          | 0          | 0          | 0          | 0          | 0          | NA         | \n",
       "| 1          | 2007-05-12 | 64         | 46         | 20         | 10         | 36         | 15         |  3         |  1         | ...        | 0          | 0          | 0          | 0          | 0          | 0          | 0          | 0          | 0          | NA         | \n",
       "| 1          | 2007-05-13 | 69         | 43         | 21         | 10         | 33         | 15         | 30         |  1         | ...        | 0          | 0          | 0          | 0          | 0          | 0          | 0          | 0          | 0          | NA         | \n",
       "| 1          | 2007-05-14 | 90         | 56         | 38         | 33         | 47         | 28         |  1         |  9         | ...        | 0          | 0          | 0          | 0          | 0          | 0          | 0          | 0          | 0          | NA         | \n",
       "| 1          | 2007-05-15 | 80         | 57         | 34         | 29         | 56         | 30         |  1         |  5         | ...        | 0          | 0          | 0          | 1          | 0          | 0          | 0          | 0          | 0          | NA         | \n",
       "| 1          | 2007-05-16 | 66         | 44         | 20         | 12         | 43         | 17         |  3         |  1         | ...        | 0          | 0          | 0          | 1          | 0          | 0          | 0          | 0          | 0          | NA         | \n",
       "| 1          | 2007-05-17 | 62         | 43         | 18         | 14         | 32         | 12         |  5         |  1         | ...        | 0          | 0          | 0          | 0          | 0          | 0          | 0          | 0          | 0          | NA         | \n",
       "| 1          | 2007-05-18 | 71         | 42         | 22         | 11         | 30         | 15         | 29         |  1         | ...        | 0          | 0          | 0          | 0          | 0          | 0          | 0          | 0          | 0          | NA         | \n",
       "| 1          | 2007-05-19 | 80         | 56         | 33         | 26         | 39         | 22         |  1         |  4         | ...        | 0          | 0          | 0          | 0          | 0          | 0          | 0          | 0          | 0          | NA         | \n",
       "| 1          | 2007-05-20 | 69         | 43         | 21         | 13         | 40         | 13         | 30         |  1         | ...        | 0          | 0          | 0          | 1          | 0          | 0          | 0          | 0          | 1          | NA         | \n",
       "| 1          | 2007-05-21 | 80         | 44         | 27         | 19         | 50         | 25         | 24         |  1         | ...        | 0          | 0          | 0          | 0          | 0          | 0          | 0          | 0          | 0          | NA         | \n",
       "| 1          | 2007-05-22 | 87         | 55         | 36         | 28         | 46         | 27         |  1         |  7         | ...        | 0          | 0          | 0          | 0          | 0          | 0          | 0          | 0          | 0          | NA         | \n",
       "| 1          | 2007-05-23 | 89         | 60         | 40         | 32         | 49         | 30         |  1         | 11         | ...        | 0          | 0          | 0          | 0          | 0          | 0          | 0          | 0          | 0          | NA         | \n",
       "| 1          | 2007-05-24 | 88         | 63         | 41         | 32         | 54         | 32         |  1         | 12         | ...        | 0          | 1          | 0          | 1          | 0          | 0          | 0          | 0          | 0          | NA         | \n",
       "| 1          | 2007-05-25 | 70         | 56         | 28         | 19         | 44         | 22         | 13         |  1         | ...        | 0          | 0          | 0          | 0          | 0          | 0          | 0          | 0          | 0          | NA         | \n",
       "| 1          | 2007-05-26 | 65         | 49         | 22         | 13         | 55         | 25         | 29         |  1         | ...        | 0          | 1          | 0          | 1          | 0          | 0          | 0          | 1          | 0          | NA         | \n",
       "| 1          | 2007-05-27 | 75         | 57         | 31         | 22         | 47         | 25         |  1         |  2         | ...        | 0          | 0          | 0          | 1          | 0          | 0          | 0          | 0          | 0          | NA         | \n",
       "| 1          | 2007-05-28 | 79         | 50         | 30         | 20         | 47         | 25         |  1         |  1         | ...        | 0          | 0          | 0          | 1          | 0          | 0          | 0          | 0          | 0          | NA         | \n",
       "| 1          | 2007-05-29 | 88         | 60         | 39         | 28         | 58         | 34         |  1         | 10         | ...        | 0          | 1          | 0          | 0          | 0          | 0          | 0          | 0          | 0          | NA         | \n",
       "| 1          | 2007-05-30 | 87         | 66         | 42         | 31         | 58         | 34         |  1         | 13         | ...        | 0          | 1          | 0          | 0          | 0          | 0          | 0          | 0          | 0          | NA         | \n",
       "| 1          | 2007-05-31 | 78         | 65         | 37         | 26         | 61         | 34         |  1         |  8         | ...        | 0          | 1          | 0          | 1          | 0          | 0          | 0          | 0          | 0          | NA         | \n",
       "| 1          | 2007-06-01 | 85         | 62         | 39         | 28         | 63         | 35         |  1         | 10         | ...        | 0          | 1          | 0          | 0          | 0          | 0          | 0          | 1          | 0          | NA         | \n",
       "| 1          | 2007-06-02 | 81         | 65         | 38         | 27         | 63         | 36         |  1         |  9         | ...        | 0          | 0          | 0          | 1          | 0          | 0          | 0          | 0          | 0          | NA         | \n",
       "| 1          | 2007-06-03 | 78         | 62         | 35         | 24         | 60         | 32         |  1         |  6         | ...        | 0          | 1          | 0          | 1          | 0          | 0          | 0          | 1          | 0          | NA         | \n",
       "| 1          | 2007-06-04 | 71         | 58         | 30         | 19         | 58         | 29         |  1         |  1         | ...        | 0          | 0          | 0          | 1          | 0          | 0          | 0          | 1          | 0          | NA         | \n",
       "| 1          | 2007-06-05 | 64         | 47         | 21         | 17         | 48         | 20         | 30         |  1         | ...        | 0          | 0          | 0          | 1          | 0          | 0          | 0          | 0          | 0          | NA         | \n",
       "| 1          | 2007-06-06 | 71         | 44         | 23         | 16         | 48         | 24         | 28         |  1         | ...        | 0          | 0          | 0          | 1          | 0          | 0          | 0          | 0          | 0          | NA         | \n",
       "| 1          | 2007-06-07 | 91         | 71         | 46         | 33         | 62         | 38         |  1         | 17         | ...        | 0          | 0          | 0          | 0          | 0          | 0          | 0          | 0          | 0          | NA         | \n",
       "| 1          | 2007-06-08 | 81         | 57         | 34         | 21         | 53         | 30         |  1         |  5         | ...        | 0          | 0          | 0          | 0          | 0          | 0          | 0          | 0          | 0          | NA         | \n",
       "| 1          | 2007-06-09 | 79         | 52         | 31         | 18         | 47         | 26         |  1         |  2         | ...        | 0          | 0          | 0          | 0          | 0          | 0          | 0          | 0          | 0          | NA         | \n",
       "| 1          | 2007-06-10 | 81         | 55         | 33         | 19         | 51         | 28         |  1         |  4         | ...        | 0          | 0          | 0          | 0          | 0          | 0          | 0          | 0          | 0          | NA         | \n",
       "| 1          | 2007-06-11 | 86         | 58         | 37         | 23         | 52         | 30         |  1         |  8         | ...        | 0          | 0          | 0          | 0          | 0          | 0          | 0          | 0          | 0          | NA         | \n",
       "| 1          | 2007-06-12 | 83         | 62         | 38         | 23         | 50         | 29         |  1         |  9         | ...        | 0          | 0          | 0          | 0          | 0          | 0          | 0          | 0          | 0          | NA         | \n",
       "| 1          | 2007-06-13 | 87         | 60         | 39         | 24         | 53         | 31         |  1         | 10         | ...        | 0          | 0          | 0          | 0          | 0          | 0          | 0          | 0          | 0          | NA         | \n",
       "| 1          | 2007-06-14 | 89         | 64         | 42         | 27         | 55         | 33         |  1         | 13         | ...        | 0          | 0          | 0          | 0          | 0          | 0          | 0          | 0          | 0          | 15         | \n",
       "| 1          | 2007-06-15 | 91         | 63         | 42         | 27         | 56         | 33         |  1         | 13         | ...        | 0          | 0          | 0          | 0          | 0          | 0          | 0          | 0          | 0          | 15         | \n",
       "| 1          | 2007-06-16 | 93         | 66         | 45         | 29         | 60         | 36         |  1         | 16         | ...        | 0          | 1          | 0          | 1          | 0          | 0          | 0          | 0          | 0          | 16         | \n",
       "| 1          | 2007-06-17 | 91         | 70         | 46         | 30         | 64         | 39         |  1         | 17         | ...        | 0          | 1          | 0          | 0          | 0          | 0          | 0          | 0          | 0          | 16         | \n",
       "| 1          | 2007-06-18 | 89         | 69         | 44         | 27         | 65         | 39         |  1         | 15         | ...        | 0          | 1          | 0          | 1          | 0          | 0          | 0          | 1          | 0          | 16         | \n",
       "| 1          | 2007-06-19 | 80         | 65         | 38         | 21         | 55         | 32         |  1         |  9         | ...        | 0          | 0          | 0          | 1          | 0          | 0          | 0          | 0          | 0          | 17         | \n",
       "\n",
       "\n"
      ],
      "text/plain": [
       "   Station Date       Tmax Tmin Tavg Depart DewPoint WetBulb Heat Cool ... FU\n",
       "1  1       2007-05-01 83   50   32   32     51       25       1    3   ... 0 \n",
       "2  1       2007-05-02 59   42   16   11     42       16       7    1   ... 0 \n",
       "3  1       2007-05-03 66   46   21   20     40       17      30    1   ... 0 \n",
       "4  1       2007-05-04 66   49   23   22     41       19      28    1   ... 0 \n",
       "5  1       2007-05-05 66   53   25   23     38       18      26    1   ... 0 \n",
       "6  1       2007-05-06 68   49   24   22     30       15      27    1   ... 0 \n",
       "7  1       2007-05-07 83   47   30   28     41       23       1    1   ... 0 \n",
       "8  1       2007-05-08 82   54   33   30     58       31       1    4   ... 0 \n",
       "9  1       2007-05-09 77   61   34   31     59       32       1    5   ... 0 \n",
       "10 1       2007-05-10 84   56   35   32     52       29       1    6   ... 0 \n",
       "11 1       2007-05-11 70   51   26   22     42       20      25    1   ... 0 \n",
       "12 1       2007-05-12 64   46   20   10     36       15       3    1   ... 0 \n",
       "13 1       2007-05-13 69   43   21   10     33       15      30    1   ... 0 \n",
       "14 1       2007-05-14 90   56   38   33     47       28       1    9   ... 0 \n",
       "15 1       2007-05-15 80   57   34   29     56       30       1    5   ... 0 \n",
       "16 1       2007-05-16 66   44   20   12     43       17       3    1   ... 0 \n",
       "17 1       2007-05-17 62   43   18   14     32       12       5    1   ... 0 \n",
       "18 1       2007-05-18 71   42   22   11     30       15      29    1   ... 0 \n",
       "19 1       2007-05-19 80   56   33   26     39       22       1    4   ... 0 \n",
       "20 1       2007-05-20 69   43   21   13     40       13      30    1   ... 0 \n",
       "21 1       2007-05-21 80   44   27   19     50       25      24    1   ... 0 \n",
       "22 1       2007-05-22 87   55   36   28     46       27       1    7   ... 0 \n",
       "23 1       2007-05-23 89   60   40   32     49       30       1   11   ... 0 \n",
       "24 1       2007-05-24 88   63   41   32     54       32       1   12   ... 0 \n",
       "25 1       2007-05-25 70   56   28   19     44       22      13    1   ... 0 \n",
       "26 1       2007-05-26 65   49   22   13     55       25      29    1   ... 0 \n",
       "27 1       2007-05-27 75   57   31   22     47       25       1    2   ... 0 \n",
       "28 1       2007-05-28 79   50   30   20     47       25       1    1   ... 0 \n",
       "29 1       2007-05-29 88   60   39   28     58       34       1   10   ... 0 \n",
       "30 1       2007-05-30 87   66   42   31     58       34       1   13   ... 0 \n",
       "31 1       2007-05-31 78   65   37   26     61       34       1    8   ... 0 \n",
       "32 1       2007-06-01 85   62   39   28     63       35       1   10   ... 0 \n",
       "33 1       2007-06-02 81   65   38   27     63       36       1    9   ... 0 \n",
       "34 1       2007-06-03 78   62   35   24     60       32       1    6   ... 0 \n",
       "35 1       2007-06-04 71   58   30   19     58       29       1    1   ... 0 \n",
       "36 1       2007-06-05 64   47   21   17     48       20      30    1   ... 0 \n",
       "37 1       2007-06-06 71   44   23   16     48       24      28    1   ... 0 \n",
       "38 1       2007-06-07 91   71   46   33     62       38       1   17   ... 0 \n",
       "39 1       2007-06-08 81   57   34   21     53       30       1    5   ... 0 \n",
       "40 1       2007-06-09 79   52   31   18     47       26       1    2   ... 0 \n",
       "41 1       2007-06-10 81   55   33   19     51       28       1    4   ... 0 \n",
       "42 1       2007-06-11 86   58   37   23     52       30       1    8   ... 0 \n",
       "43 1       2007-06-12 83   62   38   23     50       29       1    9   ... 0 \n",
       "44 1       2007-06-13 87   60   39   24     53       31       1   10   ... 0 \n",
       "45 1       2007-06-14 89   64   42   27     55       33       1   13   ... 0 \n",
       "46 1       2007-06-15 91   63   42   27     56       33       1   13   ... 0 \n",
       "47 1       2007-06-16 93   66   45   29     60       36       1   16   ... 0 \n",
       "48 1       2007-06-17 91   70   46   30     64       39       1   17   ... 0 \n",
       "49 1       2007-06-18 89   69   44   27     65       39       1   15   ... 0 \n",
       "50 1       2007-06-19 80   65   38   21     55       32       1    9   ... 0 \n",
       "   HZ MIFG RA SN SQ TS TSRA VCTS RA45\n",
       "1  0  0    0  0  0  0  0    0    NA  \n",
       "2  0  0    0  0  0  0  0    0    NA  \n",
       "3  0  0    0  0  0  0  0    0    NA  \n",
       "4  0  0    1  0  0  0  0    0    NA  \n",
       "5  0  0    0  0  0  0  0    0    NA  \n",
       "6  0  0    0  0  0  0  0    0    NA  \n",
       "7  0  0    1  0  0  0  0    0    NA  \n",
       "8  0  0    0  0  0  0  0    0    NA  \n",
       "9  1  0    0  0  0  0  0    0    NA  \n",
       "10 0  0    0  0  0  0  0    0    NA  \n",
       "11 0  0    0  0  0  0  0    0    NA  \n",
       "12 0  0    0  0  0  0  0    0    NA  \n",
       "13 0  0    0  0  0  0  0    0    NA  \n",
       "14 0  0    0  0  0  0  0    0    NA  \n",
       "15 0  0    1  0  0  0  0    0    NA  \n",
       "16 0  0    1  0  0  0  0    0    NA  \n",
       "17 0  0    0  0  0  0  0    0    NA  \n",
       "18 0  0    0  0  0  0  0    0    NA  \n",
       "19 0  0    0  0  0  0  0    0    NA  \n",
       "20 0  0    1  0  0  0  0    1    NA  \n",
       "21 0  0    0  0  0  0  0    0    NA  \n",
       "22 0  0    0  0  0  0  0    0    NA  \n",
       "23 0  0    0  0  0  0  0    0    NA  \n",
       "24 1  0    1  0  0  0  0    0    NA  \n",
       "25 0  0    0  0  0  0  0    0    NA  \n",
       "26 1  0    1  0  0  0  1    0    NA  \n",
       "27 0  0    1  0  0  0  0    0    NA  \n",
       "28 0  0    1  0  0  0  0    0    NA  \n",
       "29 1  0    0  0  0  0  0    0    NA  \n",
       "30 1  0    0  0  0  0  0    0    NA  \n",
       "31 1  0    1  0  0  0  0    0    NA  \n",
       "32 1  0    0  0  0  0  1    0    NA  \n",
       "33 0  0    1  0  0  0  0    0    NA  \n",
       "34 1  0    1  0  0  0  1    0    NA  \n",
       "35 0  0    1  0  0  0  1    0    NA  \n",
       "36 0  0    1  0  0  0  0    0    NA  \n",
       "37 0  0    1  0  0  0  0    0    NA  \n",
       "38 0  0    0  0  0  0  0    0    NA  \n",
       "39 0  0    0  0  0  0  0    0    NA  \n",
       "40 0  0    0  0  0  0  0    0    NA  \n",
       "41 0  0    0  0  0  0  0    0    NA  \n",
       "42 0  0    0  0  0  0  0    0    NA  \n",
       "43 0  0    0  0  0  0  0    0    NA  \n",
       "44 0  0    0  0  0  0  0    0    NA  \n",
       "45 0  0    0  0  0  0  0    0    15  \n",
       "46 0  0    0  0  0  0  0    0    15  \n",
       "47 1  0    1  0  0  0  0    0    16  \n",
       "48 1  0    0  0  0  0  0    0    16  \n",
       "49 1  0    1  0  0  0  1    0    16  \n",
       "50 0  0    1  0  0  0  0    0    17  "
      ]
     },
     "metadata": {},
     "output_type": "display_data"
    }
   ],
   "source": [
    "wea11rain <- left_join(wea11, rain45, by=\"Date\")\n",
    "head(wea11rain,50)"
   ]
  },
  {
   "cell_type": "markdown",
   "metadata": {},
   "source": [
    "write.csv(wea22.imp1, file=\"C:/Users/Chen/Project/data/wea22.imp1.csv\", row.names =F)"
   ]
  },
  {
   "cell_type": "markdown",
   "metadata": {},
   "source": [
    "### Create a variable indicating it in the last 45 days there was a total daily rain was higher than 50 "
   ]
  },
  {
   "cell_type": "code",
   "execution_count": 26,
   "metadata": {},
   "outputs": [],
   "source": [
    "q <- wea11[,c(\"Date\",\"PrecipTotal\")]\n",
    "qxts <- xts(q[,\"PrecipTotal\"], order.by=q[,\"Date\"])\n",
    "names(qxts) <- \"PrecipTotal\""
   ]
  },
  {
   "cell_type": "code",
   "execution_count": 27,
   "metadata": {},
   "outputs": [
    {
     "data": {
      "text/plain": [
       "           PrecipTotal\n",
       "2007-05-01           0\n",
       "2007-05-02           0\n",
       "2007-05-03           0\n",
       "2007-05-04           0\n",
       "2007-05-05           0\n",
       "2007-05-06           0"
      ]
     },
     "metadata": {},
     "output_type": "display_data"
    }
   ],
   "source": [
    "head(qxts)"
   ]
  },
  {
   "cell_type": "code",
   "execution_count": 29,
   "metadata": {},
   "outputs": [
    {
     "data": {
      "text/plain": [
       "           PrecipTotal PT45 PT45_gt05\n",
       "2007-05-01        0.00   NA        NA\n",
       "2007-05-02        0.00   NA        NA\n",
       "2007-05-03        0.00   NA        NA\n",
       "2007-05-04        0.00   NA        NA\n",
       "2007-05-05        0.00   NA        NA\n",
       "2007-05-06        0.00   NA        NA\n",
       "2007-05-07        0.00   NA        NA\n",
       "2007-05-08        0.00   NA        NA\n",
       "2007-05-09        0.13   NA        NA\n",
       "2007-05-10        0.00   NA        NA\n",
       "2007-05-11        0.00   NA        NA\n",
       "2007-05-12        0.00   NA        NA\n",
       "2007-05-13        0.00   NA        NA\n",
       "2007-05-14        0.00   NA        NA\n",
       "2007-05-15        0.38   NA        NA\n",
       "2007-05-16        0.14   NA        NA\n",
       "2007-05-17        0.00   NA        NA\n",
       "2007-05-18        0.00   NA        NA\n",
       "2007-05-19        0.00   NA        NA\n",
       "2007-05-20        0.07   NA        NA\n",
       "2007-05-21        0.00   NA        NA\n",
       "2007-05-22        0.00   NA        NA\n",
       "2007-05-23        0.00   NA        NA\n",
       "2007-05-24        0.02   NA        NA\n",
       "2007-05-25        0.00   NA        NA\n",
       "2007-05-26        1.01   NA        NA\n",
       "2007-05-27        0.04   NA        NA\n",
       "2007-05-28        0.00   NA        NA\n",
       "2007-05-29        0.00   NA        NA\n",
       "2007-05-30        0.00   NA        NA\n",
       "2007-05-31        0.01   NA        NA\n",
       "2007-06-01        0.19   NA        NA\n",
       "2007-06-02        0.04   NA        NA\n",
       "2007-06-03        0.01   NA        NA\n",
       "2007-06-04        0.39   NA        NA\n",
       "2007-06-05        0.42   NA        NA\n",
       "2007-06-06        0.01   NA        NA\n",
       "2007-06-07        0.00   NA        NA\n",
       "2007-06-08        0.00   NA        NA\n",
       "2007-06-09        0.00   NA        NA\n",
       "2007-06-10        0.00   NA        NA\n",
       "2007-06-11        0.00   NA        NA\n",
       "2007-06-12        0.00   NA        NA\n",
       "2007-06-13        0.00   NA        NA\n",
       "2007-06-14        0.00 1.01         1\n",
       "2007-06-15        0.00 1.01         1\n",
       "2007-06-16        0.00 1.01         1\n",
       "2007-06-17        0.00 1.01         1\n",
       "2007-06-18        0.28 1.01         1\n",
       "2007-06-19        0.58 1.01         1"
      ]
     },
     "metadata": {},
     "output_type": "display_data"
    }
   ],
   "source": [
    "qxts$PT45 = runMax(qxts$PrecipTotal,n=45)\n",
    "qxts$PT45_gt05 <- ifelse(qxts$PT45>0.5,1,0)\n",
    "head(qxts,50)\n"
   ]
  },
  {
   "cell_type": "markdown",
   "metadata": {},
   "source": [
    "Now we convert it to a dataframe and join it to the original dataset"
   ]
  },
  {
   "cell_type": "code",
   "execution_count": 30,
   "metadata": {},
   "outputs": [
    {
     "data": {
      "text/html": [
       "<table>\n",
       "<thead><tr><th></th><th scope=col>PT45_gt05</th><th scope=col>Date</th></tr></thead>\n",
       "<tbody>\n",
       "\t<tr><th scope=row>2007-05-01</th><td>NA        </td><td>2007-05-01</td></tr>\n",
       "\t<tr><th scope=row>2007-05-02</th><td>NA        </td><td>2007-05-02</td></tr>\n",
       "\t<tr><th scope=row>2007-05-03</th><td>NA        </td><td>2007-05-03</td></tr>\n",
       "\t<tr><th scope=row>2007-05-04</th><td>NA        </td><td>2007-05-04</td></tr>\n",
       "\t<tr><th scope=row>2007-05-05</th><td>NA        </td><td>2007-05-05</td></tr>\n",
       "\t<tr><th scope=row>2007-05-06</th><td>NA        </td><td>2007-05-06</td></tr>\n",
       "</tbody>\n",
       "</table>\n"
      ],
      "text/latex": [
       "\\begin{tabular}{r|ll}\n",
       "  & PT45\\_gt05 & Date\\\\\n",
       "\\hline\n",
       "\t2007-05-01 & NA         & 2007-05-01\\\\\n",
       "\t2007-05-02 & NA         & 2007-05-02\\\\\n",
       "\t2007-05-03 & NA         & 2007-05-03\\\\\n",
       "\t2007-05-04 & NA         & 2007-05-04\\\\\n",
       "\t2007-05-05 & NA         & 2007-05-05\\\\\n",
       "\t2007-05-06 & NA         & 2007-05-06\\\\\n",
       "\\end{tabular}\n"
      ],
      "text/markdown": [
       "\n",
       "| <!--/--> | PT45_gt05 | Date | \n",
       "|---|---|---|---|---|---|\n",
       "| 2007-05-01 | NA         | 2007-05-01 | \n",
       "| 2007-05-02 | NA         | 2007-05-02 | \n",
       "| 2007-05-03 | NA         | 2007-05-03 | \n",
       "| 2007-05-04 | NA         | 2007-05-04 | \n",
       "| 2007-05-05 | NA         | 2007-05-05 | \n",
       "| 2007-05-06 | NA         | 2007-05-06 | \n",
       "\n",
       "\n"
      ],
      "text/plain": [
       "           PT45_gt05 Date      \n",
       "2007-05-01 NA        2007-05-01\n",
       "2007-05-02 NA        2007-05-02\n",
       "2007-05-03 NA        2007-05-03\n",
       "2007-05-04 NA        2007-05-04\n",
       "2007-05-05 NA        2007-05-05\n",
       "2007-05-06 NA        2007-05-06"
      ]
     },
     "metadata": {},
     "output_type": "display_data"
    },
    {
     "name": "stdout",
     "output_type": "stream",
     "text": [
      "'data.frame':\t1472 obs. of  2 variables:\n",
      " $ PT45_gt05: num  NA NA NA NA NA NA NA NA NA NA ...\n",
      " $ Date     : Date, format: \"2007-05-01\" \"2007-05-02\" ...\n"
     ]
    }
   ],
   "source": [
    "rain45 <- data.frame(qxts$PT45_gt05)\n",
    "rain45$Date <- as.Date(rownames(rain45))\n",
    "head(rain45)\n",
    "str(rain45)"
   ]
  },
  {
   "cell_type": "code",
   "execution_count": 32,
   "metadata": {
    "scrolled": false
   },
   "outputs": [
    {
     "data": {
      "text/html": [
       "<table>\n",
       "<thead><tr><th scope=col>Station</th><th scope=col>Date</th><th scope=col>Tmax</th><th scope=col>Tmin</th><th scope=col>Tavg</th><th scope=col>Depart</th><th scope=col>DewPoint</th><th scope=col>WetBulb</th><th scope=col>Heat</th><th scope=col>Cool</th><th scope=col>...</th><th scope=col>HZ</th><th scope=col>MIFG</th><th scope=col>RA</th><th scope=col>SN</th><th scope=col>SQ</th><th scope=col>TS</th><th scope=col>TSRA</th><th scope=col>VCTS</th><th scope=col>RA45</th><th scope=col>PT45_gt05</th></tr></thead>\n",
       "<tbody>\n",
       "\t<tr><td>1         </td><td>2007-05-01</td><td>83        </td><td>50        </td><td>32        </td><td>32        </td><td>51        </td><td>25        </td><td> 1        </td><td> 3        </td><td>...       </td><td>0         </td><td>0         </td><td>0         </td><td>0         </td><td>0         </td><td>0         </td><td>0         </td><td>0         </td><td>NA        </td><td>NA        </td></tr>\n",
       "\t<tr><td>1         </td><td>2007-05-02</td><td>59        </td><td>42        </td><td>16        </td><td>11        </td><td>42        </td><td>16        </td><td> 7        </td><td> 1        </td><td>...       </td><td>0         </td><td>0         </td><td>0         </td><td>0         </td><td>0         </td><td>0         </td><td>0         </td><td>0         </td><td>NA        </td><td>NA        </td></tr>\n",
       "\t<tr><td>1         </td><td>2007-05-03</td><td>66        </td><td>46        </td><td>21        </td><td>20        </td><td>40        </td><td>17        </td><td>30        </td><td> 1        </td><td>...       </td><td>0         </td><td>0         </td><td>0         </td><td>0         </td><td>0         </td><td>0         </td><td>0         </td><td>0         </td><td>NA        </td><td>NA        </td></tr>\n",
       "\t<tr><td>1         </td><td>2007-05-04</td><td>66        </td><td>49        </td><td>23        </td><td>22        </td><td>41        </td><td>19        </td><td>28        </td><td> 1        </td><td>...       </td><td>0         </td><td>0         </td><td>1         </td><td>0         </td><td>0         </td><td>0         </td><td>0         </td><td>0         </td><td>NA        </td><td>NA        </td></tr>\n",
       "\t<tr><td>1         </td><td>2007-05-05</td><td>66        </td><td>53        </td><td>25        </td><td>23        </td><td>38        </td><td>18        </td><td>26        </td><td> 1        </td><td>...       </td><td>0         </td><td>0         </td><td>0         </td><td>0         </td><td>0         </td><td>0         </td><td>0         </td><td>0         </td><td>NA        </td><td>NA        </td></tr>\n",
       "\t<tr><td>1         </td><td>2007-05-06</td><td>68        </td><td>49        </td><td>24        </td><td>22        </td><td>30        </td><td>15        </td><td>27        </td><td> 1        </td><td>...       </td><td>0         </td><td>0         </td><td>0         </td><td>0         </td><td>0         </td><td>0         </td><td>0         </td><td>0         </td><td>NA        </td><td>NA        </td></tr>\n",
       "\t<tr><td>1         </td><td>2007-05-07</td><td>83        </td><td>47        </td><td>30        </td><td>28        </td><td>41        </td><td>23        </td><td> 1        </td><td> 1        </td><td>...       </td><td>0         </td><td>0         </td><td>1         </td><td>0         </td><td>0         </td><td>0         </td><td>0         </td><td>0         </td><td>NA        </td><td>NA        </td></tr>\n",
       "\t<tr><td>1         </td><td>2007-05-08</td><td>82        </td><td>54        </td><td>33        </td><td>30        </td><td>58        </td><td>31        </td><td> 1        </td><td> 4        </td><td>...       </td><td>0         </td><td>0         </td><td>0         </td><td>0         </td><td>0         </td><td>0         </td><td>0         </td><td>0         </td><td>NA        </td><td>NA        </td></tr>\n",
       "\t<tr><td>1         </td><td>2007-05-09</td><td>77        </td><td>61        </td><td>34        </td><td>31        </td><td>59        </td><td>32        </td><td> 1        </td><td> 5        </td><td>...       </td><td>1         </td><td>0         </td><td>0         </td><td>0         </td><td>0         </td><td>0         </td><td>0         </td><td>0         </td><td>NA        </td><td>NA        </td></tr>\n",
       "\t<tr><td>1         </td><td>2007-05-10</td><td>84        </td><td>56        </td><td>35        </td><td>32        </td><td>52        </td><td>29        </td><td> 1        </td><td> 6        </td><td>...       </td><td>0         </td><td>0         </td><td>0         </td><td>0         </td><td>0         </td><td>0         </td><td>0         </td><td>0         </td><td>NA        </td><td>NA        </td></tr>\n",
       "\t<tr><td>1         </td><td>2007-05-11</td><td>70        </td><td>51        </td><td>26        </td><td>22        </td><td>42        </td><td>20        </td><td>25        </td><td> 1        </td><td>...       </td><td>0         </td><td>0         </td><td>0         </td><td>0         </td><td>0         </td><td>0         </td><td>0         </td><td>0         </td><td>NA        </td><td>NA        </td></tr>\n",
       "\t<tr><td>1         </td><td>2007-05-12</td><td>64        </td><td>46        </td><td>20        </td><td>10        </td><td>36        </td><td>15        </td><td> 3        </td><td> 1        </td><td>...       </td><td>0         </td><td>0         </td><td>0         </td><td>0         </td><td>0         </td><td>0         </td><td>0         </td><td>0         </td><td>NA        </td><td>NA        </td></tr>\n",
       "\t<tr><td>1         </td><td>2007-05-13</td><td>69        </td><td>43        </td><td>21        </td><td>10        </td><td>33        </td><td>15        </td><td>30        </td><td> 1        </td><td>...       </td><td>0         </td><td>0         </td><td>0         </td><td>0         </td><td>0         </td><td>0         </td><td>0         </td><td>0         </td><td>NA        </td><td>NA        </td></tr>\n",
       "\t<tr><td>1         </td><td>2007-05-14</td><td>90        </td><td>56        </td><td>38        </td><td>33        </td><td>47        </td><td>28        </td><td> 1        </td><td> 9        </td><td>...       </td><td>0         </td><td>0         </td><td>0         </td><td>0         </td><td>0         </td><td>0         </td><td>0         </td><td>0         </td><td>NA        </td><td>NA        </td></tr>\n",
       "\t<tr><td>1         </td><td>2007-05-15</td><td>80        </td><td>57        </td><td>34        </td><td>29        </td><td>56        </td><td>30        </td><td> 1        </td><td> 5        </td><td>...       </td><td>0         </td><td>0         </td><td>1         </td><td>0         </td><td>0         </td><td>0         </td><td>0         </td><td>0         </td><td>NA        </td><td>NA        </td></tr>\n",
       "\t<tr><td>1         </td><td>2007-05-16</td><td>66        </td><td>44        </td><td>20        </td><td>12        </td><td>43        </td><td>17        </td><td> 3        </td><td> 1        </td><td>...       </td><td>0         </td><td>0         </td><td>1         </td><td>0         </td><td>0         </td><td>0         </td><td>0         </td><td>0         </td><td>NA        </td><td>NA        </td></tr>\n",
       "\t<tr><td>1         </td><td>2007-05-17</td><td>62        </td><td>43        </td><td>18        </td><td>14        </td><td>32        </td><td>12        </td><td> 5        </td><td> 1        </td><td>...       </td><td>0         </td><td>0         </td><td>0         </td><td>0         </td><td>0         </td><td>0         </td><td>0         </td><td>0         </td><td>NA        </td><td>NA        </td></tr>\n",
       "\t<tr><td>1         </td><td>2007-05-18</td><td>71        </td><td>42        </td><td>22        </td><td>11        </td><td>30        </td><td>15        </td><td>29        </td><td> 1        </td><td>...       </td><td>0         </td><td>0         </td><td>0         </td><td>0         </td><td>0         </td><td>0         </td><td>0         </td><td>0         </td><td>NA        </td><td>NA        </td></tr>\n",
       "\t<tr><td>1         </td><td>2007-05-19</td><td>80        </td><td>56        </td><td>33        </td><td>26        </td><td>39        </td><td>22        </td><td> 1        </td><td> 4        </td><td>...       </td><td>0         </td><td>0         </td><td>0         </td><td>0         </td><td>0         </td><td>0         </td><td>0         </td><td>0         </td><td>NA        </td><td>NA        </td></tr>\n",
       "\t<tr><td>1         </td><td>2007-05-20</td><td>69        </td><td>43        </td><td>21        </td><td>13        </td><td>40        </td><td>13        </td><td>30        </td><td> 1        </td><td>...       </td><td>0         </td><td>0         </td><td>1         </td><td>0         </td><td>0         </td><td>0         </td><td>0         </td><td>1         </td><td>NA        </td><td>NA        </td></tr>\n",
       "\t<tr><td>1         </td><td>2007-05-21</td><td>80        </td><td>44        </td><td>27        </td><td>19        </td><td>50        </td><td>25        </td><td>24        </td><td> 1        </td><td>...       </td><td>0         </td><td>0         </td><td>0         </td><td>0         </td><td>0         </td><td>0         </td><td>0         </td><td>0         </td><td>NA        </td><td>NA        </td></tr>\n",
       "\t<tr><td>1         </td><td>2007-05-22</td><td>87        </td><td>55        </td><td>36        </td><td>28        </td><td>46        </td><td>27        </td><td> 1        </td><td> 7        </td><td>...       </td><td>0         </td><td>0         </td><td>0         </td><td>0         </td><td>0         </td><td>0         </td><td>0         </td><td>0         </td><td>NA        </td><td>NA        </td></tr>\n",
       "\t<tr><td>1         </td><td>2007-05-23</td><td>89        </td><td>60        </td><td>40        </td><td>32        </td><td>49        </td><td>30        </td><td> 1        </td><td>11        </td><td>...       </td><td>0         </td><td>0         </td><td>0         </td><td>0         </td><td>0         </td><td>0         </td><td>0         </td><td>0         </td><td>NA        </td><td>NA        </td></tr>\n",
       "\t<tr><td>1         </td><td>2007-05-24</td><td>88        </td><td>63        </td><td>41        </td><td>32        </td><td>54        </td><td>32        </td><td> 1        </td><td>12        </td><td>...       </td><td>1         </td><td>0         </td><td>1         </td><td>0         </td><td>0         </td><td>0         </td><td>0         </td><td>0         </td><td>NA        </td><td>NA        </td></tr>\n",
       "\t<tr><td>1         </td><td>2007-05-25</td><td>70        </td><td>56        </td><td>28        </td><td>19        </td><td>44        </td><td>22        </td><td>13        </td><td> 1        </td><td>...       </td><td>0         </td><td>0         </td><td>0         </td><td>0         </td><td>0         </td><td>0         </td><td>0         </td><td>0         </td><td>NA        </td><td>NA        </td></tr>\n",
       "\t<tr><td>1         </td><td>2007-05-26</td><td>65        </td><td>49        </td><td>22        </td><td>13        </td><td>55        </td><td>25        </td><td>29        </td><td> 1        </td><td>...       </td><td>1         </td><td>0         </td><td>1         </td><td>0         </td><td>0         </td><td>0         </td><td>1         </td><td>0         </td><td>NA        </td><td>NA        </td></tr>\n",
       "\t<tr><td>1         </td><td>2007-05-27</td><td>75        </td><td>57        </td><td>31        </td><td>22        </td><td>47        </td><td>25        </td><td> 1        </td><td> 2        </td><td>...       </td><td>0         </td><td>0         </td><td>1         </td><td>0         </td><td>0         </td><td>0         </td><td>0         </td><td>0         </td><td>NA        </td><td>NA        </td></tr>\n",
       "\t<tr><td>1         </td><td>2007-05-28</td><td>79        </td><td>50        </td><td>30        </td><td>20        </td><td>47        </td><td>25        </td><td> 1        </td><td> 1        </td><td>...       </td><td>0         </td><td>0         </td><td>1         </td><td>0         </td><td>0         </td><td>0         </td><td>0         </td><td>0         </td><td>NA        </td><td>NA        </td></tr>\n",
       "\t<tr><td>1         </td><td>2007-05-29</td><td>88        </td><td>60        </td><td>39        </td><td>28        </td><td>58        </td><td>34        </td><td> 1        </td><td>10        </td><td>...       </td><td>1         </td><td>0         </td><td>0         </td><td>0         </td><td>0         </td><td>0         </td><td>0         </td><td>0         </td><td>NA        </td><td>NA        </td></tr>\n",
       "\t<tr><td>1         </td><td>2007-05-30</td><td>87        </td><td>66        </td><td>42        </td><td>31        </td><td>58        </td><td>34        </td><td> 1        </td><td>13        </td><td>...       </td><td>1         </td><td>0         </td><td>0         </td><td>0         </td><td>0         </td><td>0         </td><td>0         </td><td>0         </td><td>NA        </td><td>NA        </td></tr>\n",
       "\t<tr><td>1         </td><td>2007-05-31</td><td>78        </td><td>65        </td><td>37        </td><td>26        </td><td>61        </td><td>34        </td><td> 1        </td><td> 8        </td><td>...       </td><td>1         </td><td>0         </td><td>1         </td><td>0         </td><td>0         </td><td>0         </td><td>0         </td><td>0         </td><td>NA        </td><td>NA        </td></tr>\n",
       "\t<tr><td>1         </td><td>2007-06-01</td><td>85        </td><td>62        </td><td>39        </td><td>28        </td><td>63        </td><td>35        </td><td> 1        </td><td>10        </td><td>...       </td><td>1         </td><td>0         </td><td>0         </td><td>0         </td><td>0         </td><td>0         </td><td>1         </td><td>0         </td><td>NA        </td><td>NA        </td></tr>\n",
       "\t<tr><td>1         </td><td>2007-06-02</td><td>81        </td><td>65        </td><td>38        </td><td>27        </td><td>63        </td><td>36        </td><td> 1        </td><td> 9        </td><td>...       </td><td>0         </td><td>0         </td><td>1         </td><td>0         </td><td>0         </td><td>0         </td><td>0         </td><td>0         </td><td>NA        </td><td>NA        </td></tr>\n",
       "\t<tr><td>1         </td><td>2007-06-03</td><td>78        </td><td>62        </td><td>35        </td><td>24        </td><td>60        </td><td>32        </td><td> 1        </td><td> 6        </td><td>...       </td><td>1         </td><td>0         </td><td>1         </td><td>0         </td><td>0         </td><td>0         </td><td>1         </td><td>0         </td><td>NA        </td><td>NA        </td></tr>\n",
       "\t<tr><td>1         </td><td>2007-06-04</td><td>71        </td><td>58        </td><td>30        </td><td>19        </td><td>58        </td><td>29        </td><td> 1        </td><td> 1        </td><td>...       </td><td>0         </td><td>0         </td><td>1         </td><td>0         </td><td>0         </td><td>0         </td><td>1         </td><td>0         </td><td>NA        </td><td>NA        </td></tr>\n",
       "\t<tr><td>1         </td><td>2007-06-05</td><td>64        </td><td>47        </td><td>21        </td><td>17        </td><td>48        </td><td>20        </td><td>30        </td><td> 1        </td><td>...       </td><td>0         </td><td>0         </td><td>1         </td><td>0         </td><td>0         </td><td>0         </td><td>0         </td><td>0         </td><td>NA        </td><td>NA        </td></tr>\n",
       "\t<tr><td>1         </td><td>2007-06-06</td><td>71        </td><td>44        </td><td>23        </td><td>16        </td><td>48        </td><td>24        </td><td>28        </td><td> 1        </td><td>...       </td><td>0         </td><td>0         </td><td>1         </td><td>0         </td><td>0         </td><td>0         </td><td>0         </td><td>0         </td><td>NA        </td><td>NA        </td></tr>\n",
       "\t<tr><td>1         </td><td>2007-06-07</td><td>91        </td><td>71        </td><td>46        </td><td>33        </td><td>62        </td><td>38        </td><td> 1        </td><td>17        </td><td>...       </td><td>0         </td><td>0         </td><td>0         </td><td>0         </td><td>0         </td><td>0         </td><td>0         </td><td>0         </td><td>NA        </td><td>NA        </td></tr>\n",
       "\t<tr><td>1         </td><td>2007-06-08</td><td>81        </td><td>57        </td><td>34        </td><td>21        </td><td>53        </td><td>30        </td><td> 1        </td><td> 5        </td><td>...       </td><td>0         </td><td>0         </td><td>0         </td><td>0         </td><td>0         </td><td>0         </td><td>0         </td><td>0         </td><td>NA        </td><td>NA        </td></tr>\n",
       "\t<tr><td>1         </td><td>2007-06-09</td><td>79        </td><td>52        </td><td>31        </td><td>18        </td><td>47        </td><td>26        </td><td> 1        </td><td> 2        </td><td>...       </td><td>0         </td><td>0         </td><td>0         </td><td>0         </td><td>0         </td><td>0         </td><td>0         </td><td>0         </td><td>NA        </td><td>NA        </td></tr>\n",
       "\t<tr><td>1         </td><td>2007-06-10</td><td>81        </td><td>55        </td><td>33        </td><td>19        </td><td>51        </td><td>28        </td><td> 1        </td><td> 4        </td><td>...       </td><td>0         </td><td>0         </td><td>0         </td><td>0         </td><td>0         </td><td>0         </td><td>0         </td><td>0         </td><td>NA        </td><td>NA        </td></tr>\n",
       "\t<tr><td>1         </td><td>2007-06-11</td><td>86        </td><td>58        </td><td>37        </td><td>23        </td><td>52        </td><td>30        </td><td> 1        </td><td> 8        </td><td>...       </td><td>0         </td><td>0         </td><td>0         </td><td>0         </td><td>0         </td><td>0         </td><td>0         </td><td>0         </td><td>NA        </td><td>NA        </td></tr>\n",
       "\t<tr><td>1         </td><td>2007-06-12</td><td>83        </td><td>62        </td><td>38        </td><td>23        </td><td>50        </td><td>29        </td><td> 1        </td><td> 9        </td><td>...       </td><td>0         </td><td>0         </td><td>0         </td><td>0         </td><td>0         </td><td>0         </td><td>0         </td><td>0         </td><td>NA        </td><td>NA        </td></tr>\n",
       "\t<tr><td>1         </td><td>2007-06-13</td><td>87        </td><td>60        </td><td>39        </td><td>24        </td><td>53        </td><td>31        </td><td> 1        </td><td>10        </td><td>...       </td><td>0         </td><td>0         </td><td>0         </td><td>0         </td><td>0         </td><td>0         </td><td>0         </td><td>0         </td><td>NA        </td><td>NA        </td></tr>\n",
       "\t<tr><td>1         </td><td>2007-06-14</td><td>89        </td><td>64        </td><td>42        </td><td>27        </td><td>55        </td><td>33        </td><td> 1        </td><td>13        </td><td>...       </td><td>0         </td><td>0         </td><td>0         </td><td>0         </td><td>0         </td><td>0         </td><td>0         </td><td>0         </td><td>15        </td><td> 1        </td></tr>\n",
       "\t<tr><td>1         </td><td>2007-06-15</td><td>91        </td><td>63        </td><td>42        </td><td>27        </td><td>56        </td><td>33        </td><td> 1        </td><td>13        </td><td>...       </td><td>0         </td><td>0         </td><td>0         </td><td>0         </td><td>0         </td><td>0         </td><td>0         </td><td>0         </td><td>15        </td><td> 1        </td></tr>\n",
       "\t<tr><td>1         </td><td>2007-06-16</td><td>93        </td><td>66        </td><td>45        </td><td>29        </td><td>60        </td><td>36        </td><td> 1        </td><td>16        </td><td>...       </td><td>1         </td><td>0         </td><td>1         </td><td>0         </td><td>0         </td><td>0         </td><td>0         </td><td>0         </td><td>16        </td><td> 1        </td></tr>\n",
       "\t<tr><td>1         </td><td>2007-06-17</td><td>91        </td><td>70        </td><td>46        </td><td>30        </td><td>64        </td><td>39        </td><td> 1        </td><td>17        </td><td>...       </td><td>1         </td><td>0         </td><td>0         </td><td>0         </td><td>0         </td><td>0         </td><td>0         </td><td>0         </td><td>16        </td><td> 1        </td></tr>\n",
       "\t<tr><td>1         </td><td>2007-06-18</td><td>89        </td><td>69        </td><td>44        </td><td>27        </td><td>65        </td><td>39        </td><td> 1        </td><td>15        </td><td>...       </td><td>1         </td><td>0         </td><td>1         </td><td>0         </td><td>0         </td><td>0         </td><td>1         </td><td>0         </td><td>16        </td><td> 1        </td></tr>\n",
       "\t<tr><td>1         </td><td>2007-06-19</td><td>80        </td><td>65        </td><td>38        </td><td>21        </td><td>55        </td><td>32        </td><td> 1        </td><td> 9        </td><td>...       </td><td>0         </td><td>0         </td><td>1         </td><td>0         </td><td>0         </td><td>0         </td><td>0         </td><td>0         </td><td>17        </td><td> 1        </td></tr>\n",
       "</tbody>\n",
       "</table>\n"
      ],
      "text/latex": [
       "\\begin{tabular}{r|lllllllllllllllllllllllllllllllllll}\n",
       " Station & Date & Tmax & Tmin & Tavg & Depart & DewPoint & WetBulb & Heat & Cool & ... & HZ & MIFG & RA & SN & SQ & TS & TSRA & VCTS & RA45 & PT45\\_gt05\\\\\n",
       "\\hline\n",
       "\t 1          & 2007-05-01 & 83         & 50         & 32         & 32         & 51         & 25         &  1         &  3         & ...        & 0          & 0          & 0          & 0          & 0          & 0          & 0          & 0          & NA         & NA        \\\\\n",
       "\t 1          & 2007-05-02 & 59         & 42         & 16         & 11         & 42         & 16         &  7         &  1         & ...        & 0          & 0          & 0          & 0          & 0          & 0          & 0          & 0          & NA         & NA        \\\\\n",
       "\t 1          & 2007-05-03 & 66         & 46         & 21         & 20         & 40         & 17         & 30         &  1         & ...        & 0          & 0          & 0          & 0          & 0          & 0          & 0          & 0          & NA         & NA        \\\\\n",
       "\t 1          & 2007-05-04 & 66         & 49         & 23         & 22         & 41         & 19         & 28         &  1         & ...        & 0          & 0          & 1          & 0          & 0          & 0          & 0          & 0          & NA         & NA        \\\\\n",
       "\t 1          & 2007-05-05 & 66         & 53         & 25         & 23         & 38         & 18         & 26         &  1         & ...        & 0          & 0          & 0          & 0          & 0          & 0          & 0          & 0          & NA         & NA        \\\\\n",
       "\t 1          & 2007-05-06 & 68         & 49         & 24         & 22         & 30         & 15         & 27         &  1         & ...        & 0          & 0          & 0          & 0          & 0          & 0          & 0          & 0          & NA         & NA        \\\\\n",
       "\t 1          & 2007-05-07 & 83         & 47         & 30         & 28         & 41         & 23         &  1         &  1         & ...        & 0          & 0          & 1          & 0          & 0          & 0          & 0          & 0          & NA         & NA        \\\\\n",
       "\t 1          & 2007-05-08 & 82         & 54         & 33         & 30         & 58         & 31         &  1         &  4         & ...        & 0          & 0          & 0          & 0          & 0          & 0          & 0          & 0          & NA         & NA        \\\\\n",
       "\t 1          & 2007-05-09 & 77         & 61         & 34         & 31         & 59         & 32         &  1         &  5         & ...        & 1          & 0          & 0          & 0          & 0          & 0          & 0          & 0          & NA         & NA        \\\\\n",
       "\t 1          & 2007-05-10 & 84         & 56         & 35         & 32         & 52         & 29         &  1         &  6         & ...        & 0          & 0          & 0          & 0          & 0          & 0          & 0          & 0          & NA         & NA        \\\\\n",
       "\t 1          & 2007-05-11 & 70         & 51         & 26         & 22         & 42         & 20         & 25         &  1         & ...        & 0          & 0          & 0          & 0          & 0          & 0          & 0          & 0          & NA         & NA        \\\\\n",
       "\t 1          & 2007-05-12 & 64         & 46         & 20         & 10         & 36         & 15         &  3         &  1         & ...        & 0          & 0          & 0          & 0          & 0          & 0          & 0          & 0          & NA         & NA        \\\\\n",
       "\t 1          & 2007-05-13 & 69         & 43         & 21         & 10         & 33         & 15         & 30         &  1         & ...        & 0          & 0          & 0          & 0          & 0          & 0          & 0          & 0          & NA         & NA        \\\\\n",
       "\t 1          & 2007-05-14 & 90         & 56         & 38         & 33         & 47         & 28         &  1         &  9         & ...        & 0          & 0          & 0          & 0          & 0          & 0          & 0          & 0          & NA         & NA        \\\\\n",
       "\t 1          & 2007-05-15 & 80         & 57         & 34         & 29         & 56         & 30         &  1         &  5         & ...        & 0          & 0          & 1          & 0          & 0          & 0          & 0          & 0          & NA         & NA        \\\\\n",
       "\t 1          & 2007-05-16 & 66         & 44         & 20         & 12         & 43         & 17         &  3         &  1         & ...        & 0          & 0          & 1          & 0          & 0          & 0          & 0          & 0          & NA         & NA        \\\\\n",
       "\t 1          & 2007-05-17 & 62         & 43         & 18         & 14         & 32         & 12         &  5         &  1         & ...        & 0          & 0          & 0          & 0          & 0          & 0          & 0          & 0          & NA         & NA        \\\\\n",
       "\t 1          & 2007-05-18 & 71         & 42         & 22         & 11         & 30         & 15         & 29         &  1         & ...        & 0          & 0          & 0          & 0          & 0          & 0          & 0          & 0          & NA         & NA        \\\\\n",
       "\t 1          & 2007-05-19 & 80         & 56         & 33         & 26         & 39         & 22         &  1         &  4         & ...        & 0          & 0          & 0          & 0          & 0          & 0          & 0          & 0          & NA         & NA        \\\\\n",
       "\t 1          & 2007-05-20 & 69         & 43         & 21         & 13         & 40         & 13         & 30         &  1         & ...        & 0          & 0          & 1          & 0          & 0          & 0          & 0          & 1          & NA         & NA        \\\\\n",
       "\t 1          & 2007-05-21 & 80         & 44         & 27         & 19         & 50         & 25         & 24         &  1         & ...        & 0          & 0          & 0          & 0          & 0          & 0          & 0          & 0          & NA         & NA        \\\\\n",
       "\t 1          & 2007-05-22 & 87         & 55         & 36         & 28         & 46         & 27         &  1         &  7         & ...        & 0          & 0          & 0          & 0          & 0          & 0          & 0          & 0          & NA         & NA        \\\\\n",
       "\t 1          & 2007-05-23 & 89         & 60         & 40         & 32         & 49         & 30         &  1         & 11         & ...        & 0          & 0          & 0          & 0          & 0          & 0          & 0          & 0          & NA         & NA        \\\\\n",
       "\t 1          & 2007-05-24 & 88         & 63         & 41         & 32         & 54         & 32         &  1         & 12         & ...        & 1          & 0          & 1          & 0          & 0          & 0          & 0          & 0          & NA         & NA        \\\\\n",
       "\t 1          & 2007-05-25 & 70         & 56         & 28         & 19         & 44         & 22         & 13         &  1         & ...        & 0          & 0          & 0          & 0          & 0          & 0          & 0          & 0          & NA         & NA        \\\\\n",
       "\t 1          & 2007-05-26 & 65         & 49         & 22         & 13         & 55         & 25         & 29         &  1         & ...        & 1          & 0          & 1          & 0          & 0          & 0          & 1          & 0          & NA         & NA        \\\\\n",
       "\t 1          & 2007-05-27 & 75         & 57         & 31         & 22         & 47         & 25         &  1         &  2         & ...        & 0          & 0          & 1          & 0          & 0          & 0          & 0          & 0          & NA         & NA        \\\\\n",
       "\t 1          & 2007-05-28 & 79         & 50         & 30         & 20         & 47         & 25         &  1         &  1         & ...        & 0          & 0          & 1          & 0          & 0          & 0          & 0          & 0          & NA         & NA        \\\\\n",
       "\t 1          & 2007-05-29 & 88         & 60         & 39         & 28         & 58         & 34         &  1         & 10         & ...        & 1          & 0          & 0          & 0          & 0          & 0          & 0          & 0          & NA         & NA        \\\\\n",
       "\t 1          & 2007-05-30 & 87         & 66         & 42         & 31         & 58         & 34         &  1         & 13         & ...        & 1          & 0          & 0          & 0          & 0          & 0          & 0          & 0          & NA         & NA        \\\\\n",
       "\t 1          & 2007-05-31 & 78         & 65         & 37         & 26         & 61         & 34         &  1         &  8         & ...        & 1          & 0          & 1          & 0          & 0          & 0          & 0          & 0          & NA         & NA        \\\\\n",
       "\t 1          & 2007-06-01 & 85         & 62         & 39         & 28         & 63         & 35         &  1         & 10         & ...        & 1          & 0          & 0          & 0          & 0          & 0          & 1          & 0          & NA         & NA        \\\\\n",
       "\t 1          & 2007-06-02 & 81         & 65         & 38         & 27         & 63         & 36         &  1         &  9         & ...        & 0          & 0          & 1          & 0          & 0          & 0          & 0          & 0          & NA         & NA        \\\\\n",
       "\t 1          & 2007-06-03 & 78         & 62         & 35         & 24         & 60         & 32         &  1         &  6         & ...        & 1          & 0          & 1          & 0          & 0          & 0          & 1          & 0          & NA         & NA        \\\\\n",
       "\t 1          & 2007-06-04 & 71         & 58         & 30         & 19         & 58         & 29         &  1         &  1         & ...        & 0          & 0          & 1          & 0          & 0          & 0          & 1          & 0          & NA         & NA        \\\\\n",
       "\t 1          & 2007-06-05 & 64         & 47         & 21         & 17         & 48         & 20         & 30         &  1         & ...        & 0          & 0          & 1          & 0          & 0          & 0          & 0          & 0          & NA         & NA        \\\\\n",
       "\t 1          & 2007-06-06 & 71         & 44         & 23         & 16         & 48         & 24         & 28         &  1         & ...        & 0          & 0          & 1          & 0          & 0          & 0          & 0          & 0          & NA         & NA        \\\\\n",
       "\t 1          & 2007-06-07 & 91         & 71         & 46         & 33         & 62         & 38         &  1         & 17         & ...        & 0          & 0          & 0          & 0          & 0          & 0          & 0          & 0          & NA         & NA        \\\\\n",
       "\t 1          & 2007-06-08 & 81         & 57         & 34         & 21         & 53         & 30         &  1         &  5         & ...        & 0          & 0          & 0          & 0          & 0          & 0          & 0          & 0          & NA         & NA        \\\\\n",
       "\t 1          & 2007-06-09 & 79         & 52         & 31         & 18         & 47         & 26         &  1         &  2         & ...        & 0          & 0          & 0          & 0          & 0          & 0          & 0          & 0          & NA         & NA        \\\\\n",
       "\t 1          & 2007-06-10 & 81         & 55         & 33         & 19         & 51         & 28         &  1         &  4         & ...        & 0          & 0          & 0          & 0          & 0          & 0          & 0          & 0          & NA         & NA        \\\\\n",
       "\t 1          & 2007-06-11 & 86         & 58         & 37         & 23         & 52         & 30         &  1         &  8         & ...        & 0          & 0          & 0          & 0          & 0          & 0          & 0          & 0          & NA         & NA        \\\\\n",
       "\t 1          & 2007-06-12 & 83         & 62         & 38         & 23         & 50         & 29         &  1         &  9         & ...        & 0          & 0          & 0          & 0          & 0          & 0          & 0          & 0          & NA         & NA        \\\\\n",
       "\t 1          & 2007-06-13 & 87         & 60         & 39         & 24         & 53         & 31         &  1         & 10         & ...        & 0          & 0          & 0          & 0          & 0          & 0          & 0          & 0          & NA         & NA        \\\\\n",
       "\t 1          & 2007-06-14 & 89         & 64         & 42         & 27         & 55         & 33         &  1         & 13         & ...        & 0          & 0          & 0          & 0          & 0          & 0          & 0          & 0          & 15         &  1        \\\\\n",
       "\t 1          & 2007-06-15 & 91         & 63         & 42         & 27         & 56         & 33         &  1         & 13         & ...        & 0          & 0          & 0          & 0          & 0          & 0          & 0          & 0          & 15         &  1        \\\\\n",
       "\t 1          & 2007-06-16 & 93         & 66         & 45         & 29         & 60         & 36         &  1         & 16         & ...        & 1          & 0          & 1          & 0          & 0          & 0          & 0          & 0          & 16         &  1        \\\\\n",
       "\t 1          & 2007-06-17 & 91         & 70         & 46         & 30         & 64         & 39         &  1         & 17         & ...        & 1          & 0          & 0          & 0          & 0          & 0          & 0          & 0          & 16         &  1        \\\\\n",
       "\t 1          & 2007-06-18 & 89         & 69         & 44         & 27         & 65         & 39         &  1         & 15         & ...        & 1          & 0          & 1          & 0          & 0          & 0          & 1          & 0          & 16         &  1        \\\\\n",
       "\t 1          & 2007-06-19 & 80         & 65         & 38         & 21         & 55         & 32         &  1         &  9         & ...        & 0          & 0          & 1          & 0          & 0          & 0          & 0          & 0          & 17         &  1        \\\\\n",
       "\\end{tabular}\n"
      ],
      "text/markdown": [
       "\n",
       "Station | Date | Tmax | Tmin | Tavg | Depart | DewPoint | WetBulb | Heat | Cool | ... | HZ | MIFG | RA | SN | SQ | TS | TSRA | VCTS | RA45 | PT45_gt05 | \n",
       "|---|---|---|---|---|---|---|---|---|---|---|---|---|---|---|---|---|---|---|---|---|---|---|---|---|---|---|---|---|---|---|---|---|---|---|---|---|---|---|---|---|---|---|---|---|---|---|---|---|---|\n",
       "| 1          | 2007-05-01 | 83         | 50         | 32         | 32         | 51         | 25         |  1         |  3         | ...        | 0          | 0          | 0          | 0          | 0          | 0          | 0          | 0          | NA         | NA         | \n",
       "| 1          | 2007-05-02 | 59         | 42         | 16         | 11         | 42         | 16         |  7         |  1         | ...        | 0          | 0          | 0          | 0          | 0          | 0          | 0          | 0          | NA         | NA         | \n",
       "| 1          | 2007-05-03 | 66         | 46         | 21         | 20         | 40         | 17         | 30         |  1         | ...        | 0          | 0          | 0          | 0          | 0          | 0          | 0          | 0          | NA         | NA         | \n",
       "| 1          | 2007-05-04 | 66         | 49         | 23         | 22         | 41         | 19         | 28         |  1         | ...        | 0          | 0          | 1          | 0          | 0          | 0          | 0          | 0          | NA         | NA         | \n",
       "| 1          | 2007-05-05 | 66         | 53         | 25         | 23         | 38         | 18         | 26         |  1         | ...        | 0          | 0          | 0          | 0          | 0          | 0          | 0          | 0          | NA         | NA         | \n",
       "| 1          | 2007-05-06 | 68         | 49         | 24         | 22         | 30         | 15         | 27         |  1         | ...        | 0          | 0          | 0          | 0          | 0          | 0          | 0          | 0          | NA         | NA         | \n",
       "| 1          | 2007-05-07 | 83         | 47         | 30         | 28         | 41         | 23         |  1         |  1         | ...        | 0          | 0          | 1          | 0          | 0          | 0          | 0          | 0          | NA         | NA         | \n",
       "| 1          | 2007-05-08 | 82         | 54         | 33         | 30         | 58         | 31         |  1         |  4         | ...        | 0          | 0          | 0          | 0          | 0          | 0          | 0          | 0          | NA         | NA         | \n",
       "| 1          | 2007-05-09 | 77         | 61         | 34         | 31         | 59         | 32         |  1         |  5         | ...        | 1          | 0          | 0          | 0          | 0          | 0          | 0          | 0          | NA         | NA         | \n",
       "| 1          | 2007-05-10 | 84         | 56         | 35         | 32         | 52         | 29         |  1         |  6         | ...        | 0          | 0          | 0          | 0          | 0          | 0          | 0          | 0          | NA         | NA         | \n",
       "| 1          | 2007-05-11 | 70         | 51         | 26         | 22         | 42         | 20         | 25         |  1         | ...        | 0          | 0          | 0          | 0          | 0          | 0          | 0          | 0          | NA         | NA         | \n",
       "| 1          | 2007-05-12 | 64         | 46         | 20         | 10         | 36         | 15         |  3         |  1         | ...        | 0          | 0          | 0          | 0          | 0          | 0          | 0          | 0          | NA         | NA         | \n",
       "| 1          | 2007-05-13 | 69         | 43         | 21         | 10         | 33         | 15         | 30         |  1         | ...        | 0          | 0          | 0          | 0          | 0          | 0          | 0          | 0          | NA         | NA         | \n",
       "| 1          | 2007-05-14 | 90         | 56         | 38         | 33         | 47         | 28         |  1         |  9         | ...        | 0          | 0          | 0          | 0          | 0          | 0          | 0          | 0          | NA         | NA         | \n",
       "| 1          | 2007-05-15 | 80         | 57         | 34         | 29         | 56         | 30         |  1         |  5         | ...        | 0          | 0          | 1          | 0          | 0          | 0          | 0          | 0          | NA         | NA         | \n",
       "| 1          | 2007-05-16 | 66         | 44         | 20         | 12         | 43         | 17         |  3         |  1         | ...        | 0          | 0          | 1          | 0          | 0          | 0          | 0          | 0          | NA         | NA         | \n",
       "| 1          | 2007-05-17 | 62         | 43         | 18         | 14         | 32         | 12         |  5         |  1         | ...        | 0          | 0          | 0          | 0          | 0          | 0          | 0          | 0          | NA         | NA         | \n",
       "| 1          | 2007-05-18 | 71         | 42         | 22         | 11         | 30         | 15         | 29         |  1         | ...        | 0          | 0          | 0          | 0          | 0          | 0          | 0          | 0          | NA         | NA         | \n",
       "| 1          | 2007-05-19 | 80         | 56         | 33         | 26         | 39         | 22         |  1         |  4         | ...        | 0          | 0          | 0          | 0          | 0          | 0          | 0          | 0          | NA         | NA         | \n",
       "| 1          | 2007-05-20 | 69         | 43         | 21         | 13         | 40         | 13         | 30         |  1         | ...        | 0          | 0          | 1          | 0          | 0          | 0          | 0          | 1          | NA         | NA         | \n",
       "| 1          | 2007-05-21 | 80         | 44         | 27         | 19         | 50         | 25         | 24         |  1         | ...        | 0          | 0          | 0          | 0          | 0          | 0          | 0          | 0          | NA         | NA         | \n",
       "| 1          | 2007-05-22 | 87         | 55         | 36         | 28         | 46         | 27         |  1         |  7         | ...        | 0          | 0          | 0          | 0          | 0          | 0          | 0          | 0          | NA         | NA         | \n",
       "| 1          | 2007-05-23 | 89         | 60         | 40         | 32         | 49         | 30         |  1         | 11         | ...        | 0          | 0          | 0          | 0          | 0          | 0          | 0          | 0          | NA         | NA         | \n",
       "| 1          | 2007-05-24 | 88         | 63         | 41         | 32         | 54         | 32         |  1         | 12         | ...        | 1          | 0          | 1          | 0          | 0          | 0          | 0          | 0          | NA         | NA         | \n",
       "| 1          | 2007-05-25 | 70         | 56         | 28         | 19         | 44         | 22         | 13         |  1         | ...        | 0          | 0          | 0          | 0          | 0          | 0          | 0          | 0          | NA         | NA         | \n",
       "| 1          | 2007-05-26 | 65         | 49         | 22         | 13         | 55         | 25         | 29         |  1         | ...        | 1          | 0          | 1          | 0          | 0          | 0          | 1          | 0          | NA         | NA         | \n",
       "| 1          | 2007-05-27 | 75         | 57         | 31         | 22         | 47         | 25         |  1         |  2         | ...        | 0          | 0          | 1          | 0          | 0          | 0          | 0          | 0          | NA         | NA         | \n",
       "| 1          | 2007-05-28 | 79         | 50         | 30         | 20         | 47         | 25         |  1         |  1         | ...        | 0          | 0          | 1          | 0          | 0          | 0          | 0          | 0          | NA         | NA         | \n",
       "| 1          | 2007-05-29 | 88         | 60         | 39         | 28         | 58         | 34         |  1         | 10         | ...        | 1          | 0          | 0          | 0          | 0          | 0          | 0          | 0          | NA         | NA         | \n",
       "| 1          | 2007-05-30 | 87         | 66         | 42         | 31         | 58         | 34         |  1         | 13         | ...        | 1          | 0          | 0          | 0          | 0          | 0          | 0          | 0          | NA         | NA         | \n",
       "| 1          | 2007-05-31 | 78         | 65         | 37         | 26         | 61         | 34         |  1         |  8         | ...        | 1          | 0          | 1          | 0          | 0          | 0          | 0          | 0          | NA         | NA         | \n",
       "| 1          | 2007-06-01 | 85         | 62         | 39         | 28         | 63         | 35         |  1         | 10         | ...        | 1          | 0          | 0          | 0          | 0          | 0          | 1          | 0          | NA         | NA         | \n",
       "| 1          | 2007-06-02 | 81         | 65         | 38         | 27         | 63         | 36         |  1         |  9         | ...        | 0          | 0          | 1          | 0          | 0          | 0          | 0          | 0          | NA         | NA         | \n",
       "| 1          | 2007-06-03 | 78         | 62         | 35         | 24         | 60         | 32         |  1         |  6         | ...        | 1          | 0          | 1          | 0          | 0          | 0          | 1          | 0          | NA         | NA         | \n",
       "| 1          | 2007-06-04 | 71         | 58         | 30         | 19         | 58         | 29         |  1         |  1         | ...        | 0          | 0          | 1          | 0          | 0          | 0          | 1          | 0          | NA         | NA         | \n",
       "| 1          | 2007-06-05 | 64         | 47         | 21         | 17         | 48         | 20         | 30         |  1         | ...        | 0          | 0          | 1          | 0          | 0          | 0          | 0          | 0          | NA         | NA         | \n",
       "| 1          | 2007-06-06 | 71         | 44         | 23         | 16         | 48         | 24         | 28         |  1         | ...        | 0          | 0          | 1          | 0          | 0          | 0          | 0          | 0          | NA         | NA         | \n",
       "| 1          | 2007-06-07 | 91         | 71         | 46         | 33         | 62         | 38         |  1         | 17         | ...        | 0          | 0          | 0          | 0          | 0          | 0          | 0          | 0          | NA         | NA         | \n",
       "| 1          | 2007-06-08 | 81         | 57         | 34         | 21         | 53         | 30         |  1         |  5         | ...        | 0          | 0          | 0          | 0          | 0          | 0          | 0          | 0          | NA         | NA         | \n",
       "| 1          | 2007-06-09 | 79         | 52         | 31         | 18         | 47         | 26         |  1         |  2         | ...        | 0          | 0          | 0          | 0          | 0          | 0          | 0          | 0          | NA         | NA         | \n",
       "| 1          | 2007-06-10 | 81         | 55         | 33         | 19         | 51         | 28         |  1         |  4         | ...        | 0          | 0          | 0          | 0          | 0          | 0          | 0          | 0          | NA         | NA         | \n",
       "| 1          | 2007-06-11 | 86         | 58         | 37         | 23         | 52         | 30         |  1         |  8         | ...        | 0          | 0          | 0          | 0          | 0          | 0          | 0          | 0          | NA         | NA         | \n",
       "| 1          | 2007-06-12 | 83         | 62         | 38         | 23         | 50         | 29         |  1         |  9         | ...        | 0          | 0          | 0          | 0          | 0          | 0          | 0          | 0          | NA         | NA         | \n",
       "| 1          | 2007-06-13 | 87         | 60         | 39         | 24         | 53         | 31         |  1         | 10         | ...        | 0          | 0          | 0          | 0          | 0          | 0          | 0          | 0          | NA         | NA         | \n",
       "| 1          | 2007-06-14 | 89         | 64         | 42         | 27         | 55         | 33         |  1         | 13         | ...        | 0          | 0          | 0          | 0          | 0          | 0          | 0          | 0          | 15         |  1         | \n",
       "| 1          | 2007-06-15 | 91         | 63         | 42         | 27         | 56         | 33         |  1         | 13         | ...        | 0          | 0          | 0          | 0          | 0          | 0          | 0          | 0          | 15         |  1         | \n",
       "| 1          | 2007-06-16 | 93         | 66         | 45         | 29         | 60         | 36         |  1         | 16         | ...        | 1          | 0          | 1          | 0          | 0          | 0          | 0          | 0          | 16         |  1         | \n",
       "| 1          | 2007-06-17 | 91         | 70         | 46         | 30         | 64         | 39         |  1         | 17         | ...        | 1          | 0          | 0          | 0          | 0          | 0          | 0          | 0          | 16         |  1         | \n",
       "| 1          | 2007-06-18 | 89         | 69         | 44         | 27         | 65         | 39         |  1         | 15         | ...        | 1          | 0          | 1          | 0          | 0          | 0          | 1          | 0          | 16         |  1         | \n",
       "| 1          | 2007-06-19 | 80         | 65         | 38         | 21         | 55         | 32         |  1         |  9         | ...        | 0          | 0          | 1          | 0          | 0          | 0          | 0          | 0          | 17         |  1         | \n",
       "\n",
       "\n"
      ],
      "text/plain": [
       "   Station Date       Tmax Tmin Tavg Depart DewPoint WetBulb Heat Cool ... HZ\n",
       "1  1       2007-05-01 83   50   32   32     51       25       1    3   ... 0 \n",
       "2  1       2007-05-02 59   42   16   11     42       16       7    1   ... 0 \n",
       "3  1       2007-05-03 66   46   21   20     40       17      30    1   ... 0 \n",
       "4  1       2007-05-04 66   49   23   22     41       19      28    1   ... 0 \n",
       "5  1       2007-05-05 66   53   25   23     38       18      26    1   ... 0 \n",
       "6  1       2007-05-06 68   49   24   22     30       15      27    1   ... 0 \n",
       "7  1       2007-05-07 83   47   30   28     41       23       1    1   ... 0 \n",
       "8  1       2007-05-08 82   54   33   30     58       31       1    4   ... 0 \n",
       "9  1       2007-05-09 77   61   34   31     59       32       1    5   ... 1 \n",
       "10 1       2007-05-10 84   56   35   32     52       29       1    6   ... 0 \n",
       "11 1       2007-05-11 70   51   26   22     42       20      25    1   ... 0 \n",
       "12 1       2007-05-12 64   46   20   10     36       15       3    1   ... 0 \n",
       "13 1       2007-05-13 69   43   21   10     33       15      30    1   ... 0 \n",
       "14 1       2007-05-14 90   56   38   33     47       28       1    9   ... 0 \n",
       "15 1       2007-05-15 80   57   34   29     56       30       1    5   ... 0 \n",
       "16 1       2007-05-16 66   44   20   12     43       17       3    1   ... 0 \n",
       "17 1       2007-05-17 62   43   18   14     32       12       5    1   ... 0 \n",
       "18 1       2007-05-18 71   42   22   11     30       15      29    1   ... 0 \n",
       "19 1       2007-05-19 80   56   33   26     39       22       1    4   ... 0 \n",
       "20 1       2007-05-20 69   43   21   13     40       13      30    1   ... 0 \n",
       "21 1       2007-05-21 80   44   27   19     50       25      24    1   ... 0 \n",
       "22 1       2007-05-22 87   55   36   28     46       27       1    7   ... 0 \n",
       "23 1       2007-05-23 89   60   40   32     49       30       1   11   ... 0 \n",
       "24 1       2007-05-24 88   63   41   32     54       32       1   12   ... 1 \n",
       "25 1       2007-05-25 70   56   28   19     44       22      13    1   ... 0 \n",
       "26 1       2007-05-26 65   49   22   13     55       25      29    1   ... 1 \n",
       "27 1       2007-05-27 75   57   31   22     47       25       1    2   ... 0 \n",
       "28 1       2007-05-28 79   50   30   20     47       25       1    1   ... 0 \n",
       "29 1       2007-05-29 88   60   39   28     58       34       1   10   ... 1 \n",
       "30 1       2007-05-30 87   66   42   31     58       34       1   13   ... 1 \n",
       "31 1       2007-05-31 78   65   37   26     61       34       1    8   ... 1 \n",
       "32 1       2007-06-01 85   62   39   28     63       35       1   10   ... 1 \n",
       "33 1       2007-06-02 81   65   38   27     63       36       1    9   ... 0 \n",
       "34 1       2007-06-03 78   62   35   24     60       32       1    6   ... 1 \n",
       "35 1       2007-06-04 71   58   30   19     58       29       1    1   ... 0 \n",
       "36 1       2007-06-05 64   47   21   17     48       20      30    1   ... 0 \n",
       "37 1       2007-06-06 71   44   23   16     48       24      28    1   ... 0 \n",
       "38 1       2007-06-07 91   71   46   33     62       38       1   17   ... 0 \n",
       "39 1       2007-06-08 81   57   34   21     53       30       1    5   ... 0 \n",
       "40 1       2007-06-09 79   52   31   18     47       26       1    2   ... 0 \n",
       "41 1       2007-06-10 81   55   33   19     51       28       1    4   ... 0 \n",
       "42 1       2007-06-11 86   58   37   23     52       30       1    8   ... 0 \n",
       "43 1       2007-06-12 83   62   38   23     50       29       1    9   ... 0 \n",
       "44 1       2007-06-13 87   60   39   24     53       31       1   10   ... 0 \n",
       "45 1       2007-06-14 89   64   42   27     55       33       1   13   ... 0 \n",
       "46 1       2007-06-15 91   63   42   27     56       33       1   13   ... 0 \n",
       "47 1       2007-06-16 93   66   45   29     60       36       1   16   ... 1 \n",
       "48 1       2007-06-17 91   70   46   30     64       39       1   17   ... 1 \n",
       "49 1       2007-06-18 89   69   44   27     65       39       1   15   ... 1 \n",
       "50 1       2007-06-19 80   65   38   21     55       32       1    9   ... 0 \n",
       "   MIFG RA SN SQ TS TSRA VCTS RA45 PT45_gt05\n",
       "1  0    0  0  0  0  0    0    NA   NA       \n",
       "2  0    0  0  0  0  0    0    NA   NA       \n",
       "3  0    0  0  0  0  0    0    NA   NA       \n",
       "4  0    1  0  0  0  0    0    NA   NA       \n",
       "5  0    0  0  0  0  0    0    NA   NA       \n",
       "6  0    0  0  0  0  0    0    NA   NA       \n",
       "7  0    1  0  0  0  0    0    NA   NA       \n",
       "8  0    0  0  0  0  0    0    NA   NA       \n",
       "9  0    0  0  0  0  0    0    NA   NA       \n",
       "10 0    0  0  0  0  0    0    NA   NA       \n",
       "11 0    0  0  0  0  0    0    NA   NA       \n",
       "12 0    0  0  0  0  0    0    NA   NA       \n",
       "13 0    0  0  0  0  0    0    NA   NA       \n",
       "14 0    0  0  0  0  0    0    NA   NA       \n",
       "15 0    1  0  0  0  0    0    NA   NA       \n",
       "16 0    1  0  0  0  0    0    NA   NA       \n",
       "17 0    0  0  0  0  0    0    NA   NA       \n",
       "18 0    0  0  0  0  0    0    NA   NA       \n",
       "19 0    0  0  0  0  0    0    NA   NA       \n",
       "20 0    1  0  0  0  0    1    NA   NA       \n",
       "21 0    0  0  0  0  0    0    NA   NA       \n",
       "22 0    0  0  0  0  0    0    NA   NA       \n",
       "23 0    0  0  0  0  0    0    NA   NA       \n",
       "24 0    1  0  0  0  0    0    NA   NA       \n",
       "25 0    0  0  0  0  0    0    NA   NA       \n",
       "26 0    1  0  0  0  1    0    NA   NA       \n",
       "27 0    1  0  0  0  0    0    NA   NA       \n",
       "28 0    1  0  0  0  0    0    NA   NA       \n",
       "29 0    0  0  0  0  0    0    NA   NA       \n",
       "30 0    0  0  0  0  0    0    NA   NA       \n",
       "31 0    1  0  0  0  0    0    NA   NA       \n",
       "32 0    0  0  0  0  1    0    NA   NA       \n",
       "33 0    1  0  0  0  0    0    NA   NA       \n",
       "34 0    1  0  0  0  1    0    NA   NA       \n",
       "35 0    1  0  0  0  1    0    NA   NA       \n",
       "36 0    1  0  0  0  0    0    NA   NA       \n",
       "37 0    1  0  0  0  0    0    NA   NA       \n",
       "38 0    0  0  0  0  0    0    NA   NA       \n",
       "39 0    0  0  0  0  0    0    NA   NA       \n",
       "40 0    0  0  0  0  0    0    NA   NA       \n",
       "41 0    0  0  0  0  0    0    NA   NA       \n",
       "42 0    0  0  0  0  0    0    NA   NA       \n",
       "43 0    0  0  0  0  0    0    NA   NA       \n",
       "44 0    0  0  0  0  0    0    NA   NA       \n",
       "45 0    0  0  0  0  0    0    15    1       \n",
       "46 0    0  0  0  0  0    0    15    1       \n",
       "47 0    1  0  0  0  0    0    16    1       \n",
       "48 0    0  0  0  0  0    0    16    1       \n",
       "49 0    1  0  0  0  1    0    16    1       \n",
       "50 0    1  0  0  0  0    0    17    1       "
      ]
     },
     "metadata": {},
     "output_type": "display_data"
    }
   ],
   "source": [
    "wea11rain<- left_join(wea11rain, rain45,by=\"Date\")\n",
    "head(wea11rain,50)"
   ]
  },
  {
   "cell_type": "code",
   "execution_count": 33,
   "metadata": {},
   "outputs": [],
   "source": [
    "write.csv(wea11rain, file=\"C:/Users/Chen/Project/data/wea11rain.csv\", row.names =F)"
   ]
  },
  {
   "cell_type": "markdown",
   "metadata": {},
   "source": [
    "# Hope this will help you :-)"
   ]
  },
  {
   "cell_type": "code",
   "execution_count": null,
   "metadata": {},
   "outputs": [],
   "source": []
  }
 ],
 "metadata": {
  "kernelspec": {
   "display_name": "R",
   "language": "R",
   "name": "ir"
  },
  "language_info": {
   "codemirror_mode": "r",
   "file_extension": ".r",
   "mimetype": "text/x-r-source",
   "name": "R",
   "pygments_lexer": "r",
   "version": "3.5.1"
  }
 },
 "nbformat": 4,
 "nbformat_minor": 2
}
