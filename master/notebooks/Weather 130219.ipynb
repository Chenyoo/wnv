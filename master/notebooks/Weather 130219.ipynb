{
 "cells": [
  {
   "cell_type": "code",
   "execution_count": 39,
   "metadata": {},
   "outputs": [],
   "source": [
    "library(dplyr)\n",
    "library(Hmisc)\n",
    "library(MESS)\n",
    "\n",
    "## change the size of the graphs\n",
    "options(repr.plot.width = 3, repr.plot.height = 3)"
   ]
  },
  {
   "cell_type": "code",
   "execution_count": 2,
   "metadata": {},
   "outputs": [],
   "source": [
    "library(ggplot2)"
   ]
  },
  {
   "cell_type": "code",
   "execution_count": 3,
   "metadata": {},
   "outputs": [
    {
     "name": "stderr",
     "output_type": "stream",
     "text": [
      "Loading required package: reshape2\n"
     ]
    }
   ],
   "source": [
    "require(ggplot2)\n",
    "require(reshape2)"
   ]
  },
  {
   "cell_type": "code",
   "execution_count": 64,
   "metadata": {},
   "outputs": [
    {
     "data": {
      "text/html": [
       "<table>\n",
       "<thead><tr><th scope=col>Station</th><th scope=col>Date</th><th scope=col>Tmax</th><th scope=col>Tmin</th><th scope=col>Tavg</th><th scope=col>Depart</th><th scope=col>DewPoint</th><th scope=col>WetBulb</th><th scope=col>Heat</th><th scope=col>Cool</th><th scope=col>...</th><th scope=col>CodeSum</th><th scope=col>Depth</th><th scope=col>Water1</th><th scope=col>SnowFall</th><th scope=col>PrecipTotal</th><th scope=col>StnPressure</th><th scope=col>SeaLevel</th><th scope=col>ResultSpeed</th><th scope=col>ResultDir</th><th scope=col>AvgSpeed</th></tr></thead>\n",
       "<tbody>\n",
       "\t<tr><td>1         </td><td>2007-05-01</td><td>83        </td><td>50        </td><td>67        </td><td>14        </td><td>51        </td><td>56        </td><td>0         </td><td> 2        </td><td>...       </td><td>          </td><td>0         </td><td>M         </td><td>0.0       </td><td>0.00      </td><td>29.10     </td><td>29.82     </td><td> 1.7      </td><td>27        </td><td>9.2       </td></tr>\n",
       "\t<tr><td>2         </td><td>2007-05-01</td><td>84        </td><td>52        </td><td>68        </td><td>M         </td><td>51        </td><td>57        </td><td>0         </td><td> 3        </td><td>...       </td><td>          </td><td>M         </td><td>M         </td><td>M         </td><td>0.00      </td><td>29.18     </td><td>29.82     </td><td> 2.7      </td><td>25        </td><td>9.6       </td></tr>\n",
       "\t<tr><td>1         </td><td>2007-05-02</td><td>59        </td><td>42        </td><td>51        </td><td>-3        </td><td>42        </td><td>47        </td><td>14        </td><td> 0        </td><td>...       </td><td>BR        </td><td>0         </td><td>M         </td><td>0.0       </td><td>0.00      </td><td>29.38     </td><td>30.09     </td><td>13.0      </td><td> 4        </td><td>13.4      </td></tr>\n",
       "\t<tr><td>2         </td><td>2007-05-02</td><td>60        </td><td>43        </td><td>52        </td><td>M         </td><td>42        </td><td>47        </td><td>13        </td><td> 0        </td><td>...       </td><td>BR HZ     </td><td>M         </td><td>M         </td><td>M         </td><td>0.00      </td><td>29.44     </td><td>30.08     </td><td>13.3      </td><td> 2        </td><td>13.4      </td></tr>\n",
       "\t<tr><td>1         </td><td>2007-05-03</td><td>66        </td><td>46        </td><td>56        </td><td> 2        </td><td>40        </td><td>48        </td><td>9         </td><td> 0        </td><td>...       </td><td>          </td><td>0         </td><td>M         </td><td>0.0       </td><td>0.00      </td><td>29.39     </td><td>30.12     </td><td>11.7      </td><td> 7        </td><td>11.9      </td></tr>\n",
       "\t<tr><td>2         </td><td>2007-05-03</td><td>67        </td><td>48        </td><td>58        </td><td>M         </td><td>40        </td><td>50        </td><td>7         </td><td> 0        </td><td>...       </td><td>HZ        </td><td>M         </td><td>M         </td><td>M         </td><td>0.00      </td><td>29.46     </td><td>30.12     </td><td>12.9      </td><td> 6        </td><td>13.2      </td></tr>\n",
       "</tbody>\n",
       "</table>\n"
      ],
      "text/latex": [
       "\\begin{tabular}{r|llllllllllllllllllllll}\n",
       " Station & Date & Tmax & Tmin & Tavg & Depart & DewPoint & WetBulb & Heat & Cool & ... & CodeSum & Depth & Water1 & SnowFall & PrecipTotal & StnPressure & SeaLevel & ResultSpeed & ResultDir & AvgSpeed\\\\\n",
       "\\hline\n",
       "\t 1          & 2007-05-01 & 83         & 50         & 67         & 14         & 51         & 56         & 0          &  2         & ...        &            & 0          & M          & 0.0        & 0.00       & 29.10      & 29.82      &  1.7       & 27         & 9.2       \\\\\n",
       "\t 2          & 2007-05-01 & 84         & 52         & 68         & M          & 51         & 57         & 0          &  3         & ...        &            & M          & M          & M          & 0.00       & 29.18      & 29.82      &  2.7       & 25         & 9.6       \\\\\n",
       "\t 1          & 2007-05-02 & 59         & 42         & 51         & -3         & 42         & 47         & 14         &  0         & ...        & BR         & 0          & M          & 0.0        & 0.00       & 29.38      & 30.09      & 13.0       &  4         & 13.4      \\\\\n",
       "\t 2          & 2007-05-02 & 60         & 43         & 52         & M          & 42         & 47         & 13         &  0         & ...        & BR HZ      & M          & M          & M          & 0.00       & 29.44      & 30.08      & 13.3       &  2         & 13.4      \\\\\n",
       "\t 1          & 2007-05-03 & 66         & 46         & 56         &  2         & 40         & 48         & 9          &  0         & ...        &            & 0          & M          & 0.0        & 0.00       & 29.39      & 30.12      & 11.7       &  7         & 11.9      \\\\\n",
       "\t 2          & 2007-05-03 & 67         & 48         & 58         & M          & 40         & 50         & 7          &  0         & ...        & HZ         & M          & M          & M          & 0.00       & 29.46      & 30.12      & 12.9       &  6         & 13.2      \\\\\n",
       "\\end{tabular}\n"
      ],
      "text/markdown": [
       "\n",
       "Station | Date | Tmax | Tmin | Tavg | Depart | DewPoint | WetBulb | Heat | Cool | ... | CodeSum | Depth | Water1 | SnowFall | PrecipTotal | StnPressure | SeaLevel | ResultSpeed | ResultDir | AvgSpeed | \n",
       "|---|---|---|---|---|---|\n",
       "| 1          | 2007-05-01 | 83         | 50         | 67         | 14         | 51         | 56         | 0          |  2         | ...        |            | 0          | M          | 0.0        | 0.00       | 29.10      | 29.82      |  1.7       | 27         | 9.2        | \n",
       "| 2          | 2007-05-01 | 84         | 52         | 68         | M          | 51         | 57         | 0          |  3         | ...        |            | M          | M          | M          | 0.00       | 29.18      | 29.82      |  2.7       | 25         | 9.6        | \n",
       "| 1          | 2007-05-02 | 59         | 42         | 51         | -3         | 42         | 47         | 14         |  0         | ...        | BR         | 0          | M          | 0.0        | 0.00       | 29.38      | 30.09      | 13.0       |  4         | 13.4       | \n",
       "| 2          | 2007-05-02 | 60         | 43         | 52         | M          | 42         | 47         | 13         |  0         | ...        | BR HZ      | M          | M          | M          | 0.00       | 29.44      | 30.08      | 13.3       |  2         | 13.4       | \n",
       "| 1          | 2007-05-03 | 66         | 46         | 56         |  2         | 40         | 48         | 9          |  0         | ...        |            | 0          | M          | 0.0        | 0.00       | 29.39      | 30.12      | 11.7       |  7         | 11.9       | \n",
       "| 2          | 2007-05-03 | 67         | 48         | 58         | M          | 40         | 50         | 7          |  0         | ...        | HZ         | M          | M          | M          | 0.00       | 29.46      | 30.12      | 12.9       |  6         | 13.2       | \n",
       "\n",
       "\n"
      ],
      "text/plain": [
       "  Station Date       Tmax Tmin Tavg Depart DewPoint WetBulb Heat Cool ...\n",
       "1 1       2007-05-01 83   50   67   14     51       56      0     2   ...\n",
       "2 2       2007-05-01 84   52   68   M      51       57      0     3   ...\n",
       "3 1       2007-05-02 59   42   51   -3     42       47      14    0   ...\n",
       "4 2       2007-05-02 60   43   52   M      42       47      13    0   ...\n",
       "5 1       2007-05-03 66   46   56    2     40       48      9     0   ...\n",
       "6 2       2007-05-03 67   48   58   M      40       50      7     0   ...\n",
       "  CodeSum Depth Water1 SnowFall PrecipTotal StnPressure SeaLevel ResultSpeed\n",
       "1         0     M      0.0      0.00        29.10       29.82     1.7       \n",
       "2         M     M      M        0.00        29.18       29.82     2.7       \n",
       "3 BR      0     M      0.0      0.00        29.38       30.09    13.0       \n",
       "4 BR HZ   M     M      M        0.00        29.44       30.08    13.3       \n",
       "5         0     M      0.0      0.00        29.39       30.12    11.7       \n",
       "6 HZ      M     M      M        0.00        29.46       30.12    12.9       \n",
       "  ResultDir AvgSpeed\n",
       "1 27        9.2     \n",
       "2 25        9.6     \n",
       "3  4        13.4    \n",
       "4  2        13.4    \n",
       "5  7        11.9    \n",
       "6  6        13.2    "
      ]
     },
     "metadata": {},
     "output_type": "display_data"
    }
   ],
   "source": [
    "weather <- read.csv(file=\"C:/Users/Chen/Project/data/weather.csv\")\n",
    "head(weather)  "
   ]
  },
  {
   "cell_type": "code",
   "execution_count": 65,
   "metadata": {},
   "outputs": [
    {
     "data": {
      "text/plain": [
       "weather \n",
       "\n",
       " 22  Variables      2944  Observations\n",
       "--------------------------------------------------------------------------------\n",
       "Station \n",
       "       n  missing distinct     Info     Mean      Gmd \n",
       "    2944        0        2     0.75      1.5   0.5002 \n",
       "                    \n",
       "Value         1    2\n",
       "Frequency  1472 1472\n",
       "Proportion  0.5  0.5\n",
       "--------------------------------------------------------------------------------\n",
       "Date \n",
       "       n  missing distinct \n",
       "    2944        0     1472 \n",
       "\n",
       "lowest : 2007-05-01 2007-05-02 2007-05-03 2007-05-04 2007-05-05\n",
       "highest: 2014-10-27 2014-10-28 2014-10-29 2014-10-30 2014-10-31\n",
       "--------------------------------------------------------------------------------\n",
       "Tmax \n",
       "       n  missing distinct     Info     Mean      Gmd      .05      .10 \n",
       "    2944        0       63    0.999    76.17    12.89       54       60 \n",
       "     .25      .50      .75      .90      .95 \n",
       "      69       78       85       89       92 \n",
       "\n",
       "lowest :  41  42  44  45  46, highest: 100 101 102 103 104\n",
       "--------------------------------------------------------------------------------\n",
       "Tmin \n",
       "       n  missing distinct     Info     Mean      Gmd      .05      .10 \n",
       "    2944        0       54    0.999    57.81    11.82       40       43 \n",
       "     .25      .50      .75      .90      .95 \n",
       "      50       59       66       71       73 \n",
       "\n",
       "lowest : 29 31 32 33 34, highest: 79 80 81 82 83\n",
       "--------------------------------------------------------------------------------\n",
       "Tavg \n",
       "       n  missing distinct \n",
       "    2944        0       60 \n",
       "\n",
       "lowest : 36 37 38 39 40, highest: 91 92 93 94 M \n",
       "--------------------------------------------------------------------------------\n",
       "Depart \n",
       "       n  missing distinct \n",
       "    2944        0       42 \n",
       "\n",
       "lowest : -1  -10 -11 -12 -13, highest: 20  21  22  23  M  \n",
       "--------------------------------------------------------------------------------\n",
       "DewPoint \n",
       "       n  missing distinct     Info     Mean      Gmd      .05      .10 \n",
       "    2944        0       54    0.999    53.46    12.13       34       38 \n",
       "     .25      .50      .75      .90      .95 \n",
       "      46       54       62       67       69 \n",
       "\n",
       "lowest : 22 23 24 25 26, highest: 71 72 73 74 75\n",
       "--------------------------------------------------------------------------------\n",
       "WetBulb \n",
       "       n  missing distinct \n",
       "    2944        0       48 \n",
       "\n",
       "lowest : 32 33 34 35 36, highest: 75 76 77 78 M \n",
       "--------------------------------------------------------------------------------\n",
       "Heat \n",
       "       n  missing distinct \n",
       "    2944        0       31 \n",
       "\n",
       "lowest : 0  1  10 11 12, highest: 6  7  8  9  M \n",
       "--------------------------------------------------------------------------------\n",
       "Cool \n",
       "       n  missing distinct \n",
       "    2944        0       31 \n",
       "\n",
       "lowest :  0  1  2  3  4, highest: 26 27 28 29 M \n",
       "--------------------------------------------------------------------------------\n",
       "Sunrise \n",
       "       n  missing distinct \n",
       "    2944        0      122 \n",
       "\n",
       "lowest : -    0416 0417 0418 0419, highest: 0618 0619 0620 0622 0623\n",
       "--------------------------------------------------------------------------------\n",
       "Sunset \n",
       "       n  missing distinct \n",
       "    2944        0      119 \n",
       "\n",
       "lowest : -    1647 1649 1650 1651, highest: 1927 1928 1929 1930 1931\n",
       "--------------------------------------------------------------------------------\n",
       "CodeSum \n",
       "       n  missing distinct \n",
       "    2944        0       98 \n",
       "\n",
       "lowest :                      BCFG BR              BR                   BR HZ                BR HZ FU            \n",
       "highest: TSRA RA FG+ FG BR HZ TSRA RA HZ           TSRA RA HZ FU        TSRA RA VCTS         VCTS                \n",
       "--------------------------------------------------------------------------------\n",
       "Depth \n",
       "       n  missing distinct \n",
       "    2944        0        2 \n",
       "                    \n",
       "Value         0    M\n",
       "Frequency  1472 1472\n",
       "Proportion  0.5  0.5\n",
       "--------------------------------------------------------------------------------\n",
       "Water1 \n",
       "       n  missing distinct    value \n",
       "    2944        0        1        M \n",
       "               \n",
       "Value         M\n",
       "Frequency  2944\n",
       "Proportion    1\n",
       "--------------------------------------------------------------------------------\n",
       "SnowFall \n",
       "       n  missing distinct \n",
       "    2944        0        4 \n",
       "                                  \n",
       "Value          T   0.0   0.1     M\n",
       "Frequency     12  1459     1  1472\n",
       "Proportion 0.004 0.496 0.000 0.500\n",
       "--------------------------------------------------------------------------------\n",
       "PrecipTotal \n",
       "       n  missing distinct \n",
       "    2944        0      168 \n",
       "\n",
       "lowest :   T  0.00 0.01 0.02 0.03, highest: 3.97 4.73 6.64 6.86 M   \n",
       "--------------------------------------------------------------------------------\n",
       "StnPressure \n",
       "       n  missing distinct \n",
       "    2944        0      104 \n",
       "\n",
       "lowest : 28.55 28.59 28.63 28.67 28.69, highest: 29.70 29.71 29.79 29.86 M    \n",
       "--------------------------------------------------------------------------------\n",
       "SeaLevel \n",
       "       n  missing distinct \n",
       "    2944        0      102 \n",
       "\n",
       "lowest : 29.23 29.25 29.34 29.43 29.44, highest: 30.40 30.41 30.52 30.53 M    \n",
       "--------------------------------------------------------------------------------\n",
       "ResultSpeed \n",
       "       n  missing distinct     Info     Mean      Gmd      .05      .10 \n",
       "    2944        0      190        1    6.961    3.991      1.9      2.7 \n",
       "     .25      .50      .75      .90      .95 \n",
       "     4.3      6.4      9.2     11.7     13.5 \n",
       "\n",
       "lowest :  0.1  0.2  0.3  0.4  0.5, highest: 21.7 21.8 22.6 22.7 24.1\n",
       "--------------------------------------------------------------------------------\n",
       "ResultDir \n",
       "       n  missing distinct     Info     Mean      Gmd      .05      .10 \n",
       "    2944        0       36    0.999    17.49    11.54        2        3 \n",
       "     .25      .50      .75      .90      .95 \n",
       "       7       19       25       31       34 \n",
       "\n",
       "lowest :  1  2  3  4  5, highest: 32 33 34 35 36\n",
       "--------------------------------------------------------------------------------\n",
       "AvgSpeed \n",
       "       n  missing distinct \n",
       "    2944        0      178 \n",
       "\n",
       "lowest : 1.7  1.9  10.0 10.1 10.2, highest: 9.6  9.7  9.8  9.9  M   \n",
       "--------------------------------------------------------------------------------"
      ]
     },
     "metadata": {},
     "output_type": "display_data"
    }
   ],
   "source": [
    "describe(weather)"
   ]
  },
  {
   "cell_type": "code",
   "execution_count": 66,
   "metadata": {},
   "outputs": [
    {
     "name": "stdout",
     "output_type": "stream",
     "text": [
      "'data.frame':\t2944 obs. of  22 variables:\n",
      " $ Station    : int  1 2 1 2 1 2 1 2 1 2 ...\n",
      " $ Date       : Factor w/ 1472 levels \"2007-05-01\",\"2007-05-02\",..: 1 1 2 2 3 3 4 4 5 5 ...\n",
      " $ Tmax       : int  83 84 59 60 66 67 66 78 66 66 ...\n",
      " $ Tmin       : int  50 52 42 43 46 48 49 51 53 54 ...\n",
      " $ Tavg       : Factor w/ 60 levels \"36\",\"37\",\"38\",..: 32 33 16 17 21 23 23 60 25 25 ...\n",
      " $ Depart     : Factor w/ 42 levels \"-1\",\"-10\",\"-11\",..: 32 42 11 42 20 42 22 42 23 42 ...\n",
      " $ DewPoint   : int  51 51 42 42 40 40 41 42 38 39 ...\n",
      " $ WetBulb    : Factor w/ 48 levels \"32\",\"33\",\"34\",..: 25 26 16 16 17 19 19 19 18 19 ...\n",
      " $ Heat       : Factor w/ 31 levels \"0\",\"1\",\"10\",\"11\",..: 1 1 7 6 30 28 28 31 26 26 ...\n",
      " $ Cool       : Factor w/ 31 levels \" 0\",\" 1\",\" 2\",..: 3 4 1 1 1 1 1 31 1 1 ...\n",
      " $ Sunrise    : Factor w/ 122 levels \"-\",\"0416\",\"0417\",..: 34 1 33 1 32 1 30 1 29 1 ...\n",
      " $ Sunset     : Factor w/ 119 levels \"-\",\"1647\",\"1649\",..: 76 1 77 1 78 1 79 1 80 1 ...\n",
      " $ CodeSum    : Factor w/ 98 levels \" \",\"BCFG BR\",..: 1 1 3 4 1 20 24 1 1 1 ...\n",
      " $ Depth      : Factor w/ 2 levels \"0\",\"M\": 1 2 1 2 1 2 1 2 1 2 ...\n",
      " $ Water1     : Factor w/ 1 level \"M\": 1 1 1 1 1 1 1 1 1 1 ...\n",
      " $ SnowFall   : Factor w/ 4 levels \"  T\",\"0.0\",\"0.1\",..: 2 4 2 4 2 4 2 4 2 4 ...\n",
      " $ PrecipTotal: Factor w/ 168 levels \"  T\",\"0.00\",\"0.01\",..: 2 2 2 2 2 2 1 2 1 1 ...\n",
      " $ StnPressure: Factor w/ 104 levels \"28.55\",\"28.59\",..: 41 49 69 75 70 77 62 67 71 77 ...\n",
      " $ SeaLevel   : Factor w/ 102 levels \"29.23\",\"29.25\",..: 40 40 67 66 70 70 63 62 68 67 ...\n",
      " $ ResultSpeed: num  1.7 2.7 13 13.3 11.7 12.9 10.4 10.1 11.7 11.2 ...\n",
      " $ ResultDir  : int  27 25 4 2 7 6 8 7 7 7 ...\n",
      " $ AvgSpeed   : Factor w/ 178 levels \"1.7\",\"1.9\",\"10.0\",..: 170 174 37 37 22 35 11 7 23 18 ...\n"
     ]
    }
   ],
   "source": [
    "str(weather)"
   ]
  },
  {
   "cell_type": "code",
   "execution_count": 11,
   "metadata": {},
   "outputs": [
    {
     "data": {
      "text/html": [
       "0"
      ],
      "text/latex": [
       "0"
      ],
      "text/markdown": [
       "0"
      ],
      "text/plain": [
       "[1] 0"
      ]
     },
     "metadata": {},
     "output_type": "display_data"
    },
    {
     "data": {
      "text/html": [
       "11"
      ],
      "text/latex": [
       "11"
      ],
      "text/markdown": [
       "11"
      ],
      "text/plain": [
       "[1] 11"
      ]
     },
     "metadata": {},
     "output_type": "display_data"
    }
   ],
   "source": [
    "sum(weather$Tavg == 'T')\n",
    "sum(weather$Tavg == 'M')"
   ]
  },
  {
   "cell_type": "code",
   "execution_count": 17,
   "metadata": {},
   "outputs": [
    {
     "data": {
      "text/html": [
       "0"
      ],
      "text/latex": [
       "0"
      ],
      "text/markdown": [
       "0"
      ],
      "text/plain": [
       "[1] 0"
      ]
     },
     "metadata": {},
     "output_type": "display_data"
    },
    {
     "data": {
      "text/html": [
       "1472"
      ],
      "text/latex": [
       "1472"
      ],
      "text/markdown": [
       "1472"
      ],
      "text/plain": [
       "[1] 1472"
      ]
     },
     "metadata": {},
     "output_type": "display_data"
    }
   ],
   "source": [
    "sum(weather$Depart == 'T')\n",
    "sum(weather$Depart == 'M')"
   ]
  },
  {
   "cell_type": "code",
   "execution_count": 18,
   "metadata": {},
   "outputs": [
    {
     "data": {
      "text/html": [
       "0"
      ],
      "text/latex": [
       "0"
      ],
      "text/markdown": [
       "0"
      ],
      "text/plain": [
       "[1] 0"
      ]
     },
     "metadata": {},
     "output_type": "display_data"
    },
    {
     "data": {
      "text/html": [
       "4"
      ],
      "text/latex": [
       "4"
      ],
      "text/markdown": [
       "4"
      ],
      "text/plain": [
       "[1] 4"
      ]
     },
     "metadata": {},
     "output_type": "display_data"
    }
   ],
   "source": [
    "sum(weather$WetBulb == 'T')\n",
    "sum(weather$WetBulb == 'M')"
   ]
  },
  {
   "cell_type": "code",
   "execution_count": 19,
   "metadata": {},
   "outputs": [
    {
     "data": {
      "text/html": [
       "0"
      ],
      "text/latex": [
       "0"
      ],
      "text/markdown": [
       "0"
      ],
      "text/plain": [
       "[1] 0"
      ]
     },
     "metadata": {},
     "output_type": "display_data"
    },
    {
     "data": {
      "text/html": [
       "11"
      ],
      "text/latex": [
       "11"
      ],
      "text/markdown": [
       "11"
      ],
      "text/plain": [
       "[1] 11"
      ]
     },
     "metadata": {},
     "output_type": "display_data"
    }
   ],
   "source": [
    "sum(weather$Heat == 'T')\n",
    "sum(weather$Heat== 'M')"
   ]
  },
  {
   "cell_type": "code",
   "execution_count": 67,
   "metadata": {},
   "outputs": [],
   "source": [
    "weaWNV<-weather"
   ]
  },
  {
   "cell_type": "code",
   "execution_count": 68,
   "metadata": {},
   "outputs": [
    {
     "data": {
      "text/html": [
       "<table>\n",
       "<thead><tr><th scope=col>Station</th><th scope=col>Date</th><th scope=col>Tmax</th><th scope=col>Tmin</th><th scope=col>Tavg</th><th scope=col>Depart</th><th scope=col>DewPoint</th><th scope=col>WetBulb</th><th scope=col>Heat</th><th scope=col>Cool</th><th scope=col>...</th><th scope=col>CodeSum</th><th scope=col>Depth</th><th scope=col>Water1</th><th scope=col>SnowFall</th><th scope=col>PrecipTotal</th><th scope=col>StnPressure</th><th scope=col>SeaLevel</th><th scope=col>ResultSpeed</th><th scope=col>ResultDir</th><th scope=col>AvgSpeed</th></tr></thead>\n",
       "<tbody>\n",
       "\t<tr><td>1         </td><td>2007-05-01</td><td>83        </td><td>50        </td><td>67        </td><td>14        </td><td>51        </td><td>56        </td><td>0         </td><td> 2        </td><td>...       </td><td>          </td><td>0         </td><td>M         </td><td>0.0       </td><td>0.00      </td><td>29.10     </td><td>29.82     </td><td> 1.7      </td><td>27        </td><td>9.2       </td></tr>\n",
       "\t<tr><td>2         </td><td>2007-05-01</td><td>84        </td><td>52        </td><td>68        </td><td>M         </td><td>51        </td><td>57        </td><td>0         </td><td> 3        </td><td>...       </td><td>          </td><td>M         </td><td>M         </td><td>M         </td><td>0.00      </td><td>29.18     </td><td>29.82     </td><td> 2.7      </td><td>25        </td><td>9.6       </td></tr>\n",
       "\t<tr><td>1         </td><td>2007-05-02</td><td>59        </td><td>42        </td><td>51        </td><td>-3        </td><td>42        </td><td>47        </td><td>14        </td><td> 0        </td><td>...       </td><td>BR        </td><td>0         </td><td>M         </td><td>0.0       </td><td>0.00      </td><td>29.38     </td><td>30.09     </td><td>13.0      </td><td> 4        </td><td>13.4      </td></tr>\n",
       "\t<tr><td>2         </td><td>2007-05-02</td><td>60        </td><td>43        </td><td>52        </td><td>M         </td><td>42        </td><td>47        </td><td>13        </td><td> 0        </td><td>...       </td><td>BR HZ     </td><td>M         </td><td>M         </td><td>M         </td><td>0.00      </td><td>29.44     </td><td>30.08     </td><td>13.3      </td><td> 2        </td><td>13.4      </td></tr>\n",
       "\t<tr><td>1         </td><td>2007-05-03</td><td>66        </td><td>46        </td><td>56        </td><td> 2        </td><td>40        </td><td>48        </td><td>9         </td><td> 0        </td><td>...       </td><td>          </td><td>0         </td><td>M         </td><td>0.0       </td><td>0.00      </td><td>29.39     </td><td>30.12     </td><td>11.7      </td><td> 7        </td><td>11.9      </td></tr>\n",
       "\t<tr><td>2         </td><td>2007-05-03</td><td>67        </td><td>48        </td><td>58        </td><td>M         </td><td>40        </td><td>50        </td><td>7         </td><td> 0        </td><td>...       </td><td>HZ        </td><td>M         </td><td>M         </td><td>M         </td><td>0.00      </td><td>29.46     </td><td>30.12     </td><td>12.9      </td><td> 6        </td><td>13.2      </td></tr>\n",
       "</tbody>\n",
       "</table>\n"
      ],
      "text/latex": [
       "\\begin{tabular}{r|llllllllllllllllllllll}\n",
       " Station & Date & Tmax & Tmin & Tavg & Depart & DewPoint & WetBulb & Heat & Cool & ... & CodeSum & Depth & Water1 & SnowFall & PrecipTotal & StnPressure & SeaLevel & ResultSpeed & ResultDir & AvgSpeed\\\\\n",
       "\\hline\n",
       "\t 1          & 2007-05-01 & 83         & 50         & 67         & 14         & 51         & 56         & 0          &  2         & ...        &            & 0          & M          & 0.0        & 0.00       & 29.10      & 29.82      &  1.7       & 27         & 9.2       \\\\\n",
       "\t 2          & 2007-05-01 & 84         & 52         & 68         & M          & 51         & 57         & 0          &  3         & ...        &            & M          & M          & M          & 0.00       & 29.18      & 29.82      &  2.7       & 25         & 9.6       \\\\\n",
       "\t 1          & 2007-05-02 & 59         & 42         & 51         & -3         & 42         & 47         & 14         &  0         & ...        & BR         & 0          & M          & 0.0        & 0.00       & 29.38      & 30.09      & 13.0       &  4         & 13.4      \\\\\n",
       "\t 2          & 2007-05-02 & 60         & 43         & 52         & M          & 42         & 47         & 13         &  0         & ...        & BR HZ      & M          & M          & M          & 0.00       & 29.44      & 30.08      & 13.3       &  2         & 13.4      \\\\\n",
       "\t 1          & 2007-05-03 & 66         & 46         & 56         &  2         & 40         & 48         & 9          &  0         & ...        &            & 0          & M          & 0.0        & 0.00       & 29.39      & 30.12      & 11.7       &  7         & 11.9      \\\\\n",
       "\t 2          & 2007-05-03 & 67         & 48         & 58         & M          & 40         & 50         & 7          &  0         & ...        & HZ         & M          & M          & M          & 0.00       & 29.46      & 30.12      & 12.9       &  6         & 13.2      \\\\\n",
       "\\end{tabular}\n"
      ],
      "text/markdown": [
       "\n",
       "Station | Date | Tmax | Tmin | Tavg | Depart | DewPoint | WetBulb | Heat | Cool | ... | CodeSum | Depth | Water1 | SnowFall | PrecipTotal | StnPressure | SeaLevel | ResultSpeed | ResultDir | AvgSpeed | \n",
       "|---|---|---|---|---|---|\n",
       "| 1          | 2007-05-01 | 83         | 50         | 67         | 14         | 51         | 56         | 0          |  2         | ...        |            | 0          | M          | 0.0        | 0.00       | 29.10      | 29.82      |  1.7       | 27         | 9.2        | \n",
       "| 2          | 2007-05-01 | 84         | 52         | 68         | M          | 51         | 57         | 0          |  3         | ...        |            | M          | M          | M          | 0.00       | 29.18      | 29.82      |  2.7       | 25         | 9.6        | \n",
       "| 1          | 2007-05-02 | 59         | 42         | 51         | -3         | 42         | 47         | 14         |  0         | ...        | BR         | 0          | M          | 0.0        | 0.00       | 29.38      | 30.09      | 13.0       |  4         | 13.4       | \n",
       "| 2          | 2007-05-02 | 60         | 43         | 52         | M          | 42         | 47         | 13         |  0         | ...        | BR HZ      | M          | M          | M          | 0.00       | 29.44      | 30.08      | 13.3       |  2         | 13.4       | \n",
       "| 1          | 2007-05-03 | 66         | 46         | 56         |  2         | 40         | 48         | 9          |  0         | ...        |            | 0          | M          | 0.0        | 0.00       | 29.39      | 30.12      | 11.7       |  7         | 11.9       | \n",
       "| 2          | 2007-05-03 | 67         | 48         | 58         | M          | 40         | 50         | 7          |  0         | ...        | HZ         | M          | M          | M          | 0.00       | 29.46      | 30.12      | 12.9       |  6         | 13.2       | \n",
       "\n",
       "\n"
      ],
      "text/plain": [
       "  Station Date       Tmax Tmin Tavg Depart DewPoint WetBulb Heat Cool ...\n",
       "1 1       2007-05-01 83   50   67   14     51       56      0     2   ...\n",
       "2 2       2007-05-01 84   52   68   M      51       57      0     3   ...\n",
       "3 1       2007-05-02 59   42   51   -3     42       47      14    0   ...\n",
       "4 2       2007-05-02 60   43   52   M      42       47      13    0   ...\n",
       "5 1       2007-05-03 66   46   56    2     40       48      9     0   ...\n",
       "6 2       2007-05-03 67   48   58   M      40       50      7     0   ...\n",
       "  CodeSum Depth Water1 SnowFall PrecipTotal StnPressure SeaLevel ResultSpeed\n",
       "1         0     M      0.0      0.00        29.10       29.82     1.7       \n",
       "2         M     M      M        0.00        29.18       29.82     2.7       \n",
       "3 BR      0     M      0.0      0.00        29.38       30.09    13.0       \n",
       "4 BR HZ   M     M      M        0.00        29.44       30.08    13.3       \n",
       "5         0     M      0.0      0.00        29.39       30.12    11.7       \n",
       "6 HZ      M     M      M        0.00        29.46       30.12    12.9       \n",
       "  ResultDir AvgSpeed\n",
       "1 27        9.2     \n",
       "2 25        9.6     \n",
       "3  4        13.4    \n",
       "4  2        13.4    \n",
       "5  7        11.9    \n",
       "6  6        13.2    "
      ]
     },
     "metadata": {},
     "output_type": "display_data"
    }
   ],
   "source": [
    "head(weaWNV)"
   ]
  },
  {
   "cell_type": "code",
   "execution_count": 69,
   "metadata": {},
   "outputs": [],
   "source": [
    "weaWNV[weather==\"M\"]<-NA"
   ]
  },
  {
   "cell_type": "code",
   "execution_count": 78,
   "metadata": {},
   "outputs": [
    {
     "data": {
      "text/plain": [
       "weaWNV \n",
       "\n",
       " 22  Variables      2944  Observations\n",
       "--------------------------------------------------------------------------------\n",
       "Station \n",
       "       n  missing distinct     Info     Mean      Gmd \n",
       "    2944        0        2     0.75      1.5   0.5002 \n",
       "                    \n",
       "Value         1    2\n",
       "Frequency  1472 1472\n",
       "Proportion  0.5  0.5\n",
       "--------------------------------------------------------------------------------\n",
       "Date \n",
       "       n  missing distinct \n",
       "    2944        0     1472 \n",
       "\n",
       "lowest : 2007-05-01 2007-05-02 2007-05-03 2007-05-04 2007-05-05\n",
       "highest: 2014-10-27 2014-10-28 2014-10-29 2014-10-30 2014-10-31\n",
       "--------------------------------------------------------------------------------\n",
       "Tmax \n",
       "       n  missing distinct     Info     Mean      Gmd      .05      .10 \n",
       "    2944        0       63    0.999    76.17    12.89       54       60 \n",
       "     .25      .50      .75      .90      .95 \n",
       "      69       78       85       89       92 \n",
       "\n",
       "lowest :  41  42  44  45  46, highest: 100 101 102 103 104\n",
       "--------------------------------------------------------------------------------\n",
       "Tmin \n",
       "       n  missing distinct     Info     Mean      Gmd      .05      .10 \n",
       "    2944        0       54    0.999    57.81    11.82       40       43 \n",
       "     .25      .50      .75      .90      .95 \n",
       "      50       59       66       71       73 \n",
       "\n",
       "lowest : 29 31 32 33 34, highest: 79 80 81 82 83\n",
       "--------------------------------------------------------------------------------\n",
       "Tavg \n",
       "       n  missing distinct \n",
       "    2933       11       59 \n",
       "\n",
       "lowest : 36 37 38 39 40, highest: 90 91 92 93 94\n",
       "--------------------------------------------------------------------------------\n",
       "Depart \n",
       "       n  missing distinct \n",
       "    1472     1472       41 \n",
       "\n",
       "lowest : -1  -10 -11 -12 -13, highest: 19  20  21  22  23 \n",
       "--------------------------------------------------------------------------------\n",
       "DewPoint \n",
       "       n  missing distinct     Info     Mean      Gmd      .05      .10 \n",
       "    2944        0       54    0.999    53.46    12.13       34       38 \n",
       "     .25      .50      .75      .90      .95 \n",
       "      46       54       62       67       69 \n",
       "\n",
       "lowest : 22 23 24 25 26, highest: 71 72 73 74 75\n",
       "--------------------------------------------------------------------------------\n",
       "WetBulb \n",
       "       n  missing distinct \n",
       "    2940        4       47 \n",
       "\n",
       "lowest : 32 33 34 35 36, highest: 74 75 76 77 78\n",
       "--------------------------------------------------------------------------------\n",
       "Heat \n",
       "       n  missing distinct \n",
       "    2933       11       30 \n",
       "\n",
       "lowest : 0  1  10 11 12, highest: 5  6  7  8  9 \n",
       "--------------------------------------------------------------------------------\n",
       "Cool \n",
       "       n  missing distinct \n",
       "    2933       11       30 \n",
       "\n",
       "lowest :  0  1  2  3  4, highest: 25 26 27 28 29\n",
       "--------------------------------------------------------------------------------\n",
       "Sunrise \n",
       "       n  missing distinct \n",
       "    2944        0      122 \n",
       "\n",
       "lowest : -    0416 0417 0418 0419, highest: 0618 0619 0620 0622 0623\n",
       "--------------------------------------------------------------------------------\n",
       "Sunset \n",
       "       n  missing distinct \n",
       "    2944        0      119 \n",
       "\n",
       "lowest : -    1647 1649 1650 1651, highest: 1927 1928 1929 1930 1931\n",
       "--------------------------------------------------------------------------------\n",
       "CodeSum \n",
       "       n  missing distinct \n",
       "    2944        0       98 \n",
       "\n",
       "lowest :                      BCFG BR              BR                   BR HZ                BR HZ FU            \n",
       "highest: TSRA RA FG+ FG BR HZ TSRA RA HZ           TSRA RA HZ FU        TSRA RA VCTS         VCTS                \n",
       "--------------------------------------------------------------------------------\n",
       "Depth \n",
       "       n  missing distinct    value \n",
       "    1472     1472        1        0 \n",
       "               \n",
       "Value         0\n",
       "Frequency  1472\n",
       "Proportion    1\n",
       "--------------------------------------------------------------------------------\n",
       "SnowFall \n",
       "       n  missing distinct \n",
       "    1472     1472        3 \n",
       "                            \n",
       "Value          T   0.0   0.1\n",
       "Frequency     12  1459     1\n",
       "Proportion 0.008 0.991 0.001\n",
       "--------------------------------------------------------------------------------\n",
       "PrecipTotal \n",
       "       n  missing distinct \n",
       "    2942        2      167 \n",
       "\n",
       "lowest :   T  0.00 0.01 0.02 0.03, highest: 3.66 3.97 4.73 6.64 6.86\n",
       "--------------------------------------------------------------------------------\n",
       "StnPressure \n",
       "       n  missing distinct \n",
       "    2940        4      103 \n",
       "\n",
       "lowest : 28.55 28.59 28.63 28.67 28.69, highest: 29.68 29.70 29.71 29.79 29.86\n",
       "--------------------------------------------------------------------------------\n",
       "SeaLevel \n",
       "       n  missing distinct \n",
       "    2935        9      101 \n",
       "\n",
       "lowest : 29.23 29.25 29.34 29.43 29.44, highest: 30.39 30.40 30.41 30.52 30.53\n",
       "--------------------------------------------------------------------------------\n",
       "ResultSpeed \n",
       "       n  missing distinct     Info     Mean      Gmd      .05      .10 \n",
       "    2944        0      190        1    6.961    3.991      1.9      2.7 \n",
       "     .25      .50      .75      .90      .95 \n",
       "     4.3      6.4      9.2     11.7     13.5 \n",
       "\n",
       "lowest :  0.1  0.2  0.3  0.4  0.5, highest: 21.7 21.8 22.6 22.7 24.1\n",
       "--------------------------------------------------------------------------------\n",
       "ResultDir \n",
       "       n  missing distinct     Info     Mean      Gmd      .05      .10 \n",
       "    2944        0       36    0.999    17.49    11.54        2        3 \n",
       "     .25      .50      .75      .90      .95 \n",
       "       7       19       25       31       34 \n",
       "\n",
       "lowest :  1  2  3  4  5, highest: 32 33 34 35 36\n",
       "--------------------------------------------------------------------------------\n",
       "AvgSpeed \n",
       "       n  missing distinct \n",
       "    2941        3      177 \n",
       "\n",
       "lowest : 1.7  1.9  10.0 10.1 10.2, highest: 9.5  9.6  9.7  9.8  9.9 \n",
       "--------------------------------------------------------------------------------\n",
       "\n",
       "Variables with all observations missing:\n",
       "\n",
       "[1] Water1"
      ]
     },
     "metadata": {},
     "output_type": "display_data"
    }
   ],
   "source": [
    "describe(weaWNV)"
   ]
  },
  {
   "cell_type": "code",
   "execution_count": 80,
   "metadata": {},
   "outputs": [
    {
     "data": {
      "text/html": [
       "<table>\n",
       "<thead><tr><th scope=col>Station</th><th scope=col>Date</th><th scope=col>Tmax</th><th scope=col>Tmin</th><th scope=col>Tavg</th><th scope=col>Depart</th><th scope=col>DewPoint</th><th scope=col>WetBulb</th><th scope=col>Heat</th><th scope=col>Cool</th><th scope=col>...</th><th scope=col>CodeSum</th><th scope=col>Depth</th><th scope=col>Water1</th><th scope=col>SnowFall</th><th scope=col>PrecipTotal</th><th scope=col>StnPressure</th><th scope=col>SeaLevel</th><th scope=col>ResultSpeed</th><th scope=col>ResultDir</th><th scope=col>AvgSpeed</th></tr></thead>\n",
       "<tbody>\n",
       "\t<tr><td>1         </td><td>2007-05-01</td><td>83        </td><td>50        </td><td>67        </td><td>14        </td><td>51        </td><td>56        </td><td>0         </td><td> 2        </td><td>...       </td><td>          </td><td>0         </td><td>NA        </td><td>0.0       </td><td>0.00      </td><td>29.10     </td><td>29.82     </td><td> 1.7      </td><td>27        </td><td>9.2       </td></tr>\n",
       "\t<tr><td>2         </td><td>2007-05-01</td><td>84        </td><td>52        </td><td>68        </td><td>NA        </td><td>51        </td><td>57        </td><td>0         </td><td> 3        </td><td>...       </td><td>          </td><td>NA        </td><td>NA        </td><td>NA        </td><td>0.00      </td><td>29.18     </td><td>29.82     </td><td> 2.7      </td><td>25        </td><td>9.6       </td></tr>\n",
       "\t<tr><td>1         </td><td>2007-05-02</td><td>59        </td><td>42        </td><td>51        </td><td>-3        </td><td>42        </td><td>47        </td><td>14        </td><td> 0        </td><td>...       </td><td>BR        </td><td>0         </td><td>NA        </td><td>0.0       </td><td>0.00      </td><td>29.38     </td><td>30.09     </td><td>13.0      </td><td> 4        </td><td>13.4      </td></tr>\n",
       "\t<tr><td>2         </td><td>2007-05-02</td><td>60        </td><td>43        </td><td>52        </td><td>NA        </td><td>42        </td><td>47        </td><td>13        </td><td> 0        </td><td>...       </td><td>BR HZ     </td><td>NA        </td><td>NA        </td><td>NA        </td><td>0.00      </td><td>29.44     </td><td>30.08     </td><td>13.3      </td><td> 2        </td><td>13.4      </td></tr>\n",
       "\t<tr><td>1         </td><td>2007-05-03</td><td>66        </td><td>46        </td><td>56        </td><td> 2        </td><td>40        </td><td>48        </td><td>9         </td><td> 0        </td><td>...       </td><td>          </td><td>0         </td><td>NA        </td><td>0.0       </td><td>0.00      </td><td>29.39     </td><td>30.12     </td><td>11.7      </td><td> 7        </td><td>11.9      </td></tr>\n",
       "\t<tr><td>2         </td><td>2007-05-03</td><td>67        </td><td>48        </td><td>58        </td><td>NA        </td><td>40        </td><td>50        </td><td>7         </td><td> 0        </td><td>...       </td><td>HZ        </td><td>NA        </td><td>NA        </td><td>NA        </td><td>0.00      </td><td>29.46     </td><td>30.12     </td><td>12.9      </td><td> 6        </td><td>13.2      </td></tr>\n",
       "\t<tr><td>1         </td><td>2007-05-04</td><td>66        </td><td>49        </td><td>58        </td><td> 4        </td><td>41        </td><td>50        </td><td>7         </td><td> 0        </td><td>...       </td><td>RA        </td><td>0         </td><td>NA        </td><td>0.0       </td><td>  0       </td><td>29.31     </td><td>30.05     </td><td>10.4      </td><td> 8        </td><td>10.8      </td></tr>\n",
       "\t<tr><td>2         </td><td>2007-05-04</td><td>78        </td><td>51        </td><td>NA        </td><td>NA        </td><td>42        </td><td>50        </td><td>NA        </td><td>NA        </td><td>...       </td><td>          </td><td>NA        </td><td>NA        </td><td>NA        </td><td>0.00      </td><td>29.36     </td><td>30.04     </td><td>10.1      </td><td> 7        </td><td>10.4      </td></tr>\n",
       "\t<tr><td>1         </td><td>2007-05-05</td><td>66        </td><td>53        </td><td>60        </td><td> 5        </td><td>38        </td><td>49        </td><td>5         </td><td> 0        </td><td>...       </td><td>          </td><td>0         </td><td>NA        </td><td>0.0       </td><td>  0       </td><td>29.40     </td><td>30.10     </td><td>11.7      </td><td> 7        </td><td>12.0      </td></tr>\n",
       "\t<tr><td>2         </td><td>2007-05-05</td><td>66        </td><td>54        </td><td>60        </td><td>NA        </td><td>39        </td><td>50        </td><td>5         </td><td> 0        </td><td>...       </td><td>          </td><td>NA        </td><td>NA        </td><td>NA        </td><td>  0       </td><td>29.46     </td><td>30.09     </td><td>11.2      </td><td> 7        </td><td>11.5      </td></tr>\n",
       "</tbody>\n",
       "</table>\n"
      ],
      "text/latex": [
       "\\begin{tabular}{r|llllllllllllllllllllll}\n",
       " Station & Date & Tmax & Tmin & Tavg & Depart & DewPoint & WetBulb & Heat & Cool & ... & CodeSum & Depth & Water1 & SnowFall & PrecipTotal & StnPressure & SeaLevel & ResultSpeed & ResultDir & AvgSpeed\\\\\n",
       "\\hline\n",
       "\t 1          & 2007-05-01 & 83         & 50         & 67         & 14         & 51         & 56         & 0          &  2         & ...        &            & 0          & NA         & 0.0        & 0.00       & 29.10      & 29.82      &  1.7       & 27         & 9.2       \\\\\n",
       "\t 2          & 2007-05-01 & 84         & 52         & 68         & NA         & 51         & 57         & 0          &  3         & ...        &            & NA         & NA         & NA         & 0.00       & 29.18      & 29.82      &  2.7       & 25         & 9.6       \\\\\n",
       "\t 1          & 2007-05-02 & 59         & 42         & 51         & -3         & 42         & 47         & 14         &  0         & ...        & BR         & 0          & NA         & 0.0        & 0.00       & 29.38      & 30.09      & 13.0       &  4         & 13.4      \\\\\n",
       "\t 2          & 2007-05-02 & 60         & 43         & 52         & NA         & 42         & 47         & 13         &  0         & ...        & BR HZ      & NA         & NA         & NA         & 0.00       & 29.44      & 30.08      & 13.3       &  2         & 13.4      \\\\\n",
       "\t 1          & 2007-05-03 & 66         & 46         & 56         &  2         & 40         & 48         & 9          &  0         & ...        &            & 0          & NA         & 0.0        & 0.00       & 29.39      & 30.12      & 11.7       &  7         & 11.9      \\\\\n",
       "\t 2          & 2007-05-03 & 67         & 48         & 58         & NA         & 40         & 50         & 7          &  0         & ...        & HZ         & NA         & NA         & NA         & 0.00       & 29.46      & 30.12      & 12.9       &  6         & 13.2      \\\\\n",
       "\t 1          & 2007-05-04 & 66         & 49         & 58         &  4         & 41         & 50         & 7          &  0         & ...        & RA         & 0          & NA         & 0.0        &   0        & 29.31      & 30.05      & 10.4       &  8         & 10.8      \\\\\n",
       "\t 2          & 2007-05-04 & 78         & 51         & NA         & NA         & 42         & 50         & NA         & NA         & ...        &            & NA         & NA         & NA         & 0.00       & 29.36      & 30.04      & 10.1       &  7         & 10.4      \\\\\n",
       "\t 1          & 2007-05-05 & 66         & 53         & 60         &  5         & 38         & 49         & 5          &  0         & ...        &            & 0          & NA         & 0.0        &   0        & 29.40      & 30.10      & 11.7       &  7         & 12.0      \\\\\n",
       "\t 2          & 2007-05-05 & 66         & 54         & 60         & NA         & 39         & 50         & 5          &  0         & ...        &            & NA         & NA         & NA         &   0        & 29.46      & 30.09      & 11.2       &  7         & 11.5      \\\\\n",
       "\\end{tabular}\n"
      ],
      "text/markdown": [
       "\n",
       "Station | Date | Tmax | Tmin | Tavg | Depart | DewPoint | WetBulb | Heat | Cool | ... | CodeSum | Depth | Water1 | SnowFall | PrecipTotal | StnPressure | SeaLevel | ResultSpeed | ResultDir | AvgSpeed | \n",
       "|---|---|---|---|---|---|---|---|---|---|\n",
       "| 1          | 2007-05-01 | 83         | 50         | 67         | 14         | 51         | 56         | 0          |  2         | ...        |            | 0          | NA         | 0.0        | 0.00       | 29.10      | 29.82      |  1.7       | 27         | 9.2        | \n",
       "| 2          | 2007-05-01 | 84         | 52         | 68         | NA         | 51         | 57         | 0          |  3         | ...        |            | NA         | NA         | NA         | 0.00       | 29.18      | 29.82      |  2.7       | 25         | 9.6        | \n",
       "| 1          | 2007-05-02 | 59         | 42         | 51         | -3         | 42         | 47         | 14         |  0         | ...        | BR         | 0          | NA         | 0.0        | 0.00       | 29.38      | 30.09      | 13.0       |  4         | 13.4       | \n",
       "| 2          | 2007-05-02 | 60         | 43         | 52         | NA         | 42         | 47         | 13         |  0         | ...        | BR HZ      | NA         | NA         | NA         | 0.00       | 29.44      | 30.08      | 13.3       |  2         | 13.4       | \n",
       "| 1          | 2007-05-03 | 66         | 46         | 56         |  2         | 40         | 48         | 9          |  0         | ...        |            | 0          | NA         | 0.0        | 0.00       | 29.39      | 30.12      | 11.7       |  7         | 11.9       | \n",
       "| 2          | 2007-05-03 | 67         | 48         | 58         | NA         | 40         | 50         | 7          |  0         | ...        | HZ         | NA         | NA         | NA         | 0.00       | 29.46      | 30.12      | 12.9       |  6         | 13.2       | \n",
       "| 1          | 2007-05-04 | 66         | 49         | 58         |  4         | 41         | 50         | 7          |  0         | ...        | RA         | 0          | NA         | 0.0        |   0        | 29.31      | 30.05      | 10.4       |  8         | 10.8       | \n",
       "| 2          | 2007-05-04 | 78         | 51         | NA         | NA         | 42         | 50         | NA         | NA         | ...        |            | NA         | NA         | NA         | 0.00       | 29.36      | 30.04      | 10.1       |  7         | 10.4       | \n",
       "| 1          | 2007-05-05 | 66         | 53         | 60         |  5         | 38         | 49         | 5          |  0         | ...        |            | 0          | NA         | 0.0        |   0        | 29.40      | 30.10      | 11.7       |  7         | 12.0       | \n",
       "| 2          | 2007-05-05 | 66         | 54         | 60         | NA         | 39         | 50         | 5          |  0         | ...        |            | NA         | NA         | NA         |   0        | 29.46      | 30.09      | 11.2       |  7         | 11.5       | \n",
       "\n",
       "\n"
      ],
      "text/plain": [
       "   Station Date       Tmax Tmin Tavg Depart DewPoint WetBulb Heat Cool ...\n",
       "1  1       2007-05-01 83   50   67   14     51       56      0     2   ...\n",
       "2  2       2007-05-01 84   52   68   NA     51       57      0     3   ...\n",
       "3  1       2007-05-02 59   42   51   -3     42       47      14    0   ...\n",
       "4  2       2007-05-02 60   43   52   NA     42       47      13    0   ...\n",
       "5  1       2007-05-03 66   46   56    2     40       48      9     0   ...\n",
       "6  2       2007-05-03 67   48   58   NA     40       50      7     0   ...\n",
       "7  1       2007-05-04 66   49   58    4     41       50      7     0   ...\n",
       "8  2       2007-05-04 78   51   NA   NA     42       50      NA   NA   ...\n",
       "9  1       2007-05-05 66   53   60    5     38       49      5     0   ...\n",
       "10 2       2007-05-05 66   54   60   NA     39       50      5     0   ...\n",
       "   CodeSum Depth Water1 SnowFall PrecipTotal StnPressure SeaLevel ResultSpeed\n",
       "1          0     NA     0.0      0.00        29.10       29.82     1.7       \n",
       "2          NA    NA     NA       0.00        29.18       29.82     2.7       \n",
       "3  BR      0     NA     0.0      0.00        29.38       30.09    13.0       \n",
       "4  BR HZ   NA    NA     NA       0.00        29.44       30.08    13.3       \n",
       "5          0     NA     0.0      0.00        29.39       30.12    11.7       \n",
       "6  HZ      NA    NA     NA       0.00        29.46       30.12    12.9       \n",
       "7  RA      0     NA     0.0        0         29.31       30.05    10.4       \n",
       "8          NA    NA     NA       0.00        29.36       30.04    10.1       \n",
       "9          0     NA     0.0        0         29.40       30.10    11.7       \n",
       "10         NA    NA     NA         0         29.46       30.09    11.2       \n",
       "   ResultDir AvgSpeed\n",
       "1  27        9.2     \n",
       "2  25        9.6     \n",
       "3   4        13.4    \n",
       "4   2        13.4    \n",
       "5   7        11.9    \n",
       "6   6        13.2    \n",
       "7   8        10.8    \n",
       "8   7        10.4    \n",
       "9   7        12.0    \n",
       "10  7        11.5    "
      ]
     },
     "metadata": {},
     "output_type": "display_data"
    }
   ],
   "source": [
    "weaWNV[17] <- lapply(weaWNV[17], chartr, old = \"T\", new = \"0.001\") # PrecipTotal\n",
    "weaWNV$SnowFall\n",
    "head(weaWNV, 10)"
   ]
  },
  {
   "cell_type": "code",
   "execution_count": 82,
   "metadata": {},
   "outputs": [
    {
     "data": {
      "text/html": [
       "<table>\n",
       "<thead><tr><th scope=col>Station</th><th scope=col>Date</th><th scope=col>Tmax</th><th scope=col>Tmin</th><th scope=col>Tavg</th><th scope=col>Depart</th><th scope=col>DewPoint</th><th scope=col>WetBulb</th><th scope=col>Heat</th><th scope=col>Cool</th><th scope=col>...</th><th scope=col>CodeSum</th><th scope=col>Depth</th><th scope=col>Water1</th><th scope=col>SnowFall</th><th scope=col>PrecipTotal</th><th scope=col>StnPressure</th><th scope=col>SeaLevel</th><th scope=col>ResultSpeed</th><th scope=col>ResultDir</th><th scope=col>AvgSpeed</th></tr></thead>\n",
       "<tbody>\n",
       "\t<tr><td>1         </td><td>2007-05-01</td><td>83        </td><td>50        </td><td>67        </td><td>14        </td><td>51        </td><td>56        </td><td>0         </td><td> 2        </td><td>...       </td><td>          </td><td>0         </td><td>NA        </td><td>0.0       </td><td>0.00      </td><td>29.10     </td><td>29.82     </td><td> 1.7      </td><td>27        </td><td>9.2       </td></tr>\n",
       "\t<tr><td>2         </td><td>2007-05-01</td><td>84        </td><td>52        </td><td>68        </td><td>NA        </td><td>51        </td><td>57        </td><td>0         </td><td> 3        </td><td>...       </td><td>          </td><td>NA        </td><td>NA        </td><td>NA        </td><td>0.00      </td><td>29.18     </td><td>29.82     </td><td> 2.7      </td><td>25        </td><td>9.6       </td></tr>\n",
       "\t<tr><td>1         </td><td>2007-05-02</td><td>59        </td><td>42        </td><td>51        </td><td>-3        </td><td>42        </td><td>47        </td><td>14        </td><td> 0        </td><td>...       </td><td>BR        </td><td>0         </td><td>NA        </td><td>0.0       </td><td>0.00      </td><td>29.38     </td><td>30.09     </td><td>13.0      </td><td> 4        </td><td>13.4      </td></tr>\n",
       "\t<tr><td>2         </td><td>2007-05-02</td><td>60        </td><td>43        </td><td>52        </td><td>NA        </td><td>42        </td><td>47        </td><td>13        </td><td> 0        </td><td>...       </td><td>BR HZ     </td><td>NA        </td><td>NA        </td><td>NA        </td><td>0.00      </td><td>29.44     </td><td>30.08     </td><td>13.3      </td><td> 2        </td><td>13.4      </td></tr>\n",
       "\t<tr><td>1         </td><td>2007-05-03</td><td>66        </td><td>46        </td><td>56        </td><td> 2        </td><td>40        </td><td>48        </td><td>9         </td><td> 0        </td><td>...       </td><td>          </td><td>0         </td><td>NA        </td><td>0.0       </td><td>0.00      </td><td>29.39     </td><td>30.12     </td><td>11.7      </td><td> 7        </td><td>11.9      </td></tr>\n",
       "\t<tr><td>2         </td><td>2007-05-03</td><td>67        </td><td>48        </td><td>58        </td><td>NA        </td><td>40        </td><td>50        </td><td>7         </td><td> 0        </td><td>...       </td><td>HZ        </td><td>NA        </td><td>NA        </td><td>NA        </td><td>0.00      </td><td>29.46     </td><td>30.12     </td><td>12.9      </td><td> 6        </td><td>13.2      </td></tr>\n",
       "\t<tr><td>1         </td><td>2007-05-04</td><td>66        </td><td>49        </td><td>58        </td><td> 4        </td><td>41        </td><td>50        </td><td>7         </td><td> 0        </td><td>...       </td><td>RA        </td><td>0         </td><td>NA        </td><td>0.0       </td><td>  0       </td><td>29.31     </td><td>30.05     </td><td>10.4      </td><td> 8        </td><td>10.8      </td></tr>\n",
       "\t<tr><td>2         </td><td>2007-05-04</td><td>78        </td><td>51        </td><td>NA        </td><td>NA        </td><td>42        </td><td>50        </td><td>NA        </td><td>NA        </td><td>...       </td><td>          </td><td>NA        </td><td>NA        </td><td>NA        </td><td>0.00      </td><td>29.36     </td><td>30.04     </td><td>10.1      </td><td> 7        </td><td>10.4      </td></tr>\n",
       "\t<tr><td>1         </td><td>2007-05-05</td><td>66        </td><td>53        </td><td>60        </td><td> 5        </td><td>38        </td><td>49        </td><td>5         </td><td> 0        </td><td>...       </td><td>          </td><td>0         </td><td>NA        </td><td>0.0       </td><td>  0       </td><td>29.40     </td><td>30.10     </td><td>11.7      </td><td> 7        </td><td>12.0      </td></tr>\n",
       "\t<tr><td>2         </td><td>2007-05-05</td><td>66        </td><td>54        </td><td>60        </td><td>NA        </td><td>39        </td><td>50        </td><td>5         </td><td> 0        </td><td>...       </td><td>          </td><td>NA        </td><td>NA        </td><td>NA        </td><td>  0       </td><td>29.46     </td><td>30.09     </td><td>11.2      </td><td> 7        </td><td>11.5      </td></tr>\n",
       "</tbody>\n",
       "</table>\n"
      ],
      "text/latex": [
       "\\begin{tabular}{r|llllllllllllllllllllll}\n",
       " Station & Date & Tmax & Tmin & Tavg & Depart & DewPoint & WetBulb & Heat & Cool & ... & CodeSum & Depth & Water1 & SnowFall & PrecipTotal & StnPressure & SeaLevel & ResultSpeed & ResultDir & AvgSpeed\\\\\n",
       "\\hline\n",
       "\t 1          & 2007-05-01 & 83         & 50         & 67         & 14         & 51         & 56         & 0          &  2         & ...        &            & 0          & NA         & 0.0        & 0.00       & 29.10      & 29.82      &  1.7       & 27         & 9.2       \\\\\n",
       "\t 2          & 2007-05-01 & 84         & 52         & 68         & NA         & 51         & 57         & 0          &  3         & ...        &            & NA         & NA         & NA         & 0.00       & 29.18      & 29.82      &  2.7       & 25         & 9.6       \\\\\n",
       "\t 1          & 2007-05-02 & 59         & 42         & 51         & -3         & 42         & 47         & 14         &  0         & ...        & BR         & 0          & NA         & 0.0        & 0.00       & 29.38      & 30.09      & 13.0       &  4         & 13.4      \\\\\n",
       "\t 2          & 2007-05-02 & 60         & 43         & 52         & NA         & 42         & 47         & 13         &  0         & ...        & BR HZ      & NA         & NA         & NA         & 0.00       & 29.44      & 30.08      & 13.3       &  2         & 13.4      \\\\\n",
       "\t 1          & 2007-05-03 & 66         & 46         & 56         &  2         & 40         & 48         & 9          &  0         & ...        &            & 0          & NA         & 0.0        & 0.00       & 29.39      & 30.12      & 11.7       &  7         & 11.9      \\\\\n",
       "\t 2          & 2007-05-03 & 67         & 48         & 58         & NA         & 40         & 50         & 7          &  0         & ...        & HZ         & NA         & NA         & NA         & 0.00       & 29.46      & 30.12      & 12.9       &  6         & 13.2      \\\\\n",
       "\t 1          & 2007-05-04 & 66         & 49         & 58         &  4         & 41         & 50         & 7          &  0         & ...        & RA         & 0          & NA         & 0.0        &   0        & 29.31      & 30.05      & 10.4       &  8         & 10.8      \\\\\n",
       "\t 2          & 2007-05-04 & 78         & 51         & NA         & NA         & 42         & 50         & NA         & NA         & ...        &            & NA         & NA         & NA         & 0.00       & 29.36      & 30.04      & 10.1       &  7         & 10.4      \\\\\n",
       "\t 1          & 2007-05-05 & 66         & 53         & 60         &  5         & 38         & 49         & 5          &  0         & ...        &            & 0          & NA         & 0.0        &   0        & 29.40      & 30.10      & 11.7       &  7         & 12.0      \\\\\n",
       "\t 2          & 2007-05-05 & 66         & 54         & 60         & NA         & 39         & 50         & 5          &  0         & ...        &            & NA         & NA         & NA         &   0        & 29.46      & 30.09      & 11.2       &  7         & 11.5      \\\\\n",
       "\\end{tabular}\n"
      ],
      "text/markdown": [
       "\n",
       "Station | Date | Tmax | Tmin | Tavg | Depart | DewPoint | WetBulb | Heat | Cool | ... | CodeSum | Depth | Water1 | SnowFall | PrecipTotal | StnPressure | SeaLevel | ResultSpeed | ResultDir | AvgSpeed | \n",
       "|---|---|---|---|---|---|---|---|---|---|\n",
       "| 1          | 2007-05-01 | 83         | 50         | 67         | 14         | 51         | 56         | 0          |  2         | ...        |            | 0          | NA         | 0.0        | 0.00       | 29.10      | 29.82      |  1.7       | 27         | 9.2        | \n",
       "| 2          | 2007-05-01 | 84         | 52         | 68         | NA         | 51         | 57         | 0          |  3         | ...        |            | NA         | NA         | NA         | 0.00       | 29.18      | 29.82      |  2.7       | 25         | 9.6        | \n",
       "| 1          | 2007-05-02 | 59         | 42         | 51         | -3         | 42         | 47         | 14         |  0         | ...        | BR         | 0          | NA         | 0.0        | 0.00       | 29.38      | 30.09      | 13.0       |  4         | 13.4       | \n",
       "| 2          | 2007-05-02 | 60         | 43         | 52         | NA         | 42         | 47         | 13         |  0         | ...        | BR HZ      | NA         | NA         | NA         | 0.00       | 29.44      | 30.08      | 13.3       |  2         | 13.4       | \n",
       "| 1          | 2007-05-03 | 66         | 46         | 56         |  2         | 40         | 48         | 9          |  0         | ...        |            | 0          | NA         | 0.0        | 0.00       | 29.39      | 30.12      | 11.7       |  7         | 11.9       | \n",
       "| 2          | 2007-05-03 | 67         | 48         | 58         | NA         | 40         | 50         | 7          |  0         | ...        | HZ         | NA         | NA         | NA         | 0.00       | 29.46      | 30.12      | 12.9       |  6         | 13.2       | \n",
       "| 1          | 2007-05-04 | 66         | 49         | 58         |  4         | 41         | 50         | 7          |  0         | ...        | RA         | 0          | NA         | 0.0        |   0        | 29.31      | 30.05      | 10.4       |  8         | 10.8       | \n",
       "| 2          | 2007-05-04 | 78         | 51         | NA         | NA         | 42         | 50         | NA         | NA         | ...        |            | NA         | NA         | NA         | 0.00       | 29.36      | 30.04      | 10.1       |  7         | 10.4       | \n",
       "| 1          | 2007-05-05 | 66         | 53         | 60         |  5         | 38         | 49         | 5          |  0         | ...        |            | 0          | NA         | 0.0        |   0        | 29.40      | 30.10      | 11.7       |  7         | 12.0       | \n",
       "| 2          | 2007-05-05 | 66         | 54         | 60         | NA         | 39         | 50         | 5          |  0         | ...        |            | NA         | NA         | NA         |   0        | 29.46      | 30.09      | 11.2       |  7         | 11.5       | \n",
       "\n",
       "\n"
      ],
      "text/plain": [
       "   Station Date       Tmax Tmin Tavg Depart DewPoint WetBulb Heat Cool ...\n",
       "1  1       2007-05-01 83   50   67   14     51       56      0     2   ...\n",
       "2  2       2007-05-01 84   52   68   NA     51       57      0     3   ...\n",
       "3  1       2007-05-02 59   42   51   -3     42       47      14    0   ...\n",
       "4  2       2007-05-02 60   43   52   NA     42       47      13    0   ...\n",
       "5  1       2007-05-03 66   46   56    2     40       48      9     0   ...\n",
       "6  2       2007-05-03 67   48   58   NA     40       50      7     0   ...\n",
       "7  1       2007-05-04 66   49   58    4     41       50      7     0   ...\n",
       "8  2       2007-05-04 78   51   NA   NA     42       50      NA   NA   ...\n",
       "9  1       2007-05-05 66   53   60    5     38       49      5     0   ...\n",
       "10 2       2007-05-05 66   54   60   NA     39       50      5     0   ...\n",
       "   CodeSum Depth Water1 SnowFall PrecipTotal StnPressure SeaLevel ResultSpeed\n",
       "1          0     NA     0.0      0.00        29.10       29.82     1.7       \n",
       "2          NA    NA     NA       0.00        29.18       29.82     2.7       \n",
       "3  BR      0     NA     0.0      0.00        29.38       30.09    13.0       \n",
       "4  BR HZ   NA    NA     NA       0.00        29.44       30.08    13.3       \n",
       "5          0     NA     0.0      0.00        29.39       30.12    11.7       \n",
       "6  HZ      NA    NA     NA       0.00        29.46       30.12    12.9       \n",
       "7  RA      0     NA     0.0        0         29.31       30.05    10.4       \n",
       "8          NA    NA     NA       0.00        29.36       30.04    10.1       \n",
       "9          0     NA     0.0        0         29.40       30.10    11.7       \n",
       "10         NA    NA     NA         0         29.46       30.09    11.2       \n",
       "   ResultDir AvgSpeed\n",
       "1  27        9.2     \n",
       "2  25        9.6     \n",
       "3   4        13.4    \n",
       "4   2        13.4    \n",
       "5   7        11.9    \n",
       "6   6        13.2    \n",
       "7   8        10.8    \n",
       "8   7        10.4    \n",
       "9   7        12.0    \n",
       "10  7        11.5    "
      ]
     },
     "metadata": {},
     "output_type": "display_data"
    }
   ],
   "source": [
    "weaWNV[16] <- lapply(weaWNV[16], chartr, old = \"T\", new = \"0.001\") # SnowFall\n",
    "\n",
    "head(weaWNV, 10)"
   ]
  },
  {
   "cell_type": "code",
   "execution_count": null,
   "metadata": {},
   "outputs": [],
   "source": []
  },
  {
   "cell_type": "code",
   "execution_count": 93,
   "metadata": {},
   "outputs": [
    {
     "data": {
      "text/plain": [
       "weaWNV \n",
       "\n",
       " 20  Variables      2944  Observations\n",
       "--------------------------------------------------------------------------------\n",
       "Station \n",
       "       n  missing distinct \n",
       "    2944        0        2 \n",
       "                    \n",
       "Value         1    2\n",
       "Frequency  1472 1472\n",
       "Proportion  0.5  0.5\n",
       "--------------------------------------------------------------------------------\n",
       "Date \n",
       "       n  missing distinct \n",
       "    2944        0     1472 \n",
       "\n",
       "lowest : 2007-05-01 2007-05-02 2007-05-03 2007-05-04 2007-05-05\n",
       "highest: 2014-10-27 2014-10-28 2014-10-29 2014-10-30 2014-10-31\n",
       "--------------------------------------------------------------------------------\n",
       "Tmax \n",
       "       n  missing distinct     Info     Mean      Gmd      .05      .10 \n",
       "    2944        0       63    0.999    76.17    12.89       54       60 \n",
       "     .25      .50      .75      .90      .95 \n",
       "      69       78       85       89       92 \n",
       "\n",
       "lowest :  41  42  44  45  46, highest: 100 101 102 103 104\n",
       "--------------------------------------------------------------------------------\n",
       "Tmin \n",
       "       n  missing distinct     Info     Mean      Gmd      .05      .10 \n",
       "    2944        0       54    0.999    57.81    11.82       40       43 \n",
       "     .25      .50      .75      .90      .95 \n",
       "      50       59       66       71       73 \n",
       "\n",
       "lowest : 29 31 32 33 34, highest: 79 80 81 82 83\n",
       "--------------------------------------------------------------------------------\n",
       "Tavg \n",
       "       n  missing distinct     Info     Mean      Gmd      .05      .10 \n",
       "    2933       11       59    0.999    32.24    11.92       13       17 \n",
       "     .25      .50      .75      .90      .95 \n",
       "      25       34       40       45       47 \n",
       "\n",
       "lowest :  1  2  3  4  5, highest: 55 56 57 58 59\n",
       "--------------------------------------------------------------------------------\n",
       "Depart \n",
       "       n  missing distinct     Info     Mean      Gmd      .05      .10 \n",
       "    1472     1472       41    0.998    18.82    9.422        1       10 \n",
       "     .25      .50      .75      .90      .95 \n",
       "      13       20       25       29       32 \n",
       "\n",
       "lowest :  1  2  3  4  5, highest: 37 38 39 40 41\n",
       "--------------------------------------------------------------------------------\n",
       "DewPoint \n",
       "       n  missing distinct     Info     Mean      Gmd      .05      .10 \n",
       "    2944        0       54    0.999    53.46    12.13       34       38 \n",
       "     .25      .50      .75      .90      .95 \n",
       "      46       54       62       67       69 \n",
       "\n",
       "lowest : 22 23 24 25 26, highest: 71 72 73 74 75\n",
       "--------------------------------------------------------------------------------\n",
       "WetBulb \n",
       "       n  missing distinct     Info     Mean      Gmd      .05      .10 \n",
       "    2940        4       47    0.999    28.31    10.53       11       15 \n",
       "     .25      .50      .75      .90      .95 \n",
       "      22       30       36       40       41 \n",
       "\n",
       "lowest :  1  2  3  4  5, highest: 43 44 45 46 47\n",
       "--------------------------------------------------------------------------------\n",
       "Heat \n",
       "       n  missing distinct     Info     Mean      Gmd      .05      .10 \n",
       "    2933       11       30    0.741    6.301    8.232        1        1 \n",
       "     .25      .50      .75      .90      .95 \n",
       "       1        1        8       25       28 \n",
       "\n",
       "lowest :  1  2  3  4  5, highest: 26 27 28 29 30\n",
       "--------------------------------------------------------------------------------\n",
       "Cool \n",
       "       n  missing distinct     Info     Mean      Gmd      .05      .10 \n",
       "    2933       11       30    0.939    6.647    6.626        1        1 \n",
       "     .25      .50      .75      .90      .95 \n",
       "       1        5       11       16       18 \n",
       "\n",
       "lowest :  1  2  3  4  5, highest: 26 27 28 29 30\n",
       "--------------------------------------------------------------------------------\n",
       "Sunrise \n",
       "       n  missing distinct \n",
       "    2944        0      122 \n",
       "\n",
       "lowest : -    0416 0417 0418 0419, highest: 0618 0619 0620 0622 0623\n",
       "--------------------------------------------------------------------------------\n",
       "Sunset \n",
       "       n  missing distinct \n",
       "    2944        0      119 \n",
       "\n",
       "lowest : -    1647 1649 1650 1651, highest: 1927 1928 1929 1930 1931\n",
       "--------------------------------------------------------------------------------\n",
       "CodeSum \n",
       "       n  missing distinct \n",
       "    2944        0       98 \n",
       "\n",
       "lowest :                      BCFG BR              BR                   BR HZ                BR HZ FU            \n",
       "highest: TSRA RA FG+ FG BR HZ TSRA RA HZ           TSRA RA HZ FU        TSRA RA VCTS         VCTS                \n",
       "--------------------------------------------------------------------------------\n",
       "SnowFall \n",
       "        n   missing  distinct      Info      Mean       Gmd \n",
       "     1472      1472         2     0.002 6.793e-05 0.0001359 \n",
       "                      \n",
       "Value        0.0   0.1\n",
       "Frequency   1471     1\n",
       "Proportion 0.999 0.001\n",
       "--------------------------------------------------------------------------------\n",
       "PrecipTotal \n",
       "       n  missing distinct     Info     Mean      Gmd      .05      .10 \n",
       "    2942        2      166    0.733   0.1313    0.229   0.0000   0.0000 \n",
       "     .25      .50      .75      .90      .95 \n",
       "  0.0000   0.0000   0.0600   0.4100   0.7895 \n",
       "\n",
       "lowest : 0.00 0.01 0.02 0.03 0.04, highest: 3.66 3.97 4.73 6.64 6.86\n",
       "--------------------------------------------------------------------------------\n",
       "StnPressure \n",
       "       n  missing distinct \n",
       "    2940        4      103 \n",
       "\n",
       "lowest : 28.55 28.59 28.63 28.67 28.69, highest: 29.68 29.70 29.71 29.79 29.86\n",
       "--------------------------------------------------------------------------------\n",
       "SeaLevel \n",
       "       n  missing distinct \n",
       "    2935        9      101 \n",
       "\n",
       "lowest : 29.23 29.25 29.34 29.43 29.44, highest: 30.39 30.40 30.41 30.52 30.53\n",
       "--------------------------------------------------------------------------------\n",
       "ResultSpeed \n",
       "       n  missing distinct     Info     Mean      Gmd      .05      .10 \n",
       "    2944        0      190        1    6.961    3.991      1.9      2.7 \n",
       "     .25      .50      .75      .90      .95 \n",
       "     4.3      6.4      9.2     11.7     13.5 \n",
       "\n",
       "lowest :  0.1  0.2  0.3  0.4  0.5, highest: 21.7 21.8 22.6 22.7 24.1\n",
       "--------------------------------------------------------------------------------\n",
       "ResultDir \n",
       "       n  missing distinct     Info     Mean      Gmd      .05      .10 \n",
       "    2944        0       36    0.999    17.49    11.54        2        3 \n",
       "     .25      .50      .75      .90      .95 \n",
       "       7       19       25       31       34 \n",
       "\n",
       "lowest :  1  2  3  4  5, highest: 32 33 34 35 36\n",
       "--------------------------------------------------------------------------------\n",
       "AvgSpeed \n",
       "       n  missing distinct \n",
       "    2941        3      177 \n",
       "\n",
       "lowest : 1.7  1.9  10.0 10.1 10.2, highest: 9.5  9.6  9.7  9.8  9.9 \n",
       "--------------------------------------------------------------------------------"
      ]
     },
     "metadata": {},
     "output_type": "display_data"
    }
   ],
   "source": [
    "describe(weaWNV)"
   ]
  },
  {
   "cell_type": "code",
   "execution_count": 20,
   "metadata": {},
   "outputs": [],
   "source": [
    "\n",
    "#weather$Tavg <- as.numeric(weather$Tavg)\n",
    "\n",
    "#weather$Depart <- as.numeric(weather$Depart)\n",
    "#weather$WetBulb <- as.numeric(weather$WetBulb)\n",
    "#weather$Heat<- as.numeric(weather$Heat)\n",
    "#weather$Cool <- as.numeric(weather$Cool)\n",
    "#weather$Sunrise <- as.character(format=\"%H:%M\")\n",
    "\n",
    "\n"
   ]
  },
  {
   "cell_type": "code",
   "execution_count": 84,
   "metadata": {},
   "outputs": [],
   "source": [
    "weaWNV[\"Water1\"] <- NULL\n",
    "weaWNV[\"Depth\"] <- NULL"
   ]
  },
  {
   "cell_type": "code",
   "execution_count": 85,
   "metadata": {},
   "outputs": [],
   "source": [
    "weaWNV$Date <- as.Date(weaWNV$Date, format = \"%Y-%m-%d\")"
   ]
  },
  {
   "cell_type": "code",
   "execution_count": 86,
   "metadata": {},
   "outputs": [],
   "source": [
    "weaWNV$Tavg <- as.numeric(weaWNV$Tavg)"
   ]
  },
  {
   "cell_type": "code",
   "execution_count": 87,
   "metadata": {},
   "outputs": [],
   "source": [
    "weaWNV$Station <- as.factor(weaWNV$Station)"
   ]
  },
  {
   "cell_type": "code",
   "execution_count": 88,
   "metadata": {},
   "outputs": [],
   "source": [
    "weaWNV$Depart <- as.numeric(weaWNV$Depart)\n",
    "weaWNV$WetBulb <- as.numeric(weaWNV$WetBulb)\n",
    "weaWNV$Heat<- as.numeric(weaWNV$Heat)\n",
    "weaWNV$Cool <- as.numeric(weaWNV$Cool)\n",
    "weaWNV$PrecipTotal<- as.numeric(weaWNV$PrecipTotal)\n",
    "weaWNV$SnowFall<- as.numeric(weaWNV$SnowFall)"
   ]
  },
  {
   "cell_type": "code",
   "execution_count": 89,
   "metadata": {},
   "outputs": [],
   "source": [
    "weaWNV$Sunrise <- as.character(weaWNV$Sunrise, format=\"%H:%M\")\n",
    "weaWNV$Sunset <- as.character(weaWNV$Sunset, format=\"%H:%M\")"
   ]
  },
  {
   "cell_type": "code",
   "execution_count": 92,
   "metadata": {
    "scrolled": true
   },
   "outputs": [
    {
     "data": {
      "text/html": [
       "<table>\n",
       "<thead><tr><th scope=col>Station</th><th scope=col>Date</th><th scope=col>Tmax</th><th scope=col>Tmin</th><th scope=col>Tavg</th><th scope=col>Depart</th><th scope=col>DewPoint</th><th scope=col>WetBulb</th><th scope=col>Heat</th><th scope=col>Cool</th><th scope=col>Sunrise</th><th scope=col>Sunset</th><th scope=col>CodeSum</th><th scope=col>SnowFall</th><th scope=col>PrecipTotal</th><th scope=col>StnPressure</th><th scope=col>SeaLevel</th><th scope=col>ResultSpeed</th><th scope=col>ResultDir</th><th scope=col>AvgSpeed</th></tr></thead>\n",
       "<tbody>\n",
       "\t<tr><td>1         </td><td>2007-05-01</td><td>83        </td><td>50        </td><td>32        </td><td>32        </td><td>51        </td><td>25        </td><td> 1        </td><td> 3        </td><td>0448      </td><td>1849      </td><td>          </td><td> 0        </td><td>0         </td><td>29.10     </td><td>29.82     </td><td> 1.7      </td><td>27        </td><td>9.2       </td></tr>\n",
       "\t<tr><td>2         </td><td>2007-05-01</td><td>84        </td><td>52        </td><td>33        </td><td>NA        </td><td>51        </td><td>26        </td><td> 1        </td><td> 4        </td><td>-         </td><td>-         </td><td>          </td><td>NA        </td><td>0         </td><td>29.18     </td><td>29.82     </td><td> 2.7      </td><td>25        </td><td>9.6       </td></tr>\n",
       "\t<tr><td>1         </td><td>2007-05-02</td><td>59        </td><td>42        </td><td>16        </td><td>11        </td><td>42        </td><td>16        </td><td> 7        </td><td> 1        </td><td>0447      </td><td>1850      </td><td>BR        </td><td> 0        </td><td>0         </td><td>29.38     </td><td>30.09     </td><td>13.0      </td><td> 4        </td><td>13.4      </td></tr>\n",
       "\t<tr><td>2         </td><td>2007-05-02</td><td>60        </td><td>43        </td><td>17        </td><td>NA        </td><td>42        </td><td>16        </td><td> 6        </td><td> 1        </td><td>-         </td><td>-         </td><td>BR HZ     </td><td>NA        </td><td>0         </td><td>29.44     </td><td>30.08     </td><td>13.3      </td><td> 2        </td><td>13.4      </td></tr>\n",
       "\t<tr><td>1         </td><td>2007-05-03</td><td>66        </td><td>46        </td><td>21        </td><td>20        </td><td>40        </td><td>17        </td><td>30        </td><td> 1        </td><td>0446      </td><td>1851      </td><td>          </td><td> 0        </td><td>0         </td><td>29.39     </td><td>30.12     </td><td>11.7      </td><td> 7        </td><td>11.9      </td></tr>\n",
       "\t<tr><td>2         </td><td>2007-05-03</td><td>67        </td><td>48        </td><td>23        </td><td>NA        </td><td>40        </td><td>19        </td><td>28        </td><td> 1        </td><td>-         </td><td>-         </td><td>HZ        </td><td>NA        </td><td>0         </td><td>29.46     </td><td>30.12     </td><td>12.9      </td><td> 6        </td><td>13.2      </td></tr>\n",
       "\t<tr><td>1         </td><td>2007-05-04</td><td>66        </td><td>49        </td><td>23        </td><td>22        </td><td>41        </td><td>19        </td><td>28        </td><td> 1        </td><td>0444      </td><td>1852      </td><td>RA        </td><td> 0        </td><td>0         </td><td>29.31     </td><td>30.05     </td><td>10.4      </td><td> 8        </td><td>10.8      </td></tr>\n",
       "\t<tr><td>2         </td><td>2007-05-04</td><td>78        </td><td>51        </td><td>NA        </td><td>NA        </td><td>42        </td><td>19        </td><td>NA        </td><td>NA        </td><td>-         </td><td>-         </td><td>          </td><td>NA        </td><td>0         </td><td>29.36     </td><td>30.04     </td><td>10.1      </td><td> 7        </td><td>10.4      </td></tr>\n",
       "\t<tr><td>1         </td><td>2007-05-05</td><td>66        </td><td>53        </td><td>25        </td><td>23        </td><td>38        </td><td>18        </td><td>26        </td><td> 1        </td><td>0443      </td><td>1853      </td><td>          </td><td> 0        </td><td>0         </td><td>29.40     </td><td>30.10     </td><td>11.7      </td><td> 7        </td><td>12.0      </td></tr>\n",
       "\t<tr><td>2         </td><td>2007-05-05</td><td>66        </td><td>54        </td><td>25        </td><td>NA        </td><td>39        </td><td>19        </td><td>26        </td><td> 1        </td><td>-         </td><td>-         </td><td>          </td><td>NA        </td><td>0         </td><td>29.46     </td><td>30.09     </td><td>11.2      </td><td> 7        </td><td>11.5      </td></tr>\n",
       "</tbody>\n",
       "</table>\n"
      ],
      "text/latex": [
       "\\begin{tabular}{r|llllllllllllllllllll}\n",
       " Station & Date & Tmax & Tmin & Tavg & Depart & DewPoint & WetBulb & Heat & Cool & Sunrise & Sunset & CodeSum & SnowFall & PrecipTotal & StnPressure & SeaLevel & ResultSpeed & ResultDir & AvgSpeed\\\\\n",
       "\\hline\n",
       "\t 1          & 2007-05-01 & 83         & 50         & 32         & 32         & 51         & 25         &  1         &  3         & 0448       & 1849       &            &  0         & 0          & 29.10      & 29.82      &  1.7       & 27         & 9.2       \\\\\n",
       "\t 2          & 2007-05-01 & 84         & 52         & 33         & NA         & 51         & 26         &  1         &  4         & -          & -          &            & NA         & 0          & 29.18      & 29.82      &  2.7       & 25         & 9.6       \\\\\n",
       "\t 1          & 2007-05-02 & 59         & 42         & 16         & 11         & 42         & 16         &  7         &  1         & 0447       & 1850       & BR         &  0         & 0          & 29.38      & 30.09      & 13.0       &  4         & 13.4      \\\\\n",
       "\t 2          & 2007-05-02 & 60         & 43         & 17         & NA         & 42         & 16         &  6         &  1         & -          & -          & BR HZ      & NA         & 0          & 29.44      & 30.08      & 13.3       &  2         & 13.4      \\\\\n",
       "\t 1          & 2007-05-03 & 66         & 46         & 21         & 20         & 40         & 17         & 30         &  1         & 0446       & 1851       &            &  0         & 0          & 29.39      & 30.12      & 11.7       &  7         & 11.9      \\\\\n",
       "\t 2          & 2007-05-03 & 67         & 48         & 23         & NA         & 40         & 19         & 28         &  1         & -          & -          & HZ         & NA         & 0          & 29.46      & 30.12      & 12.9       &  6         & 13.2      \\\\\n",
       "\t 1          & 2007-05-04 & 66         & 49         & 23         & 22         & 41         & 19         & 28         &  1         & 0444       & 1852       & RA         &  0         & 0          & 29.31      & 30.05      & 10.4       &  8         & 10.8      \\\\\n",
       "\t 2          & 2007-05-04 & 78         & 51         & NA         & NA         & 42         & 19         & NA         & NA         & -          & -          &            & NA         & 0          & 29.36      & 30.04      & 10.1       &  7         & 10.4      \\\\\n",
       "\t 1          & 2007-05-05 & 66         & 53         & 25         & 23         & 38         & 18         & 26         &  1         & 0443       & 1853       &            &  0         & 0          & 29.40      & 30.10      & 11.7       &  7         & 12.0      \\\\\n",
       "\t 2          & 2007-05-05 & 66         & 54         & 25         & NA         & 39         & 19         & 26         &  1         & -          & -          &            & NA         & 0          & 29.46      & 30.09      & 11.2       &  7         & 11.5      \\\\\n",
       "\\end{tabular}\n"
      ],
      "text/markdown": [
       "\n",
       "Station | Date | Tmax | Tmin | Tavg | Depart | DewPoint | WetBulb | Heat | Cool | Sunrise | Sunset | CodeSum | SnowFall | PrecipTotal | StnPressure | SeaLevel | ResultSpeed | ResultDir | AvgSpeed | \n",
       "|---|---|---|---|---|---|---|---|---|---|\n",
       "| 1          | 2007-05-01 | 83         | 50         | 32         | 32         | 51         | 25         |  1         |  3         | 0448       | 1849       |            |  0         | 0          | 29.10      | 29.82      |  1.7       | 27         | 9.2        | \n",
       "| 2          | 2007-05-01 | 84         | 52         | 33         | NA         | 51         | 26         |  1         |  4         | -          | -          |            | NA         | 0          | 29.18      | 29.82      |  2.7       | 25         | 9.6        | \n",
       "| 1          | 2007-05-02 | 59         | 42         | 16         | 11         | 42         | 16         |  7         |  1         | 0447       | 1850       | BR         |  0         | 0          | 29.38      | 30.09      | 13.0       |  4         | 13.4       | \n",
       "| 2          | 2007-05-02 | 60         | 43         | 17         | NA         | 42         | 16         |  6         |  1         | -          | -          | BR HZ      | NA         | 0          | 29.44      | 30.08      | 13.3       |  2         | 13.4       | \n",
       "| 1          | 2007-05-03 | 66         | 46         | 21         | 20         | 40         | 17         | 30         |  1         | 0446       | 1851       |            |  0         | 0          | 29.39      | 30.12      | 11.7       |  7         | 11.9       | \n",
       "| 2          | 2007-05-03 | 67         | 48         | 23         | NA         | 40         | 19         | 28         |  1         | -          | -          | HZ         | NA         | 0          | 29.46      | 30.12      | 12.9       |  6         | 13.2       | \n",
       "| 1          | 2007-05-04 | 66         | 49         | 23         | 22         | 41         | 19         | 28         |  1         | 0444       | 1852       | RA         |  0         | 0          | 29.31      | 30.05      | 10.4       |  8         | 10.8       | \n",
       "| 2          | 2007-05-04 | 78         | 51         | NA         | NA         | 42         | 19         | NA         | NA         | -          | -          |            | NA         | 0          | 29.36      | 30.04      | 10.1       |  7         | 10.4       | \n",
       "| 1          | 2007-05-05 | 66         | 53         | 25         | 23         | 38         | 18         | 26         |  1         | 0443       | 1853       |            |  0         | 0          | 29.40      | 30.10      | 11.7       |  7         | 12.0       | \n",
       "| 2          | 2007-05-05 | 66         | 54         | 25         | NA         | 39         | 19         | 26         |  1         | -          | -          |            | NA         | 0          | 29.46      | 30.09      | 11.2       |  7         | 11.5       | \n",
       "\n",
       "\n"
      ],
      "text/plain": [
       "   Station Date       Tmax Tmin Tavg Depart DewPoint WetBulb Heat Cool Sunrise\n",
       "1  1       2007-05-01 83   50   32   32     51       25       1    3   0448   \n",
       "2  2       2007-05-01 84   52   33   NA     51       26       1    4   -      \n",
       "3  1       2007-05-02 59   42   16   11     42       16       7    1   0447   \n",
       "4  2       2007-05-02 60   43   17   NA     42       16       6    1   -      \n",
       "5  1       2007-05-03 66   46   21   20     40       17      30    1   0446   \n",
       "6  2       2007-05-03 67   48   23   NA     40       19      28    1   -      \n",
       "7  1       2007-05-04 66   49   23   22     41       19      28    1   0444   \n",
       "8  2       2007-05-04 78   51   NA   NA     42       19      NA   NA   -      \n",
       "9  1       2007-05-05 66   53   25   23     38       18      26    1   0443   \n",
       "10 2       2007-05-05 66   54   25   NA     39       19      26    1   -      \n",
       "   Sunset CodeSum SnowFall PrecipTotal StnPressure SeaLevel ResultSpeed\n",
       "1  1849            0       0           29.10       29.82     1.7       \n",
       "2  -              NA       0           29.18       29.82     2.7       \n",
       "3  1850   BR       0       0           29.38       30.09    13.0       \n",
       "4  -      BR HZ   NA       0           29.44       30.08    13.3       \n",
       "5  1851            0       0           29.39       30.12    11.7       \n",
       "6  -      HZ      NA       0           29.46       30.12    12.9       \n",
       "7  1852   RA       0       0           29.31       30.05    10.4       \n",
       "8  -              NA       0           29.36       30.04    10.1       \n",
       "9  1853            0       0           29.40       30.10    11.7       \n",
       "10 -              NA       0           29.46       30.09    11.2       \n",
       "   ResultDir AvgSpeed\n",
       "1  27        9.2     \n",
       "2  25        9.6     \n",
       "3   4        13.4    \n",
       "4   2        13.4    \n",
       "5   7        11.9    \n",
       "6   6        13.2    \n",
       "7   8        10.8    \n",
       "8   7        10.4    \n",
       "9   7        12.0    \n",
       "10  7        11.5    "
      ]
     },
     "metadata": {},
     "output_type": "display_data"
    }
   ],
   "source": [
    "head(weaWNV, 10)"
   ]
  },
  {
   "cell_type": "code",
   "execution_count": 94,
   "metadata": {},
   "outputs": [
    {
     "data": {
      "text/plain": [
       "weaWNV \n",
       "\n",
       " 20  Variables      2944  Observations\n",
       "--------------------------------------------------------------------------------\n",
       "Station \n",
       "       n  missing distinct \n",
       "    2944        0        2 \n",
       "                    \n",
       "Value         1    2\n",
       "Frequency  1472 1472\n",
       "Proportion  0.5  0.5\n",
       "--------------------------------------------------------------------------------\n",
       "Date \n",
       "       n  missing distinct \n",
       "    2944        0     1472 \n",
       "\n",
       "lowest : 2007-05-01 2007-05-02 2007-05-03 2007-05-04 2007-05-05\n",
       "highest: 2014-10-27 2014-10-28 2014-10-29 2014-10-30 2014-10-31\n",
       "--------------------------------------------------------------------------------\n",
       "Tmax \n",
       "       n  missing distinct     Info     Mean      Gmd      .05      .10 \n",
       "    2944        0       63    0.999    76.17    12.89       54       60 \n",
       "     .25      .50      .75      .90      .95 \n",
       "      69       78       85       89       92 \n",
       "\n",
       "lowest :  41  42  44  45  46, highest: 100 101 102 103 104\n",
       "--------------------------------------------------------------------------------\n",
       "Tmin \n",
       "       n  missing distinct     Info     Mean      Gmd      .05      .10 \n",
       "    2944        0       54    0.999    57.81    11.82       40       43 \n",
       "     .25      .50      .75      .90      .95 \n",
       "      50       59       66       71       73 \n",
       "\n",
       "lowest : 29 31 32 33 34, highest: 79 80 81 82 83\n",
       "--------------------------------------------------------------------------------\n",
       "Tavg \n",
       "       n  missing distinct     Info     Mean      Gmd      .05      .10 \n",
       "    2933       11       59    0.999    32.24    11.92       13       17 \n",
       "     .25      .50      .75      .90      .95 \n",
       "      25       34       40       45       47 \n",
       "\n",
       "lowest :  1  2  3  4  5, highest: 55 56 57 58 59\n",
       "--------------------------------------------------------------------------------\n",
       "Depart \n",
       "       n  missing distinct     Info     Mean      Gmd      .05      .10 \n",
       "    1472     1472       41    0.998    18.82    9.422        1       10 \n",
       "     .25      .50      .75      .90      .95 \n",
       "      13       20       25       29       32 \n",
       "\n",
       "lowest :  1  2  3  4  5, highest: 37 38 39 40 41\n",
       "--------------------------------------------------------------------------------\n",
       "DewPoint \n",
       "       n  missing distinct     Info     Mean      Gmd      .05      .10 \n",
       "    2944        0       54    0.999    53.46    12.13       34       38 \n",
       "     .25      .50      .75      .90      .95 \n",
       "      46       54       62       67       69 \n",
       "\n",
       "lowest : 22 23 24 25 26, highest: 71 72 73 74 75\n",
       "--------------------------------------------------------------------------------\n",
       "WetBulb \n",
       "       n  missing distinct     Info     Mean      Gmd      .05      .10 \n",
       "    2940        4       47    0.999    28.31    10.53       11       15 \n",
       "     .25      .50      .75      .90      .95 \n",
       "      22       30       36       40       41 \n",
       "\n",
       "lowest :  1  2  3  4  5, highest: 43 44 45 46 47\n",
       "--------------------------------------------------------------------------------\n",
       "Heat \n",
       "       n  missing distinct     Info     Mean      Gmd      .05      .10 \n",
       "    2933       11       30    0.741    6.301    8.232        1        1 \n",
       "     .25      .50      .75      .90      .95 \n",
       "       1        1        8       25       28 \n",
       "\n",
       "lowest :  1  2  3  4  5, highest: 26 27 28 29 30\n",
       "--------------------------------------------------------------------------------\n",
       "Cool \n",
       "       n  missing distinct     Info     Mean      Gmd      .05      .10 \n",
       "    2933       11       30    0.939    6.647    6.626        1        1 \n",
       "     .25      .50      .75      .90      .95 \n",
       "       1        5       11       16       18 \n",
       "\n",
       "lowest :  1  2  3  4  5, highest: 26 27 28 29 30\n",
       "--------------------------------------------------------------------------------\n",
       "Sunrise \n",
       "       n  missing distinct \n",
       "    2944        0      122 \n",
       "\n",
       "lowest : -    0416 0417 0418 0419, highest: 0618 0619 0620 0622 0623\n",
       "--------------------------------------------------------------------------------\n",
       "Sunset \n",
       "       n  missing distinct \n",
       "    2944        0      119 \n",
       "\n",
       "lowest : -    1647 1649 1650 1651, highest: 1927 1928 1929 1930 1931\n",
       "--------------------------------------------------------------------------------\n",
       "CodeSum \n",
       "       n  missing distinct \n",
       "    2944        0       98 \n",
       "\n",
       "lowest :                      BCFG BR              BR                   BR HZ                BR HZ FU            \n",
       "highest: TSRA RA FG+ FG BR HZ TSRA RA HZ           TSRA RA HZ FU        TSRA RA VCTS         VCTS                \n",
       "--------------------------------------------------------------------------------\n",
       "SnowFall \n",
       "        n   missing  distinct      Info      Mean       Gmd \n",
       "     1472      1472         2     0.002 6.793e-05 0.0001359 \n",
       "                      \n",
       "Value        0.0   0.1\n",
       "Frequency   1471     1\n",
       "Proportion 0.999 0.001\n",
       "--------------------------------------------------------------------------------\n",
       "PrecipTotal \n",
       "       n  missing distinct     Info     Mean      Gmd      .05      .10 \n",
       "    2942        2      166    0.733   0.1313    0.229   0.0000   0.0000 \n",
       "     .25      .50      .75      .90      .95 \n",
       "  0.0000   0.0000   0.0600   0.4100   0.7895 \n",
       "\n",
       "lowest : 0.00 0.01 0.02 0.03 0.04, highest: 3.66 3.97 4.73 6.64 6.86\n",
       "--------------------------------------------------------------------------------\n",
       "StnPressure \n",
       "       n  missing distinct \n",
       "    2940        4      103 \n",
       "\n",
       "lowest : 28.55 28.59 28.63 28.67 28.69, highest: 29.68 29.70 29.71 29.79 29.86\n",
       "--------------------------------------------------------------------------------\n",
       "SeaLevel \n",
       "       n  missing distinct \n",
       "    2935        9      101 \n",
       "\n",
       "lowest : 29.23 29.25 29.34 29.43 29.44, highest: 30.39 30.40 30.41 30.52 30.53\n",
       "--------------------------------------------------------------------------------\n",
       "ResultSpeed \n",
       "       n  missing distinct     Info     Mean      Gmd      .05      .10 \n",
       "    2944        0      190        1    6.961    3.991      1.9      2.7 \n",
       "     .25      .50      .75      .90      .95 \n",
       "     4.3      6.4      9.2     11.7     13.5 \n",
       "\n",
       "lowest :  0.1  0.2  0.3  0.4  0.5, highest: 21.7 21.8 22.6 22.7 24.1\n",
       "--------------------------------------------------------------------------------\n",
       "ResultDir \n",
       "       n  missing distinct     Info     Mean      Gmd      .05      .10 \n",
       "    2944        0       36    0.999    17.49    11.54        2        3 \n",
       "     .25      .50      .75      .90      .95 \n",
       "       7       19       25       31       34 \n",
       "\n",
       "lowest :  1  2  3  4  5, highest: 32 33 34 35 36\n",
       "--------------------------------------------------------------------------------\n",
       "AvgSpeed \n",
       "       n  missing distinct \n",
       "    2941        3      177 \n",
       "\n",
       "lowest : 1.7  1.9  10.0 10.1 10.2, highest: 9.5  9.6  9.7  9.8  9.9 \n",
       "--------------------------------------------------------------------------------"
      ]
     },
     "metadata": {},
     "output_type": "display_data"
    }
   ],
   "source": [
    "describe(weaWNV)"
   ]
  },
  {
   "cell_type": "code",
   "execution_count": 95,
   "metadata": {},
   "outputs": [
    {
     "data": {
      "text/plain": [
       " Station       Date                 Tmax             Tmin            Tavg      \n",
       " 1:1472   Min.   :2007-05-01   Min.   : 41.00   Min.   :29.00   Min.   : 1.00  \n",
       " 2:1472   1st Qu.:2009-03-16   1st Qu.: 69.00   1st Qu.:50.00   1st Qu.:25.00  \n",
       "          Median :2011-01-30   Median : 78.00   Median :59.00   Median :34.00  \n",
       "          Mean   :2011-01-30   Mean   : 76.17   Mean   :57.81   Mean   :32.24  \n",
       "          3rd Qu.:2012-12-15   3rd Qu.: 85.00   3rd Qu.:66.00   3rd Qu.:40.00  \n",
       "          Max.   :2014-10-31   Max.   :104.00   Max.   :83.00   Max.   :59.00  \n",
       "                                                                NA's   :11     \n",
       "     Depart         DewPoint        WetBulb           Heat       \n",
       " Min.   : 1.00   Min.   :22.00   Min.   : 1.00   Min.   : 1.000  \n",
       " 1st Qu.:13.00   1st Qu.:46.00   1st Qu.:22.00   1st Qu.: 1.000  \n",
       " Median :20.00   Median :54.00   Median :30.00   Median : 1.000  \n",
       " Mean   :18.82   Mean   :53.46   Mean   :28.31   Mean   : 6.301  \n",
       " 3rd Qu.:25.00   3rd Qu.:62.00   3rd Qu.:36.00   3rd Qu.: 8.000  \n",
       " Max.   :41.00   Max.   :75.00   Max.   :47.00   Max.   :30.000  \n",
       " NA's   :1472                    NA's   :4       NA's   :11      \n",
       "      Cool          Sunrise             Sunset                CodeSum    \n",
       " Min.   : 1.000   Length:2944        Length:2944                  :1609  \n",
       " 1st Qu.: 1.000   Class :character   Class :character   RA        : 296  \n",
       " Median : 5.000   Mode  :character   Mode  :character   RA BR     : 238  \n",
       " Mean   : 6.647                                         BR        : 110  \n",
       " 3rd Qu.:11.000                                         TSRA RA BR:  92  \n",
       " Max.   :30.000                                         BR HZ     :  81  \n",
       " NA's   :11                                             (Other)   : 518  \n",
       "    SnowFall      PrecipTotal      StnPressure      SeaLevel   \n",
       " Min.   :0e+00   Min.   :0.0000   29.34  : 128   30.00  :  96  \n",
       " 1st Qu.:0e+00   1st Qu.:0.0000   29.28  : 124   29.94  :  85  \n",
       " Median :0e+00   Median :0.0000   29.26  : 123   29.98  :  85  \n",
       " Mean   :1e-04   Mean   :0.1313   29.21  : 107   29.92  :  83  \n",
       " 3rd Qu.:0e+00   3rd Qu.:0.0600   29.31  : 106   29.89  :  82  \n",
       " Max.   :1e-01   Max.   :6.8600   (Other):2352   (Other):2504  \n",
       " NA's   :1472    NA's   :2        NA's   :   4   NA's   :   9  \n",
       "  ResultSpeed       ResultDir        AvgSpeed   \n",
       " Min.   : 0.100   Min.   : 1.00   6.9    :  63  \n",
       " 1st Qu.: 4.300   1st Qu.: 7.00   5.8    :  60  \n",
       " Median : 6.400   Median :19.00   7.4    :  55  \n",
       " Mean   : 6.961   Mean   :17.49   8.1    :  49  \n",
       " 3rd Qu.: 9.200   3rd Qu.:25.00   7.0    :  47  \n",
       " Max.   :24.100   Max.   :36.00   (Other):2667  \n",
       "                                  NA's   :   3  "
      ]
     },
     "metadata": {},
     "output_type": "display_data"
    }
   ],
   "source": [
    "summary(weaWNV)"
   ]
  },
  {
   "cell_type": "code",
   "execution_count": 61,
   "metadata": {},
   "outputs": [
    {
     "name": "stderr",
     "output_type": "stream",
     "text": [
      "Warning message in eval(expr, envir, enclos):\n",
      "\"NAs introduced by coercion\""
     ]
    }
   ],
   "source": [
    "#weaWNV$PrecipTotal <- as.numeric(weaWNV$PrecipTotal)\n",
    "#weaWNV$StnPressure <- as.numeric(weaWNV$StnPressure)\n",
    "#weaWNV$SeaLevel<- as.numeric(weaWNV$SeaLevel)\n",
    "#weaWNV$AvgSpeed <- as.numeric(weaWNV$AvgSpeed)"
   ]
  },
  {
   "cell_type": "code",
   "execution_count": 55,
   "metadata": {},
   "outputs": [
    {
     "name": "stdout",
     "output_type": "stream",
     "text": [
      "'data.frame':\t2944 obs. of  22 variables:\n",
      " $ Station    : int  1 2 1 2 1 2 1 2 1 2 ...\n",
      " $ Date       : Factor w/ 1472 levels \"2007-05-01\",\"2007-05-02\",..: 1 1 2 2 3 3 4 4 5 5 ...\n",
      " $ Tmax       : int  83 84 59 60 66 67 66 78 66 66 ...\n",
      " $ Tmin       : int  50 52 42 43 46 48 49 51 53 54 ...\n",
      " $ Tavg       : Factor w/ 60 levels \"36\",\"37\",\"38\",..: 32 33 16 17 21 23 23 NA 25 25 ...\n",
      " $ Depart     : Factor w/ 42 levels \"-1\",\"-10\",\"-11\",..: 32 NA 11 NA 20 NA 22 NA 23 NA ...\n",
      " $ DewPoint   : int  51 51 42 42 40 40 41 42 38 39 ...\n",
      " $ WetBulb    : Factor w/ 48 levels \"32\",\"33\",\"34\",..: 25 26 16 16 17 19 19 19 18 19 ...\n",
      " $ Heat       : Factor w/ 31 levels \"0\",\"1\",\"10\",\"11\",..: 1 1 7 6 30 28 28 NA 26 26 ...\n",
      " $ Cool       : Factor w/ 31 levels \" 0\",\" 1\",\" 2\",..: 3 4 1 1 1 1 1 NA 1 1 ...\n",
      " $ Sunrise    : Factor w/ 122 levels \"-\",\"0416\",\"0417\",..: 34 1 33 1 32 1 30 1 29 1 ...\n",
      " $ Sunset     : Factor w/ 119 levels \"-\",\"1647\",\"1649\",..: 76 1 77 1 78 1 79 1 80 1 ...\n",
      " $ CodeSum    : Factor w/ 98 levels \" \",\"BCFG BR\",..: 1 1 3 4 1 20 24 1 1 1 ...\n",
      " $ Depth      : Factor w/ 2 levels \"0\",\"M\": 1 NA 1 NA 1 NA 1 NA 1 NA ...\n",
      " $ Water1     : Factor w/ 1 level \"M\": NA NA NA NA NA NA NA NA NA NA ...\n",
      " $ SnowFall   : chr  \"0.0\" NA \"0.0\" NA ...\n",
      " $ PrecipTotal: chr  \"0.00\" \"0.00\" \"0.00\" \"0.00\" ...\n",
      " $ StnPressure: Factor w/ 104 levels \"28.55\",\"28.59\",..: 41 49 69 75 70 77 62 67 71 77 ...\n",
      " $ SeaLevel   : Factor w/ 102 levels \"29.23\",\"29.25\",..: 40 40 67 66 70 70 63 62 68 67 ...\n",
      " $ ResultSpeed: num  1.7 2.7 13 13.3 11.7 12.9 10.4 10.1 11.7 11.2 ...\n",
      " $ ResultDir  : int  27 25 4 2 7 6 8 7 7 7 ...\n",
      " $ AvgSpeed   : Factor w/ 178 levels \"1.7\",\"1.9\",\"10.0\",..: 170 174 37 37 22 35 11 7 23 18 ...\n"
     ]
    }
   ],
   "source": [
    "str(weaWNV)"
   ]
  },
  {
   "cell_type": "code",
   "execution_count": 59,
   "metadata": {},
   "outputs": [
    {
     "data": {
      "text/plain": [
       "weaWNV \n",
       "\n",
       " 22  Variables      2944  Observations\n",
       "--------------------------------------------------------------------------------\n",
       "Station \n",
       "       n  missing distinct     Info     Mean      Gmd \n",
       "    2944        0        2     0.75      1.5   0.5002 \n",
       "                    \n",
       "Value         1    2\n",
       "Frequency  1472 1472\n",
       "Proportion  0.5  0.5\n",
       "--------------------------------------------------------------------------------\n",
       "Date \n",
       "       n  missing distinct \n",
       "    2944        0     1472 \n",
       "\n",
       "lowest : 2007-05-01 2007-05-02 2007-05-03 2007-05-04 2007-05-05\n",
       "highest: 2014-10-27 2014-10-28 2014-10-29 2014-10-30 2014-10-31\n",
       "--------------------------------------------------------------------------------\n",
       "Tmax \n",
       "       n  missing distinct     Info     Mean      Gmd      .05      .10 \n",
       "    2944        0       63    0.999    76.17    12.89       54       60 \n",
       "     .25      .50      .75      .90      .95 \n",
       "      69       78       85       89       92 \n",
       "\n",
       "lowest :  41  42  44  45  46, highest: 100 101 102 103 104\n",
       "--------------------------------------------------------------------------------\n",
       "Tmin \n",
       "       n  missing distinct     Info     Mean      Gmd      .05      .10 \n",
       "    2944        0       54    0.999    57.81    11.82       40       43 \n",
       "     .25      .50      .75      .90      .95 \n",
       "      50       59       66       71       73 \n",
       "\n",
       "lowest : 29 31 32 33 34, highest: 79 80 81 82 83\n",
       "--------------------------------------------------------------------------------\n",
       "Tavg \n",
       "       n  missing distinct \n",
       "    2933       11       59 \n",
       "\n",
       "lowest : 36 37 38 39 40, highest: 90 91 92 93 94\n",
       "--------------------------------------------------------------------------------\n",
       "Depart \n",
       "       n  missing distinct \n",
       "    1472     1472       41 \n",
       "\n",
       "lowest : -1  -10 -11 -12 -13, highest: 19  20  21  22  23 \n",
       "--------------------------------------------------------------------------------\n",
       "DewPoint \n",
       "       n  missing distinct     Info     Mean      Gmd      .05      .10 \n",
       "    2944        0       54    0.999    53.46    12.13       34       38 \n",
       "     .25      .50      .75      .90      .95 \n",
       "      46       54       62       67       69 \n",
       "\n",
       "lowest : 22 23 24 25 26, highest: 71 72 73 74 75\n",
       "--------------------------------------------------------------------------------\n",
       "WetBulb \n",
       "       n  missing distinct \n",
       "    2940        4       47 \n",
       "\n",
       "lowest : 32 33 34 35 36, highest: 74 75 76 77 78\n",
       "--------------------------------------------------------------------------------\n",
       "Heat \n",
       "       n  missing distinct \n",
       "    2933       11       30 \n",
       "\n",
       "lowest : 0  1  10 11 12, highest: 5  6  7  8  9 \n",
       "--------------------------------------------------------------------------------\n",
       "Cool \n",
       "       n  missing distinct \n",
       "    2933       11       30 \n",
       "\n",
       "lowest :  0  1  2  3  4, highest: 25 26 27 28 29\n",
       "--------------------------------------------------------------------------------\n",
       "Sunrise \n",
       "       n  missing distinct \n",
       "    2944        0      122 \n",
       "\n",
       "lowest : -    0416 0417 0418 0419, highest: 0618 0619 0620 0622 0623\n",
       "--------------------------------------------------------------------------------\n",
       "Sunset \n",
       "       n  missing distinct \n",
       "    2944        0      119 \n",
       "\n",
       "lowest : -    1647 1649 1650 1651, highest: 1927 1928 1929 1930 1931\n",
       "--------------------------------------------------------------------------------\n",
       "CodeSum \n",
       "       n  missing distinct \n",
       "    2944        0       98 \n",
       "\n",
       "lowest :                      BCFG BR              BR                   BR HZ                BR HZ FU            \n",
       "highest: TSRA RA FG+ FG BR HZ TSRA RA HZ           TSRA RA HZ FU        TSRA RA VCTS         VCTS                \n",
       "--------------------------------------------------------------------------------\n",
       "Depth \n",
       "       n  missing distinct    value \n",
       "    1472     1472        1        0 \n",
       "               \n",
       "Value         0\n",
       "Frequency  1472\n",
       "Proportion    1\n",
       "--------------------------------------------------------------------------------\n",
       "SnowFall \n",
       "       n  missing distinct \n",
       "    1472     1472        3 \n",
       "                            \n",
       "Value          T   0.0   0.1\n",
       "Frequency     12  1459     1\n",
       "Proportion 0.008 0.991 0.001\n",
       "--------------------------------------------------------------------------------\n",
       "PrecipTotal \n",
       "       n  missing distinct \n",
       "    2942        2      167 \n",
       "\n",
       "lowest :   T  0.00 0.01 0.02 0.03, highest: 3.66 3.97 4.73 6.64 6.86\n",
       "--------------------------------------------------------------------------------\n",
       "StnPressure \n",
       "       n  missing distinct \n",
       "    2940        4      103 \n",
       "\n",
       "lowest : 28.55 28.59 28.63 28.67 28.69, highest: 29.68 29.70 29.71 29.79 29.86\n",
       "--------------------------------------------------------------------------------\n",
       "SeaLevel \n",
       "       n  missing distinct \n",
       "    2935        9      101 \n",
       "\n",
       "lowest : 29.23 29.25 29.34 29.43 29.44, highest: 30.39 30.40 30.41 30.52 30.53\n",
       "--------------------------------------------------------------------------------\n",
       "ResultSpeed \n",
       "       n  missing distinct     Info     Mean      Gmd      .05      .10 \n",
       "    2944        0      190        1    6.961    3.991      1.9      2.7 \n",
       "     .25      .50      .75      .90      .95 \n",
       "     4.3      6.4      9.2     11.7     13.5 \n",
       "\n",
       "lowest :  0.1  0.2  0.3  0.4  0.5, highest: 21.7 21.8 22.6 22.7 24.1\n",
       "--------------------------------------------------------------------------------\n",
       "ResultDir \n",
       "       n  missing distinct     Info     Mean      Gmd      .05      .10 \n",
       "    2944        0       36    0.999    17.49    11.54        2        3 \n",
       "     .25      .50      .75      .90      .95 \n",
       "       7       19       25       31       34 \n",
       "\n",
       "lowest :  1  2  3  4  5, highest: 32 33 34 35 36\n",
       "--------------------------------------------------------------------------------\n",
       "AvgSpeed \n",
       "       n  missing distinct \n",
       "    2941        3      177 \n",
       "\n",
       "lowest : 1.7  1.9  10.0 10.1 10.2, highest: 9.5  9.6  9.7  9.8  9.9 \n",
       "--------------------------------------------------------------------------------\n",
       "\n",
       "Variables with all observations missing:\n",
       "\n",
       "[1] Water1"
      ]
     },
     "metadata": {},
     "output_type": "display_data"
    }
   ],
   "source": [
    "describe(weaWNV)"
   ]
  },
  {
   "cell_type": "code",
   "execution_count": 57,
   "metadata": {},
   "outputs": [
    {
     "data": {
      "text/plain": [
       "    Station            Date           Tmax             Tmin      \n",
       " Min.   :1.0   2007-05-01:   2   Min.   : 41.00   Min.   :29.00  \n",
       " 1st Qu.:1.0   2007-05-02:   2   1st Qu.: 69.00   1st Qu.:50.00  \n",
       " Median :1.5   2007-05-03:   2   Median : 78.00   Median :59.00  \n",
       " Mean   :1.5   2007-05-04:   2   Mean   : 76.17   Mean   :57.81  \n",
       " 3rd Qu.:2.0   2007-05-05:   2   3rd Qu.: 85.00   3rd Qu.:66.00  \n",
       " Max.   :2.0   2007-05-06:   2   Max.   :104.00   Max.   :83.00  \n",
       "               (Other)   :2932                                   \n",
       "      Tavg          Depart        DewPoint        WetBulb          Heat     \n",
       " 73     : 138    2     :  93   Min.   :22.00   63     : 135   0      :1870  \n",
       " 70     : 117   -1     :  84   1st Qu.:46.00   65     : 131   4      :  88  \n",
       " 77     : 117   -2     :  80   Median :54.00   59     : 129   1      :  86  \n",
       " 75     : 110    5     :  77   Mean   :53.46   61     : 123   2      :  81  \n",
       " 71     : 109    1     :  76   3rd Qu.:62.00   64     : 121   8      :  67  \n",
       " (Other):2342   (Other):1062   Max.   :75.00   (Other):2301   (Other): 741  \n",
       " NA's   :  11   NA's   :1472                   NA's   :   4   NA's   :  11  \n",
       "      Cool         Sunrise         Sunset           CodeSum      Depth     \n",
       "  0     :1147   -      :1472   -      :1472             :1609   0   :1472  \n",
       "  8     : 138   0416   : 104   1931   :  96   RA        : 296   M   :   0  \n",
       "  5     : 117   0417   :  64   1930   :  56   RA BR     : 238   NA's:1472  \n",
       " 12     : 117   0419   :  40   1929   :  48   BR        : 110              \n",
       " 10     : 110   0418   :  32   1923   :  32   TSRA RA BR:  92              \n",
       " (Other):1304   0420   :  32   1925   :  32   BR HZ     :  81              \n",
       " NA's   :  11   (Other):1200   (Other):1208   (Other)   : 518              \n",
       "  Water1       SnowFall         PrecipTotal         StnPressure  \n",
       " M   :   0   Length:2944        Length:2944        29.34  : 128  \n",
       " NA's:2944   Class :character   Class :character   29.28  : 124  \n",
       "             Mode  :character   Mode  :character   29.26  : 123  \n",
       "                                                   29.21  : 107  \n",
       "                                                   29.31  : 106  \n",
       "                                                   (Other):2352  \n",
       "                                                   NA's   :   4  \n",
       "    SeaLevel     ResultSpeed       ResultDir        AvgSpeed   \n",
       " 30.00  :  96   Min.   : 0.100   Min.   : 1.00   6.9    :  63  \n",
       " 29.94  :  85   1st Qu.: 4.300   1st Qu.: 7.00   5.8    :  60  \n",
       " 29.98  :  85   Median : 6.400   Median :19.00   7.4    :  55  \n",
       " 29.92  :  83   Mean   : 6.961   Mean   :17.49   8.1    :  49  \n",
       " 29.89  :  82   3rd Qu.: 9.200   3rd Qu.:25.00   7.0    :  47  \n",
       " (Other):2504   Max.   :24.100   Max.   :36.00   (Other):2667  \n",
       " NA's   :   9                                    NA's   :   3  "
      ]
     },
     "metadata": {},
     "output_type": "display_data"
    }
   ],
   "source": [
    "summary(weaWNV)"
   ]
  },
  {
   "cell_type": "code",
   "execution_count": 58,
   "metadata": {},
   "outputs": [
    {
     "data": {
      "image/png": "[encoded data removed]",
      "text/plain": [
       "plot without title"
      ]
     },
     "metadata": {},
     "output_type": "display_data"
    }
   ],
   "source": [
    "options(repr.plot.width = 4, repr.plot.height = 4)\n",
    "plot(weaWNV$Tmax)\n"
   ]
  },
  {
   "cell_type": "markdown",
   "metadata": {},
   "source": [
    "v <- c(7,12,28,3,41)\n",
    "t <- c(14,7,6,19,3)\n",
    "plot(v,type = \"o\",col = \"red\", xlab = \"Month\", ylab = \"Rain fall\", \n",
    "   main = \"Rain fall chart\")\n",
    "\n",
    "lines(t, type = \"o\", col = \"blue\")"
   ]
  },
  {
   "cell_type": "markdown",
   "metadata": {},
   "source": [
    "# Tmax Comparison Station 1 vs 2"
   ]
  },
  {
   "cell_type": "code",
   "execution_count": 41,
   "metadata": {},
   "outputs": [
    {
     "data": {
      "image/png": "[encoded data removed]",
      "text/plain": [
       "plot without title"
      ]
     },
     "metadata": {},
     "output_type": "display_data"
    }
   ],
   "source": [
    "# options(repr.plot.width = 10, repr.plot.height = 6)\n",
    "# convert factor to numeric for convenience \n",
    "weaWNV$Station <- as.numeric(weaWNV$Station) \n",
    "nst<-max(weaWNV$Station)\n",
    "\n",
    "# get the range for the x and y axis \n",
    "xrange <- range(weaWNV$Date) \n",
    "yrange <- range(weaWNV$Tmax) \n",
    "\n",
    "# set up the plot \n",
    "plot(xrange, yrange, type=\"n\", xlab=\"date\",\n",
    "   ylab=\"Tmax (F)\" ) \n",
    "colors <- rainbow(nst) \n",
    "linetype <- c(1:nst) \n",
    "plotchar <- seq(18,18+nst,1)\n",
    "\n",
    "# add lines \n",
    "for (i in 1:nst) { \n",
    "  station <- subset(weaWNV, Station==i) \n",
    "  lines(weaWNV$Date, weaWNV$Tmax, type=\"p\", lwd=1.5,\n",
    "    lty=linetype[i], col=colors[i], pch=plotchar[i]) \n",
    "    }\n",
    "\n",
    "# add a legend \n",
    "legend(xrange[1], yrange[2], 1:nst, cex=0.8, col=colors,\n",
    "   pch=plotchar, lty=linetype, title=\"Station\")"
   ]
  },
  {
   "cell_type": "code",
   "execution_count": 43,
   "metadata": {},
   "outputs": [
    {
     "data": {
      "image/png": "[encoded data removed]",
      "text/plain": [
       "plot without title"
      ]
     },
     "metadata": {},
     "output_type": "display_data"
    }
   ],
   "source": [
    " options(repr.plot.width = 10, repr.plot.height = 6)\n",
    "# convert factor to numeric for convenience \n",
    "weaWNV$Station <- as.numeric(weaWNV$Station) \n",
    "nst<-max(weaWNV$Station)\n",
    "\n",
    "# get the range for the x and y axis \n",
    "xrange <- range(weaWNV$Date) \n",
    "yrange <- range(weaWNV$ResultSpeed) \n",
    "\n",
    "# set up the plot \n",
    "plot(xrange, yrange, type=\"n\", xlab=\"date\",\n",
    "   ylab=\"ResultSpeed\" ) \n",
    "colors <- rainbow(nst) \n",
    "linetype <- c(1:nst) \n",
    "plotchar <- seq(18,18+nst,1)\n",
    "\n",
    "# add lines \n",
    "for (i in 1:nst) { \n",
    "  station <- subset(weaWNV, Station==i) \n",
    "  lines(weaWNV$Date, weaWNV$ResultSpeed, type=\"p\", lwd=1.5,\n",
    "    lty=linetype[i], col=colors[i], pch=plotchar[i]) \n",
    "    }\n",
    "\n",
    "# add a legend \n",
    "legend(xrange[1], yrange[2], 1:nst, cex=0.8, col=colors,\n",
    "   pch=plotchar, lty=linetype, title=\"Station\")"
   ]
  },
  {
   "cell_type": "code",
   "execution_count": null,
   "metadata": {},
   "outputs": [],
   "source": [
    "WetBulb"
   ]
  },
  {
   "cell_type": "code",
   "execution_count": 96,
   "metadata": {},
   "outputs": [
    {
     "data": {
      "text/html": [
       "<table>\n",
       "<thead><tr><th></th><th scope=col>Station</th><th scope=col>Date</th><th scope=col>Tmax</th><th scope=col>Tmin</th><th scope=col>Tavg</th><th scope=col>Depart</th><th scope=col>DewPoint</th><th scope=col>WetBulb</th><th scope=col>Heat</th><th scope=col>Cool</th><th scope=col>Sunrise</th><th scope=col>Sunset</th><th scope=col>CodeSum</th><th scope=col>SnowFall</th><th scope=col>PrecipTotal</th><th scope=col>StnPressure</th><th scope=col>SeaLevel</th><th scope=col>ResultSpeed</th><th scope=col>ResultDir</th><th scope=col>AvgSpeed</th></tr></thead>\n",
       "<tbody>\n",
       "\t<tr><th scope=row>1</th><td>1         </td><td>2007-05-01</td><td>83        </td><td>50        </td><td>32        </td><td>32        </td><td>51        </td><td>25        </td><td> 1        </td><td>3         </td><td>0448      </td><td>1849      </td><td>          </td><td>0         </td><td>0         </td><td>29.10     </td><td>29.82     </td><td> 1.7      </td><td>27        </td><td>9.2       </td></tr>\n",
       "\t<tr><th scope=row>3</th><td>1         </td><td>2007-05-02</td><td>59        </td><td>42        </td><td>16        </td><td>11        </td><td>42        </td><td>16        </td><td> 7        </td><td>1         </td><td>0447      </td><td>1850      </td><td>BR        </td><td>0         </td><td>0         </td><td>29.38     </td><td>30.09     </td><td>13.0      </td><td> 4        </td><td>13.4      </td></tr>\n",
       "\t<tr><th scope=row>5</th><td>1         </td><td>2007-05-03</td><td>66        </td><td>46        </td><td>21        </td><td>20        </td><td>40        </td><td>17        </td><td>30        </td><td>1         </td><td>0446      </td><td>1851      </td><td>          </td><td>0         </td><td>0         </td><td>29.39     </td><td>30.12     </td><td>11.7      </td><td> 7        </td><td>11.9      </td></tr>\n",
       "\t<tr><th scope=row>7</th><td>1         </td><td>2007-05-04</td><td>66        </td><td>49        </td><td>23        </td><td>22        </td><td>41        </td><td>19        </td><td>28        </td><td>1         </td><td>0444      </td><td>1852      </td><td>RA        </td><td>0         </td><td>0         </td><td>29.31     </td><td>30.05     </td><td>10.4      </td><td> 8        </td><td>10.8      </td></tr>\n",
       "\t<tr><th scope=row>9</th><td>1         </td><td>2007-05-05</td><td>66        </td><td>53        </td><td>25        </td><td>23        </td><td>38        </td><td>18        </td><td>26        </td><td>1         </td><td>0443      </td><td>1853      </td><td>          </td><td>0         </td><td>0         </td><td>29.40     </td><td>30.10     </td><td>11.7      </td><td> 7        </td><td>12.0      </td></tr>\n",
       "\t<tr><th scope=row>11</th><td>1         </td><td>2007-05-06</td><td>68        </td><td>49        </td><td>24        </td><td>22        </td><td>30        </td><td>15        </td><td>27        </td><td>1         </td><td>0442      </td><td>1855      </td><td>          </td><td>0         </td><td>0         </td><td>29.57     </td><td>30.29     </td><td>14.4      </td><td>11        </td><td>15.0      </td></tr>\n",
       "</tbody>\n",
       "</table>\n"
      ],
      "text/latex": [
       "\\begin{tabular}{r|llllllllllllllllllll}\n",
       "  & Station & Date & Tmax & Tmin & Tavg & Depart & DewPoint & WetBulb & Heat & Cool & Sunrise & Sunset & CodeSum & SnowFall & PrecipTotal & StnPressure & SeaLevel & ResultSpeed & ResultDir & AvgSpeed\\\\\n",
       "\\hline\n",
       "\t1 & 1          & 2007-05-01 & 83         & 50         & 32         & 32         & 51         & 25         &  1         & 3          & 0448       & 1849       &            & 0          & 0          & 29.10      & 29.82      &  1.7       & 27         & 9.2       \\\\\n",
       "\t3 & 1          & 2007-05-02 & 59         & 42         & 16         & 11         & 42         & 16         &  7         & 1          & 0447       & 1850       & BR         & 0          & 0          & 29.38      & 30.09      & 13.0       &  4         & 13.4      \\\\\n",
       "\t5 & 1          & 2007-05-03 & 66         & 46         & 21         & 20         & 40         & 17         & 30         & 1          & 0446       & 1851       &            & 0          & 0          & 29.39      & 30.12      & 11.7       &  7         & 11.9      \\\\\n",
       "\t7 & 1          & 2007-05-04 & 66         & 49         & 23         & 22         & 41         & 19         & 28         & 1          & 0444       & 1852       & RA         & 0          & 0          & 29.31      & 30.05      & 10.4       &  8         & 10.8      \\\\\n",
       "\t9 & 1          & 2007-05-05 & 66         & 53         & 25         & 23         & 38         & 18         & 26         & 1          & 0443       & 1853       &            & 0          & 0          & 29.40      & 30.10      & 11.7       &  7         & 12.0      \\\\\n",
       "\t11 & 1          & 2007-05-06 & 68         & 49         & 24         & 22         & 30         & 15         & 27         & 1          & 0442       & 1855       &            & 0          & 0          & 29.57      & 30.29      & 14.4       & 11         & 15.0      \\\\\n",
       "\\end{tabular}\n"
      ],
      "text/markdown": [
       "\n",
       "| <!--/--> | Station | Date | Tmax | Tmin | Tavg | Depart | DewPoint | WetBulb | Heat | Cool | Sunrise | Sunset | CodeSum | SnowFall | PrecipTotal | StnPressure | SeaLevel | ResultSpeed | ResultDir | AvgSpeed | \n",
       "|---|---|---|---|---|---|\n",
       "| 1 | 1          | 2007-05-01 | 83         | 50         | 32         | 32         | 51         | 25         |  1         | 3          | 0448       | 1849       |            | 0          | 0          | 29.10      | 29.82      |  1.7       | 27         | 9.2        | \n",
       "| 3 | 1          | 2007-05-02 | 59         | 42         | 16         | 11         | 42         | 16         |  7         | 1          | 0447       | 1850       | BR         | 0          | 0          | 29.38      | 30.09      | 13.0       |  4         | 13.4       | \n",
       "| 5 | 1          | 2007-05-03 | 66         | 46         | 21         | 20         | 40         | 17         | 30         | 1          | 0446       | 1851       |            | 0          | 0          | 29.39      | 30.12      | 11.7       |  7         | 11.9       | \n",
       "| 7 | 1          | 2007-05-04 | 66         | 49         | 23         | 22         | 41         | 19         | 28         | 1          | 0444       | 1852       | RA         | 0          | 0          | 29.31      | 30.05      | 10.4       |  8         | 10.8       | \n",
       "| 9 | 1          | 2007-05-05 | 66         | 53         | 25         | 23         | 38         | 18         | 26         | 1          | 0443       | 1853       |            | 0          | 0          | 29.40      | 30.10      | 11.7       |  7         | 12.0       | \n",
       "| 11 | 1          | 2007-05-06 | 68         | 49         | 24         | 22         | 30         | 15         | 27         | 1          | 0442       | 1855       |            | 0          | 0          | 29.57      | 30.29      | 14.4       | 11         | 15.0       | \n",
       "\n",
       "\n"
      ],
      "text/plain": [
       "   Station Date       Tmax Tmin Tavg Depart DewPoint WetBulb Heat Cool Sunrise\n",
       "1  1       2007-05-01 83   50   32   32     51       25       1   3    0448   \n",
       "3  1       2007-05-02 59   42   16   11     42       16       7   1    0447   \n",
       "5  1       2007-05-03 66   46   21   20     40       17      30   1    0446   \n",
       "7  1       2007-05-04 66   49   23   22     41       19      28   1    0444   \n",
       "9  1       2007-05-05 66   53   25   23     38       18      26   1    0443   \n",
       "11 1       2007-05-06 68   49   24   22     30       15      27   1    0442   \n",
       "   Sunset CodeSum SnowFall PrecipTotal StnPressure SeaLevel ResultSpeed\n",
       "1  1849           0        0           29.10       29.82     1.7       \n",
       "3  1850   BR      0        0           29.38       30.09    13.0       \n",
       "5  1851           0        0           29.39       30.12    11.7       \n",
       "7  1852   RA      0        0           29.31       30.05    10.4       \n",
       "9  1853           0        0           29.40       30.10    11.7       \n",
       "11 1855           0        0           29.57       30.29    14.4       \n",
       "   ResultDir AvgSpeed\n",
       "1  27        9.2     \n",
       "3   4        13.4    \n",
       "5   7        11.9    \n",
       "7   8        10.8    \n",
       "9   7        12.0    \n",
       "11 11        15.0    "
      ]
     },
     "metadata": {},
     "output_type": "display_data"
    }
   ],
   "source": [
    "# using subset function \n",
    "wea1 <- subset(weaWNV, Station == 1)\n",
    "head(wea1)"
   ]
  },
  {
   "cell_type": "code",
   "execution_count": 97,
   "metadata": {},
   "outputs": [
    {
     "data": {
      "text/plain": [
       " Station       Date                 Tmax             Tmin            Tavg      \n",
       " 1:1472   Min.   :2007-05-01   Min.   : 42.00   Min.   :29.00   Min.   : 1.00  \n",
       " 2:   0   1st Qu.:2009-03-16   1st Qu.: 68.00   1st Qu.:49.00   1st Qu.:25.00  \n",
       "          Median :2011-01-30   Median : 78.00   Median :58.00   Median :33.00  \n",
       "          Mean   :2011-01-30   Mean   : 75.98   Mean   :56.73   Mean   :31.61  \n",
       "          3rd Qu.:2012-12-15   3rd Qu.: 85.00   3rd Qu.:65.00   3rd Qu.:40.00  \n",
       "          Max.   :2014-10-31   Max.   :103.00   Max.   :82.00   Max.   :58.00  \n",
       "                                                                               \n",
       "     Depart         DewPoint        WetBulb           Heat       \n",
       " Min.   : 1.00   Min.   :22.00   Min.   : 1.00   Min.   : 1.000  \n",
       " 1st Qu.:13.00   1st Qu.:46.00   1st Qu.:22.00   1st Qu.: 1.000  \n",
       " Median :20.00   Median :54.00   Median :29.00   Median : 1.000  \n",
       " Mean   :18.82   Mean   :53.38   Mean   :28.04   Mean   : 6.509  \n",
       " 3rd Qu.:25.00   3rd Qu.:61.25   3rd Qu.:35.00   3rd Qu.: 8.000  \n",
       " Max.   :41.00   Max.   :75.00   Max.   :47.00   Max.   :30.000  \n",
       "                                 NA's   :3                       \n",
       "      Cool          Sunrise             Sunset                CodeSum   \n",
       " Min.   : 1.000   Length:1472        Length:1472                  :805  \n",
       " 1st Qu.: 1.000   Class :character   Class :character   RA        :161  \n",
       " Median : 4.000   Mode  :character   Mode  :character   RA BR     :128  \n",
       " Mean   : 6.238                                         BR        : 66  \n",
       " 3rd Qu.:11.000                                         TSRA RA BR: 48  \n",
       " Max.   :29.000                                         RA DZ BR  : 31  \n",
       "                                                        (Other)   :233  \n",
       "    SnowFall          PrecipTotal      StnPressure      SeaLevel   \n",
       " Min.   :0.000e+00   Min.   :0.0000   29.28  :  67   30.00  :  48  \n",
       " 1st Qu.:0.000e+00   1st Qu.:0.0000   29.26  :  62   29.98  :  46  \n",
       " Median :0.000e+00   Median :0.0000   29.21  :  60   29.95  :  45  \n",
       " Mean   :6.793e-05   Mean   :0.1345   29.34  :  60   29.89  :  44  \n",
       " 3rd Qu.:0.000e+00   3rd Qu.:0.0600   29.18  :  56   29.93  :  43  \n",
       " Max.   :1.000e-01   Max.   :6.8600   (Other):1165   (Other):1241  \n",
       "                                      NA's   :   2   NA's   :   5  \n",
       "  ResultSpeed       ResultDir        AvgSpeed   \n",
       " Min.   : 0.100   Min.   : 1.00   6.9    :  35  \n",
       " 1st Qu.: 4.400   1st Qu.: 7.00   5.8    :  33  \n",
       " Median : 6.400   Median :19.50   7.4    :  29  \n",
       " Mean   : 6.987   Mean   :17.66   8.1    :  27  \n",
       " 3rd Qu.: 9.100   3rd Qu.:26.00   7.5    :  24  \n",
       " Max.   :24.100   Max.   :36.00   9.0    :  24  \n",
       "                                  (Other):1300  "
      ]
     },
     "metadata": {},
     "output_type": "display_data"
    }
   ],
   "source": [
    "summary(wea1)"
   ]
  },
  {
   "cell_type": "code",
   "execution_count": 98,
   "metadata": {},
   "outputs": [
    {
     "data": {
      "text/plain": [
       "wea1 \n",
       "\n",
       " 20  Variables      1472  Observations\n",
       "--------------------------------------------------------------------------------\n",
       "Station \n",
       "       n  missing distinct    value \n",
       "    1472        0        1        1 \n",
       "               \n",
       "Value         1\n",
       "Frequency  1472\n",
       "Proportion    1\n",
       "--------------------------------------------------------------------------------\n",
       "Date \n",
       "       n  missing distinct \n",
       "    1472        0     1472 \n",
       "\n",
       "lowest : 2007-05-01 2007-05-02 2007-05-03 2007-05-04 2007-05-05\n",
       "highest: 2014-10-27 2014-10-28 2014-10-29 2014-10-30 2014-10-31\n",
       "--------------------------------------------------------------------------------\n",
       "Tmax \n",
       "       n  missing distinct     Info     Mean      Gmd      .05      .10 \n",
       "    1472        0       60    0.999    75.98    12.94       54       59 \n",
       "     .25      .50      .75      .90      .95 \n",
       "      68       78       85       89       92 \n",
       "\n",
       "lowest :  42  44  45  46  47, highest:  98  99 100 102 103\n",
       "--------------------------------------------------------------------------------\n",
       "Tmin \n",
       "       n  missing distinct     Info     Mean      Gmd      .05      .10 \n",
       "    1472        0       53    0.999    56.73    11.79       39       42 \n",
       "     .25      .50      .75      .90      .95 \n",
       "      49       58       65       70       71 \n",
       "\n",
       "lowest : 29 31 32 33 34, highest: 78 79 80 81 82\n",
       "--------------------------------------------------------------------------------\n",
       "Tavg \n",
       "       n  missing distinct     Info     Mean      Gmd      .05      .10 \n",
       "    1472        0       56    0.999    31.61     11.9    12.55    16.00 \n",
       "     .25      .50      .75      .90      .95 \n",
       "   25.00    33.00    40.00    44.00    46.00 \n",
       "\n",
       "lowest :  1  2  3  4  5, highest: 52 53 54 56 58\n",
       "--------------------------------------------------------------------------------\n",
       "Depart \n",
       "       n  missing distinct     Info     Mean      Gmd      .05      .10 \n",
       "    1472        0       41    0.998    18.82    9.422        1       10 \n",
       "     .25      .50      .75      .90      .95 \n",
       "      13       20       25       29       32 \n",
       "\n",
       "lowest :  1  2  3  4  5, highest: 37 38 39 40 41\n",
       "--------------------------------------------------------------------------------\n",
       "DewPoint \n",
       "       n  missing distinct     Info     Mean      Gmd      .05      .10 \n",
       "    1472        0       54    0.999    53.38    12.12    34.00    38.00 \n",
       "     .25      .50      .75      .90      .95 \n",
       "   46.00    54.00    61.25    67.00    69.00 \n",
       "\n",
       "lowest : 22 23 24 25 26, highest: 71 72 73 74 75\n",
       "--------------------------------------------------------------------------------\n",
       "WetBulb \n",
       "       n  missing distinct     Info     Mean      Gmd      .05      .10 \n",
       "    1469        3       47    0.999    28.04    10.58       11       14 \n",
       "     .25      .50      .75      .90      .95 \n",
       "      22       29       35       39       41 \n",
       "\n",
       "lowest :  1  2  3  4  5, highest: 43 44 45 46 47\n",
       "--------------------------------------------------------------------------------\n",
       "Heat \n",
       "       n  missing distinct     Info     Mean      Gmd      .05      .10 \n",
       "    1472        0       30    0.768    6.509    8.439        1        1 \n",
       "     .25      .50      .75      .90      .95 \n",
       "       1        1        8       25       28 \n",
       "\n",
       "lowest :  1  2  3  4  5, highest: 26 27 28 29 30\n",
       "--------------------------------------------------------------------------------\n",
       "Cool \n",
       "       n  missing distinct     Info     Mean      Gmd      .05      .10 \n",
       "    1472        0       27    0.928    6.238    6.332        1        1 \n",
       "     .25      .50      .75      .90      .95 \n",
       "       1        4       11       15       17 \n",
       "\n",
       "lowest :  1  2  3  4  5, highest: 23 24 25 27 29\n",
       "--------------------------------------------------------------------------------\n",
       "Sunrise \n",
       "       n  missing distinct \n",
       "    1472        0      121 \n",
       "\n",
       "lowest : 0416 0417 0418 0419 0420, highest: 0618 0619 0620 0622 0623\n",
       "--------------------------------------------------------------------------------\n",
       "Sunset \n",
       "       n  missing distinct \n",
       "    1472        0      118 \n",
       "\n",
       "lowest : 1647 1649 1650 1651 1653, highest: 1927 1928 1929 1930 1931\n",
       "--------------------------------------------------------------------------------\n",
       "CodeSum \n",
       "       n  missing distinct \n",
       "    1472        0       67 \n",
       "\n",
       "lowest :                      BCFG BR              BR                   BR HZ                BR HZ FU            \n",
       "highest: TSRA RA FG BR        TSRA RA FG+ FG BR    TSRA RA FG+ FG BR HZ TSRA RA HZ           TSRA RA VCTS        \n",
       "--------------------------------------------------------------------------------\n",
       "SnowFall \n",
       "        n   missing  distinct      Info      Mean       Gmd \n",
       "     1472         0         2     0.002 6.793e-05 0.0001359 \n",
       "                      \n",
       "Value        0.0   0.1\n",
       "Frequency   1471     1\n",
       "Proportion 0.999 0.001\n",
       "--------------------------------------------------------------------------------\n",
       "PrecipTotal \n",
       "       n  missing distinct     Info     Mean      Gmd      .05      .10 \n",
       "    1472        0      125    0.725   0.1345   0.2351    0.000    0.000 \n",
       "     .25      .50      .75      .90      .95 \n",
       "   0.000    0.000    0.060    0.399    0.790 \n",
       "\n",
       "lowest : 0.00 0.01 0.02 0.03 0.04, highest: 2.90 3.64 3.97 6.64 6.86\n",
       "--------------------------------------------------------------------------------\n",
       "StnPressure \n",
       "       n  missing distinct \n",
       "    1470        2       93 \n",
       "\n",
       "lowest : 28.55 28.59 28.69 28.71 28.73, highest: 29.62 29.63 29.64 29.65 29.79\n",
       "--------------------------------------------------------------------------------\n",
       "SeaLevel \n",
       "       n  missing distinct \n",
       "    1467        5       96 \n",
       "\n",
       "lowest : 29.25 29.34 29.43 29.44 29.45, highest: 30.37 30.38 30.39 30.40 30.52\n",
       "--------------------------------------------------------------------------------\n",
       "ResultSpeed \n",
       "       n  missing distinct     Info     Mean      Gmd      .05      .10 \n",
       "    1472        0      180        1    6.987    3.973    1.955    2.800 \n",
       "     .25      .50      .75      .90      .95 \n",
       "   4.400    6.400    9.100   11.700   13.500 \n",
       "\n",
       "lowest :  0.1  0.2  0.3  0.4  0.5, highest: 21.4 21.8 22.6 22.7 24.1\n",
       "--------------------------------------------------------------------------------\n",
       "ResultDir \n",
       "       n  missing distinct     Info     Mean      Gmd      .05      .10 \n",
       "    1472        0       36    0.999    17.66    11.72      2.0      3.0 \n",
       "     .25      .50      .75      .90      .95 \n",
       "     7.0     19.5     26.0     31.0     34.0 \n",
       "\n",
       "lowest :  1  2  3  4  5, highest: 32 33 34 35 36\n",
       "--------------------------------------------------------------------------------\n",
       "AvgSpeed \n",
       "       n  missing distinct \n",
       "    1472        0      164 \n",
       "\n",
       "lowest : 1.9  10.0 10.1 10.2 10.3, highest: 9.5  9.6  9.7  9.8  9.9 \n",
       "--------------------------------------------------------------------------------"
      ]
     },
     "metadata": {},
     "output_type": "display_data"
    }
   ],
   "source": [
    "describe(wea1)"
   ]
  },
  {
   "cell_type": "code",
   "execution_count": 99,
   "metadata": {},
   "outputs": [
    {
     "data": {
      "text/html": [
       "<table>\n",
       "<thead><tr><th></th><th scope=col>Station</th><th scope=col>Date</th><th scope=col>Tmax</th><th scope=col>Tmin</th><th scope=col>Tavg</th><th scope=col>Depart</th><th scope=col>DewPoint</th><th scope=col>WetBulb</th><th scope=col>Heat</th><th scope=col>Cool</th><th scope=col>Sunrise</th><th scope=col>Sunset</th><th scope=col>CodeSum</th><th scope=col>SnowFall</th><th scope=col>PrecipTotal</th><th scope=col>StnPressure</th><th scope=col>SeaLevel</th><th scope=col>ResultSpeed</th><th scope=col>ResultDir</th><th scope=col>AvgSpeed</th></tr></thead>\n",
       "<tbody>\n",
       "\t<tr><th scope=row>2</th><td>2         </td><td>2007-05-01</td><td>84        </td><td>52        </td><td>33        </td><td>NA        </td><td>51        </td><td>26        </td><td> 1        </td><td> 4        </td><td>-         </td><td>-         </td><td>          </td><td>NA        </td><td>0         </td><td>29.18     </td><td>29.82     </td><td> 2.7      </td><td>25        </td><td>9.6       </td></tr>\n",
       "\t<tr><th scope=row>4</th><td>2         </td><td>2007-05-02</td><td>60        </td><td>43        </td><td>17        </td><td>NA        </td><td>42        </td><td>16        </td><td> 6        </td><td> 1        </td><td>-         </td><td>-         </td><td>BR HZ     </td><td>NA        </td><td>0         </td><td>29.44     </td><td>30.08     </td><td>13.3      </td><td> 2        </td><td>13.4      </td></tr>\n",
       "\t<tr><th scope=row>6</th><td>2         </td><td>2007-05-03</td><td>67        </td><td>48        </td><td>23        </td><td>NA        </td><td>40        </td><td>19        </td><td>28        </td><td> 1        </td><td>-         </td><td>-         </td><td>HZ        </td><td>NA        </td><td>0         </td><td>29.46     </td><td>30.12     </td><td>12.9      </td><td> 6        </td><td>13.2      </td></tr>\n",
       "\t<tr><th scope=row>8</th><td>2         </td><td>2007-05-04</td><td>78        </td><td>51        </td><td>NA        </td><td>NA        </td><td>42        </td><td>19        </td><td>NA        </td><td>NA        </td><td>-         </td><td>-         </td><td>          </td><td>NA        </td><td>0         </td><td>29.36     </td><td>30.04     </td><td>10.1      </td><td> 7        </td><td>10.4      </td></tr>\n",
       "\t<tr><th scope=row>10</th><td>2         </td><td>2007-05-05</td><td>66        </td><td>54        </td><td>25        </td><td>NA        </td><td>39        </td><td>19        </td><td>26        </td><td> 1        </td><td>-         </td><td>-         </td><td>          </td><td>NA        </td><td>0         </td><td>29.46     </td><td>30.09     </td><td>11.2      </td><td> 7        </td><td>11.5      </td></tr>\n",
       "\t<tr><th scope=row>12</th><td>2         </td><td>2007-05-06</td><td>68        </td><td>52        </td><td>25        </td><td>NA        </td><td>30        </td><td>15        </td><td>26        </td><td> 1        </td><td>-         </td><td>-         </td><td>          </td><td>NA        </td><td>0         </td><td>29.62     </td><td>30.28     </td><td>13.8      </td><td>10        </td><td>14.5      </td></tr>\n",
       "</tbody>\n",
       "</table>\n"
      ],
      "text/latex": [
       "\\begin{tabular}{r|llllllllllllllllllll}\n",
       "  & Station & Date & Tmax & Tmin & Tavg & Depart & DewPoint & WetBulb & Heat & Cool & Sunrise & Sunset & CodeSum & SnowFall & PrecipTotal & StnPressure & SeaLevel & ResultSpeed & ResultDir & AvgSpeed\\\\\n",
       "\\hline\n",
       "\t2 & 2          & 2007-05-01 & 84         & 52         & 33         & NA         & 51         & 26         &  1         &  4         & -          & -          &            & NA         & 0          & 29.18      & 29.82      &  2.7       & 25         & 9.6       \\\\\n",
       "\t4 & 2          & 2007-05-02 & 60         & 43         & 17         & NA         & 42         & 16         &  6         &  1         & -          & -          & BR HZ      & NA         & 0          & 29.44      & 30.08      & 13.3       &  2         & 13.4      \\\\\n",
       "\t6 & 2          & 2007-05-03 & 67         & 48         & 23         & NA         & 40         & 19         & 28         &  1         & -          & -          & HZ         & NA         & 0          & 29.46      & 30.12      & 12.9       &  6         & 13.2      \\\\\n",
       "\t8 & 2          & 2007-05-04 & 78         & 51         & NA         & NA         & 42         & 19         & NA         & NA         & -          & -          &            & NA         & 0          & 29.36      & 30.04      & 10.1       &  7         & 10.4      \\\\\n",
       "\t10 & 2          & 2007-05-05 & 66         & 54         & 25         & NA         & 39         & 19         & 26         &  1         & -          & -          &            & NA         & 0          & 29.46      & 30.09      & 11.2       &  7         & 11.5      \\\\\n",
       "\t12 & 2          & 2007-05-06 & 68         & 52         & 25         & NA         & 30         & 15         & 26         &  1         & -          & -          &            & NA         & 0          & 29.62      & 30.28      & 13.8       & 10         & 14.5      \\\\\n",
       "\\end{tabular}\n"
      ],
      "text/markdown": [
       "\n",
       "| <!--/--> | Station | Date | Tmax | Tmin | Tavg | Depart | DewPoint | WetBulb | Heat | Cool | Sunrise | Sunset | CodeSum | SnowFall | PrecipTotal | StnPressure | SeaLevel | ResultSpeed | ResultDir | AvgSpeed | \n",
       "|---|---|---|---|---|---|\n",
       "| 2 | 2          | 2007-05-01 | 84         | 52         | 33         | NA         | 51         | 26         |  1         |  4         | -          | -          |            | NA         | 0          | 29.18      | 29.82      |  2.7       | 25         | 9.6        | \n",
       "| 4 | 2          | 2007-05-02 | 60         | 43         | 17         | NA         | 42         | 16         |  6         |  1         | -          | -          | BR HZ      | NA         | 0          | 29.44      | 30.08      | 13.3       |  2         | 13.4       | \n",
       "| 6 | 2          | 2007-05-03 | 67         | 48         | 23         | NA         | 40         | 19         | 28         |  1         | -          | -          | HZ         | NA         | 0          | 29.46      | 30.12      | 12.9       |  6         | 13.2       | \n",
       "| 8 | 2          | 2007-05-04 | 78         | 51         | NA         | NA         | 42         | 19         | NA         | NA         | -          | -          |            | NA         | 0          | 29.36      | 30.04      | 10.1       |  7         | 10.4       | \n",
       "| 10 | 2          | 2007-05-05 | 66         | 54         | 25         | NA         | 39         | 19         | 26         |  1         | -          | -          |            | NA         | 0          | 29.46      | 30.09      | 11.2       |  7         | 11.5       | \n",
       "| 12 | 2          | 2007-05-06 | 68         | 52         | 25         | NA         | 30         | 15         | 26         |  1         | -          | -          |            | NA         | 0          | 29.62      | 30.28      | 13.8       | 10         | 14.5       | \n",
       "\n",
       "\n"
      ],
      "text/plain": [
       "   Station Date       Tmax Tmin Tavg Depart DewPoint WetBulb Heat Cool Sunrise\n",
       "2  2       2007-05-01 84   52   33   NA     51       26       1    4   -      \n",
       "4  2       2007-05-02 60   43   17   NA     42       16       6    1   -      \n",
       "6  2       2007-05-03 67   48   23   NA     40       19      28    1   -      \n",
       "8  2       2007-05-04 78   51   NA   NA     42       19      NA   NA   -      \n",
       "10 2       2007-05-05 66   54   25   NA     39       19      26    1   -      \n",
       "12 2       2007-05-06 68   52   25   NA     30       15      26    1   -      \n",
       "   Sunset CodeSum SnowFall PrecipTotal StnPressure SeaLevel ResultSpeed\n",
       "2  -              NA       0           29.18       29.82     2.7       \n",
       "4  -      BR HZ   NA       0           29.44       30.08    13.3       \n",
       "6  -      HZ      NA       0           29.46       30.12    12.9       \n",
       "8  -              NA       0           29.36       30.04    10.1       \n",
       "10 -              NA       0           29.46       30.09    11.2       \n",
       "12 -              NA       0           29.62       30.28    13.8       \n",
       "   ResultDir AvgSpeed\n",
       "2  25        9.6     \n",
       "4   2        13.4    \n",
       "6   6        13.2    \n",
       "8   7        10.4    \n",
       "10  7        11.5    \n",
       "12 10        14.5    "
      ]
     },
     "metadata": {},
     "output_type": "display_data"
    }
   ],
   "source": [
    "# using subset function \n",
    "wea2 <- subset(weaWNV, Station == 2)\n",
    "head(wea2)"
   ]
  },
  {
   "cell_type": "code",
   "execution_count": 100,
   "metadata": {},
   "outputs": [
    {
     "data": {
      "text/plain": [
       "wea2 \n",
       "\n",
       " 20  Variables      1472  Observations\n",
       "--------------------------------------------------------------------------------\n",
       "Station \n",
       "       n  missing distinct    value \n",
       "    1472        0        1        2 \n",
       "               \n",
       "Value         2\n",
       "Frequency  1472\n",
       "Proportion    1\n",
       "--------------------------------------------------------------------------------\n",
       "Date \n",
       "       n  missing distinct \n",
       "    1472        0     1472 \n",
       "\n",
       "lowest : 2007-05-01 2007-05-02 2007-05-03 2007-05-04 2007-05-05\n",
       "highest: 2014-10-27 2014-10-28 2014-10-29 2014-10-30 2014-10-31\n",
       "--------------------------------------------------------------------------------\n",
       "Tmax \n",
       "       n  missing distinct     Info     Mean      Gmd      .05      .10 \n",
       "    1472        0       61    0.999    76.35    12.84    54.55    60.00 \n",
       "     .25      .50      .75      .90      .95 \n",
       "   69.00    78.00    85.00    89.00    92.00 \n",
       "\n",
       "lowest :  41  44  45  46  47, highest:  99 100 101 102 104\n",
       "--------------------------------------------------------------------------------\n",
       "Tmin \n",
       "       n  missing distinct     Info     Mean      Gmd      .05      .10 \n",
       "    1472        0       54    0.999    58.89    11.72       41       44 \n",
       "     .25      .50      .75      .90      .95 \n",
       "      51       60       67       71       73 \n",
       "\n",
       "lowest : 29 31 32 33 34, highest: 79 80 81 82 83\n",
       "--------------------------------------------------------------------------------\n",
       "Tavg \n",
       "       n  missing distinct     Info     Mean      Gmd      .05      .10 \n",
       "    1461       11       57    0.999    32.88    11.91       14       17 \n",
       "     .25      .50      .75      .90      .95 \n",
       "      26       35       41       45       47 \n",
       "\n",
       "lowest :  1  2  4  5  6, highest: 54 55 56 57 59\n",
       "--------------------------------------------------------------------------------\n",
       "DewPoint \n",
       "       n  missing distinct     Info     Mean      Gmd      .05      .10 \n",
       "    1472        0       52    0.999    53.54    12.14       34       38 \n",
       "     .25      .50      .75      .90      .95 \n",
       "      46       55       62       67       69 \n",
       "\n",
       "lowest : 23 24 25 26 27, highest: 70 71 72 73 74\n",
       "--------------------------------------------------------------------------------\n",
       "WetBulb \n",
       "       n  missing distinct     Info     Mean      Gmd      .05      .10 \n",
       "    1471        1       45    0.999    28.59    10.48     12.0     15.0 \n",
       "     .25      .50      .75      .90      .95 \n",
       "    22.0     30.0     36.0     40.0     41.5 \n",
       "\n",
       "lowest :  2  3  4  5  6, highest: 42 43 44 45 46\n",
       "--------------------------------------------------------------------------------\n",
       "Heat \n",
       "       n  missing distinct     Info     Mean      Gmd      .05      .10 \n",
       "    1461       11       29    0.711    6.091    8.019        1        1 \n",
       "     .25      .50      .75      .90      .95 \n",
       "       1        1        7       25       28 \n",
       "\n",
       "lowest :  1  2  3  4  5, highest: 26 27 28 29 30\n",
       "--------------------------------------------------------------------------------\n",
       "Cool \n",
       "       n  missing distinct     Info     Mean      Gmd      .05      .10 \n",
       "    1461       11       29     0.95     7.06    6.888        1        1 \n",
       "     .25      .50      .75      .90      .95 \n",
       "       1        6       12       16       18 \n",
       "\n",
       "lowest :  1  2  3  4  5, highest: 25 26 27 28 30\n",
       "--------------------------------------------------------------------------------\n",
       "Sunrise \n",
       "       n  missing distinct    value \n",
       "    1472        0        1        - \n",
       "               \n",
       "Value         -\n",
       "Frequency  1472\n",
       "Proportion    1\n",
       "--------------------------------------------------------------------------------\n",
       "Sunset \n",
       "       n  missing distinct    value \n",
       "    1472        0        1        - \n",
       "               \n",
       "Value         -\n",
       "Frequency  1472\n",
       "Proportion    1\n",
       "--------------------------------------------------------------------------------\n",
       "CodeSum \n",
       "       n  missing distinct \n",
       "    1472        0       73 \n",
       "\n",
       "lowest :                   BR                BR HZ             BR HZ VCFG        BR VCTS          \n",
       "highest: TSRA RA FG+ FG BR TSRA RA HZ        TSRA RA HZ FU     TSRA RA VCTS      VCTS             \n",
       "--------------------------------------------------------------------------------\n",
       "PrecipTotal \n",
       "       n  missing distinct     Info     Mean      Gmd      .05      .10 \n",
       "    1470        2      128     0.74   0.1281   0.2231     0.00     0.00 \n",
       "     .25      .50      .75      .90      .95 \n",
       "    0.00     0.00     0.05     0.41     0.78 \n",
       "\n",
       "lowest : 0.00 0.01 0.02 0.03 0.04, highest: 3.15 3.17 3.31 3.66 4.73\n",
       "--------------------------------------------------------------------------------\n",
       "StnPressure \n",
       "       n  missing distinct \n",
       "    1470        2       88 \n",
       "\n",
       "lowest : 28.63 28.67 28.77 28.79 28.80, highest: 29.67 29.68 29.70 29.71 29.86\n",
       "--------------------------------------------------------------------------------\n",
       "SeaLevel \n",
       "       n  missing distinct \n",
       "    1468        4       96 \n",
       "\n",
       "lowest : 29.23 29.34 29.45 29.46 29.47, highest: 30.37 30.38 30.40 30.41 30.53\n",
       "--------------------------------------------------------------------------------\n",
       "ResultSpeed \n",
       "       n  missing distinct     Info     Mean      Gmd      .05      .10 \n",
       "    1472        0      171        1    6.934    4.011    1.800    2.600 \n",
       "     .25      .50      .75      .90      .95 \n",
       "   4.275    6.500    9.225   11.700   13.400 \n",
       "\n",
       "lowest :  0.3  0.4  0.5  0.6  0.7, highest: 19.6 19.8 20.3 20.8 21.7\n",
       "--------------------------------------------------------------------------------\n",
       "ResultDir \n",
       "       n  missing distinct     Info     Mean      Gmd      .05      .10 \n",
       "    1472        0       36    0.999    17.33    11.36        2        3 \n",
       "     .25      .50      .75      .90      .95 \n",
       "       8       19       24       30       34 \n",
       "\n",
       "lowest :  1  2  3  4  5, highest: 32 33 34 35 36\n",
       "--------------------------------------------------------------------------------\n",
       "AvgSpeed \n",
       "       n  missing distinct \n",
       "    1469        3      155 \n",
       "\n",
       "lowest : 1.7  10.0 10.1 10.2 10.3, highest: 9.5  9.6  9.7  9.8  9.9 \n",
       "--------------------------------------------------------------------------------\n",
       "\n",
       "Variables with all observations missing:\n",
       "\n",
       "[1] Depart   SnowFall"
      ]
     },
     "metadata": {},
     "output_type": "display_data"
    }
   ],
   "source": [
    "describe(wea2)"
   ]
  },
  {
   "cell_type": "code",
   "execution_count": 107,
   "metadata": {},
   "outputs": [],
   "source": [
    "colnames(wea2) <- c(\"Station2\", \"Date2\",\"Tmax2\", \"Tmin2\",\"Tavg2\",\"DewPoint2\",\"WetBulb2\",\"Heat2\",\"Cool2\",\"CodeSum2\",\"PrecipTotal2\",\"StnPressure2\",\"SeaLevel2\",\"ResultSpeed2\",\"ResultDir2\",\"AvgSpeed2\")\n"
   ]
  },
  {
   "cell_type": "code",
   "execution_count": 108,
   "metadata": {},
   "outputs": [
    {
     "data": {
      "text/plain": [
       " Station2     Date2                Tmax2            Tmin2           Tavg2      \n",
       " 1:   0   Min.   :2007-05-01   Min.   : 41.00   Min.   :29.00   Min.   : 1.00  \n",
       " 2:1472   1st Qu.:2009-03-16   1st Qu.: 69.00   1st Qu.:51.00   1st Qu.:26.00  \n",
       "          Median :2011-01-30   Median : 78.00   Median :60.00   Median :35.00  \n",
       "          Mean   :2011-01-30   Mean   : 76.35   Mean   :58.89   Mean   :32.88  \n",
       "          3rd Qu.:2012-12-15   3rd Qu.: 85.00   3rd Qu.:67.00   3rd Qu.:41.00  \n",
       "          Max.   :2014-10-31   Max.   :104.00   Max.   :83.00   Max.   :59.00  \n",
       "                                                                NA's   :11     \n",
       "   DewPoint2        WetBulb2         Heat2            Cool2      \n",
       " Min.   :23.00   Min.   : 2.00   Min.   : 1.000   Min.   : 1.00  \n",
       " 1st Qu.:46.00   1st Qu.:22.00   1st Qu.: 1.000   1st Qu.: 1.00  \n",
       " Median :55.00   Median :30.00   Median : 1.000   Median : 6.00  \n",
       " Mean   :53.54   Mean   :28.59   Mean   : 6.091   Mean   : 7.06  \n",
       " 3rd Qu.:62.00   3rd Qu.:36.00   3rd Qu.: 7.000   3rd Qu.:12.00  \n",
       " Max.   :74.00   Max.   :46.00   Max.   :30.000   Max.   :30.00  \n",
       "                 NA's   :1       NA's   :11       NA's   :11     \n",
       "       CodeSum2    PrecipTotal2     StnPressure2    SeaLevel2   \n",
       "           :804   Min.   :0.0000   29.34  :  68   30.00  :  48  \n",
       " RA        :135   1st Qu.:0.0000   29.41  :  62   29.94  :  47  \n",
       " RA BR     :110   Median :0.0000   29.26  :  61   30.05  :  47  \n",
       " BR HZ     : 51   Mean   :0.1281   29.28  :  57   29.92  :  45  \n",
       " BR        : 44   3rd Qu.:0.0500   29.31  :  53   29.97  :  41  \n",
       " TSRA RA BR: 44   Max.   :4.7300   (Other):1169   (Other):1240  \n",
       " (Other)   :284   NA's   :2        NA's   :   2   NA's   :   4  \n",
       "  ResultSpeed2      ResultDir2      AvgSpeed2   \n",
       " Min.   : 0.300   Min.   : 1.00   6.9    :  28  \n",
       " 1st Qu.: 4.275   1st Qu.: 8.00   5.8    :  27  \n",
       " Median : 6.500   Median :19.00   7.7    :  27  \n",
       " Mean   : 6.934   Mean   :17.33   7.4    :  26  \n",
       " 3rd Qu.: 9.225   3rd Qu.:24.00   7.0    :  25  \n",
       " Max.   :21.700   Max.   :36.00   (Other):1336  \n",
       "                                  NA's   :   3  "
      ]
     },
     "metadata": {},
     "output_type": "display_data"
    }
   ],
   "source": [
    "summary(wea2)"
   ]
  },
  {
   "cell_type": "code",
   "execution_count": 102,
   "metadata": {},
   "outputs": [],
   "source": [
    "wea2[\"Depart\"] <- NULL\n",
    "wea2[\"SnowFall\"] <- NULL\n",
    "wea2[\"Sunrise\"] <- NULL\n",
    "wea2[\"Sunset\"] <- NULL"
   ]
  },
  {
   "cell_type": "code",
   "execution_count": 103,
   "metadata": {},
   "outputs": [
    {
     "name": "stdout",
     "output_type": "stream",
     "text": [
      "'data.frame':\t1472 obs. of  16 variables:\n",
      " $ Station    : Factor w/ 2 levels \"1\",\"2\": 2 2 2 2 2 2 2 2 2 2 ...\n",
      " $ Date       : Date, format: \"2007-05-01\" \"2007-05-02\" ...\n",
      " $ Tmax       : int  84 60 67 78 66 68 84 80 76 83 ...\n",
      " $ Tmin       : int  52 43 48 51 54 52 50 60 63 59 ...\n",
      " $ Tavg       : num  33 17 23 NA 25 25 32 35 35 36 ...\n",
      " $ DewPoint   : int  51 42 40 42 39 30 39 57 60 52 ...\n",
      " $ WetBulb    : num  26 16 19 19 19 15 22 32 32 30 ...\n",
      " $ Heat       : num  1 6 28 NA 26 26 1 1 1 1 ...\n",
      " $ Cool       : num  4 1 1 NA 1 1 3 6 6 7 ...\n",
      " $ CodeSum    : Factor w/ 98 levels \" \",\"BCFG BR\",..: 1 4 20 1 1 1 1 20 4 4 ...\n",
      " $ PrecipTotal: num  0 0 0 0 0 0 0 0 0.02 0 ...\n",
      " $ StnPressure: Factor w/ 104 levels \"28.55\",\"28.59\",..: 49 75 77 67 77 93 75 67 59 57 ...\n",
      " $ SeaLevel   : Factor w/ 102 levels \"29.23\",\"29.25\",..: 40 66 70 62 67 86 70 60 51 49 ...\n",
      " $ ResultSpeed: num  2.7 13.3 12.9 10.1 11.2 13.8 8.5 2.5 3.9 2 ...\n",
      " $ ResultDir  : int  25 2 6 7 7 10 17 8 7 9 ...\n",
      " $ AvgSpeed   : Factor w/ 178 levels \"1.7\",\"1.9\",\"10.0\",..: 174 37 35 7 18 48 177 132 137 117 ...\n"
     ]
    }
   ],
   "source": [
    "str(wea2)"
   ]
  },
  {
   "cell_type": "code",
   "execution_count": 104,
   "metadata": {},
   "outputs": [
    {
     "name": "stdout",
     "output_type": "stream",
     "text": [
      "'data.frame':\t1472 obs. of  20 variables:\n",
      " $ Station    : Factor w/ 2 levels \"1\",\"2\": 1 1 1 1 1 1 1 1 1 1 ...\n",
      " $ Date       : Date, format: \"2007-05-01\" \"2007-05-02\" ...\n",
      " $ Tmax       : int  83 59 66 66 66 68 83 82 77 84 ...\n",
      " $ Tmin       : int  50 42 46 49 53 49 47 54 61 56 ...\n",
      " $ Tavg       : num  32 16 21 23 25 24 30 33 34 35 ...\n",
      " $ Depart     : num  32 11 20 22 23 22 28 30 31 32 ...\n",
      " $ DewPoint   : int  51 42 40 41 38 30 41 58 59 52 ...\n",
      " $ WetBulb    : num  25 16 17 19 18 15 23 31 32 29 ...\n",
      " $ Heat       : num  1 7 30 28 26 27 1 1 1 1 ...\n",
      " $ Cool       : num  3 1 1 1 1 1 1 4 5 6 ...\n",
      " $ Sunrise    : chr  \"0448\" \"0447\" \"0446\" \"0444\" ...\n",
      " $ Sunset     : chr  \"1849\" \"1850\" \"1851\" \"1852\" ...\n",
      " $ CodeSum    : Factor w/ 98 levels \" \",\"BCFG BR\",..: 1 3 1 24 1 1 24 3 4 3 ...\n",
      " $ SnowFall   : num  0 0 0 0 0 0 0 0 0 0 ...\n",
      " $ PrecipTotal: num  0 0 0 0 0 0 0 0 0.13 0 ...\n",
      " $ StnPressure: Factor w/ 104 levels \"28.55\",\"28.59\",..: 41 69 70 62 71 88 69 60 52 51 ...\n",
      " $ SeaLevel   : Factor w/ 102 levels \"29.23\",\"29.25\",..: 40 67 70 63 68 87 70 61 52 50 ...\n",
      " $ ResultSpeed: num  1.7 13 11.7 10.4 11.7 14.4 8.6 2.7 3.9 0.7 ...\n",
      " $ ResultDir  : int  27 4 7 8 7 11 18 11 9 17 ...\n",
      " $ AvgSpeed   : Factor w/ 178 levels \"1.7\",\"1.9\",\"10.0\",..: 170 37 22 11 23 53 8 136 140 119 ...\n"
     ]
    }
   ],
   "source": [
    "str(wea1)"
   ]
  },
  {
   "cell_type": "code",
   "execution_count": 109,
   "metadata": {},
   "outputs": [],
   "source": [
    "write.csv(wea2, file=\"C:/Users/Chen/Project/data/wea2.csv\", row.names =F) #weater station 2"
   ]
  },
  {
   "cell_type": "code",
   "execution_count": 110,
   "metadata": {},
   "outputs": [],
   "source": [
    "write.csv(wea1, file=\"C:/Users/Chen/Project/data/wea1.csv\", row.names =F) #weater station 1"
   ]
  },
  {
   "cell_type": "code",
   "execution_count": null,
   "metadata": {},
   "outputs": [],
   "source": []
  }
 ],
 "metadata": {
  "kernelspec": {
   "display_name": "R",
   "language": "R",
   "name": "ir"
  },
  "language_info": {
   "codemirror_mode": "r",
   "file_extension": ".r",
   "mimetype": "text/x-r-source",
   "name": "R",
   "pygments_lexer": "r",
   "version": "3.5.1"
  }
 },
 "nbformat": 4,
 "nbformat_minor": 2
}
